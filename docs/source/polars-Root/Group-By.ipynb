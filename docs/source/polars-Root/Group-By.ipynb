{
 "cells": [
  {
   "cell_type": "markdown",
   "source": [
    "# Group By in Polars"
   ],
   "metadata": {
    "collapsed": false,
    "pycharm": {
     "name": "#%% md\n"
    }
   }
  },
  {
   "cell_type": "code",
   "execution_count": 1,
   "outputs": [],
   "source": [
    "import polars as pl"
   ],
   "metadata": {
    "collapsed": false,
    "pycharm": {
     "name": "#%%\n"
    }
   }
  },
  {
   "cell_type": "markdown",
   "source": [
    "# Built in Aggregation Function"
   ],
   "metadata": {
    "collapsed": false,
    "pycharm": {
     "name": "#%% md\n"
    }
   }
  },
  {
   "cell_type": "code",
   "execution_count": 18,
   "outputs": [
    {
     "data": {
      "text/plain": "shape: (2, 2)\n┌─────┬───────┐\n│ key ┆ value │\n│ --- ┆ ---   │\n│ str ┆ i64   │\n╞═════╪═══════╡\n│ a   ┆ 4     │\n├╌╌╌╌╌┼╌╌╌╌╌╌╌┤\n│ b   ┆ 6     │\n└─────┴───────┘",
      "text/html": "<div>\n<style scoped>\n    .dataframe tbody tr th:only-of-type {\n        vertical-align: middle;\n    }\n\n    .dataframe tbody tr th {\n        vertical-align: top;\n    }\n\n    .dataframe thead th {\n        text-align: right;\n    }\n\n    .dataframe td {\n        white-space: pre;\n    }\n\n    .dataframe td {\n        padding-top: 0;\n    }\n\n    .dataframe td {\n        padding-bottom: 0;\n    }\n\n    .dataframe td {\n        line-height: 95%;\n    }\n</style>\n<table border=\"1\" class=\"dataframe\" >\n<small>shape: (2, 2)</small>\n<thead>\n<tr>\n<th>\nkey\n</th>\n<th>\nvalue\n</th>\n</tr>\n<tr>\n<td>\nstr\n</td>\n<td>\ni64\n</td>\n</tr>\n</thead>\n<tbody>\n<tr>\n<td>\n\"a\"\n</td>\n<td>\n4\n</td>\n</tr>\n<tr>\n<td>\n\"b\"\n</td>\n<td>\n6\n</td>\n</tr>\n</tbody>\n</table>\n</div>"
     },
     "execution_count": 18,
     "metadata": {},
     "output_type": "execute_result"
    }
   ],
   "source": [
    "df = pl.DataFrame(\n",
    "    [\n",
    "        (\"a\", 1),\n",
    "        (\"a\", 4),\n",
    "        (\"a\", 7),\n",
    "        (\"b\", 3),\n",
    "        (\"b\", 6),\n",
    "        (\"b\", 9),\n",
    "    ],\n",
    "    columns=[\"key\", \"value\"],\n",
    ")\n",
    "\n",
    "(\n",
    "    df.groupby(\n",
    "        by=\"key\",\n",
    "        maintain_order=True,\n",
    "    )\n",
    "    .agg([\n",
    "        pl.min(\"value\").alias(\"min_value\"),\n",
    "        pl.max(\"value\").alias(\"max_value\"),\n",
    "        (pl.min(\"value\") + pl.max(\"value\")).alias(\"min_plus_max_value\"),\n",
    "    ])\n",
    ")"
   ],
   "metadata": {
    "collapsed": false,
    "pycharm": {
     "name": "#%%\n"
    }
   }
  },
  {
   "cell_type": "markdown",
   "source": [
    "# Custom Aggregation Function"
   ],
   "metadata": {
    "collapsed": false,
    "pycharm": {
     "name": "#%% md\n"
    }
   }
  },
  {
   "cell_type": "code",
   "execution_count": 23,
   "outputs": [
    {
     "data": {
      "text/plain": "shape: (2, 2)\n┌─────┬───────┐\n│ key ┆ value │\n│ --- ┆ ---   │\n│ str ┆ i64   │\n╞═════╪═══════╡\n│ a   ┆ 4     │\n├╌╌╌╌╌┼╌╌╌╌╌╌╌┤\n│ b   ┆ 6     │\n└─────┴───────┘",
      "text/html": "<div>\n<style scoped>\n    .dataframe tbody tr th:only-of-type {\n        vertical-align: middle;\n    }\n\n    .dataframe tbody tr th {\n        vertical-align: top;\n    }\n\n    .dataframe thead th {\n        text-align: right;\n    }\n\n    .dataframe td {\n        white-space: pre;\n    }\n\n    .dataframe td {\n        padding-top: 0;\n    }\n\n    .dataframe td {\n        padding-bottom: 0;\n    }\n\n    .dataframe td {\n        line-height: 95%;\n    }\n</style>\n<table border=\"1\" class=\"dataframe\" >\n<small>shape: (2, 2)</small>\n<thead>\n<tr>\n<th>\nkey\n</th>\n<th>\nvalue\n</th>\n</tr>\n<tr>\n<td>\nstr\n</td>\n<td>\ni64\n</td>\n</tr>\n</thead>\n<tbody>\n<tr>\n<td>\n\"a\"\n</td>\n<td>\n4\n</td>\n</tr>\n<tr>\n<td>\n\"b\"\n</td>\n<td>\n6\n</td>\n</tr>\n</tbody>\n</table>\n</div>"
     },
     "execution_count": 23,
     "metadata": {},
     "output_type": "execute_result"
    }
   ],
   "source": [
    "df = pl.DataFrame(\n",
    "    [\n",
    "        (\"a\", 1),\n",
    "        (\"a\", 4),\n",
    "        (\"a\", 7),\n",
    "        (\"b\", 3),\n",
    "        (\"b\", 6),\n",
    "        (\"b\", 9),\n",
    "    ],\n",
    "    columns=[\"key\", \"value\"],\n",
    ")\n",
    "\n",
    "def func(series: pl.Series):\n",
    "    return series[1]\n",
    "\n",
    "(\n",
    "    df.groupby(\n",
    "        by=\"key\",\n",
    "        maintain_order=True,\n",
    "    )\n",
    "    .agg([\n",
    "        pl.col(\"value\").apply(func)\n",
    "    ])\n",
    ")"
   ],
   "metadata": {
    "collapsed": false,
    "pycharm": {
     "name": "#%%\n"
    }
   }
  },
  {
   "cell_type": "code",
   "execution_count": null,
   "outputs": [],
   "source": [],
   "metadata": {
    "collapsed": false,
    "pycharm": {
     "name": "#%%\n"
    }
   }
  }
 ],
 "metadata": {
  "kernelspec": {
   "display_name": "Python 3",
   "language": "python",
   "name": "python3"
  },
  "language_info": {
   "codemirror_mode": {
    "name": "ipython",
    "version": 2
   },
   "file_extension": ".py",
   "mimetype": "text/x-python",
   "name": "python",
   "nbconvert_exporter": "python",
   "pygments_lexer": "ipython2",
   "version": "2.7.6"
  }
 },
 "nbformat": 4,
 "nbformat_minor": 0
}
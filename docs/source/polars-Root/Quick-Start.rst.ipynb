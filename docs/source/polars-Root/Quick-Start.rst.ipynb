{
 "cells": [
  {
   "cell_type": "markdown",
   "source": [
    "# Polars Quick Start\n",
    "\n",
    "- [User Guide](https://pola-rs.github.io/polars-book/user-guide/index.html)\n",
    "- [API Reference](https://pola-rs.github.io/polars/py-polars/html/reference/functions.html)"
   ],
   "metadata": {
    "collapsed": false,
    "pycharm": {
     "name": "#%% md\n"
    }
   }
  },
  {
   "cell_type": "markdown",
   "source": [
    "## Polars DataFrame\n",
    "\n",
    "Polars 的核心 API 和 Pandas 类似, 也是 DataFrame. 与 Pandas 相比有这么几点不同:\n",
    "\n",
    "1. Polars 没有 index, 所有的 row 只有从 0, 1 开始的自然 index.\n",
    "2. 在内存中 Polars 使用基于连续内存的 Arrow arrays, 而 Pandas 使用的是 Numpy Array. 简单来说 Arrow 是更新的标准, 读取数据更快, 内存更紧凑, 使用内存更少.\n",
    "3. Polars 对利用多个 CPU 进行并行计算的支持比 Pandas 更好.\n",
    "4. Polars 支持 Lazy Evaluation, 也就是你对数据的操作会先被标记而不是真正被执行, 当你定义好了一系列操作以后, 最后调用会触发 Evaluation 的 API (例如 collect) 时计算才会被真正执行. 这样可以对操作进行预优化.\n",
    "\n",
    "参考资料:\n",
    "\n",
    "- [Coming from pandas](https://pola-rs.github.io/polars-book/user-guide/coming_from_pandas.html)\n"
   ],
   "metadata": {
    "collapsed": false,
    "pycharm": {
     "name": "#%% md\n"
    }
   }
  },
  {
   "cell_type": "code",
   "execution_count": 2,
   "outputs": [],
   "source": [
    "import polars as pl"
   ],
   "metadata": {
    "collapsed": false,
    "pycharm": {
     "name": "#%%\n"
    }
   }
  },
  {
   "cell_type": "code",
   "execution_count": 3,
   "outputs": [
    {
     "data": {
      "text/plain": "'0.13.59'"
     },
     "execution_count": 3,
     "metadata": {},
     "output_type": "execute_result"
    }
   ],
   "source": [
    "pl.__version__"
   ],
   "metadata": {
    "collapsed": false,
    "pycharm": {
     "name": "#%%\n"
    }
   }
  },
  {
   "cell_type": "markdown",
   "source": [
    "## Create DataFrame"
   ],
   "metadata": {
    "collapsed": false,
    "pycharm": {
     "name": "#%% md\n"
    }
   }
  },
  {
   "cell_type": "code",
   "execution_count": 6,
   "outputs": [
    {
     "data": {
      "text/plain": "shape: (3, 2)\n┌─────┬───────┐\n│ id  ┆ value │\n│ --- ┆ ---   │\n│ str ┆ i64   │\n╞═════╪═══════╡\n│ a   ┆ 1     │\n├╌╌╌╌╌┼╌╌╌╌╌╌╌┤\n│ b   ┆ 2     │\n├╌╌╌╌╌┼╌╌╌╌╌╌╌┤\n│ c   ┆ 3     │\n└─────┴───────┘",
      "text/html": "<div>\n<style scoped>\n    .dataframe tbody tr th:only-of-type {\n        vertical-align: middle;\n    }\n\n    .dataframe tbody tr th {\n        vertical-align: top;\n    }\n\n    .dataframe thead th {\n        text-align: right;\n    }\n\n    .dataframe td {\n        white-space: pre;\n    }\n\n    .dataframe td {\n        padding-top: 0;\n    }\n\n    .dataframe td {\n        padding-bottom: 0;\n    }\n\n    .dataframe td {\n        line-height: 95%;\n    }\n</style>\n<table border=\"1\" class=\"dataframe\" >\n<small>shape: (3, 2)</small>\n<thead>\n<tr>\n<th>\nid\n</th>\n<th>\nvalue\n</th>\n</tr>\n<tr>\n<td>\nstr\n</td>\n<td>\ni64\n</td>\n</tr>\n</thead>\n<tbody>\n<tr>\n<td>\n\"a\"\n</td>\n<td>\n1\n</td>\n</tr>\n<tr>\n<td>\n\"b\"\n</td>\n<td>\n2\n</td>\n</tr>\n<tr>\n<td>\n\"c\"\n</td>\n<td>\n3\n</td>\n</tr>\n</tbody>\n</table>\n</div>"
     },
     "execution_count": 6,
     "metadata": {},
     "output_type": "execute_result"
    }
   ],
   "source": [
    "df = pl.DataFrame({\n",
    "    \"id\": [\"a\", \"b\", \"c\"],\n",
    "    \"value\": [1, 2, 3],\n",
    "})\n",
    "df"
   ],
   "metadata": {
    "collapsed": false,
    "pycharm": {
     "name": "#%%\n"
    }
   }
  },
  {
   "cell_type": "code",
   "execution_count": 10,
   "outputs": [
    {
     "data": {
      "text/plain": "shape: (3, 2)\n┌─────┬───────┐\n│ id  ┆ value │\n│ --- ┆ ---   │\n│ str ┆ i64   │\n╞═════╪═══════╡\n│ i   ┆ 1     │\n├╌╌╌╌╌┼╌╌╌╌╌╌╌┤\n│ j   ┆ 2     │\n├╌╌╌╌╌┼╌╌╌╌╌╌╌┤\n│ k   ┆ 3     │\n└─────┴───────┘",
      "text/html": "<div>\n<style scoped>\n    .dataframe tbody tr th:only-of-type {\n        vertical-align: middle;\n    }\n\n    .dataframe tbody tr th {\n        vertical-align: top;\n    }\n\n    .dataframe thead th {\n        text-align: right;\n    }\n\n    .dataframe td {\n        white-space: pre;\n    }\n\n    .dataframe td {\n        padding-top: 0;\n    }\n\n    .dataframe td {\n        padding-bottom: 0;\n    }\n\n    .dataframe td {\n        line-height: 95%;\n    }\n</style>\n<table border=\"1\" class=\"dataframe\" >\n<small>shape: (3, 2)</small>\n<thead>\n<tr>\n<th>\nid\n</th>\n<th>\nvalue\n</th>\n</tr>\n<tr>\n<td>\nstr\n</td>\n<td>\ni64\n</td>\n</tr>\n</thead>\n<tbody>\n<tr>\n<td>\n\"i\"\n</td>\n<td>\n1\n</td>\n</tr>\n<tr>\n<td>\n\"j\"\n</td>\n<td>\n2\n</td>\n</tr>\n<tr>\n<td>\n\"k\"\n</td>\n<td>\n3\n</td>\n</tr>\n</tbody>\n</table>\n</div>"
     },
     "execution_count": 10,
     "metadata": {},
     "output_type": "execute_result"
    }
   ],
   "source": [
    "df = pl.DataFrame([\n",
    "    {\"id\": \"i\", \"value\": 1},\n",
    "    {\"id\": \"j\", \"value\": 2},\n",
    "    {\"id\": \"k\", \"value\": 3},\n",
    "])\n",
    "df"
   ],
   "metadata": {
    "collapsed": false,
    "pycharm": {
     "name": "#%%\n"
    }
   }
  },
  {
   "cell_type": "code",
   "execution_count": 11,
   "outputs": [
    {
     "data": {
      "text/plain": "shape: (3, 2)\n┌─────┬───────┐\n│ id  ┆ value │\n│ --- ┆ ---   │\n│ str ┆ i64   │\n╞═════╪═══════╡\n│ x   ┆ 1     │\n├╌╌╌╌╌┼╌╌╌╌╌╌╌┤\n│ y   ┆ 2     │\n├╌╌╌╌╌┼╌╌╌╌╌╌╌┤\n│ z   ┆ 3     │\n└─────┴───────┘",
      "text/html": "<div>\n<style scoped>\n    .dataframe tbody tr th:only-of-type {\n        vertical-align: middle;\n    }\n\n    .dataframe tbody tr th {\n        vertical-align: top;\n    }\n\n    .dataframe thead th {\n        text-align: right;\n    }\n\n    .dataframe td {\n        white-space: pre;\n    }\n\n    .dataframe td {\n        padding-top: 0;\n    }\n\n    .dataframe td {\n        padding-bottom: 0;\n    }\n\n    .dataframe td {\n        line-height: 95%;\n    }\n</style>\n<table border=\"1\" class=\"dataframe\" >\n<small>shape: (3, 2)</small>\n<thead>\n<tr>\n<th>\nid\n</th>\n<th>\nvalue\n</th>\n</tr>\n<tr>\n<td>\nstr\n</td>\n<td>\ni64\n</td>\n</tr>\n</thead>\n<tbody>\n<tr>\n<td>\n\"x\"\n</td>\n<td>\n1\n</td>\n</tr>\n<tr>\n<td>\n\"y\"\n</td>\n<td>\n2\n</td>\n</tr>\n<tr>\n<td>\n\"z\"\n</td>\n<td>\n3\n</td>\n</tr>\n</tbody>\n</table>\n</div>"
     },
     "execution_count": 11,
     "metadata": {},
     "output_type": "execute_result"
    }
   ],
   "source": [
    "df = pl.DataFrame(\n",
    "    [\n",
    "        (\"x\", 1),\n",
    "        (\"y\", 2),\n",
    "        (\"z\", 3),\n",
    "    ],\n",
    "    columns=[\"id\", \"value\"],\n",
    ")\n",
    "df"
   ],
   "metadata": {
    "collapsed": false,
    "pycharm": {
     "name": "#%%\n"
    }
   }
  },
  {
   "cell_type": "markdown",
   "source": [
    "## Iterate on Rows\n",
    "\n",
    "Polars 是列式存储. 虽然它支持根据行遍历, 但是这样无法利用多核并行以及优化. 可以做但是不推荐.\n",
    "\n",
    "Reference:\n",
    "\n",
    "- [List context and Row wise computations](https://pola-rs.github.io/polars-book/user-guide/dsl/list_context.html)"
   ],
   "metadata": {
    "collapsed": false,
    "pycharm": {
     "name": "#%% md\n"
    }
   }
  },
  {
   "cell_type": "code",
   "execution_count": 25,
   "outputs": [
    {
     "name": "stdout",
     "output_type": "stream",
     "text": [
      "('x', 1)\n",
      "('y', 2)\n",
      "('z', 3)\n"
     ]
    }
   ],
   "source": [
    "# 用 df.rows() 方法返回 list of tuple\n",
    "for row in df.rows():\n",
    "    print(row)"
   ],
   "metadata": {
    "collapsed": false,
    "pycharm": {
     "name": "#%%\n"
    }
   }
  },
  {
   "cell_type": "code",
   "execution_count": 27,
   "outputs": [
    {
     "data": {
      "text/plain": "('y', 2)"
     },
     "execution_count": 27,
     "metadata": {},
     "output_type": "execute_result"
    }
   ],
   "source": [
    "# 用 df.row() 方法根据 index 访问 row tuple\n",
    "df.row(1)"
   ],
   "metadata": {
    "collapsed": false,
    "pycharm": {
     "name": "#%%\n"
    }
   }
  },
  {
   "cell_type": "markdown",
   "source": [
    "## Iterator on Column\n",
    "\n",
    "在 Polars 中 Column 的数据结构叫做 Series, 代表的是一系列数据类型一致的数组, 且没有 index. Pandas 中也有 Series 的概念, 不过 Pandas 中的 Series 类似于 Dictionary, 是一个 key, value pair, 也并没有要求 value 的数据类型需要一致."
   ],
   "metadata": {
    "collapsed": false,
    "pycharm": {
     "name": "#%% md\n"
    }
   }
  },
  {
   "cell_type": "code",
   "execution_count": 28,
   "outputs": [
    {
     "data": {
      "text/plain": "['id', 'value']"
     },
     "execution_count": 28,
     "metadata": {},
     "output_type": "execute_result"
    }
   ],
   "source": [
    "df.columns"
   ],
   "metadata": {
    "collapsed": false,
    "pycharm": {
     "name": "#%%\n"
    }
   }
  },
  {
   "cell_type": "code",
   "execution_count": 29,
   "outputs": [
    {
     "data": {
      "text/plain": "shape: (3,)\nSeries: 'id' [str]\n[\n\t\"x\"\n\t\"y\"\n\t\"z\"\n]"
     },
     "execution_count": 29,
     "metadata": {},
     "output_type": "execute_result"
    }
   ],
   "source": [
    "df[\"id\"]"
   ],
   "metadata": {
    "collapsed": false,
    "pycharm": {
     "name": "#%%\n"
    }
   }
  },
  {
   "cell_type": "code",
   "execution_count": 30,
   "outputs": [
    {
     "data": {
      "text/plain": "['x', 'y', 'z']"
     },
     "execution_count": 30,
     "metadata": {},
     "output_type": "execute_result"
    }
   ],
   "source": [
    "df[\"id\"].to_list()"
   ],
   "metadata": {
    "collapsed": false,
    "pycharm": {
     "name": "#%%\n"
    }
   }
  },
  {
   "cell_type": "code",
   "execution_count": 31,
   "outputs": [
    {
     "name": "stdout",
     "output_type": "stream",
     "text": [
      "x\n",
      "y\n",
      "z\n"
     ]
    }
   ],
   "source": [
    "for id in df[\"id\"]:\n",
    "    print(id)"
   ],
   "metadata": {
    "collapsed": false,
    "pycharm": {
     "name": "#%%\n"
    }
   }
  },
  {
   "cell_type": "code",
   "execution_count": 33,
   "outputs": [
    {
     "name": "stdout",
     "output_type": "stream",
     "text": [
      "shape: (3,)\n",
      "Series: 'id' [str]\n",
      "[\n",
      "\t\"x\"\n",
      "\t\"y\"\n",
      "\t\"z\"\n",
      "]\n",
      "shape: (3,)\n",
      "Series: 'value' [i64]\n",
      "[\n",
      "\t1\n",
      "\t2\n",
      "\t3\n",
      "]\n"
     ]
    }
   ],
   "source": [
    "for series in df:\n",
    "    print(series)"
   ],
   "metadata": {
    "collapsed": false,
    "pycharm": {
     "name": "#%%\n"
    }
   }
  },
  {
   "cell_type": "code",
   "execution_count": null,
   "outputs": [],
   "source": [],
   "metadata": {
    "collapsed": false,
    "pycharm": {
     "name": "#%%\n"
    }
   }
  }
 ],
 "metadata": {
  "kernelspec": {
   "display_name": "Python 3",
   "language": "python",
   "name": "python3"
  },
  "language_info": {
   "codemirror_mode": {
    "name": "ipython",
    "version": 2
   },
   "file_extension": ".py",
   "mimetype": "text/x-python",
   "name": "python",
   "nbconvert_exporter": "python",
   "pygments_lexer": "ipython2",
   "version": "2.7.6"
  }
 },
 "nbformat": 4,
 "nbformat_minor": 0
}
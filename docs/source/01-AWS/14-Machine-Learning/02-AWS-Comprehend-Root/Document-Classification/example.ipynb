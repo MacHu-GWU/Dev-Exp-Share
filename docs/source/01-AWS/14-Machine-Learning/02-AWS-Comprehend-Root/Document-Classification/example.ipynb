{
 "cells": [
  {
   "cell_type": "code",
   "execution_count": 8,
   "outputs": [
    {
     "name": "stdout",
     "output_type": "stream",
     "text": [
      "preview s3dir_docs: https://console.aws.amazon.com/s3/buckets/aws-data-lab-sanhe-for-everything?prefix=poc/2022-11-17-travelers-build-lab/document-classification/docs/\n"
     ]
    }
   ],
   "source": [
    "import os\n",
    "from s3pathlib import S3Path, context\n",
    "from pathlib_mate import Path\n",
    "from boto_session_manager import BotoSesManager, AwsServiceEnum\n",
    "\n",
    "bsm = BotoSesManager(profile_name=\"aws_data_lab_sanhe_us_east_1\")\n",
    "context.attach_boto_session(bsm.boto_ses)\n",
    "\n",
    "dir_here = Path(os.getcwd())\n",
    "dir_docs = dir_here / \"docs\"\n",
    "\n",
    "s3dir_root = S3Path.from_s3_uri(\"s3://aws-data-lab-sanhe-for-everything/poc/2022-11-17-travelers-build-lab/document-classification/\").to_dir()\n",
    "s3dir_docs = s3dir_root.joinpath(\"docs\").to_dir()\n",
    "\n",
    "print(f\"preview s3dir_docs: {s3dir_docs.console_url}\")"
   ],
   "metadata": {
    "collapsed": false,
    "pycharm": {
     "name": "#%%\n"
    }
   }
  },
  {
   "cell_type": "code",
   "execution_count": 6,
   "outputs": [
    {
     "ename": "FileNotFoundError",
     "evalue": "",
     "output_type": "error",
     "traceback": [
      "\u001B[0;31m---------------------------------------------------------------------------\u001B[0m",
      "\u001B[0;31mFileNotFoundError\u001B[0m                         Traceback (most recent call last)",
      "Input \u001B[0;32mIn [6]\u001B[0m, in \u001B[0;36m<cell line: 1>\u001B[0;34m()\u001B[0m\n\u001B[0;32m----> 1\u001B[0m \u001B[43ms3dir_docs\u001B[49m\u001B[38;5;241;43m.\u001B[39;49m\u001B[43mupload_dir\u001B[49m\u001B[43m(\u001B[49m\u001B[43mdir_docs\u001B[49m\u001B[38;5;241;43m.\u001B[39;49m\u001B[43mabspath\u001B[49m\u001B[43m,\u001B[49m\u001B[43m \u001B[49m\u001B[43moverwrite\u001B[49m\u001B[38;5;241;43m=\u001B[39;49m\u001B[38;5;28;43;01mTrue\u001B[39;49;00m\u001B[43m)\u001B[49m\n",
      "File \u001B[0;32m~/venvs/python/3.8.11/dev_exp_share_venv/lib/python3.8/site-packages/s3pathlib/core.py:1840\u001B[0m, in \u001B[0;36mS3Path.upload_dir\u001B[0;34m(self, local_dir, pattern, overwrite, bsm)\u001B[0m\n\u001B[1;32m   1838\u001B[0m \u001B[38;5;28mself\u001B[39m\u001B[38;5;241m.\u001B[39mensure_dir()\n\u001B[1;32m   1839\u001B[0m s3_client \u001B[38;5;241m=\u001B[39m _resolve_s3_client(context, bsm)\n\u001B[0;32m-> 1840\u001B[0m \u001B[38;5;28;01mreturn\u001B[39;00m \u001B[43mutils\u001B[49m\u001B[38;5;241;43m.\u001B[39;49m\u001B[43mupload_dir\u001B[49m\u001B[43m(\u001B[49m\n\u001B[1;32m   1841\u001B[0m \u001B[43m    \u001B[49m\u001B[43ms3_client\u001B[49m\u001B[38;5;241;43m=\u001B[39;49m\u001B[43ms3_client\u001B[49m\u001B[43m,\u001B[49m\n\u001B[1;32m   1842\u001B[0m \u001B[43m    \u001B[49m\u001B[43mbucket\u001B[49m\u001B[38;5;241;43m=\u001B[39;49m\u001B[38;5;28;43mself\u001B[39;49m\u001B[38;5;241;43m.\u001B[39;49m\u001B[43mbucket\u001B[49m\u001B[43m,\u001B[49m\n\u001B[1;32m   1843\u001B[0m \u001B[43m    \u001B[49m\u001B[43mprefix\u001B[49m\u001B[38;5;241;43m=\u001B[39;49m\u001B[38;5;28;43mself\u001B[39;49m\u001B[38;5;241;43m.\u001B[39;49m\u001B[43mkey\u001B[49m\u001B[43m,\u001B[49m\n\u001B[1;32m   1844\u001B[0m \u001B[43m    \u001B[49m\u001B[43mlocal_dir\u001B[49m\u001B[38;5;241;43m=\u001B[39;49m\u001B[43mlocal_dir\u001B[49m\u001B[43m,\u001B[49m\n\u001B[1;32m   1845\u001B[0m \u001B[43m    \u001B[49m\u001B[43mpattern\u001B[49m\u001B[38;5;241;43m=\u001B[39;49m\u001B[43mpattern\u001B[49m\u001B[43m,\u001B[49m\n\u001B[1;32m   1846\u001B[0m \u001B[43m    \u001B[49m\u001B[43moverwrite\u001B[49m\u001B[38;5;241;43m=\u001B[39;49m\u001B[43moverwrite\u001B[49m\u001B[43m,\u001B[49m\n\u001B[1;32m   1847\u001B[0m \u001B[43m\u001B[49m\u001B[43m)\u001B[49m\n",
      "File \u001B[0;32m~/venvs/python/3.8.11/dev_exp_share_venv/lib/python3.8/site-packages/s3pathlib/utils.py:565\u001B[0m, in \u001B[0;36mupload_dir\u001B[0;34m(s3_client, bucket, prefix, local_dir, pattern, overwrite)\u001B[0m\n\u001B[1;32m    562\u001B[0m     \u001B[38;5;28;01mraise\u001B[39;00m \u001B[38;5;167;01mTypeError\u001B[39;00m\n\u001B[1;32m    564\u001B[0m \u001B[38;5;28;01mif\u001B[39;00m p_local_dir\u001B[38;5;241m.\u001B[39mexists() \u001B[38;5;129;01mis\u001B[39;00m \u001B[38;5;28;01mFalse\u001B[39;00m:  \u001B[38;5;66;03m# pragma: no cover\u001B[39;00m\n\u001B[0;32m--> 565\u001B[0m     \u001B[38;5;28;01mraise\u001B[39;00m \u001B[38;5;167;01mFileNotFoundError\u001B[39;00m\n\u001B[1;32m    567\u001B[0m \u001B[38;5;28;01mif\u001B[39;00m \u001B[38;5;28mlen\u001B[39m(prefix):\n\u001B[1;32m    568\u001B[0m     final_prefix \u001B[38;5;241m=\u001B[39m \u001B[38;5;124mf\u001B[39m\u001B[38;5;124m\"\u001B[39m\u001B[38;5;132;01m{\u001B[39;00mprefix\u001B[38;5;132;01m}\u001B[39;00m\u001B[38;5;124m/\u001B[39m\u001B[38;5;124m\"\u001B[39m\n",
      "\u001B[0;31mFileNotFoundError\u001B[0m: "
     ]
    }
   ],
   "source": [
    "s3dir_docs.upload_dir(dir_docs.abspath, overwrite=True)"
   ],
   "metadata": {
    "collapsed": false,
    "pycharm": {
     "name": "#%%\n"
    }
   }
  },
  {
   "cell_type": "code",
   "execution_count": null,
   "outputs": [],
   "source": [],
   "metadata": {
    "collapsed": false,
    "pycharm": {
     "name": "#%%\n"
    }
   }
  }
 ],
 "metadata": {
  "kernelspec": {
   "display_name": "Python 3",
   "language": "python",
   "name": "python3"
  },
  "language_info": {
   "codemirror_mode": {
    "name": "ipython",
    "version": 2
   },
   "file_extension": ".py",
   "mimetype": "text/x-python",
   "name": "python",
   "nbconvert_exporter": "python",
   "pygments_lexer": "ipython2",
   "version": "2.7.6"
  }
 },
 "nbformat": 4,
 "nbformat_minor": 0
}
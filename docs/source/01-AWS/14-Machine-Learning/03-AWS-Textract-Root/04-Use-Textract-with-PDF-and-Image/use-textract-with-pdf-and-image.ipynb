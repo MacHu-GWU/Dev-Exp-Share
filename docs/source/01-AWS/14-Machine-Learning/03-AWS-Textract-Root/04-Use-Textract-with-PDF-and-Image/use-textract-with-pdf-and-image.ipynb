{
 "cells": [
  {
   "cell_type": "code",
   "execution_count": 9,
   "outputs": [
    {
     "name": "stdout",
     "output_type": "stream",
     "text": [
      "Requirement already satisfied: pathlib_mate in /Users/sanhehu/venvs/python/3.8.11/dev_exp_share_venv/lib/python3.8/site-packages (from -r requirements.txt (line 1)) (1.0.3)\r\n",
      "Requirement already satisfied: smart_open in /Users/sanhehu/venvs/python/3.8.11/dev_exp_share_venv/lib/python3.8/site-packages (from -r requirements.txt (line 2)) (5.2.1)\r\n",
      "Requirement already satisfied: boto3 in /Users/sanhehu/venvs/python/3.8.11/dev_exp_share_venv/lib/python3.8/site-packages (from -r requirements.txt (line 3)) (1.22.9)\r\n",
      "Requirement already satisfied: boto_session_manager in /Users/sanhehu/venvs/python/3.8.11/dev_exp_share_venv/lib/python3.8/site-packages (from -r requirements.txt (line 4)) (0.0.4)\r\n",
      "Requirement already satisfied: s3pathlib in /Users/sanhehu/venvs/python/3.8.11/dev_exp_share_venv/lib/python3.8/site-packages (from -r requirements.txt (line 5)) (1.0.12)\r\n",
      "Requirement already satisfied: python_liquid in /Users/sanhehu/venvs/python/3.8.11/dev_exp_share_venv/lib/python3.8/site-packages (from -r requirements.txt (line 6)) (1.1.5)\r\n",
      "Requirement already satisfied: autopep8 in /Users/sanhehu/venvs/python/3.8.11/dev_exp_share_venv/lib/python3.8/site-packages (from pathlib_mate->-r requirements.txt (line 1)) (1.6.0)\r\n",
      "Requirement already satisfied: atomicwrites in /Users/sanhehu/venvs/python/3.8.11/dev_exp_share_venv/lib/python3.8/site-packages (from pathlib_mate->-r requirements.txt (line 1)) (1.4.0)\r\n",
      "Requirement already satisfied: six in /Users/sanhehu/venvs/python/3.8.11/dev_exp_share_venv/lib/python3.8/site-packages (from pathlib_mate->-r requirements.txt (line 1)) (1.16.0)\r\n",
      "Requirement already satisfied: botocore<1.26.0,>=1.25.9 in /Users/sanhehu/venvs/python/3.8.11/dev_exp_share_venv/lib/python3.8/site-packages (from boto3->-r requirements.txt (line 3)) (1.25.9)\r\n",
      "Requirement already satisfied: jmespath<2.0.0,>=0.7.1 in /Users/sanhehu/venvs/python/3.8.11/dev_exp_share_venv/lib/python3.8/site-packages (from boto3->-r requirements.txt (line 3)) (0.10.0)\r\n",
      "Requirement already satisfied: s3transfer<0.6.0,>=0.5.0 in /Users/sanhehu/venvs/python/3.8.11/dev_exp_share_venv/lib/python3.8/site-packages (from boto3->-r requirements.txt (line 3)) (0.5.0)\r\n",
      "Requirement already satisfied: python-dateutil>=2.8.1 in /Users/sanhehu/venvs/python/3.8.11/dev_exp_share_venv/lib/python3.8/site-packages (from python_liquid->-r requirements.txt (line 6)) (2.8.2)\r\n",
      "Requirement already satisfied: urllib3<1.27,>=1.25.4 in /Users/sanhehu/venvs/python/3.8.11/dev_exp_share_venv/lib/python3.8/site-packages (from botocore<1.26.0,>=1.25.9->boto3->-r requirements.txt (line 3)) (1.26.7)\r\n",
      "Requirement already satisfied: pycodestyle>=2.8.0 in /Users/sanhehu/venvs/python/3.8.11/dev_exp_share_venv/lib/python3.8/site-packages (from autopep8->pathlib_mate->-r requirements.txt (line 1)) (2.8.0)\r\n",
      "Requirement already satisfied: toml in /Users/sanhehu/venvs/python/3.8.11/dev_exp_share_venv/lib/python3.8/site-packages (from autopep8->pathlib_mate->-r requirements.txt (line 1)) (0.10.2)\r\n",
      "\u001B[33mWARNING: You are using pip version 21.2.4; however, version 22.2.2 is available.\r\n",
      "You should consider upgrading via the '/Users/sanhehu/venvs/python/3.8.11/dev_exp_share_venv/bin/python -m pip install --upgrade pip' command.\u001B[0m\r\n",
      "Note: you may need to restart the kernel to use updated packages.\n"
     ]
    }
   ],
   "source": [
    "% pip install -r requirements.txt"
   ],
   "metadata": {
    "collapsed": false,
    "pycharm": {
     "name": "#%%\n"
    }
   }
  },
  {
   "cell_type": "code",
   "execution_count": 45,
   "outputs": [],
   "source": [
    "# -*- coding: utf-8 -*-\n",
    "\n",
    "import typing as T\n",
    "import base64\n",
    "import os\n",
    "import json\n",
    "\n",
    "import attr\n",
    "from pathlib_mate import Path\n",
    "from rich import print as rprint\n",
    "from PIL import Image, ImageDraw\n",
    "from s3pathlib import S3Path, context\n",
    "from pdf2image import convert_from_path\n",
    "from boto_session_manager import BotoSesManager, AwsServiceEnum\n",
    "\n",
    "\n",
    "class Config:\n",
    "    aws_profile = \"aws_data_lab_sanhe_us_east_2\"\n",
    "    bucket = \"aws-data-lab-sanhe-for-everything-us-east-2\"\n",
    "\n",
    "\n",
    "bsm = BotoSesManager(profile_name=Config.aws_profile)\n",
    "context.attach_boto_session(bsm.boto_ses)\n",
    "\n",
    "tt_client = bsm.get_client(AwsServiceEnum.Textract)\n",
    "ch_client = bsm.get_client(AwsServiceEnum.Comprehend)\n",
    "\n",
    "dir_here = Path(os.getcwd()).absolute()\n",
    "\n",
    "s3dir_here = S3Path(Config.bucket, \"projects\", \"2022-10-10-textract-with-pdf-and-image\").to_dir()\n",
    "path_raw_pdf = dir_here / \"apartment-lease.pdf\"\n",
    "dir_images = dir_here / \"images\"\n",
    "dir_annotated_images = dir_here / \"annotated_images\"\n",
    "\n",
    "dir_images.mkdir_if_not_exists()\n",
    "dir_annotated_images.mkdir_if_not_exists()\n",
    "\n",
    "\n",
    "def get_nth_page_filename(ith: int) -> str:\n",
    "    return f\"{ith}.jpg\"\n",
    "\n",
    "\n",
    "@attr.s\n",
    "class BinaryFile:\n",
    "    path: Path = attr.ib()\n",
    "    s3dir: S3Path = attr.ib()\n",
    "\n",
    "    @property\n",
    "    def s3path_raw(self) -> S3Path:\n",
    "        return self.s3dir / \"01-raw\" / self.path.basename\n",
    "\n",
    "    @property\n",
    "    def s3dir_textract_output(self) -> S3Path:\n",
    "        return (self.s3dir / \"02-textract_output\" / self.path.basename).to_dir()\n",
    "\n",
    "    @property\n",
    "    def s3dir_textract_job_run(self) -> S3Path:\n",
    "        return list(self.s3dir_textract_output.iterdir())[0]\n",
    "\n",
    "    @property\n",
    "    def s3path_merged_json(self) -> S3Path:\n",
    "        return self.s3dir_textract_job_run / \"merged.json\"\n",
    "\n",
    "    @property\n",
    "    def s3path_merged_txt(self) -> S3Path:\n",
    "        return self.s3dir_textract_job_run / \"merged.txt\"\n",
    "\n",
    "    @property\n",
    "    def s3dir_comprehend_output(self) -> S3Path:\n",
    "        return (self.s3dir / \"03-comprehend_output\" / self.path.basename).to_dir()\n",
    "\n",
    "    @property\n",
    "    def s3path_entity_json(self) -> S3Path:\n",
    "        return self.s3dir_comprehend_output / \"entities.json\"\n",
    "\n",
    "    def step_00_upload_raw_file(self):\n",
    "        self.s3path_raw.upload_file(self.path.abspath, overwrite=True)\n",
    "\n",
    "    def step_01_textract_analyze_document(self) -> dict:\n",
    "        \"\"\"\n",
    "        Ref:\n",
    "\n",
    "        - https://boto3.amazonaws.com/v1/documentation/api/latest/reference/services/textract.html#Textract.Client.start_document_analysis\n",
    "        \"\"\"\n",
    "        print(\"start document analysis ...\")\n",
    "        print(f\"  preview raw file at: {self.s3path_raw.console_url}\")\n",
    "        print(f\"  preview textract output file at: {self.s3dir_textract_output.console_url}\")\n",
    "        response = tt_client.start_document_analysis(\n",
    "            DocumentLocation=dict(\n",
    "                S3Object=dict(\n",
    "                    Bucket=self.s3path_raw.bucket,\n",
    "                    Name=self.s3path_raw.key,\n",
    "                ),\n",
    "            ),\n",
    "            ClientRequestToken=\"399af789829c22e404dfea2ebf0f6ece\",\n",
    "            FeatureTypes=[\"TABLES\", \"FORMS\"],\n",
    "            OutputConfig=dict(\n",
    "                S3Bucket=self.s3dir_textract_output.bucket,\n",
    "                S3Prefix=self.s3dir_textract_output.to_file().key,\n",
    "            )\n",
    "        )\n",
    "        print(\"  done\")\n",
    "        return response\n",
    "\n",
    "    def step_02_merge_textract_output(self):\n",
    "        print(\"merge textract output\")\n",
    "        print(f\"  preview merged json at: {self.s3path_merged_json.console_url}\")\n",
    "        print(f\"  preview merged text at: {self.s3path_merged_txt.console_url}\")\n",
    "        merged_data = {\"Blocks\": []}\n",
    "        lines = list()\n",
    "        s = set()\n",
    "        for s3path in self.s3dir_textract_job_run.iter_objects():\n",
    "            if s3path.basename not in [\".s3_access_check\", \"merged.json\", \"merged.txt\"]:\n",
    "                data = json.loads(s3path.read_text())\n",
    "                merged_data[\"Blocks\"].extend(data[\"Blocks\"])\n",
    "                for block in data[\"Blocks\"]:\n",
    "                    s.add(block[\"BlockType\"])\n",
    "                    if block[\"BlockType\"] == \"LINE\":\n",
    "                        lines.append(block[\"Text\"])\n",
    "        self.s3path_merged_json.write_text(json.dumps(merged_data, indent=4))\n",
    "        self.s3path_merged_txt.write_text(\"\\n\".join(lines))\n",
    "        Path(dir_here, self.path.fname + \".json\").write_text(json.dumps(merged_data, indent=4))\n",
    "        Path(dir_here, self.path.fname + \".txt\").write_text(\"\\n\".join(lines))\n",
    "        print(\"  done\")\n",
    "\n",
    "    def step_03_pdf_to_image(self):\n",
    "        print(\"Convert pdf to images\")\n",
    "        print(f\"  preview at {dir_images}\")\n",
    "        images = convert_from_path(path_raw_pdf.abspath)\n",
    "        for page, image in enumerate(images, start=1):\n",
    "            image.save(dir_images.append_parts(get_nth_page_filename(page)).abspath)\n",
    "        print(\"  done\")\n",
    "\n",
    "    def step_04_annotate_image_for_keyword(self, keyword: str):\n",
    "        print(f\"Annotate images for keyword {keyword}\")\n",
    "\n",
    "        def locate_block(keyword: str) -> dict:\n",
    "            for block in json.loads(\n",
    "                path_raw_pdf.change(new_ext=\".json\").read_text()\n",
    "            )[\"Blocks\"]:\n",
    "                # if block[\"Text\"] == \"1215927470\":\n",
    "                if isinstance(block[\"Text\"], str):\n",
    "                    if keyword.lower() in block[\"Text\"].lower():\n",
    "                        return block\n",
    "            raise Exception(\"Not found!\")\n",
    "\n",
    "        block = locate_block(keyword)\n",
    "        print(\"  preview block:\")\n",
    "        rprint(block)\n",
    "        page = block[\"Page\"]\n",
    "        polygon: T.List[T.Dict[str, float]] = block[\"Geometry\"][\"Polygon\"]\n",
    "        file = get_nth_page_filename(page)\n",
    "        with Image.open(\n",
    "            dir_images.append_parts(file).abspath\n",
    "        ) as im:\n",
    "            x, y = im.size\n",
    "            draw = ImageDraw.Draw(im)\n",
    "            for dot1, dot2 in zip(\n",
    "                polygon,\n",
    "                polygon[1:] + [polygon[0], ]\n",
    "            ):\n",
    "                draw.line(\n",
    "                    (\n",
    "                        x * dot1[\"X\"],\n",
    "                        y * dot1[\"Y\"],\n",
    "                        x * dot2[\"X\"],\n",
    "                        y * dot2[\"Y\"],\n",
    "                    ),\n",
    "                    fill=128,\n",
    "                )\n",
    "            im.save(dir_annotated_images.append_parts(file).abspath)\n",
    "        print(\"  done\")\n",
    "\n",
    "\n",
    "bfile = BinaryFile(\n",
    "    path=path_raw_pdf,\n",
    "    s3dir=s3dir_here,\n",
    ")"
   ],
   "metadata": {
    "collapsed": false,
    "pycharm": {
     "name": "#%%\n"
    }
   }
  },
  {
   "cell_type": "code",
   "execution_count": 46,
   "outputs": [],
   "source": [
    "bfile.step_00_upload_raw_file()"
   ],
   "metadata": {
    "collapsed": false,
    "pycharm": {
     "name": "#%%\n"
    }
   }
  },
  {
   "cell_type": "code",
   "execution_count": 47,
   "outputs": [
    {
     "name": "stdout",
     "output_type": "stream",
     "text": [
      "start document analysis ...\n",
      "  preview raw file at: https://console.aws.amazon.com/s3/object/aws-data-lab-sanhe-for-everything-us-east-2?prefix=projects/2022-10-10-textract-with-pdf-and-image/01-raw/apartment-lease.pdf\n",
      "  preview textract output file at: https://console.aws.amazon.com/s3/buckets/aws-data-lab-sanhe-for-everything-us-east-2?prefix=projects/2022-10-10-textract-with-pdf-and-image/02-textract_output/apartment-lease.pdf/\n",
      "  done\n"
     ]
    },
    {
     "data": {
      "text/plain": "{'JobId': '5badf5b99df99b12ff20637a77bff1f4649ed537b5510925db0ae1451b543b0f',\n 'ResponseMetadata': {'RequestId': 'b3890fa6-1b7c-459a-9d43-17c8e409deec',\n  'HTTPStatusCode': 200,\n  'HTTPHeaders': {'x-amzn-requestid': 'b3890fa6-1b7c-459a-9d43-17c8e409deec',\n   'content-type': 'application/x-amz-json-1.1',\n   'content-length': '76',\n   'date': 'Sun, 09 Oct 2022 02:26:34 GMT'},\n  'RetryAttempts': 0}}"
     },
     "execution_count": 47,
     "metadata": {},
     "output_type": "execute_result"
    }
   ],
   "source": [
    "bfile.step_01_textract_analyze_document()"
   ],
   "metadata": {
    "collapsed": false,
    "pycharm": {
     "name": "#%%\n"
    }
   }
  },
  {
   "cell_type": "code",
   "execution_count": 48,
   "outputs": [
    {
     "name": "stdout",
     "output_type": "stream",
     "text": [
      "merge textract output\n",
      "  preview merged json at: https://console.aws.amazon.com/s3/object/aws-data-lab-sanhe-for-everything-us-east-2?prefix=projects/2022-10-10-textract-with-pdf-and-image/02-textract_output/apartment-lease.pdf/5badf5b99df99b12ff20637a77bff1f4649ed537b5510925db0ae1451b543b0f/merged.json\n",
      "  preview merged text at: https://console.aws.amazon.com/s3/object/aws-data-lab-sanhe-for-everything-us-east-2?prefix=projects/2022-10-10-textract-with-pdf-and-image/02-textract_output/apartment-lease.pdf/5badf5b99df99b12ff20637a77bff1f4649ed537b5510925db0ae1451b543b0f/merged.txt\n",
      "  done\n"
     ]
    }
   ],
   "source": [
    "bfile.step_02_merge_textract_output()"
   ],
   "metadata": {
    "collapsed": false,
    "pycharm": {
     "name": "#%%\n"
    }
   }
  },
  {
   "cell_type": "code",
   "execution_count": 49,
   "outputs": [
    {
     "name": "stdout",
     "output_type": "stream",
     "text": [
      "Convert pdf to images\n",
      "  preview at /Users/sanhehu/Documents/GitHub/Dev-Exp-Share/docs/source/01-AWS/14-Machine-Learning/03-AWS-Textract-Root/04-Use-Textract-with-PDF-and-Image/images\n",
      "  done\n"
     ]
    }
   ],
   "source": [
    "bfile.step_03_pdf_to_image()"
   ],
   "metadata": {
    "collapsed": false,
    "pycharm": {
     "name": "#%%\n"
    }
   }
  },
  {
   "cell_type": "code",
   "execution_count": 50,
   "outputs": [
    {
     "name": "stdout",
     "output_type": "stream",
     "text": [
      "Annotate images for keyword Alice\n",
      "  preview block:\n"
     ]
    },
    {
     "data": {
      "text/plain": "\u001B[1m{\u001B[0m\n    \u001B[32m'BlockType'\u001B[0m: \u001B[32m'LINE'\u001B[0m,\n    \u001B[32m'ColumnIndex'\u001B[0m: \u001B[3;35mNone\u001B[0m,\n    \u001B[32m'ColumnSpan'\u001B[0m: \u001B[3;35mNone\u001B[0m,\n    \u001B[32m'Confidence'\u001B[0m: \u001B[1;36m99.36701965332031\u001B[0m,\n    \u001B[32m'EntityTypes'\u001B[0m: \u001B[3;35mNone\u001B[0m,\n    \u001B[32m'Geometry'\u001B[0m: \u001B[1m{\u001B[0m\n        \u001B[32m'BoundingBox'\u001B[0m: \u001B[1m{\u001B[0m\n            \u001B[32m'Height'\u001B[0m: \u001B[1;36m0.024774566292762756\u001B[0m,\n            \u001B[32m'Left'\u001B[0m: \u001B[1;36m0.29069405794143677\u001B[0m,\n            \u001B[32m'Top'\u001B[0m: \u001B[1;36m0.15761250257492065\u001B[0m,\n            \u001B[32m'Width'\u001B[0m: \u001B[1;36m0.06210869550704956\u001B[0m\n        \u001B[1m}\u001B[0m,\n        \u001B[32m'Polygon'\u001B[0m: \u001B[1m[\u001B[0m\n            \u001B[1m{\u001B[0m\u001B[32m'X'\u001B[0m: \u001B[1;36m0.29069405794143677\u001B[0m, \u001B[32m'Y'\u001B[0m: \u001B[1;36m0.15761250257492065\u001B[0m\u001B[1m}\u001B[0m,\n            \u001B[1m{\u001B[0m\u001B[32m'X'\u001B[0m: \u001B[1;36m0.35280275344848633\u001B[0m, \u001B[32m'Y'\u001B[0m: \u001B[1;36m0.15761250257492065\u001B[0m\u001B[1m}\u001B[0m,\n            \u001B[1m{\u001B[0m\u001B[32m'X'\u001B[0m: \u001B[1;36m0.35280275344848633\u001B[0m, \u001B[32m'Y'\u001B[0m: \u001B[1;36m0.1823870688676834\u001B[0m\u001B[1m}\u001B[0m,\n            \u001B[1m{\u001B[0m\u001B[32m'X'\u001B[0m: \u001B[1;36m0.29069405794143677\u001B[0m, \u001B[32m'Y'\u001B[0m: \u001B[1;36m0.1823870688676834\u001B[0m\u001B[1m}\u001B[0m\n        \u001B[1m]\u001B[0m\n    \u001B[1m}\u001B[0m,\n    \u001B[32m'Hint'\u001B[0m: \u001B[3;35mNone\u001B[0m,\n    \u001B[32m'Id'\u001B[0m: \u001B[32m'948b8977-d8c3-49f0-a3d1-7827135b01d6'\u001B[0m,\n    \u001B[32m'Page'\u001B[0m: \u001B[1;36m1\u001B[0m,\n    \u001B[32m'PageClassification'\u001B[0m: \u001B[3;35mNone\u001B[0m,\n    \u001B[32m'Query'\u001B[0m: \u001B[3;35mNone\u001B[0m,\n    \u001B[32m'Relationships'\u001B[0m: \u001B[1m[\u001B[0m\u001B[1m{\u001B[0m\u001B[32m'Ids'\u001B[0m: \u001B[1m[\u001B[0m\u001B[32m'660720a3-a4e7-46f4-b3cd-d795dcd89256'\u001B[0m\u001B[1m]\u001B[0m, \u001B[32m'Type'\u001B[0m: \u001B[32m'CHILD'\u001B[0m\u001B[1m}\u001B[0m\u001B[1m]\u001B[0m,\n    \u001B[32m'RowIndex'\u001B[0m: \u001B[3;35mNone\u001B[0m,\n    \u001B[32m'RowSpan'\u001B[0m: \u001B[3;35mNone\u001B[0m,\n    \u001B[32m'SelectionStatus'\u001B[0m: \u001B[3;35mNone\u001B[0m,\n    \u001B[32m'Text'\u001B[0m: \u001B[32m'Alice'\u001B[0m,\n    \u001B[32m'TextType'\u001B[0m: \u001B[3;35mNone\u001B[0m\n\u001B[1m}\u001B[0m\n",
      "text/html": "<pre style=\"white-space:pre;overflow-x:auto;line-height:normal;font-family:Menlo,'DejaVu Sans Mono',consolas,'Courier New',monospace\"><span style=\"font-weight: bold\">{</span>\n    <span style=\"color: #008000; text-decoration-color: #008000\">'BlockType'</span>: <span style=\"color: #008000; text-decoration-color: #008000\">'LINE'</span>,\n    <span style=\"color: #008000; text-decoration-color: #008000\">'ColumnIndex'</span>: <span style=\"color: #800080; text-decoration-color: #800080; font-style: italic\">None</span>,\n    <span style=\"color: #008000; text-decoration-color: #008000\">'ColumnSpan'</span>: <span style=\"color: #800080; text-decoration-color: #800080; font-style: italic\">None</span>,\n    <span style=\"color: #008000; text-decoration-color: #008000\">'Confidence'</span>: <span style=\"color: #008080; text-decoration-color: #008080; font-weight: bold\">99.36701965332031</span>,\n    <span style=\"color: #008000; text-decoration-color: #008000\">'EntityTypes'</span>: <span style=\"color: #800080; text-decoration-color: #800080; font-style: italic\">None</span>,\n    <span style=\"color: #008000; text-decoration-color: #008000\">'Geometry'</span>: <span style=\"font-weight: bold\">{</span>\n        <span style=\"color: #008000; text-decoration-color: #008000\">'BoundingBox'</span>: <span style=\"font-weight: bold\">{</span>\n            <span style=\"color: #008000; text-decoration-color: #008000\">'Height'</span>: <span style=\"color: #008080; text-decoration-color: #008080; font-weight: bold\">0.024774566292762756</span>,\n            <span style=\"color: #008000; text-decoration-color: #008000\">'Left'</span>: <span style=\"color: #008080; text-decoration-color: #008080; font-weight: bold\">0.29069405794143677</span>,\n            <span style=\"color: #008000; text-decoration-color: #008000\">'Top'</span>: <span style=\"color: #008080; text-decoration-color: #008080; font-weight: bold\">0.15761250257492065</span>,\n            <span style=\"color: #008000; text-decoration-color: #008000\">'Width'</span>: <span style=\"color: #008080; text-decoration-color: #008080; font-weight: bold\">0.06210869550704956</span>\n        <span style=\"font-weight: bold\">}</span>,\n        <span style=\"color: #008000; text-decoration-color: #008000\">'Polygon'</span>: <span style=\"font-weight: bold\">[</span>\n            <span style=\"font-weight: bold\">{</span><span style=\"color: #008000; text-decoration-color: #008000\">'X'</span>: <span style=\"color: #008080; text-decoration-color: #008080; font-weight: bold\">0.29069405794143677</span>, <span style=\"color: #008000; text-decoration-color: #008000\">'Y'</span>: <span style=\"color: #008080; text-decoration-color: #008080; font-weight: bold\">0.15761250257492065</span><span style=\"font-weight: bold\">}</span>,\n            <span style=\"font-weight: bold\">{</span><span style=\"color: #008000; text-decoration-color: #008000\">'X'</span>: <span style=\"color: #008080; text-decoration-color: #008080; font-weight: bold\">0.35280275344848633</span>, <span style=\"color: #008000; text-decoration-color: #008000\">'Y'</span>: <span style=\"color: #008080; text-decoration-color: #008080; font-weight: bold\">0.15761250257492065</span><span style=\"font-weight: bold\">}</span>,\n            <span style=\"font-weight: bold\">{</span><span style=\"color: #008000; text-decoration-color: #008000\">'X'</span>: <span style=\"color: #008080; text-decoration-color: #008080; font-weight: bold\">0.35280275344848633</span>, <span style=\"color: #008000; text-decoration-color: #008000\">'Y'</span>: <span style=\"color: #008080; text-decoration-color: #008080; font-weight: bold\">0.1823870688676834</span><span style=\"font-weight: bold\">}</span>,\n            <span style=\"font-weight: bold\">{</span><span style=\"color: #008000; text-decoration-color: #008000\">'X'</span>: <span style=\"color: #008080; text-decoration-color: #008080; font-weight: bold\">0.29069405794143677</span>, <span style=\"color: #008000; text-decoration-color: #008000\">'Y'</span>: <span style=\"color: #008080; text-decoration-color: #008080; font-weight: bold\">0.1823870688676834</span><span style=\"font-weight: bold\">}</span>\n        <span style=\"font-weight: bold\">]</span>\n    <span style=\"font-weight: bold\">}</span>,\n    <span style=\"color: #008000; text-decoration-color: #008000\">'Hint'</span>: <span style=\"color: #800080; text-decoration-color: #800080; font-style: italic\">None</span>,\n    <span style=\"color: #008000; text-decoration-color: #008000\">'Id'</span>: <span style=\"color: #008000; text-decoration-color: #008000\">'948b8977-d8c3-49f0-a3d1-7827135b01d6'</span>,\n    <span style=\"color: #008000; text-decoration-color: #008000\">'Page'</span>: <span style=\"color: #008080; text-decoration-color: #008080; font-weight: bold\">1</span>,\n    <span style=\"color: #008000; text-decoration-color: #008000\">'PageClassification'</span>: <span style=\"color: #800080; text-decoration-color: #800080; font-style: italic\">None</span>,\n    <span style=\"color: #008000; text-decoration-color: #008000\">'Query'</span>: <span style=\"color: #800080; text-decoration-color: #800080; font-style: italic\">None</span>,\n    <span style=\"color: #008000; text-decoration-color: #008000\">'Relationships'</span>: <span style=\"font-weight: bold\">[{</span><span style=\"color: #008000; text-decoration-color: #008000\">'Ids'</span>: <span style=\"font-weight: bold\">[</span><span style=\"color: #008000; text-decoration-color: #008000\">'660720a3-a4e7-46f4-b3cd-d795dcd89256'</span><span style=\"font-weight: bold\">]</span>, <span style=\"color: #008000; text-decoration-color: #008000\">'Type'</span>: <span style=\"color: #008000; text-decoration-color: #008000\">'CHILD'</span><span style=\"font-weight: bold\">}]</span>,\n    <span style=\"color: #008000; text-decoration-color: #008000\">'RowIndex'</span>: <span style=\"color: #800080; text-decoration-color: #800080; font-style: italic\">None</span>,\n    <span style=\"color: #008000; text-decoration-color: #008000\">'RowSpan'</span>: <span style=\"color: #800080; text-decoration-color: #800080; font-style: italic\">None</span>,\n    <span style=\"color: #008000; text-decoration-color: #008000\">'SelectionStatus'</span>: <span style=\"color: #800080; text-decoration-color: #800080; font-style: italic\">None</span>,\n    <span style=\"color: #008000; text-decoration-color: #008000\">'Text'</span>: <span style=\"color: #008000; text-decoration-color: #008000\">'Alice'</span>,\n    <span style=\"color: #008000; text-decoration-color: #008000\">'TextType'</span>: <span style=\"color: #800080; text-decoration-color: #800080; font-style: italic\">None</span>\n<span style=\"font-weight: bold\">}</span>\n</pre>\n"
     },
     "metadata": {},
     "output_type": "display_data"
    },
    {
     "name": "stdout",
     "output_type": "stream",
     "text": [
      "  done\n",
      "Annotate images for keyword Bob\n",
      "  preview block:\n"
     ]
    },
    {
     "data": {
      "text/plain": "\u001B[1m{\u001B[0m\n    \u001B[32m'BlockType'\u001B[0m: \u001B[32m'LINE'\u001B[0m,\n    \u001B[32m'ColumnIndex'\u001B[0m: \u001B[3;35mNone\u001B[0m,\n    \u001B[32m'ColumnSpan'\u001B[0m: \u001B[3;35mNone\u001B[0m,\n    \u001B[32m'Confidence'\u001B[0m: \u001B[1;36m99.36688232421875\u001B[0m,\n    \u001B[32m'EntityTypes'\u001B[0m: \u001B[3;35mNone\u001B[0m,\n    \u001B[32m'Geometry'\u001B[0m: \u001B[1m{\u001B[0m\n        \u001B[32m'BoundingBox'\u001B[0m: \u001B[1m{\u001B[0m\n            \u001B[32m'Height'\u001B[0m: \u001B[1;36m0.031047221273183823\u001B[0m,\n            \u001B[32m'Left'\u001B[0m: \u001B[1;36m0.4400149881839752\u001B[0m,\n            \u001B[32m'Top'\u001B[0m: \u001B[1;36m0.22008876502513885\u001B[0m,\n            \u001B[32m'Width'\u001B[0m: \u001B[1;36m0.05336837098002434\u001B[0m\n        \u001B[1m}\u001B[0m,\n        \u001B[32m'Polygon'\u001B[0m: \u001B[1m[\u001B[0m\n            \u001B[1m{\u001B[0m\u001B[32m'X'\u001B[0m: \u001B[1;36m0.4400149881839752\u001B[0m, \u001B[32m'Y'\u001B[0m: \u001B[1;36m0.22008876502513885\u001B[0m\u001B[1m}\u001B[0m,\n            \u001B[1m{\u001B[0m\u001B[32m'X'\u001B[0m: \u001B[1;36m0.49338334798812866\u001B[0m, \u001B[32m'Y'\u001B[0m: \u001B[1;36m0.22008876502513885\u001B[0m\u001B[1m}\u001B[0m,\n            \u001B[1m{\u001B[0m\u001B[32m'X'\u001B[0m: \u001B[1;36m0.49338334798812866\u001B[0m, \u001B[32m'Y'\u001B[0m: \u001B[1;36m0.2511359751224518\u001B[0m\u001B[1m}\u001B[0m,\n            \u001B[1m{\u001B[0m\u001B[32m'X'\u001B[0m: \u001B[1;36m0.4400149881839752\u001B[0m, \u001B[32m'Y'\u001B[0m: \u001B[1;36m0.2511359751224518\u001B[0m\u001B[1m}\u001B[0m\n        \u001B[1m]\u001B[0m\n    \u001B[1m}\u001B[0m,\n    \u001B[32m'Hint'\u001B[0m: \u001B[3;35mNone\u001B[0m,\n    \u001B[32m'Id'\u001B[0m: \u001B[32m'9331a5e7-272b-4611-9d6f-344d0a870b80'\u001B[0m,\n    \u001B[32m'Page'\u001B[0m: \u001B[1;36m1\u001B[0m,\n    \u001B[32m'PageClassification'\u001B[0m: \u001B[3;35mNone\u001B[0m,\n    \u001B[32m'Query'\u001B[0m: \u001B[3;35mNone\u001B[0m,\n    \u001B[32m'Relationships'\u001B[0m: \u001B[1m[\u001B[0m\u001B[1m{\u001B[0m\u001B[32m'Ids'\u001B[0m: \u001B[1m[\u001B[0m\u001B[32m'fde2f07d-99cc-4fba-bd4c-982d3b10e395'\u001B[0m\u001B[1m]\u001B[0m, \u001B[32m'Type'\u001B[0m: \u001B[32m'CHILD'\u001B[0m\u001B[1m}\u001B[0m\u001B[1m]\u001B[0m,\n    \u001B[32m'RowIndex'\u001B[0m: \u001B[3;35mNone\u001B[0m,\n    \u001B[32m'RowSpan'\u001B[0m: \u001B[3;35mNone\u001B[0m,\n    \u001B[32m'SelectionStatus'\u001B[0m: \u001B[3;35mNone\u001B[0m,\n    \u001B[32m'Text'\u001B[0m: \u001B[32m'Bob'\u001B[0m,\n    \u001B[32m'TextType'\u001B[0m: \u001B[3;35mNone\u001B[0m\n\u001B[1m}\u001B[0m\n",
      "text/html": "<pre style=\"white-space:pre;overflow-x:auto;line-height:normal;font-family:Menlo,'DejaVu Sans Mono',consolas,'Courier New',monospace\"><span style=\"font-weight: bold\">{</span>\n    <span style=\"color: #008000; text-decoration-color: #008000\">'BlockType'</span>: <span style=\"color: #008000; text-decoration-color: #008000\">'LINE'</span>,\n    <span style=\"color: #008000; text-decoration-color: #008000\">'ColumnIndex'</span>: <span style=\"color: #800080; text-decoration-color: #800080; font-style: italic\">None</span>,\n    <span style=\"color: #008000; text-decoration-color: #008000\">'ColumnSpan'</span>: <span style=\"color: #800080; text-decoration-color: #800080; font-style: italic\">None</span>,\n    <span style=\"color: #008000; text-decoration-color: #008000\">'Confidence'</span>: <span style=\"color: #008080; text-decoration-color: #008080; font-weight: bold\">99.36688232421875</span>,\n    <span style=\"color: #008000; text-decoration-color: #008000\">'EntityTypes'</span>: <span style=\"color: #800080; text-decoration-color: #800080; font-style: italic\">None</span>,\n    <span style=\"color: #008000; text-decoration-color: #008000\">'Geometry'</span>: <span style=\"font-weight: bold\">{</span>\n        <span style=\"color: #008000; text-decoration-color: #008000\">'BoundingBox'</span>: <span style=\"font-weight: bold\">{</span>\n            <span style=\"color: #008000; text-decoration-color: #008000\">'Height'</span>: <span style=\"color: #008080; text-decoration-color: #008080; font-weight: bold\">0.031047221273183823</span>,\n            <span style=\"color: #008000; text-decoration-color: #008000\">'Left'</span>: <span style=\"color: #008080; text-decoration-color: #008080; font-weight: bold\">0.4400149881839752</span>,\n            <span style=\"color: #008000; text-decoration-color: #008000\">'Top'</span>: <span style=\"color: #008080; text-decoration-color: #008080; font-weight: bold\">0.22008876502513885</span>,\n            <span style=\"color: #008000; text-decoration-color: #008000\">'Width'</span>: <span style=\"color: #008080; text-decoration-color: #008080; font-weight: bold\">0.05336837098002434</span>\n        <span style=\"font-weight: bold\">}</span>,\n        <span style=\"color: #008000; text-decoration-color: #008000\">'Polygon'</span>: <span style=\"font-weight: bold\">[</span>\n            <span style=\"font-weight: bold\">{</span><span style=\"color: #008000; text-decoration-color: #008000\">'X'</span>: <span style=\"color: #008080; text-decoration-color: #008080; font-weight: bold\">0.4400149881839752</span>, <span style=\"color: #008000; text-decoration-color: #008000\">'Y'</span>: <span style=\"color: #008080; text-decoration-color: #008080; font-weight: bold\">0.22008876502513885</span><span style=\"font-weight: bold\">}</span>,\n            <span style=\"font-weight: bold\">{</span><span style=\"color: #008000; text-decoration-color: #008000\">'X'</span>: <span style=\"color: #008080; text-decoration-color: #008080; font-weight: bold\">0.49338334798812866</span>, <span style=\"color: #008000; text-decoration-color: #008000\">'Y'</span>: <span style=\"color: #008080; text-decoration-color: #008080; font-weight: bold\">0.22008876502513885</span><span style=\"font-weight: bold\">}</span>,\n            <span style=\"font-weight: bold\">{</span><span style=\"color: #008000; text-decoration-color: #008000\">'X'</span>: <span style=\"color: #008080; text-decoration-color: #008080; font-weight: bold\">0.49338334798812866</span>, <span style=\"color: #008000; text-decoration-color: #008000\">'Y'</span>: <span style=\"color: #008080; text-decoration-color: #008080; font-weight: bold\">0.2511359751224518</span><span style=\"font-weight: bold\">}</span>,\n            <span style=\"font-weight: bold\">{</span><span style=\"color: #008000; text-decoration-color: #008000\">'X'</span>: <span style=\"color: #008080; text-decoration-color: #008080; font-weight: bold\">0.4400149881839752</span>, <span style=\"color: #008000; text-decoration-color: #008000\">'Y'</span>: <span style=\"color: #008080; text-decoration-color: #008080; font-weight: bold\">0.2511359751224518</span><span style=\"font-weight: bold\">}</span>\n        <span style=\"font-weight: bold\">]</span>\n    <span style=\"font-weight: bold\">}</span>,\n    <span style=\"color: #008000; text-decoration-color: #008000\">'Hint'</span>: <span style=\"color: #800080; text-decoration-color: #800080; font-style: italic\">None</span>,\n    <span style=\"color: #008000; text-decoration-color: #008000\">'Id'</span>: <span style=\"color: #008000; text-decoration-color: #008000\">'9331a5e7-272b-4611-9d6f-344d0a870b80'</span>,\n    <span style=\"color: #008000; text-decoration-color: #008000\">'Page'</span>: <span style=\"color: #008080; text-decoration-color: #008080; font-weight: bold\">1</span>,\n    <span style=\"color: #008000; text-decoration-color: #008000\">'PageClassification'</span>: <span style=\"color: #800080; text-decoration-color: #800080; font-style: italic\">None</span>,\n    <span style=\"color: #008000; text-decoration-color: #008000\">'Query'</span>: <span style=\"color: #800080; text-decoration-color: #800080; font-style: italic\">None</span>,\n    <span style=\"color: #008000; text-decoration-color: #008000\">'Relationships'</span>: <span style=\"font-weight: bold\">[{</span><span style=\"color: #008000; text-decoration-color: #008000\">'Ids'</span>: <span style=\"font-weight: bold\">[</span><span style=\"color: #008000; text-decoration-color: #008000\">'fde2f07d-99cc-4fba-bd4c-982d3b10e395'</span><span style=\"font-weight: bold\">]</span>, <span style=\"color: #008000; text-decoration-color: #008000\">'Type'</span>: <span style=\"color: #008000; text-decoration-color: #008000\">'CHILD'</span><span style=\"font-weight: bold\">}]</span>,\n    <span style=\"color: #008000; text-decoration-color: #008000\">'RowIndex'</span>: <span style=\"color: #800080; text-decoration-color: #800080; font-style: italic\">None</span>,\n    <span style=\"color: #008000; text-decoration-color: #008000\">'RowSpan'</span>: <span style=\"color: #800080; text-decoration-color: #800080; font-style: italic\">None</span>,\n    <span style=\"color: #008000; text-decoration-color: #008000\">'SelectionStatus'</span>: <span style=\"color: #800080; text-decoration-color: #800080; font-style: italic\">None</span>,\n    <span style=\"color: #008000; text-decoration-color: #008000\">'Text'</span>: <span style=\"color: #008000; text-decoration-color: #008000\">'Bob'</span>,\n    <span style=\"color: #008000; text-decoration-color: #008000\">'TextType'</span>: <span style=\"color: #800080; text-decoration-color: #800080; font-style: italic\">None</span>\n<span style=\"font-weight: bold\">}</span>\n</pre>\n"
     },
     "metadata": {},
     "output_type": "display_data"
    },
    {
     "name": "stdout",
     "output_type": "stream",
     "text": [
      "  done\n",
      "Annotate images for keyword 1350\n",
      "  preview block:\n"
     ]
    },
    {
     "data": {
      "text/plain": "\u001B[1m{\u001B[0m\n    \u001B[32m'BlockType'\u001B[0m: \u001B[32m'LINE'\u001B[0m,\n    \u001B[32m'ColumnIndex'\u001B[0m: \u001B[3;35mNone\u001B[0m,\n    \u001B[32m'ColumnSpan'\u001B[0m: \u001B[3;35mNone\u001B[0m,\n    \u001B[32m'Confidence'\u001B[0m: \u001B[1;36m97.81658935546875\u001B[0m,\n    \u001B[32m'EntityTypes'\u001B[0m: \u001B[3;35mNone\u001B[0m,\n    \u001B[32m'Geometry'\u001B[0m: \u001B[1m{\u001B[0m\n        \u001B[32m'BoundingBox'\u001B[0m: \u001B[1m{\u001B[0m\n            \u001B[32m'Height'\u001B[0m: \u001B[1;36m0.013392333872616291\u001B[0m,\n            \u001B[32m'Left'\u001B[0m: \u001B[1;36m0.11777328699827194\u001B[0m,\n            \u001B[32m'Top'\u001B[0m: \u001B[1;36m0.4857618510723114\u001B[0m,\n            \u001B[32m'Width'\u001B[0m: \u001B[1;36m0.04334520548582077\u001B[0m\n        \u001B[1m}\u001B[0m,\n        \u001B[32m'Polygon'\u001B[0m: \u001B[1m[\u001B[0m\n            \u001B[1m{\u001B[0m\u001B[32m'X'\u001B[0m: \u001B[1;36m0.11777328699827194\u001B[0m, \u001B[32m'Y'\u001B[0m: \u001B[1;36m0.4857618510723114\u001B[0m\u001B[1m}\u001B[0m,\n            \u001B[1m{\u001B[0m\u001B[32m'X'\u001B[0m: \u001B[1;36m0.1611184924840927\u001B[0m, \u001B[32m'Y'\u001B[0m: \u001B[1;36m0.4857618510723114\u001B[0m\u001B[1m}\u001B[0m,\n            \u001B[1m{\u001B[0m\u001B[32m'X'\u001B[0m: \u001B[1;36m0.1611184924840927\u001B[0m, \u001B[32m'Y'\u001B[0m: \u001B[1;36m0.4991541802883148\u001B[0m\u001B[1m}\u001B[0m,\n            \u001B[1m{\u001B[0m\u001B[32m'X'\u001B[0m: \u001B[1;36m0.11777328699827194\u001B[0m, \u001B[32m'Y'\u001B[0m: \u001B[1;36m0.4991541802883148\u001B[0m\u001B[1m}\u001B[0m\n        \u001B[1m]\u001B[0m\n    \u001B[1m}\u001B[0m,\n    \u001B[32m'Hint'\u001B[0m: \u001B[3;35mNone\u001B[0m,\n    \u001B[32m'Id'\u001B[0m: \u001B[32m'83705199-b54e-4d75-8cfd-39631654f2b1'\u001B[0m,\n    \u001B[32m'Page'\u001B[0m: \u001B[1;36m2\u001B[0m,\n    \u001B[32m'PageClassification'\u001B[0m: \u001B[3;35mNone\u001B[0m,\n    \u001B[32m'Query'\u001B[0m: \u001B[3;35mNone\u001B[0m,\n    \u001B[32m'Relationships'\u001B[0m: \u001B[1m[\u001B[0m\n        \u001B[1m{\u001B[0m\n            \u001B[32m'Ids'\u001B[0m: \u001B[1m[\u001B[0m\n                \u001B[32m'975e668b-b389-47f1-a621-f948958e2e0b'\u001B[0m,\n                \u001B[32m'd7976bc8-7c93-47ba-b816-6c0cb3493749'\u001B[0m\n            \u001B[1m]\u001B[0m,\n            \u001B[32m'Type'\u001B[0m: \u001B[32m'CHILD'\u001B[0m\n        \u001B[1m}\u001B[0m\n    \u001B[1m]\u001B[0m,\n    \u001B[32m'RowIndex'\u001B[0m: \u001B[3;35mNone\u001B[0m,\n    \u001B[32m'RowSpan'\u001B[0m: \u001B[3;35mNone\u001B[0m,\n    \u001B[32m'SelectionStatus'\u001B[0m: \u001B[3;35mNone\u001B[0m,\n    \u001B[32m'Text'\u001B[0m: \u001B[32m'$ 1350'\u001B[0m,\n    \u001B[32m'TextType'\u001B[0m: \u001B[3;35mNone\u001B[0m\n\u001B[1m}\u001B[0m\n",
      "text/html": "<pre style=\"white-space:pre;overflow-x:auto;line-height:normal;font-family:Menlo,'DejaVu Sans Mono',consolas,'Courier New',monospace\"><span style=\"font-weight: bold\">{</span>\n    <span style=\"color: #008000; text-decoration-color: #008000\">'BlockType'</span>: <span style=\"color: #008000; text-decoration-color: #008000\">'LINE'</span>,\n    <span style=\"color: #008000; text-decoration-color: #008000\">'ColumnIndex'</span>: <span style=\"color: #800080; text-decoration-color: #800080; font-style: italic\">None</span>,\n    <span style=\"color: #008000; text-decoration-color: #008000\">'ColumnSpan'</span>: <span style=\"color: #800080; text-decoration-color: #800080; font-style: italic\">None</span>,\n    <span style=\"color: #008000; text-decoration-color: #008000\">'Confidence'</span>: <span style=\"color: #008080; text-decoration-color: #008080; font-weight: bold\">97.81658935546875</span>,\n    <span style=\"color: #008000; text-decoration-color: #008000\">'EntityTypes'</span>: <span style=\"color: #800080; text-decoration-color: #800080; font-style: italic\">None</span>,\n    <span style=\"color: #008000; text-decoration-color: #008000\">'Geometry'</span>: <span style=\"font-weight: bold\">{</span>\n        <span style=\"color: #008000; text-decoration-color: #008000\">'BoundingBox'</span>: <span style=\"font-weight: bold\">{</span>\n            <span style=\"color: #008000; text-decoration-color: #008000\">'Height'</span>: <span style=\"color: #008080; text-decoration-color: #008080; font-weight: bold\">0.013392333872616291</span>,\n            <span style=\"color: #008000; text-decoration-color: #008000\">'Left'</span>: <span style=\"color: #008080; text-decoration-color: #008080; font-weight: bold\">0.11777328699827194</span>,\n            <span style=\"color: #008000; text-decoration-color: #008000\">'Top'</span>: <span style=\"color: #008080; text-decoration-color: #008080; font-weight: bold\">0.4857618510723114</span>,\n            <span style=\"color: #008000; text-decoration-color: #008000\">'Width'</span>: <span style=\"color: #008080; text-decoration-color: #008080; font-weight: bold\">0.04334520548582077</span>\n        <span style=\"font-weight: bold\">}</span>,\n        <span style=\"color: #008000; text-decoration-color: #008000\">'Polygon'</span>: <span style=\"font-weight: bold\">[</span>\n            <span style=\"font-weight: bold\">{</span><span style=\"color: #008000; text-decoration-color: #008000\">'X'</span>: <span style=\"color: #008080; text-decoration-color: #008080; font-weight: bold\">0.11777328699827194</span>, <span style=\"color: #008000; text-decoration-color: #008000\">'Y'</span>: <span style=\"color: #008080; text-decoration-color: #008080; font-weight: bold\">0.4857618510723114</span><span style=\"font-weight: bold\">}</span>,\n            <span style=\"font-weight: bold\">{</span><span style=\"color: #008000; text-decoration-color: #008000\">'X'</span>: <span style=\"color: #008080; text-decoration-color: #008080; font-weight: bold\">0.1611184924840927</span>, <span style=\"color: #008000; text-decoration-color: #008000\">'Y'</span>: <span style=\"color: #008080; text-decoration-color: #008080; font-weight: bold\">0.4857618510723114</span><span style=\"font-weight: bold\">}</span>,\n            <span style=\"font-weight: bold\">{</span><span style=\"color: #008000; text-decoration-color: #008000\">'X'</span>: <span style=\"color: #008080; text-decoration-color: #008080; font-weight: bold\">0.1611184924840927</span>, <span style=\"color: #008000; text-decoration-color: #008000\">'Y'</span>: <span style=\"color: #008080; text-decoration-color: #008080; font-weight: bold\">0.4991541802883148</span><span style=\"font-weight: bold\">}</span>,\n            <span style=\"font-weight: bold\">{</span><span style=\"color: #008000; text-decoration-color: #008000\">'X'</span>: <span style=\"color: #008080; text-decoration-color: #008080; font-weight: bold\">0.11777328699827194</span>, <span style=\"color: #008000; text-decoration-color: #008000\">'Y'</span>: <span style=\"color: #008080; text-decoration-color: #008080; font-weight: bold\">0.4991541802883148</span><span style=\"font-weight: bold\">}</span>\n        <span style=\"font-weight: bold\">]</span>\n    <span style=\"font-weight: bold\">}</span>,\n    <span style=\"color: #008000; text-decoration-color: #008000\">'Hint'</span>: <span style=\"color: #800080; text-decoration-color: #800080; font-style: italic\">None</span>,\n    <span style=\"color: #008000; text-decoration-color: #008000\">'Id'</span>: <span style=\"color: #008000; text-decoration-color: #008000\">'83705199-b54e-4d75-8cfd-39631654f2b1'</span>,\n    <span style=\"color: #008000; text-decoration-color: #008000\">'Page'</span>: <span style=\"color: #008080; text-decoration-color: #008080; font-weight: bold\">2</span>,\n    <span style=\"color: #008000; text-decoration-color: #008000\">'PageClassification'</span>: <span style=\"color: #800080; text-decoration-color: #800080; font-style: italic\">None</span>,\n    <span style=\"color: #008000; text-decoration-color: #008000\">'Query'</span>: <span style=\"color: #800080; text-decoration-color: #800080; font-style: italic\">None</span>,\n    <span style=\"color: #008000; text-decoration-color: #008000\">'Relationships'</span>: <span style=\"font-weight: bold\">[</span>\n        <span style=\"font-weight: bold\">{</span>\n            <span style=\"color: #008000; text-decoration-color: #008000\">'Ids'</span>: <span style=\"font-weight: bold\">[</span>\n                <span style=\"color: #008000; text-decoration-color: #008000\">'975e668b-b389-47f1-a621-f948958e2e0b'</span>,\n                <span style=\"color: #008000; text-decoration-color: #008000\">'d7976bc8-7c93-47ba-b816-6c0cb3493749'</span>\n            <span style=\"font-weight: bold\">]</span>,\n            <span style=\"color: #008000; text-decoration-color: #008000\">'Type'</span>: <span style=\"color: #008000; text-decoration-color: #008000\">'CHILD'</span>\n        <span style=\"font-weight: bold\">}</span>\n    <span style=\"font-weight: bold\">]</span>,\n    <span style=\"color: #008000; text-decoration-color: #008000\">'RowIndex'</span>: <span style=\"color: #800080; text-decoration-color: #800080; font-style: italic\">None</span>,\n    <span style=\"color: #008000; text-decoration-color: #008000\">'RowSpan'</span>: <span style=\"color: #800080; text-decoration-color: #800080; font-style: italic\">None</span>,\n    <span style=\"color: #008000; text-decoration-color: #008000\">'SelectionStatus'</span>: <span style=\"color: #800080; text-decoration-color: #800080; font-style: italic\">None</span>,\n    <span style=\"color: #008000; text-decoration-color: #008000\">'Text'</span>: <span style=\"color: #008000; text-decoration-color: #008000\">'$ 1350'</span>,\n    <span style=\"color: #008000; text-decoration-color: #008000\">'TextType'</span>: <span style=\"color: #800080; text-decoration-color: #800080; font-style: italic\">None</span>\n<span style=\"font-weight: bold\">}</span>\n</pre>\n"
     },
     "metadata": {},
     "output_type": "display_data"
    },
    {
     "name": "stdout",
     "output_type": "stream",
     "text": [
      "  done\n"
     ]
    }
   ],
   "source": [
    "bfile.step_04_annotate_image_for_keyword(\"Alice\")\n",
    "bfile.step_04_annotate_image_for_keyword(\"Bob\")\n",
    "bfile.step_04_annotate_image_for_keyword(\"1350\")"
   ],
   "metadata": {
    "collapsed": false,
    "pycharm": {
     "name": "#%%\n"
    }
   }
  },
  {
   "cell_type": "code",
   "execution_count": null,
   "outputs": [],
   "source": [],
   "metadata": {
    "collapsed": false,
    "pycharm": {
     "name": "#%%\n"
    }
   }
  }
 ],
 "metadata": {
  "kernelspec": {
   "display_name": "Python 3",
   "language": "python",
   "name": "python3"
  },
  "language_info": {
   "codemirror_mode": {
    "name": "ipython",
    "version": 2
   },
   "file_extension": ".py",
   "mimetype": "text/x-python",
   "name": "python",
   "nbconvert_exporter": "python",
   "pygments_lexer": "ipython2",
   "version": "2.7.6"
  }
 },
 "nbformat": 4,
 "nbformat_minor": 0
}
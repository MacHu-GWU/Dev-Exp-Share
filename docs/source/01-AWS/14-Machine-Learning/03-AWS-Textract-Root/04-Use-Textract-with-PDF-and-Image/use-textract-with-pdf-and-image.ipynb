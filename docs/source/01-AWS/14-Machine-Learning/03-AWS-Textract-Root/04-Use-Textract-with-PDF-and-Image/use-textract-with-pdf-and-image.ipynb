{
 "cells": [
  {
   "cell_type": "code",
   "execution_count": 1,
   "outputs": [
    {
     "name": "stderr",
     "output_type": "stream",
     "text": [
      "UsageError: Line magic function `%` not found.\n"
     ]
    }
   ],
   "source": [
    "% pip install -r requirements.txt"
   ],
   "metadata": {
    "collapsed": false,
    "pycharm": {
     "name": "#%%\n"
    }
   }
  },
  {
   "cell_type": "code",
   "execution_count": 21,
   "outputs": [],
   "source": [
    "# -*- coding: utf-8 -*-\n",
    "\n",
    "import typing as T\n",
    "import uuid\n",
    "import os\n",
    "import json\n",
    "\n",
    "import attr\n",
    "from pathlib_mate import Path\n",
    "from rich import print as rprint\n",
    "from PIL import Image, ImageDraw\n",
    "from s3pathlib import S3Path, context\n",
    "from pdf2image import convert_from_path\n",
    "from boto_session_manager import BotoSesManager, AwsServiceEnum\n",
    "\n",
    "\n",
    "class Config:\n",
    "    aws_profile = \"aws_data_lab_sanhe_us_east_2\"\n",
    "    bucket = \"aws-data-lab-sanhe-for-everything-us-east-2\"\n",
    "\n",
    "\n",
    "bsm = BotoSesManager(profile_name=Config.aws_profile)\n",
    "context.attach_boto_session(bsm.boto_ses)\n",
    "\n",
    "tt_client = bsm.get_client(AwsServiceEnum.Textract)\n",
    "ch_client = bsm.get_client(AwsServiceEnum.Comprehend)\n",
    "\n",
    "dir_here = Path(os.getcwd()).absolute()\n",
    "\n",
    "s3dir_here = S3Path(Config.bucket, \"projects\", \"2022-10-10-textract-with-pdf-and-image\").to_dir()\n",
    "path_raw_pdf = dir_here / \"apartment-lease.pdf\"\n",
    "dir_images = dir_here / \"images\"\n",
    "dir_annotated_images = dir_here / \"annotated_images\"\n",
    "\n",
    "dir_images.mkdir_if_not_exists()\n",
    "dir_annotated_images.mkdir_if_not_exists()\n",
    "\n",
    "\n",
    "def get_nth_page_filename(ith: int) -> str:\n",
    "    return f\"{ith}.jpg\"\n",
    "\n",
    "\n",
    "@attr.s\n",
    "class BinaryFile:\n",
    "    path: Path = attr.ib()\n",
    "    s3dir: S3Path = attr.ib()\n",
    "\n",
    "    @property\n",
    "    def s3path_raw(self) -> S3Path:\n",
    "        return self.s3dir / \"01-raw\" / self.path.basename\n",
    "\n",
    "    @property\n",
    "    def s3dir_textract_output(self) -> S3Path:\n",
    "        return (self.s3dir / \"02-textract_output\" / self.path.basename).to_dir()\n",
    "\n",
    "    @property\n",
    "    def s3dir_textract_job_run(self) -> S3Path:\n",
    "        return list(self.s3dir_textract_output.iterdir())[0]\n",
    "\n",
    "    @property\n",
    "    def s3path_merged_json(self) -> S3Path:\n",
    "        return self.s3dir_textract_job_run / \"merged.json\"\n",
    "\n",
    "    @property\n",
    "    def s3path_merged_txt(self) -> S3Path:\n",
    "        return self.s3dir_textract_job_run / \"merged.txt\"\n",
    "\n",
    "    @property\n",
    "    def s3dir_comprehend_output(self) -> S3Path:\n",
    "        return (self.s3dir / \"03-comprehend_output\" / self.path.basename).to_dir()\n",
    "\n",
    "    @property\n",
    "    def s3path_entity_json(self) -> S3Path:\n",
    "        return self.s3dir_comprehend_output / \"entities.json\"\n",
    "\n",
    "    def step_00_upload_raw_file(self):\n",
    "        self.s3path_raw.upload_file(self.path.abspath, overwrite=True)\n",
    "\n",
    "    def step_01_textract_analyze_document(self) -> dict:\n",
    "        \"\"\"\n",
    "        Ref:\n",
    "\n",
    "        - https://boto3.amazonaws.com/v1/documentation/api/latest/reference/services/textract.html#Textract.Client.start_document_analysis\n",
    "        \"\"\"\n",
    "        print(\"start document analysis ...\")\n",
    "        print(f\"  preview raw file at: {self.s3path_raw.console_url}\")\n",
    "        print(f\"  preview textract output file at: {self.s3dir_textract_output.console_url}\")\n",
    "        response = tt_client.start_document_analysis(\n",
    "            DocumentLocation=dict(\n",
    "                S3Object=dict(\n",
    "                    Bucket=self.s3path_raw.bucket,\n",
    "                    Name=self.s3path_raw.key,\n",
    "                ),\n",
    "            ),\n",
    "            ClientRequestToken=uuid.uuid4().hex,\n",
    "            FeatureTypes=[\"TABLES\", \"FORMS\"],\n",
    "            OutputConfig=dict(\n",
    "                S3Bucket=self.s3dir_textract_output.bucket,\n",
    "                S3Prefix=self.s3dir_textract_output.to_file().key,\n",
    "            )\n",
    "        )\n",
    "        print(\"  done\")\n",
    "        return response\n",
    "\n",
    "    def step_02_merge_textract_output(self):\n",
    "        print(\"merge textract output\")\n",
    "        print(f\"  preview merged json at: {self.s3path_merged_json.console_url}\")\n",
    "        print(f\"  preview merged text at: {self.s3path_merged_txt.console_url}\")\n",
    "        merged_data = {\"Blocks\": []}\n",
    "        lines = list()\n",
    "        s = set()\n",
    "        for s3path in self.s3dir_textract_job_run.iter_objects():\n",
    "            if s3path.basename not in [\".s3_access_check\", \"merged.json\", \"merged.txt\"]:\n",
    "                data = json.loads(s3path.read_text())\n",
    "                merged_data[\"Blocks\"].extend(data[\"Blocks\"])\n",
    "                for block in data[\"Blocks\"]:\n",
    "                    s.add(block[\"BlockType\"])\n",
    "                    if block[\"BlockType\"] == \"LINE\":\n",
    "                        lines.append(block[\"Text\"])\n",
    "        self.s3path_merged_json.write_text(json.dumps(merged_data, indent=4))\n",
    "        self.s3path_merged_txt.write_text(\"\\n\".join(lines))\n",
    "        Path(dir_here, self.path.fname + \".json\").write_text(json.dumps(merged_data, indent=4))\n",
    "        Path(dir_here, self.path.fname + \".txt\").write_text(\"\\n\".join(lines))\n",
    "        print(\"  done\")\n",
    "\n",
    "    def step_03_pdf_to_image(self):\n",
    "        print(\"Convert pdf to images\")\n",
    "        print(f\"  preview at {dir_images}\")\n",
    "        images = convert_from_path(path_raw_pdf.abspath)\n",
    "        for page, image in enumerate(images, start=1):\n",
    "            image.save(dir_images.append_parts(get_nth_page_filename(page)).abspath)\n",
    "        print(\"  done\")\n",
    "\n",
    "    def step_04_annotate_image_for_keyword(self, keyword: str):\n",
    "        print(f\"Annotate images for keyword {keyword}\")\n",
    "\n",
    "        def locate_block(keyword: str) -> dict:\n",
    "            for block in json.loads(\n",
    "                path_raw_pdf.change(new_ext=\".json\").read_text()\n",
    "            )[\"Blocks\"]:\n",
    "                # if block[\"Text\"] == \"1215927470\":\n",
    "                if isinstance(block[\"Text\"], str):\n",
    "                    if keyword.lower() in block[\"Text\"].lower():\n",
    "                        return block\n",
    "            raise Exception(\"Not found!\")\n",
    "\n",
    "        block = locate_block(keyword)\n",
    "        print(\"  preview block:\")\n",
    "        rprint(block)\n",
    "        page = block[\"Page\"]\n",
    "        polygon: T.List[T.Dict[str, float]] = block[\"Geometry\"][\"Polygon\"]\n",
    "        file = get_nth_page_filename(page)\n",
    "        with Image.open(\n",
    "            dir_images.append_parts(file).abspath\n",
    "        ) as im:\n",
    "            x, y = im.size\n",
    "            draw = ImageDraw.Draw(im)\n",
    "            for dot1, dot2 in zip(\n",
    "                polygon,\n",
    "                polygon[1:] + [polygon[0], ]\n",
    "            ):\n",
    "                draw.line(\n",
    "                    (\n",
    "                        x * dot1[\"X\"],\n",
    "                        y * dot1[\"Y\"],\n",
    "                        x * dot2[\"X\"],\n",
    "                        y * dot2[\"Y\"],\n",
    "                    ),\n",
    "                    fill=128,\n",
    "                )\n",
    "            im.save(dir_annotated_images.append_parts(file).abspath)\n",
    "        print(\"  done\")\n",
    "\n",
    "\n",
    "bfile = BinaryFile(\n",
    "    path=path_raw_pdf,\n",
    "    s3dir=s3dir_here,\n",
    ")"
   ],
   "metadata": {
    "collapsed": false,
    "pycharm": {
     "name": "#%%\n"
    }
   }
  },
  {
   "cell_type": "code",
   "execution_count": 15,
   "outputs": [
    {
     "name": "stdout",
     "output_type": "stream",
     "text": [
      "https://console.aws.amazon.com/s3/buckets/aws-data-lab-sanhe-for-everything-us-east-2?prefix=projects/2022-10-10-textract-with-pdf-and-image/\n"
     ]
    }
   ],
   "source": [
    "s3dir_here.delete_if_exists()\n",
    "print(s3dir_here.console_url)"
   ],
   "metadata": {
    "collapsed": false,
    "pycharm": {
     "name": "#%%\n"
    }
   }
  },
  {
   "cell_type": "code",
   "execution_count": 16,
   "outputs": [],
   "source": [
    "bfile.step_00_upload_raw_file()"
   ],
   "metadata": {
    "collapsed": false,
    "pycharm": {
     "name": "#%%\n"
    }
   }
  },
  {
   "cell_type": "code",
   "execution_count": 17,
   "outputs": [
    {
     "name": "stdout",
     "output_type": "stream",
     "text": [
      "start document analysis ...\n",
      "  preview raw file at: https://console.aws.amazon.com/s3/object/aws-data-lab-sanhe-for-everything-us-east-2?prefix=projects/2022-10-10-textract-with-pdf-and-image/01-raw/apartment-lease.pdf\n",
      "  preview textract output file at: https://console.aws.amazon.com/s3/buckets/aws-data-lab-sanhe-for-everything-us-east-2?prefix=projects/2022-10-10-textract-with-pdf-and-image/02-textract_output/apartment-lease.pdf/\n",
      "  done\n"
     ]
    },
    {
     "data": {
      "text/plain": "{'JobId': '44b5803a8840898ccd276251fb1db1c253ec42fd0964bb0c17d7985cd087f7d3',\n 'ResponseMetadata': {'RequestId': '13e7bc72-0cb2-4bd2-ad7b-529eabeba32b',\n  'HTTPStatusCode': 200,\n  'HTTPHeaders': {'x-amzn-requestid': '13e7bc72-0cb2-4bd2-ad7b-529eabeba32b',\n   'content-type': 'application/x-amz-json-1.1',\n   'content-length': '76',\n   'date': 'Tue, 11 Oct 2022 19:02:50 GMT'},\n  'RetryAttempts': 0}}"
     },
     "execution_count": 17,
     "metadata": {},
     "output_type": "execute_result"
    }
   ],
   "source": [
    "bfile.step_01_textract_analyze_document()"
   ],
   "metadata": {
    "collapsed": false,
    "pycharm": {
     "name": "#%%\n"
    }
   }
  },
  {
   "cell_type": "code",
   "execution_count": 18,
   "outputs": [
    {
     "name": "stdout",
     "output_type": "stream",
     "text": [
      "merge textract output\n",
      "  preview merged json at: https://console.aws.amazon.com/s3/object/aws-data-lab-sanhe-for-everything-us-east-2?prefix=projects/2022-10-10-textract-with-pdf-and-image/02-textract_output/apartment-lease.pdf/44b5803a8840898ccd276251fb1db1c253ec42fd0964bb0c17d7985cd087f7d3/merged.json\n",
      "  preview merged text at: https://console.aws.amazon.com/s3/object/aws-data-lab-sanhe-for-everything-us-east-2?prefix=projects/2022-10-10-textract-with-pdf-and-image/02-textract_output/apartment-lease.pdf/44b5803a8840898ccd276251fb1db1c253ec42fd0964bb0c17d7985cd087f7d3/merged.txt\n",
      "  done\n"
     ]
    }
   ],
   "source": [
    "bfile.step_02_merge_textract_output()"
   ],
   "metadata": {
    "collapsed": false,
    "pycharm": {
     "name": "#%%\n"
    }
   }
  },
  {
   "cell_type": "code",
   "execution_count": 22,
   "outputs": [
    {
     "name": "stdout",
     "output_type": "stream",
     "text": [
      "Convert pdf to images\n",
      "  preview at /Users/sanhehu/Documents/GitHub/Dev-Exp-Share/docs/source/01-AWS/14-Machine-Learning/03-AWS-Textract-Root/04-Use-Textract-with-PDF-and-Image/images\n",
      "  done\n"
     ]
    }
   ],
   "source": [
    "# ensure the ``images`` and ``annotated_images`` are created\n",
    "bfile.step_03_pdf_to_image()"
   ],
   "metadata": {
    "collapsed": false,
    "pycharm": {
     "name": "#%%\n"
    }
   }
  },
  {
   "cell_type": "code",
   "execution_count": 23,
   "outputs": [
    {
     "name": "stdout",
     "output_type": "stream",
     "text": [
      "Annotate images for keyword Alice\n",
      "  preview block:\n"
     ]
    },
    {
     "data": {
      "text/plain": "\u001B[1m{\u001B[0m\n    \u001B[32m'BlockType'\u001B[0m: \u001B[32m'LINE'\u001B[0m,\n    \u001B[32m'ColumnIndex'\u001B[0m: \u001B[3;35mNone\u001B[0m,\n    \u001B[32m'ColumnSpan'\u001B[0m: \u001B[3;35mNone\u001B[0m,\n    \u001B[32m'Confidence'\u001B[0m: \u001B[1;36m99.36701965332031\u001B[0m,\n    \u001B[32m'EntityTypes'\u001B[0m: \u001B[3;35mNone\u001B[0m,\n    \u001B[32m'Geometry'\u001B[0m: \u001B[1m{\u001B[0m\n        \u001B[32m'BoundingBox'\u001B[0m: \u001B[1m{\u001B[0m\n            \u001B[32m'Height'\u001B[0m: \u001B[1;36m0.024774566292762756\u001B[0m,\n            \u001B[32m'Left'\u001B[0m: \u001B[1;36m0.29069405794143677\u001B[0m,\n            \u001B[32m'Top'\u001B[0m: \u001B[1;36m0.15761250257492065\u001B[0m,\n            \u001B[32m'Width'\u001B[0m: \u001B[1;36m0.06210869550704956\u001B[0m\n        \u001B[1m}\u001B[0m,\n        \u001B[32m'Polygon'\u001B[0m: \u001B[1m[\u001B[0m\n            \u001B[1m{\u001B[0m\u001B[32m'X'\u001B[0m: \u001B[1;36m0.29069405794143677\u001B[0m, \u001B[32m'Y'\u001B[0m: \u001B[1;36m0.15761250257492065\u001B[0m\u001B[1m}\u001B[0m,\n            \u001B[1m{\u001B[0m\u001B[32m'X'\u001B[0m: \u001B[1;36m0.35280275344848633\u001B[0m, \u001B[32m'Y'\u001B[0m: \u001B[1;36m0.15761250257492065\u001B[0m\u001B[1m}\u001B[0m,\n            \u001B[1m{\u001B[0m\u001B[32m'X'\u001B[0m: \u001B[1;36m0.35280275344848633\u001B[0m, \u001B[32m'Y'\u001B[0m: \u001B[1;36m0.1823870688676834\u001B[0m\u001B[1m}\u001B[0m,\n            \u001B[1m{\u001B[0m\u001B[32m'X'\u001B[0m: \u001B[1;36m0.29069405794143677\u001B[0m, \u001B[32m'Y'\u001B[0m: \u001B[1;36m0.1823870688676834\u001B[0m\u001B[1m}\u001B[0m\n        \u001B[1m]\u001B[0m\n    \u001B[1m}\u001B[0m,\n    \u001B[32m'Hint'\u001B[0m: \u001B[3;35mNone\u001B[0m,\n    \u001B[32m'Id'\u001B[0m: \u001B[32m'381fe244-c61d-4641-8d5e-7122017c59db'\u001B[0m,\n    \u001B[32m'Page'\u001B[0m: \u001B[1;36m1\u001B[0m,\n    \u001B[32m'PageClassification'\u001B[0m: \u001B[3;35mNone\u001B[0m,\n    \u001B[32m'Query'\u001B[0m: \u001B[3;35mNone\u001B[0m,\n    \u001B[32m'Relationships'\u001B[0m: \u001B[1m[\u001B[0m\u001B[1m{\u001B[0m\u001B[32m'Ids'\u001B[0m: \u001B[1m[\u001B[0m\u001B[32m'd458f184-ae27-4028-823c-4079d7fe9119'\u001B[0m\u001B[1m]\u001B[0m, \u001B[32m'Type'\u001B[0m: \u001B[32m'CHILD'\u001B[0m\u001B[1m}\u001B[0m\u001B[1m]\u001B[0m,\n    \u001B[32m'RowIndex'\u001B[0m: \u001B[3;35mNone\u001B[0m,\n    \u001B[32m'RowSpan'\u001B[0m: \u001B[3;35mNone\u001B[0m,\n    \u001B[32m'SelectionStatus'\u001B[0m: \u001B[3;35mNone\u001B[0m,\n    \u001B[32m'Text'\u001B[0m: \u001B[32m'Alice'\u001B[0m,\n    \u001B[32m'TextType'\u001B[0m: \u001B[3;35mNone\u001B[0m\n\u001B[1m}\u001B[0m\n",
      "text/html": "<pre style=\"white-space:pre;overflow-x:auto;line-height:normal;font-family:Menlo,'DejaVu Sans Mono',consolas,'Courier New',monospace\"><span style=\"font-weight: bold\">{</span>\n    <span style=\"color: #008000; text-decoration-color: #008000\">'BlockType'</span>: <span style=\"color: #008000; text-decoration-color: #008000\">'LINE'</span>,\n    <span style=\"color: #008000; text-decoration-color: #008000\">'ColumnIndex'</span>: <span style=\"color: #800080; text-decoration-color: #800080; font-style: italic\">None</span>,\n    <span style=\"color: #008000; text-decoration-color: #008000\">'ColumnSpan'</span>: <span style=\"color: #800080; text-decoration-color: #800080; font-style: italic\">None</span>,\n    <span style=\"color: #008000; text-decoration-color: #008000\">'Confidence'</span>: <span style=\"color: #008080; text-decoration-color: #008080; font-weight: bold\">99.36701965332031</span>,\n    <span style=\"color: #008000; text-decoration-color: #008000\">'EntityTypes'</span>: <span style=\"color: #800080; text-decoration-color: #800080; font-style: italic\">None</span>,\n    <span style=\"color: #008000; text-decoration-color: #008000\">'Geometry'</span>: <span style=\"font-weight: bold\">{</span>\n        <span style=\"color: #008000; text-decoration-color: #008000\">'BoundingBox'</span>: <span style=\"font-weight: bold\">{</span>\n            <span style=\"color: #008000; text-decoration-color: #008000\">'Height'</span>: <span style=\"color: #008080; text-decoration-color: #008080; font-weight: bold\">0.024774566292762756</span>,\n            <span style=\"color: #008000; text-decoration-color: #008000\">'Left'</span>: <span style=\"color: #008080; text-decoration-color: #008080; font-weight: bold\">0.29069405794143677</span>,\n            <span style=\"color: #008000; text-decoration-color: #008000\">'Top'</span>: <span style=\"color: #008080; text-decoration-color: #008080; font-weight: bold\">0.15761250257492065</span>,\n            <span style=\"color: #008000; text-decoration-color: #008000\">'Width'</span>: <span style=\"color: #008080; text-decoration-color: #008080; font-weight: bold\">0.06210869550704956</span>\n        <span style=\"font-weight: bold\">}</span>,\n        <span style=\"color: #008000; text-decoration-color: #008000\">'Polygon'</span>: <span style=\"font-weight: bold\">[</span>\n            <span style=\"font-weight: bold\">{</span><span style=\"color: #008000; text-decoration-color: #008000\">'X'</span>: <span style=\"color: #008080; text-decoration-color: #008080; font-weight: bold\">0.29069405794143677</span>, <span style=\"color: #008000; text-decoration-color: #008000\">'Y'</span>: <span style=\"color: #008080; text-decoration-color: #008080; font-weight: bold\">0.15761250257492065</span><span style=\"font-weight: bold\">}</span>,\n            <span style=\"font-weight: bold\">{</span><span style=\"color: #008000; text-decoration-color: #008000\">'X'</span>: <span style=\"color: #008080; text-decoration-color: #008080; font-weight: bold\">0.35280275344848633</span>, <span style=\"color: #008000; text-decoration-color: #008000\">'Y'</span>: <span style=\"color: #008080; text-decoration-color: #008080; font-weight: bold\">0.15761250257492065</span><span style=\"font-weight: bold\">}</span>,\n            <span style=\"font-weight: bold\">{</span><span style=\"color: #008000; text-decoration-color: #008000\">'X'</span>: <span style=\"color: #008080; text-decoration-color: #008080; font-weight: bold\">0.35280275344848633</span>, <span style=\"color: #008000; text-decoration-color: #008000\">'Y'</span>: <span style=\"color: #008080; text-decoration-color: #008080; font-weight: bold\">0.1823870688676834</span><span style=\"font-weight: bold\">}</span>,\n            <span style=\"font-weight: bold\">{</span><span style=\"color: #008000; text-decoration-color: #008000\">'X'</span>: <span style=\"color: #008080; text-decoration-color: #008080; font-weight: bold\">0.29069405794143677</span>, <span style=\"color: #008000; text-decoration-color: #008000\">'Y'</span>: <span style=\"color: #008080; text-decoration-color: #008080; font-weight: bold\">0.1823870688676834</span><span style=\"font-weight: bold\">}</span>\n        <span style=\"font-weight: bold\">]</span>\n    <span style=\"font-weight: bold\">}</span>,\n    <span style=\"color: #008000; text-decoration-color: #008000\">'Hint'</span>: <span style=\"color: #800080; text-decoration-color: #800080; font-style: italic\">None</span>,\n    <span style=\"color: #008000; text-decoration-color: #008000\">'Id'</span>: <span style=\"color: #008000; text-decoration-color: #008000\">'381fe244-c61d-4641-8d5e-7122017c59db'</span>,\n    <span style=\"color: #008000; text-decoration-color: #008000\">'Page'</span>: <span style=\"color: #008080; text-decoration-color: #008080; font-weight: bold\">1</span>,\n    <span style=\"color: #008000; text-decoration-color: #008000\">'PageClassification'</span>: <span style=\"color: #800080; text-decoration-color: #800080; font-style: italic\">None</span>,\n    <span style=\"color: #008000; text-decoration-color: #008000\">'Query'</span>: <span style=\"color: #800080; text-decoration-color: #800080; font-style: italic\">None</span>,\n    <span style=\"color: #008000; text-decoration-color: #008000\">'Relationships'</span>: <span style=\"font-weight: bold\">[{</span><span style=\"color: #008000; text-decoration-color: #008000\">'Ids'</span>: <span style=\"font-weight: bold\">[</span><span style=\"color: #008000; text-decoration-color: #008000\">'d458f184-ae27-4028-823c-4079d7fe9119'</span><span style=\"font-weight: bold\">]</span>, <span style=\"color: #008000; text-decoration-color: #008000\">'Type'</span>: <span style=\"color: #008000; text-decoration-color: #008000\">'CHILD'</span><span style=\"font-weight: bold\">}]</span>,\n    <span style=\"color: #008000; text-decoration-color: #008000\">'RowIndex'</span>: <span style=\"color: #800080; text-decoration-color: #800080; font-style: italic\">None</span>,\n    <span style=\"color: #008000; text-decoration-color: #008000\">'RowSpan'</span>: <span style=\"color: #800080; text-decoration-color: #800080; font-style: italic\">None</span>,\n    <span style=\"color: #008000; text-decoration-color: #008000\">'SelectionStatus'</span>: <span style=\"color: #800080; text-decoration-color: #800080; font-style: italic\">None</span>,\n    <span style=\"color: #008000; text-decoration-color: #008000\">'Text'</span>: <span style=\"color: #008000; text-decoration-color: #008000\">'Alice'</span>,\n    <span style=\"color: #008000; text-decoration-color: #008000\">'TextType'</span>: <span style=\"color: #800080; text-decoration-color: #800080; font-style: italic\">None</span>\n<span style=\"font-weight: bold\">}</span>\n</pre>\n"
     },
     "metadata": {},
     "output_type": "display_data"
    },
    {
     "name": "stdout",
     "output_type": "stream",
     "text": [
      "  done\n",
      "Annotate images for keyword 1350\n",
      "  preview block:\n"
     ]
    },
    {
     "data": {
      "text/plain": "\u001B[1m{\u001B[0m\n    \u001B[32m'BlockType'\u001B[0m: \u001B[32m'LINE'\u001B[0m,\n    \u001B[32m'ColumnIndex'\u001B[0m: \u001B[3;35mNone\u001B[0m,\n    \u001B[32m'ColumnSpan'\u001B[0m: \u001B[3;35mNone\u001B[0m,\n    \u001B[32m'Confidence'\u001B[0m: \u001B[1;36m97.81658935546875\u001B[0m,\n    \u001B[32m'EntityTypes'\u001B[0m: \u001B[3;35mNone\u001B[0m,\n    \u001B[32m'Geometry'\u001B[0m: \u001B[1m{\u001B[0m\n        \u001B[32m'BoundingBox'\u001B[0m: \u001B[1m{\u001B[0m\n            \u001B[32m'Height'\u001B[0m: \u001B[1;36m0.013392333872616291\u001B[0m,\n            \u001B[32m'Left'\u001B[0m: \u001B[1;36m0.11777328699827194\u001B[0m,\n            \u001B[32m'Top'\u001B[0m: \u001B[1;36m0.4857618510723114\u001B[0m,\n            \u001B[32m'Width'\u001B[0m: \u001B[1;36m0.04334520548582077\u001B[0m\n        \u001B[1m}\u001B[0m,\n        \u001B[32m'Polygon'\u001B[0m: \u001B[1m[\u001B[0m\n            \u001B[1m{\u001B[0m\u001B[32m'X'\u001B[0m: \u001B[1;36m0.11777328699827194\u001B[0m, \u001B[32m'Y'\u001B[0m: \u001B[1;36m0.4857618510723114\u001B[0m\u001B[1m}\u001B[0m,\n            \u001B[1m{\u001B[0m\u001B[32m'X'\u001B[0m: \u001B[1;36m0.1611184924840927\u001B[0m, \u001B[32m'Y'\u001B[0m: \u001B[1;36m0.4857618510723114\u001B[0m\u001B[1m}\u001B[0m,\n            \u001B[1m{\u001B[0m\u001B[32m'X'\u001B[0m: \u001B[1;36m0.1611184924840927\u001B[0m, \u001B[32m'Y'\u001B[0m: \u001B[1;36m0.4991541802883148\u001B[0m\u001B[1m}\u001B[0m,\n            \u001B[1m{\u001B[0m\u001B[32m'X'\u001B[0m: \u001B[1;36m0.11777328699827194\u001B[0m, \u001B[32m'Y'\u001B[0m: \u001B[1;36m0.4991541802883148\u001B[0m\u001B[1m}\u001B[0m\n        \u001B[1m]\u001B[0m\n    \u001B[1m}\u001B[0m,\n    \u001B[32m'Hint'\u001B[0m: \u001B[3;35mNone\u001B[0m,\n    \u001B[32m'Id'\u001B[0m: \u001B[32m'4ba86e7e-ba3e-4d0d-b0d2-ec06ec0ba3b9'\u001B[0m,\n    \u001B[32m'Page'\u001B[0m: \u001B[1;36m2\u001B[0m,\n    \u001B[32m'PageClassification'\u001B[0m: \u001B[3;35mNone\u001B[0m,\n    \u001B[32m'Query'\u001B[0m: \u001B[3;35mNone\u001B[0m,\n    \u001B[32m'Relationships'\u001B[0m: \u001B[1m[\u001B[0m\n        \u001B[1m{\u001B[0m\n            \u001B[32m'Ids'\u001B[0m: \u001B[1m[\u001B[0m\n                \u001B[32m'5914e2af-21b5-4e0b-966b-083bc8baedfb'\u001B[0m,\n                \u001B[32m'3ca31b42-c8e7-4392-b095-ad5a24c8f8fc'\u001B[0m\n            \u001B[1m]\u001B[0m,\n            \u001B[32m'Type'\u001B[0m: \u001B[32m'CHILD'\u001B[0m\n        \u001B[1m}\u001B[0m\n    \u001B[1m]\u001B[0m,\n    \u001B[32m'RowIndex'\u001B[0m: \u001B[3;35mNone\u001B[0m,\n    \u001B[32m'RowSpan'\u001B[0m: \u001B[3;35mNone\u001B[0m,\n    \u001B[32m'SelectionStatus'\u001B[0m: \u001B[3;35mNone\u001B[0m,\n    \u001B[32m'Text'\u001B[0m: \u001B[32m'$ 1350'\u001B[0m,\n    \u001B[32m'TextType'\u001B[0m: \u001B[3;35mNone\u001B[0m\n\u001B[1m}\u001B[0m\n",
      "text/html": "<pre style=\"white-space:pre;overflow-x:auto;line-height:normal;font-family:Menlo,'DejaVu Sans Mono',consolas,'Courier New',monospace\"><span style=\"font-weight: bold\">{</span>\n    <span style=\"color: #008000; text-decoration-color: #008000\">'BlockType'</span>: <span style=\"color: #008000; text-decoration-color: #008000\">'LINE'</span>,\n    <span style=\"color: #008000; text-decoration-color: #008000\">'ColumnIndex'</span>: <span style=\"color: #800080; text-decoration-color: #800080; font-style: italic\">None</span>,\n    <span style=\"color: #008000; text-decoration-color: #008000\">'ColumnSpan'</span>: <span style=\"color: #800080; text-decoration-color: #800080; font-style: italic\">None</span>,\n    <span style=\"color: #008000; text-decoration-color: #008000\">'Confidence'</span>: <span style=\"color: #008080; text-decoration-color: #008080; font-weight: bold\">97.81658935546875</span>,\n    <span style=\"color: #008000; text-decoration-color: #008000\">'EntityTypes'</span>: <span style=\"color: #800080; text-decoration-color: #800080; font-style: italic\">None</span>,\n    <span style=\"color: #008000; text-decoration-color: #008000\">'Geometry'</span>: <span style=\"font-weight: bold\">{</span>\n        <span style=\"color: #008000; text-decoration-color: #008000\">'BoundingBox'</span>: <span style=\"font-weight: bold\">{</span>\n            <span style=\"color: #008000; text-decoration-color: #008000\">'Height'</span>: <span style=\"color: #008080; text-decoration-color: #008080; font-weight: bold\">0.013392333872616291</span>,\n            <span style=\"color: #008000; text-decoration-color: #008000\">'Left'</span>: <span style=\"color: #008080; text-decoration-color: #008080; font-weight: bold\">0.11777328699827194</span>,\n            <span style=\"color: #008000; text-decoration-color: #008000\">'Top'</span>: <span style=\"color: #008080; text-decoration-color: #008080; font-weight: bold\">0.4857618510723114</span>,\n            <span style=\"color: #008000; text-decoration-color: #008000\">'Width'</span>: <span style=\"color: #008080; text-decoration-color: #008080; font-weight: bold\">0.04334520548582077</span>\n        <span style=\"font-weight: bold\">}</span>,\n        <span style=\"color: #008000; text-decoration-color: #008000\">'Polygon'</span>: <span style=\"font-weight: bold\">[</span>\n            <span style=\"font-weight: bold\">{</span><span style=\"color: #008000; text-decoration-color: #008000\">'X'</span>: <span style=\"color: #008080; text-decoration-color: #008080; font-weight: bold\">0.11777328699827194</span>, <span style=\"color: #008000; text-decoration-color: #008000\">'Y'</span>: <span style=\"color: #008080; text-decoration-color: #008080; font-weight: bold\">0.4857618510723114</span><span style=\"font-weight: bold\">}</span>,\n            <span style=\"font-weight: bold\">{</span><span style=\"color: #008000; text-decoration-color: #008000\">'X'</span>: <span style=\"color: #008080; text-decoration-color: #008080; font-weight: bold\">0.1611184924840927</span>, <span style=\"color: #008000; text-decoration-color: #008000\">'Y'</span>: <span style=\"color: #008080; text-decoration-color: #008080; font-weight: bold\">0.4857618510723114</span><span style=\"font-weight: bold\">}</span>,\n            <span style=\"font-weight: bold\">{</span><span style=\"color: #008000; text-decoration-color: #008000\">'X'</span>: <span style=\"color: #008080; text-decoration-color: #008080; font-weight: bold\">0.1611184924840927</span>, <span style=\"color: #008000; text-decoration-color: #008000\">'Y'</span>: <span style=\"color: #008080; text-decoration-color: #008080; font-weight: bold\">0.4991541802883148</span><span style=\"font-weight: bold\">}</span>,\n            <span style=\"font-weight: bold\">{</span><span style=\"color: #008000; text-decoration-color: #008000\">'X'</span>: <span style=\"color: #008080; text-decoration-color: #008080; font-weight: bold\">0.11777328699827194</span>, <span style=\"color: #008000; text-decoration-color: #008000\">'Y'</span>: <span style=\"color: #008080; text-decoration-color: #008080; font-weight: bold\">0.4991541802883148</span><span style=\"font-weight: bold\">}</span>\n        <span style=\"font-weight: bold\">]</span>\n    <span style=\"font-weight: bold\">}</span>,\n    <span style=\"color: #008000; text-decoration-color: #008000\">'Hint'</span>: <span style=\"color: #800080; text-decoration-color: #800080; font-style: italic\">None</span>,\n    <span style=\"color: #008000; text-decoration-color: #008000\">'Id'</span>: <span style=\"color: #008000; text-decoration-color: #008000\">'4ba86e7e-ba3e-4d0d-b0d2-ec06ec0ba3b9'</span>,\n    <span style=\"color: #008000; text-decoration-color: #008000\">'Page'</span>: <span style=\"color: #008080; text-decoration-color: #008080; font-weight: bold\">2</span>,\n    <span style=\"color: #008000; text-decoration-color: #008000\">'PageClassification'</span>: <span style=\"color: #800080; text-decoration-color: #800080; font-style: italic\">None</span>,\n    <span style=\"color: #008000; text-decoration-color: #008000\">'Query'</span>: <span style=\"color: #800080; text-decoration-color: #800080; font-style: italic\">None</span>,\n    <span style=\"color: #008000; text-decoration-color: #008000\">'Relationships'</span>: <span style=\"font-weight: bold\">[</span>\n        <span style=\"font-weight: bold\">{</span>\n            <span style=\"color: #008000; text-decoration-color: #008000\">'Ids'</span>: <span style=\"font-weight: bold\">[</span>\n                <span style=\"color: #008000; text-decoration-color: #008000\">'5914e2af-21b5-4e0b-966b-083bc8baedfb'</span>,\n                <span style=\"color: #008000; text-decoration-color: #008000\">'3ca31b42-c8e7-4392-b095-ad5a24c8f8fc'</span>\n            <span style=\"font-weight: bold\">]</span>,\n            <span style=\"color: #008000; text-decoration-color: #008000\">'Type'</span>: <span style=\"color: #008000; text-decoration-color: #008000\">'CHILD'</span>\n        <span style=\"font-weight: bold\">}</span>\n    <span style=\"font-weight: bold\">]</span>,\n    <span style=\"color: #008000; text-decoration-color: #008000\">'RowIndex'</span>: <span style=\"color: #800080; text-decoration-color: #800080; font-style: italic\">None</span>,\n    <span style=\"color: #008000; text-decoration-color: #008000\">'RowSpan'</span>: <span style=\"color: #800080; text-decoration-color: #800080; font-style: italic\">None</span>,\n    <span style=\"color: #008000; text-decoration-color: #008000\">'SelectionStatus'</span>: <span style=\"color: #800080; text-decoration-color: #800080; font-style: italic\">None</span>,\n    <span style=\"color: #008000; text-decoration-color: #008000\">'Text'</span>: <span style=\"color: #008000; text-decoration-color: #008000\">'$ 1350'</span>,\n    <span style=\"color: #008000; text-decoration-color: #008000\">'TextType'</span>: <span style=\"color: #800080; text-decoration-color: #800080; font-style: italic\">None</span>\n<span style=\"font-weight: bold\">}</span>\n</pre>\n"
     },
     "metadata": {},
     "output_type": "display_data"
    },
    {
     "name": "stdout",
     "output_type": "stream",
     "text": [
      "  done\n"
     ]
    }
   ],
   "source": [
    "bfile.step_04_annotate_image_for_keyword(\"Alice\")\n",
    "# bfile.step_04_annotate_image_for_keyword(\"Bob\")\n",
    "bfile.step_04_annotate_image_for_keyword(\"1350\")"
   ],
   "metadata": {
    "collapsed": false,
    "pycharm": {
     "name": "#%%\n"
    }
   }
  },
  {
   "cell_type": "code",
   "execution_count": null,
   "outputs": [],
   "source": [],
   "metadata": {
    "collapsed": false,
    "pycharm": {
     "name": "#%%\n"
    }
   }
  }
 ],
 "metadata": {
  "kernelspec": {
   "display_name": "Python 3",
   "language": "python",
   "name": "python3"
  },
  "language_info": {
   "codemirror_mode": {
    "name": "ipython",
    "version": 2
   },
   "file_extension": ".py",
   "mimetype": "text/x-python",
   "name": "python",
   "nbconvert_exporter": "python",
   "pygments_lexer": "ipython2",
   "version": "2.7.6"
  }
 },
 "nbformat": 4,
 "nbformat_minor": 0
}
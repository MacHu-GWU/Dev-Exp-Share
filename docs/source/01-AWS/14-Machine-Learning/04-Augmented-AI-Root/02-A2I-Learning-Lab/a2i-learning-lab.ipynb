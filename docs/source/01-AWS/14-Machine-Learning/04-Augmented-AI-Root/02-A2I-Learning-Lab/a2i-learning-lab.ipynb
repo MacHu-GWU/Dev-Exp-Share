{
 "cells": [
  {
   "cell_type": "markdown",
   "source": [
    "# A2I Learning Lab\n"
   ],
   "metadata": {
    "collapsed": false,
    "pycharm": {
     "name": "#%% md\n"
    }
   }
  },
  {
   "cell_type": "markdown",
   "source": [
    "## 1. Overview\n",
    "\n",
    "**Terminology**\n",
    "\n",
    "- HIL: Human in Loop"
   ],
   "metadata": {
    "collapsed": false,
    "pycharm": {
     "name": "#%% md\n"
    }
   }
  },
  {
   "cell_type": "markdown",
   "source": [
    "## 2. Create Labeling Workforce Private Team\n",
    "\n",
    "In this step, we create a labeling workforce private team and invite your employee to help us do the Human-in-Loop task.\n",
    "\n",
    "1. go to AWS Sagemaker Console -> Ground Truth sub menu -> Labeling workforces -> Private -> Create Private Team:"
   ],
   "metadata": {
    "collapsed": false,
    "pycharm": {
     "name": "#%% md\n"
    }
   }
  },
  {
   "cell_type": "markdown",
   "source": [
    "<img src=\"./images/01-Create-Labeling-Workforce-Private-Team.png\" width=\"1920\"/>"
   ],
   "metadata": {
    "collapsed": false,
    "pycharm": {
     "name": "#%% md\n"
    }
   }
  },
  {
   "cell_type": "markdown",
   "source": [
    "2. configure the private team, you can follow detailed instruction below"
   ],
   "metadata": {
    "collapsed": false,
    "pycharm": {
     "name": "#%% md\n"
    }
   }
  },
  {
   "cell_type": "markdown",
   "source": [
    "<img src=\"./images/02-Configure-Labeling-Workforce-Private-Team.png\" width=\"1600\"/>"
   ],
   "metadata": {
    "collapsed": false,
    "pycharm": {
     "name": "#%% md\n"
    }
   }
  },
  {
   "cell_type": "markdown",
   "source": [
    "- Private Team Creation = Create a private team with [AWS Cognito](https://aws.amazon.com/cognito/)\n",
    "- Team details:\n",
    "    - Team name = ``my-labeling-team``\n",
    "- Add Workers:\n",
    "    - Invite new workers by email, Email address: ``alice@example.com``\n",
    "    - Organization name: ``my-org``\n",
    "    - Contact email: ``admin@example.com``\n",
    "- Enable Notifications: we don't need this for learning.\n",
    "- Click \"Create Private Team\" button."
   ],
   "metadata": {
    "collapsed": false,
    "pycharm": {
     "name": "#%% md\n"
    }
   }
  },
  {
   "cell_type": "markdown",
   "source": [
    "3. Now you can enter your Private Team console. There is a sign-un URL your workers can log in to the HIL workspace. If you want to add more workers to your team, You can invite more people by clicking the \"Invite new workers\" button."
   ],
   "metadata": {
    "collapsed": false,
    "pycharm": {
     "name": "#%% md\n"
    }
   }
  },
  {
   "cell_type": "markdown",
   "source": [
    "<img src=\"./images/03-Private-Team-GUI.png\" width=\"1920\"/>"
   ],
   "metadata": {
    "collapsed": false,
    "pycharm": {
     "name": "#%% md\n"
    }
   }
  },
  {
   "cell_type": "markdown",
   "source": [
    "4. As a worker, once you logged in to the HIL workspace, you will see the following GUI. Now we don't have any HIL task available yet."
   ],
   "metadata": {
    "collapsed": false,
    "pycharm": {
     "name": "#%% md\n"
    }
   }
  },
  {
   "cell_type": "markdown",
   "source": [
    "<img src=\"./images/04-HIL-Workspace-Console.png\" width=\"1920\"/>"
   ],
   "metadata": {
    "collapsed": false,
    "pycharm": {
     "name": "#%% md\n"
    }
   }
  },
  {
   "cell_type": "markdown",
   "source": [
    "## 3. Create Human in Loop Workflow\n",
    "\n",
    "in this section, we create all required AWS resources for Human in Loop Workflow, including:\n",
    "\n",
    "1. An S3 bucket to store the HIL data\n",
    "2. An IAM Role for Human Review Workflow execution\n",
    "3. A Human Review Workflow definition that defines the metadata about this workflow\n",
    "4. A Task template that defines the HIL task HTML UI"
   ],
   "metadata": {
    "collapsed": false,
    "pycharm": {
     "name": "#%% md\n"
    }
   }
  },
  {
   "cell_type": "code",
   "execution_count": 1,
   "outputs": [
    {
     "name": "stderr",
     "output_type": "stream",
     "text": [
      "UsageError: Line magic function `%` not found.\n"
     ]
    }
   ],
   "source": [
    "% pip install -r requirements.txt"
   ],
   "metadata": {
    "collapsed": false,
    "pycharm": {
     "name": "#%%\n"
    }
   }
  },
  {
   "cell_type": "code",
   "execution_count": 29,
   "outputs": [],
   "source": [
    "# import standard library\n",
    "import typing as T\n",
    "import os\n",
    "import json\n",
    "import time\n",
    "import uuid\n",
    "import dataclasses\n",
    "\n",
    "# import 3rd party library\n",
    "from pathlib_mate import Path\n",
    "from s3pathlib import S3Path, context\n",
    "from boto_session_manager import BotoSesManager, AwsServiceEnum\n",
    "\n",
    "dir_here = Path(os.getcwd()).absolute()\n",
    "path_task_template = dir_here / \"task.liquid\"\n",
    "path_task_ui_html = dir_here / \"task.html\"\n",
    "path_task_input = dir_here / \"task.json\"\n",
    "\n",
    "\n",
    "@dataclasses.dataclass\n",
    "class Lab:\n",
    "    # constant attributes\n",
    "    project_name: str = dataclasses.field()\n",
    "    labeling_team_arn: str = dataclasses.field()\n",
    "    bsm: BotoSesManager = dataclasses.field(default=None)\n",
    "    path_task_template: Path = dataclasses.field(default=path_task_template)\n",
    "    path_task_ui_html: Path = dataclasses.field(default=path_task_ui_html)\n",
    "    path_task_input: Path = dataclasses.field(default=path_task_input)\n",
    "\n",
    "    # derived attributes\n",
    "    s3_client: T.Any = dataclasses.field(default=None)\n",
    "    iam_client: T.Any = dataclasses.field(default=None)\n",
    "    sm_client: T.Any = dataclasses.field(default=None)\n",
    "    a2i_client: T.Any = dataclasses.field(default=None)\n",
    "\n",
    "    def __post_init__(self):\n",
    "        if self.bsm is None:\n",
    "            self.bsm = BotoSesManager()\n",
    "        context.attach_boto_session(self.bsm.boto_ses)\n",
    "\n",
    "        self.s3_client = self.bsm.get_client(AwsServiceEnum.S3)\n",
    "        self.iam_client = self.bsm.get_client(AwsServiceEnum.IAM)\n",
    "        self.sm_client = self.bsm.get_client(AwsServiceEnum.SageMaker)\n",
    "        self.a2i_client = self.bsm.get_client(AwsServiceEnum.AugmentedAIRuntime)\n",
    "\n",
    "    @property\n",
    "    def project_name_slug(self) -> str:\n",
    "        return self.project_name.replace(\"_\", \"-\")\n",
    "\n",
    "    @property\n",
    "    def common_tags(self) -> T.List[T.Dict[str, str]]:\n",
    "        return [\n",
    "            dict(\n",
    "                Key=\"ProjectName\",\n",
    "                Value=self.project_name_slug,\n",
    "            )\n",
    "        ]\n",
    "\n",
    "    # --- Create S3 bucket to store HIL data\n",
    "    @property\n",
    "    def bucket_name(self) -> str:\n",
    "        return f\"{self.bsm.aws_account_id}-{self.bsm.aws_region}-{self.project_name_slug}\"\n",
    "\n",
    "    @property\n",
    "    def bucket_console_url(self) -> str:\n",
    "        return f\"https://s3.console.aws.amazon.com/s3/buckets/{self.bucket_name}?region={self.bsm.aws_region}&tab=objects\"\n",
    "\n",
    "    def step_1a_create_s3_bucket(self) -> dict:\n",
    "        print(\"Create s3 bucket to store HIL data\")\n",
    "        print(f\"  Preview at {self.bucket_console_url}\")\n",
    "        # ref: https://boto3.amazonaws.com/v1/documentation/api/latest/reference/services/s3.html#S3.Client.create_bucket\n",
    "        response1 = self.s3_client.create_bucket(\n",
    "            Bucket=self.bucket_name,\n",
    "            CreateBucketConfiguration=dict(\n",
    "                LocationConstraint=self.bsm.aws_region,\n",
    "            ),\n",
    "        )\n",
    "\n",
    "        # grant CORS permission so HIL UI can access artifacts in S3 bucket\n",
    "        # ref: https://docs.aws.amazon.com/sagemaker/latest/dg/sms-cors-update.html\n",
    "        # ref: https://boto3.amazonaws.com/v1/documentation/api/latest/reference/services/s3.html#S3.Client.put_bucket_cors\n",
    "        response2 = self.s3_client.put_bucket_cors(\n",
    "            Bucket=self.bucket_name,\n",
    "            CORSConfiguration={\n",
    "                \"CORSRules\": [\n",
    "                    {\n",
    "                        \"AllowedHeaders\": [],\n",
    "                        \"AllowedMethods\": [\"GET\"],\n",
    "                        \"AllowedOrigins\": [\"*\"],\n",
    "                        \"ExposeHeaders\": [\"Access-Control-Allow-Origin\"],\n",
    "                    }\n",
    "                ]\n",
    "            },\n",
    "        )\n",
    "\n",
    "        print(f\"  Successful created s3://{self.bucket_name}\")\n",
    "        return response1\n",
    "\n",
    "    def step_1b_delete_s3_bucket(self) -> dict:\n",
    "        print(\"Delete HIL data s3 bucket\")\n",
    "        print(f\"  Preview at {self.bucket_console_url}\")\n",
    "\n",
    "        s3dir = S3Path(self.bucket_name)\n",
    "        s3dir.delete_if_exists()\n",
    "        # ref: https://boto3.amazonaws.com/v1/documentation/api/latest/reference/services/s3.html#S3.Client.create_bucket\n",
    "        response = self.s3_client.delete_bucket(\n",
    "            Bucket=self.bucket_name,\n",
    "        )\n",
    "        print(f\"  Successful deleted s3://{self.bucket_name}\")\n",
    "        return response\n",
    "\n",
    "    # --- Create IAM Role for HIL\n",
    "    @property\n",
    "    def flow_execution_role_name(self) -> str:\n",
    "        return f\"{self.project_name_slug}-flow-role\"\n",
    "\n",
    "    @property\n",
    "    def flow_execution_role_policy_name(self) -> str:\n",
    "        return f\"{self.project_name_slug}-flow-role-in-line-policy\"\n",
    "\n",
    "    @property\n",
    "    def flow_execution_role_arn(self) -> str:\n",
    "        return f\"arn:aws:iam::{self.bsm.aws_account_id}:role/{self.flow_execution_role_name}\"\n",
    "\n",
    "    @property\n",
    "    def flow_execution_role_console_url(self) -> str:\n",
    "        return f\"https://console.aws.amazon.com/iamv2/home?region={self.bsm.aws_region}#/roles/details/{self.flow_execution_role_name}?section=permissions\"\n",
    "\n",
    "    def step_2a_create_flow_execution_role(self) -> dict:\n",
    "        print(\"Create IAM role for Human review workflow\")\n",
    "        print(f\"  Preview at {self.flow_execution_role_console_url}\")\n",
    "        # ref: https://boto3.amazonaws.com/v1/documentation/api/latest/reference/services/iam.html#IAM.Client.create_role\n",
    "        response1 = self.iam_client.create_role(\n",
    "            RoleName=self.flow_execution_role_name,\n",
    "            AssumeRolePolicyDocument=json.dumps({\n",
    "                \"Version\": \"2012-10-17\",\n",
    "                \"Statement\": [\n",
    "                    {\n",
    "                        \"Effect\": \"Allow\",\n",
    "                        \"Principal\": {\n",
    "                            \"Service\": \"sagemaker.amazonaws.com\"\n",
    "                        },\n",
    "                        \"Action\": \"sts:AssumeRole\"\n",
    "                    }\n",
    "                ]\n",
    "            }),\n",
    "            Tags=self.common_tags,\n",
    "        )\n",
    "\n",
    "        # ref: https://boto3.amazonaws.com/v1/documentation/api/latest/reference/services/iam.html#IAM.Client.put_role_policy\n",
    "        response2 = self.iam_client.put_role_policy(\n",
    "            RoleName=self.flow_execution_role_name,\n",
    "            PolicyName=self.flow_execution_role_policy_name,\n",
    "            PolicyDocument=json.dumps({\n",
    "                \"Version\": \"2012-10-17\",\n",
    "                \"Statement\": [\n",
    "                    {\n",
    "                        \"Effect\": \"Allow\",\n",
    "                        \"Action\": [\n",
    "                            \"s3:ListBucket\",\n",
    "                            \"s3:GetObject\",\n",
    "                            \"s3:PutObject\",\n",
    "                            \"s3:DeleteObject\"\n",
    "                        ],\n",
    "                        \"Resource\": [\n",
    "                            f\"arn:aws:s3:::{self.bucket_name}*\"\n",
    "                        ]\n",
    "                    }\n",
    "                ]\n",
    "            }),\n",
    "        )\n",
    "\n",
    "        print(f\"  Successful created {self.flow_execution_role_arn}\")\n",
    "        return response1\n",
    "\n",
    "    def step_2b_delete_flow_execution_role(self) -> dict:\n",
    "        print(\"Delete Human review workflow IAM role\")\n",
    "        print(f\"  Preview at {self.flow_execution_role_console_url}\")\n",
    "        # ref: https://boto3.amazonaws.com/v1/documentation/api/latest/reference/services/iam.html#IAM.Client.delete_role_policy\n",
    "        response = self.iam_client.delete_role_policy(\n",
    "            RoleName=self.flow_execution_role_name,\n",
    "            PolicyName=self.flow_execution_role_policy_name,\n",
    "        )\n",
    "\n",
    "        # ref: https://boto3.amazonaws.com/v1/documentation/api/latest/reference/services/iam.html#IAM.Client.delete_role\n",
    "        response = self.iam_client.delete_role(\n",
    "            RoleName=self.flow_execution_role_name,\n",
    "        )\n",
    "\n",
    "        print(f\"  Successful delete {self.flow_execution_role_arn}\")\n",
    "        return response\n",
    "\n",
    "    # --- Create Task\n",
    "    @property\n",
    "    def task_template_name(self) -> str:\n",
    "        return f\"{self.project_name_slug}\"\n",
    "\n",
    "    @property\n",
    "    def task_template_arn(self) -> str:\n",
    "        return f\"arn:aws:sagemaker:{self.bsm.aws_region}:{self.bsm.aws_account_id}:human-task-ui/{self.task_template_name}\"\n",
    "\n",
    "    @property\n",
    "    def task_template_console_url(self) -> str:\n",
    "        return f\"https://console.aws.amazon.com/a2i/home?region={self.bsm.aws_region}#/worker-task-templates/{self.task_template_name}\"\n",
    "\n",
    "    def step_3a_create_hil_task_template(self) -> dict:\n",
    "        print(\"Create Human in Loop task template\")\n",
    "        print(f\"  Preview at {self.task_template_console_url}\")\n",
    "        # ref: https://boto3.amazonaws.com/v1/documentation/api/latest/reference/services/sagemaker.html#SageMaker.Client.create_human_task_ui\n",
    "        liquid_template = self.path_task_template.read_text(encoding=\"utf-8\")\n",
    "        response = self.sm_client.create_human_task_ui(\n",
    "            HumanTaskUiName=self.task_template_name,\n",
    "            UiTemplate={\n",
    "                \"Content\": liquid_template\n",
    "            },\n",
    "            Tags=self.common_tags,\n",
    "        )\n",
    "\n",
    "        print(f\"  Successful created {self.task_template_name}\")\n",
    "        return response\n",
    "\n",
    "    def step_3b_delete_hil_task_template(self) -> dict:\n",
    "        print(\"Delete Human in Loop task template\")\n",
    "        print(f\"  Verify at {self.task_template_console_url}\")\n",
    "        # ref: https://boto3.amazonaws.com/v1/documentation/api/latest/reference/services/sagemaker.html#SageMaker.Client.delete_human_task_ui\n",
    "        response = self.sm_client.delete_human_task_ui(\n",
    "            HumanTaskUiName=self.task_template_name\n",
    "        )\n",
    "\n",
    "        print(f\"  Successful delete {self.task_template_arn}\")\n",
    "        return response\n",
    "\n",
    "    # --- Create Human review workflow\n",
    "    @property\n",
    "    def flow_definition_name(self) -> str:\n",
    "        return f\"{self.project_name_slug}\"\n",
    "\n",
    "    @property\n",
    "    def flow_definition_arn(self) -> str:\n",
    "        return f\"arn:aws:sagemaker:{self.bsm.aws_region}:{self.bsm.aws_account_id}:flow-definition/{self.flow_definition_name}\"\n",
    "\n",
    "    @property\n",
    "    def flow_definition_console_url(self) -> str:\n",
    "        return f\"https://console.aws.amazon.com/a2i/home?region={self.bsm.aws_region}#/human-review-workflows/{self.flow_definition_name}\"\n",
    "\n",
    "    @property\n",
    "    def s3dir_hil_input(self) -> S3Path:\n",
    "        return S3Path.from_s3_uri(f\"s3://{self.bucket_name}/hil/input\").to_dir()\n",
    "\n",
    "    @property\n",
    "    def s3dir_hil_output(self) -> S3Path:\n",
    "        return S3Path.from_s3_uri(f\"s3://{self.bucket_name}/hil/output\").to_dir()\n",
    "\n",
    "    def step_4a_create_flow_definition(self) -> dict:\n",
    "        print(\"Create Human review workflow definition, it may takes 30 sec ~ 1 minute\")\n",
    "        print(f\"  Preview at {self.flow_definition_console_url}\")\n",
    "        # ref: https://boto3.amazonaws.com/v1/documentation/api/latest/reference/services/sagemaker.html#SageMaker.Client.create_flow_definition\n",
    "        response = self.sm_client.create_flow_definition(\n",
    "            FlowDefinitionName=self.flow_definition_name,\n",
    "            HumanLoopConfig={\n",
    "                \"WorkteamArn\": self.labeling_team_arn,\n",
    "                \"HumanTaskUiArn\": self.task_template_arn,\n",
    "                \"TaskTitle\": self.task_template_name,\n",
    "                \"TaskDescription\": f\"{self.task_template_name} description\",\n",
    "                \"TaskCount\": 1,  # if it\n",
    "                \"TaskTimeLimitInSeconds\": 3600,\n",
    "            },\n",
    "            OutputConfig={\n",
    "                \"S3OutputPath\": self.s3dir_hil_output.to_file().uri,\n",
    "            },\n",
    "            RoleArn=self.flow_execution_role_arn,\n",
    "            Tags=self.common_tags,\n",
    "        )\n",
    "\n",
    "        print(f\"  Successful created {self.flow_definition_arn}\")\n",
    "        return response\n",
    "\n",
    "    def step_4b_delete_flow_definition(self) -> dict:\n",
    "        print(\"Delete Human review workflow definition, it may takes 30 sec ~ 1 minute\")\n",
    "        print(f\"  Preview at {self.flow_definition_console_url}\")\n",
    "        # ref: https://boto3.amazonaws.com/v1/documentation/api/latest/reference/services/sagemaker.html#SageMaker.Client.delete_flow_definition\n",
    "        response = self.sm_client.delete_flow_definition(\n",
    "            FlowDefinitionName=self.flow_definition_name\n",
    "        )\n",
    "\n",
    "        print(f\"  Successful delete {self.flow_definition_arn}\")\n",
    "        return response\n",
    "\n",
    "    # --- Start Human in Loop\n",
    "    @property\n",
    "    def labeling_workforce_console_url(self) -> str:\n",
    "        return (\n",
    "            f\"https://{self.bsm.aws_region}.console.aws.amazon.com/sagemaker/\"\n",
    "            f\"groundtruth?region={self.bsm.aws_region}#/labeling-workforces\"\n",
    "        )\n",
    "\n",
    "    def get_hil_console_url(self, hil_id: str) -> str:\n",
    "        return (\n",
    "            f\"https://{self.bsm.aws_region}.console.aws.amazon.com/a2i/home?\"\n",
    "            f\"region={self.bsm.aws_region}#/human-review-workflows/\"\n",
    "            f\"{self.flow_definition_name}/human-loops/{hil_id}\"\n",
    "        )\n",
    "\n",
    "    def start_human_loop(self, input_data: dict):\n",
    "        print(\"Start human loop ...\")\n",
    "        print(f\"  You can enter the labeling portal from {self.labeling_workforce_console_url}\")\n",
    "        response = self.a2i_client.start_human_loop(\n",
    "            HumanLoopName=str(uuid.uuid4()),\n",
    "            FlowDefinitionArn=self.flow_definition_arn,\n",
    "            HumanLoopInput={\n",
    "                \"InputContent\": json.dumps(input_data),\n",
    "            }\n",
    "        )\n",
    "        hil_arn = response[\"HumanLoopArn\"]\n",
    "        hil_id = hil_arn.split(\"/\")[-1]\n",
    "        hil_console_url = self.get_hil_console_url(hil_id)\n",
    "        print(f\"  You can preview HIL status at {hil_console_url}\")\n",
    "\n",
    "\n",
    "lab = Lab(\n",
    "    project_name=\"a2i-poc\",\n",
    "    labeling_team_arn=\"arn:aws:sagemaker:us-east-2:669508176277:workteam/private-crowd/my-labeling-team\",\n",
    "    bsm=BotoSesManager(profile_name=\"aws_data_lab_sanhe_us_east_2\"),\n",
    ")\n",
    "\n",
    "# lab.step_1a_create_s3_bucket()\n",
    "# lab.step_1b_delete_s3_bucket()\n",
    "# lab.step_2a_create_flow_execution_role()\n",
    "# lab.step_2b_delete_flow_execution_role()\n",
    "# lab.step_3a_create_hil_task_template()\n",
    "# lab.step_3b_delete_hil_task_template()\n",
    "# lab.step_4a_create_flow_definition()\n",
    "# lab.step_4b_delete_flow_definition()\n"
   ],
   "metadata": {
    "collapsed": false,
    "pycharm": {
     "name": "#%%\n"
    }
   }
  },
  {
   "cell_type": "markdown",
   "source": [
    "try Augmented AI samples from [amazon-a2i-sample-task-uis](https://github.com/aws-samples/amazon-a2i-sample-task-uis)"
   ],
   "metadata": {
    "collapsed": false,
    "pycharm": {
     "name": "#%% md\n"
    }
   }
  },
  {
   "cell_type": "code",
   "execution_count": 19,
   "outputs": [
    {
     "name": "stdout",
     "output_type": "stream",
     "text": [
      "Preview artifacts at https://console.aws.amazon.com/s3/object/669508176277-us-east-2-a2i-poc?prefix=hil/input/cat-and-dog.jpeg\n",
      "Start human loop ...\n",
      "You can enter the labeling portal from https://us-east-2.console.aws.amazon.com/sagemaker/groundtruth?region=us-east-2#/labeling-workforces\n",
      "You can preview HIL status at https://us-east-2.console.aws.amazon.com/a2i/home?region=us-east-2#/human-review-workflows/a2i-poc/human-loops/de6df3aa-a5e5-41d4-869f-c3b93fde2e29\n"
     ]
    }
   ],
   "source": [
    "def bounding_box_use_case():\n",
    "    lab.path_task_template = dir_here / \"usecases\" / \"images\"/ \"bounding-box\" / \"task.liquid\"\n",
    "    path_artifact = dir_here / \"usecases\" / \"images\"/ \"bounding-box\" / \"cat-and-dog.jpeg\"\n",
    "    s3path_artifact = lab.s3dir_hil_input / \"cat-and-dog.jpeg\"\n",
    "    s3path_artifact.upload_file(path_artifact.abspath, overwrite=True)\n",
    "    print(f\"Preview artifacts at {s3path_artifact.console_url}\")\n",
    "    input_data = {\n",
    "        \"taskObject\": s3path_artifact.uri\n",
    "    }\n",
    "\n",
    "    lab.step_3b_delete_hil_task_template()\n",
    "    lab.step_3a_create_hil_task_template()\n",
    "    time.sleep(3)\n",
    "    lab.start_human_loop(input_data)\n",
    "\n",
    "\n",
    "bounding_box_use_case()"
   ],
   "metadata": {
    "collapsed": false,
    "pycharm": {
     "name": "#%%\n"
    }
   }
  },
  {
   "cell_type": "code",
   "execution_count": 32,
   "outputs": [
    {
     "name": "stdout",
     "output_type": "stream",
     "text": [
      "Preview artifacts at https://console.aws.amazon.com/s3/object/669508176277-us-east-2-a2i-poc?prefix=hil/input/cat-and-dog.jpeg\n",
      "Delete Human in Loop task template\n",
      "  Verify at https://console.aws.amazon.com/a2i/home?region=us-east-2#/worker-task-templates/a2i-poc\n",
      "  Successful delete arn:aws:sagemaker:us-east-2:669508176277:human-task-ui/a2i-poc\n",
      "Create Human in Loop task template\n",
      "  Preview at https://console.aws.amazon.com/a2i/home?region=us-east-2#/worker-task-templates/a2i-poc\n",
      "  Successful created a2i-poc\n",
      "Start human loop ...\n",
      "  You can enter the labeling portal from https://us-east-2.console.aws.amazon.com/sagemaker/groundtruth?region=us-east-2#/labeling-workforces\n",
      "  You can preview HIL status at https://us-east-2.console.aws.amazon.com/a2i/home?region=us-east-2#/human-review-workflows/a2i-poc/human-loops/0ea0295f-3a99-46d0-b7f5-034a58ea77a4\n"
     ]
    }
   ],
   "source": [
    "def bounding_box_hierarchicaluse_case():\n",
    "    lab.path_task_template = dir_here / \"usecases\" / \"images\"/ \"bounding-box-hierarchical\" / \"task.liquid\"\n",
    "    path_artifact = dir_here / \"usecases\" / \"images\"/ \"bounding-box-hierarchical\" / \"lisa.png\"\n",
    "    s3path_artifact = lab.s3dir_hil_input / \"cat-and-dog.jpeg\"\n",
    "    s3path_artifact.upload_file(path_artifact.abspath, overwrite=True)\n",
    "    print(f\"Preview artifacts at {s3path_artifact.console_url}\")\n",
    "    input_data = {\n",
    "        \"taskObject\": s3path_artifact.uri\n",
    "    }\n",
    "\n",
    "    lab.step_3b_delete_hil_task_template()\n",
    "    lab.step_3a_create_hil_task_template()\n",
    "    time.sleep(3)\n",
    "    lab.start_human_loop(input_data)\n",
    "\n",
    "\n",
    "bounding_box_hierarchicaluse_case()"
   ],
   "metadata": {
    "collapsed": false,
    "pycharm": {
     "name": "#%%\n"
    }
   }
  },
  {
   "cell_type": "markdown",
   "source": [
    "### key phrase extraction"
   ],
   "metadata": {
    "collapsed": false,
    "pycharm": {
     "name": "#%% md\n"
    }
   }
  },
  {
   "cell_type": "code",
   "execution_count": 34,
   "outputs": [
    {
     "name": "stdout",
     "output_type": "stream",
     "text": [
      "Delete Human in Loop task template\n",
      "  Verify at https://console.aws.amazon.com/a2i/home?region=us-east-2#/worker-task-templates/a2i-poc\n",
      "  Successful delete arn:aws:sagemaker:us-east-2:669508176277:human-task-ui/a2i-poc\n",
      "Create Human in Loop task template\n",
      "  Preview at https://console.aws.amazon.com/a2i/home?region=us-east-2#/worker-task-templates/a2i-poc\n",
      "  Successful created a2i-poc\n",
      "Start human loop ...\n",
      "  You can enter the labeling portal from https://us-east-2.console.aws.amazon.com/sagemaker/groundtruth?region=us-east-2#/labeling-workforces\n",
      "  You can preview HIL status at https://us-east-2.console.aws.amazon.com/a2i/home?region=us-east-2#/human-review-workflows/a2i-poc/human-loops/30cf4969-8ec3-4db0-98b1-fe9edd7d9d1a\n"
     ]
    }
   ],
   "source": [
    "def key_phrase_extraction_case():\n",
    "    lab.path_task_template = dir_here / \"usecases\" / \"text\"/ \"key-phrase-extraction\" / \"task.liquid\"\n",
    "    input_data = {\n",
    "        \"taskObject\": \"Excellent bag and fast shipping! Bag arrived right on time and packaged very well. The bag itself is good quality! Was a bit skeptical ordering this bag off amazon but it's 100% authentic and the best price!\"\n",
    "    }\n",
    "\n",
    "    lab.step_3b_delete_hil_task_template()\n",
    "    lab.step_3a_create_hil_task_template()\n",
    "    time.sleep(3)\n",
    "    lab.start_human_loop(input_data)\n",
    "\n",
    "\n",
    "key_phrase_extraction_case()"
   ],
   "metadata": {
    "collapsed": false,
    "pycharm": {
     "name": "#%%\n"
    }
   }
  },
  {
   "cell_type": "code",
   "execution_count": null,
   "outputs": [],
   "source": [],
   "metadata": {
    "collapsed": false,
    "pycharm": {
     "name": "#%%\n"
    }
   }
  }
 ],
 "metadata": {
  "kernelspec": {
   "display_name": "Python 3",
   "language": "python",
   "name": "python3"
  },
  "language_info": {
   "codemirror_mode": {
    "name": "ipython",
    "version": 2
   },
   "file_extension": ".py",
   "mimetype": "text/x-python",
   "name": "python",
   "nbconvert_exporter": "python",
   "pygments_lexer": "ipython2",
   "version": "2.7.6"
  }
 },
 "nbformat": 4,
 "nbformat_minor": 0
}
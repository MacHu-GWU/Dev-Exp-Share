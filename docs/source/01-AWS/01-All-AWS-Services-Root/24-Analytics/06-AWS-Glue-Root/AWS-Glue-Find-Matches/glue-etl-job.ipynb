{
 "metadata": {
  "kernelspec": {
   "name": "glue_pyspark",
   "display_name": "Glue PySpark",
   "language": "python"
  },
  "language_info": {
   "name": "Python_Glue_Session",
   "mimetype": "text/x-python",
   "codemirror_mode": {
    "name": "python",
    "version": 3
   },
   "pygments_lexer": "python3",
   "file_extension": ".py"
  }
 },
 "nbformat_minor": 4,
 "nbformat": 4,
 "cells": [
  {
   "cell_type": "markdown",
   "source": [
    "# Glue Studio Notebook\n",
    "You are now running a **Glue Studio** notebook; before you can start using your notebook you *must* start an interactive session.\n",
    "\n",
    "## Available Magics\n",
    "|          Magic              |   Type       |                                                                        Description                                                                        |\n",
    "|-----------------------------|--------------|-----------------------------------------------------------------------------------------------------------------------------------------------------------|\n",
    "| %%configure                 |  Dictionary  |  A json-formatted dictionary consisting of all configuration parameters for a session. Each parameter can be specified here or through individual magics. |\n",
    "| %profile                    |  String      |  Specify a profile in your aws configuration to use as the credentials provider.                                                                          |\n",
    "| %iam_role                   |  String      |  Specify an IAM role to execute your session with.                                                                                                        |\n",
    "| %region                     |  String      |  Specify the AWS region in which to initialize a session                                                                                                  |\n",
    "| %session_id                 |  String      |  Returns the session ID for the running session.                                                                                                          |\n",
    "| %connections                |  List        |  Specify a comma separated list of connections to use in the session.                                                                                     |\n",
    "| %additional_python_modules  |  List        |  Comma separated list of pip packages, s3 paths or private pip arguments.                                                                                 |\n",
    "| %extra_py_files             |  List        |  Comma separated list of additional Python files from S3.                                                                                                 |\n",
    "| %extra_jars                 |  List        |  Comma separated list of additional Jars to include in the cluster.                                                                                       |\n",
    "| %number_of_workers          |  Integer     |  The number of workers of a defined worker_type that are allocated when a job runs. worker_type must be set too.                                          |\n",
    "| %worker_type                |  String      |  Standard, G.1X, *or* G.2X. number_of_workers must be set too. Default is G.1X                                                                            |\n",
    "| %glue_version               |  String      |  The version of Glue to be used by this session. Currently, the only valid options are 2.0 and 3.0                                                        |\n",
    "| %security_configuration     |  String      |  Define a security configuration to be used with this session.                                                                                            |\n",
    "| %sql                        |  String      |  Run SQL code. All lines after the initial %%sql magic will be passed as part of the SQL code.                                                            |\n",
    "| %streaming                  |  String      |  Changes the session type to Glue Streaming.                                                                                                              |\n",
    "| %etl                        |  String      |   Changes the session type to Glue ETL.                                                                                                                   |\n",
    "| %status                     |              |  Returns the status of the current Glue session including its duration, configuration and executing user / role.                                          |\n",
    "| %stop_session               |              |  Stops the current session.                                                                                                                               |\n",
    "| %list_sessions              |              |  Lists all currently running sessions by name and ID.                                                                                                     |"
   ],
   "metadata": {
    "editable": false,
    "deletable": false,
    "trusted": true
   }
  },
  {
   "cell_type": "code",
   "source": [
    "%number_of_workers 2"
   ],
   "metadata": {
    "trusted": true
   },
   "execution_count": 2,
   "outputs": [
    {
     "name": "stdout",
     "text": "Welcome to the Glue Interactive Sessions Kernel\nFor more information on available magic commands, please type %help in any new cell.\n\nPlease view our Getting Started page to access the most up-to-date information on the Interactive Sessions kernel: https://docs.aws.amazon.com/glue/latest/dg/interactive-sessions.html\nIt looks like there is a newer version of the kernel available. The latest version is 0.31 and you have 0.30 installed.\nPlease run `pip install --upgrade aws-glue-sessions` to upgrade your kernel\nPrevious number of workers: 5\nSetting new number of workers to: 2\n",
     "output_type": "stream"
    }
   ]
  },
  {
   "cell_type": "code",
   "source": [
    "# Initialize the Glue Job\n",
    "import sys\n",
    "from pyspark.context import SparkContext\n",
    "from awsglue.job import Job\n",
    "from awsglue.utils import getResolvedOptions\n",
    "from awsglue.context import GlueContext\n",
    "from awsglue.dynamicframe import DynamicFrame\n",
    "from awsglueml.transforms import FindMatches\n",
    "\n",
    "# Create SparkContext\n",
    "sparkContext = SparkContext.getOrCreate()\n",
    "\n",
    "# Create Glue Context\n",
    "glueContext = GlueContext(sparkContext)\n",
    "\n",
    "# Get spark session\n",
    "spark = glueContext.spark_session\n",
    "\n",
    "# Create Glue Job\n",
    "job = Job(glueContext)\n"
   ],
   "metadata": {
    "editable": true,
    "trusted": true
   },
   "execution_count": 25,
   "outputs": [
    {
     "name": "stdout",
     "text": "\n",
     "output_type": "stream"
    }
   ]
  },
  {
   "cell_type": "markdown",
   "source": [
    "## Read the tests dataset (without labels)"
   ],
   "metadata": {
    "collapsed": false
   }
  },
  {
   "cell_type": "code",
   "source": [
    "# gdf = Glue Dynamic Frame\n",
    "gdf_tests = glueContext.create_dynamic_frame.from_options(\n",
    "    connection_type=\"s3\", \n",
    "    connection_options=dict(\n",
    "        paths=[\n",
    "            f\"s3://aws-data-lab-sanhe-for-everything-us-east-2/poc/2022-05-18-glue-find-matches/find-matches/tests/b5577eb9e7cd43118d7b8d70765853e6.csv\"\n",
    "        ],\n",
    "        recurse=True,\n",
    "    ),\n",
    "    format=\"csv\",\n",
    "    format_options=dict(\n",
    "        withHeader=True,\n",
    "    ),\n",
    "    transformation_ctx=\"datasource\",\n",
    ")"
   ],
   "metadata": {
    "trusted": true
   },
   "execution_count": 26,
   "outputs": [
    {
     "name": "stdout",
     "text": "\n",
     "output_type": "stream"
    }
   ]
  },
  {
   "cell_type": "code",
   "source": [
    "# print data schema\n",
    "gdf_tests.printSchema()"
   ],
   "metadata": {
    "trusted": true
   },
   "execution_count": 27,
   "outputs": [
    {
     "name": "stdout",
     "text": "root\n|-- id: string\n|-- firstname: string\n|-- lastname: string\n|-- phone: string\n",
     "output_type": "stream"
    }
   ]
  },
  {
   "cell_type": "code",
   "source": [
    "# preview the data\n",
    "gdf_tests.toDF().show(3, truncate=False, vertical=True)"
   ],
   "metadata": {
    "trusted": true
   },
   "execution_count": 28,
   "outputs": [
    {
     "name": "stdout",
     "text": "-RECORD 0-------------------\n id        | PersonId-00001 \n firstname | John           \n lastname  | aadden         \n phone     | 672-615-3608   \n-RECORD 1-------------------\n id        | PersonId-00002 \n firstname | Jjcn           \n lastname  | aadden         \n phone     | 642-615-3608   \n-RECORD 2-------------------\n id        | PersonId-00003 \n firstname | Joln           \n lastname  | aadden         \n phone     | 602-615-3608   \nonly showing top 3 rows\n",
     "output_type": "stream"
    }
   ]
  },
  {
   "cell_type": "markdown",
   "source": [
    "## Execute The ML Transformation (Predict)"
   ],
   "metadata": {
    "collapsed": false,
    "pycharm": {
     "name": "#%% md\n"
    }
   }
  },
  {
   "cell_type": "code",
   "source": [
    "gdf_predict = FindMatches.apply(\n",
    "    frame=gdf_tests, \n",
    "    transformId=\"tfm-dfaeb9a7a5565ba554bc7c3e3a8b0009a79746a2\",\n",
    "    transformation_ctx=\"findmatches1\",\n",
    "    computeMatchConfidenceScores=True,\n",
    ")"
   ],
   "metadata": {
    "trusted": true
   },
   "execution_count": 29,
   "outputs": [
    {
     "name": "stdout",
     "text": "\n",
     "output_type": "stream"
    }
   ]
  },
  {
   "cell_type": "code",
   "source": [
    "gdf_predict.printSchema()"
   ],
   "metadata": {
    "trusted": true
   },
   "execution_count": 30,
   "outputs": [
    {
     "name": "stdout",
     "text": "root\n|-- id: string\n|-- firstname: string\n|-- lastname: string\n|-- phone: string\n|-- match_id: long\n|-- match_confidence_score: double\n",
     "output_type": "stream"
    }
   ]
  },
  {
   "cell_type": "code",
   "source": [
    "# preview the data\n",
    "gdf_predict.toDF().show(3, truncate=False, vertical=True)"
   ],
   "metadata": {
    "trusted": true
   },
   "execution_count": 31,
   "outputs": [
    {
     "name": "stdout",
     "text": "-RECORD 0--------------------------------\n id                     | PersonId-00031 \n firstname              | Auctin         \n lastname               | Ortgz          \n phone                  | 730-963-9164   \n match_id               | 30             \n match_confidence_score | 1.0            \n-RECORD 1--------------------------------\n id                     | PersonId-00034 \n firstname              | Auwtin         \n lastname               | Ortiz          \n phone                  | 730-963-9164   \n match_id               | 30             \n match_confidence_score | 1.0            \n-RECORD 2--------------------------------\n id                     | PersonId-00033 \n firstname              | Auwtin         \n lastname               | Ortiz          \n phone                  | 730-963-9164   \n match_id               | 30             \n match_confidence_score | 1.0            \nonly showing top 3 rows\n",
     "output_type": "stream"
    }
   ]
  },
  {
   "cell_type": "markdown",
   "source": [
    "## Write the Predict Result to S3"
   ],
   "metadata": {
    "collapsed": false
   }
  },
  {
   "cell_type": "code",
   "source": [
    "# gdf = Glue Dynamic Frame\n",
    "datasink = glueContext.write_dynamic_frame.from_options(\n",
    "    frame=gdf_predict,\n",
    "    connection_type=\"s3\", \n",
    "    connection_options=dict(\n",
    "        path=f\"s3://aws-data-lab-sanhe-for-everything-us-east-2/poc/2022-05-18-glue-find-matches/find-matches/predict/1.csv\",\n",
    "    ),\n",
    "    format=\"csv\",\n",
    "    format_options=dict(\n",
    "        withHeader=True,\n",
    "    ),\n",
    "    transformation_ctx=\"datasink\",\n",
    ")"
   ],
   "metadata": {
    "trusted": true
   },
   "execution_count": 32,
   "outputs": [
    {
     "name": "stdout",
     "text": "\n",
     "output_type": "stream"
    }
   ]
  },
  {
   "cell_type": "code",
   "source": "",
   "metadata": {},
   "execution_count": null,
   "outputs": []
  }
 ]
}
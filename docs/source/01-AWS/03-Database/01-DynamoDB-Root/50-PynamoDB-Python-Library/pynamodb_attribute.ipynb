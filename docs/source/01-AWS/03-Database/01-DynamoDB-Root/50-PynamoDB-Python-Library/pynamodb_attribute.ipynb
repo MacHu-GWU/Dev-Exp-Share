{
 "cells": [
  {
   "cell_type": "markdown",
   "source": [
    "# Pynamodb Attribute"
   ],
   "metadata": {
    "collapsed": false,
    "pycharm": {
     "name": "#%% md\n"
    }
   }
  },
  {
   "cell_type": "code",
   "execution_count": 30,
   "outputs": [],
   "source": [
    "import typing as T\n",
    "from datetime import datetime, timezone\n",
    "\n",
    "from pynamodb.models import (\n",
    "    Model,\n",
    "    PAY_PER_REQUEST_BILLING_MODE,\n",
    ")\n",
    "from pynamodb.connection import Connection\n",
    "from pynamodb.attributes import (\n",
    "    UnicodeAttribute,\n",
    "    UTCDateTimeAttribute,\n",
    "    MapAttribute,\n",
    "    DynamicMapAttribute,\n",
    "    JSONAttribute,\n",
    ")\n",
    "\n",
    "def utc_now() -> datetime:\n",
    "    return datetime.utcnow().replace(tzinfo=timezone.utc)"
   ],
   "metadata": {
    "collapsed": false,
    "pycharm": {
     "name": "#%%\n"
    }
   }
  },
  {
   "cell_type": "markdown",
   "source": [
    "## MapAttribute\n",
    "\n",
    "Reference:\n",
    "\n",
    "- https://pynamodb.readthedocs.io/en/latest/attributes.html#map-attributes"
   ],
   "metadata": {
    "collapsed": false,
    "pycharm": {
     "name": "#%% md\n"
    }
   }
  },
  {
   "cell_type": "code",
   "execution_count": 31,
   "outputs": [],
   "source": [
    "class Person(MapAttribute):\n",
    "    firstname = UnicodeAttribute()\n",
    "    lastname = UnicodeAttribute()\n",
    "    birth_time = UTCDateTimeAttribute(default=utc_now)\n",
    "\n",
    "\n",
    "class DynamodbItem(Model):\n",
    "    class Meta:\n",
    "        table_name = \"pynamodb-attribute-test\"\n",
    "        region = \"us-east-1\"\n",
    "        billing_mode = PAY_PER_REQUEST_BILLING_MODE\n",
    "\n",
    "    id: T.Union[str, UnicodeAttribute] = UnicodeAttribute(hash_key=True)\n",
    "    person: T.Optional[Person] = Person(default=None, null=True)\n",
    "\n",
    "connection = Connection()"
   ],
   "metadata": {
    "collapsed": false,
    "pycharm": {
     "name": "#%%\n"
    }
   }
  },
  {
   "cell_type": "code",
   "execution_count": 32,
   "outputs": [],
   "source": [
    "DynamodbItem.create_table(wait=True)"
   ],
   "metadata": {
    "collapsed": false,
    "pycharm": {
     "name": "#%%\n"
    }
   }
  },
  {
   "cell_type": "code",
   "execution_count": 33,
   "outputs": [
    {
     "data": {
      "text/plain": "{'ConsumedCapacity': {'CapacityUnits': 1.0,\n  'TableName': 'pynamodb-attribute-test'}}"
     },
     "execution_count": 33,
     "metadata": {},
     "output_type": "execute_result"
    }
   ],
   "source": [
    "item = DynamodbItem(id=\"id-1\")\n",
    "item.save()"
   ],
   "metadata": {
    "collapsed": false,
    "pycharm": {
     "name": "#%%\n"
    }
   }
  },
  {
   "cell_type": "code",
   "execution_count": 34,
   "outputs": [
    {
     "name": "stdout",
     "output_type": "stream",
     "text": [
      "item.attribute_values = {'id': 'id-1'}\n"
     ]
    }
   ],
   "source": [
    "item = DynamodbItem.get(\"id-1\")\n",
    "print(f\"item.attribute_values = {item.attribute_values}\")"
   ],
   "metadata": {
    "collapsed": false,
    "pycharm": {
     "name": "#%%\n"
    }
   }
  },
  {
   "cell_type": "code",
   "execution_count": 35,
   "outputs": [
    {
     "data": {
      "text/plain": "{'ConsumedCapacity': {'CapacityUnits': 1.0,\n  'TableName': 'pynamodb-attribute-test'}}"
     },
     "execution_count": 35,
     "metadata": {},
     "output_type": "execute_result"
    }
   ],
   "source": [
    "item = DynamodbItem(\n",
    "    id=\"id-2\",\n",
    "    person=Person(\n",
    "        firstname=\"John\",\n",
    "        lastname=\"Doe\",\n",
    "    ),\n",
    ")\n",
    "item.save()"
   ],
   "metadata": {
    "collapsed": false,
    "pycharm": {
     "name": "#%%\n"
    }
   }
  },
  {
   "cell_type": "code",
   "execution_count": 36,
   "outputs": [
    {
     "name": "stdout",
     "output_type": "stream",
     "text": [
      "item.attribute_values = {'id': 'id-2', 'person': <__main__.Person object at 0x107ca0940>}\n",
      "item.person.attribute_values = {'birth_time': datetime.datetime(2022, 12, 25, 13, 26, 30, 293899, tzinfo=datetime.timezone.utc), 'firstname': 'John', 'lastname': 'Doe'}\n",
      "item.person.firstname = John\n",
      "item.person.lastname = Doe\n",
      "item.person.birth_time = 2022-12-25 13:26:30.293899+00:00\n"
     ]
    }
   ],
   "source": [
    "item = DynamodbItem.get(\"id-2\")\n",
    "print(f\"item.attribute_values = {item.attribute_values}\")\n",
    "print(f\"item.person.attribute_values = {item.person.attribute_values}\")\n",
    "print(f\"item.person.firstname = {item.person.firstname}\")\n",
    "print(f\"item.person.lastname = {item.person.lastname}\")\n",
    "print(f\"item.person.birth_time = {item.person.birth_time}\")"
   ],
   "metadata": {
    "collapsed": false,
    "pycharm": {
     "name": "#%%\n"
    }
   }
  },
  {
   "cell_type": "code",
   "execution_count": 37,
   "outputs": [
    {
     "data": {
      "text/plain": "{'TableDescription': {'BillingModeSummary': {'BillingMode': 'PAY_PER_REQUEST',\n   'LastUpdateToPayPerRequestDateTime': 1671974610.319},\n  'ItemCount': 0,\n  'ProvisionedThroughput': {'NumberOfDecreasesToday': 0,\n   'ReadCapacityUnits': 0,\n   'WriteCapacityUnits': 0},\n  'TableArn': 'arn:aws:dynamodb:us-east-1:669508176277:table/pynamodb-attribute-test',\n  'TableId': '334b34f1-e243-4c05-baae-24c239da0132',\n  'TableName': 'pynamodb-attribute-test',\n  'TableSizeBytes': 0,\n  'TableStatus': 'DELETING',\n  'TableThroughputModeSummary': {'LastUpdateToPayPerRequestDateTime': 1671974610.319,\n   'TableThroughputMode': 'PAY_PER_REQUEST'}}}"
     },
     "execution_count": 37,
     "metadata": {},
     "output_type": "execute_result"
    }
   ],
   "source": [
    "DynamodbItem.delete_table()"
   ],
   "metadata": {
    "collapsed": false,
    "pycharm": {
     "name": "#%%\n"
    }
   }
  },
  {
   "cell_type": "markdown",
   "source": [
    "## DynamicMapAttribute\n",
    "\n",
    "Reference:\n",
    "\n",
    "- https://pynamodb.readthedocs.io/en/latest/attributes.html#map-attributes"
   ],
   "metadata": {
    "collapsed": false,
    "pycharm": {
     "name": "#%% md\n"
    }
   }
  },
  {
   "cell_type": "code",
   "execution_count": 42,
   "outputs": [],
   "source": [
    "class Person(DynamicMapAttribute):\n",
    "    firstname = UnicodeAttribute()\n",
    "    lastname = UnicodeAttribute()\n",
    "\n",
    "\n",
    "class DynamodbItem(Model):\n",
    "    class Meta:\n",
    "        table_name = \"pynamodb-attribute-test\"\n",
    "        region = \"us-east-1\"\n",
    "        billing_mode = PAY_PER_REQUEST_BILLING_MODE\n",
    "\n",
    "    id: T.Union[str, UnicodeAttribute] = UnicodeAttribute(hash_key=True)\n",
    "    person: T.Optional[Person] = Person(default=None, null=True)\n",
    "\n",
    "connection = Connection()"
   ],
   "metadata": {
    "collapsed": false,
    "pycharm": {
     "name": "#%%\n"
    }
   }
  },
  {
   "cell_type": "code",
   "execution_count": 46,
   "outputs": [
    {
     "name": "stdout",
     "output_type": "stream",
     "text": [
      "Table created\n"
     ]
    }
   ],
   "source": [
    "DynamodbItem.create_table(wait=True)\n",
    "print(\"Table created\")"
   ],
   "metadata": {
    "collapsed": false,
    "pycharm": {
     "name": "#%%\n"
    }
   }
  },
  {
   "cell_type": "code",
   "execution_count": 52,
   "outputs": [
    {
     "data": {
      "text/plain": "{'ConsumedCapacity': {'CapacityUnits': 1.0,\n  'TableName': 'pynamodb-attribute-test'}}"
     },
     "execution_count": 52,
     "metadata": {},
     "output_type": "execute_result"
    }
   ],
   "source": [
    "item = DynamodbItem(id=\"id-1\")\n",
    "item.save()"
   ],
   "metadata": {
    "collapsed": false,
    "pycharm": {
     "name": "#%%\n"
    }
   }
  },
  {
   "cell_type": "code",
   "execution_count": 53,
   "outputs": [
    {
     "name": "stdout",
     "output_type": "stream",
     "text": [
      "item.attribute_values = {'id': 'id-1'}\n"
     ]
    }
   ],
   "source": [
    "item = DynamodbItem.get(\"id-1\")\n",
    "print(f\"item.attribute_values = {item.attribute_values}\")"
   ],
   "metadata": {
    "collapsed": false,
    "pycharm": {
     "name": "#%%\n"
    }
   }
  },
  {
   "cell_type": "code",
   "execution_count": 50,
   "outputs": [
    {
     "data": {
      "text/plain": "{'ConsumedCapacity': {'CapacityUnits': 1.0,\n  'TableName': 'pynamodb-attribute-test'}}"
     },
     "execution_count": 50,
     "metadata": {},
     "output_type": "execute_result"
    }
   ],
   "source": [
    "item = DynamodbItem(\n",
    "    id=\"id-2\",\n",
    "    person=Person(\n",
    "        firstname=\"John\",\n",
    "        lastname=\"Doe\",\n",
    "        email=\"john.doe@email.com\", # additional attribute has to be str / binary / int / float type\n",
    "    ),\n",
    ")\n",
    "item.save()"
   ],
   "metadata": {
    "collapsed": false,
    "pycharm": {
     "name": "#%%\n"
    }
   }
  },
  {
   "cell_type": "code",
   "execution_count": 51,
   "outputs": [
    {
     "name": "stdout",
     "output_type": "stream",
     "text": [
      "item.attribute_values = {'id': 'id-2', 'person': <__main__.Person object at 0x10bc62be0>}\n",
      "item.person.attribute_values = {'attribute_values': {}, 'firstname': 'John', 'lastname': 'Doe', 'email': 'john.doe@email.com'}\n",
      "item.person.firstname = John\n",
      "item.person.lastname = Doe\n",
      "item.person.birth_time = john.doe@email.com\n"
     ]
    }
   ],
   "source": [
    "item = DynamodbItem.get(\"id-2\")\n",
    "print(f\"item.attribute_values = {item.attribute_values}\")\n",
    "print(f\"item.person.attribute_values = {item.person.attribute_values}\")\n",
    "print(f\"item.person.firstname = {item.person.firstname}\")\n",
    "print(f\"item.person.lastname = {item.person.lastname}\")\n",
    "print(f\"item.person.birth_time = {item.person.email}\")"
   ],
   "metadata": {
    "collapsed": false,
    "pycharm": {
     "name": "#%%\n"
    }
   }
  },
  {
   "cell_type": "code",
   "execution_count": 54,
   "outputs": [
    {
     "data": {
      "text/plain": "{'TableDescription': {'BillingModeSummary': {'BillingMode': 'PAY_PER_REQUEST',\n   'LastUpdateToPayPerRequestDateTime': 1671974894.754},\n  'ItemCount': 0,\n  'ProvisionedThroughput': {'NumberOfDecreasesToday': 0,\n   'ReadCapacityUnits': 0,\n   'WriteCapacityUnits': 0},\n  'TableArn': 'arn:aws:dynamodb:us-east-1:669508176277:table/pynamodb-attribute-test',\n  'TableId': '80bdeffc-1a8c-4c07-b327-18a3845ea6bd',\n  'TableName': 'pynamodb-attribute-test',\n  'TableSizeBytes': 0,\n  'TableStatus': 'DELETING',\n  'TableThroughputModeSummary': {'LastUpdateToPayPerRequestDateTime': 1671974894.754,\n   'TableThroughputMode': 'PAY_PER_REQUEST'}}}"
     },
     "execution_count": 54,
     "metadata": {},
     "output_type": "execute_result"
    }
   ],
   "source": [
    "DynamodbItem.delete_table()"
   ],
   "metadata": {
    "collapsed": false,
    "pycharm": {
     "name": "#%%\n"
    }
   }
  },
  {
   "cell_type": "code",
   "execution_count": null,
   "outputs": [],
   "source": [],
   "metadata": {
    "collapsed": false,
    "pycharm": {
     "name": "#%%\n"
    }
   }
  }
 ],
 "metadata": {
  "kernelspec": {
   "display_name": "Python 3",
   "language": "python",
   "name": "python3"
  },
  "language_info": {
   "codemirror_mode": {
    "name": "ipython",
    "version": 2
   },
   "file_extension": ".py",
   "mimetype": "text/x-python",
   "name": "python",
   "nbconvert_exporter": "python",
   "pygments_lexer": "ipython2",
   "version": "2.7.6"
  }
 },
 "nbformat": 4,
 "nbformat_minor": 0
}
{
 "metadata": {
  "kernelspec": {
   "name": "glue_pyspark",
   "display_name": "Glue PySpark",
   "language": "python"
  },
  "language_info": {
   "name": "Python_Glue_Session",
   "mimetype": "text/x-python",
   "codemirror_mode": {
    "name": "python",
    "version": 3
   },
   "pygments_lexer": "python3",
   "file_extension": ".py"
  },
  "toc-autonumbering": true
 },
 "nbformat_minor": 4,
 "nbformat": 4,
 "cells": [
  {
   "cell_type": "markdown",
   "source": [
    "# Glue Studio Notebook\n",
    "You are now running a **Glue Studio** notebook; before you can start using your notebook you *must* start an interactive session.\n",
    "\n",
    "## Available Magics\n",
    "|          Magic              |   Type       |                                                                        Description                                                                        |\n",
    "|-----------------------------|--------------|-----------------------------------------------------------------------------------------------------------------------------------------------------------|\n",
    "| %%configure                 |  Dictionary  |  A json-formatted dictionary consisting of all configuration parameters for a session. Each parameter can be specified here or through individual magics. |\n",
    "| %profile                    |  String      |  Specify a profile in your aws configuration to use as the credentials provider.                                                                          |\n",
    "| %iam_role                   |  String      |  Specify an IAM role to execute your session with.                                                                                                        |\n",
    "| %region                     |  String      |  Specify the AWS region in which to initialize a session                                                                                                  |\n",
    "| %session_id                 |  String      |  Returns the session ID for the running session.                                                                                                          |\n",
    "| %connections                |  List        |  Specify a comma separated list of connections to use in the session.                                                                                     |\n",
    "| %additional_python_modules  |  List        |  Comma separated list of pip packages, s3 paths or private pip arguments.                                                                                 |\n",
    "| %extra_py_files             |  List        |  Comma separated list of additional Python files from S3.                                                                                                 |\n",
    "| %extra_jars                 |  List        |  Comma separated list of additional Jars to include in the cluster.                                                                                       |\n",
    "| %number_of_workers          |  Integer     |  The number of workers of a defined worker_type that are allocated when a job runs. worker_type must be set too.                                          |\n",
    "| %worker_type                |  String      |  Standard, G.1X, *or* G.2X. number_of_workers must be set too. Default is G.1X                                                                            |\n",
    "| %glue_version               |  String      |  The version of Glue to be used by this session. Currently, the only valid options are 2.0 and 3.0                                                        |\n",
    "| %security_configuration     |  String      |  Define a security configuration to be used with this session.                                                                                            |\n",
    "| %sql                        |  String      |  Run SQL code. All lines after the initial %%sql magic will be passed as part of the SQL code.                                                            |\n",
    "| %streaming                  |  String      |  Changes the session type to Glue Streaming.                                                                                                              |\n",
    "| %etl                        |  String      |   Changes the session type to Glue ETL.                                                                                                                   |\n",
    "| %status                     |              |  Returns the status of the current Glue session including its duration, configuration and executing user / role.                                          |\n",
    "| %stop_session               |              |  Stops the current session.                                                                                                                               |\n",
    "| %list_sessions              |              |  Lists all currently running sessions by name and ID.                                                                                                     |"
   ],
   "metadata": {
    "editable": false,
    "deletable": false,
    "tags": [],
    "trusted": true,
    "pycharm": {
     "name": "#%% md\n"
    }
   }
  },
  {
   "cell_type": "markdown",
   "source": [
    "# Initialize the Glue Job"
   ],
   "metadata": {
    "pycharm": {
     "name": "#%% md\n"
    }
   }
  },
  {
   "cell_type": "code",
   "source": [
    "# Initialize the Glue Job\n",
    "import sys\n",
    "from pyspark.context import SparkContext\n",
    "from awsglue.job import Job\n",
    "from awsglue.utils import getResolvedOptions\n",
    "from awsglue.context import GlueContext\n",
    "from awsglue.dynamicframe import DynamicFrame\n",
    "from awsglue.transforms import DropFields\n",
    "from awsglueml.transforms import FindMatches, FindIncrementalMatches\n",
    "\n",
    "# Create SparkContext\n",
    "sparkContext = SparkContext.getOrCreate()\n",
    "\n",
    "# Create Glue Context\n",
    "glueContext = GlueContext(sparkContext)\n",
    "\n",
    "# Get spark session\n",
    "spark = glueContext.spark_session\n",
    "\n",
    "# Create Glue Job\n",
    "job = Job(glueContext)"
   ],
   "metadata": {
    "editable": true,
    "trusted": true,
    "pycharm": {
     "name": "#%%\n"
    }
   },
   "execution_count": null,
   "outputs": [
    {
     "name": "stdout",
     "text": "Welcome to the Glue Interactive Sessions Kernel\nFor more information on available magic commands, please type %help in any new cell.\n\nPlease view our Getting Started page to access the most up-to-date information on the Interactive Sessions kernel: https://docs.aws.amazon.com/glue/latest/dg/interactive-sessions.html\nIt looks like there is a newer version of the kernel available. The latest version is 0.31 and you have 0.30 installed.\nPlease run `pip install --upgrade aws-glue-sessions` to upgrade your kernel\nAuthenticating with environment variables and user-defined glue_role_arn: arn:aws:iam::669508176277:role/sanhe-all-service-admin-access\nAttempting to use existing AssumeRole session credentials.\nTrying to create a Glue session for the kernel.\nWorker Type: G.1X\nNumber of Workers: 5\nSession ID: 2d84f319-3d50-4dac-8b51-932c69032013\nApplying the following default arguments:\n--glue_kernel_version 0.30\n--enable-glue-datacatalog true\nWaiting for session 2d84f319-3d50-4dac-8b51-932c69032013 to get into ready status...\nSession 2d84f319-3d50-4dac-8b51-932c69032013 has been created\n\n\n",
     "output_type": "stream"
    }
   ]
  },
  {
   "cell_type": "markdown",
   "source": [
    "# Read the Test Data (without label)"
   ],
   "metadata": {
    "pycharm": {
     "name": "#%% md\n"
    }
   }
  },
  {
   "cell_type": "code",
   "source": [
    "# gdf = Glue Dynamic Frame\n",
    "gdf_test = glueContext.create_dynamic_frame.from_options(\n",
    "    connection_type=\"s3\", \n",
    "    connection_options=dict(\n",
    "        paths=[\n",
    "            f\"s3://aws-data-lab-sanhe-for-everything-us-east-2/poc/2022-05-18-glue-find-matches/find-incr-matches/04-initial/1.csv\"\n",
    "        ],\n",
    "        recurse=True,\n",
    "    ),\n",
    "    format=\"csv\",\n",
    "    format_options=dict(\n",
    "        withHeader=True,\n",
    "    ),\n",
    "    transformation_ctx=\"datasource\",\n",
    ")"
   ],
   "metadata": {
    "trusted": true,
    "pycharm": {
     "name": "#%%\n"
    }
   },
   "execution_count": 1,
   "outputs": [
    {
     "name": "stdout",
     "text": "\n",
     "output_type": "stream"
    }
   ]
  },
  {
   "cell_type": "code",
   "source": [
    "# preview the schema\n",
    "gdf_test.printSchema()"
   ],
   "metadata": {
    "trusted": true,
    "pycharm": {
     "name": "#%%\n"
    }
   },
   "execution_count": 2,
   "outputs": [
    {
     "name": "stdout",
     "text": "root\n|-- id: string\n|-- firstname: string\n|-- lastname: string\n|-- phone: string\n",
     "output_type": "stream"
    }
   ]
  },
  {
   "cell_type": "code",
   "source": [
    "# preview the data\n",
    "gdf_test.toDF().show(3, truncate=False, vertical=True)"
   ],
   "metadata": {
    "trusted": true,
    "pycharm": {
     "name": "#%%\n"
    }
   },
   "execution_count": 3,
   "outputs": [
    {
     "name": "stdout",
     "text": "-RECORD 0-------------------\n id        | PersonId-40001 \n firstname | Sara           \n lastname  | Whste          \n phone     | 468-400-1568   \n-RECORD 1-------------------\n id        | PersonId-40003 \n firstname | Sara           \n lastname  | Whife          \n phone     | 468-400-1568   \n-RECORD 2-------------------\n id        | PersonId-40004 \n firstname | Sarr           \n lastname  | Whste          \n phone     | 468-400-1568   \nonly showing top 3 rows\n",
     "output_type": "stream"
    }
   ]
  },
  {
   "cell_type": "markdown",
   "source": [
    "# Execute The ML Transformation for Initial Match"
   ],
   "metadata": {
    "pycharm": {
     "name": "#%% md\n"
    }
   }
  },
  {
   "cell_type": "code",
   "source": [
    "# run the initial match\n",
    "gdf_predict = FindMatches.apply(\n",
    "    frame=gdf_test, \n",
    "    transformId=\"tfm-2aa2fe67f9cb5cb4b06818cdfdd25f8f78ae2ed5\",\n",
    "    transformation_ctx=\"find_matches_1\",\n",
    "    computeMatchConfidenceScores=True,\n",
    ")"
   ],
   "metadata": {
    "trusted": true,
    "pycharm": {
     "name": "#%%\n"
    }
   },
   "execution_count": 5,
   "outputs": [
    {
     "name": "stdout",
     "text": "\n",
     "output_type": "stream"
    }
   ]
  },
  {
   "cell_type": "code",
   "source": [
    "# preview the schema\n",
    "gdf_predict.printSchema()"
   ],
   "metadata": {
    "trusted": true,
    "pycharm": {
     "name": "#%%\n"
    }
   },
   "execution_count": 6,
   "outputs": [
    {
     "name": "stdout",
     "text": "root\n|-- id: string\n|-- firstname: string\n|-- lastname: string\n|-- phone: string\n|-- match_id: long\n|-- match_confidence_score: double\n",
     "output_type": "stream"
    }
   ]
  },
  {
   "cell_type": "code",
   "source": [
    "# preview the data\n",
    "gdf_predict.toDF().show(10, truncate=False, vertical=True)"
   ],
   "metadata": {
    "trusted": true,
    "pycharm": {
     "name": "#%%\n"
    }
   },
   "execution_count": 1,
   "outputs": [
    {
     "name": "stderr",
     "text": "Exception encountered while retrieving session: An error occurred (ExpiredTokenException) when calling the GetSession operation: The security token included in the request is expired \nTraceback (most recent call last):\n  File \"/home/jupyter-user/.local/lib/python3.7/site-packages/aws_glue_interactive_sessions_kernel/glue_pyspark/GlueKernel.py\", line 688, in get_current_session\n    current_session = self.glue_client.get_session(Id=self.get_session_id())[\"Session\"]\n  File \"/home/jupyter-user/.local/lib/python3.7/site-packages/botocore/client.py\", line 415, in _api_call\n    return self._make_api_call(operation_name, kwargs)\n  File \"/home/jupyter-user/.local/lib/python3.7/site-packages/botocore/client.py\", line 745, in _make_api_call\n    raise error_class(parsed_response, operation_name)\nbotocore.exceptions.ClientError: An error occurred (ExpiredTokenException) when calling the GetSession operation: The security token included in the request is expired\nFailed to retrieve session status \nException encountered while running statement: An error occurred (ExpiredTokenException) when calling the RunStatement operation: The security token included in the request is expired \nTraceback (most recent call last):\n  File \"/home/jupyter-user/.local/lib/python3.7/site-packages/aws_glue_interactive_sessions_kernel/glue_pyspark/GlueKernel.py\", line 121, in do_execute\n    statement_id = self.glue_client.run_statement(SessionId=self.get_session_id(), Code=code)[\"Id\"]\n  File \"/home/jupyter-user/.local/lib/python3.7/site-packages/botocore/client.py\", line 415, in _api_call\n    return self._make_api_call(operation_name, kwargs)\n  File \"/home/jupyter-user/.local/lib/python3.7/site-packages/botocore/client.py\", line 745, in _make_api_call\n    raise error_class(parsed_response, operation_name)\nbotocore.exceptions.ClientError: An error occurred (ExpiredTokenException) when calling the RunStatement operation: The security token included in the request is expired\n",
     "output_type": "stream"
    }
   ]
  },
  {
   "cell_type": "code",
   "source": [
    "# dump prediction result to s3\n",
    "datasink = glueContext.write_dynamic_frame.from_options(\n",
    "    frame=gdf_predict,\n",
    "    connection_type=\"s3\", \n",
    "    connection_options=dict(\n",
    "        path=f\"s3://aws-data-lab-sanhe-for-everything-us-east-2/poc/2022-05-18-glue-find-matches/find-incr-matches/06-match-results/\",\n",
    "    ),\n",
    "    format=\"csv\",\n",
    "    format_options=dict(\n",
    "        withHeader=True,\n",
    "    ),\n",
    "    transformation_ctx=\"datasink\",\n",
    ")\n"
   ],
   "metadata": {
    "trusted": true,
    "pycharm": {
     "name": "#%%\n"
    }
   },
   "execution_count": 8,
   "outputs": [
    {
     "name": "stdout",
     "text": "\n",
     "output_type": "stream"
    }
   ]
  },
  {
   "cell_type": "markdown",
   "source": [
    "# Execute the Transformation for Incremental Match"
   ],
   "metadata": {
    "pycharm": {
     "name": "#%% md\n"
    }
   }
  },
  {
   "cell_type": "code",
   "source": [
    "gdf_initial_match_results = glueContext.create_dynamic_frame.from_catalog(\n",
    "    name_space=\"learn_glue_find_incr_matches\", \n",
    "    table_name=\"matched_results\",\n",
    "    transformation_ctx=\"datasource_initial_match_results\",\n",
    ")\n",
    "gdf_initial_match_results = DropFields.apply(\n",
    "    frame=gdf_initial_match_results,\n",
    "    paths=[\"match_confidence_score\",],\n",
    "    transformation_ctx=\"datasource_initial_match_results_drop_confidence_score\",\n",
    ")"
   ],
   "metadata": {
    "trusted": true,
    "pycharm": {
     "name": "#%%\n"
    }
   },
   "execution_count": 4,
   "outputs": [
    {
     "name": "stdout",
     "text": "\n",
     "output_type": "stream"
    }
   ]
  },
  {
   "cell_type": "code",
   "source": [
    "# preview the schema\n",
    "gdf_initial_match_results.printSchema()\n",
    "\n",
    "# preview the data\n",
    "gdf_initial_match_results.toDF().show(10, truncate=False, vertical=True)"
   ],
   "metadata": {
    "trusted": true,
    "pycharm": {
     "name": "#%%\n"
    }
   },
   "execution_count": 5,
   "outputs": [
    {
     "name": "stdout",
     "text": "root\n|-- id: string\n|-- firstname: string\n|-- lastname: string\n|-- phone: string\n|-- match_id: string\n\n-RECORD 0-------------------\n id        | id             \n firstname | firstname      \n lastname  | lastname       \n phone     | phone          \n match_id  | match_id       \n-RECORD 1-------------------\n id        | PersonId-40041 \n firstname | Ian            \n lastname  | Gfewn          \n phone     | 793-728-9836   \n match_id  | 29             \n-RECORD 2-------------------\n id        | PersonId-40050 \n firstname | Ian            \n lastname  | Ggeen          \n phone     | 793-728-9836   \n match_id  | 29             \n-RECORD 3-------------------\n id        | PersonId-40055 \n firstname | Ias            \n lastname  | Ggeen          \n phone     | 793-728-9836   \n match_id  | 29             \n-RECORD 4-------------------\n id        | PersonId-40042 \n firstname | Ias            \n lastname  | Gfewn          \n phone     | 793-728-9236   \n match_id  | 29             \n-RECORD 5-------------------\n id        | PersonId-40060 \n firstname | Ian            \n lastname  | Ggeen          \n phone     | 793-728-9236   \n match_id  | 29             \n-RECORD 6-------------------\n id        | PersonId-40049 \n firstname | Ias            \n lastname  | Gfewn          \n phone     | 793-728-9836   \n match_id  | 29             \n-RECORD 7-------------------\n id        | PersonId-40059 \n firstname | Ias            \n lastname  | Gfewn          \n phone     | 793-728-9836   \n match_id  | 29             \n-RECORD 8-------------------\n id        | PersonId-40048 \n firstname | Ian            \n lastname  | Green          \n phone     | 793-728-9836   \n match_id  | 29             \n-RECORD 9-------------------\n id        | PersonId-40046 \n firstname | Ian            \n lastname  | Ggeen          \n phone     | 793-728-9836   \n match_id  | 29             \nonly showing top 10 rows\n",
     "output_type": "stream"
    }
   ]
  },
  {
   "cell_type": "code",
   "source": [
    "gdf_incremental = glueContext.create_dynamic_frame.from_catalog(\n",
    "    name_space=\"learn_glue_find_incr_matches\", \n",
    "    table_name=\"incremental_test\",\n",
    "    transformation_ctx=\"datasource_incremental_test\",\n",
    ")"
   ],
   "metadata": {
    "trusted": true,
    "pycharm": {
     "name": "#%%\n"
    }
   },
   "execution_count": 6,
   "outputs": [
    {
     "name": "stdout",
     "text": "\n",
     "output_type": "stream"
    }
   ]
  },
  {
   "cell_type": "code",
   "source": [
    "# preview the schema\n",
    "gdf_incremental.printSchema()\n",
    "\n",
    "# preview the data\n",
    "gdf_incremental.toDF().show(10, truncate=False, vertical=True)"
   ],
   "metadata": {
    "trusted": true,
    "pycharm": {
     "name": "#%%\n"
    }
   },
   "execution_count": 7,
   "outputs": [
    {
     "name": "stdout",
     "text": "root\n|-- id: string\n|-- firstname: string\n|-- lastname: string\n|-- phone: string\n\n-RECORD 0-------------------\n id        | id             \n firstname | firstname      \n lastname  | lastname       \n phone     | phone          \n-RECORD 1-------------------\n id        | PersonId-40002 \n firstname | Sarr           \n lastname  | Whife          \n phone     | 468-400-1568   \n-RECORD 2-------------------\n id        | PersonId-40006 \n firstname | Syra           \n lastname  | White          \n phone     | 468-400-1568   \n-RECORD 3-------------------\n id        | PersonId-40008 \n firstname | Sara           \n lastname  | Whste          \n phone     | 468-400-1568   \n-RECORD 4-------------------\n id        | PersonId-40011 \n firstname | Sara           \n lastname  | White          \n phone     | 468-400-1568   \n-RECORD 5-------------------\n id        | PersonId-40014 \n firstname | Syra           \n lastname  | White          \n phone     | 468-400-1568   \n-RECORD 6-------------------\n id        | PersonId-40016 \n firstname | Sara           \n lastname  | Whife          \n phone     | 468-400-1568   \n-RECORD 7-------------------\n id        | PersonId-40018 \n firstname | Sarr           \n lastname  | Whife          \n phone     | 468-400-1568   \n-RECORD 8-------------------\n id        | PersonId-40019 \n firstname | Sara           \n lastname  | Whste          \n phone     | 468-400-1568   \n-RECORD 9-------------------\n id        | PersonId-40020 \n firstname | Syra           \n lastname  | White          \n phone     | 468-400-1568   \nonly showing top 10 rows\n",
     "output_type": "stream"
    }
   ]
  },
  {
   "cell_type": "code",
   "source": [
    "# run the incremental match\n",
    "gdf_incremental_predict = FindIncrementalMatches.apply(\n",
    "    existingFrame=gdf_initial_match_results, \n",
    "    incrementalFrame=gdf_incremental,\n",
    "    transformId=\"tfm-2aa2fe67f9cb5cb4b06818cdfdd25f8f78ae2ed5\",\n",
    "    transformation_ctx=\"find_incr_matches_1\",\n",
    "    computeMatchConfidenceScores=True,\n",
    ")"
   ],
   "metadata": {
    "trusted": true,
    "pycharm": {
     "name": "#%%\n"
    }
   },
   "execution_count": 16,
   "outputs": [
    {
     "name": "stdout",
     "text": "IllegalArgumentException: 'requirement failed: The existing and incremental records have duplicate value in column: id'\n",
     "output_type": "stream"
    }
   ]
  },
  {
   "cell_type": "code",
   "source": [
    "# preview the schema\n",
    "gdf_incremental_predict.printSchema()\n",
    "\n",
    "# preview the data\n",
    "gdf_incremental_predict.toDF().show(3, truncate=False, vertical=True)"
   ],
   "metadata": {
    "trusted": true,
    "pycharm": {
     "name": "#%%\n"
    }
   },
   "execution_count": 17,
   "outputs": [
    {
     "name": "stdout",
     "text": "NameError: name 'gdf_incremental_predict' is not defined\n",
     "output_type": "stream"
    }
   ]
  },
  {
   "cell_type": "code",
   "source": [
    "# dump prediction result to s3\n",
    "datasink = glueContext.write_dynamic_frame.from_options(\n",
    "    frame=gdf_incremental_predict,\n",
    "    connection_type=\"s3\", \n",
    "    connection_options=dict(\n",
    "        path=f\"s3://aws-data-lab-sanhe-for-everything-us-east-2/poc/2022-05-18-glue-find-matches/find-incr-matches/07-incr-match-results/\",\n",
    "    ),\n",
    "    format=\"csv\",\n",
    "    format_options=dict(\n",
    "        withHeader=True,\n",
    "    ),\n",
    "    transformation_ctx=\"datasink\",\n",
    ")\n"
   ],
   "metadata": {
    "pycharm": {
     "name": "#%%\n"
    }
   },
   "execution_count": null,
   "outputs": []
  }
 ]
}
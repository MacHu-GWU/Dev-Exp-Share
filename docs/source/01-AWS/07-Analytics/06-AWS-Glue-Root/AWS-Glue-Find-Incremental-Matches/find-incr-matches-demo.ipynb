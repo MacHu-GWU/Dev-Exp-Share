{
 "cells": [
  {
   "cell_type": "code",
   "execution_count": 80,
   "metadata": {
    "collapsed": true,
    "pycharm": {
     "name": "#%%md\n"
    }
   },
   "outputs": [],
   "source": [
    "# Find Incremental Matches Demo"
   ]
  },
  {
   "cell_type": "code",
   "execution_count": 2,
   "outputs": [
    {
     "name": "stderr",
     "output_type": "stream",
     "text": [
      "UsageError: Line magic function `%` not found.\n"
     ]
    }
   ],
   "source": [
    "% pip install -r requirements.txt"
   ],
   "metadata": {
    "collapsed": false,
    "pycharm": {
     "name": "#%%\n"
    }
   }
  },
  {
   "cell_type": "code",
   "execution_count": 3,
   "outputs": [],
   "source": [
    "# Standard Library\n",
    "import csv\n",
    "import string\n",
    "import random\n",
    "from typing import List, Dict\n",
    "\n",
    "# Third Party Library\n",
    "import attr\n",
    "from attrs_mate import AttrsClass\n",
    "from pathlib_mate import Path\n",
    "\n",
    "from boto_session_manager import BotoSesManager\n",
    "from s3pathlib import S3Path, context\n",
    "\n",
    "import pandas as pd\n",
    "import awswrangler as wr\n",
    "\n",
    "from faker import Faker\n",
    "from rich import print as rprint"
   ],
   "metadata": {
    "collapsed": false,
    "pycharm": {
     "name": "#%%\n"
    }
   }
  },
  {
   "cell_type": "markdown",
   "source": [
    "# Define Some Utility Functions\n",
    "\n",
    "First, we need to define some utility functions to keep our code clean."
   ],
   "metadata": {
    "collapsed": false,
    "pycharm": {
     "name": "#%% md\n"
    }
   }
  },
  {
   "cell_type": "code",
   "execution_count": 22,
   "outputs": [],
   "source": [
    "def add_noise_to_text(text: str, n_noise: int) -> str:\n",
    "    \"\"\"\n",
    "    Randomly add noise character to string.\n",
    "\n",
    "    Example::\n",
    "\n",
    "        >>> add_noise_to_text(\"1234567890\", n_noise=3)\n",
    "        123d56e890\n",
    "    \"\"\"\n",
    "    length = len(text)\n",
    "    if n_noise > length:\n",
    "        raise ValueError\n",
    "    chars = list(text)\n",
    "    for _ in range(n_noise):\n",
    "        chars[random.randint(1, length) - 1] = random.choice(string.ascii_lowercase)\n",
    "    return \"\".join(chars)\n",
    "\n",
    "\n",
    "def rand_phone_number() -> str:\n",
    "    \"\"\"\n",
    "    Generate random phone number.\n",
    "\n",
    "    Example::\n",
    "\n",
    "        123-456-7890\n",
    "    \"\"\"\n",
    "    numbers = [str(random.randint(0, 9)) for _ in range(10)]\n",
    "    return \"\".join(\n",
    "        numbers[:3]\n",
    "        + [\n",
    "            \"-\",\n",
    "        ]\n",
    "        + numbers[3:6]\n",
    "        + [\n",
    "            \"-\",\n",
    "        ]\n",
    "        + numbers[6:]\n",
    "    )\n",
    "\n",
    "\n",
    "def add_noise_to_phone(phone: str, n_noise: int) -> str:\n",
    "    \"\"\"\n",
    "    Example::\n",
    "\n",
    "        >>> add_noise_to_phone(\"111-222-3333\", n_noise=1)\n",
    "        111-222-3353\n",
    "    \"\"\"\n",
    "    chars = list(phone)\n",
    "    positions = [0, 1, 2, 4, 5, 6, 8, 9, 10]\n",
    "    for ind in random.sample(positions, n_noise):\n",
    "        chars[ind] = random.choice(string.digits)\n",
    "    return \"\".join(chars)\n",
    "\n",
    "\n",
    "fake = Faker(locale=\"en-US\")\n",
    "\n",
    "\n",
    "@attr.define\n",
    "class Person(AttrsClass):\n",
    "    \"\"\"\n",
    "    A variation of a true person.\n",
    "    \"\"\"\n",
    "    firstname: str = attr.ib()\n",
    "    lastname: str = attr.ib()\n",
    "    phone: str = attr.ib()\n",
    "\n",
    "\n",
    "@attr.define\n",
    "class TruePerson(AttrsClass):\n",
    "    \"\"\"\n",
    "    represent a concrete human person. he/she could have multiple\n",
    "    name, phone.\n",
    "    \"\"\"\n",
    "    id: int = attr.ib()\n",
    "    firstname_list: str = attr.ib()\n",
    "    lastname_list: str = attr.ib()\n",
    "    phone_list: str = attr.ib()\n",
    "\n",
    "    @classmethod\n",
    "    def random(cls, id: int) -> 'TruePerson':\n",
    "        firstname = fake.first_name()\n",
    "        lastname = fake.last_name()\n",
    "        phone = rand_phone_number()\n",
    "\n",
    "        firstname_list = [\n",
    "            firstname,\n",
    "        ]\n",
    "        lastname_list = [\n",
    "            lastname,\n",
    "        ]\n",
    "        phone_list = [\n",
    "            phone,\n",
    "        ]\n",
    "        for _ in range(2):\n",
    "            firstname_list.append(add_noise_to_text(firstname, random.randint(1, 2)))\n",
    "            lastname_list.append(add_noise_to_text(lastname, random.randint(1, 2)))\n",
    "            phone_list.append(add_noise_to_phone(phone, random.randint(0, 1)))\n",
    "\n",
    "        return cls(\n",
    "            id=id,\n",
    "            firstname_list=firstname_list,\n",
    "            lastname_list=lastname_list,\n",
    "            phone_list=phone_list,\n",
    "        )\n",
    "\n",
    "    def to_person(self) -> 'Person':\n",
    "        return Person(\n",
    "            firstname=random.choice(self.firstname_list),\n",
    "            lastname=random.choice(self.lastname_list),\n",
    "            phone=random.choice(self.phone_list),\n",
    "        )"
   ],
   "metadata": {
    "collapsed": false,
    "pycharm": {
     "name": "#%%\n"
    }
   }
  },
  {
   "cell_type": "code",
   "execution_count": 23,
   "outputs": [
    {
     "name": "stdout",
     "output_type": "stream",
     "text": [
      "------ Sample TruePerson ------\n"
     ]
    },
    {
     "data": {
      "text/plain": "\u001B[1m{\u001B[0m\n    \u001B[32m'id'\u001B[0m: \u001B[1;36m1\u001B[0m,\n    \u001B[32m'firstname_list'\u001B[0m: \u001B[1m[\u001B[0m\u001B[32m'Gregory'\u001B[0m, \u001B[32m'Gregord'\u001B[0m, \u001B[32m'eregosy'\u001B[0m\u001B[1m]\u001B[0m,\n    \u001B[32m'lastname_list'\u001B[0m: \u001B[1m[\u001B[0m\u001B[32m'Smith'\u001B[0m, \u001B[32m'wmilh'\u001B[0m, \u001B[32m'Soith'\u001B[0m\u001B[1m]\u001B[0m,\n    \u001B[32m'phone_list'\u001B[0m: \u001B[1m[\u001B[0m\u001B[32m'314-608-1758'\u001B[0m, \u001B[32m'314-608-1758'\u001B[0m, \u001B[32m'314-608-4758'\u001B[0m\u001B[1m]\u001B[0m\n\u001B[1m}\u001B[0m\n",
      "text/html": "<pre style=\"white-space:pre;overflow-x:auto;line-height:normal;font-family:Menlo,'DejaVu Sans Mono',consolas,'Courier New',monospace\"><span style=\"font-weight: bold\">{</span>\n    <span style=\"color: #008000; text-decoration-color: #008000\">'id'</span>: <span style=\"color: #008080; text-decoration-color: #008080; font-weight: bold\">1</span>,\n    <span style=\"color: #008000; text-decoration-color: #008000\">'firstname_list'</span>: <span style=\"font-weight: bold\">[</span><span style=\"color: #008000; text-decoration-color: #008000\">'Gregory'</span>, <span style=\"color: #008000; text-decoration-color: #008000\">'Gregord'</span>, <span style=\"color: #008000; text-decoration-color: #008000\">'eregosy'</span><span style=\"font-weight: bold\">]</span>,\n    <span style=\"color: #008000; text-decoration-color: #008000\">'lastname_list'</span>: <span style=\"font-weight: bold\">[</span><span style=\"color: #008000; text-decoration-color: #008000\">'Smith'</span>, <span style=\"color: #008000; text-decoration-color: #008000\">'wmilh'</span>, <span style=\"color: #008000; text-decoration-color: #008000\">'Soith'</span><span style=\"font-weight: bold\">]</span>,\n    <span style=\"color: #008000; text-decoration-color: #008000\">'phone_list'</span>: <span style=\"font-weight: bold\">[</span><span style=\"color: #008000; text-decoration-color: #008000\">'314-608-1758'</span>, <span style=\"color: #008000; text-decoration-color: #008000\">'314-608-1758'</span>, <span style=\"color: #008000; text-decoration-color: #008000\">'314-608-4758'</span><span style=\"font-weight: bold\">]</span>\n<span style=\"font-weight: bold\">}</span>\n</pre>\n"
     },
     "metadata": {},
     "output_type": "display_data"
    }
   ],
   "source": [
    "print(\"------ Sample TruePerson ------\")\n",
    "t_person = TruePerson.random(id=1)\n",
    "rprint(t_person.to_dict())"
   ],
   "metadata": {
    "collapsed": false,
    "pycharm": {
     "name": "#%%\n"
    }
   }
  },
  {
   "cell_type": "code",
   "execution_count": 24,
   "outputs": [
    {
     "name": "stdout",
     "output_type": "stream",
     "text": [
      "------ Sample Person ------\n"
     ]
    },
    {
     "data": {
      "text/plain": "\u001B[1m{\u001B[0m\u001B[32m'firstname'\u001B[0m: \u001B[32m'Gregord'\u001B[0m, \u001B[32m'lastname'\u001B[0m: \u001B[32m'wmilh'\u001B[0m, \u001B[32m'phone'\u001B[0m: \u001B[32m'314-608-4758'\u001B[0m\u001B[1m}\u001B[0m\n",
      "text/html": "<pre style=\"white-space:pre;overflow-x:auto;line-height:normal;font-family:Menlo,'DejaVu Sans Mono',consolas,'Courier New',monospace\"><span style=\"font-weight: bold\">{</span><span style=\"color: #008000; text-decoration-color: #008000\">'firstname'</span>: <span style=\"color: #008000; text-decoration-color: #008000\">'Gregord'</span>, <span style=\"color: #008000; text-decoration-color: #008000\">'lastname'</span>: <span style=\"color: #008000; text-decoration-color: #008000\">'wmilh'</span>, <span style=\"color: #008000; text-decoration-color: #008000\">'phone'</span>: <span style=\"color: #008000; text-decoration-color: #008000\">'314-608-4758'</span><span style=\"font-weight: bold\">}</span>\n</pre>\n"
     },
     "metadata": {},
     "output_type": "display_data"
    }
   ],
   "source": [
    "print(\"------ Sample Person ------\")\n",
    "person = t_person.to_person()\n",
    "rprint(person.to_dict())"
   ],
   "metadata": {
    "collapsed": false,
    "pycharm": {
     "name": "#%%\n"
    }
   }
  },
  {
   "cell_type": "markdown",
   "source": [
    "## Define Your Test Environment Configuration\n",
    "\n",
    "We need to define the AWS Credential, the AWS S3 bucket we use to store the data and the Glue Catalog database / table name."
   ],
   "metadata": {
    "collapsed": false,
    "pycharm": {
     "name": "#%% md\n"
    }
   }
  },
  {
   "cell_type": "code",
   "execution_count": 55,
   "outputs": [],
   "source": [
    "# Define AWS boto3 credentials for session\n",
    "bsm = BotoSesManager(profile_name=\"aws_data_lab_sanhe_us_east_2\")\n",
    "context.attach_boto_session(boto_ses=bsm.boto_ses)\n",
    "\n",
    "# Where you want to store your test data locally\n",
    "dir_here = Path.cwd()\n",
    "\n",
    "# Where you want to store your test data on S3\n",
    "s3path_prefix = S3Path.from_s3_uri(\n",
    "    \"s3://aws-data-lab-sanhe-for-everything-us-east-2/poc/2022-05-18-glue-find-matches/find-incr-matches/\"\n",
    ").to_dir()\n",
    "\n",
    "# Clear all existing data\n",
    "for p in dir_here.select_by_ext(\".csv\"):\n",
    "    p.remove_if_exists()\n",
    "s3path_prefix.delete_if_exists()\n",
    "\n",
    "path_all_csv = Path(dir_here, \"all.csv\")\n",
    "path_records_csv = Path(dir_here, \"records.csv\")\n",
    "path_labels_csv = Path(dir_here, \"labels.csv\")\n",
    "path_tests_csv = Path(dir_here, \"tests.csv\")\n",
    "path_predicts_csv = Path(dir_here, \"predicts.csv\")\n",
    "path_compares_csv = Path(dir_here, \"compares.csv\")\n",
    "\n",
    "s3path_records = S3Path(s3path_prefix, \"records\")\n",
    "s3path_labels = S3Path(s3path_prefix, \"labels\")\n",
    "s3path_tests = S3Path(s3path_prefix, \"tests\")\n",
    "s3path_predicts = S3Path(s3path_prefix, \"predicts\")\n",
    "\n",
    "# Glue Catalog config\n",
    "db_name = \"learn_glue_find_matches\"\n",
    "tb_name_records = \"records\"\n",
    "tb_name_labels = \"labels\"\n",
    "tb_name_tests = \"tests\"\n",
    "tb_name_predicts = \"predicts\"\n",
    "\n",
    "# pandas.to_csv default keyword arguments\n",
    "quoting = csv.QUOTE_NONNUMERIC\n",
    "pd_to_csv_kwargs = dict(\n",
    "    sep=\",\",\n",
    "    index=False,\n",
    "    header=True,\n",
    "    quoting=quoting,\n",
    ")\n",
    "# awswrangler.s3.to_csv default keyword arguments\n",
    "wr_to_csv_kwargs = dict(\n",
    "    sep=\",\",\n",
    "    index=False,\n",
    "    header=True,\n",
    "    quoting=quoting,\n",
    ")"
   ],
   "metadata": {
    "collapsed": false,
    "pycharm": {
     "name": "#%%\n"
    }
   }
  },
  {
   "cell_type": "markdown",
   "source": [
    "## Define Your Test Dataset Configuration\n",
    "\n",
    "We need to define some statistics information about our test dataset\n",
    "\n",
    "- ``n_label_set_id``: based on [official document](https://docs.aws.amazon.com/glue/latest/dg/machine-learning.html), the training dataset should be split into \"chunks\". Each chunk is a \"labeling_set\". Within each \"labeling_set\", you could have many records (no more than 300, it helps the ML training fast and efficient), and those records can be clustered into different \"group\". Each group should have a \"label\". Records belongs to the same \"group\" considered as a \"match\". With in each \"labeling_set\", you should have some \"match group\" that has many records, and also have some \"non match group\" that has only one record, which indicate that this record doesn't match any of the others. **This config defines the total number of labeling set you want to generate**.\n",
    "- ``n_label_per_set``: The number of records in each labeling set.\n",
    "- ``n_sample_list``: records in each labeling set will be divided into different group, this config defines the number of records for each group.\n"
   ],
   "metadata": {
    "collapsed": false,
    "pycharm": {
     "name": "#%% md\n"
    }
   }
  },
  {
   "cell_type": "code",
   "execution_count": 36,
   "outputs": [],
   "source": [],
   "metadata": {
    "collapsed": false,
    "pycharm": {
     "name": "#%%\n"
    }
   }
  },
  {
   "cell_type": "markdown",
   "source": [
    "# Generate Training Data"
   ],
   "metadata": {
    "collapsed": false,
    "pycharm": {
     "name": "#%% md\n"
    }
   }
  },
  {
   "cell_type": "code",
   "execution_count": 73,
   "outputs": [],
   "source": [
    "columns_all = \"labeling_set_id,label,id,tid,firstname,lastname,phone\".split(\",\")\n",
    "columns_train = \"id,firstname,lastname,phone\".split(\",\")\n",
    "columns_label = \"labeling_set_id,label,id,firstname,lastname,phone\".split(\",\")\n",
    "\n",
    "\n",
    "def generate_dataset(\n",
    "    start_id: int,\n",
    "    start_tid: int,\n",
    "    n_labeling_set_id: int,\n",
    "    hist: List[int],\n",
    ") -> pd.DataFrame:\n",
    "    \"\"\"\n",
    "    :param start_id: 全局唯一的 Id 的初始值. 例如生成 1000 条数据, 起始值是 1,\n",
    "        那么就会 Id 就是 1 ~ 1000.\n",
    "    :param start_tid: True Person Id 的初始值. 数据集包含 100 个 TruePerson,\n",
    "        起始值是 1, 那么就会 Tid 就是 1 ~ 100.\n",
    "    :param n_labeling_set_id: 整个数据集分成多少个 labeling set. 对于 training\n",
    "        而言, 每个 labeling set 是一个独立的数据集, 不同 labeling set 之间的\n",
    "        数据不会被互相匹配.\n",
    "    :param hist: 在每个 labeling set 内, 属于同一个 True Person 数据的频次统计.\n",
    "        例如 [10, 6, 3, 1] 就代表一个 labeling set 内, 有 4 个 True Person,\n",
    "        其中 10 条数据都是同一个人的数据的变种. 其中 6, 3, 1 条数据都是 (下略).\n",
    "    \"\"\"\n",
    "    # global unique identifier for each records\n",
    "    id = start_id - 1\n",
    "\n",
    "    # the True Person id, if multiple records has the same tid,\n",
    "    # they should considered as a match\n",
    "    # We can use this value to validate the ML predict\n",
    "    tid = start_tid - 1\n",
    "\n",
    "    rows = list()\n",
    "    for labeling_set_id in range(1, 1 + n_labeling_set_id):\n",
    "        for label, n_sample in enumerate(hist, start=1):\n",
    "            tid += 1\n",
    "            true_person = TruePerson.random(tid)\n",
    "            for _ in range(n_sample):\n",
    "                id += 1\n",
    "                person = true_person.to_person()\n",
    "                row = dict(\n",
    "                    labeling_set_id=f\"LabelingSetId-{labeling_set_id}\",\n",
    "                    label=f\"Label-{label}\",\n",
    "                    id=f\"PersonId-{str(id).zfill(5)}\",\n",
    "                    tid=f\"TrueId-{tid}\",\n",
    "                    firstname=person.firstname,\n",
    "                    lastname=person.lastname,\n",
    "                    phone=person.phone,\n",
    "                )\n",
    "                rows.append(row)\n",
    "\n",
    "    df = pd.DataFrame(\n",
    "        rows,\n",
    "        columns=columns_all,\n",
    "    )\n",
    "    return df"
   ],
   "metadata": {
    "collapsed": false,
    "pycharm": {
     "name": "#%%\n"
    }
   }
  },
  {
   "cell_type": "code",
   "execution_count": 74,
   "outputs": [],
   "source": [
    "df_all_for_train = generate_dataset(\n",
    "    start_id=1,\n",
    "    start_tid=1,\n",
    "    n_labeling_set_id=1000,\n",
    "    hist=[20, 10, 6, 3, 1],\n",
    ")"
   ],
   "metadata": {
    "collapsed": false,
    "pycharm": {
     "name": "#%%\n"
    }
   }
  },
  {
   "cell_type": "code",
   "execution_count": 75,
   "outputs": [
    {
     "name": "stdout",
     "output_type": "stream",
     "text": [
      "------ training dataset with label ------\n",
      "40000 rows, 7 columns\n"
     ]
    },
    {
     "data": {
      "text/plain": "    labeling_set_id    label              id       tid    firstname  lastname  \\\n0   LabelingSetId-1  Label-1  PersonId-00001  TrueId-1  Christopher     rjott   \n1   LabelingSetId-1  Label-1  PersonId-00002  TrueId-1  Chhistophnr     Scott   \n2   LabelingSetId-1  Label-1  PersonId-00003  TrueId-1  Chhistophnr     Scoyt   \n3   LabelingSetId-1  Label-1  PersonId-00004  TrueId-1  Chhistophnr     Scoyt   \n4   LabelingSetId-1  Label-1  PersonId-00005  TrueId-1  Christopher     Scott   \n5   LabelingSetId-1  Label-1  PersonId-00006  TrueId-1  Christopher     rjott   \n6   LabelingSetId-1  Label-1  PersonId-00007  TrueId-1  Chriztorher     Scoyt   \n7   LabelingSetId-1  Label-1  PersonId-00008  TrueId-1  Chhistophnr     Scott   \n8   LabelingSetId-1  Label-1  PersonId-00009  TrueId-1  Christopher     Scoyt   \n9   LabelingSetId-1  Label-1  PersonId-00010  TrueId-1  Christopher     rjott   \n10  LabelingSetId-1  Label-1  PersonId-00011  TrueId-1  Chriztorher     Scoyt   \n11  LabelingSetId-1  Label-1  PersonId-00012  TrueId-1  Christopher     Scoyt   \n12  LabelingSetId-1  Label-1  PersonId-00013  TrueId-1  Chriztorher     rjott   \n13  LabelingSetId-1  Label-1  PersonId-00014  TrueId-1  Chhistophnr     rjott   \n14  LabelingSetId-1  Label-1  PersonId-00015  TrueId-1  Chriztorher     rjott   \n15  LabelingSetId-1  Label-1  PersonId-00016  TrueId-1  Chriztorher     Scott   \n16  LabelingSetId-1  Label-1  PersonId-00017  TrueId-1  Chhistophnr     Scoyt   \n17  LabelingSetId-1  Label-1  PersonId-00018  TrueId-1  Christopher     Scott   \n18  LabelingSetId-1  Label-1  PersonId-00019  TrueId-1  Chhistophnr     rjott   \n19  LabelingSetId-1  Label-1  PersonId-00020  TrueId-1  Chriztorher     Scoyt   \n20  LabelingSetId-1  Label-2  PersonId-00021  TrueId-2        Kayla  Mcknight   \n21  LabelingSetId-1  Label-2  PersonId-00022  TrueId-2        Kaqla  Mckaight   \n22  LabelingSetId-1  Label-2  PersonId-00023  TrueId-2        Kayla  Mckaight   \n23  LabelingSetId-1  Label-2  PersonId-00024  TrueId-2        Kaqla  Mckaight   \n24  LabelingSetId-1  Label-2  PersonId-00025  TrueId-2        Kaqla  Mckaight   \n25  LabelingSetId-1  Label-2  PersonId-00026  TrueId-2        Katla  Mcknight   \n26  LabelingSetId-1  Label-2  PersonId-00027  TrueId-2        Kaqla  Mcknight   \n27  LabelingSetId-1  Label-2  PersonId-00028  TrueId-2        Katla  Mckaight   \n28  LabelingSetId-1  Label-2  PersonId-00029  TrueId-2        Katla  Mcknight   \n29  LabelingSetId-1  Label-2  PersonId-00030  TrueId-2        Kayla  Mdkzight   \n30  LabelingSetId-1  Label-3  PersonId-00031  TrueId-3        Kelby   Johnson   \n31  LabelingSetId-1  Label-3  PersonId-00032  TrueId-3        felwy   Johnson   \n32  LabelingSetId-1  Label-3  PersonId-00033  TrueId-3        Kelly   uohnsyn   \n33  LabelingSetId-1  Label-3  PersonId-00034  TrueId-3        Kelby   Jxhnson   \n34  LabelingSetId-1  Label-3  PersonId-00035  TrueId-3        Kelby   uohnsyn   \n35  LabelingSetId-1  Label-3  PersonId-00036  TrueId-3        felwy   Jxhnson   \n36  LabelingSetId-1  Label-4  PersonId-00037  TrueId-4         Lisa    Miller   \n37  LabelingSetId-1  Label-4  PersonId-00038  TrueId-4         Lisa    billeo   \n38  LabelingSetId-1  Label-4  PersonId-00039  TrueId-4         Lusy    Milter   \n39  LabelingSetId-1  Label-5  PersonId-00040  TrueId-5        Dcana    Gibson   \n\n           phone  \n0   675-862-4727  \n1   675-832-4727  \n2   675-862-4727  \n3   675-832-4727  \n4   675-832-4727  \n5   675-832-4727  \n6   675-862-4727  \n7   675-832-4727  \n8   675-832-4727  \n9   675-832-4727  \n10  675-832-4727  \n11  675-832-4727  \n12  675-832-4727  \n13  675-862-4727  \n14  675-832-4727  \n15  675-832-4727  \n16  675-862-4727  \n17  675-862-4727  \n18  675-832-4727  \n19  675-862-4727  \n20  421-311-6080  \n21  421-311-6080  \n22  421-311-6080  \n23  421-311-6080  \n24  421-311-6080  \n25  421-311-6080  \n26  421-311-6080  \n27  421-311-6080  \n28  421-311-6080  \n29  421-311-6080  \n30  590-204-8747  \n31  590-204-8747  \n32  590-204-8747  \n33  590-204-8747  \n34  590-204-8747  \n35  590-204-8747  \n36  525-927-8898  \n37  525-927-8898  \n38  525-927-8898  \n39  636-343-0560  ",
      "text/html": "<div>\n<style scoped>\n    .dataframe tbody tr th:only-of-type {\n        vertical-align: middle;\n    }\n\n    .dataframe tbody tr th {\n        vertical-align: top;\n    }\n\n    .dataframe thead th {\n        text-align: right;\n    }\n</style>\n<table border=\"1\" class=\"dataframe\">\n  <thead>\n    <tr style=\"text-align: right;\">\n      <th></th>\n      <th>labeling_set_id</th>\n      <th>label</th>\n      <th>id</th>\n      <th>tid</th>\n      <th>firstname</th>\n      <th>lastname</th>\n      <th>phone</th>\n    </tr>\n  </thead>\n  <tbody>\n    <tr>\n      <th>0</th>\n      <td>LabelingSetId-1</td>\n      <td>Label-1</td>\n      <td>PersonId-00001</td>\n      <td>TrueId-1</td>\n      <td>Christopher</td>\n      <td>rjott</td>\n      <td>675-862-4727</td>\n    </tr>\n    <tr>\n      <th>1</th>\n      <td>LabelingSetId-1</td>\n      <td>Label-1</td>\n      <td>PersonId-00002</td>\n      <td>TrueId-1</td>\n      <td>Chhistophnr</td>\n      <td>Scott</td>\n      <td>675-832-4727</td>\n    </tr>\n    <tr>\n      <th>2</th>\n      <td>LabelingSetId-1</td>\n      <td>Label-1</td>\n      <td>PersonId-00003</td>\n      <td>TrueId-1</td>\n      <td>Chhistophnr</td>\n      <td>Scoyt</td>\n      <td>675-862-4727</td>\n    </tr>\n    <tr>\n      <th>3</th>\n      <td>LabelingSetId-1</td>\n      <td>Label-1</td>\n      <td>PersonId-00004</td>\n      <td>TrueId-1</td>\n      <td>Chhistophnr</td>\n      <td>Scoyt</td>\n      <td>675-832-4727</td>\n    </tr>\n    <tr>\n      <th>4</th>\n      <td>LabelingSetId-1</td>\n      <td>Label-1</td>\n      <td>PersonId-00005</td>\n      <td>TrueId-1</td>\n      <td>Christopher</td>\n      <td>Scott</td>\n      <td>675-832-4727</td>\n    </tr>\n    <tr>\n      <th>5</th>\n      <td>LabelingSetId-1</td>\n      <td>Label-1</td>\n      <td>PersonId-00006</td>\n      <td>TrueId-1</td>\n      <td>Christopher</td>\n      <td>rjott</td>\n      <td>675-832-4727</td>\n    </tr>\n    <tr>\n      <th>6</th>\n      <td>LabelingSetId-1</td>\n      <td>Label-1</td>\n      <td>PersonId-00007</td>\n      <td>TrueId-1</td>\n      <td>Chriztorher</td>\n      <td>Scoyt</td>\n      <td>675-862-4727</td>\n    </tr>\n    <tr>\n      <th>7</th>\n      <td>LabelingSetId-1</td>\n      <td>Label-1</td>\n      <td>PersonId-00008</td>\n      <td>TrueId-1</td>\n      <td>Chhistophnr</td>\n      <td>Scott</td>\n      <td>675-832-4727</td>\n    </tr>\n    <tr>\n      <th>8</th>\n      <td>LabelingSetId-1</td>\n      <td>Label-1</td>\n      <td>PersonId-00009</td>\n      <td>TrueId-1</td>\n      <td>Christopher</td>\n      <td>Scoyt</td>\n      <td>675-832-4727</td>\n    </tr>\n    <tr>\n      <th>9</th>\n      <td>LabelingSetId-1</td>\n      <td>Label-1</td>\n      <td>PersonId-00010</td>\n      <td>TrueId-1</td>\n      <td>Christopher</td>\n      <td>rjott</td>\n      <td>675-832-4727</td>\n    </tr>\n    <tr>\n      <th>10</th>\n      <td>LabelingSetId-1</td>\n      <td>Label-1</td>\n      <td>PersonId-00011</td>\n      <td>TrueId-1</td>\n      <td>Chriztorher</td>\n      <td>Scoyt</td>\n      <td>675-832-4727</td>\n    </tr>\n    <tr>\n      <th>11</th>\n      <td>LabelingSetId-1</td>\n      <td>Label-1</td>\n      <td>PersonId-00012</td>\n      <td>TrueId-1</td>\n      <td>Christopher</td>\n      <td>Scoyt</td>\n      <td>675-832-4727</td>\n    </tr>\n    <tr>\n      <th>12</th>\n      <td>LabelingSetId-1</td>\n      <td>Label-1</td>\n      <td>PersonId-00013</td>\n      <td>TrueId-1</td>\n      <td>Chriztorher</td>\n      <td>rjott</td>\n      <td>675-832-4727</td>\n    </tr>\n    <tr>\n      <th>13</th>\n      <td>LabelingSetId-1</td>\n      <td>Label-1</td>\n      <td>PersonId-00014</td>\n      <td>TrueId-1</td>\n      <td>Chhistophnr</td>\n      <td>rjott</td>\n      <td>675-862-4727</td>\n    </tr>\n    <tr>\n      <th>14</th>\n      <td>LabelingSetId-1</td>\n      <td>Label-1</td>\n      <td>PersonId-00015</td>\n      <td>TrueId-1</td>\n      <td>Chriztorher</td>\n      <td>rjott</td>\n      <td>675-832-4727</td>\n    </tr>\n    <tr>\n      <th>15</th>\n      <td>LabelingSetId-1</td>\n      <td>Label-1</td>\n      <td>PersonId-00016</td>\n      <td>TrueId-1</td>\n      <td>Chriztorher</td>\n      <td>Scott</td>\n      <td>675-832-4727</td>\n    </tr>\n    <tr>\n      <th>16</th>\n      <td>LabelingSetId-1</td>\n      <td>Label-1</td>\n      <td>PersonId-00017</td>\n      <td>TrueId-1</td>\n      <td>Chhistophnr</td>\n      <td>Scoyt</td>\n      <td>675-862-4727</td>\n    </tr>\n    <tr>\n      <th>17</th>\n      <td>LabelingSetId-1</td>\n      <td>Label-1</td>\n      <td>PersonId-00018</td>\n      <td>TrueId-1</td>\n      <td>Christopher</td>\n      <td>Scott</td>\n      <td>675-862-4727</td>\n    </tr>\n    <tr>\n      <th>18</th>\n      <td>LabelingSetId-1</td>\n      <td>Label-1</td>\n      <td>PersonId-00019</td>\n      <td>TrueId-1</td>\n      <td>Chhistophnr</td>\n      <td>rjott</td>\n      <td>675-832-4727</td>\n    </tr>\n    <tr>\n      <th>19</th>\n      <td>LabelingSetId-1</td>\n      <td>Label-1</td>\n      <td>PersonId-00020</td>\n      <td>TrueId-1</td>\n      <td>Chriztorher</td>\n      <td>Scoyt</td>\n      <td>675-862-4727</td>\n    </tr>\n    <tr>\n      <th>20</th>\n      <td>LabelingSetId-1</td>\n      <td>Label-2</td>\n      <td>PersonId-00021</td>\n      <td>TrueId-2</td>\n      <td>Kayla</td>\n      <td>Mcknight</td>\n      <td>421-311-6080</td>\n    </tr>\n    <tr>\n      <th>21</th>\n      <td>LabelingSetId-1</td>\n      <td>Label-2</td>\n      <td>PersonId-00022</td>\n      <td>TrueId-2</td>\n      <td>Kaqla</td>\n      <td>Mckaight</td>\n      <td>421-311-6080</td>\n    </tr>\n    <tr>\n      <th>22</th>\n      <td>LabelingSetId-1</td>\n      <td>Label-2</td>\n      <td>PersonId-00023</td>\n      <td>TrueId-2</td>\n      <td>Kayla</td>\n      <td>Mckaight</td>\n      <td>421-311-6080</td>\n    </tr>\n    <tr>\n      <th>23</th>\n      <td>LabelingSetId-1</td>\n      <td>Label-2</td>\n      <td>PersonId-00024</td>\n      <td>TrueId-2</td>\n      <td>Kaqla</td>\n      <td>Mckaight</td>\n      <td>421-311-6080</td>\n    </tr>\n    <tr>\n      <th>24</th>\n      <td>LabelingSetId-1</td>\n      <td>Label-2</td>\n      <td>PersonId-00025</td>\n      <td>TrueId-2</td>\n      <td>Kaqla</td>\n      <td>Mckaight</td>\n      <td>421-311-6080</td>\n    </tr>\n    <tr>\n      <th>25</th>\n      <td>LabelingSetId-1</td>\n      <td>Label-2</td>\n      <td>PersonId-00026</td>\n      <td>TrueId-2</td>\n      <td>Katla</td>\n      <td>Mcknight</td>\n      <td>421-311-6080</td>\n    </tr>\n    <tr>\n      <th>26</th>\n      <td>LabelingSetId-1</td>\n      <td>Label-2</td>\n      <td>PersonId-00027</td>\n      <td>TrueId-2</td>\n      <td>Kaqla</td>\n      <td>Mcknight</td>\n      <td>421-311-6080</td>\n    </tr>\n    <tr>\n      <th>27</th>\n      <td>LabelingSetId-1</td>\n      <td>Label-2</td>\n      <td>PersonId-00028</td>\n      <td>TrueId-2</td>\n      <td>Katla</td>\n      <td>Mckaight</td>\n      <td>421-311-6080</td>\n    </tr>\n    <tr>\n      <th>28</th>\n      <td>LabelingSetId-1</td>\n      <td>Label-2</td>\n      <td>PersonId-00029</td>\n      <td>TrueId-2</td>\n      <td>Katla</td>\n      <td>Mcknight</td>\n      <td>421-311-6080</td>\n    </tr>\n    <tr>\n      <th>29</th>\n      <td>LabelingSetId-1</td>\n      <td>Label-2</td>\n      <td>PersonId-00030</td>\n      <td>TrueId-2</td>\n      <td>Kayla</td>\n      <td>Mdkzight</td>\n      <td>421-311-6080</td>\n    </tr>\n    <tr>\n      <th>30</th>\n      <td>LabelingSetId-1</td>\n      <td>Label-3</td>\n      <td>PersonId-00031</td>\n      <td>TrueId-3</td>\n      <td>Kelby</td>\n      <td>Johnson</td>\n      <td>590-204-8747</td>\n    </tr>\n    <tr>\n      <th>31</th>\n      <td>LabelingSetId-1</td>\n      <td>Label-3</td>\n      <td>PersonId-00032</td>\n      <td>TrueId-3</td>\n      <td>felwy</td>\n      <td>Johnson</td>\n      <td>590-204-8747</td>\n    </tr>\n    <tr>\n      <th>32</th>\n      <td>LabelingSetId-1</td>\n      <td>Label-3</td>\n      <td>PersonId-00033</td>\n      <td>TrueId-3</td>\n      <td>Kelly</td>\n      <td>uohnsyn</td>\n      <td>590-204-8747</td>\n    </tr>\n    <tr>\n      <th>33</th>\n      <td>LabelingSetId-1</td>\n      <td>Label-3</td>\n      <td>PersonId-00034</td>\n      <td>TrueId-3</td>\n      <td>Kelby</td>\n      <td>Jxhnson</td>\n      <td>590-204-8747</td>\n    </tr>\n    <tr>\n      <th>34</th>\n      <td>LabelingSetId-1</td>\n      <td>Label-3</td>\n      <td>PersonId-00035</td>\n      <td>TrueId-3</td>\n      <td>Kelby</td>\n      <td>uohnsyn</td>\n      <td>590-204-8747</td>\n    </tr>\n    <tr>\n      <th>35</th>\n      <td>LabelingSetId-1</td>\n      <td>Label-3</td>\n      <td>PersonId-00036</td>\n      <td>TrueId-3</td>\n      <td>felwy</td>\n      <td>Jxhnson</td>\n      <td>590-204-8747</td>\n    </tr>\n    <tr>\n      <th>36</th>\n      <td>LabelingSetId-1</td>\n      <td>Label-4</td>\n      <td>PersonId-00037</td>\n      <td>TrueId-4</td>\n      <td>Lisa</td>\n      <td>Miller</td>\n      <td>525-927-8898</td>\n    </tr>\n    <tr>\n      <th>37</th>\n      <td>LabelingSetId-1</td>\n      <td>Label-4</td>\n      <td>PersonId-00038</td>\n      <td>TrueId-4</td>\n      <td>Lisa</td>\n      <td>billeo</td>\n      <td>525-927-8898</td>\n    </tr>\n    <tr>\n      <th>38</th>\n      <td>LabelingSetId-1</td>\n      <td>Label-4</td>\n      <td>PersonId-00039</td>\n      <td>TrueId-4</td>\n      <td>Lusy</td>\n      <td>Milter</td>\n      <td>525-927-8898</td>\n    </tr>\n    <tr>\n      <th>39</th>\n      <td>LabelingSetId-1</td>\n      <td>Label-5</td>\n      <td>PersonId-00040</td>\n      <td>TrueId-5</td>\n      <td>Dcana</td>\n      <td>Gibson</td>\n      <td>636-343-0560</td>\n    </tr>\n  </tbody>\n</table>\n</div>"
     },
     "execution_count": 75,
     "metadata": {},
     "output_type": "execute_result"
    }
   ],
   "source": [
    "print(\"------ training dataset with label ------\")\n",
    "print(f\"{df_all_for_train.shape[0]} rows, {df_all_for_train.shape[1]} columns\")\n",
    "df_all_for_train.head(40)"
   ],
   "metadata": {
    "collapsed": false,
    "pycharm": {
     "name": "#%%\n"
    }
   }
  },
  {
   "cell_type": "code",
   "execution_count": 76,
   "outputs": [],
   "source": [
    "df_train = df_all_for_train[columns_train]\n",
    "df_label = df_all_for_train[columns_label]"
   ],
   "metadata": {
    "collapsed": false,
    "pycharm": {
     "name": "#%%\n"
    }
   }
  },
  {
   "cell_type": "code",
   "execution_count": 77,
   "outputs": [
    {
     "name": "stdout",
     "output_type": "stream",
     "text": [
      "------ training dataset WITHOUT label ------\n",
      "40000 rows, 4 columns\n"
     ]
    },
    {
     "data": {
      "text/plain": "                id    firstname  lastname         phone\n0   PersonId-00001  Christopher     rjott  675-862-4727\n1   PersonId-00002  Chhistophnr     Scott  675-832-4727\n2   PersonId-00003  Chhistophnr     Scoyt  675-862-4727\n3   PersonId-00004  Chhistophnr     Scoyt  675-832-4727\n4   PersonId-00005  Christopher     Scott  675-832-4727\n5   PersonId-00006  Christopher     rjott  675-832-4727\n6   PersonId-00007  Chriztorher     Scoyt  675-862-4727\n7   PersonId-00008  Chhistophnr     Scott  675-832-4727\n8   PersonId-00009  Christopher     Scoyt  675-832-4727\n9   PersonId-00010  Christopher     rjott  675-832-4727\n10  PersonId-00011  Chriztorher     Scoyt  675-832-4727\n11  PersonId-00012  Christopher     Scoyt  675-832-4727\n12  PersonId-00013  Chriztorher     rjott  675-832-4727\n13  PersonId-00014  Chhistophnr     rjott  675-862-4727\n14  PersonId-00015  Chriztorher     rjott  675-832-4727\n15  PersonId-00016  Chriztorher     Scott  675-832-4727\n16  PersonId-00017  Chhistophnr     Scoyt  675-862-4727\n17  PersonId-00018  Christopher     Scott  675-862-4727\n18  PersonId-00019  Chhistophnr     rjott  675-832-4727\n19  PersonId-00020  Chriztorher     Scoyt  675-862-4727\n20  PersonId-00021        Kayla  Mcknight  421-311-6080\n21  PersonId-00022        Kaqla  Mckaight  421-311-6080\n22  PersonId-00023        Kayla  Mckaight  421-311-6080\n23  PersonId-00024        Kaqla  Mckaight  421-311-6080\n24  PersonId-00025        Kaqla  Mckaight  421-311-6080\n25  PersonId-00026        Katla  Mcknight  421-311-6080\n26  PersonId-00027        Kaqla  Mcknight  421-311-6080\n27  PersonId-00028        Katla  Mckaight  421-311-6080\n28  PersonId-00029        Katla  Mcknight  421-311-6080\n29  PersonId-00030        Kayla  Mdkzight  421-311-6080\n30  PersonId-00031        Kelby   Johnson  590-204-8747\n31  PersonId-00032        felwy   Johnson  590-204-8747\n32  PersonId-00033        Kelly   uohnsyn  590-204-8747\n33  PersonId-00034        Kelby   Jxhnson  590-204-8747\n34  PersonId-00035        Kelby   uohnsyn  590-204-8747\n35  PersonId-00036        felwy   Jxhnson  590-204-8747\n36  PersonId-00037         Lisa    Miller  525-927-8898\n37  PersonId-00038         Lisa    billeo  525-927-8898\n38  PersonId-00039         Lusy    Milter  525-927-8898\n39  PersonId-00040        Dcana    Gibson  636-343-0560",
      "text/html": "<div>\n<style scoped>\n    .dataframe tbody tr th:only-of-type {\n        vertical-align: middle;\n    }\n\n    .dataframe tbody tr th {\n        vertical-align: top;\n    }\n\n    .dataframe thead th {\n        text-align: right;\n    }\n</style>\n<table border=\"1\" class=\"dataframe\">\n  <thead>\n    <tr style=\"text-align: right;\">\n      <th></th>\n      <th>id</th>\n      <th>firstname</th>\n      <th>lastname</th>\n      <th>phone</th>\n    </tr>\n  </thead>\n  <tbody>\n    <tr>\n      <th>0</th>\n      <td>PersonId-00001</td>\n      <td>Christopher</td>\n      <td>rjott</td>\n      <td>675-862-4727</td>\n    </tr>\n    <tr>\n      <th>1</th>\n      <td>PersonId-00002</td>\n      <td>Chhistophnr</td>\n      <td>Scott</td>\n      <td>675-832-4727</td>\n    </tr>\n    <tr>\n      <th>2</th>\n      <td>PersonId-00003</td>\n      <td>Chhistophnr</td>\n      <td>Scoyt</td>\n      <td>675-862-4727</td>\n    </tr>\n    <tr>\n      <th>3</th>\n      <td>PersonId-00004</td>\n      <td>Chhistophnr</td>\n      <td>Scoyt</td>\n      <td>675-832-4727</td>\n    </tr>\n    <tr>\n      <th>4</th>\n      <td>PersonId-00005</td>\n      <td>Christopher</td>\n      <td>Scott</td>\n      <td>675-832-4727</td>\n    </tr>\n    <tr>\n      <th>5</th>\n      <td>PersonId-00006</td>\n      <td>Christopher</td>\n      <td>rjott</td>\n      <td>675-832-4727</td>\n    </tr>\n    <tr>\n      <th>6</th>\n      <td>PersonId-00007</td>\n      <td>Chriztorher</td>\n      <td>Scoyt</td>\n      <td>675-862-4727</td>\n    </tr>\n    <tr>\n      <th>7</th>\n      <td>PersonId-00008</td>\n      <td>Chhistophnr</td>\n      <td>Scott</td>\n      <td>675-832-4727</td>\n    </tr>\n    <tr>\n      <th>8</th>\n      <td>PersonId-00009</td>\n      <td>Christopher</td>\n      <td>Scoyt</td>\n      <td>675-832-4727</td>\n    </tr>\n    <tr>\n      <th>9</th>\n      <td>PersonId-00010</td>\n      <td>Christopher</td>\n      <td>rjott</td>\n      <td>675-832-4727</td>\n    </tr>\n    <tr>\n      <th>10</th>\n      <td>PersonId-00011</td>\n      <td>Chriztorher</td>\n      <td>Scoyt</td>\n      <td>675-832-4727</td>\n    </tr>\n    <tr>\n      <th>11</th>\n      <td>PersonId-00012</td>\n      <td>Christopher</td>\n      <td>Scoyt</td>\n      <td>675-832-4727</td>\n    </tr>\n    <tr>\n      <th>12</th>\n      <td>PersonId-00013</td>\n      <td>Chriztorher</td>\n      <td>rjott</td>\n      <td>675-832-4727</td>\n    </tr>\n    <tr>\n      <th>13</th>\n      <td>PersonId-00014</td>\n      <td>Chhistophnr</td>\n      <td>rjott</td>\n      <td>675-862-4727</td>\n    </tr>\n    <tr>\n      <th>14</th>\n      <td>PersonId-00015</td>\n      <td>Chriztorher</td>\n      <td>rjott</td>\n      <td>675-832-4727</td>\n    </tr>\n    <tr>\n      <th>15</th>\n      <td>PersonId-00016</td>\n      <td>Chriztorher</td>\n      <td>Scott</td>\n      <td>675-832-4727</td>\n    </tr>\n    <tr>\n      <th>16</th>\n      <td>PersonId-00017</td>\n      <td>Chhistophnr</td>\n      <td>Scoyt</td>\n      <td>675-862-4727</td>\n    </tr>\n    <tr>\n      <th>17</th>\n      <td>PersonId-00018</td>\n      <td>Christopher</td>\n      <td>Scott</td>\n      <td>675-862-4727</td>\n    </tr>\n    <tr>\n      <th>18</th>\n      <td>PersonId-00019</td>\n      <td>Chhistophnr</td>\n      <td>rjott</td>\n      <td>675-832-4727</td>\n    </tr>\n    <tr>\n      <th>19</th>\n      <td>PersonId-00020</td>\n      <td>Chriztorher</td>\n      <td>Scoyt</td>\n      <td>675-862-4727</td>\n    </tr>\n    <tr>\n      <th>20</th>\n      <td>PersonId-00021</td>\n      <td>Kayla</td>\n      <td>Mcknight</td>\n      <td>421-311-6080</td>\n    </tr>\n    <tr>\n      <th>21</th>\n      <td>PersonId-00022</td>\n      <td>Kaqla</td>\n      <td>Mckaight</td>\n      <td>421-311-6080</td>\n    </tr>\n    <tr>\n      <th>22</th>\n      <td>PersonId-00023</td>\n      <td>Kayla</td>\n      <td>Mckaight</td>\n      <td>421-311-6080</td>\n    </tr>\n    <tr>\n      <th>23</th>\n      <td>PersonId-00024</td>\n      <td>Kaqla</td>\n      <td>Mckaight</td>\n      <td>421-311-6080</td>\n    </tr>\n    <tr>\n      <th>24</th>\n      <td>PersonId-00025</td>\n      <td>Kaqla</td>\n      <td>Mckaight</td>\n      <td>421-311-6080</td>\n    </tr>\n    <tr>\n      <th>25</th>\n      <td>PersonId-00026</td>\n      <td>Katla</td>\n      <td>Mcknight</td>\n      <td>421-311-6080</td>\n    </tr>\n    <tr>\n      <th>26</th>\n      <td>PersonId-00027</td>\n      <td>Kaqla</td>\n      <td>Mcknight</td>\n      <td>421-311-6080</td>\n    </tr>\n    <tr>\n      <th>27</th>\n      <td>PersonId-00028</td>\n      <td>Katla</td>\n      <td>Mckaight</td>\n      <td>421-311-6080</td>\n    </tr>\n    <tr>\n      <th>28</th>\n      <td>PersonId-00029</td>\n      <td>Katla</td>\n      <td>Mcknight</td>\n      <td>421-311-6080</td>\n    </tr>\n    <tr>\n      <th>29</th>\n      <td>PersonId-00030</td>\n      <td>Kayla</td>\n      <td>Mdkzight</td>\n      <td>421-311-6080</td>\n    </tr>\n    <tr>\n      <th>30</th>\n      <td>PersonId-00031</td>\n      <td>Kelby</td>\n      <td>Johnson</td>\n      <td>590-204-8747</td>\n    </tr>\n    <tr>\n      <th>31</th>\n      <td>PersonId-00032</td>\n      <td>felwy</td>\n      <td>Johnson</td>\n      <td>590-204-8747</td>\n    </tr>\n    <tr>\n      <th>32</th>\n      <td>PersonId-00033</td>\n      <td>Kelly</td>\n      <td>uohnsyn</td>\n      <td>590-204-8747</td>\n    </tr>\n    <tr>\n      <th>33</th>\n      <td>PersonId-00034</td>\n      <td>Kelby</td>\n      <td>Jxhnson</td>\n      <td>590-204-8747</td>\n    </tr>\n    <tr>\n      <th>34</th>\n      <td>PersonId-00035</td>\n      <td>Kelby</td>\n      <td>uohnsyn</td>\n      <td>590-204-8747</td>\n    </tr>\n    <tr>\n      <th>35</th>\n      <td>PersonId-00036</td>\n      <td>felwy</td>\n      <td>Jxhnson</td>\n      <td>590-204-8747</td>\n    </tr>\n    <tr>\n      <th>36</th>\n      <td>PersonId-00037</td>\n      <td>Lisa</td>\n      <td>Miller</td>\n      <td>525-927-8898</td>\n    </tr>\n    <tr>\n      <th>37</th>\n      <td>PersonId-00038</td>\n      <td>Lisa</td>\n      <td>billeo</td>\n      <td>525-927-8898</td>\n    </tr>\n    <tr>\n      <th>38</th>\n      <td>PersonId-00039</td>\n      <td>Lusy</td>\n      <td>Milter</td>\n      <td>525-927-8898</td>\n    </tr>\n    <tr>\n      <th>39</th>\n      <td>PersonId-00040</td>\n      <td>Dcana</td>\n      <td>Gibson</td>\n      <td>636-343-0560</td>\n    </tr>\n  </tbody>\n</table>\n</div>"
     },
     "execution_count": 77,
     "metadata": {},
     "output_type": "execute_result"
    }
   ],
   "source": [
    "print(\"------ training dataset WITHOUT label ------\")\n",
    "print(f\"{df_train.shape[0]} rows, {df_train.shape[1]} columns\")\n",
    "df_train.head(40)"
   ],
   "metadata": {
    "collapsed": false,
    "pycharm": {
     "name": "#%%\n"
    }
   }
  },
  {
   "cell_type": "code",
   "execution_count": 78,
   "outputs": [
    {
     "name": "stdout",
     "output_type": "stream",
     "text": [
      "------ training dataset label ONLY  ------\n",
      "40000 rows, 6 columns\n"
     ]
    },
    {
     "data": {
      "text/plain": "    labeling_set_id    label              id    firstname  lastname  \\\n0   LabelingSetId-1  Label-1  PersonId-00001  Christopher     rjott   \n1   LabelingSetId-1  Label-1  PersonId-00002  Chhistophnr     Scott   \n2   LabelingSetId-1  Label-1  PersonId-00003  Chhistophnr     Scoyt   \n3   LabelingSetId-1  Label-1  PersonId-00004  Chhistophnr     Scoyt   \n4   LabelingSetId-1  Label-1  PersonId-00005  Christopher     Scott   \n5   LabelingSetId-1  Label-1  PersonId-00006  Christopher     rjott   \n6   LabelingSetId-1  Label-1  PersonId-00007  Chriztorher     Scoyt   \n7   LabelingSetId-1  Label-1  PersonId-00008  Chhistophnr     Scott   \n8   LabelingSetId-1  Label-1  PersonId-00009  Christopher     Scoyt   \n9   LabelingSetId-1  Label-1  PersonId-00010  Christopher     rjott   \n10  LabelingSetId-1  Label-1  PersonId-00011  Chriztorher     Scoyt   \n11  LabelingSetId-1  Label-1  PersonId-00012  Christopher     Scoyt   \n12  LabelingSetId-1  Label-1  PersonId-00013  Chriztorher     rjott   \n13  LabelingSetId-1  Label-1  PersonId-00014  Chhistophnr     rjott   \n14  LabelingSetId-1  Label-1  PersonId-00015  Chriztorher     rjott   \n15  LabelingSetId-1  Label-1  PersonId-00016  Chriztorher     Scott   \n16  LabelingSetId-1  Label-1  PersonId-00017  Chhistophnr     Scoyt   \n17  LabelingSetId-1  Label-1  PersonId-00018  Christopher     Scott   \n18  LabelingSetId-1  Label-1  PersonId-00019  Chhistophnr     rjott   \n19  LabelingSetId-1  Label-1  PersonId-00020  Chriztorher     Scoyt   \n20  LabelingSetId-1  Label-2  PersonId-00021        Kayla  Mcknight   \n21  LabelingSetId-1  Label-2  PersonId-00022        Kaqla  Mckaight   \n22  LabelingSetId-1  Label-2  PersonId-00023        Kayla  Mckaight   \n23  LabelingSetId-1  Label-2  PersonId-00024        Kaqla  Mckaight   \n24  LabelingSetId-1  Label-2  PersonId-00025        Kaqla  Mckaight   \n25  LabelingSetId-1  Label-2  PersonId-00026        Katla  Mcknight   \n26  LabelingSetId-1  Label-2  PersonId-00027        Kaqla  Mcknight   \n27  LabelingSetId-1  Label-2  PersonId-00028        Katla  Mckaight   \n28  LabelingSetId-1  Label-2  PersonId-00029        Katla  Mcknight   \n29  LabelingSetId-1  Label-2  PersonId-00030        Kayla  Mdkzight   \n30  LabelingSetId-1  Label-3  PersonId-00031        Kelby   Johnson   \n31  LabelingSetId-1  Label-3  PersonId-00032        felwy   Johnson   \n32  LabelingSetId-1  Label-3  PersonId-00033        Kelly   uohnsyn   \n33  LabelingSetId-1  Label-3  PersonId-00034        Kelby   Jxhnson   \n34  LabelingSetId-1  Label-3  PersonId-00035        Kelby   uohnsyn   \n35  LabelingSetId-1  Label-3  PersonId-00036        felwy   Jxhnson   \n36  LabelingSetId-1  Label-4  PersonId-00037         Lisa    Miller   \n37  LabelingSetId-1  Label-4  PersonId-00038         Lisa    billeo   \n38  LabelingSetId-1  Label-4  PersonId-00039         Lusy    Milter   \n39  LabelingSetId-1  Label-5  PersonId-00040        Dcana    Gibson   \n\n           phone  \n0   675-862-4727  \n1   675-832-4727  \n2   675-862-4727  \n3   675-832-4727  \n4   675-832-4727  \n5   675-832-4727  \n6   675-862-4727  \n7   675-832-4727  \n8   675-832-4727  \n9   675-832-4727  \n10  675-832-4727  \n11  675-832-4727  \n12  675-832-4727  \n13  675-862-4727  \n14  675-832-4727  \n15  675-832-4727  \n16  675-862-4727  \n17  675-862-4727  \n18  675-832-4727  \n19  675-862-4727  \n20  421-311-6080  \n21  421-311-6080  \n22  421-311-6080  \n23  421-311-6080  \n24  421-311-6080  \n25  421-311-6080  \n26  421-311-6080  \n27  421-311-6080  \n28  421-311-6080  \n29  421-311-6080  \n30  590-204-8747  \n31  590-204-8747  \n32  590-204-8747  \n33  590-204-8747  \n34  590-204-8747  \n35  590-204-8747  \n36  525-927-8898  \n37  525-927-8898  \n38  525-927-8898  \n39  636-343-0560  ",
      "text/html": "<div>\n<style scoped>\n    .dataframe tbody tr th:only-of-type {\n        vertical-align: middle;\n    }\n\n    .dataframe tbody tr th {\n        vertical-align: top;\n    }\n\n    .dataframe thead th {\n        text-align: right;\n    }\n</style>\n<table border=\"1\" class=\"dataframe\">\n  <thead>\n    <tr style=\"text-align: right;\">\n      <th></th>\n      <th>labeling_set_id</th>\n      <th>label</th>\n      <th>id</th>\n      <th>firstname</th>\n      <th>lastname</th>\n      <th>phone</th>\n    </tr>\n  </thead>\n  <tbody>\n    <tr>\n      <th>0</th>\n      <td>LabelingSetId-1</td>\n      <td>Label-1</td>\n      <td>PersonId-00001</td>\n      <td>Christopher</td>\n      <td>rjott</td>\n      <td>675-862-4727</td>\n    </tr>\n    <tr>\n      <th>1</th>\n      <td>LabelingSetId-1</td>\n      <td>Label-1</td>\n      <td>PersonId-00002</td>\n      <td>Chhistophnr</td>\n      <td>Scott</td>\n      <td>675-832-4727</td>\n    </tr>\n    <tr>\n      <th>2</th>\n      <td>LabelingSetId-1</td>\n      <td>Label-1</td>\n      <td>PersonId-00003</td>\n      <td>Chhistophnr</td>\n      <td>Scoyt</td>\n      <td>675-862-4727</td>\n    </tr>\n    <tr>\n      <th>3</th>\n      <td>LabelingSetId-1</td>\n      <td>Label-1</td>\n      <td>PersonId-00004</td>\n      <td>Chhistophnr</td>\n      <td>Scoyt</td>\n      <td>675-832-4727</td>\n    </tr>\n    <tr>\n      <th>4</th>\n      <td>LabelingSetId-1</td>\n      <td>Label-1</td>\n      <td>PersonId-00005</td>\n      <td>Christopher</td>\n      <td>Scott</td>\n      <td>675-832-4727</td>\n    </tr>\n    <tr>\n      <th>5</th>\n      <td>LabelingSetId-1</td>\n      <td>Label-1</td>\n      <td>PersonId-00006</td>\n      <td>Christopher</td>\n      <td>rjott</td>\n      <td>675-832-4727</td>\n    </tr>\n    <tr>\n      <th>6</th>\n      <td>LabelingSetId-1</td>\n      <td>Label-1</td>\n      <td>PersonId-00007</td>\n      <td>Chriztorher</td>\n      <td>Scoyt</td>\n      <td>675-862-4727</td>\n    </tr>\n    <tr>\n      <th>7</th>\n      <td>LabelingSetId-1</td>\n      <td>Label-1</td>\n      <td>PersonId-00008</td>\n      <td>Chhistophnr</td>\n      <td>Scott</td>\n      <td>675-832-4727</td>\n    </tr>\n    <tr>\n      <th>8</th>\n      <td>LabelingSetId-1</td>\n      <td>Label-1</td>\n      <td>PersonId-00009</td>\n      <td>Christopher</td>\n      <td>Scoyt</td>\n      <td>675-832-4727</td>\n    </tr>\n    <tr>\n      <th>9</th>\n      <td>LabelingSetId-1</td>\n      <td>Label-1</td>\n      <td>PersonId-00010</td>\n      <td>Christopher</td>\n      <td>rjott</td>\n      <td>675-832-4727</td>\n    </tr>\n    <tr>\n      <th>10</th>\n      <td>LabelingSetId-1</td>\n      <td>Label-1</td>\n      <td>PersonId-00011</td>\n      <td>Chriztorher</td>\n      <td>Scoyt</td>\n      <td>675-832-4727</td>\n    </tr>\n    <tr>\n      <th>11</th>\n      <td>LabelingSetId-1</td>\n      <td>Label-1</td>\n      <td>PersonId-00012</td>\n      <td>Christopher</td>\n      <td>Scoyt</td>\n      <td>675-832-4727</td>\n    </tr>\n    <tr>\n      <th>12</th>\n      <td>LabelingSetId-1</td>\n      <td>Label-1</td>\n      <td>PersonId-00013</td>\n      <td>Chriztorher</td>\n      <td>rjott</td>\n      <td>675-832-4727</td>\n    </tr>\n    <tr>\n      <th>13</th>\n      <td>LabelingSetId-1</td>\n      <td>Label-1</td>\n      <td>PersonId-00014</td>\n      <td>Chhistophnr</td>\n      <td>rjott</td>\n      <td>675-862-4727</td>\n    </tr>\n    <tr>\n      <th>14</th>\n      <td>LabelingSetId-1</td>\n      <td>Label-1</td>\n      <td>PersonId-00015</td>\n      <td>Chriztorher</td>\n      <td>rjott</td>\n      <td>675-832-4727</td>\n    </tr>\n    <tr>\n      <th>15</th>\n      <td>LabelingSetId-1</td>\n      <td>Label-1</td>\n      <td>PersonId-00016</td>\n      <td>Chriztorher</td>\n      <td>Scott</td>\n      <td>675-832-4727</td>\n    </tr>\n    <tr>\n      <th>16</th>\n      <td>LabelingSetId-1</td>\n      <td>Label-1</td>\n      <td>PersonId-00017</td>\n      <td>Chhistophnr</td>\n      <td>Scoyt</td>\n      <td>675-862-4727</td>\n    </tr>\n    <tr>\n      <th>17</th>\n      <td>LabelingSetId-1</td>\n      <td>Label-1</td>\n      <td>PersonId-00018</td>\n      <td>Christopher</td>\n      <td>Scott</td>\n      <td>675-862-4727</td>\n    </tr>\n    <tr>\n      <th>18</th>\n      <td>LabelingSetId-1</td>\n      <td>Label-1</td>\n      <td>PersonId-00019</td>\n      <td>Chhistophnr</td>\n      <td>rjott</td>\n      <td>675-832-4727</td>\n    </tr>\n    <tr>\n      <th>19</th>\n      <td>LabelingSetId-1</td>\n      <td>Label-1</td>\n      <td>PersonId-00020</td>\n      <td>Chriztorher</td>\n      <td>Scoyt</td>\n      <td>675-862-4727</td>\n    </tr>\n    <tr>\n      <th>20</th>\n      <td>LabelingSetId-1</td>\n      <td>Label-2</td>\n      <td>PersonId-00021</td>\n      <td>Kayla</td>\n      <td>Mcknight</td>\n      <td>421-311-6080</td>\n    </tr>\n    <tr>\n      <th>21</th>\n      <td>LabelingSetId-1</td>\n      <td>Label-2</td>\n      <td>PersonId-00022</td>\n      <td>Kaqla</td>\n      <td>Mckaight</td>\n      <td>421-311-6080</td>\n    </tr>\n    <tr>\n      <th>22</th>\n      <td>LabelingSetId-1</td>\n      <td>Label-2</td>\n      <td>PersonId-00023</td>\n      <td>Kayla</td>\n      <td>Mckaight</td>\n      <td>421-311-6080</td>\n    </tr>\n    <tr>\n      <th>23</th>\n      <td>LabelingSetId-1</td>\n      <td>Label-2</td>\n      <td>PersonId-00024</td>\n      <td>Kaqla</td>\n      <td>Mckaight</td>\n      <td>421-311-6080</td>\n    </tr>\n    <tr>\n      <th>24</th>\n      <td>LabelingSetId-1</td>\n      <td>Label-2</td>\n      <td>PersonId-00025</td>\n      <td>Kaqla</td>\n      <td>Mckaight</td>\n      <td>421-311-6080</td>\n    </tr>\n    <tr>\n      <th>25</th>\n      <td>LabelingSetId-1</td>\n      <td>Label-2</td>\n      <td>PersonId-00026</td>\n      <td>Katla</td>\n      <td>Mcknight</td>\n      <td>421-311-6080</td>\n    </tr>\n    <tr>\n      <th>26</th>\n      <td>LabelingSetId-1</td>\n      <td>Label-2</td>\n      <td>PersonId-00027</td>\n      <td>Kaqla</td>\n      <td>Mcknight</td>\n      <td>421-311-6080</td>\n    </tr>\n    <tr>\n      <th>27</th>\n      <td>LabelingSetId-1</td>\n      <td>Label-2</td>\n      <td>PersonId-00028</td>\n      <td>Katla</td>\n      <td>Mckaight</td>\n      <td>421-311-6080</td>\n    </tr>\n    <tr>\n      <th>28</th>\n      <td>LabelingSetId-1</td>\n      <td>Label-2</td>\n      <td>PersonId-00029</td>\n      <td>Katla</td>\n      <td>Mcknight</td>\n      <td>421-311-6080</td>\n    </tr>\n    <tr>\n      <th>29</th>\n      <td>LabelingSetId-1</td>\n      <td>Label-2</td>\n      <td>PersonId-00030</td>\n      <td>Kayla</td>\n      <td>Mdkzight</td>\n      <td>421-311-6080</td>\n    </tr>\n    <tr>\n      <th>30</th>\n      <td>LabelingSetId-1</td>\n      <td>Label-3</td>\n      <td>PersonId-00031</td>\n      <td>Kelby</td>\n      <td>Johnson</td>\n      <td>590-204-8747</td>\n    </tr>\n    <tr>\n      <th>31</th>\n      <td>LabelingSetId-1</td>\n      <td>Label-3</td>\n      <td>PersonId-00032</td>\n      <td>felwy</td>\n      <td>Johnson</td>\n      <td>590-204-8747</td>\n    </tr>\n    <tr>\n      <th>32</th>\n      <td>LabelingSetId-1</td>\n      <td>Label-3</td>\n      <td>PersonId-00033</td>\n      <td>Kelly</td>\n      <td>uohnsyn</td>\n      <td>590-204-8747</td>\n    </tr>\n    <tr>\n      <th>33</th>\n      <td>LabelingSetId-1</td>\n      <td>Label-3</td>\n      <td>PersonId-00034</td>\n      <td>Kelby</td>\n      <td>Jxhnson</td>\n      <td>590-204-8747</td>\n    </tr>\n    <tr>\n      <th>34</th>\n      <td>LabelingSetId-1</td>\n      <td>Label-3</td>\n      <td>PersonId-00035</td>\n      <td>Kelby</td>\n      <td>uohnsyn</td>\n      <td>590-204-8747</td>\n    </tr>\n    <tr>\n      <th>35</th>\n      <td>LabelingSetId-1</td>\n      <td>Label-3</td>\n      <td>PersonId-00036</td>\n      <td>felwy</td>\n      <td>Jxhnson</td>\n      <td>590-204-8747</td>\n    </tr>\n    <tr>\n      <th>36</th>\n      <td>LabelingSetId-1</td>\n      <td>Label-4</td>\n      <td>PersonId-00037</td>\n      <td>Lisa</td>\n      <td>Miller</td>\n      <td>525-927-8898</td>\n    </tr>\n    <tr>\n      <th>37</th>\n      <td>LabelingSetId-1</td>\n      <td>Label-4</td>\n      <td>PersonId-00038</td>\n      <td>Lisa</td>\n      <td>billeo</td>\n      <td>525-927-8898</td>\n    </tr>\n    <tr>\n      <th>38</th>\n      <td>LabelingSetId-1</td>\n      <td>Label-4</td>\n      <td>PersonId-00039</td>\n      <td>Lusy</td>\n      <td>Milter</td>\n      <td>525-927-8898</td>\n    </tr>\n    <tr>\n      <th>39</th>\n      <td>LabelingSetId-1</td>\n      <td>Label-5</td>\n      <td>PersonId-00040</td>\n      <td>Dcana</td>\n      <td>Gibson</td>\n      <td>636-343-0560</td>\n    </tr>\n  </tbody>\n</table>\n</div>"
     },
     "execution_count": 78,
     "metadata": {},
     "output_type": "execute_result"
    }
   ],
   "source": [
    "print(\"------ training dataset label ONLY  ------\")\n",
    "print(f\"{df_label.shape[0]} rows, {df_label.shape[1]} columns\")\n",
    "df_label.head(40)"
   ],
   "metadata": {
    "collapsed": false,
    "pycharm": {
     "name": "#%%\n"
    }
   }
  },
  {
   "cell_type": "code",
   "execution_count": 79,
   "outputs": [
    {
     "name": "stdout",
     "output_type": "stream",
     "text": [
      "created s3://aws-data-lab-sanhe-for-everything-us-east-2/poc/2022-05-18-glue-find-matches/find-incr-matches/01-train/1.csv\n",
      "  preview at s3://aws-data-lab-sanhe-for-everything-us-east-2/poc/2022-05-18-glue-find-matches/find-incr-matches/01-train/1.csv\n",
      "created s3://aws-data-lab-sanhe-for-everything-us-east-2/poc/2022-05-18-glue-find-matches/find-incr-matches/02-label/1.csv\n",
      "  preview at s3://aws-data-lab-sanhe-for-everything-us-east-2/poc/2022-05-18-glue-find-matches/find-incr-matches/02-label/1.csv\n"
     ]
    }
   ],
   "source": [
    "# Dump to local and s3\n",
    "path_train_csv = Path(dir_here, \"01-train.csv\")\n",
    "df_train.to_csv(path_train_csv, **pd_to_csv_kwargs)\n",
    "\n",
    "path_label_csv = Path(dir_here, \"02-label.csv\")\n",
    "df_label.to_csv(path_label_csv, **pd_to_csv_kwargs)\n",
    "\n",
    "s3path_train_csv = S3Path(s3path_prefix, \"01-train\", \"1.csv\")\n",
    "wr.s3.to_csv(df_train, path=s3path_train_csv.uri, **wr_to_csv_kwargs)\n",
    "print(f\"created {s3path_train_csv.uri}\")\n",
    "print(f\"  preview at {s3path_train_csv.uri}\")\n",
    "\n",
    "s3path_label_csv = S3Path(s3path_prefix, \"02-label\", \"1.csv\")\n",
    "wr.s3.to_csv(df_label, path=s3path_label_csv.uri, **wr_to_csv_kwargs)\n",
    "print(f\"created {s3path_label_csv.uri}\")\n",
    "print(f\"  preview at {s3path_label_csv.uri}\")"
   ],
   "metadata": {
    "collapsed": false,
    "pycharm": {
     "name": "#%%\n"
    }
   }
  },
  {
   "cell_type": "markdown",
   "source": [
    "# Genereate Test Data\n",
    "\n",
    "Now, let's take a look at the dataset."
   ],
   "metadata": {
    "collapsed": false,
    "pycharm": {
     "name": "#%% md\n"
    }
   }
  },
  {
   "cell_type": "code",
   "execution_count": 111,
   "outputs": [],
   "source": [
    "df_all_for_test = generate_dataset(\n",
    "    start_id=40001,\n",
    "    start_tid=1,\n",
    "    n_labeling_set_id=1000,\n",
    "    hist=[20, 10, 6, 3, 1],\n",
    ").drop(columns=[\"labeling_set_id\", \"label\"])\n",
    "\n",
    "df_initial_match = df_all_for_test.sample(frac=0.7)[columns_train]\n",
    "df_initial_match = df_initial_match.sort_values(by=\"id\")\n",
    "df_incremental_match = df_all_for_test.loc[df_all_for_test.index.difference(df_initial_match.index),columns_train]"
   ],
   "metadata": {
    "collapsed": false,
    "pycharm": {
     "name": "#%%\n"
    }
   }
  },
  {
   "cell_type": "markdown",
   "source": [
    "我们把测试数据分成两份, 一份 70% 作为 initial match, 另一份 30% 作为 incremental match. 这两份中必然有一些数据是属于同一个 TruePerson 的. initial match 之后很多数据会被标上 ``match_id``, 我们希望用 incremental match 之后, 属于同一个 TruePerson 的数据能跟 initial match 中标记的 ``match_id`` 对应上.\n",
    "\n",
    "我们先简单的预览一下 initial 和 incremental 两份数据. 可以看出 initial 和 incremental 分别有 28k 和 12k 条数据, 总和能跟前面的 ``1000 * sum([20, 10, 6, 3, 1]) = 40k`` 对应上. 并且互相之间没有重叠."
   ],
   "metadata": {
    "collapsed": false
   }
  },
  {
   "cell_type": "code",
   "execution_count": 112,
   "outputs": [
    {
     "data": {
      "text/plain": "                   id\n0      PersonId-40001\n1      PersonId-40002\n2      PersonId-40003\n5      PersonId-40006\n6      PersonId-40007\n...               ...\n39995  PersonId-79996\n39996  PersonId-79997\n39997  PersonId-79998\n39998  PersonId-79999\n39999  PersonId-80000\n\n[28000 rows x 1 columns]",
      "text/html": "<div>\n<style scoped>\n    .dataframe tbody tr th:only-of-type {\n        vertical-align: middle;\n    }\n\n    .dataframe tbody tr th {\n        vertical-align: top;\n    }\n\n    .dataframe thead th {\n        text-align: right;\n    }\n</style>\n<table border=\"1\" class=\"dataframe\">\n  <thead>\n    <tr style=\"text-align: right;\">\n      <th></th>\n      <th>id</th>\n    </tr>\n  </thead>\n  <tbody>\n    <tr>\n      <th>0</th>\n      <td>PersonId-40001</td>\n    </tr>\n    <tr>\n      <th>1</th>\n      <td>PersonId-40002</td>\n    </tr>\n    <tr>\n      <th>2</th>\n      <td>PersonId-40003</td>\n    </tr>\n    <tr>\n      <th>5</th>\n      <td>PersonId-40006</td>\n    </tr>\n    <tr>\n      <th>6</th>\n      <td>PersonId-40007</td>\n    </tr>\n    <tr>\n      <th>...</th>\n      <td>...</td>\n    </tr>\n    <tr>\n      <th>39995</th>\n      <td>PersonId-79996</td>\n    </tr>\n    <tr>\n      <th>39996</th>\n      <td>PersonId-79997</td>\n    </tr>\n    <tr>\n      <th>39997</th>\n      <td>PersonId-79998</td>\n    </tr>\n    <tr>\n      <th>39998</th>\n      <td>PersonId-79999</td>\n    </tr>\n    <tr>\n      <th>39999</th>\n      <td>PersonId-80000</td>\n    </tr>\n  </tbody>\n</table>\n<p>28000 rows × 1 columns</p>\n</div>"
     },
     "execution_count": 112,
     "metadata": {},
     "output_type": "execute_result"
    }
   ],
   "source": [
    "df_initial_match[[\"id\",]]"
   ],
   "metadata": {
    "collapsed": false,
    "pycharm": {
     "name": "#%%\n"
    }
   }
  },
  {
   "cell_type": "code",
   "execution_count": 113,
   "outputs": [
    {
     "data": {
      "text/plain": "                   id\n3      PersonId-40004\n4      PersonId-40005\n11     PersonId-40012\n12     PersonId-40013\n17     PersonId-40018\n...               ...\n39978  PersonId-79979\n39979  PersonId-79980\n39980  PersonId-79981\n39981  PersonId-79982\n39982  PersonId-79983\n\n[12000 rows x 1 columns]",
      "text/html": "<div>\n<style scoped>\n    .dataframe tbody tr th:only-of-type {\n        vertical-align: middle;\n    }\n\n    .dataframe tbody tr th {\n        vertical-align: top;\n    }\n\n    .dataframe thead th {\n        text-align: right;\n    }\n</style>\n<table border=\"1\" class=\"dataframe\">\n  <thead>\n    <tr style=\"text-align: right;\">\n      <th></th>\n      <th>id</th>\n    </tr>\n  </thead>\n  <tbody>\n    <tr>\n      <th>3</th>\n      <td>PersonId-40004</td>\n    </tr>\n    <tr>\n      <th>4</th>\n      <td>PersonId-40005</td>\n    </tr>\n    <tr>\n      <th>11</th>\n      <td>PersonId-40012</td>\n    </tr>\n    <tr>\n      <th>12</th>\n      <td>PersonId-40013</td>\n    </tr>\n    <tr>\n      <th>17</th>\n      <td>PersonId-40018</td>\n    </tr>\n    <tr>\n      <th>...</th>\n      <td>...</td>\n    </tr>\n    <tr>\n      <th>39978</th>\n      <td>PersonId-79979</td>\n    </tr>\n    <tr>\n      <th>39979</th>\n      <td>PersonId-79980</td>\n    </tr>\n    <tr>\n      <th>39980</th>\n      <td>PersonId-79981</td>\n    </tr>\n    <tr>\n      <th>39981</th>\n      <td>PersonId-79982</td>\n    </tr>\n    <tr>\n      <th>39982</th>\n      <td>PersonId-79983</td>\n    </tr>\n  </tbody>\n</table>\n<p>12000 rows × 1 columns</p>\n</div>"
     },
     "execution_count": 113,
     "metadata": {},
     "output_type": "execute_result"
    }
   ],
   "source": [
    "df_incremental_match[[\"id\",]]\n"
   ],
   "metadata": {
    "collapsed": false,
    "pycharm": {
     "name": "#%%\n"
    }
   }
  },
  {
   "cell_type": "markdown",
   "source": [
    "然后我们将 initial 和 incremental 都 load 到 S3 中, 这里要把我们用来验证的 label 信息去掉. 并且把原始数据在本地做一个备份, 以便之后验证."
   ],
   "metadata": {
    "collapsed": false,
    "pycharm": {
     "name": "#%% md\n"
    }
   }
  },
  {
   "cell_type": "code",
   "execution_count": 114,
   "outputs": [
    {
     "name": "stdout",
     "output_type": "stream",
     "text": [
      "created s3://aws-data-lab-sanhe-for-everything-us-east-2/poc/2022-05-18-glue-find-matches/find-incr-matches/04-initial/1.csv\n",
      "  preview at s3://aws-data-lab-sanhe-for-everything-us-east-2/poc/2022-05-18-glue-find-matches/find-incr-matches/04-initial/1.csv\n",
      "created s3://aws-data-lab-sanhe-for-everything-us-east-2/poc/2022-05-18-glue-find-matches/find-incr-matches/05-incremental/1.csv\n",
      "  preview at s3://aws-data-lab-sanhe-for-everything-us-east-2/poc/2022-05-18-glue-find-matches/find-incr-matches/05-incremental/1.csv\n"
     ]
    }
   ],
   "source": [
    "path_test_csv = Path(dir_here, \"03-test.csv\")\n",
    "df_all_for_test.to_csv(path_test_csv, **pd_to_csv_kwargs)\n",
    "\n",
    "path_initial_csv = Path(dir_here, \"04-initial.csv\")\n",
    "df_initial_match.to_csv(path_initial_csv, **pd_to_csv_kwargs)\n",
    "\n",
    "path_incremental_csv = Path(dir_here, \"05-incremental.csv\")\n",
    "df_incremental_match.to_csv(path_incremental_csv, **pd_to_csv_kwargs)\n",
    "\n",
    "s3path_initial_csv = S3Path(s3path_prefix, \"04-initial\", \"1.csv\")\n",
    "wr.s3.to_csv(df_initial_match, path=s3path_initial_csv.uri, **wr_to_csv_kwargs)\n",
    "print(f\"created {s3path_initial_csv.uri}\")\n",
    "print(f\"  preview at {s3path_initial_csv.uri}\")\n",
    "\n",
    "s3path_incremental_csv = S3Path(s3path_prefix, \"05-incremental\", \"1.csv\")\n",
    "wr.s3.to_csv(df_incremental_match, path=s3path_incremental_csv.uri, **wr_to_csv_kwargs)\n",
    "print(f\"created {s3path_incremental_csv.uri}\")\n",
    "print(f\"  preview at {s3path_incremental_csv.uri}\")"
   ],
   "metadata": {
    "collapsed": false,
    "pycharm": {
     "name": "#%%\n"
    }
   }
  },
  {
   "cell_type": "code",
   "source": [
    "def read_match_results(s3path_prefix: S3Path) -> pd.DataFrame:\n",
    "    \"\"\"\n",
    "    Merge and download the predict output data from S3 to Local.\n",
    "    The Glue ML job usually use multiple worker and dump the results\n",
    "    to many small files in parallel,\n",
    "    \"\"\"\n",
    "    df_list = list()\n",
    "    for s3path in S3Path(s3path_prefix).iter_objects():\n",
    "        with s3path.open(\"r\") as f:\n",
    "            df = pd.read_csv(f)\n",
    "            df_list.append(df)\n",
    "\n",
    "    # concatenate all data frame\n",
    "    df_match_results = pd.concat(df_list, axis=0)\n",
    "\n",
    "    # re order by ID\n",
    "    df_match_results = df_match_results.sort_values(by=\"id\")\n",
    "    return df_match_results\n",
    "\n"
   ],
   "metadata": {
    "collapsed": false,
    "pycharm": {
     "name": "#%%\n"
    }
   },
   "execution_count": 115,
   "outputs": []
  },
  {
   "cell_type": "code",
   "execution_count": 117,
   "outputs": [],
   "source": [
    "df_initial_match_results = read_match_results(S3Path(s3path_prefix, \"06-match-results\").to_dir())"
   ],
   "metadata": {
    "collapsed": false,
    "pycharm": {
     "name": "#%%\n"
    }
   }
  },
  {
   "cell_type": "code",
   "execution_count": 118,
   "outputs": [
    {
     "name": "stdout",
     "output_type": "stream",
     "text": [
      "------ initial match results ------\n",
      "28000 rows, 6 columns\n"
     ]
    },
    {
     "data": {
      "text/plain": "                id firstname   lastname         phone  match_id  \\\n1   PersonId-40001    Jyfemy   Martynez  083-618-7494         0   \n9   PersonId-40002    Jeqemy   Mvrtinez  083-618-7494         0   \n3   PersonId-40003    Jeremy   Martinez  083-618-7294         0   \n7   PersonId-40006    Jyfemy   Martinez  083-618-7494         0   \n6   PersonId-40007    Jeremy   Martynez  083-618-7494         0   \n8   PersonId-40008    Jyfemy   Martinez  083-618-7494         0   \n2   PersonId-40009    Jeremy   Martynez  083-618-7494         0   \n5   PersonId-40010    Jeremy   Mvrtinez  083-618-7294         0   \n11  PersonId-40011    Jeqemy   Mvrtinez  083-618-7494         0   \n4   PersonId-40014    Jeremy   Martinez  083-618-7494         0   \n12  PersonId-40015    Jeqemy   Martinez  083-618-7294         0   \n0   PersonId-40016    Jyfemy   Martynez  083-618-7294         0   \n10  PersonId-40017    Jeremy   Mvrtinez  083-618-7494         0   \n4   PersonId-40021     Kazis  Heraandez  692-082-5508        13   \n7   PersonId-40022     Kazis  Hernamdez  692-082-5508        13   \n0   PersonId-40023     Katie  Heraandez  692-082-5508        13   \n5   PersonId-40024     Katij  Heraandez  698-082-5508        13   \n3   PersonId-40027     Kazis  Hernandez  698-082-5508        13   \n6   PersonId-40028     Katie  Heraandez  698-082-5508        13   \n1   PersonId-40029     Katie  Heraandez  698-082-5508        13   \n\n    match_confidence_score  \n1                      1.0  \n9                      1.0  \n3                      1.0  \n7                      1.0  \n6                      1.0  \n8                      1.0  \n2                      1.0  \n5                      1.0  \n11                     1.0  \n4                      1.0  \n12                     1.0  \n0                      1.0  \n10                     1.0  \n4                      1.0  \n7                      1.0  \n0                      1.0  \n5                      1.0  \n3                      1.0  \n6                      1.0  \n1                      1.0  ",
      "text/html": "<div>\n<style scoped>\n    .dataframe tbody tr th:only-of-type {\n        vertical-align: middle;\n    }\n\n    .dataframe tbody tr th {\n        vertical-align: top;\n    }\n\n    .dataframe thead th {\n        text-align: right;\n    }\n</style>\n<table border=\"1\" class=\"dataframe\">\n  <thead>\n    <tr style=\"text-align: right;\">\n      <th></th>\n      <th>id</th>\n      <th>firstname</th>\n      <th>lastname</th>\n      <th>phone</th>\n      <th>match_id</th>\n      <th>match_confidence_score</th>\n    </tr>\n  </thead>\n  <tbody>\n    <tr>\n      <th>1</th>\n      <td>PersonId-40001</td>\n      <td>Jyfemy</td>\n      <td>Martynez</td>\n      <td>083-618-7494</td>\n      <td>0</td>\n      <td>1.0</td>\n    </tr>\n    <tr>\n      <th>9</th>\n      <td>PersonId-40002</td>\n      <td>Jeqemy</td>\n      <td>Mvrtinez</td>\n      <td>083-618-7494</td>\n      <td>0</td>\n      <td>1.0</td>\n    </tr>\n    <tr>\n      <th>3</th>\n      <td>PersonId-40003</td>\n      <td>Jeremy</td>\n      <td>Martinez</td>\n      <td>083-618-7294</td>\n      <td>0</td>\n      <td>1.0</td>\n    </tr>\n    <tr>\n      <th>7</th>\n      <td>PersonId-40006</td>\n      <td>Jyfemy</td>\n      <td>Martinez</td>\n      <td>083-618-7494</td>\n      <td>0</td>\n      <td>1.0</td>\n    </tr>\n    <tr>\n      <th>6</th>\n      <td>PersonId-40007</td>\n      <td>Jeremy</td>\n      <td>Martynez</td>\n      <td>083-618-7494</td>\n      <td>0</td>\n      <td>1.0</td>\n    </tr>\n    <tr>\n      <th>8</th>\n      <td>PersonId-40008</td>\n      <td>Jyfemy</td>\n      <td>Martinez</td>\n      <td>083-618-7494</td>\n      <td>0</td>\n      <td>1.0</td>\n    </tr>\n    <tr>\n      <th>2</th>\n      <td>PersonId-40009</td>\n      <td>Jeremy</td>\n      <td>Martynez</td>\n      <td>083-618-7494</td>\n      <td>0</td>\n      <td>1.0</td>\n    </tr>\n    <tr>\n      <th>5</th>\n      <td>PersonId-40010</td>\n      <td>Jeremy</td>\n      <td>Mvrtinez</td>\n      <td>083-618-7294</td>\n      <td>0</td>\n      <td>1.0</td>\n    </tr>\n    <tr>\n      <th>11</th>\n      <td>PersonId-40011</td>\n      <td>Jeqemy</td>\n      <td>Mvrtinez</td>\n      <td>083-618-7494</td>\n      <td>0</td>\n      <td>1.0</td>\n    </tr>\n    <tr>\n      <th>4</th>\n      <td>PersonId-40014</td>\n      <td>Jeremy</td>\n      <td>Martinez</td>\n      <td>083-618-7494</td>\n      <td>0</td>\n      <td>1.0</td>\n    </tr>\n    <tr>\n      <th>12</th>\n      <td>PersonId-40015</td>\n      <td>Jeqemy</td>\n      <td>Martinez</td>\n      <td>083-618-7294</td>\n      <td>0</td>\n      <td>1.0</td>\n    </tr>\n    <tr>\n      <th>0</th>\n      <td>PersonId-40016</td>\n      <td>Jyfemy</td>\n      <td>Martynez</td>\n      <td>083-618-7294</td>\n      <td>0</td>\n      <td>1.0</td>\n    </tr>\n    <tr>\n      <th>10</th>\n      <td>PersonId-40017</td>\n      <td>Jeremy</td>\n      <td>Mvrtinez</td>\n      <td>083-618-7494</td>\n      <td>0</td>\n      <td>1.0</td>\n    </tr>\n    <tr>\n      <th>4</th>\n      <td>PersonId-40021</td>\n      <td>Kazis</td>\n      <td>Heraandez</td>\n      <td>692-082-5508</td>\n      <td>13</td>\n      <td>1.0</td>\n    </tr>\n    <tr>\n      <th>7</th>\n      <td>PersonId-40022</td>\n      <td>Kazis</td>\n      <td>Hernamdez</td>\n      <td>692-082-5508</td>\n      <td>13</td>\n      <td>1.0</td>\n    </tr>\n    <tr>\n      <th>0</th>\n      <td>PersonId-40023</td>\n      <td>Katie</td>\n      <td>Heraandez</td>\n      <td>692-082-5508</td>\n      <td>13</td>\n      <td>1.0</td>\n    </tr>\n    <tr>\n      <th>5</th>\n      <td>PersonId-40024</td>\n      <td>Katij</td>\n      <td>Heraandez</td>\n      <td>698-082-5508</td>\n      <td>13</td>\n      <td>1.0</td>\n    </tr>\n    <tr>\n      <th>3</th>\n      <td>PersonId-40027</td>\n      <td>Kazis</td>\n      <td>Hernandez</td>\n      <td>698-082-5508</td>\n      <td>13</td>\n      <td>1.0</td>\n    </tr>\n    <tr>\n      <th>6</th>\n      <td>PersonId-40028</td>\n      <td>Katie</td>\n      <td>Heraandez</td>\n      <td>698-082-5508</td>\n      <td>13</td>\n      <td>1.0</td>\n    </tr>\n    <tr>\n      <th>1</th>\n      <td>PersonId-40029</td>\n      <td>Katie</td>\n      <td>Heraandez</td>\n      <td>698-082-5508</td>\n      <td>13</td>\n      <td>1.0</td>\n    </tr>\n  </tbody>\n</table>\n</div>"
     },
     "execution_count": 118,
     "metadata": {},
     "output_type": "execute_result"
    }
   ],
   "source": [
    "print(\"------ initial match results ------\")\n",
    "print(f\"{df_initial_match_results.shape[0]} rows, {df_initial_match_results.shape[1]} columns\")\n",
    "df_initial_match_results.head(20)"
   ],
   "metadata": {
    "collapsed": false,
    "pycharm": {
     "name": "#%%\n"
    }
   }
  },
  {
   "cell_type": "code",
   "execution_count": 119,
   "outputs": [
    {
     "name": "stdout",
     "output_type": "stream",
     "text": [
      "------ incremental match test data ------\n",
      "12000 rows, 4 columns\n"
     ]
    },
    {
     "data": {
      "text/plain": "                id firstname   lastname         phone\n3   PersonId-40004    Jeqemy   Martynez  083-618-7494\n4   PersonId-40005    Jeqemy   Martinez  083-618-7494\n11  PersonId-40012    Jeremy   Martynez  083-618-7494\n12  PersonId-40013    Jyfemy   Mvrtinez  083-618-7494\n17  PersonId-40018    Jeremy   Martinez  083-618-7494\n18  PersonId-40019    Jeqemy   Mvrtinez  083-618-7294\n19  PersonId-40020    Jyfemy   Martinez  083-618-7494\n24  PersonId-40025     Kazis  Heraandez  698-082-5508\n25  PersonId-40026     Kazis  Hernandez  698-082-5508\n30  PersonId-40031  Nicholar       Cuay  548-319-0208\n33  PersonId-40034  Nicuwlas       Cuay  548-319-0208\n36  PersonId-40037     pesee       saxl  296-581-2365\n44  PersonId-40045  Jensifer      Grtel  223-369-5137\n46  PersonId-40047  eennifer      Grtel  223-369-5137\n51  PersonId-40052  Jensifer      Green  223-369-5137\n52  PersonId-40053  Jensifer      Green  223-369-5137\n55  PersonId-40056  Jensifer      Green  223-369-5137\n57  PersonId-40058  Jensifer      Grwen  223-369-5137\n61  PersonId-40062     jirri   Robinsvn  355-546-9983\n67  PersonId-40068     Terri   Robinsvn  355-546-9983",
      "text/html": "<div>\n<style scoped>\n    .dataframe tbody tr th:only-of-type {\n        vertical-align: middle;\n    }\n\n    .dataframe tbody tr th {\n        vertical-align: top;\n    }\n\n    .dataframe thead th {\n        text-align: right;\n    }\n</style>\n<table border=\"1\" class=\"dataframe\">\n  <thead>\n    <tr style=\"text-align: right;\">\n      <th></th>\n      <th>id</th>\n      <th>firstname</th>\n      <th>lastname</th>\n      <th>phone</th>\n    </tr>\n  </thead>\n  <tbody>\n    <tr>\n      <th>3</th>\n      <td>PersonId-40004</td>\n      <td>Jeqemy</td>\n      <td>Martynez</td>\n      <td>083-618-7494</td>\n    </tr>\n    <tr>\n      <th>4</th>\n      <td>PersonId-40005</td>\n      <td>Jeqemy</td>\n      <td>Martinez</td>\n      <td>083-618-7494</td>\n    </tr>\n    <tr>\n      <th>11</th>\n      <td>PersonId-40012</td>\n      <td>Jeremy</td>\n      <td>Martynez</td>\n      <td>083-618-7494</td>\n    </tr>\n    <tr>\n      <th>12</th>\n      <td>PersonId-40013</td>\n      <td>Jyfemy</td>\n      <td>Mvrtinez</td>\n      <td>083-618-7494</td>\n    </tr>\n    <tr>\n      <th>17</th>\n      <td>PersonId-40018</td>\n      <td>Jeremy</td>\n      <td>Martinez</td>\n      <td>083-618-7494</td>\n    </tr>\n    <tr>\n      <th>18</th>\n      <td>PersonId-40019</td>\n      <td>Jeqemy</td>\n      <td>Mvrtinez</td>\n      <td>083-618-7294</td>\n    </tr>\n    <tr>\n      <th>19</th>\n      <td>PersonId-40020</td>\n      <td>Jyfemy</td>\n      <td>Martinez</td>\n      <td>083-618-7494</td>\n    </tr>\n    <tr>\n      <th>24</th>\n      <td>PersonId-40025</td>\n      <td>Kazis</td>\n      <td>Heraandez</td>\n      <td>698-082-5508</td>\n    </tr>\n    <tr>\n      <th>25</th>\n      <td>PersonId-40026</td>\n      <td>Kazis</td>\n      <td>Hernandez</td>\n      <td>698-082-5508</td>\n    </tr>\n    <tr>\n      <th>30</th>\n      <td>PersonId-40031</td>\n      <td>Nicholar</td>\n      <td>Cuay</td>\n      <td>548-319-0208</td>\n    </tr>\n    <tr>\n      <th>33</th>\n      <td>PersonId-40034</td>\n      <td>Nicuwlas</td>\n      <td>Cuay</td>\n      <td>548-319-0208</td>\n    </tr>\n    <tr>\n      <th>36</th>\n      <td>PersonId-40037</td>\n      <td>pesee</td>\n      <td>saxl</td>\n      <td>296-581-2365</td>\n    </tr>\n    <tr>\n      <th>44</th>\n      <td>PersonId-40045</td>\n      <td>Jensifer</td>\n      <td>Grtel</td>\n      <td>223-369-5137</td>\n    </tr>\n    <tr>\n      <th>46</th>\n      <td>PersonId-40047</td>\n      <td>eennifer</td>\n      <td>Grtel</td>\n      <td>223-369-5137</td>\n    </tr>\n    <tr>\n      <th>51</th>\n      <td>PersonId-40052</td>\n      <td>Jensifer</td>\n      <td>Green</td>\n      <td>223-369-5137</td>\n    </tr>\n    <tr>\n      <th>52</th>\n      <td>PersonId-40053</td>\n      <td>Jensifer</td>\n      <td>Green</td>\n      <td>223-369-5137</td>\n    </tr>\n    <tr>\n      <th>55</th>\n      <td>PersonId-40056</td>\n      <td>Jensifer</td>\n      <td>Green</td>\n      <td>223-369-5137</td>\n    </tr>\n    <tr>\n      <th>57</th>\n      <td>PersonId-40058</td>\n      <td>Jensifer</td>\n      <td>Grwen</td>\n      <td>223-369-5137</td>\n    </tr>\n    <tr>\n      <th>61</th>\n      <td>PersonId-40062</td>\n      <td>jirri</td>\n      <td>Robinsvn</td>\n      <td>355-546-9983</td>\n    </tr>\n    <tr>\n      <th>67</th>\n      <td>PersonId-40068</td>\n      <td>Terri</td>\n      <td>Robinsvn</td>\n      <td>355-546-9983</td>\n    </tr>\n  </tbody>\n</table>\n</div>"
     },
     "execution_count": 119,
     "metadata": {},
     "output_type": "execute_result"
    }
   ],
   "source": [
    "print(\"------ incremental match test data ------\")\n",
    "print(f\"{df_incremental_match.shape[0]} rows, {df_incremental_match.shape[1]} columns\")\n",
    "df_incremental_match.head(20)\n"
   ],
   "metadata": {
    "collapsed": false,
    "pycharm": {
     "name": "#%%\n"
    }
   }
  },
  {
   "cell_type": "code",
   "execution_count": 120,
   "outputs": [
    {
     "data": {
      "text/plain": "Int64Index([], dtype='int64')"
     },
     "execution_count": 120,
     "metadata": {},
     "output_type": "execute_result"
    }
   ],
   "source": [
    "df_initial_match.index.intersection(df_incremental_match.index)"
   ],
   "metadata": {
    "collapsed": false,
    "pycharm": {
     "name": "#%%\n"
    }
   }
  },
  {
   "cell_type": "code",
   "execution_count": 138,
   "outputs": [],
   "source": [
    "def download_the_predicts():\n",
    "    \"\"\"\n",
    "    Merge and download the predict output data from S3 to Local.\n",
    "    The Glue ML job usually use multiple worker and dump the results\n",
    "    to many small files in parallel,\n",
    "    \"\"\"\n",
    "    df_list = list()\n",
    "    for s3path in S3Path(s3path_prefix, \"predict\").iter_objects():\n",
    "        with s3path.open(\"r\") as f:\n",
    "            df = pd.read_csv(f)\n",
    "            df_list.append(df)\n",
    "    df_predict = pd.concat(df_list, axis=0)\n",
    "    # re order by ID to ensure the order\n",
    "    df_predict = df_predict.sort_values(by=\"id\")\n",
    "    df_predict.to_csv(\n",
    "        path_predicts_csv,\n",
    "        sep=\",\",\n",
    "        index=False,\n",
    "    )\n",
    "\n",
    "\n",
    "download_the_predicts()"
   ],
   "metadata": {
    "collapsed": false,
    "pycharm": {
     "name": "#%%\n"
    }
   }
  },
  {
   "cell_type": "code",
   "execution_count": 139,
   "outputs": [],
   "source": [
    "df_predict = pd.read_csv(path_predicts_csv)"
   ],
   "metadata": {
    "collapsed": false,
    "pycharm": {
     "name": "#%%\n"
    }
   }
  },
  {
   "cell_type": "code",
   "execution_count": 140,
   "outputs": [
    {
     "name": "stdout",
     "output_type": "stream",
     "text": [
      "------ Predict Results ------\n",
      "20000 rows, 6 columns\n"
     ]
    },
    {
     "data": {
      "text/plain": "               id firstname lastname         phone  match_id  \\\n0  PersonId-00001      John   aadden  672-615-3608         0   \n1  PersonId-00002      Jjcn   aadden  642-615-3608         0   \n2  PersonId-00003      Joln   aadden  602-615-3608         0   \n3  PersonId-00004      Jjcn   Mbddvn  672-615-3608         0   \n4  PersonId-00005      Jjcn   aadden  672-615-3608         0   \n5  PersonId-00006      Jjcn   aadden  642-615-3608         0   \n6  PersonId-00007      Jjcn   Madden  602-615-3608         0   \n7  PersonId-00008      John   Mbddvn  672-615-3608         0   \n8  PersonId-00009      John   Mbddvn  672-615-3608         0   \n9  PersonId-00010      Jjcn   Mbddvn  602-615-3608         0   \n\n   match_confidence_score  \n0                     1.0  \n1                     1.0  \n2                     1.0  \n3                     1.0  \n4                     1.0  \n5                     1.0  \n6                     1.0  \n7                     1.0  \n8                     1.0  \n9                     1.0  ",
      "text/html": "<div>\n<style scoped>\n    .dataframe tbody tr th:only-of-type {\n        vertical-align: middle;\n    }\n\n    .dataframe tbody tr th {\n        vertical-align: top;\n    }\n\n    .dataframe thead th {\n        text-align: right;\n    }\n</style>\n<table border=\"1\" class=\"dataframe\">\n  <thead>\n    <tr style=\"text-align: right;\">\n      <th></th>\n      <th>id</th>\n      <th>firstname</th>\n      <th>lastname</th>\n      <th>phone</th>\n      <th>match_id</th>\n      <th>match_confidence_score</th>\n    </tr>\n  </thead>\n  <tbody>\n    <tr>\n      <th>0</th>\n      <td>PersonId-00001</td>\n      <td>John</td>\n      <td>aadden</td>\n      <td>672-615-3608</td>\n      <td>0</td>\n      <td>1.0</td>\n    </tr>\n    <tr>\n      <th>1</th>\n      <td>PersonId-00002</td>\n      <td>Jjcn</td>\n      <td>aadden</td>\n      <td>642-615-3608</td>\n      <td>0</td>\n      <td>1.0</td>\n    </tr>\n    <tr>\n      <th>2</th>\n      <td>PersonId-00003</td>\n      <td>Joln</td>\n      <td>aadden</td>\n      <td>602-615-3608</td>\n      <td>0</td>\n      <td>1.0</td>\n    </tr>\n    <tr>\n      <th>3</th>\n      <td>PersonId-00004</td>\n      <td>Jjcn</td>\n      <td>Mbddvn</td>\n      <td>672-615-3608</td>\n      <td>0</td>\n      <td>1.0</td>\n    </tr>\n    <tr>\n      <th>4</th>\n      <td>PersonId-00005</td>\n      <td>Jjcn</td>\n      <td>aadden</td>\n      <td>672-615-3608</td>\n      <td>0</td>\n      <td>1.0</td>\n    </tr>\n    <tr>\n      <th>5</th>\n      <td>PersonId-00006</td>\n      <td>Jjcn</td>\n      <td>aadden</td>\n      <td>642-615-3608</td>\n      <td>0</td>\n      <td>1.0</td>\n    </tr>\n    <tr>\n      <th>6</th>\n      <td>PersonId-00007</td>\n      <td>Jjcn</td>\n      <td>Madden</td>\n      <td>602-615-3608</td>\n      <td>0</td>\n      <td>1.0</td>\n    </tr>\n    <tr>\n      <th>7</th>\n      <td>PersonId-00008</td>\n      <td>John</td>\n      <td>Mbddvn</td>\n      <td>672-615-3608</td>\n      <td>0</td>\n      <td>1.0</td>\n    </tr>\n    <tr>\n      <th>8</th>\n      <td>PersonId-00009</td>\n      <td>John</td>\n      <td>Mbddvn</td>\n      <td>672-615-3608</td>\n      <td>0</td>\n      <td>1.0</td>\n    </tr>\n    <tr>\n      <th>9</th>\n      <td>PersonId-00010</td>\n      <td>Jjcn</td>\n      <td>Mbddvn</td>\n      <td>602-615-3608</td>\n      <td>0</td>\n      <td>1.0</td>\n    </tr>\n  </tbody>\n</table>\n</div>"
     },
     "execution_count": 140,
     "metadata": {},
     "output_type": "execute_result"
    }
   ],
   "source": [
    "print(\"------ Predict Results ------\")\n",
    "print(f\"{df_predict.shape[0]} rows, {df_predict.shape[1]} columns\")\n",
    "df_predict.head(10)"
   ],
   "metadata": {
    "collapsed": false,
    "pycharm": {
     "name": "#%%\n"
    }
   }
  },
  {
   "cell_type": "code",
   "execution_count": 141,
   "outputs": [],
   "source": [
    "# merge the predicted match id and the true person id\n",
    "# so we can compare visually\n",
    "df_compare = df_predict.copy()\n",
    "df_compare[\"tid\"] = df_all[\"tid\"]\n",
    "df_compare = df_compare[\"id,firstname,lastname,phone,tid,match_id,match_confidence_score\".split(\",\")]\n",
    "df_compare.to_csv(\n",
    "    path_compares_csv,\n",
    "    sep=\",\",\n",
    "    index=False,\n",
    ")"
   ],
   "metadata": {
    "collapsed": false,
    "pycharm": {
     "name": "#%%\n"
    }
   }
  },
  {
   "cell_type": "code",
   "execution_count": 143,
   "outputs": [
    {
     "name": "stdout",
     "output_type": "stream",
     "text": [
      "You can visually check the 'tid' and 'match_id' columns\n"
     ]
    },
    {
     "data": {
      "text/plain": "                id firstname   lastname         phone       tid  match_id  \\\n0   PersonId-00001      John     aadden  672-615-3608  TrueId-1         0   \n1   PersonId-00002      Jjcn     aadden  642-615-3608  TrueId-1         0   \n2   PersonId-00003      Joln     aadden  602-615-3608  TrueId-1         0   \n3   PersonId-00004      Jjcn     Mbddvn  672-615-3608  TrueId-1         0   \n4   PersonId-00005      Jjcn     aadden  672-615-3608  TrueId-1         0   \n5   PersonId-00006      Jjcn     aadden  642-615-3608  TrueId-1         0   \n6   PersonId-00007      Jjcn     Madden  602-615-3608  TrueId-1         0   \n7   PersonId-00008      John     Mbddvn  672-615-3608  TrueId-1         0   \n8   PersonId-00009      John     Mbddvn  672-615-3608  TrueId-1         0   \n9   PersonId-00010      Jjcn     Mbddvn  602-615-3608  TrueId-1         0   \n10  PersonId-00011      Joel   Morshall  546-359-8339  TrueId-2        10   \n11  PersonId-00012      Joel   Marshall  546-359-8339  TrueId-2        10   \n12  PersonId-00013      Jyxl   Morshall  546-359-8339  TrueId-2        10   \n13  PersonId-00014      Joel   Morshall  546-359-8339  TrueId-2        10   \n14  PersonId-00015      Jcel   Morshall  546-359-8339  TrueId-2        10   \n15  PersonId-00016      Jyxl   Morshall  546-359-8339  TrueId-2        10   \n16  PersonId-00017  Patriaia     qarvey  831-890-8306  TrueId-3        16   \n17  PersonId-00018  hatricia     Harvey  831-890-8306  TrueId-3        16   \n18  PersonId-00019  hatricia     qarvey  831-890-8306  TrueId-3        16   \n19  PersonId-00020    Aadqey       Roce  548-911-7016  TrueId-4        19   \n20  PersonId-00021   Spdncer     Covtez  614-362-3978  TrueId-5        20   \n21  PersonId-00022   Spences     Covtez  614-362-3978  TrueId-5        20   \n22  PersonId-00023   Spences     Covtez  614-362-3978  TrueId-5        20   \n23  PersonId-00024   Spdncer     Comtez  614-862-3978  TrueId-5        20   \n24  PersonId-00025   Spencer     Covtez  614-362-3978  TrueId-5        20   \n25  PersonId-00026   Spdncer     Cortez  614-862-3978  TrueId-5        20   \n26  PersonId-00027   Spencer     Cortez  614-362-3978  TrueId-5        20   \n27  PersonId-00028   Spdncer     Comtez  614-362-3978  TrueId-5        20   \n28  PersonId-00029   Spences     Covtez  614-362-3978  TrueId-5        20   \n29  PersonId-00030   Spdncer     Comtez  614-362-3978  TrueId-5        20   \n30  PersonId-00031    Auctin      Ortgz  730-963-9164  TrueId-6        30   \n31  PersonId-00032    Auwtin      Ortjz  730-063-9164  TrueId-6        31   \n32  PersonId-00033    Auwtin      Ortiz  730-963-9164  TrueId-6        30   \n33  PersonId-00034    Auwtin      Ortiz  730-963-9164  TrueId-6        30   \n34  PersonId-00035    Auwtin      Ortiz  730-963-9164  TrueId-6        30   \n35  PersonId-00036    Auwtin      Ortiz  730-963-9164  TrueId-6        30   \n36  PersonId-00037      John     Marnij  195-271-3640  TrueId-7        36   \n37  PersonId-00038      Johv     Marnij  195-271-3640  TrueId-7        36   \n38  PersonId-00039      Johv     Marnij  195-271-3640  TrueId-7        36   \n39  PersonId-00040  Jennlfeg  Robertson  361-170-8677  TrueId-8        39   \n40  PersonId-00041     Wayne      Burns  159-307-8724  TrueId-9        40   \n41  PersonId-00042     Wxyne      dcrns  159-307-8724  TrueId-9        40   \n42  PersonId-00043     Wxyne      Burns  159-307-8724  TrueId-9        40   \n43  PersonId-00044     Wayne      Burns  155-307-8724  TrueId-9        40   \n44  PersonId-00045     Wxyne      Burns  159-307-8724  TrueId-9        40   \n45  PersonId-00046     Wayne      dcrns  155-307-8724  TrueId-9        40   \n46  PersonId-00047     Wibne      Burns  159-307-8724  TrueId-9        40   \n47  PersonId-00048     Wayne      dcrns  155-307-8724  TrueId-9        40   \n48  PersonId-00049     Wayne      Bpgns  155-307-8724  TrueId-9        40   \n49  PersonId-00050     Wayne      Burns  155-307-8724  TrueId-9        40   \n\n    match_confidence_score  \n0                      1.0  \n1                      1.0  \n2                      1.0  \n3                      1.0  \n4                      1.0  \n5                      1.0  \n6                      1.0  \n7                      1.0  \n8                      1.0  \n9                      1.0  \n10                     1.0  \n11                     1.0  \n12                     1.0  \n13                     1.0  \n14                     1.0  \n15                     1.0  \n16                     1.0  \n17                     1.0  \n18                     1.0  \n19                     NaN  \n20                     1.0  \n21                     1.0  \n22                     1.0  \n23                     1.0  \n24                     1.0  \n25                     1.0  \n26                     1.0  \n27                     1.0  \n28                     1.0  \n29                     1.0  \n30                     1.0  \n31                     NaN  \n32                     1.0  \n33                     1.0  \n34                     1.0  \n35                     1.0  \n36                     1.0  \n37                     1.0  \n38                     1.0  \n39                     NaN  \n40                     1.0  \n41                     1.0  \n42                     1.0  \n43                     1.0  \n44                     1.0  \n45                     1.0  \n46                     1.0  \n47                     1.0  \n48                     1.0  \n49                     1.0  ",
      "text/html": "<div>\n<style scoped>\n    .dataframe tbody tr th:only-of-type {\n        vertical-align: middle;\n    }\n\n    .dataframe tbody tr th {\n        vertical-align: top;\n    }\n\n    .dataframe thead th {\n        text-align: right;\n    }\n</style>\n<table border=\"1\" class=\"dataframe\">\n  <thead>\n    <tr style=\"text-align: right;\">\n      <th></th>\n      <th>id</th>\n      <th>firstname</th>\n      <th>lastname</th>\n      <th>phone</th>\n      <th>tid</th>\n      <th>match_id</th>\n      <th>match_confidence_score</th>\n    </tr>\n  </thead>\n  <tbody>\n    <tr>\n      <th>0</th>\n      <td>PersonId-00001</td>\n      <td>John</td>\n      <td>aadden</td>\n      <td>672-615-3608</td>\n      <td>TrueId-1</td>\n      <td>0</td>\n      <td>1.0</td>\n    </tr>\n    <tr>\n      <th>1</th>\n      <td>PersonId-00002</td>\n      <td>Jjcn</td>\n      <td>aadden</td>\n      <td>642-615-3608</td>\n      <td>TrueId-1</td>\n      <td>0</td>\n      <td>1.0</td>\n    </tr>\n    <tr>\n      <th>2</th>\n      <td>PersonId-00003</td>\n      <td>Joln</td>\n      <td>aadden</td>\n      <td>602-615-3608</td>\n      <td>TrueId-1</td>\n      <td>0</td>\n      <td>1.0</td>\n    </tr>\n    <tr>\n      <th>3</th>\n      <td>PersonId-00004</td>\n      <td>Jjcn</td>\n      <td>Mbddvn</td>\n      <td>672-615-3608</td>\n      <td>TrueId-1</td>\n      <td>0</td>\n      <td>1.0</td>\n    </tr>\n    <tr>\n      <th>4</th>\n      <td>PersonId-00005</td>\n      <td>Jjcn</td>\n      <td>aadden</td>\n      <td>672-615-3608</td>\n      <td>TrueId-1</td>\n      <td>0</td>\n      <td>1.0</td>\n    </tr>\n    <tr>\n      <th>5</th>\n      <td>PersonId-00006</td>\n      <td>Jjcn</td>\n      <td>aadden</td>\n      <td>642-615-3608</td>\n      <td>TrueId-1</td>\n      <td>0</td>\n      <td>1.0</td>\n    </tr>\n    <tr>\n      <th>6</th>\n      <td>PersonId-00007</td>\n      <td>Jjcn</td>\n      <td>Madden</td>\n      <td>602-615-3608</td>\n      <td>TrueId-1</td>\n      <td>0</td>\n      <td>1.0</td>\n    </tr>\n    <tr>\n      <th>7</th>\n      <td>PersonId-00008</td>\n      <td>John</td>\n      <td>Mbddvn</td>\n      <td>672-615-3608</td>\n      <td>TrueId-1</td>\n      <td>0</td>\n      <td>1.0</td>\n    </tr>\n    <tr>\n      <th>8</th>\n      <td>PersonId-00009</td>\n      <td>John</td>\n      <td>Mbddvn</td>\n      <td>672-615-3608</td>\n      <td>TrueId-1</td>\n      <td>0</td>\n      <td>1.0</td>\n    </tr>\n    <tr>\n      <th>9</th>\n      <td>PersonId-00010</td>\n      <td>Jjcn</td>\n      <td>Mbddvn</td>\n      <td>602-615-3608</td>\n      <td>TrueId-1</td>\n      <td>0</td>\n      <td>1.0</td>\n    </tr>\n    <tr>\n      <th>10</th>\n      <td>PersonId-00011</td>\n      <td>Joel</td>\n      <td>Morshall</td>\n      <td>546-359-8339</td>\n      <td>TrueId-2</td>\n      <td>10</td>\n      <td>1.0</td>\n    </tr>\n    <tr>\n      <th>11</th>\n      <td>PersonId-00012</td>\n      <td>Joel</td>\n      <td>Marshall</td>\n      <td>546-359-8339</td>\n      <td>TrueId-2</td>\n      <td>10</td>\n      <td>1.0</td>\n    </tr>\n    <tr>\n      <th>12</th>\n      <td>PersonId-00013</td>\n      <td>Jyxl</td>\n      <td>Morshall</td>\n      <td>546-359-8339</td>\n      <td>TrueId-2</td>\n      <td>10</td>\n      <td>1.0</td>\n    </tr>\n    <tr>\n      <th>13</th>\n      <td>PersonId-00014</td>\n      <td>Joel</td>\n      <td>Morshall</td>\n      <td>546-359-8339</td>\n      <td>TrueId-2</td>\n      <td>10</td>\n      <td>1.0</td>\n    </tr>\n    <tr>\n      <th>14</th>\n      <td>PersonId-00015</td>\n      <td>Jcel</td>\n      <td>Morshall</td>\n      <td>546-359-8339</td>\n      <td>TrueId-2</td>\n      <td>10</td>\n      <td>1.0</td>\n    </tr>\n    <tr>\n      <th>15</th>\n      <td>PersonId-00016</td>\n      <td>Jyxl</td>\n      <td>Morshall</td>\n      <td>546-359-8339</td>\n      <td>TrueId-2</td>\n      <td>10</td>\n      <td>1.0</td>\n    </tr>\n    <tr>\n      <th>16</th>\n      <td>PersonId-00017</td>\n      <td>Patriaia</td>\n      <td>qarvey</td>\n      <td>831-890-8306</td>\n      <td>TrueId-3</td>\n      <td>16</td>\n      <td>1.0</td>\n    </tr>\n    <tr>\n      <th>17</th>\n      <td>PersonId-00018</td>\n      <td>hatricia</td>\n      <td>Harvey</td>\n      <td>831-890-8306</td>\n      <td>TrueId-3</td>\n      <td>16</td>\n      <td>1.0</td>\n    </tr>\n    <tr>\n      <th>18</th>\n      <td>PersonId-00019</td>\n      <td>hatricia</td>\n      <td>qarvey</td>\n      <td>831-890-8306</td>\n      <td>TrueId-3</td>\n      <td>16</td>\n      <td>1.0</td>\n    </tr>\n    <tr>\n      <th>19</th>\n      <td>PersonId-00020</td>\n      <td>Aadqey</td>\n      <td>Roce</td>\n      <td>548-911-7016</td>\n      <td>TrueId-4</td>\n      <td>19</td>\n      <td>NaN</td>\n    </tr>\n    <tr>\n      <th>20</th>\n      <td>PersonId-00021</td>\n      <td>Spdncer</td>\n      <td>Covtez</td>\n      <td>614-362-3978</td>\n      <td>TrueId-5</td>\n      <td>20</td>\n      <td>1.0</td>\n    </tr>\n    <tr>\n      <th>21</th>\n      <td>PersonId-00022</td>\n      <td>Spences</td>\n      <td>Covtez</td>\n      <td>614-362-3978</td>\n      <td>TrueId-5</td>\n      <td>20</td>\n      <td>1.0</td>\n    </tr>\n    <tr>\n      <th>22</th>\n      <td>PersonId-00023</td>\n      <td>Spences</td>\n      <td>Covtez</td>\n      <td>614-362-3978</td>\n      <td>TrueId-5</td>\n      <td>20</td>\n      <td>1.0</td>\n    </tr>\n    <tr>\n      <th>23</th>\n      <td>PersonId-00024</td>\n      <td>Spdncer</td>\n      <td>Comtez</td>\n      <td>614-862-3978</td>\n      <td>TrueId-5</td>\n      <td>20</td>\n      <td>1.0</td>\n    </tr>\n    <tr>\n      <th>24</th>\n      <td>PersonId-00025</td>\n      <td>Spencer</td>\n      <td>Covtez</td>\n      <td>614-362-3978</td>\n      <td>TrueId-5</td>\n      <td>20</td>\n      <td>1.0</td>\n    </tr>\n    <tr>\n      <th>25</th>\n      <td>PersonId-00026</td>\n      <td>Spdncer</td>\n      <td>Cortez</td>\n      <td>614-862-3978</td>\n      <td>TrueId-5</td>\n      <td>20</td>\n      <td>1.0</td>\n    </tr>\n    <tr>\n      <th>26</th>\n      <td>PersonId-00027</td>\n      <td>Spencer</td>\n      <td>Cortez</td>\n      <td>614-362-3978</td>\n      <td>TrueId-5</td>\n      <td>20</td>\n      <td>1.0</td>\n    </tr>\n    <tr>\n      <th>27</th>\n      <td>PersonId-00028</td>\n      <td>Spdncer</td>\n      <td>Comtez</td>\n      <td>614-362-3978</td>\n      <td>TrueId-5</td>\n      <td>20</td>\n      <td>1.0</td>\n    </tr>\n    <tr>\n      <th>28</th>\n      <td>PersonId-00029</td>\n      <td>Spences</td>\n      <td>Covtez</td>\n      <td>614-362-3978</td>\n      <td>TrueId-5</td>\n      <td>20</td>\n      <td>1.0</td>\n    </tr>\n    <tr>\n      <th>29</th>\n      <td>PersonId-00030</td>\n      <td>Spdncer</td>\n      <td>Comtez</td>\n      <td>614-362-3978</td>\n      <td>TrueId-5</td>\n      <td>20</td>\n      <td>1.0</td>\n    </tr>\n    <tr>\n      <th>30</th>\n      <td>PersonId-00031</td>\n      <td>Auctin</td>\n      <td>Ortgz</td>\n      <td>730-963-9164</td>\n      <td>TrueId-6</td>\n      <td>30</td>\n      <td>1.0</td>\n    </tr>\n    <tr>\n      <th>31</th>\n      <td>PersonId-00032</td>\n      <td>Auwtin</td>\n      <td>Ortjz</td>\n      <td>730-063-9164</td>\n      <td>TrueId-6</td>\n      <td>31</td>\n      <td>NaN</td>\n    </tr>\n    <tr>\n      <th>32</th>\n      <td>PersonId-00033</td>\n      <td>Auwtin</td>\n      <td>Ortiz</td>\n      <td>730-963-9164</td>\n      <td>TrueId-6</td>\n      <td>30</td>\n      <td>1.0</td>\n    </tr>\n    <tr>\n      <th>33</th>\n      <td>PersonId-00034</td>\n      <td>Auwtin</td>\n      <td>Ortiz</td>\n      <td>730-963-9164</td>\n      <td>TrueId-6</td>\n      <td>30</td>\n      <td>1.0</td>\n    </tr>\n    <tr>\n      <th>34</th>\n      <td>PersonId-00035</td>\n      <td>Auwtin</td>\n      <td>Ortiz</td>\n      <td>730-963-9164</td>\n      <td>TrueId-6</td>\n      <td>30</td>\n      <td>1.0</td>\n    </tr>\n    <tr>\n      <th>35</th>\n      <td>PersonId-00036</td>\n      <td>Auwtin</td>\n      <td>Ortiz</td>\n      <td>730-963-9164</td>\n      <td>TrueId-6</td>\n      <td>30</td>\n      <td>1.0</td>\n    </tr>\n    <tr>\n      <th>36</th>\n      <td>PersonId-00037</td>\n      <td>John</td>\n      <td>Marnij</td>\n      <td>195-271-3640</td>\n      <td>TrueId-7</td>\n      <td>36</td>\n      <td>1.0</td>\n    </tr>\n    <tr>\n      <th>37</th>\n      <td>PersonId-00038</td>\n      <td>Johv</td>\n      <td>Marnij</td>\n      <td>195-271-3640</td>\n      <td>TrueId-7</td>\n      <td>36</td>\n      <td>1.0</td>\n    </tr>\n    <tr>\n      <th>38</th>\n      <td>PersonId-00039</td>\n      <td>Johv</td>\n      <td>Marnij</td>\n      <td>195-271-3640</td>\n      <td>TrueId-7</td>\n      <td>36</td>\n      <td>1.0</td>\n    </tr>\n    <tr>\n      <th>39</th>\n      <td>PersonId-00040</td>\n      <td>Jennlfeg</td>\n      <td>Robertson</td>\n      <td>361-170-8677</td>\n      <td>TrueId-8</td>\n      <td>39</td>\n      <td>NaN</td>\n    </tr>\n    <tr>\n      <th>40</th>\n      <td>PersonId-00041</td>\n      <td>Wayne</td>\n      <td>Burns</td>\n      <td>159-307-8724</td>\n      <td>TrueId-9</td>\n      <td>40</td>\n      <td>1.0</td>\n    </tr>\n    <tr>\n      <th>41</th>\n      <td>PersonId-00042</td>\n      <td>Wxyne</td>\n      <td>dcrns</td>\n      <td>159-307-8724</td>\n      <td>TrueId-9</td>\n      <td>40</td>\n      <td>1.0</td>\n    </tr>\n    <tr>\n      <th>42</th>\n      <td>PersonId-00043</td>\n      <td>Wxyne</td>\n      <td>Burns</td>\n      <td>159-307-8724</td>\n      <td>TrueId-9</td>\n      <td>40</td>\n      <td>1.0</td>\n    </tr>\n    <tr>\n      <th>43</th>\n      <td>PersonId-00044</td>\n      <td>Wayne</td>\n      <td>Burns</td>\n      <td>155-307-8724</td>\n      <td>TrueId-9</td>\n      <td>40</td>\n      <td>1.0</td>\n    </tr>\n    <tr>\n      <th>44</th>\n      <td>PersonId-00045</td>\n      <td>Wxyne</td>\n      <td>Burns</td>\n      <td>159-307-8724</td>\n      <td>TrueId-9</td>\n      <td>40</td>\n      <td>1.0</td>\n    </tr>\n    <tr>\n      <th>45</th>\n      <td>PersonId-00046</td>\n      <td>Wayne</td>\n      <td>dcrns</td>\n      <td>155-307-8724</td>\n      <td>TrueId-9</td>\n      <td>40</td>\n      <td>1.0</td>\n    </tr>\n    <tr>\n      <th>46</th>\n      <td>PersonId-00047</td>\n      <td>Wibne</td>\n      <td>Burns</td>\n      <td>159-307-8724</td>\n      <td>TrueId-9</td>\n      <td>40</td>\n      <td>1.0</td>\n    </tr>\n    <tr>\n      <th>47</th>\n      <td>PersonId-00048</td>\n      <td>Wayne</td>\n      <td>dcrns</td>\n      <td>155-307-8724</td>\n      <td>TrueId-9</td>\n      <td>40</td>\n      <td>1.0</td>\n    </tr>\n    <tr>\n      <th>48</th>\n      <td>PersonId-00049</td>\n      <td>Wayne</td>\n      <td>Bpgns</td>\n      <td>155-307-8724</td>\n      <td>TrueId-9</td>\n      <td>40</td>\n      <td>1.0</td>\n    </tr>\n    <tr>\n      <th>49</th>\n      <td>PersonId-00050</td>\n      <td>Wayne</td>\n      <td>Burns</td>\n      <td>155-307-8724</td>\n      <td>TrueId-9</td>\n      <td>40</td>\n      <td>1.0</td>\n    </tr>\n  </tbody>\n</table>\n</div>"
     },
     "execution_count": 143,
     "metadata": {},
     "output_type": "execute_result"
    }
   ],
   "source": [
    "print(\"You can visually check the 'tid' and 'match_id' columns\")\n",
    "df_compare.head(50)"
   ],
   "metadata": {
    "collapsed": false,
    "pycharm": {
     "name": "#%%\n"
    }
   }
  },
  {
   "cell_type": "code",
   "execution_count": 142,
   "outputs": [],
   "source": [],
   "metadata": {
    "collapsed": false,
    "pycharm": {
     "name": "#%%\n"
    }
   }
  }
 ],
 "metadata": {
  "kernelspec": {
   "display_name": "Python 3",
   "language": "python",
   "name": "python3"
  },
  "language_info": {
   "codemirror_mode": {
    "name": "ipython",
    "version": 2
   },
   "file_extension": ".py",
   "mimetype": "text/x-python",
   "name": "python",
   "nbconvert_exporter": "python",
   "pygments_lexer": "ipython2",
   "version": "2.7.6"
  }
 },
 "nbformat": 4,
 "nbformat_minor": 0
}
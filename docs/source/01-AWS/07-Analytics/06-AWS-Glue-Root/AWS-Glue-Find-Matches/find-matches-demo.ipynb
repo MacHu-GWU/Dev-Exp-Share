{
 "cells": [
  {
   "cell_type": "code",
   "execution_count": null,
   "metadata": {
    "collapsed": true,
    "pycharm": {
     "name": "#%%md\n"
    }
   },
   "outputs": [],
   "source": [
    "# Find Matches Demo"
   ]
  },
  {
   "cell_type": "code",
   "execution_count": 3,
   "outputs": [
    {
     "name": "stdout",
     "output_type": "stream",
     "text": [
      "Requirement already satisfied: attrs==21.4.0 in /Users/sanhehu/venvs/python/3.8.11/dev_exp_share_venv/lib/python3.8/site-packages (from -r requirements.txt (line 1)) (21.4.0)\r\n",
      "Requirement already satisfied: attrs_mate==1.0.2 in /Users/sanhehu/venvs/python/3.8.11/dev_exp_share_venv/lib/python3.8/site-packages (from -r requirements.txt (line 2)) (1.0.2)\r\n",
      "Requirement already satisfied: pathlib_mate==1.0.3 in /Users/sanhehu/venvs/python/3.8.11/dev_exp_share_venv/lib/python3.8/site-packages (from -r requirements.txt (line 3)) (1.0.3)\r\n",
      "Requirement already satisfied: boto3==1.22.9 in /Users/sanhehu/venvs/python/3.8.11/dev_exp_share_venv/lib/python3.8/site-packages (from -r requirements.txt (line 4)) (1.22.9)\r\n",
      "Requirement already satisfied: botocore==1.25.9 in /Users/sanhehu/venvs/python/3.8.11/dev_exp_share_venv/lib/python3.8/site-packages (from -r requirements.txt (line 5)) (1.25.9)\r\n",
      "Requirement already satisfied: boto-session-manager==0.0.4 in /Users/sanhehu/venvs/python/3.8.11/dev_exp_share_venv/lib/python3.8/site-packages (from -r requirements.txt (line 6)) (0.0.4)\r\n",
      "Requirement already satisfied: s3pathlib==1.0.10 in /Users/sanhehu/venvs/python/3.8.11/dev_exp_share_venv/lib/python3.8/site-packages (from -r requirements.txt (line 7)) (1.0.10)\r\n",
      "Requirement already satisfied: Faker==11.3.0 in /Users/sanhehu/venvs/python/3.8.11/dev_exp_share_venv/lib/python3.8/site-packages (from -r requirements.txt (line 8)) (11.3.0)\r\n",
      "Requirement already satisfied: numpy==1.21.2 in /Users/sanhehu/venvs/python/3.8.11/dev_exp_share_venv/lib/python3.8/site-packages (from -r requirements.txt (line 9)) (1.21.2)\r\n",
      "Requirement already satisfied: pandas==1.3.3 in /Users/sanhehu/venvs/python/3.8.11/dev_exp_share_venv/lib/python3.8/site-packages (from -r requirements.txt (line 10)) (1.3.3)\r\n",
      "Requirement already satisfied: awswrangler==2.12.1 in /Users/sanhehu/venvs/python/3.8.11/dev_exp_share_venv/lib/python3.8/site-packages (from -r requirements.txt (line 11)) (2.12.1)\r\n",
      "Requirement already satisfied: rich==12.3.0 in /Users/sanhehu/venvs/python/3.8.11/dev_exp_share_venv/lib/python3.8/site-packages (from -r requirements.txt (line 12)) (12.3.0)\r\n",
      "Requirement already satisfied: autopep8 in /Users/sanhehu/venvs/python/3.8.11/dev_exp_share_venv/lib/python3.8/site-packages (from pathlib_mate==1.0.3->-r requirements.txt (line 3)) (1.6.0)\r\n",
      "Requirement already satisfied: six in /Users/sanhehu/venvs/python/3.8.11/dev_exp_share_venv/lib/python3.8/site-packages (from pathlib_mate==1.0.3->-r requirements.txt (line 3)) (1.16.0)\r\n",
      "Requirement already satisfied: atomicwrites in /Users/sanhehu/venvs/python/3.8.11/dev_exp_share_venv/lib/python3.8/site-packages (from pathlib_mate==1.0.3->-r requirements.txt (line 3)) (1.4.0)\r\n",
      "Requirement already satisfied: s3transfer<0.6.0,>=0.5.0 in /Users/sanhehu/venvs/python/3.8.11/dev_exp_share_venv/lib/python3.8/site-packages (from boto3==1.22.9->-r requirements.txt (line 4)) (0.5.0)\r\n",
      "Requirement already satisfied: jmespath<2.0.0,>=0.7.1 in /Users/sanhehu/venvs/python/3.8.11/dev_exp_share_venv/lib/python3.8/site-packages (from boto3==1.22.9->-r requirements.txt (line 4)) (0.10.0)\r\n",
      "Requirement already satisfied: urllib3<1.27,>=1.25.4 in /Users/sanhehu/venvs/python/3.8.11/dev_exp_share_venv/lib/python3.8/site-packages (from botocore==1.25.9->-r requirements.txt (line 5)) (1.26.7)\r\n",
      "Requirement already satisfied: python-dateutil<3.0.0,>=2.1 in /Users/sanhehu/venvs/python/3.8.11/dev_exp_share_venv/lib/python3.8/site-packages (from botocore==1.25.9->-r requirements.txt (line 5)) (2.8.2)\r\n",
      "Requirement already satisfied: text-unidecode==1.3 in /Users/sanhehu/venvs/python/3.8.11/dev_exp_share_venv/lib/python3.8/site-packages (from Faker==11.3.0->-r requirements.txt (line 8)) (1.3)\r\n",
      "Requirement already satisfied: pytz>=2017.3 in /Users/sanhehu/venvs/python/3.8.11/dev_exp_share_venv/lib/python3.8/site-packages (from pandas==1.3.3->-r requirements.txt (line 10)) (2021.3)\r\n",
      "Requirement already satisfied: pg8000<1.22.0,>=1.16.0 in /Users/sanhehu/venvs/python/3.8.11/dev_exp_share_venv/lib/python3.8/site-packages (from awswrangler==2.12.1->-r requirements.txt (line 11)) (1.21.3)\r\n",
      "Requirement already satisfied: pymysql<1.1.0,>=0.9.0 in /Users/sanhehu/venvs/python/3.8.11/dev_exp_share_venv/lib/python3.8/site-packages (from awswrangler==2.12.1->-r requirements.txt (line 11)) (1.0.2)\r\n",
      "Requirement already satisfied: openpyxl<3.1.0,>=3.0.0 in /Users/sanhehu/venvs/python/3.8.11/dev_exp_share_venv/lib/python3.8/site-packages (from awswrangler==2.12.1->-r requirements.txt (line 11)) (3.0.9)\r\n",
      "Requirement already satisfied: progressbar2<4.0.0,>=3.53.3 in /Users/sanhehu/venvs/python/3.8.11/dev_exp_share_venv/lib/python3.8/site-packages (from awswrangler==2.12.1->-r requirements.txt (line 11)) (3.55.0)\r\n",
      "Requirement already satisfied: pyarrow<5.1.0,>=2.0.0 in /Users/sanhehu/venvs/python/3.8.11/dev_exp_share_venv/lib/python3.8/site-packages (from awswrangler==2.12.1->-r requirements.txt (line 11)) (5.0.0)\r\n",
      "Requirement already satisfied: redshift-connector<2.1.0,>=2.0.887 in /Users/sanhehu/venvs/python/3.8.11/dev_exp_share_venv/lib/python3.8/site-packages (from awswrangler==2.12.1->-r requirements.txt (line 11)) (2.0.889)\r\n",
      "Requirement already satisfied: requests-aws4auth<2.0.0,>=1.1.1 in /Users/sanhehu/venvs/python/3.8.11/dev_exp_share_venv/lib/python3.8/site-packages (from awswrangler==2.12.1->-r requirements.txt (line 11)) (1.1.1)\r\n",
      "Requirement already satisfied: opensearch-py<2.0.0,>=1.0.0 in /Users/sanhehu/venvs/python/3.8.11/dev_exp_share_venv/lib/python3.8/site-packages (from awswrangler==2.12.1->-r requirements.txt (line 11)) (1.0.0)\r\n",
      "Requirement already satisfied: jsonpath-ng<2.0.0,>=1.5.3 in /Users/sanhehu/venvs/python/3.8.11/dev_exp_share_venv/lib/python3.8/site-packages (from awswrangler==2.12.1->-r requirements.txt (line 11)) (1.5.3)\r\n",
      "Requirement already satisfied: typing-extensions<5.0,>=4.0.0 in /Users/sanhehu/venvs/python/3.8.11/dev_exp_share_venv/lib/python3.8/site-packages (from rich==12.3.0->-r requirements.txt (line 12)) (4.2.0)\r\n",
      "Requirement already satisfied: commonmark<0.10.0,>=0.9.0 in /Users/sanhehu/venvs/python/3.8.11/dev_exp_share_venv/lib/python3.8/site-packages (from rich==12.3.0->-r requirements.txt (line 12)) (0.9.1)\r\n",
      "Requirement already satisfied: pygments<3.0.0,>=2.6.0 in /Users/sanhehu/venvs/python/3.8.11/dev_exp_share_venv/lib/python3.8/site-packages (from rich==12.3.0->-r requirements.txt (line 12)) (2.10.0)\r\n",
      "Requirement already satisfied: ply in /Users/sanhehu/venvs/python/3.8.11/dev_exp_share_venv/lib/python3.8/site-packages (from jsonpath-ng<2.0.0,>=1.5.3->awswrangler==2.12.1->-r requirements.txt (line 11)) (3.11)\r\n",
      "Requirement already satisfied: decorator in /Users/sanhehu/venvs/python/3.8.11/dev_exp_share_venv/lib/python3.8/site-packages (from jsonpath-ng<2.0.0,>=1.5.3->awswrangler==2.12.1->-r requirements.txt (line 11)) (5.1.0)\r\n",
      "Requirement already satisfied: et-xmlfile in /Users/sanhehu/venvs/python/3.8.11/dev_exp_share_venv/lib/python3.8/site-packages (from openpyxl<3.1.0,>=3.0.0->awswrangler==2.12.1->-r requirements.txt (line 11)) (1.1.0)\r\n",
      "Requirement already satisfied: certifi in /Users/sanhehu/venvs/python/3.8.11/dev_exp_share_venv/lib/python3.8/site-packages (from opensearch-py<2.0.0,>=1.0.0->awswrangler==2.12.1->-r requirements.txt (line 11)) (2021.10.8)\r\n",
      "Requirement already satisfied: scramp>=1.4.1 in /Users/sanhehu/venvs/python/3.8.11/dev_exp_share_venv/lib/python3.8/site-packages (from pg8000<1.22.0,>=1.16.0->awswrangler==2.12.1->-r requirements.txt (line 11)) (1.4.1)\r\n",
      "Requirement already satisfied: python-utils>=2.3.0 in /Users/sanhehu/venvs/python/3.8.11/dev_exp_share_venv/lib/python3.8/site-packages (from progressbar2<4.0.0,>=3.53.3->awswrangler==2.12.1->-r requirements.txt (line 11)) (2.5.6)\r\n",
      "Requirement already satisfied: beautifulsoup4<5.0.0,>=4.7.0 in /Users/sanhehu/venvs/python/3.8.11/dev_exp_share_venv/lib/python3.8/site-packages (from redshift-connector<2.1.0,>=2.0.887->awswrangler==2.12.1->-r requirements.txt (line 11)) (4.10.0)\r\n",
      "Requirement already satisfied: requests<2.26.1,>=2.23.0 in /Users/sanhehu/venvs/python/3.8.11/dev_exp_share_venv/lib/python3.8/site-packages (from redshift-connector<2.1.0,>=2.0.887->awswrangler==2.12.1->-r requirements.txt (line 11)) (2.25.1)\r\n",
      "Requirement already satisfied: packaging in /Users/sanhehu/venvs/python/3.8.11/dev_exp_share_venv/lib/python3.8/site-packages (from redshift-connector<2.1.0,>=2.0.887->awswrangler==2.12.1->-r requirements.txt (line 11)) (21.0)\r\n",
      "Requirement already satisfied: lxml>=4.6.2 in /Users/sanhehu/venvs/python/3.8.11/dev_exp_share_venv/lib/python3.8/site-packages (from redshift-connector<2.1.0,>=2.0.887->awswrangler==2.12.1->-r requirements.txt (line 11)) (4.6.3)\r\n",
      "Requirement already satisfied: soupsieve>1.2 in /Users/sanhehu/venvs/python/3.8.11/dev_exp_share_venv/lib/python3.8/site-packages (from beautifulsoup4<5.0.0,>=4.7.0->redshift-connector<2.1.0,>=2.0.887->awswrangler==2.12.1->-r requirements.txt (line 11)) (2.2.1)\r\n",
      "Requirement already satisfied: chardet<5,>=3.0.2 in /Users/sanhehu/venvs/python/3.8.11/dev_exp_share_venv/lib/python3.8/site-packages (from requests<2.26.1,>=2.23.0->redshift-connector<2.1.0,>=2.0.887->awswrangler==2.12.1->-r requirements.txt (line 11)) (4.0.0)\r\n",
      "Requirement already satisfied: idna<3,>=2.5 in /Users/sanhehu/venvs/python/3.8.11/dev_exp_share_venv/lib/python3.8/site-packages (from requests<2.26.1,>=2.23.0->redshift-connector<2.1.0,>=2.0.887->awswrangler==2.12.1->-r requirements.txt (line 11)) (2.10)\r\n",
      "Requirement already satisfied: asn1crypto>=1.4.0 in /Users/sanhehu/venvs/python/3.8.11/dev_exp_share_venv/lib/python3.8/site-packages (from scramp>=1.4.1->pg8000<1.22.0,>=1.16.0->awswrangler==2.12.1->-r requirements.txt (line 11)) (1.4.0)\r\n",
      "Requirement already satisfied: toml in /Users/sanhehu/venvs/python/3.8.11/dev_exp_share_venv/lib/python3.8/site-packages (from autopep8->pathlib_mate==1.0.3->-r requirements.txt (line 3)) (0.10.2)\r\n",
      "Requirement already satisfied: pycodestyle>=2.8.0 in /Users/sanhehu/venvs/python/3.8.11/dev_exp_share_venv/lib/python3.8/site-packages (from autopep8->pathlib_mate==1.0.3->-r requirements.txt (line 3)) (2.8.0)\r\n",
      "Requirement already satisfied: pyparsing>=2.0.2 in /Users/sanhehu/venvs/python/3.8.11/dev_exp_share_venv/lib/python3.8/site-packages (from packaging->redshift-connector<2.1.0,>=2.0.887->awswrangler==2.12.1->-r requirements.txt (line 11)) (3.0.1)\r\n",
      "\u001B[33mWARNING: You are using pip version 21.2.4; however, version 22.1 is available.\r\n",
      "You should consider upgrading via the '/Users/sanhehu/venvs/python/3.8.11/dev_exp_share_venv/bin/python -m pip install --upgrade pip' command.\u001B[0m\r\n",
      "Note: you may need to restart the kernel to use updated packages.\n"
     ]
    }
   ],
   "source": [
    "% pip install -r requirements.txt"
   ],
   "metadata": {
    "collapsed": false,
    "pycharm": {
     "name": "#%%\n"
    }
   }
  },
  {
   "cell_type": "code",
   "execution_count": 5,
   "outputs": [],
   "source": [
    "# Standard Library\n",
    "import csv\n",
    "import string\n",
    "import random\n",
    "from typing import List, Dict\n",
    "\n",
    "# Third Party Library\n",
    "import attr\n",
    "from attrs_mate import AttrsClass\n",
    "from pathlib_mate import Path\n",
    "\n",
    "from boto_session_manager import BotoSesManager\n",
    "from s3pathlib import S3Path, context\n",
    "\n",
    "import pandas as pd\n",
    "import awswrangler as wr\n",
    "\n",
    "from faker import Faker\n",
    "from rich import print as rprint"
   ],
   "metadata": {
    "collapsed": false,
    "pycharm": {
     "name": "#%%\n"
    }
   }
  },
  {
   "cell_type": "markdown",
   "source": [
    "## Define Some Utility Functions\n",
    "\n",
    "First, we need to define some utility functions to keep our code clean."
   ],
   "metadata": {
    "collapsed": false,
    "pycharm": {
     "name": "#%% md\n"
    }
   }
  },
  {
   "cell_type": "code",
   "execution_count": 12,
   "outputs": [],
   "source": [
    "def add_noise_to_text(text: str, n_noise: int) -> str:\n",
    "    \"\"\"\n",
    "    Randomly add noise character to string.\n",
    "\n",
    "    Example::\n",
    "\n",
    "        >>> add_noise_to_text(\"1234567890\", n_noise=3)\n",
    "        123d56e890\n",
    "    \"\"\"\n",
    "    length = len(text)\n",
    "    if n_noise > length:\n",
    "        raise ValueError\n",
    "    chars = list(text)\n",
    "    for _ in range(n_noise):\n",
    "        chars[random.randint(1, length) - 1] = random.choice(string.ascii_lowercase)\n",
    "    return \"\".join(chars)\n",
    "\n",
    "\n",
    "def rand_phone_number() -> str:\n",
    "    \"\"\"\n",
    "    Generate random phone number.\n",
    "\n",
    "    Example::\n",
    "\n",
    "        123-456-7890\n",
    "    \"\"\"\n",
    "    numbers = [str(random.randint(0, 9)) for _ in range(10)]\n",
    "    return \"\".join(\n",
    "        numbers[:3]\n",
    "        + [\n",
    "            \"-\",\n",
    "        ]\n",
    "        + numbers[3:6]\n",
    "        + [\n",
    "            \"-\",\n",
    "        ]\n",
    "        + numbers[6:]\n",
    "    )\n",
    "\n",
    "\n",
    "def add_noise_to_phone(phone: str, n_noise: int) -> str:\n",
    "    \"\"\"\n",
    "    Example::\n",
    "\n",
    "        >>> add_noise_to_phone(\"111-222-3333\", n_noise=1)\n",
    "        111-222-3353\n",
    "    \"\"\"\n",
    "    chars = list(phone)\n",
    "    positions = [0, 1, 2, 4, 5, 6, 8, 9, 10]\n",
    "    for ind in random.sample(positions, n_noise):\n",
    "        chars[ind] = random.choice(string.digits)\n",
    "    return \"\".join(chars)\n",
    "\n",
    "\n",
    "fake = Faker(locale=\"en-US\")\n",
    "\n",
    "\n",
    "@attr.define\n",
    "class Person(AttrsClass):\n",
    "    \"\"\"\n",
    "    A variation of a true person.\n",
    "    \"\"\"\n",
    "    firstname: str = attr.ib()\n",
    "    lastname: str = attr.ib()\n",
    "    phone: str = attr.ib()\n",
    "\n",
    "\n",
    "@attr.define\n",
    "class TruePerson(AttrsClass):\n",
    "    \"\"\"\n",
    "    represent a concrete human person. he/she could have multiple\n",
    "    name, phone.\n",
    "    \"\"\"\n",
    "    id: int = attr.ib()\n",
    "    firstname_list: str = attr.ib()\n",
    "    lastname_list: str = attr.ib()\n",
    "    phone_list: str = attr.ib()\n",
    "\n",
    "    @classmethod\n",
    "    def random(cls, id: int) -> 'TruePerson':\n",
    "        firstname = fake.first_name()\n",
    "        lastname = fake.last_name()\n",
    "        phone = rand_phone_number()\n",
    "\n",
    "        firstname_list = [\n",
    "            firstname,\n",
    "        ]\n",
    "        lastname_list = [\n",
    "            lastname,\n",
    "        ]\n",
    "        phone_list = [\n",
    "            phone,\n",
    "        ]\n",
    "        for _ in range(2):\n",
    "            firstname_list.append(add_noise_to_text(firstname, random.randint(1, 2)))\n",
    "            lastname_list.append(add_noise_to_text(lastname, random.randint(1, 2)))\n",
    "            phone_list.append(add_noise_to_phone(phone, random.randint(0, 1)))\n",
    "\n",
    "        return cls(\n",
    "            id=id,\n",
    "            firstname_list=firstname_list,\n",
    "            lastname_list=lastname_list,\n",
    "            phone_list=phone_list,\n",
    "        )\n",
    "\n",
    "    def to_person(self) -> 'Person':\n",
    "        return Person(\n",
    "            firstname=random.choice(self.firstname_list),\n",
    "            lastname=random.choice(self.lastname_list),\n",
    "            phone=random.choice(self.phone_list),\n",
    "        )"
   ],
   "metadata": {
    "collapsed": false,
    "pycharm": {
     "name": "#%%\n"
    }
   }
  },
  {
   "cell_type": "code",
   "execution_count": 125,
   "outputs": [
    {
     "name": "stdout",
     "output_type": "stream",
     "text": [
      "------ Sample TruePerson ------\n"
     ]
    },
    {
     "data": {
      "text/plain": "\u001B[1m{\u001B[0m\n    \u001B[32m'id'\u001B[0m: \u001B[1;36m1\u001B[0m,\n    \u001B[32m'firstname_list'\u001B[0m: \u001B[1m[\u001B[0m\u001B[32m'Christine'\u001B[0m, \u001B[32m'fhristinp'\u001B[0m, \u001B[32m'Christone'\u001B[0m\u001B[1m]\u001B[0m,\n    \u001B[32m'lastname_list'\u001B[0m: \u001B[1m[\u001B[0m\u001B[32m'Molina'\u001B[0m, \u001B[32m'Mopina'\u001B[0m, \u001B[32m'Mxliya'\u001B[0m\u001B[1m]\u001B[0m,\n    \u001B[32m'phone_list'\u001B[0m: \u001B[1m[\u001B[0m\u001B[32m'578-774-5954'\u001B[0m, \u001B[32m'578-774-5954'\u001B[0m, \u001B[32m'578-774-5954'\u001B[0m\u001B[1m]\u001B[0m\n\u001B[1m}\u001B[0m\n",
      "text/html": "<pre style=\"white-space:pre;overflow-x:auto;line-height:normal;font-family:Menlo,'DejaVu Sans Mono',consolas,'Courier New',monospace\"><span style=\"font-weight: bold\">{</span>\n    <span style=\"color: #008000; text-decoration-color: #008000\">'id'</span>: <span style=\"color: #008080; text-decoration-color: #008080; font-weight: bold\">1</span>,\n    <span style=\"color: #008000; text-decoration-color: #008000\">'firstname_list'</span>: <span style=\"font-weight: bold\">[</span><span style=\"color: #008000; text-decoration-color: #008000\">'Christine'</span>, <span style=\"color: #008000; text-decoration-color: #008000\">'fhristinp'</span>, <span style=\"color: #008000; text-decoration-color: #008000\">'Christone'</span><span style=\"font-weight: bold\">]</span>,\n    <span style=\"color: #008000; text-decoration-color: #008000\">'lastname_list'</span>: <span style=\"font-weight: bold\">[</span><span style=\"color: #008000; text-decoration-color: #008000\">'Molina'</span>, <span style=\"color: #008000; text-decoration-color: #008000\">'Mopina'</span>, <span style=\"color: #008000; text-decoration-color: #008000\">'Mxliya'</span><span style=\"font-weight: bold\">]</span>,\n    <span style=\"color: #008000; text-decoration-color: #008000\">'phone_list'</span>: <span style=\"font-weight: bold\">[</span><span style=\"color: #008000; text-decoration-color: #008000\">'578-774-5954'</span>, <span style=\"color: #008000; text-decoration-color: #008000\">'578-774-5954'</span>, <span style=\"color: #008000; text-decoration-color: #008000\">'578-774-5954'</span><span style=\"font-weight: bold\">]</span>\n<span style=\"font-weight: bold\">}</span>\n</pre>\n"
     },
     "metadata": {},
     "output_type": "display_data"
    }
   ],
   "source": [
    "print(\"------ Sample TruePerson ------\")\n",
    "t_person = TruePerson.random(id=1)\n",
    "rprint(t_person.to_dict())"
   ],
   "metadata": {
    "collapsed": false,
    "pycharm": {
     "name": "#%%\n"
    }
   }
  },
  {
   "cell_type": "code",
   "execution_count": 126,
   "outputs": [
    {
     "name": "stdout",
     "output_type": "stream",
     "text": [
      "------ Sample Person ------\n"
     ]
    },
    {
     "data": {
      "text/plain": "\u001B[1m{\u001B[0m\u001B[32m'firstname'\u001B[0m: \u001B[32m'Christine'\u001B[0m, \u001B[32m'lastname'\u001B[0m: \u001B[32m'Mopina'\u001B[0m, \u001B[32m'phone'\u001B[0m: \u001B[32m'578-774-5954'\u001B[0m\u001B[1m}\u001B[0m\n",
      "text/html": "<pre style=\"white-space:pre;overflow-x:auto;line-height:normal;font-family:Menlo,'DejaVu Sans Mono',consolas,'Courier New',monospace\"><span style=\"font-weight: bold\">{</span><span style=\"color: #008000; text-decoration-color: #008000\">'firstname'</span>: <span style=\"color: #008000; text-decoration-color: #008000\">'Christine'</span>, <span style=\"color: #008000; text-decoration-color: #008000\">'lastname'</span>: <span style=\"color: #008000; text-decoration-color: #008000\">'Mopina'</span>, <span style=\"color: #008000; text-decoration-color: #008000\">'phone'</span>: <span style=\"color: #008000; text-decoration-color: #008000\">'578-774-5954'</span><span style=\"font-weight: bold\">}</span>\n</pre>\n"
     },
     "metadata": {},
     "output_type": "display_data"
    }
   ],
   "source": [
    "print(\"------ Sample Person ------\")\n",
    "person = t_person.to_person()\n",
    "rprint(person.to_dict())"
   ],
   "metadata": {
    "collapsed": false,
    "pycharm": {
     "name": "#%%\n"
    }
   }
  },
  {
   "cell_type": "markdown",
   "source": [
    "## Define Your Test Environment Configuration\n",
    "\n",
    "We need to define the AWS Credential, the AWS S3 bucket we use to store the data and the Glue Catalog database / table name."
   ],
   "metadata": {
    "collapsed": false,
    "pycharm": {
     "name": "#%% md\n"
    }
   }
  },
  {
   "cell_type": "code",
   "execution_count": 118,
   "outputs": [],
   "source": [
    "# Define AWS boto3 credentials for session\n",
    "bsm = BotoSesManager(profile_name=\"aws_data_lab_sanhe_us_east_2\")\n",
    "context.attach_boto_session(boto_ses=bsm.boto_ses)\n",
    "\n",
    "# Where you want to store your test data locally\n",
    "dir_here = Path.cwd()\n",
    "path_all_csv = Path(dir_here, \"all.csv\")\n",
    "path_records_csv = Path(dir_here, \"records.csv\")\n",
    "path_labels_csv = Path(dir_here, \"labels.csv\")\n",
    "path_tests_csv = Path(dir_here, \"tests.csv\")\n",
    "path_predicts_csv = Path(dir_here, \"predicts.csv\")\n",
    "path_compares_csv = Path(dir_here, \"compares.csv\")\n",
    "\n",
    "# Where you want to store your test data on S3\n",
    "s3path_prefix = S3Path.from_s3_uri(\n",
    "    \"s3://aws-data-lab-sanhe-for-everything-us-east-2/poc/2022-05-18-glue-find-matches/find-matches/\"\n",
    ")\n",
    "\n",
    "s3path_records = S3Path(s3path_prefix, \"records\")\n",
    "s3path_labels = S3Path(s3path_prefix, \"labels\")\n",
    "s3path_tests = S3Path(s3path_prefix, \"tests\")\n",
    "s3path_predicts = S3Path(s3path_prefix, \"predicts\")\n",
    "\n",
    "# Glue Catalog config\n",
    "db_name = \"learn_glue_find_matches\"\n",
    "tb_name_records = \"records\"\n",
    "tb_name_labels = \"labels\"\n",
    "tb_name_tests = \"tests\"\n",
    "tb_name_predicts = \"predicts\"\n"
   ],
   "metadata": {
    "collapsed": false,
    "pycharm": {
     "name": "#%%\n"
    }
   }
  },
  {
   "cell_type": "markdown",
   "source": [
    "## Define Your Test Dataset Configuration\n",
    "\n",
    "We need to define some statistics information about our test dataset\n",
    "\n",
    "- ``n_label_set_id``: based on [official document](https://docs.aws.amazon.com/glue/latest/dg/machine-learning.html), the training dataset should be split into \"chunks\". Each chunk is a \"labeling_set\". Within each \"labeling_set\", you could have many records (no more than 300, it helps the ML training fast and efficient), and those records can be clustered into different \"group\". Each group should have a \"label\". Records belongs to the same \"group\" considered as a \"match\". With in each \"labeling_set\", you should have some \"match group\" that has many records, and also have some \"non match group\" that has only one record, which indicate that this record doesn't match any of the others. **This config defines the total number of labeling set you want to generate**.\n",
    "- ``n_label_per_set``: The number of records in each labeling set.\n",
    "- ``n_sample_list``: records in each labeling set will be divided into different group, this config defines the number of records for each group.\n"
   ],
   "metadata": {
    "collapsed": false,
    "pycharm": {
     "name": "#%% md\n"
    }
   }
  },
  {
   "cell_type": "code",
   "execution_count": 101,
   "outputs": [],
   "source": [
    "n_label_set_id = 1000\n",
    "n_label_per_set = 20\n",
    "n_sample_list = [10, 6, 3, 1]\n",
    "\n",
    "if 1 not in n_sample_list:\n",
    "    raise ValueError(\n",
    "        \"You have to has at least ONE group has only ONE member!\"\n",
    "        \"So the find matches ML can learn from it.\"\n",
    "    )\n",
    "\n",
    "if sum(n_sample_list) != n_label_per_set:\n",
    "    raise ValueError\n"
   ],
   "metadata": {
    "collapsed": false,
    "pycharm": {
     "name": "#%%\n"
    }
   }
  },
  {
   "cell_type": "markdown",
   "source": [
    "## Generate Test Data\n",
    "\n",
    "We want to write some code to generate the dataset and:\n",
    "\n",
    "1. store them locally for visual inspect\n",
    "2. store them to S3 for Glue Find Matches ML job"
   ],
   "metadata": {
    "collapsed": false,
    "pycharm": {
     "name": "#%% md\n"
    }
   }
  },
  {
   "cell_type": "code",
   "execution_count": 127,
   "outputs": [],
   "source": [
    "columns_all = \"labeling_set_id,label,id,tid,firstname,lastname,phone\".split(\",\")\n",
    "\n",
    "def s1_generate_dataset() -> pd.DataFrame:\n",
    "    # global unique identifier for each records\n",
    "    id = 0\n",
    "\n",
    "    # the True Person id, if multiple records has the same tid,\n",
    "    # they should considered as a match\n",
    "    # We can use this value to validate the ML predict\n",
    "    tid = 0\n",
    "\n",
    "    rows = list()\n",
    "    for label_set_id in range(1, 1 + n_label_set_id):\n",
    "        for label, n_sample in enumerate(n_sample_list, start=1):\n",
    "            tid += 1\n",
    "            true_person = TruePerson.random(tid)\n",
    "            for _ in range(n_sample):\n",
    "                id += 1\n",
    "                person = true_person.to_person()\n",
    "                row = dict(\n",
    "                    labeling_set_id=f\"LabelSetId-{label_set_id}\",\n",
    "                    label=f\"Label-{label}\",\n",
    "                    id=f\"PersonId-{str(id).zfill(5)}\",\n",
    "                    tid=f\"TrueId-{tid}\",\n",
    "                    firstname=person.firstname,\n",
    "                    lastname=person.lastname,\n",
    "                    phone=person.phone,\n",
    "                )\n",
    "                rows.append(row)\n",
    "\n",
    "    df = pd.DataFrame(\n",
    "        rows,\n",
    "        columns=columns_all,\n",
    "    )\n",
    "    return df\n",
    "\n",
    "df_all = s1_generate_dataset()"
   ],
   "metadata": {
    "collapsed": false,
    "pycharm": {
     "name": "#%%\n"
    }
   }
  },
  {
   "cell_type": "markdown",
   "source": [
    "Now, let's take a look at the dataset."
   ],
   "metadata": {
    "collapsed": false,
    "pycharm": {
     "name": "#%% md\n"
    }
   }
  },
  {
   "cell_type": "code",
   "execution_count": 128,
   "outputs": [
    {
     "name": "stdout",
     "output_type": "stream",
     "text": [
      "------ all data ------\n",
      "20000 rows, 7 columns\n"
     ]
    },
    {
     "data": {
      "text/plain": "  labeling_set_id    label              id       tid firstname lastname  \\\n0    LabelSetId-1  Label-1  PersonId-00001  TrueId-1      John   aadden   \n1    LabelSetId-1  Label-1  PersonId-00002  TrueId-1      Jjcn   aadden   \n2    LabelSetId-1  Label-1  PersonId-00003  TrueId-1      Joln   aadden   \n3    LabelSetId-1  Label-1  PersonId-00004  TrueId-1      Jjcn   Mbddvn   \n4    LabelSetId-1  Label-1  PersonId-00005  TrueId-1      Jjcn   aadden   \n\n          phone  \n0  672-615-3608  \n1  642-615-3608  \n2  602-615-3608  \n3  672-615-3608  \n4  672-615-3608  ",
      "text/html": "<div>\n<style scoped>\n    .dataframe tbody tr th:only-of-type {\n        vertical-align: middle;\n    }\n\n    .dataframe tbody tr th {\n        vertical-align: top;\n    }\n\n    .dataframe thead th {\n        text-align: right;\n    }\n</style>\n<table border=\"1\" class=\"dataframe\">\n  <thead>\n    <tr style=\"text-align: right;\">\n      <th></th>\n      <th>labeling_set_id</th>\n      <th>label</th>\n      <th>id</th>\n      <th>tid</th>\n      <th>firstname</th>\n      <th>lastname</th>\n      <th>phone</th>\n    </tr>\n  </thead>\n  <tbody>\n    <tr>\n      <th>0</th>\n      <td>LabelSetId-1</td>\n      <td>Label-1</td>\n      <td>PersonId-00001</td>\n      <td>TrueId-1</td>\n      <td>John</td>\n      <td>aadden</td>\n      <td>672-615-3608</td>\n    </tr>\n    <tr>\n      <th>1</th>\n      <td>LabelSetId-1</td>\n      <td>Label-1</td>\n      <td>PersonId-00002</td>\n      <td>TrueId-1</td>\n      <td>Jjcn</td>\n      <td>aadden</td>\n      <td>642-615-3608</td>\n    </tr>\n    <tr>\n      <th>2</th>\n      <td>LabelSetId-1</td>\n      <td>Label-1</td>\n      <td>PersonId-00003</td>\n      <td>TrueId-1</td>\n      <td>Joln</td>\n      <td>aadden</td>\n      <td>602-615-3608</td>\n    </tr>\n    <tr>\n      <th>3</th>\n      <td>LabelSetId-1</td>\n      <td>Label-1</td>\n      <td>PersonId-00004</td>\n      <td>TrueId-1</td>\n      <td>Jjcn</td>\n      <td>Mbddvn</td>\n      <td>672-615-3608</td>\n    </tr>\n    <tr>\n      <th>4</th>\n      <td>LabelSetId-1</td>\n      <td>Label-1</td>\n      <td>PersonId-00005</td>\n      <td>TrueId-1</td>\n      <td>Jjcn</td>\n      <td>aadden</td>\n      <td>672-615-3608</td>\n    </tr>\n  </tbody>\n</table>\n</div>"
     },
     "execution_count": 128,
     "metadata": {},
     "output_type": "execute_result"
    }
   ],
   "source": [
    "print(\"------ all data ------\")\n",
    "print(f\"{df_all.shape[0]} rows, {df_all.shape[1]} columns\")\n",
    "df_all.head(5)\n"
   ],
   "metadata": {
    "collapsed": false,
    "pycharm": {
     "name": "#%%\n"
    }
   }
  },
  {
   "cell_type": "code",
   "execution_count": 129,
   "outputs": [
    {
     "name": "stdout",
     "output_type": "stream",
     "text": [
      "------ train data ------\n",
      "14000 rows, 7 columns\n"
     ]
    },
    {
     "data": {
      "text/plain": "  labeling_set_id    label              id       tid firstname lastname  \\\n0    LabelSetId-1  Label-1  PersonId-00001  TrueId-1      John   aadden   \n1    LabelSetId-1  Label-1  PersonId-00002  TrueId-1      Jjcn   aadden   \n2    LabelSetId-1  Label-1  PersonId-00003  TrueId-1      Joln   aadden   \n4    LabelSetId-1  Label-1  PersonId-00005  TrueId-1      Jjcn   aadden   \n7    LabelSetId-1  Label-1  PersonId-00008  TrueId-1      John   Mbddvn   \n\n          phone  \n0  672-615-3608  \n1  642-615-3608  \n2  602-615-3608  \n4  672-615-3608  \n7  672-615-3608  ",
      "text/html": "<div>\n<style scoped>\n    .dataframe tbody tr th:only-of-type {\n        vertical-align: middle;\n    }\n\n    .dataframe tbody tr th {\n        vertical-align: top;\n    }\n\n    .dataframe thead th {\n        text-align: right;\n    }\n</style>\n<table border=\"1\" class=\"dataframe\">\n  <thead>\n    <tr style=\"text-align: right;\">\n      <th></th>\n      <th>labeling_set_id</th>\n      <th>label</th>\n      <th>id</th>\n      <th>tid</th>\n      <th>firstname</th>\n      <th>lastname</th>\n      <th>phone</th>\n    </tr>\n  </thead>\n  <tbody>\n    <tr>\n      <th>0</th>\n      <td>LabelSetId-1</td>\n      <td>Label-1</td>\n      <td>PersonId-00001</td>\n      <td>TrueId-1</td>\n      <td>John</td>\n      <td>aadden</td>\n      <td>672-615-3608</td>\n    </tr>\n    <tr>\n      <th>1</th>\n      <td>LabelSetId-1</td>\n      <td>Label-1</td>\n      <td>PersonId-00002</td>\n      <td>TrueId-1</td>\n      <td>Jjcn</td>\n      <td>aadden</td>\n      <td>642-615-3608</td>\n    </tr>\n    <tr>\n      <th>2</th>\n      <td>LabelSetId-1</td>\n      <td>Label-1</td>\n      <td>PersonId-00003</td>\n      <td>TrueId-1</td>\n      <td>Joln</td>\n      <td>aadden</td>\n      <td>602-615-3608</td>\n    </tr>\n    <tr>\n      <th>4</th>\n      <td>LabelSetId-1</td>\n      <td>Label-1</td>\n      <td>PersonId-00005</td>\n      <td>TrueId-1</td>\n      <td>Jjcn</td>\n      <td>aadden</td>\n      <td>672-615-3608</td>\n    </tr>\n    <tr>\n      <th>7</th>\n      <td>LabelSetId-1</td>\n      <td>Label-1</td>\n      <td>PersonId-00008</td>\n      <td>TrueId-1</td>\n      <td>John</td>\n      <td>Mbddvn</td>\n      <td>672-615-3608</td>\n    </tr>\n  </tbody>\n</table>\n</div>"
     },
     "execution_count": 129,
     "metadata": {},
     "output_type": "execute_result"
    }
   ],
   "source": [
    "df_train = df_all.sample(frac=0.7)\n",
    "df_train = df_train.sort_values(by=\"id\")\n",
    "print(\"------ train data ------\")\n",
    "print(f\"{df_train.shape[0]} rows, {df_train.shape[1]} columns\")\n",
    "df_train.head(5)\n"
   ],
   "metadata": {
    "collapsed": false,
    "pycharm": {
     "name": "#%%\n"
    }
   }
  },
  {
   "cell_type": "code",
   "execution_count": 130,
   "outputs": [],
   "source": [
    "columns_records = \"id,firstname,lastname,phone\".split(\",\")\n",
    "columns_labels = \"labeling_set_id,label,id,firstname,lastname,phone\".split(\",\")\n",
    "\n",
    "df_records = df_train.loc[:, columns_records]\n",
    "df_labels = df_train.loc[:, columns_labels]\n",
    "df_tests = df_all.loc[:, columns_records]"
   ],
   "metadata": {
    "collapsed": false,
    "pycharm": {
     "name": "#%%\n"
    }
   }
  },
  {
   "cell_type": "code",
   "execution_count": 131,
   "outputs": [
    {
     "name": "stdout",
     "output_type": "stream",
     "text": [
      "------ the 'records' csv file ------\n",
      "14000 rows, 4 columns\n"
     ]
    },
    {
     "data": {
      "text/plain": "                id firstname  lastname         phone\n0   PersonId-00001      John    aadden  672-615-3608\n1   PersonId-00002      Jjcn    aadden  642-615-3608\n2   PersonId-00003      Joln    aadden  602-615-3608\n4   PersonId-00005      Jjcn    aadden  672-615-3608\n7   PersonId-00008      John    Mbddvn  672-615-3608\n8   PersonId-00009      John    Mbddvn  672-615-3608\n9   PersonId-00010      Jjcn    Mbddvn  602-615-3608\n10  PersonId-00011      Joel  Morshall  546-359-8339\n11  PersonId-00012      Joel  Marshall  546-359-8339\n12  PersonId-00013      Jyxl  Morshall  546-359-8339",
      "text/html": "<div>\n<style scoped>\n    .dataframe tbody tr th:only-of-type {\n        vertical-align: middle;\n    }\n\n    .dataframe tbody tr th {\n        vertical-align: top;\n    }\n\n    .dataframe thead th {\n        text-align: right;\n    }\n</style>\n<table border=\"1\" class=\"dataframe\">\n  <thead>\n    <tr style=\"text-align: right;\">\n      <th></th>\n      <th>id</th>\n      <th>firstname</th>\n      <th>lastname</th>\n      <th>phone</th>\n    </tr>\n  </thead>\n  <tbody>\n    <tr>\n      <th>0</th>\n      <td>PersonId-00001</td>\n      <td>John</td>\n      <td>aadden</td>\n      <td>672-615-3608</td>\n    </tr>\n    <tr>\n      <th>1</th>\n      <td>PersonId-00002</td>\n      <td>Jjcn</td>\n      <td>aadden</td>\n      <td>642-615-3608</td>\n    </tr>\n    <tr>\n      <th>2</th>\n      <td>PersonId-00003</td>\n      <td>Joln</td>\n      <td>aadden</td>\n      <td>602-615-3608</td>\n    </tr>\n    <tr>\n      <th>4</th>\n      <td>PersonId-00005</td>\n      <td>Jjcn</td>\n      <td>aadden</td>\n      <td>672-615-3608</td>\n    </tr>\n    <tr>\n      <th>7</th>\n      <td>PersonId-00008</td>\n      <td>John</td>\n      <td>Mbddvn</td>\n      <td>672-615-3608</td>\n    </tr>\n    <tr>\n      <th>8</th>\n      <td>PersonId-00009</td>\n      <td>John</td>\n      <td>Mbddvn</td>\n      <td>672-615-3608</td>\n    </tr>\n    <tr>\n      <th>9</th>\n      <td>PersonId-00010</td>\n      <td>Jjcn</td>\n      <td>Mbddvn</td>\n      <td>602-615-3608</td>\n    </tr>\n    <tr>\n      <th>10</th>\n      <td>PersonId-00011</td>\n      <td>Joel</td>\n      <td>Morshall</td>\n      <td>546-359-8339</td>\n    </tr>\n    <tr>\n      <th>11</th>\n      <td>PersonId-00012</td>\n      <td>Joel</td>\n      <td>Marshall</td>\n      <td>546-359-8339</td>\n    </tr>\n    <tr>\n      <th>12</th>\n      <td>PersonId-00013</td>\n      <td>Jyxl</td>\n      <td>Morshall</td>\n      <td>546-359-8339</td>\n    </tr>\n  </tbody>\n</table>\n</div>"
     },
     "execution_count": 131,
     "metadata": {},
     "output_type": "execute_result"
    }
   ],
   "source": [
    "print(\"------ the 'records' csv file ------\")\n",
    "print(f\"{df_records.shape[0]} rows, {df_records.shape[1]} columns\")\n",
    "df_records.head(10)"
   ],
   "metadata": {
    "collapsed": false,
    "pycharm": {
     "name": "#%%\n"
    }
   }
  },
  {
   "cell_type": "code",
   "execution_count": 132,
   "outputs": [
    {
     "name": "stdout",
     "output_type": "stream",
     "text": [
      "------ the 'labels' csv file ------\n",
      "14000 rows, 6 columns\n"
     ]
    },
    {
     "data": {
      "text/plain": "   labeling_set_id    label              id firstname  lastname         phone\n0     LabelSetId-1  Label-1  PersonId-00001      John    aadden  672-615-3608\n1     LabelSetId-1  Label-1  PersonId-00002      Jjcn    aadden  642-615-3608\n2     LabelSetId-1  Label-1  PersonId-00003      Joln    aadden  602-615-3608\n4     LabelSetId-1  Label-1  PersonId-00005      Jjcn    aadden  672-615-3608\n7     LabelSetId-1  Label-1  PersonId-00008      John    Mbddvn  672-615-3608\n8     LabelSetId-1  Label-1  PersonId-00009      John    Mbddvn  672-615-3608\n9     LabelSetId-1  Label-1  PersonId-00010      Jjcn    Mbddvn  602-615-3608\n10    LabelSetId-1  Label-2  PersonId-00011      Joel  Morshall  546-359-8339\n11    LabelSetId-1  Label-2  PersonId-00012      Joel  Marshall  546-359-8339\n12    LabelSetId-1  Label-2  PersonId-00013      Jyxl  Morshall  546-359-8339",
      "text/html": "<div>\n<style scoped>\n    .dataframe tbody tr th:only-of-type {\n        vertical-align: middle;\n    }\n\n    .dataframe tbody tr th {\n        vertical-align: top;\n    }\n\n    .dataframe thead th {\n        text-align: right;\n    }\n</style>\n<table border=\"1\" class=\"dataframe\">\n  <thead>\n    <tr style=\"text-align: right;\">\n      <th></th>\n      <th>labeling_set_id</th>\n      <th>label</th>\n      <th>id</th>\n      <th>firstname</th>\n      <th>lastname</th>\n      <th>phone</th>\n    </tr>\n  </thead>\n  <tbody>\n    <tr>\n      <th>0</th>\n      <td>LabelSetId-1</td>\n      <td>Label-1</td>\n      <td>PersonId-00001</td>\n      <td>John</td>\n      <td>aadden</td>\n      <td>672-615-3608</td>\n    </tr>\n    <tr>\n      <th>1</th>\n      <td>LabelSetId-1</td>\n      <td>Label-1</td>\n      <td>PersonId-00002</td>\n      <td>Jjcn</td>\n      <td>aadden</td>\n      <td>642-615-3608</td>\n    </tr>\n    <tr>\n      <th>2</th>\n      <td>LabelSetId-1</td>\n      <td>Label-1</td>\n      <td>PersonId-00003</td>\n      <td>Joln</td>\n      <td>aadden</td>\n      <td>602-615-3608</td>\n    </tr>\n    <tr>\n      <th>4</th>\n      <td>LabelSetId-1</td>\n      <td>Label-1</td>\n      <td>PersonId-00005</td>\n      <td>Jjcn</td>\n      <td>aadden</td>\n      <td>672-615-3608</td>\n    </tr>\n    <tr>\n      <th>7</th>\n      <td>LabelSetId-1</td>\n      <td>Label-1</td>\n      <td>PersonId-00008</td>\n      <td>John</td>\n      <td>Mbddvn</td>\n      <td>672-615-3608</td>\n    </tr>\n    <tr>\n      <th>8</th>\n      <td>LabelSetId-1</td>\n      <td>Label-1</td>\n      <td>PersonId-00009</td>\n      <td>John</td>\n      <td>Mbddvn</td>\n      <td>672-615-3608</td>\n    </tr>\n    <tr>\n      <th>9</th>\n      <td>LabelSetId-1</td>\n      <td>Label-1</td>\n      <td>PersonId-00010</td>\n      <td>Jjcn</td>\n      <td>Mbddvn</td>\n      <td>602-615-3608</td>\n    </tr>\n    <tr>\n      <th>10</th>\n      <td>LabelSetId-1</td>\n      <td>Label-2</td>\n      <td>PersonId-00011</td>\n      <td>Joel</td>\n      <td>Morshall</td>\n      <td>546-359-8339</td>\n    </tr>\n    <tr>\n      <th>11</th>\n      <td>LabelSetId-1</td>\n      <td>Label-2</td>\n      <td>PersonId-00012</td>\n      <td>Joel</td>\n      <td>Marshall</td>\n      <td>546-359-8339</td>\n    </tr>\n    <tr>\n      <th>12</th>\n      <td>LabelSetId-1</td>\n      <td>Label-2</td>\n      <td>PersonId-00013</td>\n      <td>Jyxl</td>\n      <td>Morshall</td>\n      <td>546-359-8339</td>\n    </tr>\n  </tbody>\n</table>\n</div>"
     },
     "execution_count": 132,
     "metadata": {},
     "output_type": "execute_result"
    }
   ],
   "source": [
    "print(\"------ the 'labels' csv file ------\")\n",
    "print(f\"{df_labels.shape[0]} rows, {df_labels.shape[1]} columns\")\n",
    "df_labels.head(10)"
   ],
   "metadata": {
    "collapsed": false,
    "pycharm": {
     "name": "#%%\n"
    }
   }
  },
  {
   "cell_type": "code",
   "execution_count": 133,
   "outputs": [
    {
     "name": "stdout",
     "output_type": "stream",
     "text": [
      "------ test data ------\n",
      "20000 rows, 4 columns\n"
     ]
    },
    {
     "data": {
      "text/plain": "               id firstname lastname         phone\n0  PersonId-00001      John   aadden  672-615-3608\n1  PersonId-00002      Jjcn   aadden  642-615-3608\n2  PersonId-00003      Joln   aadden  602-615-3608\n3  PersonId-00004      Jjcn   Mbddvn  672-615-3608\n4  PersonId-00005      Jjcn   aadden  672-615-3608\n5  PersonId-00006      Jjcn   aadden  642-615-3608\n6  PersonId-00007      Jjcn   Madden  602-615-3608\n7  PersonId-00008      John   Mbddvn  672-615-3608\n8  PersonId-00009      John   Mbddvn  672-615-3608\n9  PersonId-00010      Jjcn   Mbddvn  602-615-3608",
      "text/html": "<div>\n<style scoped>\n    .dataframe tbody tr th:only-of-type {\n        vertical-align: middle;\n    }\n\n    .dataframe tbody tr th {\n        vertical-align: top;\n    }\n\n    .dataframe thead th {\n        text-align: right;\n    }\n</style>\n<table border=\"1\" class=\"dataframe\">\n  <thead>\n    <tr style=\"text-align: right;\">\n      <th></th>\n      <th>id</th>\n      <th>firstname</th>\n      <th>lastname</th>\n      <th>phone</th>\n    </tr>\n  </thead>\n  <tbody>\n    <tr>\n      <th>0</th>\n      <td>PersonId-00001</td>\n      <td>John</td>\n      <td>aadden</td>\n      <td>672-615-3608</td>\n    </tr>\n    <tr>\n      <th>1</th>\n      <td>PersonId-00002</td>\n      <td>Jjcn</td>\n      <td>aadden</td>\n      <td>642-615-3608</td>\n    </tr>\n    <tr>\n      <th>2</th>\n      <td>PersonId-00003</td>\n      <td>Joln</td>\n      <td>aadden</td>\n      <td>602-615-3608</td>\n    </tr>\n    <tr>\n      <th>3</th>\n      <td>PersonId-00004</td>\n      <td>Jjcn</td>\n      <td>Mbddvn</td>\n      <td>672-615-3608</td>\n    </tr>\n    <tr>\n      <th>4</th>\n      <td>PersonId-00005</td>\n      <td>Jjcn</td>\n      <td>aadden</td>\n      <td>672-615-3608</td>\n    </tr>\n    <tr>\n      <th>5</th>\n      <td>PersonId-00006</td>\n      <td>Jjcn</td>\n      <td>aadden</td>\n      <td>642-615-3608</td>\n    </tr>\n    <tr>\n      <th>6</th>\n      <td>PersonId-00007</td>\n      <td>Jjcn</td>\n      <td>Madden</td>\n      <td>602-615-3608</td>\n    </tr>\n    <tr>\n      <th>7</th>\n      <td>PersonId-00008</td>\n      <td>John</td>\n      <td>Mbddvn</td>\n      <td>672-615-3608</td>\n    </tr>\n    <tr>\n      <th>8</th>\n      <td>PersonId-00009</td>\n      <td>John</td>\n      <td>Mbddvn</td>\n      <td>672-615-3608</td>\n    </tr>\n    <tr>\n      <th>9</th>\n      <td>PersonId-00010</td>\n      <td>Jjcn</td>\n      <td>Mbddvn</td>\n      <td>602-615-3608</td>\n    </tr>\n  </tbody>\n</table>\n</div>"
     },
     "execution_count": 133,
     "metadata": {},
     "output_type": "execute_result"
    }
   ],
   "source": [
    "print(\"------ test data ------\")\n",
    "print(f\"{df_tests.shape[0]} rows, {df_tests.shape[1]} columns\")\n",
    "df_tests.head(10)"
   ],
   "metadata": {
    "collapsed": false,
    "pycharm": {
     "name": "#%%\n"
    }
   }
  },
  {
   "cell_type": "code",
   "source": [
    "# Write to Local\n",
    "quoting = csv.QUOTE_NONNUMERIC\n",
    "to_csv_kwargs = dict(sep=\",\", index=False, header=True, quoting=quoting)\n",
    "\n",
    "df_all.to_csv(path_all_csv, **to_csv_kwargs)\n",
    "df_records.to_csv(path_records_csv, **to_csv_kwargs)\n",
    "df_labels.to_csv(path_labels_csv, **to_csv_kwargs)\n",
    "df_tests.to_csv(path_tests_csv, **to_csv_kwargs)\n",
    "\n",
    "# Create catalog table if not exists\n",
    "databases = wr.catalog.databases(boto3_session=bsm.boto_ses)\n",
    "if db_name not in databases[\"Database\"].to_list():\n",
    "    print(f\"create database {db_name}\")\n",
    "    wr.catalog.create_database(db_name)\n",
    "\n",
    "tables = wr.catalog.tables(database=db_name, boto3_session=bsm.boto_ses)\n",
    "\n",
    "# Write to S3\n",
    "s3path_prefix.delete_if_exists()\n",
    "\n",
    "to_csv_kwargs = dict(\n",
    "    dataset=True,\n",
    "    sep=\",\",\n",
    "    index=False,\n",
    "    header=True,\n",
    "    boto3_session=bsm.boto_ses,\n",
    ")\n",
    "\n",
    "wr.s3.to_csv(\n",
    "    df=df_records,\n",
    "    path=s3path_records.uri,\n",
    "    **to_csv_kwargs\n",
    ")\n",
    "s3path = s3path_records.iter_objects().one()\n",
    "print(f\"created {s3path.uri}\")\n",
    "print(f\"  preview at {s3path.console_url}\")\n",
    "\n",
    "wr.s3.to_csv(\n",
    "    df=df_labels,\n",
    "    path=s3path_labels.uri,\n",
    "    **to_csv_kwargs\n",
    ")\n",
    "s3path = s3path_labels.iter_objects().one()\n",
    "print(f\"created {s3path.uri}\")\n",
    "print(f\"  preview at {s3path.console_url}\")\n",
    "\n",
    "wr.s3.to_csv(\n",
    "    df=df_tests,\n",
    "    path=s3path_tests.uri,\n",
    "    **to_csv_kwargs\n",
    ")\n",
    "s3path = s3path_tests.iter_objects().one()\n",
    "print(f\"created {s3path.uri}\")\n",
    "print(f\"  preview at {s3path.console_url}\")"
   ],
   "metadata": {
    "collapsed": false,
    "pycharm": {
     "name": "#%%\n"
    }
   },
   "execution_count": 137,
   "outputs": [
    {
     "name": "stdout",
     "output_type": "stream",
     "text": [
      "created s3://aws-data-lab-sanhe-for-everything-us-east-2/poc/2022-05-18-glue-find-matches/find-matches/records/f0ca73488f37447baff5ada06cc71f1e.csv\n",
      "  preview at https://console.aws.amazon.com/s3/object/aws-data-lab-sanhe-for-everything-us-east-2?prefix=poc/2022-05-18-glue-find-matches/find-matches/records/f0ca73488f37447baff5ada06cc71f1e.csv\n",
      "created s3://aws-data-lab-sanhe-for-everything-us-east-2/poc/2022-05-18-glue-find-matches/find-matches/labels/b52b36fd1ba647c799d57049ed8dd275.csv\n",
      "  preview at https://console.aws.amazon.com/s3/object/aws-data-lab-sanhe-for-everything-us-east-2?prefix=poc/2022-05-18-glue-find-matches/find-matches/labels/b52b36fd1ba647c799d57049ed8dd275.csv\n",
      "created s3://aws-data-lab-sanhe-for-everything-us-east-2/poc/2022-05-18-glue-find-matches/find-matches/tests/b5577eb9e7cd43118d7b8d70765853e6.csv\n",
      "  preview at https://console.aws.amazon.com/s3/object/aws-data-lab-sanhe-for-everything-us-east-2?prefix=poc/2022-05-18-glue-find-matches/find-matches/tests/b5577eb9e7cd43118d7b8d70765853e6.csv\n"
     ]
    }
   ]
  },
  {
   "cell_type": "markdown",
   "source": [
    "## Train the ML Model\n",
    "\n",
    "1. create the Glue Database, and Glue Table (better to create it manually in console to avoid weird error)\n",
    "\n",
    "![](./glue-table.png)\n",
    "\n",
    "2. create the Glue ML job, follow this guide: https://docs.aws.amazon.com/glue/latest/dg/machine-learning-transform-tutorial.html\n",
    "\n",
    "3. after you provide the label, click the \"Estimate the Quality button\". Then your ML model is ready to use. Take a note of the Glue ML job transformation ID from the console.\n",
    "\n",
    "4. Create a Glue Job with Jupyter Notebook in the console, you can find an example at ``glue-etl-job.ipynb``. It reads the data from S3, run the transformation job, and store the results in S3"
   ],
   "metadata": {
    "collapsed": false,
    "pycharm": {
     "name": "#%% md\n"
    }
   }
  },
  {
   "cell_type": "markdown",
   "source": [
    "## Validate The Prediction\n",
    "\n",
    "Now we want to download the predict results and compare to the Ground Truth TruePerson ID."
   ],
   "metadata": {
    "collapsed": false
   }
  },
  {
   "cell_type": "code",
   "execution_count": 138,
   "outputs": [],
   "source": [
    "def download_the_predicts():\n",
    "    \"\"\"\n",
    "    Merge and download the predict output data from S3 to Local.\n",
    "    The Glue ML job usually use multiple worker and dump the results\n",
    "    to many small files in parallel,\n",
    "    \"\"\"\n",
    "    df_list = list()\n",
    "    for s3path in S3Path(s3path_prefix, \"predict\").iter_objects():\n",
    "        with s3path.open(\"r\") as f:\n",
    "            df = pd.read_csv(f)\n",
    "            df_list.append(df)\n",
    "    df_predict = pd.concat(df_list, axis=0)\n",
    "    # re order by ID to ensure the order\n",
    "    df_predict = df_predict.sort_values(by=\"id\")\n",
    "    df_predict.to_csv(\n",
    "        path_predicts_csv,\n",
    "        sep=\",\",\n",
    "        index=False,\n",
    "    )\n",
    "\n",
    "download_the_predicts()"
   ],
   "metadata": {
    "collapsed": false,
    "pycharm": {
     "name": "#%%\n"
    }
   }
  },
  {
   "cell_type": "code",
   "execution_count": 139,
   "outputs": [],
   "source": [
    "df_predict = pd.read_csv(path_predicts_csv)"
   ],
   "metadata": {
    "collapsed": false,
    "pycharm": {
     "name": "#%%\n"
    }
   }
  },
  {
   "cell_type": "code",
   "execution_count": 140,
   "outputs": [
    {
     "name": "stdout",
     "output_type": "stream",
     "text": [
      "------ Predict Results ------\n",
      "20000 rows, 6 columns\n"
     ]
    },
    {
     "data": {
      "text/plain": "               id firstname lastname         phone  match_id  \\\n0  PersonId-00001      John   aadden  672-615-3608         0   \n1  PersonId-00002      Jjcn   aadden  642-615-3608         0   \n2  PersonId-00003      Joln   aadden  602-615-3608         0   \n3  PersonId-00004      Jjcn   Mbddvn  672-615-3608         0   \n4  PersonId-00005      Jjcn   aadden  672-615-3608         0   \n5  PersonId-00006      Jjcn   aadden  642-615-3608         0   \n6  PersonId-00007      Jjcn   Madden  602-615-3608         0   \n7  PersonId-00008      John   Mbddvn  672-615-3608         0   \n8  PersonId-00009      John   Mbddvn  672-615-3608         0   \n9  PersonId-00010      Jjcn   Mbddvn  602-615-3608         0   \n\n   match_confidence_score  \n0                     1.0  \n1                     1.0  \n2                     1.0  \n3                     1.0  \n4                     1.0  \n5                     1.0  \n6                     1.0  \n7                     1.0  \n8                     1.0  \n9                     1.0  ",
      "text/html": "<div>\n<style scoped>\n    .dataframe tbody tr th:only-of-type {\n        vertical-align: middle;\n    }\n\n    .dataframe tbody tr th {\n        vertical-align: top;\n    }\n\n    .dataframe thead th {\n        text-align: right;\n    }\n</style>\n<table border=\"1\" class=\"dataframe\">\n  <thead>\n    <tr style=\"text-align: right;\">\n      <th></th>\n      <th>id</th>\n      <th>firstname</th>\n      <th>lastname</th>\n      <th>phone</th>\n      <th>match_id</th>\n      <th>match_confidence_score</th>\n    </tr>\n  </thead>\n  <tbody>\n    <tr>\n      <th>0</th>\n      <td>PersonId-00001</td>\n      <td>John</td>\n      <td>aadden</td>\n      <td>672-615-3608</td>\n      <td>0</td>\n      <td>1.0</td>\n    </tr>\n    <tr>\n      <th>1</th>\n      <td>PersonId-00002</td>\n      <td>Jjcn</td>\n      <td>aadden</td>\n      <td>642-615-3608</td>\n      <td>0</td>\n      <td>1.0</td>\n    </tr>\n    <tr>\n      <th>2</th>\n      <td>PersonId-00003</td>\n      <td>Joln</td>\n      <td>aadden</td>\n      <td>602-615-3608</td>\n      <td>0</td>\n      <td>1.0</td>\n    </tr>\n    <tr>\n      <th>3</th>\n      <td>PersonId-00004</td>\n      <td>Jjcn</td>\n      <td>Mbddvn</td>\n      <td>672-615-3608</td>\n      <td>0</td>\n      <td>1.0</td>\n    </tr>\n    <tr>\n      <th>4</th>\n      <td>PersonId-00005</td>\n      <td>Jjcn</td>\n      <td>aadden</td>\n      <td>672-615-3608</td>\n      <td>0</td>\n      <td>1.0</td>\n    </tr>\n    <tr>\n      <th>5</th>\n      <td>PersonId-00006</td>\n      <td>Jjcn</td>\n      <td>aadden</td>\n      <td>642-615-3608</td>\n      <td>0</td>\n      <td>1.0</td>\n    </tr>\n    <tr>\n      <th>6</th>\n      <td>PersonId-00007</td>\n      <td>Jjcn</td>\n      <td>Madden</td>\n      <td>602-615-3608</td>\n      <td>0</td>\n      <td>1.0</td>\n    </tr>\n    <tr>\n      <th>7</th>\n      <td>PersonId-00008</td>\n      <td>John</td>\n      <td>Mbddvn</td>\n      <td>672-615-3608</td>\n      <td>0</td>\n      <td>1.0</td>\n    </tr>\n    <tr>\n      <th>8</th>\n      <td>PersonId-00009</td>\n      <td>John</td>\n      <td>Mbddvn</td>\n      <td>672-615-3608</td>\n      <td>0</td>\n      <td>1.0</td>\n    </tr>\n    <tr>\n      <th>9</th>\n      <td>PersonId-00010</td>\n      <td>Jjcn</td>\n      <td>Mbddvn</td>\n      <td>602-615-3608</td>\n      <td>0</td>\n      <td>1.0</td>\n    </tr>\n  </tbody>\n</table>\n</div>"
     },
     "execution_count": 140,
     "metadata": {},
     "output_type": "execute_result"
    }
   ],
   "source": [
    "print(\"------ Predict Results ------\")\n",
    "print(f\"{df_predict.shape[0]} rows, {df_predict.shape[1]} columns\")\n",
    "df_predict.head(10)"
   ],
   "metadata": {
    "collapsed": false,
    "pycharm": {
     "name": "#%%\n"
    }
   }
  },
  {
   "cell_type": "code",
   "execution_count": 141,
   "outputs": [],
   "source": [
    "# merge the predicted match id and the true person id\n",
    "# so we can compare visually\n",
    "df_compare = df_predict.copy()\n",
    "df_compare[\"tid\"] = df_all[\"tid\"]\n",
    "df_compare = df_compare[\"id,firstname,lastname,phone,tid,match_id,match_confidence_score\".split(\",\")]\n",
    "df_compare.to_csv(\n",
    "    path_compares_csv,\n",
    "    sep=\",\",\n",
    "    index=False,\n",
    ")"
   ],
   "metadata": {
    "collapsed": false,
    "pycharm": {
     "name": "#%%\n"
    }
   }
  },
  {
   "cell_type": "code",
   "execution_count": 143,
   "outputs": [
    {
     "name": "stdout",
     "output_type": "stream",
     "text": [
      "You can visually check the 'tid' and 'match_id' columns\n"
     ]
    },
    {
     "data": {
      "text/plain": "                id firstname   lastname         phone       tid  match_id  \\\n0   PersonId-00001      John     aadden  672-615-3608  TrueId-1         0   \n1   PersonId-00002      Jjcn     aadden  642-615-3608  TrueId-1         0   \n2   PersonId-00003      Joln     aadden  602-615-3608  TrueId-1         0   \n3   PersonId-00004      Jjcn     Mbddvn  672-615-3608  TrueId-1         0   \n4   PersonId-00005      Jjcn     aadden  672-615-3608  TrueId-1         0   \n5   PersonId-00006      Jjcn     aadden  642-615-3608  TrueId-1         0   \n6   PersonId-00007      Jjcn     Madden  602-615-3608  TrueId-1         0   \n7   PersonId-00008      John     Mbddvn  672-615-3608  TrueId-1         0   \n8   PersonId-00009      John     Mbddvn  672-615-3608  TrueId-1         0   \n9   PersonId-00010      Jjcn     Mbddvn  602-615-3608  TrueId-1         0   \n10  PersonId-00011      Joel   Morshall  546-359-8339  TrueId-2        10   \n11  PersonId-00012      Joel   Marshall  546-359-8339  TrueId-2        10   \n12  PersonId-00013      Jyxl   Morshall  546-359-8339  TrueId-2        10   \n13  PersonId-00014      Joel   Morshall  546-359-8339  TrueId-2        10   \n14  PersonId-00015      Jcel   Morshall  546-359-8339  TrueId-2        10   \n15  PersonId-00016      Jyxl   Morshall  546-359-8339  TrueId-2        10   \n16  PersonId-00017  Patriaia     qarvey  831-890-8306  TrueId-3        16   \n17  PersonId-00018  hatricia     Harvey  831-890-8306  TrueId-3        16   \n18  PersonId-00019  hatricia     qarvey  831-890-8306  TrueId-3        16   \n19  PersonId-00020    Aadqey       Roce  548-911-7016  TrueId-4        19   \n20  PersonId-00021   Spdncer     Covtez  614-362-3978  TrueId-5        20   \n21  PersonId-00022   Spences     Covtez  614-362-3978  TrueId-5        20   \n22  PersonId-00023   Spences     Covtez  614-362-3978  TrueId-5        20   \n23  PersonId-00024   Spdncer     Comtez  614-862-3978  TrueId-5        20   \n24  PersonId-00025   Spencer     Covtez  614-362-3978  TrueId-5        20   \n25  PersonId-00026   Spdncer     Cortez  614-862-3978  TrueId-5        20   \n26  PersonId-00027   Spencer     Cortez  614-362-3978  TrueId-5        20   \n27  PersonId-00028   Spdncer     Comtez  614-362-3978  TrueId-5        20   \n28  PersonId-00029   Spences     Covtez  614-362-3978  TrueId-5        20   \n29  PersonId-00030   Spdncer     Comtez  614-362-3978  TrueId-5        20   \n30  PersonId-00031    Auctin      Ortgz  730-963-9164  TrueId-6        30   \n31  PersonId-00032    Auwtin      Ortjz  730-063-9164  TrueId-6        31   \n32  PersonId-00033    Auwtin      Ortiz  730-963-9164  TrueId-6        30   \n33  PersonId-00034    Auwtin      Ortiz  730-963-9164  TrueId-6        30   \n34  PersonId-00035    Auwtin      Ortiz  730-963-9164  TrueId-6        30   \n35  PersonId-00036    Auwtin      Ortiz  730-963-9164  TrueId-6        30   \n36  PersonId-00037      John     Marnij  195-271-3640  TrueId-7        36   \n37  PersonId-00038      Johv     Marnij  195-271-3640  TrueId-7        36   \n38  PersonId-00039      Johv     Marnij  195-271-3640  TrueId-7        36   \n39  PersonId-00040  Jennlfeg  Robertson  361-170-8677  TrueId-8        39   \n40  PersonId-00041     Wayne      Burns  159-307-8724  TrueId-9        40   \n41  PersonId-00042     Wxyne      dcrns  159-307-8724  TrueId-9        40   \n42  PersonId-00043     Wxyne      Burns  159-307-8724  TrueId-9        40   \n43  PersonId-00044     Wayne      Burns  155-307-8724  TrueId-9        40   \n44  PersonId-00045     Wxyne      Burns  159-307-8724  TrueId-9        40   \n45  PersonId-00046     Wayne      dcrns  155-307-8724  TrueId-9        40   \n46  PersonId-00047     Wibne      Burns  159-307-8724  TrueId-9        40   \n47  PersonId-00048     Wayne      dcrns  155-307-8724  TrueId-9        40   \n48  PersonId-00049     Wayne      Bpgns  155-307-8724  TrueId-9        40   \n49  PersonId-00050     Wayne      Burns  155-307-8724  TrueId-9        40   \n\n    match_confidence_score  \n0                      1.0  \n1                      1.0  \n2                      1.0  \n3                      1.0  \n4                      1.0  \n5                      1.0  \n6                      1.0  \n7                      1.0  \n8                      1.0  \n9                      1.0  \n10                     1.0  \n11                     1.0  \n12                     1.0  \n13                     1.0  \n14                     1.0  \n15                     1.0  \n16                     1.0  \n17                     1.0  \n18                     1.0  \n19                     NaN  \n20                     1.0  \n21                     1.0  \n22                     1.0  \n23                     1.0  \n24                     1.0  \n25                     1.0  \n26                     1.0  \n27                     1.0  \n28                     1.0  \n29                     1.0  \n30                     1.0  \n31                     NaN  \n32                     1.0  \n33                     1.0  \n34                     1.0  \n35                     1.0  \n36                     1.0  \n37                     1.0  \n38                     1.0  \n39                     NaN  \n40                     1.0  \n41                     1.0  \n42                     1.0  \n43                     1.0  \n44                     1.0  \n45                     1.0  \n46                     1.0  \n47                     1.0  \n48                     1.0  \n49                     1.0  ",
      "text/html": "<div>\n<style scoped>\n    .dataframe tbody tr th:only-of-type {\n        vertical-align: middle;\n    }\n\n    .dataframe tbody tr th {\n        vertical-align: top;\n    }\n\n    .dataframe thead th {\n        text-align: right;\n    }\n</style>\n<table border=\"1\" class=\"dataframe\">\n  <thead>\n    <tr style=\"text-align: right;\">\n      <th></th>\n      <th>id</th>\n      <th>firstname</th>\n      <th>lastname</th>\n      <th>phone</th>\n      <th>tid</th>\n      <th>match_id</th>\n      <th>match_confidence_score</th>\n    </tr>\n  </thead>\n  <tbody>\n    <tr>\n      <th>0</th>\n      <td>PersonId-00001</td>\n      <td>John</td>\n      <td>aadden</td>\n      <td>672-615-3608</td>\n      <td>TrueId-1</td>\n      <td>0</td>\n      <td>1.0</td>\n    </tr>\n    <tr>\n      <th>1</th>\n      <td>PersonId-00002</td>\n      <td>Jjcn</td>\n      <td>aadden</td>\n      <td>642-615-3608</td>\n      <td>TrueId-1</td>\n      <td>0</td>\n      <td>1.0</td>\n    </tr>\n    <tr>\n      <th>2</th>\n      <td>PersonId-00003</td>\n      <td>Joln</td>\n      <td>aadden</td>\n      <td>602-615-3608</td>\n      <td>TrueId-1</td>\n      <td>0</td>\n      <td>1.0</td>\n    </tr>\n    <tr>\n      <th>3</th>\n      <td>PersonId-00004</td>\n      <td>Jjcn</td>\n      <td>Mbddvn</td>\n      <td>672-615-3608</td>\n      <td>TrueId-1</td>\n      <td>0</td>\n      <td>1.0</td>\n    </tr>\n    <tr>\n      <th>4</th>\n      <td>PersonId-00005</td>\n      <td>Jjcn</td>\n      <td>aadden</td>\n      <td>672-615-3608</td>\n      <td>TrueId-1</td>\n      <td>0</td>\n      <td>1.0</td>\n    </tr>\n    <tr>\n      <th>5</th>\n      <td>PersonId-00006</td>\n      <td>Jjcn</td>\n      <td>aadden</td>\n      <td>642-615-3608</td>\n      <td>TrueId-1</td>\n      <td>0</td>\n      <td>1.0</td>\n    </tr>\n    <tr>\n      <th>6</th>\n      <td>PersonId-00007</td>\n      <td>Jjcn</td>\n      <td>Madden</td>\n      <td>602-615-3608</td>\n      <td>TrueId-1</td>\n      <td>0</td>\n      <td>1.0</td>\n    </tr>\n    <tr>\n      <th>7</th>\n      <td>PersonId-00008</td>\n      <td>John</td>\n      <td>Mbddvn</td>\n      <td>672-615-3608</td>\n      <td>TrueId-1</td>\n      <td>0</td>\n      <td>1.0</td>\n    </tr>\n    <tr>\n      <th>8</th>\n      <td>PersonId-00009</td>\n      <td>John</td>\n      <td>Mbddvn</td>\n      <td>672-615-3608</td>\n      <td>TrueId-1</td>\n      <td>0</td>\n      <td>1.0</td>\n    </tr>\n    <tr>\n      <th>9</th>\n      <td>PersonId-00010</td>\n      <td>Jjcn</td>\n      <td>Mbddvn</td>\n      <td>602-615-3608</td>\n      <td>TrueId-1</td>\n      <td>0</td>\n      <td>1.0</td>\n    </tr>\n    <tr>\n      <th>10</th>\n      <td>PersonId-00011</td>\n      <td>Joel</td>\n      <td>Morshall</td>\n      <td>546-359-8339</td>\n      <td>TrueId-2</td>\n      <td>10</td>\n      <td>1.0</td>\n    </tr>\n    <tr>\n      <th>11</th>\n      <td>PersonId-00012</td>\n      <td>Joel</td>\n      <td>Marshall</td>\n      <td>546-359-8339</td>\n      <td>TrueId-2</td>\n      <td>10</td>\n      <td>1.0</td>\n    </tr>\n    <tr>\n      <th>12</th>\n      <td>PersonId-00013</td>\n      <td>Jyxl</td>\n      <td>Morshall</td>\n      <td>546-359-8339</td>\n      <td>TrueId-2</td>\n      <td>10</td>\n      <td>1.0</td>\n    </tr>\n    <tr>\n      <th>13</th>\n      <td>PersonId-00014</td>\n      <td>Joel</td>\n      <td>Morshall</td>\n      <td>546-359-8339</td>\n      <td>TrueId-2</td>\n      <td>10</td>\n      <td>1.0</td>\n    </tr>\n    <tr>\n      <th>14</th>\n      <td>PersonId-00015</td>\n      <td>Jcel</td>\n      <td>Morshall</td>\n      <td>546-359-8339</td>\n      <td>TrueId-2</td>\n      <td>10</td>\n      <td>1.0</td>\n    </tr>\n    <tr>\n      <th>15</th>\n      <td>PersonId-00016</td>\n      <td>Jyxl</td>\n      <td>Morshall</td>\n      <td>546-359-8339</td>\n      <td>TrueId-2</td>\n      <td>10</td>\n      <td>1.0</td>\n    </tr>\n    <tr>\n      <th>16</th>\n      <td>PersonId-00017</td>\n      <td>Patriaia</td>\n      <td>qarvey</td>\n      <td>831-890-8306</td>\n      <td>TrueId-3</td>\n      <td>16</td>\n      <td>1.0</td>\n    </tr>\n    <tr>\n      <th>17</th>\n      <td>PersonId-00018</td>\n      <td>hatricia</td>\n      <td>Harvey</td>\n      <td>831-890-8306</td>\n      <td>TrueId-3</td>\n      <td>16</td>\n      <td>1.0</td>\n    </tr>\n    <tr>\n      <th>18</th>\n      <td>PersonId-00019</td>\n      <td>hatricia</td>\n      <td>qarvey</td>\n      <td>831-890-8306</td>\n      <td>TrueId-3</td>\n      <td>16</td>\n      <td>1.0</td>\n    </tr>\n    <tr>\n      <th>19</th>\n      <td>PersonId-00020</td>\n      <td>Aadqey</td>\n      <td>Roce</td>\n      <td>548-911-7016</td>\n      <td>TrueId-4</td>\n      <td>19</td>\n      <td>NaN</td>\n    </tr>\n    <tr>\n      <th>20</th>\n      <td>PersonId-00021</td>\n      <td>Spdncer</td>\n      <td>Covtez</td>\n      <td>614-362-3978</td>\n      <td>TrueId-5</td>\n      <td>20</td>\n      <td>1.0</td>\n    </tr>\n    <tr>\n      <th>21</th>\n      <td>PersonId-00022</td>\n      <td>Spences</td>\n      <td>Covtez</td>\n      <td>614-362-3978</td>\n      <td>TrueId-5</td>\n      <td>20</td>\n      <td>1.0</td>\n    </tr>\n    <tr>\n      <th>22</th>\n      <td>PersonId-00023</td>\n      <td>Spences</td>\n      <td>Covtez</td>\n      <td>614-362-3978</td>\n      <td>TrueId-5</td>\n      <td>20</td>\n      <td>1.0</td>\n    </tr>\n    <tr>\n      <th>23</th>\n      <td>PersonId-00024</td>\n      <td>Spdncer</td>\n      <td>Comtez</td>\n      <td>614-862-3978</td>\n      <td>TrueId-5</td>\n      <td>20</td>\n      <td>1.0</td>\n    </tr>\n    <tr>\n      <th>24</th>\n      <td>PersonId-00025</td>\n      <td>Spencer</td>\n      <td>Covtez</td>\n      <td>614-362-3978</td>\n      <td>TrueId-5</td>\n      <td>20</td>\n      <td>1.0</td>\n    </tr>\n    <tr>\n      <th>25</th>\n      <td>PersonId-00026</td>\n      <td>Spdncer</td>\n      <td>Cortez</td>\n      <td>614-862-3978</td>\n      <td>TrueId-5</td>\n      <td>20</td>\n      <td>1.0</td>\n    </tr>\n    <tr>\n      <th>26</th>\n      <td>PersonId-00027</td>\n      <td>Spencer</td>\n      <td>Cortez</td>\n      <td>614-362-3978</td>\n      <td>TrueId-5</td>\n      <td>20</td>\n      <td>1.0</td>\n    </tr>\n    <tr>\n      <th>27</th>\n      <td>PersonId-00028</td>\n      <td>Spdncer</td>\n      <td>Comtez</td>\n      <td>614-362-3978</td>\n      <td>TrueId-5</td>\n      <td>20</td>\n      <td>1.0</td>\n    </tr>\n    <tr>\n      <th>28</th>\n      <td>PersonId-00029</td>\n      <td>Spences</td>\n      <td>Covtez</td>\n      <td>614-362-3978</td>\n      <td>TrueId-5</td>\n      <td>20</td>\n      <td>1.0</td>\n    </tr>\n    <tr>\n      <th>29</th>\n      <td>PersonId-00030</td>\n      <td>Spdncer</td>\n      <td>Comtez</td>\n      <td>614-362-3978</td>\n      <td>TrueId-5</td>\n      <td>20</td>\n      <td>1.0</td>\n    </tr>\n    <tr>\n      <th>30</th>\n      <td>PersonId-00031</td>\n      <td>Auctin</td>\n      <td>Ortgz</td>\n      <td>730-963-9164</td>\n      <td>TrueId-6</td>\n      <td>30</td>\n      <td>1.0</td>\n    </tr>\n    <tr>\n      <th>31</th>\n      <td>PersonId-00032</td>\n      <td>Auwtin</td>\n      <td>Ortjz</td>\n      <td>730-063-9164</td>\n      <td>TrueId-6</td>\n      <td>31</td>\n      <td>NaN</td>\n    </tr>\n    <tr>\n      <th>32</th>\n      <td>PersonId-00033</td>\n      <td>Auwtin</td>\n      <td>Ortiz</td>\n      <td>730-963-9164</td>\n      <td>TrueId-6</td>\n      <td>30</td>\n      <td>1.0</td>\n    </tr>\n    <tr>\n      <th>33</th>\n      <td>PersonId-00034</td>\n      <td>Auwtin</td>\n      <td>Ortiz</td>\n      <td>730-963-9164</td>\n      <td>TrueId-6</td>\n      <td>30</td>\n      <td>1.0</td>\n    </tr>\n    <tr>\n      <th>34</th>\n      <td>PersonId-00035</td>\n      <td>Auwtin</td>\n      <td>Ortiz</td>\n      <td>730-963-9164</td>\n      <td>TrueId-6</td>\n      <td>30</td>\n      <td>1.0</td>\n    </tr>\n    <tr>\n      <th>35</th>\n      <td>PersonId-00036</td>\n      <td>Auwtin</td>\n      <td>Ortiz</td>\n      <td>730-963-9164</td>\n      <td>TrueId-6</td>\n      <td>30</td>\n      <td>1.0</td>\n    </tr>\n    <tr>\n      <th>36</th>\n      <td>PersonId-00037</td>\n      <td>John</td>\n      <td>Marnij</td>\n      <td>195-271-3640</td>\n      <td>TrueId-7</td>\n      <td>36</td>\n      <td>1.0</td>\n    </tr>\n    <tr>\n      <th>37</th>\n      <td>PersonId-00038</td>\n      <td>Johv</td>\n      <td>Marnij</td>\n      <td>195-271-3640</td>\n      <td>TrueId-7</td>\n      <td>36</td>\n      <td>1.0</td>\n    </tr>\n    <tr>\n      <th>38</th>\n      <td>PersonId-00039</td>\n      <td>Johv</td>\n      <td>Marnij</td>\n      <td>195-271-3640</td>\n      <td>TrueId-7</td>\n      <td>36</td>\n      <td>1.0</td>\n    </tr>\n    <tr>\n      <th>39</th>\n      <td>PersonId-00040</td>\n      <td>Jennlfeg</td>\n      <td>Robertson</td>\n      <td>361-170-8677</td>\n      <td>TrueId-8</td>\n      <td>39</td>\n      <td>NaN</td>\n    </tr>\n    <tr>\n      <th>40</th>\n      <td>PersonId-00041</td>\n      <td>Wayne</td>\n      <td>Burns</td>\n      <td>159-307-8724</td>\n      <td>TrueId-9</td>\n      <td>40</td>\n      <td>1.0</td>\n    </tr>\n    <tr>\n      <th>41</th>\n      <td>PersonId-00042</td>\n      <td>Wxyne</td>\n      <td>dcrns</td>\n      <td>159-307-8724</td>\n      <td>TrueId-9</td>\n      <td>40</td>\n      <td>1.0</td>\n    </tr>\n    <tr>\n      <th>42</th>\n      <td>PersonId-00043</td>\n      <td>Wxyne</td>\n      <td>Burns</td>\n      <td>159-307-8724</td>\n      <td>TrueId-9</td>\n      <td>40</td>\n      <td>1.0</td>\n    </tr>\n    <tr>\n      <th>43</th>\n      <td>PersonId-00044</td>\n      <td>Wayne</td>\n      <td>Burns</td>\n      <td>155-307-8724</td>\n      <td>TrueId-9</td>\n      <td>40</td>\n      <td>1.0</td>\n    </tr>\n    <tr>\n      <th>44</th>\n      <td>PersonId-00045</td>\n      <td>Wxyne</td>\n      <td>Burns</td>\n      <td>159-307-8724</td>\n      <td>TrueId-9</td>\n      <td>40</td>\n      <td>1.0</td>\n    </tr>\n    <tr>\n      <th>45</th>\n      <td>PersonId-00046</td>\n      <td>Wayne</td>\n      <td>dcrns</td>\n      <td>155-307-8724</td>\n      <td>TrueId-9</td>\n      <td>40</td>\n      <td>1.0</td>\n    </tr>\n    <tr>\n      <th>46</th>\n      <td>PersonId-00047</td>\n      <td>Wibne</td>\n      <td>Burns</td>\n      <td>159-307-8724</td>\n      <td>TrueId-9</td>\n      <td>40</td>\n      <td>1.0</td>\n    </tr>\n    <tr>\n      <th>47</th>\n      <td>PersonId-00048</td>\n      <td>Wayne</td>\n      <td>dcrns</td>\n      <td>155-307-8724</td>\n      <td>TrueId-9</td>\n      <td>40</td>\n      <td>1.0</td>\n    </tr>\n    <tr>\n      <th>48</th>\n      <td>PersonId-00049</td>\n      <td>Wayne</td>\n      <td>Bpgns</td>\n      <td>155-307-8724</td>\n      <td>TrueId-9</td>\n      <td>40</td>\n      <td>1.0</td>\n    </tr>\n    <tr>\n      <th>49</th>\n      <td>PersonId-00050</td>\n      <td>Wayne</td>\n      <td>Burns</td>\n      <td>155-307-8724</td>\n      <td>TrueId-9</td>\n      <td>40</td>\n      <td>1.0</td>\n    </tr>\n  </tbody>\n</table>\n</div>"
     },
     "execution_count": 143,
     "metadata": {},
     "output_type": "execute_result"
    }
   ],
   "source": [
    "print(\"You can visually check the 'tid' and 'match_id' columns\")\n",
    "df_compare.head(50)"
   ],
   "metadata": {
    "collapsed": false,
    "pycharm": {
     "name": "#%%\n"
    }
   }
  },
  {
   "cell_type": "code",
   "execution_count": 142,
   "outputs": [],
   "source": [],
   "metadata": {
    "collapsed": false,
    "pycharm": {
     "name": "#%%\n"
    }
   }
  }
 ],
 "metadata": {
  "kernelspec": {
   "display_name": "Python 3",
   "language": "python",
   "name": "python3"
  },
  "language_info": {
   "codemirror_mode": {
    "name": "ipython",
    "version": 2
   },
   "file_extension": ".py",
   "mimetype": "text/x-python",
   "name": "python",
   "nbconvert_exporter": "python",
   "pygments_lexer": "ipython2",
   "version": "2.7.6"
  }
 },
 "nbformat": 4,
 "nbformat_minor": 0
}
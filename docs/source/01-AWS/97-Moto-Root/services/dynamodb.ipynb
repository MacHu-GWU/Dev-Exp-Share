{
 "cells": [
  {
   "cell_type": "code",
   "execution_count": 3,
   "outputs": [],
   "source": [
    "import moto\n",
    "import pynamodb_mate as pm"
   ],
   "metadata": {
    "collapsed": false,
    "pycharm": {
     "name": "#%%\n"
    }
   }
  },
  {
   "cell_type": "code",
   "execution_count": 6,
   "outputs": [
    {
     "name": "stdout",
     "output_type": "stream",
     "text": [
      "{'key': 'id-1', 'value': 'v1'}\n"
     ]
    }
   ],
   "source": [
    "class Record(pm.Model):\n",
    "    class Meta:\n",
    "        table_name = f\"my-table\"\n",
    "        region = \"us-east-1\"\n",
    "        billing_mode = pm.PAY_PER_REQUEST_BILLING_MODE\n",
    "\n",
    "    key = pm.UnicodeAttribute(hash_key=True)\n",
    "    value = pm.UnicodeAttribute()\n",
    "\n",
    "@moto.mock_dynamodb\n",
    "def test():\n",
    "    connect = pm.Connection()\n",
    "\n",
    "    Record.create_table(wait=True)\n",
    "\n",
    "    record = Record(key=\"id-1\", value=\"v1\")\n",
    "    record.save()\n",
    "\n",
    "    record = Record.get(\"id-1\")\n",
    "    print(record.to_dict())\n",
    "\n",
    "test()"
   ],
   "metadata": {
    "collapsed": false,
    "pycharm": {
     "name": "#%%\n"
    }
   }
  },
  {
   "cell_type": "code",
   "execution_count": null,
   "outputs": [],
   "source": [],
   "metadata": {
    "collapsed": false,
    "pycharm": {
     "name": "#%%\n"
    }
   }
  }
 ],
 "metadata": {
  "kernelspec": {
   "display_name": "Python 3",
   "language": "python",
   "name": "python3"
  },
  "language_info": {
   "codemirror_mode": {
    "name": "ipython",
    "version": 2
   },
   "file_extension": ".py",
   "mimetype": "text/x-python",
   "name": "python",
   "nbconvert_exporter": "python",
   "pygments_lexer": "ipython2",
   "version": "2.7.6"
  }
 },
 "nbformat": 4,
 "nbformat_minor": 0
}
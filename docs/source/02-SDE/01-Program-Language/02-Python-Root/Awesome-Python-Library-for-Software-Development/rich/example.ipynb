{
 "cells": [
  {
   "cell_type": "markdown",
   "source": [
    "# Rich\n",
    "\n",
    "- [Official Document](https://rich.readthedocs.io/en/stable/index.html)"
   ],
   "metadata": {
    "collapsed": false,
    "pycharm": {
     "name": "#%% md\n"
    }
   }
  },
  {
   "cell_type": "code",
   "execution_count": 42,
   "outputs": [],
   "source": [
    "from rich import print as rprint\n",
    "from rich import pretty\n",
    "from rich.panel import Panel\n",
    "from rich.console import Console\n",
    "from rich import inspect\n",
    "from rich.color import Color\n",
    "from rich.json import JSON"
   ],
   "metadata": {
    "collapsed": false,
    "pycharm": {
     "name": "#%%\n"
    }
   }
  },
  {
   "cell_type": "code",
   "execution_count": 10,
   "outputs": [
    {
     "data": {
      "text/plain": "\u001B[3;31mHello\u001B[0m World!\n",
      "text/html": "<pre style=\"white-space:pre;overflow-x:auto;line-height:normal;font-family:Menlo,'DejaVu Sans Mono',consolas,'Courier New',monospace\"><span style=\"color: #800000; text-decoration-color: #800000; font-style: italic\">Hello</span> World!\n</pre>\n"
     },
     "metadata": {},
     "output_type": "display_data"
    }
   ],
   "source": [
    "rprint(\"[italic red]Hello[/italic red] World!\")"
   ],
   "metadata": {
    "collapsed": false,
    "pycharm": {
     "name": "#%%\n"
    }
   }
  },
  {
   "cell_type": "code",
   "execution_count": 13,
   "outputs": [
    {
     "data": {
      "text/plain": "\u001B[1m[\u001B[0m\u001B[32m'Rich and pretty'\u001B[0m, \u001B[3;92mTrue\u001B[0m\u001B[1m]\u001B[0m\n",
      "text/html": "<pre style=\"white-space:pre;overflow-x:auto;line-height:normal;font-family:Menlo,'DejaVu Sans Mono',consolas,'Courier New',monospace\"><span style=\"font-weight: bold\">[</span><span style=\"color: #008000; text-decoration-color: #008000\">'Rich and pretty'</span>, <span style=\"color: #00ff00; text-decoration-color: #00ff00; font-style: italic\">True</span><span style=\"font-weight: bold\">]</span>\n</pre>\n"
     },
     "metadata": {},
     "output_type": "display_data"
    }
   ],
   "source": [
    "pretty.install()\n",
    "rprint([\"Rich and pretty\", True])"
   ],
   "metadata": {
    "collapsed": false,
    "pycharm": {
     "name": "#%%\n"
    }
   }
  },
  {
   "cell_type": "code",
   "execution_count": 15,
   "outputs": [
    {
     "data": {
      "text/plain": "\u001B[31m╭─────────────────╮\u001B[0m\n\u001B[31m│\u001B[0m \u001B[1;33mHi, I'm a Panel\u001B[0m \u001B[31m│\u001B[0m\n\u001B[31m╰─────────────────╯\u001B[0m\n",
      "text/html": "<pre style=\"white-space:pre;overflow-x:auto;line-height:normal;font-family:Menlo,'DejaVu Sans Mono',consolas,'Courier New',monospace\"><span style=\"color: #800000; text-decoration-color: #800000\">╭─────────────────╮</span>\n<span style=\"color: #800000; text-decoration-color: #800000\">│</span> <span style=\"color: #808000; text-decoration-color: #808000; font-weight: bold\">Hi, I'm a Panel</span> <span style=\"color: #800000; text-decoration-color: #800000\">│</span>\n<span style=\"color: #800000; text-decoration-color: #800000\">╰─────────────────╯</span>\n</pre>\n"
     },
     "execution_count": 15,
     "metadata": {},
     "output_type": "execute_result"
    }
   ],
   "source": [
    "Panel.fit(\"[bold yellow]Hi, I'm a Panel\", border_style=\"red\")"
   ],
   "metadata": {
    "collapsed": false,
    "pycharm": {
     "name": "#%%\n"
    }
   }
  },
  {
   "cell_type": "code",
   "execution_count": 19,
   "outputs": [
    {
     "data": {
      "text/plain": "\u001B[34m╭─\u001B[0m\u001B[34m────────────────────────────── \u001B[0m\u001B[1;34m<\u001B[0m\u001B[1;95mclass\u001B[0m\u001B[39m \u001B[0m\u001B[32m'rich.color.Color'\u001B[0m\u001B[1;34m>\u001B[0m\u001B[34m ───────────────────────────────\u001B[0m\u001B[34m─╮\u001B[0m\n\u001B[34m│\u001B[0m \u001B[36mTerminal color definition.\u001B[0m                                                                \u001B[34m│\u001B[0m\n\u001B[34m│\u001B[0m                                                                                           \u001B[34m│\u001B[0m\n\u001B[34m│\u001B[0m \u001B[32m╭───────────────────────────────────────────────────────────────────────────────────────╮\u001B[0m \u001B[34m│\u001B[0m\n\u001B[34m│\u001B[0m \u001B[32m│\u001B[0m \u001B[1;35mColor\u001B[0m\u001B[1m(\u001B[0m\u001B[32m'red'\u001B[0m, ColorType.STANDARD, \u001B[33mnumber\u001B[0m=\u001B[1;36m1\u001B[0m\u001B[1m)\u001B[0m                                            \u001B[32m│\u001B[0m \u001B[34m│\u001B[0m\n\u001B[34m│\u001B[0m \u001B[32m╰───────────────────────────────────────────────────────────────────────────────────────╯\u001B[0m \u001B[34m│\u001B[0m\n\u001B[34m│\u001B[0m                                                                                           \u001B[34m│\u001B[0m\n\u001B[34m│\u001B[0m        \u001B[3;33mis_default\u001B[0m = \u001B[3;91mFalse\u001B[0m                                                                 \u001B[34m│\u001B[0m\n\u001B[34m│\u001B[0m \u001B[3;33mis_system_defined\u001B[0m = \u001B[3;92mTrue\u001B[0m                                                                  \u001B[34m│\u001B[0m\n\u001B[34m│\u001B[0m              \u001B[3;33mname\u001B[0m = \u001B[32m'red'\u001B[0m                                                                 \u001B[34m│\u001B[0m\n\u001B[34m│\u001B[0m            \u001B[3;33mnumber\u001B[0m = \u001B[1;36m1\u001B[0m                                                                     \u001B[34m│\u001B[0m\n\u001B[34m│\u001B[0m            \u001B[3;33msystem\u001B[0m = ColorSystem.STANDARD                                                  \u001B[34m│\u001B[0m\n\u001B[34m│\u001B[0m           \u001B[3;33mtriplet\u001B[0m = \u001B[3;35mNone\u001B[0m                                                                  \u001B[34m│\u001B[0m\n\u001B[34m│\u001B[0m              \u001B[3;33mtype\u001B[0m = ColorType.STANDARD                                                    \u001B[34m│\u001B[0m\n\u001B[34m│\u001B[0m             \u001B[3;33mcount\u001B[0m = \u001B[3;96mdef \u001B[0m\u001B[1;31mcount\u001B[0m\u001B[1m(\u001B[0mvalue, \u001B[35m/\u001B[0m\u001B[1m)\u001B[0m: \u001B[2mReturn number of occurrences of value.\u001B[0m           \u001B[34m│\u001B[0m\n\u001B[34m│\u001B[0m           \u001B[3;33mdefault\u001B[0m = \u001B[3;96mdef \u001B[0m\u001B[1;31mdefault\u001B[0m\u001B[1m(\u001B[0m\u001B[1m)\u001B[0m -> \u001B[32m'Color'\u001B[0m: \u001B[2mGet a Color instance representing the \u001B[0m      \u001B[34m│\u001B[0m\n\u001B[34m│\u001B[0m                     \u001B[2mdefault color.\u001B[0m                                                        \u001B[34m│\u001B[0m\n\u001B[34m│\u001B[0m         \u001B[3;33mdowngrade\u001B[0m = \u001B[3;96mdef \u001B[0m\u001B[1;31mdowngrade\u001B[0m\u001B[1m(\u001B[0msystem: rich.color.ColorSystem\u001B[1m)\u001B[0m -> \u001B[32m'Color'\u001B[0m: \u001B[2mDowngrade a\u001B[0m \u001B[34m│\u001B[0m\n\u001B[34m│\u001B[0m                     \u001B[2mcolor system to a system with fewer colors.\u001B[0m                           \u001B[34m│\u001B[0m\n\u001B[34m│\u001B[0m         \u001B[3;33mfrom_ansi\u001B[0m = \u001B[3;96mdef \u001B[0m\u001B[1;31mfrom_ansi\u001B[0m\u001B[1m(\u001B[0mnumber: int\u001B[1m)\u001B[0m -> \u001B[32m'Color'\u001B[0m: \u001B[2mCreate a Color number from \u001B[0m    \u001B[34m│\u001B[0m\n\u001B[34m│\u001B[0m                     \u001B[2mit's \u001B[0m\u001B[1;2;36m8\u001B[0m\u001B[2m-bit ansi number.\u001B[0m                                               \u001B[34m│\u001B[0m\n\u001B[34m│\u001B[0m          \u001B[3;33mfrom_rgb\u001B[0m = \u001B[3;96mdef \u001B[0m\u001B[1;31mfrom_rgb\u001B[0m\u001B[1m(\u001B[0mred: float, green: float, blue: float\u001B[1m)\u001B[0m -> \u001B[32m'Color'\u001B[0m:       \u001B[34m│\u001B[0m\n\u001B[34m│\u001B[0m                     \u001B[2mCreate a truecolor from three color components in the \u001B[0m\u001B[1;2;35mrange\u001B[0m\u001B[1;2m(\u001B[0m\u001B[1;2;36m0\u001B[0m\u001B[2m->\u001B[0m\u001B[1;2;36m255\u001B[0m\u001B[1;2m)\u001B[0m\u001B[2m.\u001B[0m  \u001B[34m│\u001B[0m\n\u001B[34m│\u001B[0m      \u001B[3;33mfrom_triplet\u001B[0m = \u001B[3;96mdef \u001B[0m\u001B[1;31mfrom_triplet\u001B[0m\u001B[1m(\u001B[0mtriplet: \u001B[32m'ColorTriplet'\u001B[0m\u001B[1m)\u001B[0m -> \u001B[32m'Color'\u001B[0m: \u001B[2mCreate a \u001B[0m       \u001B[34m│\u001B[0m\n\u001B[34m│\u001B[0m                     \u001B[2mtruecolor RGB color from a triplet of values.\u001B[0m                         \u001B[34m│\u001B[0m\n\u001B[34m│\u001B[0m    \u001B[3;33mget_ansi_codes\u001B[0m = \u001B[3;96mdef \u001B[0m\u001B[1;31mget_ansi_codes\u001B[0m\u001B[1m(\u001B[0mforeground: bool = \u001B[3;92mTrue\u001B[0m\u001B[1m)\u001B[0m -> Tuple\u001B[1m[\u001B[0mstr, \u001B[33m...\u001B[0m\u001B[1m]\u001B[0m: \u001B[2mGet \u001B[0m  \u001B[34m│\u001B[0m\n\u001B[34m│\u001B[0m                     \u001B[2mthe ANSI escape codes for this color.\u001B[0m                                 \u001B[34m│\u001B[0m\n\u001B[34m│\u001B[0m     \u001B[3;33mget_truecolor\u001B[0m = \u001B[3;96mdef \u001B[0m\u001B[1;31mget_truecolor\u001B[0m\u001B[1m(\u001B[0mtheme: Union\u001B[1m[\u001B[0m\u001B[1;35mForwardRef\u001B[0m\u001B[1m(\u001B[0m\u001B[32m'TerminalTheme'\u001B[0m\u001B[1m)\u001B[0m, NoneType\u001B[1m]\u001B[0m \u001B[34m│\u001B[0m\n\u001B[34m│\u001B[0m                     = \u001B[3;35mNone\u001B[0m, foreground: bool = \u001B[3;92mTrue\u001B[0m\u001B[1m)\u001B[0m -> rich.color_triplet.ColorTriplet:  \u001B[34m│\u001B[0m\n\u001B[34m│\u001B[0m                     \u001B[2mGet an equivalent color triplet for this color.\u001B[0m                       \u001B[34m│\u001B[0m\n\u001B[34m│\u001B[0m             \u001B[3;33mindex\u001B[0m = \u001B[3;96mdef \u001B[0m\u001B[1;31mindex\u001B[0m\u001B[1m(\u001B[0mvalue, \u001B[33mstart\u001B[0m=\u001B[1;36m0\u001B[0m, \u001B[33mstop\u001B[0m=\u001B[1;36m9223372036854775807\u001B[0m, \u001B[35m/\u001B[0m\u001B[1m)\u001B[0m: \u001B[2mReturn first \u001B[0m \u001B[34m│\u001B[0m\n\u001B[34m│\u001B[0m                     \u001B[2mindex of value.\u001B[0m                                                       \u001B[34m│\u001B[0m\n\u001B[34m│\u001B[0m             \u001B[3;33mparse\u001B[0m = \u001B[3;96mdef \u001B[0m\u001B[1;31mparse\u001B[0m\u001B[1m(\u001B[0mcolor: str\u001B[1m)\u001B[0m -> \u001B[32m'Color'\u001B[0m: \u001B[2mParse a color definition.\u001B[0m           \u001B[34m│\u001B[0m\n\u001B[34m╰───────────────────────────────────────────────────────────────────────────────────────────╯\u001B[0m\n",
      "text/html": "<pre style=\"white-space:pre;overflow-x:auto;line-height:normal;font-family:Menlo,'DejaVu Sans Mono',consolas,'Courier New',monospace\"><span style=\"color: #000080; text-decoration-color: #000080\">╭─────────────────────────────── </span><span style=\"color: #000080; text-decoration-color: #000080; font-weight: bold\">&lt;</span><span style=\"color: #ff00ff; text-decoration-color: #ff00ff; font-weight: bold\">class</span><span style=\"color: #000000; text-decoration-color: #000000\"> </span><span style=\"color: #008000; text-decoration-color: #008000\">'rich.color.Color'</span><span style=\"color: #000080; text-decoration-color: #000080; font-weight: bold\">&gt;</span><span style=\"color: #000080; text-decoration-color: #000080\"> ────────────────────────────────╮</span>\n<span style=\"color: #000080; text-decoration-color: #000080\">│</span> <span style=\"color: #008080; text-decoration-color: #008080\">Terminal color definition.</span>                                                                <span style=\"color: #000080; text-decoration-color: #000080\">│</span>\n<span style=\"color: #000080; text-decoration-color: #000080\">│</span>                                                                                           <span style=\"color: #000080; text-decoration-color: #000080\">│</span>\n<span style=\"color: #000080; text-decoration-color: #000080\">│</span> <span style=\"color: #008000; text-decoration-color: #008000\">╭───────────────────────────────────────────────────────────────────────────────────────╮</span> <span style=\"color: #000080; text-decoration-color: #000080\">│</span>\n<span style=\"color: #000080; text-decoration-color: #000080\">│</span> <span style=\"color: #008000; text-decoration-color: #008000\">│</span> <span style=\"color: #800080; text-decoration-color: #800080; font-weight: bold\">Color</span><span style=\"font-weight: bold\">(</span><span style=\"color: #008000; text-decoration-color: #008000\">'red'</span>, ColorType.STANDARD, <span style=\"color: #808000; text-decoration-color: #808000\">number</span>=<span style=\"color: #008080; text-decoration-color: #008080; font-weight: bold\">1</span><span style=\"font-weight: bold\">)</span>                                            <span style=\"color: #008000; text-decoration-color: #008000\">│</span> <span style=\"color: #000080; text-decoration-color: #000080\">│</span>\n<span style=\"color: #000080; text-decoration-color: #000080\">│</span> <span style=\"color: #008000; text-decoration-color: #008000\">╰───────────────────────────────────────────────────────────────────────────────────────╯</span> <span style=\"color: #000080; text-decoration-color: #000080\">│</span>\n<span style=\"color: #000080; text-decoration-color: #000080\">│</span>                                                                                           <span style=\"color: #000080; text-decoration-color: #000080\">│</span>\n<span style=\"color: #000080; text-decoration-color: #000080\">│</span>        <span style=\"color: #808000; text-decoration-color: #808000; font-style: italic\">is_default</span> = <span style=\"color: #ff0000; text-decoration-color: #ff0000; font-style: italic\">False</span>                                                                 <span style=\"color: #000080; text-decoration-color: #000080\">│</span>\n<span style=\"color: #000080; text-decoration-color: #000080\">│</span> <span style=\"color: #808000; text-decoration-color: #808000; font-style: italic\">is_system_defined</span> = <span style=\"color: #00ff00; text-decoration-color: #00ff00; font-style: italic\">True</span>                                                                  <span style=\"color: #000080; text-decoration-color: #000080\">│</span>\n<span style=\"color: #000080; text-decoration-color: #000080\">│</span>              <span style=\"color: #808000; text-decoration-color: #808000; font-style: italic\">name</span> = <span style=\"color: #008000; text-decoration-color: #008000\">'red'</span>                                                                 <span style=\"color: #000080; text-decoration-color: #000080\">│</span>\n<span style=\"color: #000080; text-decoration-color: #000080\">│</span>            <span style=\"color: #808000; text-decoration-color: #808000; font-style: italic\">number</span> = <span style=\"color: #008080; text-decoration-color: #008080; font-weight: bold\">1</span>                                                                     <span style=\"color: #000080; text-decoration-color: #000080\">│</span>\n<span style=\"color: #000080; text-decoration-color: #000080\">│</span>            <span style=\"color: #808000; text-decoration-color: #808000; font-style: italic\">system</span> = ColorSystem.STANDARD                                                  <span style=\"color: #000080; text-decoration-color: #000080\">│</span>\n<span style=\"color: #000080; text-decoration-color: #000080\">│</span>           <span style=\"color: #808000; text-decoration-color: #808000; font-style: italic\">triplet</span> = <span style=\"color: #800080; text-decoration-color: #800080; font-style: italic\">None</span>                                                                  <span style=\"color: #000080; text-decoration-color: #000080\">│</span>\n<span style=\"color: #000080; text-decoration-color: #000080\">│</span>              <span style=\"color: #808000; text-decoration-color: #808000; font-style: italic\">type</span> = ColorType.STANDARD                                                    <span style=\"color: #000080; text-decoration-color: #000080\">│</span>\n<span style=\"color: #000080; text-decoration-color: #000080\">│</span>             <span style=\"color: #808000; text-decoration-color: #808000; font-style: italic\">count</span> = <span style=\"color: #00ffff; text-decoration-color: #00ffff; font-style: italic\">def </span><span style=\"color: #800000; text-decoration-color: #800000; font-weight: bold\">count</span><span style=\"font-weight: bold\">(</span>value, <span style=\"color: #800080; text-decoration-color: #800080\">/</span><span style=\"font-weight: bold\">)</span>: <span style=\"color: #7f7f7f; text-decoration-color: #7f7f7f\">Return number of occurrences of value.</span>           <span style=\"color: #000080; text-decoration-color: #000080\">│</span>\n<span style=\"color: #000080; text-decoration-color: #000080\">│</span>           <span style=\"color: #808000; text-decoration-color: #808000; font-style: italic\">default</span> = <span style=\"color: #00ffff; text-decoration-color: #00ffff; font-style: italic\">def </span><span style=\"color: #800000; text-decoration-color: #800000; font-weight: bold\">default</span><span style=\"font-weight: bold\">()</span> -&gt; <span style=\"color: #008000; text-decoration-color: #008000\">'Color'</span>: <span style=\"color: #7f7f7f; text-decoration-color: #7f7f7f\">Get a Color instance representing the </span>      <span style=\"color: #000080; text-decoration-color: #000080\">│</span>\n<span style=\"color: #000080; text-decoration-color: #000080\">│</span>                     <span style=\"color: #7f7f7f; text-decoration-color: #7f7f7f\">default color.</span>                                                        <span style=\"color: #000080; text-decoration-color: #000080\">│</span>\n<span style=\"color: #000080; text-decoration-color: #000080\">│</span>         <span style=\"color: #808000; text-decoration-color: #808000; font-style: italic\">downgrade</span> = <span style=\"color: #00ffff; text-decoration-color: #00ffff; font-style: italic\">def </span><span style=\"color: #800000; text-decoration-color: #800000; font-weight: bold\">downgrade</span><span style=\"font-weight: bold\">(</span>system: rich.color.ColorSystem<span style=\"font-weight: bold\">)</span> -&gt; <span style=\"color: #008000; text-decoration-color: #008000\">'Color'</span>: <span style=\"color: #7f7f7f; text-decoration-color: #7f7f7f\">Downgrade a</span> <span style=\"color: #000080; text-decoration-color: #000080\">│</span>\n<span style=\"color: #000080; text-decoration-color: #000080\">│</span>                     <span style=\"color: #7f7f7f; text-decoration-color: #7f7f7f\">color system to a system with fewer colors.</span>                           <span style=\"color: #000080; text-decoration-color: #000080\">│</span>\n<span style=\"color: #000080; text-decoration-color: #000080\">│</span>         <span style=\"color: #808000; text-decoration-color: #808000; font-style: italic\">from_ansi</span> = <span style=\"color: #00ffff; text-decoration-color: #00ffff; font-style: italic\">def </span><span style=\"color: #800000; text-decoration-color: #800000; font-weight: bold\">from_ansi</span><span style=\"font-weight: bold\">(</span>number: int<span style=\"font-weight: bold\">)</span> -&gt; <span style=\"color: #008000; text-decoration-color: #008000\">'Color'</span>: <span style=\"color: #7f7f7f; text-decoration-color: #7f7f7f\">Create a Color number from </span>    <span style=\"color: #000080; text-decoration-color: #000080\">│</span>\n<span style=\"color: #000080; text-decoration-color: #000080\">│</span>                     <span style=\"color: #7f7f7f; text-decoration-color: #7f7f7f\">it's </span><span style=\"color: #7fbfbf; text-decoration-color: #7fbfbf; font-weight: bold\">8</span><span style=\"color: #7f7f7f; text-decoration-color: #7f7f7f\">-bit ansi number.</span>                                               <span style=\"color: #000080; text-decoration-color: #000080\">│</span>\n<span style=\"color: #000080; text-decoration-color: #000080\">│</span>          <span style=\"color: #808000; text-decoration-color: #808000; font-style: italic\">from_rgb</span> = <span style=\"color: #00ffff; text-decoration-color: #00ffff; font-style: italic\">def </span><span style=\"color: #800000; text-decoration-color: #800000; font-weight: bold\">from_rgb</span><span style=\"font-weight: bold\">(</span>red: float, green: float, blue: float<span style=\"font-weight: bold\">)</span> -&gt; <span style=\"color: #008000; text-decoration-color: #008000\">'Color'</span>:       <span style=\"color: #000080; text-decoration-color: #000080\">│</span>\n<span style=\"color: #000080; text-decoration-color: #000080\">│</span>                     <span style=\"color: #7f7f7f; text-decoration-color: #7f7f7f\">Create a truecolor from three color components in the </span><span style=\"color: #bf7fbf; text-decoration-color: #bf7fbf; font-weight: bold\">range</span><span style=\"color: #7f7f7f; text-decoration-color: #7f7f7f; font-weight: bold\">(</span><span style=\"color: #7fbfbf; text-decoration-color: #7fbfbf; font-weight: bold\">0</span><span style=\"color: #7f7f7f; text-decoration-color: #7f7f7f\">-&gt;</span><span style=\"color: #7fbfbf; text-decoration-color: #7fbfbf; font-weight: bold\">255</span><span style=\"color: #7f7f7f; text-decoration-color: #7f7f7f; font-weight: bold\">)</span><span style=\"color: #7f7f7f; text-decoration-color: #7f7f7f\">.</span>  <span style=\"color: #000080; text-decoration-color: #000080\">│</span>\n<span style=\"color: #000080; text-decoration-color: #000080\">│</span>      <span style=\"color: #808000; text-decoration-color: #808000; font-style: italic\">from_triplet</span> = <span style=\"color: #00ffff; text-decoration-color: #00ffff; font-style: italic\">def </span><span style=\"color: #800000; text-decoration-color: #800000; font-weight: bold\">from_triplet</span><span style=\"font-weight: bold\">(</span>triplet: <span style=\"color: #008000; text-decoration-color: #008000\">'ColorTriplet'</span><span style=\"font-weight: bold\">)</span> -&gt; <span style=\"color: #008000; text-decoration-color: #008000\">'Color'</span>: <span style=\"color: #7f7f7f; text-decoration-color: #7f7f7f\">Create a </span>       <span style=\"color: #000080; text-decoration-color: #000080\">│</span>\n<span style=\"color: #000080; text-decoration-color: #000080\">│</span>                     <span style=\"color: #7f7f7f; text-decoration-color: #7f7f7f\">truecolor RGB color from a triplet of values.</span>                         <span style=\"color: #000080; text-decoration-color: #000080\">│</span>\n<span style=\"color: #000080; text-decoration-color: #000080\">│</span>    <span style=\"color: #808000; text-decoration-color: #808000; font-style: italic\">get_ansi_codes</span> = <span style=\"color: #00ffff; text-decoration-color: #00ffff; font-style: italic\">def </span><span style=\"color: #800000; text-decoration-color: #800000; font-weight: bold\">get_ansi_codes</span><span style=\"font-weight: bold\">(</span>foreground: bool = <span style=\"color: #00ff00; text-decoration-color: #00ff00; font-style: italic\">True</span><span style=\"font-weight: bold\">)</span> -&gt; Tuple<span style=\"font-weight: bold\">[</span>str, <span style=\"color: #808000; text-decoration-color: #808000\">...</span><span style=\"font-weight: bold\">]</span>: <span style=\"color: #7f7f7f; text-decoration-color: #7f7f7f\">Get </span>  <span style=\"color: #000080; text-decoration-color: #000080\">│</span>\n<span style=\"color: #000080; text-decoration-color: #000080\">│</span>                     <span style=\"color: #7f7f7f; text-decoration-color: #7f7f7f\">the ANSI escape codes for this color.</span>                                 <span style=\"color: #000080; text-decoration-color: #000080\">│</span>\n<span style=\"color: #000080; text-decoration-color: #000080\">│</span>     <span style=\"color: #808000; text-decoration-color: #808000; font-style: italic\">get_truecolor</span> = <span style=\"color: #00ffff; text-decoration-color: #00ffff; font-style: italic\">def </span><span style=\"color: #800000; text-decoration-color: #800000; font-weight: bold\">get_truecolor</span><span style=\"font-weight: bold\">(</span>theme: Union<span style=\"font-weight: bold\">[</span><span style=\"color: #800080; text-decoration-color: #800080; font-weight: bold\">ForwardRef</span><span style=\"font-weight: bold\">(</span><span style=\"color: #008000; text-decoration-color: #008000\">'TerminalTheme'</span><span style=\"font-weight: bold\">)</span>, NoneType<span style=\"font-weight: bold\">]</span> <span style=\"color: #000080; text-decoration-color: #000080\">│</span>\n<span style=\"color: #000080; text-decoration-color: #000080\">│</span>                     = <span style=\"color: #800080; text-decoration-color: #800080; font-style: italic\">None</span>, foreground: bool = <span style=\"color: #00ff00; text-decoration-color: #00ff00; font-style: italic\">True</span><span style=\"font-weight: bold\">)</span> -&gt; rich.color_triplet.ColorTriplet:  <span style=\"color: #000080; text-decoration-color: #000080\">│</span>\n<span style=\"color: #000080; text-decoration-color: #000080\">│</span>                     <span style=\"color: #7f7f7f; text-decoration-color: #7f7f7f\">Get an equivalent color triplet for this color.</span>                       <span style=\"color: #000080; text-decoration-color: #000080\">│</span>\n<span style=\"color: #000080; text-decoration-color: #000080\">│</span>             <span style=\"color: #808000; text-decoration-color: #808000; font-style: italic\">index</span> = <span style=\"color: #00ffff; text-decoration-color: #00ffff; font-style: italic\">def </span><span style=\"color: #800000; text-decoration-color: #800000; font-weight: bold\">index</span><span style=\"font-weight: bold\">(</span>value, <span style=\"color: #808000; text-decoration-color: #808000\">start</span>=<span style=\"color: #008080; text-decoration-color: #008080; font-weight: bold\">0</span>, <span style=\"color: #808000; text-decoration-color: #808000\">stop</span>=<span style=\"color: #008080; text-decoration-color: #008080; font-weight: bold\">9223372036854775807</span>, <span style=\"color: #800080; text-decoration-color: #800080\">/</span><span style=\"font-weight: bold\">)</span>: <span style=\"color: #7f7f7f; text-decoration-color: #7f7f7f\">Return first </span> <span style=\"color: #000080; text-decoration-color: #000080\">│</span>\n<span style=\"color: #000080; text-decoration-color: #000080\">│</span>                     <span style=\"color: #7f7f7f; text-decoration-color: #7f7f7f\">index of value.</span>                                                       <span style=\"color: #000080; text-decoration-color: #000080\">│</span>\n<span style=\"color: #000080; text-decoration-color: #000080\">│</span>             <span style=\"color: #808000; text-decoration-color: #808000; font-style: italic\">parse</span> = <span style=\"color: #00ffff; text-decoration-color: #00ffff; font-style: italic\">def </span><span style=\"color: #800000; text-decoration-color: #800000; font-weight: bold\">parse</span><span style=\"font-weight: bold\">(</span>color: str<span style=\"font-weight: bold\">)</span> -&gt; <span style=\"color: #008000; text-decoration-color: #008000\">'Color'</span>: <span style=\"color: #7f7f7f; text-decoration-color: #7f7f7f\">Parse a color definition.</span>           <span style=\"color: #000080; text-decoration-color: #000080\">│</span>\n<span style=\"color: #000080; text-decoration-color: #000080\">╰───────────────────────────────────────────────────────────────────────────────────────────╯</span>\n</pre>\n"
     },
     "metadata": {},
     "output_type": "display_data"
    }
   ],
   "source": [
    "color = Color.parse(\"red\")\n",
    "inspect(color, methods=True)"
   ],
   "metadata": {
    "collapsed": false,
    "pycharm": {
     "name": "#%%\n"
    }
   }
  },
  {
   "cell_type": "markdown",
   "source": [
    "## Console API\n",
    "\n",
    "- [Console API](https://rich.readthedocs.io/en/stable/console.html)"
   ],
   "metadata": {
    "collapsed": false,
    "pycharm": {
     "name": "#%% md\n"
    }
   }
  },
  {
   "cell_type": "code",
   "execution_count": 35,
   "outputs": [],
   "source": [
    "console = Console(\n",
    "    log_time_format=\"[%Y-%m-%d %H:%M:%S]\"\n",
    ")"
   ],
   "metadata": {
    "collapsed": false,
    "pycharm": {
     "name": "#%%\n"
    }
   }
  },
  {
   "cell_type": "markdown",
   "source": [
    "### Printing"
   ],
   "metadata": {
    "collapsed": false,
    "pycharm": {
     "name": "#%% md\n"
    }
   }
  },
  {
   "cell_type": "code",
   "execution_count": 36,
   "outputs": [
    {
     "data": {
      "text/plain": "\u001B[1m[\u001B[0m\u001B[1;36m1\u001B[0m, \u001B[1;36m2\u001B[0m, \u001B[1;36m3\u001B[0m\u001B[1m]\u001B[0m\n",
      "text/html": "<pre style=\"white-space:pre;overflow-x:auto;line-height:normal;font-family:Menlo,'DejaVu Sans Mono',consolas,'Courier New',monospace\"><span style=\"font-weight: bold\">[</span><span style=\"color: #008080; text-decoration-color: #008080; font-weight: bold\">1</span>, <span style=\"color: #008080; text-decoration-color: #008080; font-weight: bold\">2</span>, <span style=\"color: #008080; text-decoration-color: #008080; font-weight: bold\">3</span><span style=\"font-weight: bold\">]</span>\n</pre>\n"
     },
     "metadata": {},
     "output_type": "display_data"
    }
   ],
   "source": [
    "console.print([1, 2, 3])"
   ],
   "metadata": {
    "collapsed": false,
    "pycharm": {
     "name": "#%%\n"
    }
   }
  },
  {
   "cell_type": "code",
   "execution_count": 37,
   "outputs": [
    {
     "data": {
      "text/plain": "\u001B[4;34mLooks like a link\u001B[0m\n",
      "text/html": "<pre style=\"white-space:pre;overflow-x:auto;line-height:normal;font-family:Menlo,'DejaVu Sans Mono',consolas,'Courier New',monospace\"><span style=\"color: #000080; text-decoration-color: #000080; text-decoration: underline\">Looks like a link</span>\n</pre>\n"
     },
     "metadata": {},
     "output_type": "display_data"
    }
   ],
   "source": [
    "console.print(\"[blue underline]Looks like a link\")"
   ],
   "metadata": {
    "collapsed": false,
    "pycharm": {
     "name": "#%%\n"
    }
   }
  },
  {
   "cell_type": "code",
   "execution_count": 38,
   "outputs": [
    {
     "data": {
      "text/plain": "\u001B[1m{\u001B[0m\u001B[32m'a'\u001B[0m: \u001B[1;36m1\u001B[0m, \u001B[32m'b'\u001B[0m: \u001B[1;36m2\u001B[0m, \u001B[32m'c'\u001B[0m: \u001B[1;36m3\u001B[0m\u001B[1m}\u001B[0m\n",
      "text/html": "<pre style=\"white-space:pre;overflow-x:auto;line-height:normal;font-family:Menlo,'DejaVu Sans Mono',consolas,'Courier New',monospace\"><span style=\"font-weight: bold\">{</span><span style=\"color: #008000; text-decoration-color: #008000\">'a'</span>: <span style=\"color: #008080; text-decoration-color: #008080; font-weight: bold\">1</span>, <span style=\"color: #008000; text-decoration-color: #008000\">'b'</span>: <span style=\"color: #008080; text-decoration-color: #008080; font-weight: bold\">2</span>, <span style=\"color: #008000; text-decoration-color: #008000\">'c'</span>: <span style=\"color: #008080; text-decoration-color: #008080; font-weight: bold\">3</span><span style=\"font-weight: bold\">}</span>\n</pre>\n"
     },
     "metadata": {},
     "output_type": "display_data"
    }
   ],
   "source": [
    "console.print(dict(a=1, b=2, c=3))"
   ],
   "metadata": {
    "collapsed": false,
    "pycharm": {
     "name": "#%%\n"
    }
   }
  },
  {
   "cell_type": "code",
   "execution_count": 39,
   "outputs": [
    {
     "data": {
      "text/plain": "\u001B[37;44mFOO\u001B[0m\n",
      "text/html": "<pre style=\"white-space:pre;overflow-x:auto;line-height:normal;font-family:Menlo,'DejaVu Sans Mono',consolas,'Courier New',monospace\"><span style=\"color: #c0c0c0; text-decoration-color: #c0c0c0; background-color: #000080\">FOO</span>\n</pre>\n"
     },
     "metadata": {},
     "output_type": "display_data"
    }
   ],
   "source": [
    "console.print(\"FOO\", style=\"white on blue\")"
   ],
   "metadata": {
    "collapsed": false,
    "pycharm": {
     "name": "#%%\n"
    }
   }
  },
  {
   "cell_type": "markdown",
   "source": [
    "### Logging"
   ],
   "metadata": {
    "collapsed": false,
    "pycharm": {
     "name": "#%% md\n"
    }
   }
  },
  {
   "cell_type": "code",
   "execution_count": 40,
   "outputs": [
    {
     "data": {
      "text/plain": "\u001B[2;36m[2022-12-14 21:54:38]\u001B[0m\u001B[2;36m \u001B[0mHello, World!                                           \u001B]8;id=267019;file:///var/folders/bb/vd34dgxj361gcbkgvmk8_8cw0000gs/T/ipykernel_72907/4034592986.py\u001B\\\u001B[2m4034592986.py\u001B[0m\u001B]8;;\u001B\\\u001B[2m:\u001B[0m\u001B]8;id=961199;file:///var/folders/bb/vd34dgxj361gcbkgvmk8_8cw0000gs/T/ipykernel_72907/4034592986.py#1\u001B\\\u001B[2m1\u001B[0m\u001B]8;;\u001B\\\n",
      "text/html": "<pre style=\"white-space:pre;overflow-x:auto;line-height:normal;font-family:Menlo,'DejaVu Sans Mono',consolas,'Courier New',monospace\"><span style=\"color: #7fbfbf; text-decoration-color: #7fbfbf\">[2022-12-14 21:54:38] </span>Hello, World!                                           <a href=\"file:///var/folders/bb/vd34dgxj361gcbkgvmk8_8cw0000gs/T/ipykernel_72907/4034592986.py\" target=\"_blank\"><span style=\"color: #7f7f7f; text-decoration-color: #7f7f7f\">4034592986.py</span></a><span style=\"color: #7f7f7f; text-decoration-color: #7f7f7f\">:</span><a href=\"file:///var/folders/bb/vd34dgxj361gcbkgvmk8_8cw0000gs/T/ipykernel_72907/4034592986.py#1\" target=\"_blank\"><span style=\"color: #7f7f7f; text-decoration-color: #7f7f7f\">1</span></a>\n</pre>\n"
     },
     "metadata": {},
     "output_type": "display_data"
    }
   ],
   "source": [
    "console.log(\"Hello, World!\")"
   ],
   "metadata": {
    "collapsed": false,
    "pycharm": {
     "name": "#%%\n"
    }
   }
  },
  {
   "cell_type": "markdown",
   "source": [
    "### Print JSON"
   ],
   "metadata": {
    "collapsed": false,
    "pycharm": {
     "name": "#%% md\n"
    }
   }
  },
  {
   "cell_type": "code",
   "execution_count": 41,
   "outputs": [
    {
     "data": {
      "text/plain": "\u001B[1m[\u001B[0m\n  \u001B[3;91mfalse\u001B[0m,\n  \u001B[3;92mtrue\u001B[0m,\n  \u001B[3;35mnull\u001B[0m,\n  \u001B[32m\"foo\"\u001B[0m\n\u001B[1m]\u001B[0m\n",
      "text/html": "<pre style=\"white-space:pre;overflow-x:auto;line-height:normal;font-family:Menlo,'DejaVu Sans Mono',consolas,'Courier New',monospace\"><span style=\"font-weight: bold\">[</span>\n  <span style=\"color: #ff0000; text-decoration-color: #ff0000; font-style: italic\">false</span>,\n  <span style=\"color: #00ff00; text-decoration-color: #00ff00; font-style: italic\">true</span>,\n  <span style=\"color: #800080; text-decoration-color: #800080; font-style: italic\">null</span>,\n  <span style=\"color: #008000; text-decoration-color: #008000\">\"foo\"</span>\n<span style=\"font-weight: bold\">]</span>\n</pre>\n"
     },
     "metadata": {},
     "output_type": "display_data"
    }
   ],
   "source": [
    "console.print_json('[false, true, null, \"foo\"]')"
   ],
   "metadata": {
    "collapsed": false,
    "pycharm": {
     "name": "#%%\n"
    }
   }
  },
  {
   "cell_type": "code",
   "execution_count": 44,
   "outputs": [
    {
     "data": {
      "text/plain": "\u001B[1m[\u001B[0m\n  \u001B[32m\"foo\"\u001B[0m,\n  \u001B[32m\"bar\"\u001B[0m\n\u001B[1m]\u001B[0m\n",
      "text/html": "<pre style=\"white-space:pre;overflow-x:auto;line-height:normal;font-family:Menlo,'DejaVu Sans Mono',consolas,'Courier New',monospace\"><span style=\"font-weight: bold\">[</span>\n  <span style=\"color: #008000; text-decoration-color: #008000\">\"foo\"</span>,\n  <span style=\"color: #008000; text-decoration-color: #008000\">\"bar\"</span>\n<span style=\"font-weight: bold\">]</span>\n</pre>\n"
     },
     "metadata": {},
     "output_type": "display_data"
    }
   ],
   "source": [
    "console.print(JSON('[\"foo\", \"bar\"]'))"
   ],
   "metadata": {
    "collapsed": false,
    "pycharm": {
     "name": "#%%\n"
    }
   }
  },
  {
   "cell_type": "markdown",
   "source": [
    "### Low level output"
   ],
   "metadata": {
    "collapsed": false,
    "pycharm": {
     "name": "#%% md\n"
    }
   }
  },
  {
   "cell_type": "code",
   "execution_count": 45,
   "outputs": [
    {
     "data": {
      "text/plain": "Locals \u001B[1m{\u001B[0m\u001B[32m'__name__'\u001B[0m: \u001B[32m'__main__'\u001B[0m, \u001B[32m'__doc__'\u001B[0m: \u001B[32m'Automatically created module for IPython interactive environment'\u001B[0m, \u001B[32m'__package__'\u001B[0m: \u001B[3;35mNone\u001B[0m, \u001B[32m'__loader__'\u001B[0m: \u001B[3;35mNone\u001B[0m, \u001B[32m'__spec__'\u001B[0m: \u001B[3;35mNone\u001B[0m, \u001B[32m'__builtin__'\u001B[0m: \u001B[1m<\u001B[0m\u001B[1;95mmodule\u001B[0m\u001B[39m \u001B[0m\u001B[32m'builtins'\u001B[0m\u001B[39m \u001B[0m\u001B[1;39m(\u001B[0m\u001B[39mbuilt-in\u001B[0m\u001B[1;39m)\u001B[0m\u001B[1m>\u001B[0m, \u001B[32m'__builtins__'\u001B[0m: \u001B[1m<\u001B[0m\u001B[1;95mmodule\u001B[0m\u001B[39m \u001B[0m\u001B[32m'builtins'\u001B[0m\u001B[39m \u001B[0m\u001B[1;39m(\u001B[0m\u001B[39mbuilt-in\u001B[0m\u001B[1;39m)\u001B[0m\u001B[1m>\u001B[0m, \u001B[32m'_ih'\u001B[0m: \u001B[1m[\u001B[0m\u001B[32m''\u001B[0m, \u001B[32m'from rich import \u001B[0m\u001B[32m(\u001B[0m\u001B[32m\\n    print as rprint,\\n    Console,\\n\u001B[0m\u001B[32m)\u001B[0m\u001B[32m'\u001B[0m, \u001B[32m'locals'\u001B[0m, \u001B[32m'locals\u001B[0m\u001B[32m(\u001B[0m\u001B[32m)\u001B[0m\u001B[32m'\u001B[0m, \u001B[32m'rprint\u001B[0m\u001B[32m(\u001B[0m\u001B[32m\"\u001B[0m\u001B[32m[\u001B[0m\u001B[32mitalic red\u001B[0m\u001B[32m]\u001B[0m\u001B[32mHello\u001B[0m\u001B[32m[\u001B[0m\u001B[32m/italic red\u001B[0m\u001B[32m]\u001B[0m\u001B[32m World!\"\u001B[0m\u001B[32m)\u001B[0m\u001B[32m'\u001B[0m, \u001B[32m'from rich import \u001B[0m\u001B[32m(\u001B[0m\u001B[32m\\n    print as rprint,\\n    Console,\\n\u001B[0m\u001B[32m)\u001B[0m\u001B[32m'\u001B[0m, \u001B[32m'from rich import print as rprint\\nfrom rich.console import Console'\u001B[0m, \u001B[32m'rprint\u001B[0m\u001B[32m(\u001B[0m\u001B[32m\"\u001B[0m\u001B[32m[\u001B[0m\u001B[32mitalic red\u001B[0m\u001B[32m]\u001B[0m\u001B[32mHello\u001B[0m\u001B[32m[\u001B[0m\u001B[32m/italic red\u001B[0m\u001B[32m]\u001B[0m\u001B[32m World!\"\u001B[0m\u001B[32m)\u001B[0m\u001B[32m'\u001B[0m, \u001B[32m'from rich import print as rprint\\nfrom rich import pretty\\nfrom rich.console import Console'\u001B[0m, \u001B[32m'print\u001B[0m\u001B[32m(\u001B[0m\u001B[32m\"\u001B[0m\u001B[32m[\u001B[0m\u001B[32mitalic red\u001B[0m\u001B[32m]\u001B[0m\u001B[32mHello\u001B[0m\u001B[32m[\u001B[0m\u001B[32m/italic red\u001B[0m\u001B[32m]\u001B[0m\u001B[32m World!\"\u001B[0m\u001B[32m)\u001B[0m\u001B[32m'\u001B[0m, \u001B[32m'rprint\u001B[0m\u001B[32m(\u001B[0m\u001B[32m\"\u001B[0m\u001B[32m[\u001B[0m\u001B[32mitalic red\u001B[0m\u001B[32m]\u001B[0m\u001B[32mHello\u001B[0m\u001B[32m[\u001B[0m\u001B[32m/italic red\u001B[0m\u001B[32m]\u001B[0m\u001B[32m World!\"\u001B[0m\u001B[32m)\u001B[0m\u001B[32m'\u001B[0m, \u001B[32m'rprint\u001B[0m\u001B[32m(\u001B[0m\u001B[32m[\u001B[0m\u001B[32m\"Rich and pretty\", True\u001B[0m\u001B[32m]\u001B[0m\u001B[32m)\u001B[0m\u001B[32m'\u001B[0m, \u001B[32m'pretty.install\u001B[0m\u001B[32m(\u001B[0m\u001B[32m)\u001B[0m\u001B[32m\\nrprint\u001B[0m\u001B[32m(\u001B[0m\u001B[32m[\u001B[0m\u001B[32m\"Rich and pretty\", True\u001B[0m\u001B[32m]\u001B[0m\u001B[32m)\u001B[0m\u001B[32m'\u001B[0m, \u001B[32m'pretty.install\u001B[0m\u001B[32m(\u001B[0m\u001B[32m)\u001B[0m\u001B[32m\\nrprint\u001B[0m\u001B[32m(\u001B[0m\u001B[32m[\u001B[0m\u001B[32m\"Rich and pretty\", True\u001B[0m\u001B[32m]\u001B[0m\u001B[32m)\u001B[0m\u001B[32m'\u001B[0m, \u001B[32m'from rich import print as rprint\\nfrom rich import pretty\\nfrom rich.panel import Panel\\nfrom rich.console import Console'\u001B[0m, \u001B[32m'Panel.fit\u001B[0m\u001B[32m(\u001B[0m\u001B[32m\"\u001B[0m\u001B[32m[\u001B[0m\u001B[32mbold yellow\u001B[0m\u001B[32m]\u001B[0m\u001B[32mHi, I\\'m a Panel\", \u001B[0m\u001B[32mborder_style\u001B[0m\u001B[32m=\u001B[0m\u001B[32m\"red\"\u001B[0m\u001B[32m)\u001B[0m\u001B[32m'\u001B[0m, \u001B[32m'from rich import print as rprint\\nfrom rich import pretty\\nfrom rich.panel import Panel\\nfrom rich.console import Console\\nfrom rich import inspect\\nfrom rich.color import Color'\u001B[0m, \u001B[32m'color = Color.parse\u001B[0m\u001B[32m(\u001B[0m\u001B[32m\"red\"\u001B[0m\u001B[32m)\u001B[0m\u001B[32m\\ninspect\u001B[0m\u001B[32m(\u001B[0m\u001B[32mcolor, \u001B[0m\u001B[32mmethods\u001B[0m\u001B[32m=\u001B[0m\u001B[32mTrue\u001B[0m\u001B[32m)\u001B[0m\u001B[32m'\u001B[0m, \u001B[32m'console.print\u001B[0m\u001B[32m(\u001B[0m\u001B[32m[\u001B[0m\u001B[32m1, 2, 3\u001B[0m\u001B[32m]\u001B[0m\u001B[32m)\u001B[0m\u001B[32m\\nconsole.print\u001B[0m\u001B[32m(\u001B[0m\u001B[32m\"\u001B[0m\u001B[32m[\u001B[0m\u001B[32mblue underline\u001B[0m\u001B[32m]\u001B[0m\u001B[32mLooks like a link\"\u001B[0m\u001B[32m)\u001B[0m\u001B[32m\\nconsole.print\u001B[0m\u001B[32m(\u001B[0m\u001B[32mlocals\u001B[0m\u001B[32m(\u001B[0m\u001B[32m)\u001B[0m\u001B[32m)\u001B[0m\u001B[32m\\nconsole.print\u001B[0m\u001B[32m(\u001B[0m\u001B[32m\"FOO\", \u001B[0m\u001B[32mstyle\u001B[0m\u001B[32m=\u001B[0m\u001B[32m\"white\u001B[0m\u001B[32m on blue\"\u001B[0m\u001B[32m)\u001B[0m\u001B[32m'\u001B[0m, \u001B[32m'color = Color.parse\u001B[0m\u001B[32m(\u001B[0m\u001B[32m\"red\"\u001B[0m\u001B[32m)\u001B[0m\u001B[32m\\ninspect\u001B[0m\u001B[32m(\u001B[0m\u001B[32mcolor, \u001B[0m\u001B[32mmethods\u001B[0m\u001B[32m=\u001B[0m\u001B[32mTrue\u001B[0m\u001B[32m)\u001B[0m\u001B[32m'\u001B[0m, \u001B[32m'console = Console\u001B[0m\u001B[32m(\u001B[0m\u001B[32m)\u001B[0m\u001B[32m'\u001B[0m, \u001B[32m'console.print\u001B[0m\u001B[32m(\u001B[0m\u001B[32m[\u001B[0m\u001B[32m1, 2, 3\u001B[0m\u001B[32m]\u001B[0m\u001B[32m)\u001B[0m\u001B[32m\\nconsole.print\u001B[0m\u001B[32m(\u001B[0m\u001B[32m\"\u001B[0m\u001B[32m[\u001B[0m\u001B[32mblue underline\u001B[0m\u001B[32m]\u001B[0m\u001B[32mLooks like a link\"\u001B[0m\u001B[32m)\u001B[0m\u001B[32m\\nconsole.print\u001B[0m\u001B[32m(\u001B[0m\u001B[32mlocals\u001B[0m\u001B[32m(\u001B[0m\u001B[32m)\u001B[0m\u001B[32m)\u001B[0m\u001B[32m\\nconsole.print\u001B[0m\u001B[32m(\u001B[0m\u001B[32m\"FOO\", \u001B[0m\u001B[32mstyle\u001B[0m\u001B[32m=\u001B[0m\u001B[32m\"white\u001B[0m\u001B[32m on blue\"\u001B[0m\u001B[32m)\u001B[0m\u001B[32m'\u001B[0m, \u001B[32m'console.print\u001B[0m\u001B[32m(\u001B[0m\u001B[32m[\u001B[0m\u001B[32m1, 2, 3\u001B[0m\u001B[32m]\u001B[0m\u001B[32m)\u001B[0m\u001B[32m'\u001B[0m, \u001B[32m'console.print\u001B[0m\u001B[32m(\u001B[0m\u001B[32m\"\u001B[0m\u001B[32m[\u001B[0m\u001B[32mblue underline\u001B[0m\u001B[32m]\u001B[0m\u001B[32mLooks like a link\"\u001B[0m\u001B[32m)\u001B[0m\u001B[32m'\u001B[0m, \u001B[32m'console.print\u001B[0m\u001B[32m(\u001B[0m\u001B[32mdict\u001B[0m\u001B[32m(\u001B[0m\u001B[32ma\u001B[0m\u001B[32m=\u001B[0m\u001B[32m1\u001B[0m\u001B[32m, \u001B[0m\u001B[32mb\u001B[0m\u001B[32m=\u001B[0m\u001B[32m2\u001B[0m\u001B[32m, \u001B[0m\u001B[32mc\u001B[0m\u001B[32m=\u001B[0m\u001B[32m3\u001B[0m\u001B[32m)\u001B[0m\u001B[32m)\u001B[0m\u001B[32m'\u001B[0m, \u001B[32m'console.print\u001B[0m\u001B[32m(\u001B[0m\u001B[32m\"FOO\", \u001B[0m\u001B[32mstyle\u001B[0m\u001B[32m=\u001B[0m\u001B[32m\"white\u001B[0m\u001B[32m on blue\"\u001B[0m\u001B[32m)\u001B[0m\u001B[32m'\u001B[0m, \u001B[32m'console.print\u001B[0m\u001B[32m(\u001B[0m\u001B[32m\"FOO\", \u001B[0m\u001B[32mstyle\u001B[0m\u001B[32m=\u001B[0m\u001B[32m\"white\u001B[0m\u001B[32m on red\"\u001B[0m\u001B[32m)\u001B[0m\u001B[32m'\u001B[0m, \u001B[32m'console.print\u001B[0m\u001B[32m(\u001B[0m\u001B[32m\"FOO\", \u001B[0m\u001B[32mstyle\u001B[0m\u001B[32m=\u001B[0m\u001B[32m\"white\u001B[0m\u001B[32m on blue\"\u001B[0m\u001B[32m)\u001B[0m\u001B[32m'\u001B[0m, \u001B[32m'console.log\u001B[0m\u001B[32m(\u001B[0m\u001B[32m\"Hello, World!\"\u001B[0m\u001B[32m)\u001B[0m\u001B[32m'\u001B[0m, \u001B[32m'console = Console\u001B[0m\u001B[32m(\u001B[0m\u001B[32m\\n    \u001B[0m\u001B[32mlog_time_format\u001B[0m\u001B[32m=\"%Y-%m-%d %H:%M:%S\"\\n\u001B[0m\u001B[32m)\u001B[0m\u001B[32m'\u001B[0m, \u001B[32m'console.print\u001B[0m\u001B[32m(\u001B[0m\u001B[32m[\u001B[0m\u001B[32m1, 2, 3\u001B[0m\u001B[32m]\u001B[0m\u001B[32m)\u001B[0m\u001B[32m'\u001B[0m, \u001B[32m'console.print\u001B[0m\u001B[32m(\u001B[0m\u001B[32m\"\u001B[0m\u001B[32m[\u001B[0m\u001B[32mblue underline\u001B[0m\u001B[32m]\u001B[0m\u001B[32mLooks like a link\"\u001B[0m\u001B[32m)\u001B[0m\u001B[32m'\u001B[0m, \u001B[32m'console.print\u001B[0m\u001B[32m(\u001B[0m\u001B[32mdict\u001B[0m\u001B[32m(\u001B[0m\u001B[32ma\u001B[0m\u001B[32m=\u001B[0m\u001B[32m1\u001B[0m\u001B[32m, \u001B[0m\u001B[32mb\u001B[0m\u001B[32m=\u001B[0m\u001B[32m2\u001B[0m\u001B[32m, \u001B[0m\u001B[32mc\u001B[0m\u001B[32m=\u001B[0m\u001B[32m3\u001B[0m\u001B[32m)\u001B[0m\u001B[32m)\u001B[0m\u001B[32m'\u001B[0m, \u001B[32m'console.print\u001B[0m\u001B[32m(\u001B[0m\u001B[32m\"FOO\", \u001B[0m\u001B[32mstyle\u001B[0m\u001B[32m=\u001B[0m\u001B[32m\"white\u001B[0m\u001B[32m on blue\"\u001B[0m\u001B[32m)\u001B[0m\u001B[32m'\u001B[0m, \u001B[32m'console.log\u001B[0m\u001B[32m(\u001B[0m\u001B[32m\"Hello, World!\"\u001B[0m\u001B[32m)\u001B[0m\u001B[32m'\u001B[0m, \u001B[32m'console = Console\u001B[0m\u001B[32m(\u001B[0m\u001B[32m\\n    \u001B[0m\u001B[32mlog_time_format\u001B[0m\u001B[32m=\"\u001B[0m\u001B[32m[\u001B[0m\u001B[32m%Y-%m-%d %H:%M:%S\u001B[0m\u001B[32m]\u001B[0m\u001B[32m\"\\n\u001B[0m\u001B[32m)\u001B[0m\u001B[32m'\u001B[0m, \u001B[32m'console.print\u001B[0m\u001B[32m(\u001B[0m\u001B[32m[\u001B[0m\u001B[32m1, 2, 3\u001B[0m\u001B[32m]\u001B[0m\u001B[32m)\u001B[0m\u001B[32m'\u001B[0m, \u001B[32m'console.print\u001B[0m\u001B[32m(\u001B[0m\u001B[32m\"\u001B[0m\u001B[32m[\u001B[0m\u001B[32mblue underline\u001B[0m\u001B[32m]\u001B[0m\u001B[32mLooks like a link\"\u001B[0m\u001B[32m)\u001B[0m\u001B[32m'\u001B[0m, \u001B[32m'console.print\u001B[0m\u001B[32m(\u001B[0m\u001B[32mdict\u001B[0m\u001B[32m(\u001B[0m\u001B[32ma\u001B[0m\u001B[32m=\u001B[0m\u001B[32m1\u001B[0m\u001B[32m, \u001B[0m\u001B[32mb\u001B[0m\u001B[32m=\u001B[0m\u001B[32m2\u001B[0m\u001B[32m, \u001B[0m\u001B[32mc\u001B[0m\u001B[32m=\u001B[0m\u001B[32m3\u001B[0m\u001B[32m)\u001B[0m\u001B[32m)\u001B[0m\u001B[32m'\u001B[0m, \u001B[32m'console.print\u001B[0m\u001B[32m(\u001B[0m\u001B[32m\"FOO\", \u001B[0m\u001B[32mstyle\u001B[0m\u001B[32m=\u001B[0m\u001B[32m\"white\u001B[0m\u001B[32m on blue\"\u001B[0m\u001B[32m)\u001B[0m\u001B[32m'\u001B[0m, \u001B[32m'console.log\u001B[0m\u001B[32m(\u001B[0m\u001B[32m\"Hello, World!\"\u001B[0m\u001B[32m)\u001B[0m\u001B[32m'\u001B[0m, \u001B[32m'console.print_json\u001B[0m\u001B[32m(\u001B[0m\u001B[32m\\'\u001B[0m\u001B[32m[\u001B[0m\u001B[32mfalse, true, null, \"foo\"\u001B[0m\u001B[32m]\u001B[0m\u001B[32m\\'\u001B[0m\u001B[32m)\u001B[0m\u001B[32m'\u001B[0m, \u001B[32m'from rich import print as rprint\\nfrom rich import pretty\\nfrom rich.panel import Panel\\nfrom rich.console import Console\\nfrom rich import inspect\\nfrom rich.color import Color\\nfrom rich.json import JSON'\u001B[0m, \u001B[32m'console.log\u001B[0m\u001B[32m(\u001B[0m\u001B[32mJSON\u001B[0m\u001B[32m(\u001B[0m\u001B[32m\\'\u001B[0m\u001B[32m[\u001B[0m\u001B[32m\"foo\", \"bar\"\u001B[0m\u001B[32m]\u001B[0m\u001B[32m\\'\u001B[0m\u001B[32m)\u001B[0m\u001B[32m)\u001B[0m\u001B[32m'\u001B[0m, \u001B[32m'console.print\u001B[0m\u001B[32m(\u001B[0m\u001B[32mJSON\u001B[0m\u001B[32m(\u001B[0m\u001B[32m\\'\u001B[0m\u001B[32m[\u001B[0m\u001B[32m\"foo\", \"bar\"\u001B[0m\u001B[32m]\u001B[0m\u001B[32m\\'\u001B[0m\u001B[32m)\u001B[0m\u001B[32m)\u001B[0m\u001B[32m'\u001B[0m, \u001B[32m'console.out\u001B[0m\u001B[32m(\u001B[0m\u001B[32m\"Locals\", locals\u001B[0m\u001B[32m(\u001B[0m\u001B[32m)\u001B[0m\u001B[32m)\u001B[0m\u001B[32m'\u001B[0m\u001B[1m]\u001B[0m, \u001B[32m'_oh'\u001B[0m: \u001B[1m{\u001B[0m\u001B[1;36m2\u001B[0m: \u001B[1m<\u001B[0m\u001B[1;95mbuilt-in\u001B[0m\u001B[39m function locals\u001B[0m\u001B[1m>\u001B[0m, \u001B[1;36m3\u001B[0m: \u001B[1m{\u001B[0m\u001B[33m...\u001B[0m\u001B[1m}\u001B[0m, \u001B[1;36m15\u001B[0m: \u001B[1m<\u001B[0m\u001B[1;95mrich.panel.Panel\u001B[0m\u001B[39m object at \u001B[0m\u001B[1;36m0x11a64b880\u001B[0m\u001B[1m>\u001B[0m\u001B[1m}\u001B[0m, \u001B[32m'_dh'\u001B[0m: \u001B[1m[\u001B[0m\u001B[1;35mPosixPath\u001B[0m\u001B[1m(\u001B[0m\u001B[32m'/Users/sanhehu/Documents/GitHub/Dev-Exp-Share/docs/source/02-SDE/01-Program-Language/02-Python-Root/Awesome-Python-Library-for-Software-Development/rich'\u001B[0m\u001B[1m)\u001B[0m\u001B[1m]\u001B[0m, \u001B[32m'In'\u001B[0m: \u001B[1m[\u001B[0m\u001B[32m''\u001B[0m, \u001B[32m'from rich import \u001B[0m\u001B[32m(\u001B[0m\u001B[32m\\n    print as rprint,\\n    Console,\\n\u001B[0m\u001B[32m)\u001B[0m\u001B[32m'\u001B[0m, \u001B[32m'locals'\u001B[0m, \u001B[32m'locals\u001B[0m\u001B[32m(\u001B[0m\u001B[32m)\u001B[0m\u001B[32m'\u001B[0m, \u001B[32m'rprint\u001B[0m\u001B[32m(\u001B[0m\u001B[32m\"\u001B[0m\u001B[32m[\u001B[0m\u001B[32mitalic red\u001B[0m\u001B[32m]\u001B[0m\u001B[32mHello\u001B[0m\u001B[32m[\u001B[0m\u001B[32m/italic red\u001B[0m\u001B[32m]\u001B[0m\u001B[32m World!\"\u001B[0m\u001B[32m)\u001B[0m\u001B[32m'\u001B[0m, \u001B[32m'from rich import \u001B[0m\u001B[32m(\u001B[0m\u001B[32m\\n    print as rprint,\\n    Console,\\n\u001B[0m\u001B[32m)\u001B[0m\u001B[32m'\u001B[0m, \u001B[32m'from rich import print as rprint\\nfrom rich.console import Console'\u001B[0m, \u001B[32m'rprint\u001B[0m\u001B[32m(\u001B[0m\u001B[32m\"\u001B[0m\u001B[32m[\u001B[0m\u001B[32mitalic red\u001B[0m\u001B[32m]\u001B[0m\u001B[32mHello\u001B[0m\u001B[32m[\u001B[0m\u001B[32m/italic red\u001B[0m\u001B[32m]\u001B[0m\u001B[32m World!\"\u001B[0m\u001B[32m)\u001B[0m\u001B[32m'\u001B[0m, \u001B[32m'from rich import print as rprint\\nfrom rich import pretty\\nfrom rich.console import Console'\u001B[0m, \u001B[32m'print\u001B[0m\u001B[32m(\u001B[0m\u001B[32m\"\u001B[0m\u001B[32m[\u001B[0m\u001B[32mitalic red\u001B[0m\u001B[32m]\u001B[0m\u001B[32mHello\u001B[0m\u001B[32m[\u001B[0m\u001B[32m/italic red\u001B[0m\u001B[32m]\u001B[0m\u001B[32m World!\"\u001B[0m\u001B[32m)\u001B[0m\u001B[32m'\u001B[0m, \u001B[32m'rprint\u001B[0m\u001B[32m(\u001B[0m\u001B[32m\"\u001B[0m\u001B[32m[\u001B[0m\u001B[32mitalic red\u001B[0m\u001B[32m]\u001B[0m\u001B[32mHello\u001B[0m\u001B[32m[\u001B[0m\u001B[32m/italic red\u001B[0m\u001B[32m]\u001B[0m\u001B[32m World!\"\u001B[0m\u001B[32m)\u001B[0m\u001B[32m'\u001B[0m, \u001B[32m'rprint\u001B[0m\u001B[32m(\u001B[0m\u001B[32m[\u001B[0m\u001B[32m\"Rich and pretty\", True\u001B[0m\u001B[32m]\u001B[0m\u001B[32m)\u001B[0m\u001B[32m'\u001B[0m, \u001B[32m'pretty.install\u001B[0m\u001B[32m(\u001B[0m\u001B[32m)\u001B[0m\u001B[32m\\nrprint\u001B[0m\u001B[32m(\u001B[0m\u001B[32m[\u001B[0m\u001B[32m\"Rich and pretty\", True\u001B[0m\u001B[32m]\u001B[0m\u001B[32m)\u001B[0m\u001B[32m'\u001B[0m, \u001B[32m'pretty.install\u001B[0m\u001B[32m(\u001B[0m\u001B[32m)\u001B[0m\u001B[32m\\nrprint\u001B[0m\u001B[32m(\u001B[0m\u001B[32m[\u001B[0m\u001B[32m\"Rich and pretty\", True\u001B[0m\u001B[32m]\u001B[0m\u001B[32m)\u001B[0m\u001B[32m'\u001B[0m, \u001B[32m'from rich import print as rprint\\nfrom rich import pretty\\nfrom rich.panel import Panel\\nfrom rich.console import Console'\u001B[0m, \u001B[32m'Panel.fit\u001B[0m\u001B[32m(\u001B[0m\u001B[32m\"\u001B[0m\u001B[32m[\u001B[0m\u001B[32mbold yellow\u001B[0m\u001B[32m]\u001B[0m\u001B[32mHi, I\\'m a Panel\", \u001B[0m\u001B[32mborder_style\u001B[0m\u001B[32m=\u001B[0m\u001B[32m\"red\"\u001B[0m\u001B[32m)\u001B[0m\u001B[32m'\u001B[0m, \u001B[32m'from rich import print as rprint\\nfrom rich import pretty\\nfrom rich.panel import Panel\\nfrom rich.console import Console\\nfrom rich import inspect\\nfrom rich.color import Color'\u001B[0m, \u001B[32m'color = Color.parse\u001B[0m\u001B[32m(\u001B[0m\u001B[32m\"red\"\u001B[0m\u001B[32m)\u001B[0m\u001B[32m\\ninspect\u001B[0m\u001B[32m(\u001B[0m\u001B[32mcolor, \u001B[0m\u001B[32mmethods\u001B[0m\u001B[32m=\u001B[0m\u001B[32mTrue\u001B[0m\u001B[32m)\u001B[0m\u001B[32m'\u001B[0m, \u001B[32m'console.print\u001B[0m\u001B[32m(\u001B[0m\u001B[32m[\u001B[0m\u001B[32m1, 2, 3\u001B[0m\u001B[32m]\u001B[0m\u001B[32m)\u001B[0m\u001B[32m\\nconsole.print\u001B[0m\u001B[32m(\u001B[0m\u001B[32m\"\u001B[0m\u001B[32m[\u001B[0m\u001B[32mblue underline\u001B[0m\u001B[32m]\u001B[0m\u001B[32mLooks like a link\"\u001B[0m\u001B[32m)\u001B[0m\u001B[32m\\nconsole.print\u001B[0m\u001B[32m(\u001B[0m\u001B[32mlocals\u001B[0m\u001B[32m(\u001B[0m\u001B[32m)\u001B[0m\u001B[32m)\u001B[0m\u001B[32m\\nconsole.print\u001B[0m\u001B[32m(\u001B[0m\u001B[32m\"FOO\", \u001B[0m\u001B[32mstyle\u001B[0m\u001B[32m=\u001B[0m\u001B[32m\"white\u001B[0m\u001B[32m on blue\"\u001B[0m\u001B[32m)\u001B[0m\u001B[32m'\u001B[0m, \u001B[32m'color = Color.parse\u001B[0m\u001B[32m(\u001B[0m\u001B[32m\"red\"\u001B[0m\u001B[32m)\u001B[0m\u001B[32m\\ninspect\u001B[0m\u001B[32m(\u001B[0m\u001B[32mcolor, \u001B[0m\u001B[32mmethods\u001B[0m\u001B[32m=\u001B[0m\u001B[32mTrue\u001B[0m\u001B[32m)\u001B[0m\u001B[32m'\u001B[0m, \u001B[32m'console = Console\u001B[0m\u001B[32m(\u001B[0m\u001B[32m)\u001B[0m\u001B[32m'\u001B[0m, \u001B[32m'console.print\u001B[0m\u001B[32m(\u001B[0m\u001B[32m[\u001B[0m\u001B[32m1, 2, 3\u001B[0m\u001B[32m]\u001B[0m\u001B[32m)\u001B[0m\u001B[32m\\nconsole.print\u001B[0m\u001B[32m(\u001B[0m\u001B[32m\"\u001B[0m\u001B[32m[\u001B[0m\u001B[32mblue underline\u001B[0m\u001B[32m]\u001B[0m\u001B[32mLooks like a link\"\u001B[0m\u001B[32m)\u001B[0m\u001B[32m\\nconsole.print\u001B[0m\u001B[32m(\u001B[0m\u001B[32mlocals\u001B[0m\u001B[32m(\u001B[0m\u001B[32m)\u001B[0m\u001B[32m)\u001B[0m\u001B[32m\\nconsole.print\u001B[0m\u001B[32m(\u001B[0m\u001B[32m\"FOO\", \u001B[0m\u001B[32mstyle\u001B[0m\u001B[32m=\u001B[0m\u001B[32m\"white\u001B[0m\u001B[32m on blue\"\u001B[0m\u001B[32m)\u001B[0m\u001B[32m'\u001B[0m, \u001B[32m'console.print\u001B[0m\u001B[32m(\u001B[0m\u001B[32m[\u001B[0m\u001B[32m1, 2, 3\u001B[0m\u001B[32m]\u001B[0m\u001B[32m)\u001B[0m\u001B[32m'\u001B[0m, \u001B[32m'console.print\u001B[0m\u001B[32m(\u001B[0m\u001B[32m\"\u001B[0m\u001B[32m[\u001B[0m\u001B[32mblue underline\u001B[0m\u001B[32m]\u001B[0m\u001B[32mLooks like a link\"\u001B[0m\u001B[32m)\u001B[0m\u001B[32m'\u001B[0m, \u001B[32m'console.print\u001B[0m\u001B[32m(\u001B[0m\u001B[32mdict\u001B[0m\u001B[32m(\u001B[0m\u001B[32ma\u001B[0m\u001B[32m=\u001B[0m\u001B[32m1\u001B[0m\u001B[32m, \u001B[0m\u001B[32mb\u001B[0m\u001B[32m=\u001B[0m\u001B[32m2\u001B[0m\u001B[32m, \u001B[0m\u001B[32mc\u001B[0m\u001B[32m=\u001B[0m\u001B[32m3\u001B[0m\u001B[32m)\u001B[0m\u001B[32m)\u001B[0m\u001B[32m'\u001B[0m, \u001B[32m'console.print\u001B[0m\u001B[32m(\u001B[0m\u001B[32m\"FOO\", \u001B[0m\u001B[32mstyle\u001B[0m\u001B[32m=\u001B[0m\u001B[32m\"white\u001B[0m\u001B[32m on blue\"\u001B[0m\u001B[32m)\u001B[0m\u001B[32m'\u001B[0m, \u001B[32m'console.print\u001B[0m\u001B[32m(\u001B[0m\u001B[32m\"FOO\", \u001B[0m\u001B[32mstyle\u001B[0m\u001B[32m=\u001B[0m\u001B[32m\"white\u001B[0m\u001B[32m on red\"\u001B[0m\u001B[32m)\u001B[0m\u001B[32m'\u001B[0m, \u001B[32m'console.print\u001B[0m\u001B[32m(\u001B[0m\u001B[32m\"FOO\", \u001B[0m\u001B[32mstyle\u001B[0m\u001B[32m=\u001B[0m\u001B[32m\"white\u001B[0m\u001B[32m on blue\"\u001B[0m\u001B[32m)\u001B[0m\u001B[32m'\u001B[0m, \u001B[32m'console.log\u001B[0m\u001B[32m(\u001B[0m\u001B[32m\"Hello, World!\"\u001B[0m\u001B[32m)\u001B[0m\u001B[32m'\u001B[0m, \u001B[32m'console = Console\u001B[0m\u001B[32m(\u001B[0m\u001B[32m\\n    \u001B[0m\u001B[32mlog_time_format\u001B[0m\u001B[32m=\"%Y-%m-%d %H:%M:%S\"\\n\u001B[0m\u001B[32m)\u001B[0m\u001B[32m'\u001B[0m, \u001B[32m'console.print\u001B[0m\u001B[32m(\u001B[0m\u001B[32m[\u001B[0m\u001B[32m1, 2, 3\u001B[0m\u001B[32m]\u001B[0m\u001B[32m)\u001B[0m\u001B[32m'\u001B[0m, \u001B[32m'console.print\u001B[0m\u001B[32m(\u001B[0m\u001B[32m\"\u001B[0m\u001B[32m[\u001B[0m\u001B[32mblue underline\u001B[0m\u001B[32m]\u001B[0m\u001B[32mLooks like a link\"\u001B[0m\u001B[32m)\u001B[0m\u001B[32m'\u001B[0m, \u001B[32m'console.print\u001B[0m\u001B[32m(\u001B[0m\u001B[32mdict\u001B[0m\u001B[32m(\u001B[0m\u001B[32ma\u001B[0m\u001B[32m=\u001B[0m\u001B[32m1\u001B[0m\u001B[32m, \u001B[0m\u001B[32mb\u001B[0m\u001B[32m=\u001B[0m\u001B[32m2\u001B[0m\u001B[32m, \u001B[0m\u001B[32mc\u001B[0m\u001B[32m=\u001B[0m\u001B[32m3\u001B[0m\u001B[32m)\u001B[0m\u001B[32m)\u001B[0m\u001B[32m'\u001B[0m, \u001B[32m'console.print\u001B[0m\u001B[32m(\u001B[0m\u001B[32m\"FOO\", \u001B[0m\u001B[32mstyle\u001B[0m\u001B[32m=\u001B[0m\u001B[32m\"white\u001B[0m\u001B[32m on blue\"\u001B[0m\u001B[32m)\u001B[0m\u001B[32m'\u001B[0m, \u001B[32m'console.log\u001B[0m\u001B[32m(\u001B[0m\u001B[32m\"Hello, World!\"\u001B[0m\u001B[32m)\u001B[0m\u001B[32m'\u001B[0m, \u001B[32m'console = Console\u001B[0m\u001B[32m(\u001B[0m\u001B[32m\\n    \u001B[0m\u001B[32mlog_time_format\u001B[0m\u001B[32m=\"\u001B[0m\u001B[32m[\u001B[0m\u001B[32m%Y-%m-%d %H:%M:%S\u001B[0m\u001B[32m]\u001B[0m\u001B[32m\"\\n\u001B[0m\u001B[32m)\u001B[0m\u001B[32m'\u001B[0m, \u001B[32m'console.print\u001B[0m\u001B[32m(\u001B[0m\u001B[32m[\u001B[0m\u001B[32m1, 2, 3\u001B[0m\u001B[32m]\u001B[0m\u001B[32m)\u001B[0m\u001B[32m'\u001B[0m, \u001B[32m'console.print\u001B[0m\u001B[32m(\u001B[0m\u001B[32m\"\u001B[0m\u001B[32m[\u001B[0m\u001B[32mblue underline\u001B[0m\u001B[32m]\u001B[0m\u001B[32mLooks like a link\"\u001B[0m\u001B[32m)\u001B[0m\u001B[32m'\u001B[0m, \u001B[32m'console.print\u001B[0m\u001B[32m(\u001B[0m\u001B[32mdict\u001B[0m\u001B[32m(\u001B[0m\u001B[32ma\u001B[0m\u001B[32m=\u001B[0m\u001B[32m1\u001B[0m\u001B[32m, \u001B[0m\u001B[32mb\u001B[0m\u001B[32m=\u001B[0m\u001B[32m2\u001B[0m\u001B[32m, \u001B[0m\u001B[32mc\u001B[0m\u001B[32m=\u001B[0m\u001B[32m3\u001B[0m\u001B[32m)\u001B[0m\u001B[32m)\u001B[0m\u001B[32m'\u001B[0m, \u001B[32m'console.print\u001B[0m\u001B[32m(\u001B[0m\u001B[32m\"FOO\", \u001B[0m\u001B[32mstyle\u001B[0m\u001B[32m=\u001B[0m\u001B[32m\"white\u001B[0m\u001B[32m on blue\"\u001B[0m\u001B[32m)\u001B[0m\u001B[32m'\u001B[0m, \u001B[32m'console.log\u001B[0m\u001B[32m(\u001B[0m\u001B[32m\"Hello, World!\"\u001B[0m\u001B[32m)\u001B[0m\u001B[32m'\u001B[0m, \u001B[32m'console.print_json\u001B[0m\u001B[32m(\u001B[0m\u001B[32m\\'\u001B[0m\u001B[32m[\u001B[0m\u001B[32mfalse, true, null, \"foo\"\u001B[0m\u001B[32m]\u001B[0m\u001B[32m\\'\u001B[0m\u001B[32m)\u001B[0m\u001B[32m'\u001B[0m, \u001B[32m'from rich import print as rprint\\nfrom rich import pretty\\nfrom rich.panel import Panel\\nfrom rich.console import Console\\nfrom rich import inspect\\nfrom rich.color import Color\\nfrom rich.json import JSON'\u001B[0m, \u001B[32m'console.log\u001B[0m\u001B[32m(\u001B[0m\u001B[32mJSON\u001B[0m\u001B[32m(\u001B[0m\u001B[32m\\'\u001B[0m\u001B[32m[\u001B[0m\u001B[32m\"foo\", \"bar\"\u001B[0m\u001B[32m]\u001B[0m\u001B[32m\\'\u001B[0m\u001B[32m)\u001B[0m\u001B[32m)\u001B[0m\u001B[32m'\u001B[0m, \u001B[32m'console.print\u001B[0m\u001B[32m(\u001B[0m\u001B[32mJSON\u001B[0m\u001B[32m(\u001B[0m\u001B[32m\\'\u001B[0m\u001B[32m[\u001B[0m\u001B[32m\"foo\", \"bar\"\u001B[0m\u001B[32m]\u001B[0m\u001B[32m\\'\u001B[0m\u001B[32m)\u001B[0m\u001B[32m)\u001B[0m\u001B[32m'\u001B[0m, \u001B[32m'console.out\u001B[0m\u001B[32m(\u001B[0m\u001B[32m\"Locals\", locals\u001B[0m\u001B[32m(\u001B[0m\u001B[32m)\u001B[0m\u001B[32m)\u001B[0m\u001B[32m'\u001B[0m\u001B[1m]\u001B[0m, \u001B[32m'Out'\u001B[0m: \u001B[1m{\u001B[0m\u001B[1;36m2\u001B[0m: \u001B[1m<\u001B[0m\u001B[1;95mbuilt-in\u001B[0m\u001B[39m function locals\u001B[0m\u001B[1m>\u001B[0m, \u001B[1;36m3\u001B[0m: \u001B[1m{\u001B[0m\u001B[33m...\u001B[0m\u001B[1m}\u001B[0m, \u001B[1;36m15\u001B[0m: \u001B[1m<\u001B[0m\u001B[1;95mrich.panel.Panel\u001B[0m\u001B[39m object at \u001B[0m\u001B[1;36m0x11a64b880\u001B[0m\u001B[1m>\u001B[0m\u001B[1m}\u001B[0m, \u001B[32m'get_ipython'\u001B[0m: \u001B[1m<\u001B[0m\u001B[1;95mbound\u001B[0m\u001B[39m method InteractiveShell.get_ipython of <ipykernel.zmqshell.ZMQInteractiveShell object at \u001B[0m\u001B[1;36m0x1075bc250\u001B[0m\u001B[1m>\u001B[0m>, \u001B[32m'exit'\u001B[0m: \u001B[1m<\u001B[0m\u001B[1;95mIPython.core.autocall.ZMQExitAutocall\u001B[0m\u001B[39m object at \u001B[0m\u001B[1;36m0x1075ef190\u001B[0m\u001B[1m>\u001B[0m, \u001B[32m'quit'\u001B[0m: \u001B[1m<\u001B[0m\u001B[1;95mIPython.core.autocall.ZMQExitAutocall\u001B[0m\u001B[39m object at \u001B[0m\u001B[1;36m0x1075ef190\u001B[0m\u001B[1m>\u001B[0m, \u001B[32m'_'\u001B[0m: \u001B[1m<\u001B[0m\u001B[1;95mrich.panel.Panel\u001B[0m\u001B[39m object at \u001B[0m\u001B[1;36m0x11a64b880\u001B[0m\u001B[1m>\u001B[0m, \u001B[32m'__'\u001B[0m: \u001B[1m{\u001B[0m\u001B[33m...\u001B[0m\u001B[1m}\u001B[0m, \u001B[32m'___'\u001B[0m: \u001B[1m<\u001B[0m\u001B[1;95mbuilt-in\u001B[0m\u001B[39m function locals\u001B[0m\u001B[1m>\u001B[0m, \u001B[32m'_i'\u001B[0m: \u001B[32m'console.print\u001B[0m\u001B[32m(\u001B[0m\u001B[32mJSON\u001B[0m\u001B[32m(\u001B[0m\u001B[32m\\'\u001B[0m\u001B[32m[\u001B[0m\u001B[32m\"foo\", \"bar\"\u001B[0m\u001B[32m]\u001B[0m\u001B[32m\\'\u001B[0m\u001B[32m)\u001B[0m\u001B[32m)\u001B[0m\u001B[32m'\u001B[0m, \u001B[32m'_ii'\u001B[0m: \u001B[32m'console.log\u001B[0m\u001B[32m(\u001B[0m\u001B[32mJSON\u001B[0m\u001B[32m(\u001B[0m\u001B[32m\\'\u001B[0m\u001B[32m[\u001B[0m\u001B[32m\"foo\", \"bar\"\u001B[0m\u001B[32m]\u001B[0m\u001B[32m\\'\u001B[0m\u001B[32m)\u001B[0m\u001B[32m)\u001B[0m\u001B[32m'\u001B[0m, \u001B[32m'_iii'\u001B[0m: \u001B[32m'from rich import print as rprint\\nfrom rich import pretty\\nfrom rich.panel import Panel\\nfrom rich.console import Console\\nfrom rich import inspect\\nfrom rich.color import Color\\nfrom rich.json import JSON'\u001B[0m, \u001B[32m'_i1'\u001B[0m: \u001B[32m'from rich import \u001B[0m\u001B[32m(\u001B[0m\u001B[32m\\n    print as rprint,\\n    Console,\\n\u001B[0m\u001B[32m)\u001B[0m\u001B[32m'\u001B[0m, \u001B[32m'rprint'\u001B[0m: \u001B[1m<\u001B[0m\u001B[1;95mfunction\u001B[0m\u001B[39m print at \u001B[0m\u001B[1;36m0x10768c8b0\u001B[0m\u001B[1m>\u001B[0m, \u001B[32m'sys'\u001B[0m: \u001B[1m<\u001B[0m\u001B[1;95mmodule\u001B[0m\u001B[39m \u001B[0m\u001B[32m'sys'\u001B[0m\u001B[39m \u001B[0m\u001B[1;39m(\u001B[0m\u001B[39mbuilt-in\u001B[0m\u001B[1;39m)\u001B[0m\u001B[1m>\u001B[0m, \u001B[32m'remove_imported_pydev_package'\u001B[0m: \u001B[1m<\u001B[0m\u001B[1;95mfunction\u001B[0m\u001B[39m remove_imported_pydev_package at \u001B[0m\u001B[1;36m0x1081c1040\u001B[0m\u001B[1m>\u001B[0m, \u001B[32m'_pydevd_bundle'\u001B[0m: \u001B[1m<\u001B[0m\u001B[1;95mmodule\u001B[0m\u001B[39m \u001B[0m\u001B[32m'_pydevd_bundle'\u001B[0m\u001B[39m from \u001B[0m\u001B[32m'/Applications/PyCharm.app/Contents/plugins/python/helpers/pydev/_pydevd_bundle/__init__.py'\u001B[0m\u001B[1m>\u001B[0m, \u001B[32m'pydev_jupyter_vars'\u001B[0m: \u001B[1m<\u001B[0m\u001B[1;95mmodule\u001B[0m\u001B[39m \u001B[0m\u001B[32m'pydev_jupyter_vars'\u001B[0m\u001B[39m from \u001B[0m\u001B[32m'/Applications/PyCharm.app/Contents/plugins/python/helpers-pro/jupyter_debug/pydev_jupyter_vars.py'\u001B[0m\u001B[1m>\u001B[0m, \u001B[32m'_i2'\u001B[0m: \u001B[32m'locals'\u001B[0m, \u001B[32m'_2'\u001B[0m: \u001B[1m<\u001B[0m\u001B[1;95mbuilt-in\u001B[0m\u001B[39m function locals\u001B[0m\u001B[1m>\u001B[0m, \u001B[32m'_i3'\u001B[0m: \u001B[32m'locals\u001B[0m\u001B[32m(\u001B[0m\u001B[32m)\u001B[0m\u001B[32m'\u001B[0m, \u001B[32m'_3'\u001B[0m: \u001B[1m{\u001B[0m\u001B[33m...\u001B[0m\u001B[1m}\u001B[0m, \u001B[32m'DataFrame'\u001B[0m: \u001B[1m<\u001B[0m\u001B[1;95mclass\u001B[0m\u001B[39m \u001B[0m\u001B[32m'pandas.core.frame.DataFrame'\u001B[0m\u001B[1m>\u001B[0m, \u001B[32m'MultiIndex'\u001B[0m: \u001B[1m<\u001B[0m\u001B[1;95mclass\u001B[0m\u001B[39m \u001B[0m\u001B[32m'pandas.core.indexes.multi.MultiIndex'\u001B[0m\u001B[1m>\u001B[0m, \u001B[32m'print_columns'\u001B[0m: \u001B[1m<\u001B[0m\u001B[1;95mfunction\u001B[0m\u001B[39m print_columns at \u001B[0m\u001B[1;36m0x11acd09d0\u001B[0m\u001B[1m>\u001B[0m, \u001B[32m'_i4'\u001B[0m: \u001B[32m'rprint\u001B[0m\u001B[32m(\u001B[0m\u001B[32m\"\u001B[0m\u001B[32m[\u001B[0m\u001B[32mitalic red\u001B[0m\u001B[32m]\u001B[0m\u001B[32mHello\u001B[0m\u001B[32m[\u001B[0m\u001B[32m/italic red\u001B[0m\u001B[32m]\u001B[0m\u001B[32m World!\"\u001B[0m\u001B[32m)\u001B[0m\u001B[32m'\u001B[0m, \u001B[32m'_i5'\u001B[0m: \u001B[32m'from rich import \u001B[0m\u001B[32m(\u001B[0m\u001B[32m\\n    print as rprint,\\n    Console,\\n\u001B[0m\u001B[32m)\u001B[0m\u001B[32m'\u001B[0m, \u001B[32m'_i6'\u001B[0m: \u001B[32m'from rich import print as rprint\\nfrom rich.console import Console'\u001B[0m, \u001B[32m'Console'\u001B[0m: \u001B[1m<\u001B[0m\u001B[1;95mclass\u001B[0m\u001B[39m \u001B[0m\u001B[32m'rich.console.Console'\u001B[0m\u001B[1m>\u001B[0m, \u001B[32m'_i7'\u001B[0m: \u001B[32m'rprint\u001B[0m\u001B[32m(\u001B[0m\u001B[32m\"\u001B[0m\u001B[32m[\u001B[0m\u001B[32mitalic red\u001B[0m\u001B[32m]\u001B[0m\u001B[32mHello\u001B[0m\u001B[32m[\u001B[0m\u001B[32m/italic red\u001B[0m\u001B[32m]\u001B[0m\u001B[32m World!\"\u001B[0m\u001B[32m)\u001B[0m\u001B[32m'\u001B[0m, \u001B[32m'_i8'\u001B[0m: \u001B[32m'from rich import print as rprint\\nfrom rich import pretty\\nfrom rich.console import Console'\u001B[0m, \u001B[32m'pretty'\u001B[0m: \u001B[1m<\u001B[0m\u001B[1;95mmodule\u001B[0m\u001B[39m \u001B[0m\u001B[32m'rich.pretty'\u001B[0m\u001B[39m from \u001B[0m\u001B[32m'/Users/sanhehu/venvs/python/3.8.11/dev_exp_share_venv/lib/python3.8/site-packages/rich/pretty.py'\u001B[0m\u001B[1m>\u001B[0m, \u001B[32m'_i9'\u001B[0m: \u001B[32m'print\u001B[0m\u001B[32m(\u001B[0m\u001B[32m\"\u001B[0m\u001B[32m[\u001B[0m\u001B[32mitalic red\u001B[0m\u001B[32m]\u001B[0m\u001B[32mHello\u001B[0m\u001B[32m[\u001B[0m\u001B[32m/italic red\u001B[0m\u001B[32m]\u001B[0m\u001B[32m World!\"\u001B[0m\u001B[32m)\u001B[0m\u001B[32m'\u001B[0m, \u001B[32m'_i10'\u001B[0m: \u001B[32m'rprint\u001B[0m\u001B[32m(\u001B[0m\u001B[32m\"\u001B[0m\u001B[32m[\u001B[0m\u001B[32mitalic red\u001B[0m\u001B[32m]\u001B[0m\u001B[32mHello\u001B[0m\u001B[32m[\u001B[0m\u001B[32m/italic red\u001B[0m\u001B[32m]\u001B[0m\u001B[32m World!\"\u001B[0m\u001B[32m)\u001B[0m\u001B[32m'\u001B[0m, \u001B[32m'_i11'\u001B[0m: \u001B[32m'rprint\u001B[0m\u001B[32m(\u001B[0m\u001B[32m[\u001B[0m\u001B[32m\"Rich and pretty\", True\u001B[0m\u001B[32m]\u001B[0m\u001B[32m)\u001B[0m\u001B[32m'\u001B[0m, \u001B[32m'_i12'\u001B[0m: \u001B[32m'pretty.install\u001B[0m\u001B[32m(\u001B[0m\u001B[32m)\u001B[0m\u001B[32m\\nrprint\u001B[0m\u001B[32m(\u001B[0m\u001B[32m[\u001B[0m\u001B[32m\"Rich and pretty\", True\u001B[0m\u001B[32m]\u001B[0m\u001B[32m)\u001B[0m\u001B[32m'\u001B[0m, \u001B[32m'_i13'\u001B[0m: \u001B[32m'pretty.install\u001B[0m\u001B[32m(\u001B[0m\u001B[32m)\u001B[0m\u001B[32m\\nrprint\u001B[0m\u001B[32m(\u001B[0m\u001B[32m[\u001B[0m\u001B[32m\"Rich and pretty\", True\u001B[0m\u001B[32m]\u001B[0m\u001B[32m)\u001B[0m\u001B[32m'\u001B[0m, \u001B[32m'_i14'\u001B[0m: \u001B[32m'from rich import print as rprint\\nfrom rich import pretty\\nfrom rich.panel import Panel\\nfrom rich.console import Console'\u001B[0m, \u001B[32m'Panel'\u001B[0m: \u001B[1m<\u001B[0m\u001B[1;95mclass\u001B[0m\u001B[39m \u001B[0m\u001B[32m'rich.panel.Panel'\u001B[0m\u001B[1m>\u001B[0m, \u001B[32m'_i15'\u001B[0m: \u001B[32m'Panel.fit\u001B[0m\u001B[32m(\u001B[0m\u001B[32m\"\u001B[0m\u001B[32m[\u001B[0m\u001B[32mbold yellow\u001B[0m\u001B[32m]\u001B[0m\u001B[32mHi, I\\'m a Panel\", \u001B[0m\u001B[32mborder_style\u001B[0m\u001B[32m=\u001B[0m\u001B[32m\"red\"\u001B[0m\u001B[32m)\u001B[0m\u001B[32m'\u001B[0m, \u001B[32m'_15'\u001B[0m: \u001B[1m<\u001B[0m\u001B[1;95mrich.panel.Panel\u001B[0m\u001B[39m object at \u001B[0m\u001B[1;36m0x11a64b880\u001B[0m\u001B[1m>\u001B[0m, \u001B[32m'_i16'\u001B[0m: \u001B[32m'from rich import print as rprint\\nfrom rich import pretty\\nfrom rich.panel import Panel\\nfrom rich.console import Console\\nfrom rich import inspect\\nfrom rich.color import Color'\u001B[0m, \u001B[32m'inspect'\u001B[0m: \u001B[1m<\u001B[0m\u001B[1;95mfunction\u001B[0m\u001B[39m inspect at \u001B[0m\u001B[1;36m0x10768c9d0\u001B[0m\u001B[1m>\u001B[0m, \u001B[32m'Color'\u001B[0m: \u001B[1m<\u001B[0m\u001B[1;95mclass\u001B[0m\u001B[39m \u001B[0m\u001B[32m'rich.color.Color'\u001B[0m\u001B[1m>\u001B[0m, \u001B[32m'_i17'\u001B[0m: \u001B[32m'color = Color.parse\u001B[0m\u001B[32m(\u001B[0m\u001B[32m\"red\"\u001B[0m\u001B[32m)\u001B[0m\u001B[32m\\ninspect\u001B[0m\u001B[32m(\u001B[0m\u001B[32mcolor, \u001B[0m\u001B[32mmethods\u001B[0m\u001B[32m=\u001B[0m\u001B[32mTrue\u001B[0m\u001B[32m)\u001B[0m\u001B[32m'\u001B[0m, \u001B[32m'color'\u001B[0m: \u001B[1;35mColor\u001B[0m\u001B[1m(\u001B[0m\u001B[32m'red'\u001B[0m, ColorType.STANDARD, \u001B[33mnumber\u001B[0m=\u001B[1;36m1\u001B[0m\u001B[1m)\u001B[0m, \u001B[32m'_i18'\u001B[0m: \u001B[32m'console.print\u001B[0m\u001B[32m(\u001B[0m\u001B[32m[\u001B[0m\u001B[32m1, 2, 3\u001B[0m\u001B[32m]\u001B[0m\u001B[32m)\u001B[0m\u001B[32m\\nconsole.print\u001B[0m\u001B[32m(\u001B[0m\u001B[32m\"\u001B[0m\u001B[32m[\u001B[0m\u001B[32mblue underline\u001B[0m\u001B[32m]\u001B[0m\u001B[32mLooks like a link\"\u001B[0m\u001B[32m)\u001B[0m\u001B[32m\\nconsole.print\u001B[0m\u001B[32m(\u001B[0m\u001B[32mlocals\u001B[0m\u001B[32m(\u001B[0m\u001B[32m)\u001B[0m\u001B[32m)\u001B[0m\u001B[32m\\nconsole.print\u001B[0m\u001B[32m(\u001B[0m\u001B[32m\"FOO\", \u001B[0m\u001B[32mstyle\u001B[0m\u001B[32m=\u001B[0m\u001B[32m\"white\u001B[0m\u001B[32m on blue\"\u001B[0m\u001B[32m)\u001B[0m\u001B[32m'\u001B[0m, \u001B[32m'_i19'\u001B[0m: \u001B[32m'color = Color.parse\u001B[0m\u001B[32m(\u001B[0m\u001B[32m\"red\"\u001B[0m\u001B[32m)\u001B[0m\u001B[32m\\ninspect\u001B[0m\u001B[32m(\u001B[0m\u001B[32mcolor, \u001B[0m\u001B[32mmethods\u001B[0m\u001B[32m=\u001B[0m\u001B[32mTrue\u001B[0m\u001B[32m)\u001B[0m\u001B[32m'\u001B[0m, \u001B[32m'_i20'\u001B[0m: \u001B[32m'console = Console\u001B[0m\u001B[32m(\u001B[0m\u001B[32m)\u001B[0m\u001B[32m'\u001B[0m, \u001B[32m'console'\u001B[0m: \u001B[1m<\u001B[0m\u001B[1;95mconsole\u001B[0m\u001B[39m \u001B[0m\u001B[33mwidth\u001B[0m\u001B[39m=\u001B[0m\u001B[1;36m93\u001B[0m\u001B[39m ColorSystem.TRUECOLOR\u001B[0m\u001B[1m>\u001B[0m, \u001B[32m'_i21'\u001B[0m: \u001B[32m'console.print\u001B[0m\u001B[32m(\u001B[0m\u001B[32m[\u001B[0m\u001B[32m1, 2, 3\u001B[0m\u001B[32m]\u001B[0m\u001B[32m)\u001B[0m\u001B[32m\\nconsole.print\u001B[0m\u001B[32m(\u001B[0m\u001B[32m\"\u001B[0m\u001B[32m[\u001B[0m\u001B[32mblue underline\u001B[0m\u001B[32m]\u001B[0m\u001B[32mLooks like a link\"\u001B[0m\u001B[32m)\u001B[0m\u001B[32m\\nconsole.print\u001B[0m\u001B[32m(\u001B[0m\u001B[32mlocals\u001B[0m\u001B[32m(\u001B[0m\u001B[32m)\u001B[0m\u001B[32m)\u001B[0m\u001B[32m\\nconsole.print\u001B[0m\u001B[32m(\u001B[0m\u001B[32m\"FOO\", \u001B[0m\u001B[32mstyle\u001B[0m\u001B[32m=\u001B[0m\u001B[32m\"white\u001B[0m\u001B[32m on blue\"\u001B[0m\u001B[32m)\u001B[0m\u001B[32m'\u001B[0m, \u001B[32m'_i22'\u001B[0m: \u001B[32m'console.print\u001B[0m\u001B[32m(\u001B[0m\u001B[32m[\u001B[0m\u001B[32m1, 2, 3\u001B[0m\u001B[32m]\u001B[0m\u001B[32m)\u001B[0m\u001B[32m'\u001B[0m, \u001B[32m'_i23'\u001B[0m: \u001B[32m'console.print\u001B[0m\u001B[32m(\u001B[0m\u001B[32m\"\u001B[0m\u001B[32m[\u001B[0m\u001B[32mblue underline\u001B[0m\u001B[32m]\u001B[0m\u001B[32mLooks like a link\"\u001B[0m\u001B[32m)\u001B[0m\u001B[32m'\u001B[0m, \u001B[32m'_i24'\u001B[0m: \u001B[32m'console.print\u001B[0m\u001B[32m(\u001B[0m\u001B[32mdict\u001B[0m\u001B[32m(\u001B[0m\u001B[32ma\u001B[0m\u001B[32m=\u001B[0m\u001B[32m1\u001B[0m\u001B[32m, \u001B[0m\u001B[32mb\u001B[0m\u001B[32m=\u001B[0m\u001B[32m2\u001B[0m\u001B[32m, \u001B[0m\u001B[32mc\u001B[0m\u001B[32m=\u001B[0m\u001B[32m3\u001B[0m\u001B[32m)\u001B[0m\u001B[32m)\u001B[0m\u001B[32m'\u001B[0m, \u001B[32m'_i25'\u001B[0m: \u001B[32m'console.print\u001B[0m\u001B[32m(\u001B[0m\u001B[32m\"FOO\", \u001B[0m\u001B[32mstyle\u001B[0m\u001B[32m=\u001B[0m\u001B[32m\"white\u001B[0m\u001B[32m on blue\"\u001B[0m\u001B[32m)\u001B[0m\u001B[32m'\u001B[0m, \u001B[32m'_i26'\u001B[0m: \u001B[32m'console.print\u001B[0m\u001B[32m(\u001B[0m\u001B[32m\"FOO\", \u001B[0m\u001B[32mstyle\u001B[0m\u001B[32m=\u001B[0m\u001B[32m\"white\u001B[0m\u001B[32m on red\"\u001B[0m\u001B[32m)\u001B[0m\u001B[32m'\u001B[0m, \u001B[32m'_i27'\u001B[0m: \u001B[32m'console.print\u001B[0m\u001B[32m(\u001B[0m\u001B[32m\"FOO\", \u001B[0m\u001B[32mstyle\u001B[0m\u001B[32m=\u001B[0m\u001B[32m\"white\u001B[0m\u001B[32m on blue\"\u001B[0m\u001B[32m)\u001B[0m\u001B[32m'\u001B[0m, \u001B[32m'_i28'\u001B[0m: \u001B[32m'console.log\u001B[0m\u001B[32m(\u001B[0m\u001B[32m\"Hello, World!\"\u001B[0m\u001B[32m)\u001B[0m\u001B[32m'\u001B[0m, \u001B[32m'_i29'\u001B[0m: \u001B[32m'console = Console\u001B[0m\u001B[32m(\u001B[0m\u001B[32m\\n    \u001B[0m\u001B[32mlog_time_format\u001B[0m\u001B[32m=\"%Y-%m-%d %H:%M:%S\"\\n\u001B[0m\u001B[32m)\u001B[0m\u001B[32m'\u001B[0m, \u001B[32m'_i30'\u001B[0m: \u001B[32m'console.print\u001B[0m\u001B[32m(\u001B[0m\u001B[32m[\u001B[0m\u001B[32m1, 2, 3\u001B[0m\u001B[32m]\u001B[0m\u001B[32m)\u001B[0m\u001B[32m'\u001B[0m, \u001B[32m'_i31'\u001B[0m: \u001B[32m'console.print\u001B[0m\u001B[32m(\u001B[0m\u001B[32m\"\u001B[0m\u001B[32m[\u001B[0m\u001B[32mblue underline\u001B[0m\u001B[32m]\u001B[0m\u001B[32mLooks like a link\"\u001B[0m\u001B[32m)\u001B[0m\u001B[32m'\u001B[0m, \u001B[32m'_i32'\u001B[0m: \u001B[32m'console.print\u001B[0m\u001B[32m(\u001B[0m\u001B[32mdict\u001B[0m\u001B[32m(\u001B[0m\u001B[32ma\u001B[0m\u001B[32m=\u001B[0m\u001B[32m1\u001B[0m\u001B[32m, \u001B[0m\u001B[32mb\u001B[0m\u001B[32m=\u001B[0m\u001B[32m2\u001B[0m\u001B[32m, \u001B[0m\u001B[32mc\u001B[0m\u001B[32m=\u001B[0m\u001B[32m3\u001B[0m\u001B[32m)\u001B[0m\u001B[32m)\u001B[0m\u001B[32m'\u001B[0m, \u001B[32m'_i33'\u001B[0m: \u001B[32m'console.print\u001B[0m\u001B[32m(\u001B[0m\u001B[32m\"FOO\", \u001B[0m\u001B[32mstyle\u001B[0m\u001B[32m=\u001B[0m\u001B[32m\"white\u001B[0m\u001B[32m on blue\"\u001B[0m\u001B[32m)\u001B[0m\u001B[32m'\u001B[0m, \u001B[32m'_i34'\u001B[0m: \u001B[32m'console.log\u001B[0m\u001B[32m(\u001B[0m\u001B[32m\"Hello, World!\"\u001B[0m\u001B[32m)\u001B[0m\u001B[32m'\u001B[0m, \u001B[32m'_i35'\u001B[0m: \u001B[32m'console = Console\u001B[0m\u001B[32m(\u001B[0m\u001B[32m\\n    \u001B[0m\u001B[32mlog_time_format\u001B[0m\u001B[32m=\"\u001B[0m\u001B[32m[\u001B[0m\u001B[32m%Y-%m-%d %H:%M:%S\u001B[0m\u001B[32m]\u001B[0m\u001B[32m\"\\n\u001B[0m\u001B[32m)\u001B[0m\u001B[32m'\u001B[0m, \u001B[32m'_i36'\u001B[0m: \u001B[32m'console.print\u001B[0m\u001B[32m(\u001B[0m\u001B[32m[\u001B[0m\u001B[32m1, 2, 3\u001B[0m\u001B[32m]\u001B[0m\u001B[32m)\u001B[0m\u001B[32m'\u001B[0m, \u001B[32m'_i37'\u001B[0m: \u001B[32m'console.print\u001B[0m\u001B[32m(\u001B[0m\u001B[32m\"\u001B[0m\u001B[32m[\u001B[0m\u001B[32mblue underline\u001B[0m\u001B[32m]\u001B[0m\u001B[32mLooks like a link\"\u001B[0m\u001B[32m)\u001B[0m\u001B[32m'\u001B[0m, \u001B[32m'_i38'\u001B[0m: \u001B[32m'console.print\u001B[0m\u001B[32m(\u001B[0m\u001B[32mdict\u001B[0m\u001B[32m(\u001B[0m\u001B[32ma\u001B[0m\u001B[32m=\u001B[0m\u001B[32m1\u001B[0m\u001B[32m, \u001B[0m\u001B[32mb\u001B[0m\u001B[32m=\u001B[0m\u001B[32m2\u001B[0m\u001B[32m, \u001B[0m\u001B[32mc\u001B[0m\u001B[32m=\u001B[0m\u001B[32m3\u001B[0m\u001B[32m)\u001B[0m\u001B[32m)\u001B[0m\u001B[32m'\u001B[0m, \u001B[32m'_i39'\u001B[0m: \u001B[32m'console.print\u001B[0m\u001B[32m(\u001B[0m\u001B[32m\"FOO\", \u001B[0m\u001B[32mstyle\u001B[0m\u001B[32m=\u001B[0m\u001B[32m\"white\u001B[0m\u001B[32m on blue\"\u001B[0m\u001B[32m)\u001B[0m\u001B[32m'\u001B[0m, \u001B[32m'_i40'\u001B[0m: \u001B[32m'console.log\u001B[0m\u001B[32m(\u001B[0m\u001B[32m\"Hello, World!\"\u001B[0m\u001B[32m)\u001B[0m\u001B[32m'\u001B[0m, \u001B[32m'_i41'\u001B[0m: \u001B[32m'console.print_json\u001B[0m\u001B[32m(\u001B[0m\u001B[32m\\'\u001B[0m\u001B[32m[\u001B[0m\u001B[32mfalse, true, null, \"foo\"\u001B[0m\u001B[32m]\u001B[0m\u001B[32m\\'\u001B[0m\u001B[32m)\u001B[0m\u001B[32m'\u001B[0m, \u001B[32m'_i42'\u001B[0m: \u001B[32m'from rich import print as rprint\\nfrom rich import pretty\\nfrom rich.panel import Panel\\nfrom rich.console import Console\\nfrom rich import inspect\\nfrom rich.color import Color\\nfrom rich.json import JSON'\u001B[0m, \u001B[32m'JSON'\u001B[0m: \u001B[1m<\u001B[0m\u001B[1;95mclass\u001B[0m\u001B[39m \u001B[0m\u001B[32m'rich.json.JSON'\u001B[0m\u001B[1m>\u001B[0m, \u001B[32m'_i43'\u001B[0m: \u001B[32m'console.log\u001B[0m\u001B[32m(\u001B[0m\u001B[32mJSON\u001B[0m\u001B[32m(\u001B[0m\u001B[32m\\'\u001B[0m\u001B[32m[\u001B[0m\u001B[32m\"foo\", \"bar\"\u001B[0m\u001B[32m]\u001B[0m\u001B[32m\\'\u001B[0m\u001B[32m)\u001B[0m\u001B[32m)\u001B[0m\u001B[32m'\u001B[0m, \u001B[32m'_i44'\u001B[0m: \u001B[32m'console.print\u001B[0m\u001B[32m(\u001B[0m\u001B[32mJSON\u001B[0m\u001B[32m(\u001B[0m\u001B[32m\\'\u001B[0m\u001B[32m[\u001B[0m\u001B[32m\"foo\", \"bar\"\u001B[0m\u001B[32m]\u001B[0m\u001B[32m\\'\u001B[0m\u001B[32m)\u001B[0m\u001B[32m)\u001B[0m\u001B[32m'\u001B[0m, \u001B[32m'_i45'\u001B[0m: \u001B[32m'console.out\u001B[0m\u001B[32m(\u001B[0m\u001B[32m\"Locals\", locals\u001B[0m\u001B[32m(\u001B[0m\u001B[32m)\u001B[0m\u001B[32m)\u001B[0m\u001B[32m'\u001B[0m\u001B[1m}\u001B[0m\n",
      "text/html": "<pre style=\"white-space:pre;overflow-x:auto;line-height:normal;font-family:Menlo,'DejaVu Sans Mono',consolas,'Courier New',monospace\">Locals <span style=\"font-weight: bold\">{</span><span style=\"color: #008000; text-decoration-color: #008000\">'__name__'</span>: <span style=\"color: #008000; text-decoration-color: #008000\">'__main__'</span>, <span style=\"color: #008000; text-decoration-color: #008000\">'__doc__'</span>: <span style=\"color: #008000; text-decoration-color: #008000\">'Automatically created module for IPython interactive environment'</span>, <span style=\"color: #008000; text-decoration-color: #008000\">'__package__'</span>: <span style=\"color: #800080; text-decoration-color: #800080; font-style: italic\">None</span>, <span style=\"color: #008000; text-decoration-color: #008000\">'__loader__'</span>: <span style=\"color: #800080; text-decoration-color: #800080; font-style: italic\">None</span>, <span style=\"color: #008000; text-decoration-color: #008000\">'__spec__'</span>: <span style=\"color: #800080; text-decoration-color: #800080; font-style: italic\">None</span>, <span style=\"color: #008000; text-decoration-color: #008000\">'__builtin__'</span>: <span style=\"font-weight: bold\">&lt;</span><span style=\"color: #ff00ff; text-decoration-color: #ff00ff; font-weight: bold\">module</span><span style=\"color: #000000; text-decoration-color: #000000\"> </span><span style=\"color: #008000; text-decoration-color: #008000\">'builtins'</span><span style=\"color: #000000; text-decoration-color: #000000\"> </span><span style=\"color: #000000; text-decoration-color: #000000; font-weight: bold\">(</span><span style=\"color: #000000; text-decoration-color: #000000\">built-in</span><span style=\"color: #000000; text-decoration-color: #000000; font-weight: bold\">)</span><span style=\"font-weight: bold\">&gt;</span>, <span style=\"color: #008000; text-decoration-color: #008000\">'__builtins__'</span>: <span style=\"font-weight: bold\">&lt;</span><span style=\"color: #ff00ff; text-decoration-color: #ff00ff; font-weight: bold\">module</span><span style=\"color: #000000; text-decoration-color: #000000\"> </span><span style=\"color: #008000; text-decoration-color: #008000\">'builtins'</span><span style=\"color: #000000; text-decoration-color: #000000\"> </span><span style=\"color: #000000; text-decoration-color: #000000; font-weight: bold\">(</span><span style=\"color: #000000; text-decoration-color: #000000\">built-in</span><span style=\"color: #000000; text-decoration-color: #000000; font-weight: bold\">)</span><span style=\"font-weight: bold\">&gt;</span>, <span style=\"color: #008000; text-decoration-color: #008000\">'_ih'</span>: <span style=\"font-weight: bold\">[</span><span style=\"color: #008000; text-decoration-color: #008000\">''</span>, <span style=\"color: #008000; text-decoration-color: #008000\">'from rich import (\\n    print as rprint,\\n    Console,\\n)'</span>, <span style=\"color: #008000; text-decoration-color: #008000\">'locals'</span>, <span style=\"color: #008000; text-decoration-color: #008000\">'locals()'</span>, <span style=\"color: #008000; text-decoration-color: #008000\">'rprint(\"[italic red]Hello[/italic red] World!\")'</span>, <span style=\"color: #008000; text-decoration-color: #008000\">'from rich import (\\n    print as rprint,\\n    Console,\\n)'</span>, <span style=\"color: #008000; text-decoration-color: #008000\">'from rich import print as rprint\\nfrom rich.console import Console'</span>, <span style=\"color: #008000; text-decoration-color: #008000\">'rprint(\"[italic red]Hello[/italic red] World!\")'</span>, <span style=\"color: #008000; text-decoration-color: #008000\">'from rich import print as rprint\\nfrom rich import pretty\\nfrom rich.console import Console'</span>, <span style=\"color: #008000; text-decoration-color: #008000\">'print(\"[italic red]Hello[/italic red] World!\")'</span>, <span style=\"color: #008000; text-decoration-color: #008000\">'rprint(\"[italic red]Hello[/italic red] World!\")'</span>, <span style=\"color: #008000; text-decoration-color: #008000\">'rprint([\"Rich and pretty\", True])'</span>, <span style=\"color: #008000; text-decoration-color: #008000\">'pretty.install()\\nrprint([\"Rich and pretty\", True])'</span>, <span style=\"color: #008000; text-decoration-color: #008000\">'pretty.install()\\nrprint([\"Rich and pretty\", True])'</span>, <span style=\"color: #008000; text-decoration-color: #008000\">'from rich import print as rprint\\nfrom rich import pretty\\nfrom rich.panel import Panel\\nfrom rich.console import Console'</span>, <span style=\"color: #008000; text-decoration-color: #008000\">'Panel.fit(\"[bold yellow]Hi, I\\'m a Panel\", border_style=\"red\")'</span>, <span style=\"color: #008000; text-decoration-color: #008000\">'from rich import print as rprint\\nfrom rich import pretty\\nfrom rich.panel import Panel\\nfrom rich.console import Console\\nfrom rich import inspect\\nfrom rich.color import Color'</span>, <span style=\"color: #008000; text-decoration-color: #008000\">'color = Color.parse(\"red\")\\ninspect(color, methods=True)'</span>, <span style=\"color: #008000; text-decoration-color: #008000\">'console.print([1, 2, 3])\\nconsole.print(\"[blue underline]Looks like a link\")\\nconsole.print(locals())\\nconsole.print(\"FOO\", style=\"white on blue\")'</span>, <span style=\"color: #008000; text-decoration-color: #008000\">'color = Color.parse(\"red\")\\ninspect(color, methods=True)'</span>, <span style=\"color: #008000; text-decoration-color: #008000\">'console = Console()'</span>, <span style=\"color: #008000; text-decoration-color: #008000\">'console.print([1, 2, 3])\\nconsole.print(\"[blue underline]Looks like a link\")\\nconsole.print(locals())\\nconsole.print(\"FOO\", style=\"white on blue\")'</span>, <span style=\"color: #008000; text-decoration-color: #008000\">'console.print([1, 2, 3])'</span>, <span style=\"color: #008000; text-decoration-color: #008000\">'console.print(\"[blue underline]Looks like a link\")'</span>, <span style=\"color: #008000; text-decoration-color: #008000\">'console.print(dict(a=1, b=2, c=3))'</span>, <span style=\"color: #008000; text-decoration-color: #008000\">'console.print(\"FOO\", style=\"white on blue\")'</span>, <span style=\"color: #008000; text-decoration-color: #008000\">'console.print(\"FOO\", style=\"white on red\")'</span>, <span style=\"color: #008000; text-decoration-color: #008000\">'console.print(\"FOO\", style=\"white on blue\")'</span>, <span style=\"color: #008000; text-decoration-color: #008000\">'console.log(\"Hello, World!\")'</span>, <span style=\"color: #008000; text-decoration-color: #008000\">'console = Console(\\n    log_time_format=\"%Y-%m-%d %H:%M:%S\"\\n)'</span>, <span style=\"color: #008000; text-decoration-color: #008000\">'console.print([1, 2, 3])'</span>, <span style=\"color: #008000; text-decoration-color: #008000\">'console.print(\"[blue underline]Looks like a link\")'</span>, <span style=\"color: #008000; text-decoration-color: #008000\">'console.print(dict(a=1, b=2, c=3))'</span>, <span style=\"color: #008000; text-decoration-color: #008000\">'console.print(\"FOO\", style=\"white on blue\")'</span>, <span style=\"color: #008000; text-decoration-color: #008000\">'console.log(\"Hello, World!\")'</span>, <span style=\"color: #008000; text-decoration-color: #008000\">'console = Console(\\n    log_time_format=\"[%Y-%m-%d %H:%M:%S]\"\\n)'</span>, <span style=\"color: #008000; text-decoration-color: #008000\">'console.print([1, 2, 3])'</span>, <span style=\"color: #008000; text-decoration-color: #008000\">'console.print(\"[blue underline]Looks like a link\")'</span>, <span style=\"color: #008000; text-decoration-color: #008000\">'console.print(dict(a=1, b=2, c=3))'</span>, <span style=\"color: #008000; text-decoration-color: #008000\">'console.print(\"FOO\", style=\"white on blue\")'</span>, <span style=\"color: #008000; text-decoration-color: #008000\">'console.log(\"Hello, World!\")'</span>, <span style=\"color: #008000; text-decoration-color: #008000\">'console.print_json(\\'[false, true, null, \"foo\"]\\')'</span>, <span style=\"color: #008000; text-decoration-color: #008000\">'from rich import print as rprint\\nfrom rich import pretty\\nfrom rich.panel import Panel\\nfrom rich.console import Console\\nfrom rich import inspect\\nfrom rich.color import Color\\nfrom rich.json import JSON'</span>, <span style=\"color: #008000; text-decoration-color: #008000\">'console.log(JSON(\\'[\"foo\", \"bar\"]\\'))'</span>, <span style=\"color: #008000; text-decoration-color: #008000\">'console.print(JSON(\\'[\"foo\", \"bar\"]\\'))'</span>, <span style=\"color: #008000; text-decoration-color: #008000\">'console.out(\"Locals\", locals())'</span><span style=\"font-weight: bold\">]</span>, <span style=\"color: #008000; text-decoration-color: #008000\">'_oh'</span>: <span style=\"font-weight: bold\">{</span><span style=\"color: #008080; text-decoration-color: #008080; font-weight: bold\">2</span>: <span style=\"font-weight: bold\">&lt;</span><span style=\"color: #ff00ff; text-decoration-color: #ff00ff; font-weight: bold\">built-in</span><span style=\"color: #000000; text-decoration-color: #000000\"> function locals</span><span style=\"font-weight: bold\">&gt;</span>, <span style=\"color: #008080; text-decoration-color: #008080; font-weight: bold\">3</span>: <span style=\"font-weight: bold\">{</span><span style=\"color: #808000; text-decoration-color: #808000\">...</span><span style=\"font-weight: bold\">}</span>, <span style=\"color: #008080; text-decoration-color: #008080; font-weight: bold\">15</span>: <span style=\"font-weight: bold\">&lt;</span><span style=\"color: #ff00ff; text-decoration-color: #ff00ff; font-weight: bold\">rich.panel.Panel</span><span style=\"color: #000000; text-decoration-color: #000000\"> object at </span><span style=\"color: #008080; text-decoration-color: #008080; font-weight: bold\">0x11a64b880</span><span style=\"font-weight: bold\">&gt;}</span>, <span style=\"color: #008000; text-decoration-color: #008000\">'_dh'</span>: <span style=\"font-weight: bold\">[</span><span style=\"color: #800080; text-decoration-color: #800080; font-weight: bold\">PosixPath</span><span style=\"font-weight: bold\">(</span><span style=\"color: #008000; text-decoration-color: #008000\">'/Users/sanhehu/Documents/GitHub/Dev-Exp-Share/docs/source/02-SDE/01-Program-Language/02-Python-Root/Awesome-Python-Library-for-Software-Development/rich'</span><span style=\"font-weight: bold\">)]</span>, <span style=\"color: #008000; text-decoration-color: #008000\">'In'</span>: <span style=\"font-weight: bold\">[</span><span style=\"color: #008000; text-decoration-color: #008000\">''</span>, <span style=\"color: #008000; text-decoration-color: #008000\">'from rich import (\\n    print as rprint,\\n    Console,\\n)'</span>, <span style=\"color: #008000; text-decoration-color: #008000\">'locals'</span>, <span style=\"color: #008000; text-decoration-color: #008000\">'locals()'</span>, <span style=\"color: #008000; text-decoration-color: #008000\">'rprint(\"[italic red]Hello[/italic red] World!\")'</span>, <span style=\"color: #008000; text-decoration-color: #008000\">'from rich import (\\n    print as rprint,\\n    Console,\\n)'</span>, <span style=\"color: #008000; text-decoration-color: #008000\">'from rich import print as rprint\\nfrom rich.console import Console'</span>, <span style=\"color: #008000; text-decoration-color: #008000\">'rprint(\"[italic red]Hello[/italic red] World!\")'</span>, <span style=\"color: #008000; text-decoration-color: #008000\">'from rich import print as rprint\\nfrom rich import pretty\\nfrom rich.console import Console'</span>, <span style=\"color: #008000; text-decoration-color: #008000\">'print(\"[italic red]Hello[/italic red] World!\")'</span>, <span style=\"color: #008000; text-decoration-color: #008000\">'rprint(\"[italic red]Hello[/italic red] World!\")'</span>, <span style=\"color: #008000; text-decoration-color: #008000\">'rprint([\"Rich and pretty\", True])'</span>, <span style=\"color: #008000; text-decoration-color: #008000\">'pretty.install()\\nrprint([\"Rich and pretty\", True])'</span>, <span style=\"color: #008000; text-decoration-color: #008000\">'pretty.install()\\nrprint([\"Rich and pretty\", True])'</span>, <span style=\"color: #008000; text-decoration-color: #008000\">'from rich import print as rprint\\nfrom rich import pretty\\nfrom rich.panel import Panel\\nfrom rich.console import Console'</span>, <span style=\"color: #008000; text-decoration-color: #008000\">'Panel.fit(\"[bold yellow]Hi, I\\'m a Panel\", border_style=\"red\")'</span>, <span style=\"color: #008000; text-decoration-color: #008000\">'from rich import print as rprint\\nfrom rich import pretty\\nfrom rich.panel import Panel\\nfrom rich.console import Console\\nfrom rich import inspect\\nfrom rich.color import Color'</span>, <span style=\"color: #008000; text-decoration-color: #008000\">'color = Color.parse(\"red\")\\ninspect(color, methods=True)'</span>, <span style=\"color: #008000; text-decoration-color: #008000\">'console.print([1, 2, 3])\\nconsole.print(\"[blue underline]Looks like a link\")\\nconsole.print(locals())\\nconsole.print(\"FOO\", style=\"white on blue\")'</span>, <span style=\"color: #008000; text-decoration-color: #008000\">'color = Color.parse(\"red\")\\ninspect(color, methods=True)'</span>, <span style=\"color: #008000; text-decoration-color: #008000\">'console = Console()'</span>, <span style=\"color: #008000; text-decoration-color: #008000\">'console.print([1, 2, 3])\\nconsole.print(\"[blue underline]Looks like a link\")\\nconsole.print(locals())\\nconsole.print(\"FOO\", style=\"white on blue\")'</span>, <span style=\"color: #008000; text-decoration-color: #008000\">'console.print([1, 2, 3])'</span>, <span style=\"color: #008000; text-decoration-color: #008000\">'console.print(\"[blue underline]Looks like a link\")'</span>, <span style=\"color: #008000; text-decoration-color: #008000\">'console.print(dict(a=1, b=2, c=3))'</span>, <span style=\"color: #008000; text-decoration-color: #008000\">'console.print(\"FOO\", style=\"white on blue\")'</span>, <span style=\"color: #008000; text-decoration-color: #008000\">'console.print(\"FOO\", style=\"white on red\")'</span>, <span style=\"color: #008000; text-decoration-color: #008000\">'console.print(\"FOO\", style=\"white on blue\")'</span>, <span style=\"color: #008000; text-decoration-color: #008000\">'console.log(\"Hello, World!\")'</span>, <span style=\"color: #008000; text-decoration-color: #008000\">'console = Console(\\n    log_time_format=\"%Y-%m-%d %H:%M:%S\"\\n)'</span>, <span style=\"color: #008000; text-decoration-color: #008000\">'console.print([1, 2, 3])'</span>, <span style=\"color: #008000; text-decoration-color: #008000\">'console.print(\"[blue underline]Looks like a link\")'</span>, <span style=\"color: #008000; text-decoration-color: #008000\">'console.print(dict(a=1, b=2, c=3))'</span>, <span style=\"color: #008000; text-decoration-color: #008000\">'console.print(\"FOO\", style=\"white on blue\")'</span>, <span style=\"color: #008000; text-decoration-color: #008000\">'console.log(\"Hello, World!\")'</span>, <span style=\"color: #008000; text-decoration-color: #008000\">'console = Console(\\n    log_time_format=\"[%Y-%m-%d %H:%M:%S]\"\\n)'</span>, <span style=\"color: #008000; text-decoration-color: #008000\">'console.print([1, 2, 3])'</span>, <span style=\"color: #008000; text-decoration-color: #008000\">'console.print(\"[blue underline]Looks like a link\")'</span>, <span style=\"color: #008000; text-decoration-color: #008000\">'console.print(dict(a=1, b=2, c=3))'</span>, <span style=\"color: #008000; text-decoration-color: #008000\">'console.print(\"FOO\", style=\"white on blue\")'</span>, <span style=\"color: #008000; text-decoration-color: #008000\">'console.log(\"Hello, World!\")'</span>, <span style=\"color: #008000; text-decoration-color: #008000\">'console.print_json(\\'[false, true, null, \"foo\"]\\')'</span>, <span style=\"color: #008000; text-decoration-color: #008000\">'from rich import print as rprint\\nfrom rich import pretty\\nfrom rich.panel import Panel\\nfrom rich.console import Console\\nfrom rich import inspect\\nfrom rich.color import Color\\nfrom rich.json import JSON'</span>, <span style=\"color: #008000; text-decoration-color: #008000\">'console.log(JSON(\\'[\"foo\", \"bar\"]\\'))'</span>, <span style=\"color: #008000; text-decoration-color: #008000\">'console.print(JSON(\\'[\"foo\", \"bar\"]\\'))'</span>, <span style=\"color: #008000; text-decoration-color: #008000\">'console.out(\"Locals\", locals())'</span><span style=\"font-weight: bold\">]</span>, <span style=\"color: #008000; text-decoration-color: #008000\">'Out'</span>: <span style=\"font-weight: bold\">{</span><span style=\"color: #008080; text-decoration-color: #008080; font-weight: bold\">2</span>: <span style=\"font-weight: bold\">&lt;</span><span style=\"color: #ff00ff; text-decoration-color: #ff00ff; font-weight: bold\">built-in</span><span style=\"color: #000000; text-decoration-color: #000000\"> function locals</span><span style=\"font-weight: bold\">&gt;</span>, <span style=\"color: #008080; text-decoration-color: #008080; font-weight: bold\">3</span>: <span style=\"font-weight: bold\">{</span><span style=\"color: #808000; text-decoration-color: #808000\">...</span><span style=\"font-weight: bold\">}</span>, <span style=\"color: #008080; text-decoration-color: #008080; font-weight: bold\">15</span>: <span style=\"font-weight: bold\">&lt;</span><span style=\"color: #ff00ff; text-decoration-color: #ff00ff; font-weight: bold\">rich.panel.Panel</span><span style=\"color: #000000; text-decoration-color: #000000\"> object at </span><span style=\"color: #008080; text-decoration-color: #008080; font-weight: bold\">0x11a64b880</span><span style=\"font-weight: bold\">&gt;}</span>, <span style=\"color: #008000; text-decoration-color: #008000\">'get_ipython'</span>: <span style=\"font-weight: bold\">&lt;</span><span style=\"color: #ff00ff; text-decoration-color: #ff00ff; font-weight: bold\">bound</span><span style=\"color: #000000; text-decoration-color: #000000\"> method InteractiveShell.get_ipython of &lt;ipykernel.zmqshell.ZMQInteractiveShell object at </span><span style=\"color: #008080; text-decoration-color: #008080; font-weight: bold\">0x1075bc250</span><span style=\"font-weight: bold\">&gt;</span>&gt;, <span style=\"color: #008000; text-decoration-color: #008000\">'exit'</span>: <span style=\"font-weight: bold\">&lt;</span><span style=\"color: #ff00ff; text-decoration-color: #ff00ff; font-weight: bold\">IPython.core.autocall.ZMQExitAutocall</span><span style=\"color: #000000; text-decoration-color: #000000\"> object at </span><span style=\"color: #008080; text-decoration-color: #008080; font-weight: bold\">0x1075ef190</span><span style=\"font-weight: bold\">&gt;</span>, <span style=\"color: #008000; text-decoration-color: #008000\">'quit'</span>: <span style=\"font-weight: bold\">&lt;</span><span style=\"color: #ff00ff; text-decoration-color: #ff00ff; font-weight: bold\">IPython.core.autocall.ZMQExitAutocall</span><span style=\"color: #000000; text-decoration-color: #000000\"> object at </span><span style=\"color: #008080; text-decoration-color: #008080; font-weight: bold\">0x1075ef190</span><span style=\"font-weight: bold\">&gt;</span>, <span style=\"color: #008000; text-decoration-color: #008000\">'_'</span>: <span style=\"font-weight: bold\">&lt;</span><span style=\"color: #ff00ff; text-decoration-color: #ff00ff; font-weight: bold\">rich.panel.Panel</span><span style=\"color: #000000; text-decoration-color: #000000\"> object at </span><span style=\"color: #008080; text-decoration-color: #008080; font-weight: bold\">0x11a64b880</span><span style=\"font-weight: bold\">&gt;</span>, <span style=\"color: #008000; text-decoration-color: #008000\">'__'</span>: <span style=\"font-weight: bold\">{</span><span style=\"color: #808000; text-decoration-color: #808000\">...</span><span style=\"font-weight: bold\">}</span>, <span style=\"color: #008000; text-decoration-color: #008000\">'___'</span>: <span style=\"font-weight: bold\">&lt;</span><span style=\"color: #ff00ff; text-decoration-color: #ff00ff; font-weight: bold\">built-in</span><span style=\"color: #000000; text-decoration-color: #000000\"> function locals</span><span style=\"font-weight: bold\">&gt;</span>, <span style=\"color: #008000; text-decoration-color: #008000\">'_i'</span>: <span style=\"color: #008000; text-decoration-color: #008000\">'console.print(JSON(\\'[\"foo\", \"bar\"]\\'))'</span>, <span style=\"color: #008000; text-decoration-color: #008000\">'_ii'</span>: <span style=\"color: #008000; text-decoration-color: #008000\">'console.log(JSON(\\'[\"foo\", \"bar\"]\\'))'</span>, <span style=\"color: #008000; text-decoration-color: #008000\">'_iii'</span>: <span style=\"color: #008000; text-decoration-color: #008000\">'from rich import print as rprint\\nfrom rich import pretty\\nfrom rich.panel import Panel\\nfrom rich.console import Console\\nfrom rich import inspect\\nfrom rich.color import Color\\nfrom rich.json import JSON'</span>, <span style=\"color: #008000; text-decoration-color: #008000\">'_i1'</span>: <span style=\"color: #008000; text-decoration-color: #008000\">'from rich import (\\n    print as rprint,\\n    Console,\\n)'</span>, <span style=\"color: #008000; text-decoration-color: #008000\">'rprint'</span>: <span style=\"font-weight: bold\">&lt;</span><span style=\"color: #ff00ff; text-decoration-color: #ff00ff; font-weight: bold\">function</span><span style=\"color: #000000; text-decoration-color: #000000\"> print at </span><span style=\"color: #008080; text-decoration-color: #008080; font-weight: bold\">0x10768c8b0</span><span style=\"font-weight: bold\">&gt;</span>, <span style=\"color: #008000; text-decoration-color: #008000\">'sys'</span>: <span style=\"font-weight: bold\">&lt;</span><span style=\"color: #ff00ff; text-decoration-color: #ff00ff; font-weight: bold\">module</span><span style=\"color: #000000; text-decoration-color: #000000\"> </span><span style=\"color: #008000; text-decoration-color: #008000\">'sys'</span><span style=\"color: #000000; text-decoration-color: #000000\"> </span><span style=\"color: #000000; text-decoration-color: #000000; font-weight: bold\">(</span><span style=\"color: #000000; text-decoration-color: #000000\">built-in</span><span style=\"color: #000000; text-decoration-color: #000000; font-weight: bold\">)</span><span style=\"font-weight: bold\">&gt;</span>, <span style=\"color: #008000; text-decoration-color: #008000\">'remove_imported_pydev_package'</span>: <span style=\"font-weight: bold\">&lt;</span><span style=\"color: #ff00ff; text-decoration-color: #ff00ff; font-weight: bold\">function</span><span style=\"color: #000000; text-decoration-color: #000000\"> remove_imported_pydev_package at </span><span style=\"color: #008080; text-decoration-color: #008080; font-weight: bold\">0x1081c1040</span><span style=\"font-weight: bold\">&gt;</span>, <span style=\"color: #008000; text-decoration-color: #008000\">'_pydevd_bundle'</span>: <span style=\"font-weight: bold\">&lt;</span><span style=\"color: #ff00ff; text-decoration-color: #ff00ff; font-weight: bold\">module</span><span style=\"color: #000000; text-decoration-color: #000000\"> </span><span style=\"color: #008000; text-decoration-color: #008000\">'_pydevd_bundle'</span><span style=\"color: #000000; text-decoration-color: #000000\"> from </span><span style=\"color: #008000; text-decoration-color: #008000\">'/Applications/PyCharm.app/Contents/plugins/python/helpers/pydev/_pydevd_bundle/__init__.py'</span><span style=\"font-weight: bold\">&gt;</span>, <span style=\"color: #008000; text-decoration-color: #008000\">'pydev_jupyter_vars'</span>: <span style=\"font-weight: bold\">&lt;</span><span style=\"color: #ff00ff; text-decoration-color: #ff00ff; font-weight: bold\">module</span><span style=\"color: #000000; text-decoration-color: #000000\"> </span><span style=\"color: #008000; text-decoration-color: #008000\">'pydev_jupyter_vars'</span><span style=\"color: #000000; text-decoration-color: #000000\"> from </span><span style=\"color: #008000; text-decoration-color: #008000\">'/Applications/PyCharm.app/Contents/plugins/python/helpers-pro/jupyter_debug/pydev_jupyter_vars.py'</span><span style=\"font-weight: bold\">&gt;</span>, <span style=\"color: #008000; text-decoration-color: #008000\">'_i2'</span>: <span style=\"color: #008000; text-decoration-color: #008000\">'locals'</span>, <span style=\"color: #008000; text-decoration-color: #008000\">'_2'</span>: <span style=\"font-weight: bold\">&lt;</span><span style=\"color: #ff00ff; text-decoration-color: #ff00ff; font-weight: bold\">built-in</span><span style=\"color: #000000; text-decoration-color: #000000\"> function locals</span><span style=\"font-weight: bold\">&gt;</span>, <span style=\"color: #008000; text-decoration-color: #008000\">'_i3'</span>: <span style=\"color: #008000; text-decoration-color: #008000\">'locals()'</span>, <span style=\"color: #008000; text-decoration-color: #008000\">'_3'</span>: <span style=\"font-weight: bold\">{</span><span style=\"color: #808000; text-decoration-color: #808000\">...</span><span style=\"font-weight: bold\">}</span>, <span style=\"color: #008000; text-decoration-color: #008000\">'DataFrame'</span>: <span style=\"font-weight: bold\">&lt;</span><span style=\"color: #ff00ff; text-decoration-color: #ff00ff; font-weight: bold\">class</span><span style=\"color: #000000; text-decoration-color: #000000\"> </span><span style=\"color: #008000; text-decoration-color: #008000\">'pandas.core.frame.DataFrame'</span><span style=\"font-weight: bold\">&gt;</span>, <span style=\"color: #008000; text-decoration-color: #008000\">'MultiIndex'</span>: <span style=\"font-weight: bold\">&lt;</span><span style=\"color: #ff00ff; text-decoration-color: #ff00ff; font-weight: bold\">class</span><span style=\"color: #000000; text-decoration-color: #000000\"> </span><span style=\"color: #008000; text-decoration-color: #008000\">'pandas.core.indexes.multi.MultiIndex'</span><span style=\"font-weight: bold\">&gt;</span>, <span style=\"color: #008000; text-decoration-color: #008000\">'print_columns'</span>: <span style=\"font-weight: bold\">&lt;</span><span style=\"color: #ff00ff; text-decoration-color: #ff00ff; font-weight: bold\">function</span><span style=\"color: #000000; text-decoration-color: #000000\"> print_columns at </span><span style=\"color: #008080; text-decoration-color: #008080; font-weight: bold\">0x11acd09d0</span><span style=\"font-weight: bold\">&gt;</span>, <span style=\"color: #008000; text-decoration-color: #008000\">'_i4'</span>: <span style=\"color: #008000; text-decoration-color: #008000\">'rprint(\"[italic red]Hello[/italic red] World!\")'</span>, <span style=\"color: #008000; text-decoration-color: #008000\">'_i5'</span>: <span style=\"color: #008000; text-decoration-color: #008000\">'from rich import (\\n    print as rprint,\\n    Console,\\n)'</span>, <span style=\"color: #008000; text-decoration-color: #008000\">'_i6'</span>: <span style=\"color: #008000; text-decoration-color: #008000\">'from rich import print as rprint\\nfrom rich.console import Console'</span>, <span style=\"color: #008000; text-decoration-color: #008000\">'Console'</span>: <span style=\"font-weight: bold\">&lt;</span><span style=\"color: #ff00ff; text-decoration-color: #ff00ff; font-weight: bold\">class</span><span style=\"color: #000000; text-decoration-color: #000000\"> </span><span style=\"color: #008000; text-decoration-color: #008000\">'rich.console.Console'</span><span style=\"font-weight: bold\">&gt;</span>, <span style=\"color: #008000; text-decoration-color: #008000\">'_i7'</span>: <span style=\"color: #008000; text-decoration-color: #008000\">'rprint(\"[italic red]Hello[/italic red] World!\")'</span>, <span style=\"color: #008000; text-decoration-color: #008000\">'_i8'</span>: <span style=\"color: #008000; text-decoration-color: #008000\">'from rich import print as rprint\\nfrom rich import pretty\\nfrom rich.console import Console'</span>, <span style=\"color: #008000; text-decoration-color: #008000\">'pretty'</span>: <span style=\"font-weight: bold\">&lt;</span><span style=\"color: #ff00ff; text-decoration-color: #ff00ff; font-weight: bold\">module</span><span style=\"color: #000000; text-decoration-color: #000000\"> </span><span style=\"color: #008000; text-decoration-color: #008000\">'rich.pretty'</span><span style=\"color: #000000; text-decoration-color: #000000\"> from </span><span style=\"color: #008000; text-decoration-color: #008000\">'/Users/sanhehu/venvs/python/3.8.11/dev_exp_share_venv/lib/python3.8/site-packages/rich/pretty.py'</span><span style=\"font-weight: bold\">&gt;</span>, <span style=\"color: #008000; text-decoration-color: #008000\">'_i9'</span>: <span style=\"color: #008000; text-decoration-color: #008000\">'print(\"[italic red]Hello[/italic red] World!\")'</span>, <span style=\"color: #008000; text-decoration-color: #008000\">'_i10'</span>: <span style=\"color: #008000; text-decoration-color: #008000\">'rprint(\"[italic red]Hello[/italic red] World!\")'</span>, <span style=\"color: #008000; text-decoration-color: #008000\">'_i11'</span>: <span style=\"color: #008000; text-decoration-color: #008000\">'rprint([\"Rich and pretty\", True])'</span>, <span style=\"color: #008000; text-decoration-color: #008000\">'_i12'</span>: <span style=\"color: #008000; text-decoration-color: #008000\">'pretty.install()\\nrprint([\"Rich and pretty\", True])'</span>, <span style=\"color: #008000; text-decoration-color: #008000\">'_i13'</span>: <span style=\"color: #008000; text-decoration-color: #008000\">'pretty.install()\\nrprint([\"Rich and pretty\", True])'</span>, <span style=\"color: #008000; text-decoration-color: #008000\">'_i14'</span>: <span style=\"color: #008000; text-decoration-color: #008000\">'from rich import print as rprint\\nfrom rich import pretty\\nfrom rich.panel import Panel\\nfrom rich.console import Console'</span>, <span style=\"color: #008000; text-decoration-color: #008000\">'Panel'</span>: <span style=\"font-weight: bold\">&lt;</span><span style=\"color: #ff00ff; text-decoration-color: #ff00ff; font-weight: bold\">class</span><span style=\"color: #000000; text-decoration-color: #000000\"> </span><span style=\"color: #008000; text-decoration-color: #008000\">'rich.panel.Panel'</span><span style=\"font-weight: bold\">&gt;</span>, <span style=\"color: #008000; text-decoration-color: #008000\">'_i15'</span>: <span style=\"color: #008000; text-decoration-color: #008000\">'Panel.fit(\"[bold yellow]Hi, I\\'m a Panel\", border_style=\"red\")'</span>, <span style=\"color: #008000; text-decoration-color: #008000\">'_15'</span>: <span style=\"font-weight: bold\">&lt;</span><span style=\"color: #ff00ff; text-decoration-color: #ff00ff; font-weight: bold\">rich.panel.Panel</span><span style=\"color: #000000; text-decoration-color: #000000\"> object at </span><span style=\"color: #008080; text-decoration-color: #008080; font-weight: bold\">0x11a64b880</span><span style=\"font-weight: bold\">&gt;</span>, <span style=\"color: #008000; text-decoration-color: #008000\">'_i16'</span>: <span style=\"color: #008000; text-decoration-color: #008000\">'from rich import print as rprint\\nfrom rich import pretty\\nfrom rich.panel import Panel\\nfrom rich.console import Console\\nfrom rich import inspect\\nfrom rich.color import Color'</span>, <span style=\"color: #008000; text-decoration-color: #008000\">'inspect'</span>: <span style=\"font-weight: bold\">&lt;</span><span style=\"color: #ff00ff; text-decoration-color: #ff00ff; font-weight: bold\">function</span><span style=\"color: #000000; text-decoration-color: #000000\"> inspect at </span><span style=\"color: #008080; text-decoration-color: #008080; font-weight: bold\">0x10768c9d0</span><span style=\"font-weight: bold\">&gt;</span>, <span style=\"color: #008000; text-decoration-color: #008000\">'Color'</span>: <span style=\"font-weight: bold\">&lt;</span><span style=\"color: #ff00ff; text-decoration-color: #ff00ff; font-weight: bold\">class</span><span style=\"color: #000000; text-decoration-color: #000000\"> </span><span style=\"color: #008000; text-decoration-color: #008000\">'rich.color.Color'</span><span style=\"font-weight: bold\">&gt;</span>, <span style=\"color: #008000; text-decoration-color: #008000\">'_i17'</span>: <span style=\"color: #008000; text-decoration-color: #008000\">'color = Color.parse(\"red\")\\ninspect(color, methods=True)'</span>, <span style=\"color: #008000; text-decoration-color: #008000\">'color'</span>: <span style=\"color: #800080; text-decoration-color: #800080; font-weight: bold\">Color</span><span style=\"font-weight: bold\">(</span><span style=\"color: #008000; text-decoration-color: #008000\">'red'</span>, ColorType.STANDARD, <span style=\"color: #808000; text-decoration-color: #808000\">number</span>=<span style=\"color: #008080; text-decoration-color: #008080; font-weight: bold\">1</span><span style=\"font-weight: bold\">)</span>, <span style=\"color: #008000; text-decoration-color: #008000\">'_i18'</span>: <span style=\"color: #008000; text-decoration-color: #008000\">'console.print([1, 2, 3])\\nconsole.print(\"[blue underline]Looks like a link\")\\nconsole.print(locals())\\nconsole.print(\"FOO\", style=\"white on blue\")'</span>, <span style=\"color: #008000; text-decoration-color: #008000\">'_i19'</span>: <span style=\"color: #008000; text-decoration-color: #008000\">'color = Color.parse(\"red\")\\ninspect(color, methods=True)'</span>, <span style=\"color: #008000; text-decoration-color: #008000\">'_i20'</span>: <span style=\"color: #008000; text-decoration-color: #008000\">'console = Console()'</span>, <span style=\"color: #008000; text-decoration-color: #008000\">'console'</span>: <span style=\"font-weight: bold\">&lt;</span><span style=\"color: #ff00ff; text-decoration-color: #ff00ff; font-weight: bold\">console</span><span style=\"color: #000000; text-decoration-color: #000000\"> </span><span style=\"color: #808000; text-decoration-color: #808000\">width</span><span style=\"color: #000000; text-decoration-color: #000000\">=</span><span style=\"color: #008080; text-decoration-color: #008080; font-weight: bold\">93</span><span style=\"color: #000000; text-decoration-color: #000000\"> ColorSystem.TRUECOLOR</span><span style=\"font-weight: bold\">&gt;</span>, <span style=\"color: #008000; text-decoration-color: #008000\">'_i21'</span>: <span style=\"color: #008000; text-decoration-color: #008000\">'console.print([1, 2, 3])\\nconsole.print(\"[blue underline]Looks like a link\")\\nconsole.print(locals())\\nconsole.print(\"FOO\", style=\"white on blue\")'</span>, <span style=\"color: #008000; text-decoration-color: #008000\">'_i22'</span>: <span style=\"color: #008000; text-decoration-color: #008000\">'console.print([1, 2, 3])'</span>, <span style=\"color: #008000; text-decoration-color: #008000\">'_i23'</span>: <span style=\"color: #008000; text-decoration-color: #008000\">'console.print(\"[blue underline]Looks like a link\")'</span>, <span style=\"color: #008000; text-decoration-color: #008000\">'_i24'</span>: <span style=\"color: #008000; text-decoration-color: #008000\">'console.print(dict(a=1, b=2, c=3))'</span>, <span style=\"color: #008000; text-decoration-color: #008000\">'_i25'</span>: <span style=\"color: #008000; text-decoration-color: #008000\">'console.print(\"FOO\", style=\"white on blue\")'</span>, <span style=\"color: #008000; text-decoration-color: #008000\">'_i26'</span>: <span style=\"color: #008000; text-decoration-color: #008000\">'console.print(\"FOO\", style=\"white on red\")'</span>, <span style=\"color: #008000; text-decoration-color: #008000\">'_i27'</span>: <span style=\"color: #008000; text-decoration-color: #008000\">'console.print(\"FOO\", style=\"white on blue\")'</span>, <span style=\"color: #008000; text-decoration-color: #008000\">'_i28'</span>: <span style=\"color: #008000; text-decoration-color: #008000\">'console.log(\"Hello, World!\")'</span>, <span style=\"color: #008000; text-decoration-color: #008000\">'_i29'</span>: <span style=\"color: #008000; text-decoration-color: #008000\">'console = Console(\\n    log_time_format=\"%Y-%m-%d %H:%M:%S\"\\n)'</span>, <span style=\"color: #008000; text-decoration-color: #008000\">'_i30'</span>: <span style=\"color: #008000; text-decoration-color: #008000\">'console.print([1, 2, 3])'</span>, <span style=\"color: #008000; text-decoration-color: #008000\">'_i31'</span>: <span style=\"color: #008000; text-decoration-color: #008000\">'console.print(\"[blue underline]Looks like a link\")'</span>, <span style=\"color: #008000; text-decoration-color: #008000\">'_i32'</span>: <span style=\"color: #008000; text-decoration-color: #008000\">'console.print(dict(a=1, b=2, c=3))'</span>, <span style=\"color: #008000; text-decoration-color: #008000\">'_i33'</span>: <span style=\"color: #008000; text-decoration-color: #008000\">'console.print(\"FOO\", style=\"white on blue\")'</span>, <span style=\"color: #008000; text-decoration-color: #008000\">'_i34'</span>: <span style=\"color: #008000; text-decoration-color: #008000\">'console.log(\"Hello, World!\")'</span>, <span style=\"color: #008000; text-decoration-color: #008000\">'_i35'</span>: <span style=\"color: #008000; text-decoration-color: #008000\">'console = Console(\\n    log_time_format=\"[%Y-%m-%d %H:%M:%S]\"\\n)'</span>, <span style=\"color: #008000; text-decoration-color: #008000\">'_i36'</span>: <span style=\"color: #008000; text-decoration-color: #008000\">'console.print([1, 2, 3])'</span>, <span style=\"color: #008000; text-decoration-color: #008000\">'_i37'</span>: <span style=\"color: #008000; text-decoration-color: #008000\">'console.print(\"[blue underline]Looks like a link\")'</span>, <span style=\"color: #008000; text-decoration-color: #008000\">'_i38'</span>: <span style=\"color: #008000; text-decoration-color: #008000\">'console.print(dict(a=1, b=2, c=3))'</span>, <span style=\"color: #008000; text-decoration-color: #008000\">'_i39'</span>: <span style=\"color: #008000; text-decoration-color: #008000\">'console.print(\"FOO\", style=\"white on blue\")'</span>, <span style=\"color: #008000; text-decoration-color: #008000\">'_i40'</span>: <span style=\"color: #008000; text-decoration-color: #008000\">'console.log(\"Hello, World!\")'</span>, <span style=\"color: #008000; text-decoration-color: #008000\">'_i41'</span>: <span style=\"color: #008000; text-decoration-color: #008000\">'console.print_json(\\'[false, true, null, \"foo\"]\\')'</span>, <span style=\"color: #008000; text-decoration-color: #008000\">'_i42'</span>: <span style=\"color: #008000; text-decoration-color: #008000\">'from rich import print as rprint\\nfrom rich import pretty\\nfrom rich.panel import Panel\\nfrom rich.console import Console\\nfrom rich import inspect\\nfrom rich.color import Color\\nfrom rich.json import JSON'</span>, <span style=\"color: #008000; text-decoration-color: #008000\">'JSON'</span>: <span style=\"font-weight: bold\">&lt;</span><span style=\"color: #ff00ff; text-decoration-color: #ff00ff; font-weight: bold\">class</span><span style=\"color: #000000; text-decoration-color: #000000\"> </span><span style=\"color: #008000; text-decoration-color: #008000\">'rich.json.JSON'</span><span style=\"font-weight: bold\">&gt;</span>, <span style=\"color: #008000; text-decoration-color: #008000\">'_i43'</span>: <span style=\"color: #008000; text-decoration-color: #008000\">'console.log(JSON(\\'[\"foo\", \"bar\"]\\'))'</span>, <span style=\"color: #008000; text-decoration-color: #008000\">'_i44'</span>: <span style=\"color: #008000; text-decoration-color: #008000\">'console.print(JSON(\\'[\"foo\", \"bar\"]\\'))'</span>, <span style=\"color: #008000; text-decoration-color: #008000\">'_i45'</span>: <span style=\"color: #008000; text-decoration-color: #008000\">'console.out(\"Locals\", locals())'</span><span style=\"font-weight: bold\">}</span>\n</pre>\n"
     },
     "metadata": {},
     "output_type": "display_data"
    }
   ],
   "source": [
    "console.out(\"Locals\", locals())"
   ],
   "metadata": {
    "collapsed": false,
    "pycharm": {
     "name": "#%%\n"
    }
   }
  },
  {
   "cell_type": "markdown",
   "source": [
    "### Rules"
   ],
   "metadata": {
    "collapsed": false,
    "pycharm": {
     "name": "#%% md\n"
    }
   }
  },
  {
   "cell_type": "code",
   "execution_count": 58,
   "outputs": [
    {
     "data": {
      "text/plain": "\u001B[92m----------------------------------------- \u001B[0m\u001B[1;31mChapter \u001B[0m\u001B[1;31m2\u001B[0m\u001B[92m -----------------------------------------\u001B[0m\n",
      "text/html": "<pre style=\"white-space:pre;overflow-x:auto;line-height:normal;font-family:Menlo,'DejaVu Sans Mono',consolas,'Courier New',monospace\"><span style=\"color: #00ff00; text-decoration-color: #00ff00\">----------------------------------------- </span><span style=\"color: #800000; text-decoration-color: #800000; font-weight: bold\">Chapter </span><span style=\"color: #800000; text-decoration-color: #800000; font-weight: bold\">2</span><span style=\"color: #00ff00; text-decoration-color: #00ff00\"> -----------------------------------------</span>\n</pre>\n"
     },
     "metadata": {},
     "output_type": "display_data"
    }
   ],
   "source": [
    "console.rule(\"[bold red]Chapter 2\", characters=\"-\")"
   ],
   "metadata": {
    "collapsed": false,
    "pycharm": {
     "name": "#%%\n"
    }
   }
  },
  {
   "cell_type": "markdown",
   "source": [
    "### Status\n",
    "\n",
    "jupyter notebook doesn't print console widget"
   ],
   "metadata": {
    "collapsed": false,
    "pycharm": {
     "name": "#%% md\n"
    }
   }
  },
  {
   "cell_type": "markdown",
   "source": [
    "### Justify / Alignment"
   ],
   "metadata": {
    "collapsed": false,
    "pycharm": {
     "name": "#%% md\n"
    }
   }
  },
  {
   "cell_type": "code",
   "execution_count": 56,
   "outputs": [
    {
     "data": {
      "text/plain": "\u001B[1;37;44mRich\u001B[0m\n",
      "text/html": "<pre style=\"white-space:pre;overflow-x:auto;line-height:normal;font-family:Menlo,'DejaVu Sans Mono',consolas,'Courier New',monospace\"><span style=\"color: #c0c0c0; text-decoration-color: #c0c0c0; background-color: #000080; font-weight: bold\">Rich</span>\n</pre>\n"
     },
     "metadata": {},
     "output_type": "display_data"
    },
    {
     "data": {
      "text/plain": "\u001B[1;37;44mRich\u001B[0m\u001B[1;37;44m                \u001B[0m\n",
      "text/html": "<pre style=\"white-space:pre;overflow-x:auto;line-height:normal;font-family:Menlo,'DejaVu Sans Mono',consolas,'Courier New',monospace\"><span style=\"color: #c0c0c0; text-decoration-color: #c0c0c0; background-color: #000080; font-weight: bold\">Rich                </span>\n</pre>\n"
     },
     "metadata": {},
     "output_type": "display_data"
    },
    {
     "data": {
      "text/plain": "\u001B[1;37;44m        \u001B[0m\u001B[1;37;44mRich\u001B[0m\u001B[1;37;44m        \u001B[0m\n",
      "text/html": "<pre style=\"white-space:pre;overflow-x:auto;line-height:normal;font-family:Menlo,'DejaVu Sans Mono',consolas,'Courier New',monospace\"><span style=\"color: #c0c0c0; text-decoration-color: #c0c0c0; background-color: #000080; font-weight: bold\">        Rich        </span>\n</pre>\n"
     },
     "metadata": {},
     "output_type": "display_data"
    },
    {
     "data": {
      "text/plain": "\u001B[1;37;44m                \u001B[0m\u001B[1;37;44mRich\u001B[0m\n",
      "text/html": "<pre style=\"white-space:pre;overflow-x:auto;line-height:normal;font-family:Menlo,'DejaVu Sans Mono',consolas,'Courier New',monospace\"><span style=\"color: #c0c0c0; text-decoration-color: #c0c0c0; background-color: #000080; font-weight: bold\">                Rich</span>\n</pre>\n"
     },
     "metadata": {},
     "output_type": "display_data"
    }
   ],
   "source": [
    "console = Console(width=20)\n",
    "\n",
    "style = \"bold white on blue\"\n",
    "console.print(\"Rich\", style=style)\n",
    "console.print(\"Rich\", style=style, justify=\"left\")\n",
    "console.print(\"Rich\", style=style, justify=\"center\")\n",
    "console.print(\"Rich\", style=style, justify=\"right\")"
   ],
   "metadata": {
    "collapsed": false,
    "pycharm": {
     "name": "#%%\n"
    }
   }
  },
  {
   "cell_type": "markdown",
   "source": [
    "### Exporting SVGs"
   ],
   "metadata": {
    "collapsed": false,
    "pycharm": {
     "name": "#%% md\n"
    }
   }
  },
  {
   "cell_type": "code",
   "execution_count": 59,
   "outputs": [
    {
     "data": {
      "text/plain": "\u001B[1m[\u001B[0m\n  \u001B[3;91mfalse\u001B[0m,\n  \u001B[3;92mtrue\u001B[0m,\n  \u001B[3;35mnull\u001B[0m,\n  \u001B[32m\"foo\"\u001B[0m\n\u001B[1m]\u001B[0m\n",
      "text/html": "<pre style=\"white-space:pre;overflow-x:auto;line-height:normal;font-family:Menlo,'DejaVu Sans Mono',consolas,'Courier New',monospace\"><span style=\"font-weight: bold\">[</span>\n  <span style=\"color: #ff0000; text-decoration-color: #ff0000; font-style: italic\">false</span>,\n  <span style=\"color: #00ff00; text-decoration-color: #00ff00; font-style: italic\">true</span>,\n  <span style=\"color: #800080; text-decoration-color: #800080; font-style: italic\">null</span>,\n  <span style=\"color: #008000; text-decoration-color: #008000\">\"foo\"</span>\n<span style=\"font-weight: bold\">]</span>\n</pre>\n"
     },
     "metadata": {},
     "output_type": "display_data"
    },
    {
     "data": {
      "text/plain": "\u001B[92m----------------------------------------- \u001B[0m\u001B[1;31mChapter \u001B[0m\u001B[1;31m2\u001B[0m\u001B[92m -----------------------------------------\u001B[0m\n",
      "text/html": "<pre style=\"white-space:pre;overflow-x:auto;line-height:normal;font-family:Menlo,'DejaVu Sans Mono',consolas,'Courier New',monospace\"><span style=\"color: #00ff00; text-decoration-color: #00ff00\">----------------------------------------- </span><span style=\"color: #800000; text-decoration-color: #800000; font-weight: bold\">Chapter </span><span style=\"color: #800000; text-decoration-color: #800000; font-weight: bold\">2</span><span style=\"color: #00ff00; text-decoration-color: #00ff00\"> -----------------------------------------</span>\n</pre>\n"
     },
     "metadata": {},
     "output_type": "display_data"
    }
   ],
   "source": [
    "from rich.terminal_theme import MONOKAI\n",
    "\n",
    "console = Console(record=True) # what is printed after will become SVG\n",
    "console.print_json('[false, true, null, \"foo\"]')\n",
    "console.rule(\"[bold red]Chapter 2\", characters=\"-\")\n",
    "console.save_svg(\"example.svg\", theme=MONOKAI)"
   ],
   "metadata": {
    "collapsed": false,
    "pycharm": {
     "name": "#%%\n"
    }
   }
  },
  {
   "cell_type": "markdown",
   "source": [
    "### Paging"
   ],
   "metadata": {
    "collapsed": false,
    "pycharm": {
     "name": "#%% md\n"
    }
   }
  },
  {
   "cell_type": "code",
   "execution_count": 60,
   "outputs": [
    {
     "name": "stdout",
     "output_type": "stream",
     "text": [
      "                                        Rich features                                        \n",
      "                                                                                             \n",
      "    Colors    ✓ 4-bit color                 ▄▄▄▄▄▄▄▄▄▄▄▄▄▄▄▄▄▄▄▄▄▄▄▄▄▄▄▄▄▄▄▄▄▄▄▄▄▄▄▄▄▄▄▄▄▄▄▄ \n",
      "              ✓ 8-bit color                 ▄▄▄▄▄▄▄▄▄▄▄▄▄▄▄▄▄▄▄▄▄▄▄▄▄▄▄▄▄▄▄▄▄▄▄▄▄▄▄▄▄▄▄▄▄▄▄▄ \n",
      "              ✓ Truecolor (16.7 million)    ▄▄▄▄▄▄▄▄▄▄▄▄▄▄▄▄▄▄▄▄▄▄▄▄▄▄▄▄▄▄▄▄▄▄▄▄▄▄▄▄▄▄▄▄▄▄▄▄ \n",
      "              ✓ Dumb terminals              ▄▄▄▄▄▄▄▄▄▄▄▄▄▄▄▄▄▄▄▄▄▄▄▄▄▄▄▄▄▄▄▄▄▄▄▄▄▄▄▄▄▄▄▄▄▄▄▄ \n",
      "              ✓ Automatic color conversion  ▄▄▄▄▄▄▄▄▄▄▄▄▄▄▄▄▄▄▄▄▄▄▄▄▄▄▄▄▄▄▄▄▄▄▄▄▄▄▄▄▄▄▄▄▄▄▄▄ \n",
      "                                                                                             \n",
      "    Styles    All ansi styles: bold, dim, italic, underline, strikethrough, reverse, and     \n",
      "              even blink.                                                                    \n",
      "                                                                                             \n",
      "     Text     Word wrap text. Justify left, center, right or full.                           \n",
      "                                                                                             \n",
      "              Lorem ipsum dolor   Lorem ipsum dolor    Lorem ipsum dolor Lorem  ipsum  dolor \n",
      "              sit amet,               sit amet,                sit amet, sit           amet, \n",
      "              consectetur            consectetur             consectetur consectetur         \n",
      "              adipiscing elit.     adipiscing elit.     adipiscing elit. adipiscing    elit. \n",
      "              Quisque in metus     Quisque in metus     Quisque in metus Quisque  in   metus \n",
      "              sed sapien              sed sapien              sed sapien sed          sapien \n",
      "              ultricies pretium a ultricies pretium  ultricies pretium a ultricies pretium a \n",
      "              at justo. Maecenas     a at justo.      at justo. Maecenas at justo.  Maecenas \n",
      "              luctus velit et      Maecenas luctus       luctus velit et luctus   velit   et \n",
      "              auctor maximus.      velit et auctor       auctor maximus. auctor maximus.     \n",
      "                                       maximus.                                              \n",
      "                                                                                             \n",
      "    Asian     🇨🇳  该库支持中文，日文和韩文文本！                                             \n",
      "   language   🇯🇵  ライブラリは中国語、日本語、韓国語のテキストをサポートしています           \n",
      "   support    🇰🇷  이 라이브러리는 중국어, 일본어 및 한국어 텍스트를 지원합니다               \n",
      "                                                                                             \n",
      "    Markup    Rich supports a simple bbcode-like markup for color, style, and emoji! 👍 🍎   \n",
      "              🐜 🐻 🥖 🚌                                                                    \n",
      "                                                                                             \n",
      "    Tables     Date           Title                      Production Budget       Box Office  \n",
      "              ────────────────────────────────────────────────────────────────────────────── \n",
      "               Dec 20, 2019   Star Wars: The Rise of          $275,000,000     $375,126,118  \n",
      "                              Skywalker                                                      \n",
      "               May 25, 2018   Solo: A Star Wars Story         $275,000,000     $393,151,347  \n",
      "               Dec 15, 2017   Star Wars Ep. VIII: The         $262,000,000   $1,332,539,889  \n",
      "                              Last Jedi                                                      \n",
      "               May 19, 1999   Star Wars Ep. I: The            $115,000,000   $1,027,044,677  \n",
      "                              phantom Menace                                                 \n",
      "                                                                                             \n",
      "    Syntax       1 def iter_last(values: Iterable[T]  {                                      \n",
      " highlighting    2 │   \"\"\"Iterate and generate a tup  │   'foo': [                           \n",
      "      &          3 │   iter_values = iter(values)     │   │   3.1427,                        \n",
      "    pretty       4 │   try:                           │   │   (                              \n",
      "   printing      5 │   │   previous_value = next(ite  │   │   │   'Paul Atreides',           \n",
      "                 6 │   except StopIteration:          │   │   │   'Vladimir Harkonnen',      \n",
      "                 7 │   │   return                     │   │   │   'Thufir Hawat'             \n",
      "                 8 │   for value in iter_values:      │   │   )                              \n",
      "                 9 │   │   yield False, previous_val  │   ],                                 \n",
      "                10 │   │   previous_value = value     │   'atomic': (False, True, None)      \n",
      "                11 │   yield True, previous_value     }                                      \n",
      "                                                                                             \n",
      "   Markdown   # Markdown                              ╔════════════════════════════════════╗ \n",
      "                                                      ║              Markdown              ║ \n",
      "              Supports much of the *markdown*         ╚════════════════════════════════════╝ \n",
      "              __syntax__!                                                                    \n",
      "                                                      Supports much of the markdown syntax!  \n",
      "              - Headers                                                                      \n",
      "              - Basic formatting: **bold**,            • Headers                             \n",
      "              *italic*, `code`                         • Basic formatting: bold, italic,     \n",
      "              - Block quotes                             code                                \n",
      "              - Lists, and more...                     • Block quotes                        \n",
      "                                                       • Lists, and more...                  \n",
      "                                                                                             \n",
      "    +more!    Progress bars, columns, styled logging handler, tracebacks, etc...             \n",
      "                                                                                             \n"
     ]
    },
    {
     "data": {
      "text/plain": "",
      "text/html": "<pre style=\"white-space:pre;overflow-x:auto;line-height:normal;font-family:Menlo,'DejaVu Sans Mono',consolas,'Courier New',monospace\"></pre>\n"
     },
     "metadata": {},
     "output_type": "display_data"
    }
   ],
   "source": [
    "from rich.__main__ import make_test_card\n",
    "from rich.console import Console\n",
    "\n",
    "console = Console()\n",
    "with console.pager():\n",
    "    console.print(make_test_card())"
   ],
   "metadata": {
    "collapsed": false,
    "pycharm": {
     "name": "#%%\n"
    }
   }
  },
  {
   "cell_type": "code",
   "execution_count": null,
   "outputs": [],
   "source": [],
   "metadata": {
    "collapsed": false,
    "pycharm": {
     "name": "#%%\n"
    }
   }
  }
 ],
 "metadata": {
  "kernelspec": {
   "display_name": "Python 3",
   "language": "python",
   "name": "python3"
  },
  "language_info": {
   "codemirror_mode": {
    "name": "ipython",
    "version": 2
   },
   "file_extension": ".py",
   "mimetype": "text/x-python",
   "name": "python",
   "nbconvert_exporter": "python",
   "pygments_lexer": "ipython2",
   "version": "2.7.6"
  }
 },
 "nbformat": 4,
 "nbformat_minor": 0
}
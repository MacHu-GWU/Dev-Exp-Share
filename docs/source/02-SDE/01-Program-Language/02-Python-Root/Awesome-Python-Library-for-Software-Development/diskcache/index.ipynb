{
 "cells": [
  {
   "cell_type": "markdown",
   "source": [
    "# Diskcache Examples\n",
    "\n",
    "Reference:\n",
    "\n",
    "- [Quick Start](https://grantjenks.com/docs/diskcache/)\n",
    "- [Tutorial](https://grantjenks.com/docs/diskcache/tutorial.html)"
   ],
   "metadata": {
    "collapsed": false
   }
  },
  {
   "cell_type": "markdown",
   "source": [
    "## Create Cache"
   ],
   "metadata": {
    "collapsed": false
   }
  },
  {
   "cell_type": "code",
   "execution_count": 1,
   "outputs": [],
   "source": [
    "import diskcache"
   ],
   "metadata": {
    "collapsed": false
   }
  },
  {
   "cell_type": "code",
   "execution_count": 5,
   "outputs": [],
   "source": [
    "import os\n",
    "import time\n",
    "from pathlib import Path\n",
    "\n",
    "dir_here = Path(os.getcwd())\n",
    "dir_cache = dir_here / \".cache\"\n",
    "cache = diskcache.Cache(str(dir_cache))"
   ],
   "metadata": {
    "collapsed": false,
    "ExecuteTime": {
     "start_time": "2023-09-24T11:33:48.796475Z",
     "end_time": "2023-09-24T11:33:48.799406Z"
    }
   }
  },
  {
   "cell_type": "markdown",
   "source": [
    "## Common Operation\n",
    "\n",
    "- [__contains__, key in cache](https://grantjenks.com/docs/diskcache/api.html#diskcache.Cache.__contains__): Return True if key matching item is found in cache.\n",
    "- [set](https://grantjenks.com/docs/diskcache/api.html#diskcache.Cache.set)(key, value, expire=None, read=False, tag=None, retry=False): Set key and value item in cache.\n",
    "- [get](https://grantjenks.com/docs/diskcache/api.html#diskcache.Cache.get)(key, default=None, read=False, expire_time=False, tag=False, retry=False): Retrieve value from cache. If key is missing, return default.\n",
    "- [delete](https://grantjenks.com/docs/diskcache/api.html#diskcache.Cache.delete)(key, retry=False): Delete corresponding item for key from cache.\n",
    "- [add](https://grantjenks.com/docs/diskcache/api.html#diskcache.Cache.add)(key, value, expire=None, read=False, tag=None, retry=False):\n",
    "- [pop](https://grantjenks.com/docs/diskcache/api.html#diskcache.Cache.pop)(key, default=None, expire_time=False, tag=False, retry=False): Remove corresponding item for key from cache and return value. If key is missing, return default.\n",
    "- [touch](https://grantjenks.com/docs/diskcache/api.html#diskcache.Cache.touch)(key, expire=None, retry=False): Touch key in cache and update expire time.\n",
    "- [clear](https://grantjenks.com/docs/diskcache/api.html#diskcache.Cache.clear)(retry=False): Remove all items from cache.\n",
    "- [expire](https://grantjenks.com/docs/diskcache/api.html#diskcache.Cache.expire)(now=None, retry=False): Remove expired items from cache.\n",
    "- [evict](https://grantjenks.com/docs/diskcache/api.html#diskcache.Cache.evict)(tag, retry=False): Remove items with matching tag from cache.\n",
    "- [create_tag_index](https://grantjenks.com/docs/diskcache/api.html#diskcache.Cache.create_tag_index)(): Create tag index on cache database.\n",
    "- [drop_tag_index](https://grantjenks.com/docs/diskcache/api.html#diskcache.Cache.drop_tag_index)(): Drop tag index on cache database.\n",
    "- [memoize](https://grantjenks.com/docs/diskcache/api.html#diskcache.Cache.memoize)(name=None, typed=False, expire=None, tag=None, ignore=()): Memoizing cache decorator.\n",
    "- [read](https://grantjenks.com/docs/diskcache/api.html#diskcache.Cache.read)(key, retry=False): Return file handle value corresponding to key from cache.\n",
    "- [incr](https://grantjenks.com/docs/diskcache/api.html#diskcache.Cache.incr)(key, delta=1, default=0, retry=False): Increment value by delta for item with key.\n",
    "- [decr](https://grantjenks.com/docs/diskcache/api.html#diskcache.Cache.decr)(key, delta=1, default=0, retry=False): Decrement value by delta for item with key.\n",
    "- [iterkeys](https://grantjenks.com/docs/diskcache/api.html#diskcache.Cache.iterkeys)(reverse=False): Iterate Cache keys in database sort order.\n",
    "- [peek](https://grantjenks.com/docs/diskcache/api.html#diskcache.Cache.peek)(prefix=None, default=(None, None), side='front', expire_time=False, tag=False, retry=False): Peek at key and value item pair from side of queue in cache.\n",
    "- [peekitem](https://grantjenks.com/docs/diskcache/api.html#diskcache.Cache.peekitem)(last=True, expire_time=False, tag=False, retry=False): Peek at key and value item pair in cache based on iteration order.\n",
    "- [push](https://grantjenks.com/docs/diskcache/api.html#diskcache.Cache.push)(value, prefix=None, side='back', expire=None, read=False, tag=None, retry=False): Push value onto side of queue identified by prefix in cache.\n",
    "- [pull](https://grantjenks.com/docs/diskcache/api.html#diskcache.Cache.pull)(prefix=None, default=(None, None), side='front', expire_time=False, tag=False, retry=False): Pull key and value item pair from side of queue in cache.\n",
    "- [transact](https://grantjenks.com/docs/diskcache/api.html#diskcache.Cache.transact)(retry=False): Context manager to perform a transaction by locking the cache.\n",
    "- [stats](https://grantjenks.com/docs/diskcache/api.html#diskcache.Cache.stats)(enable=True, reset=False): Return cache statistics hits and misses.\n",
    "- [volume](https://grantjenks.com/docs/diskcache/api.html#diskcache.Cache.volume)(): Return estimated total size of cache on disk.\n",
    "- [check](https://grantjenks.com/docs/diskcache/api.html#diskcache.Cache.check)(fix=False, retry=False)¶: Check database and file system consistency. Intended for use in testing and post-mortem error analysis.\n",
    "- [reset](https://grantjenks.com/docs/diskcache/api.html#diskcache.Cache.reset)(key, value=ENOVAL, update=True): Reset key and value item from Settings table.\n",
    "- [cull](https://grantjenks.com/docs/diskcache/api.html#diskcache.Cache.cull)(retry=False): Cull items from cache until volume is less than size limit."
   ],
   "metadata": {
    "collapsed": false
   }
  },
  {
   "cell_type": "markdown",
   "source": [
    "## Basic"
   ],
   "metadata": {
    "collapsed": false
   }
  },
  {
   "cell_type": "code",
   "execution_count": 26,
   "outputs": [
    {
     "data": {
      "text/plain": "'my-value'"
     },
     "execution_count": 26,
     "metadata": {},
     "output_type": "execute_result"
    }
   ],
   "source": [
    "cache.set(\"my-key\", \"my-value\")\n",
    "cache.get(\"my-key\")"
   ],
   "metadata": {
    "collapsed": false,
    "ExecuteTime": {
     "start_time": "2023-09-24T11:43:45.588754Z",
     "end_time": "2023-09-24T11:43:45.591585Z"
    }
   }
  },
  {
   "cell_type": "code",
   "execution_count": 27,
   "outputs": [
    {
     "data": {
      "text/plain": "True"
     },
     "execution_count": 27,
     "metadata": {},
     "output_type": "execute_result"
    }
   ],
   "source": [
    "\"my-key\" in cache"
   ],
   "metadata": {
    "collapsed": false,
    "ExecuteTime": {
     "start_time": "2023-09-24T11:43:45.729894Z",
     "end_time": "2023-09-24T11:43:45.732324Z"
    }
   }
  },
  {
   "cell_type": "code",
   "execution_count": 28,
   "outputs": [
    {
     "name": "stdout",
     "output_type": "stream",
     "text": [
      "None\n"
     ]
    }
   ],
   "source": [
    "print(cache.get(\"unknown-key\"))"
   ],
   "metadata": {
    "collapsed": false,
    "ExecuteTime": {
     "start_time": "2023-09-24T11:43:45.917378Z",
     "end_time": "2023-09-24T11:43:45.920516Z"
    }
   }
  },
  {
   "cell_type": "code",
   "execution_count": 29,
   "outputs": [
    {
     "data": {
      "text/plain": "False"
     },
     "execution_count": 29,
     "metadata": {},
     "output_type": "execute_result"
    }
   ],
   "source": [
    "\"unknown-key\" in cache"
   ],
   "metadata": {
    "collapsed": false,
    "ExecuteTime": {
     "start_time": "2023-09-24T11:43:46.094169Z",
     "end_time": "2023-09-24T11:43:46.096902Z"
    }
   }
  },
  {
   "cell_type": "markdown",
   "source": [
    "## Cache with expire"
   ],
   "metadata": {
    "collapsed": false
   }
  },
  {
   "cell_type": "code",
   "execution_count": 30,
   "outputs": [
    {
     "name": "stdout",
     "output_type": "stream",
     "text": [
      "first time: my-value\n",
      "second time: None\n"
     ]
    }
   ],
   "source": [
    "key = \"my-key\"\n",
    "cache.set(key, \"my-value\", expire=1)\n",
    "print(f\"first time: {cache.get(key)}\")\n",
    "time.sleep(1.5)\n",
    "print(f\"second time: {cache.get(key)}\")"
   ],
   "metadata": {
    "collapsed": false,
    "ExecuteTime": {
     "start_time": "2023-09-24T11:43:46.467057Z",
     "end_time": "2023-09-24T11:43:47.974622Z"
    }
   }
  },
  {
   "cell_type": "markdown",
   "source": [
    "## Cache with Tag\n",
    "\n",
    "Tag is the metadata of a cached item. Tag value can be int, float, string, bytes or None. Tag can be used to"
   ],
   "metadata": {
    "collapsed": false
   }
  },
  {
   "cell_type": "code",
   "execution_count": 31,
   "outputs": [
    {
     "data": {
      "text/plain": "'my-value'"
     },
     "execution_count": 31,
     "metadata": {},
     "output_type": "execute_result"
    }
   ],
   "source": [
    "key = \"my-key\"\n",
    "cache.set(key, \"my-value\", tag=\"my-tag\")\n",
    "cache.get(key)"
   ],
   "metadata": {
    "collapsed": false,
    "ExecuteTime": {
     "start_time": "2023-09-24T11:43:47.976101Z",
     "end_time": "2023-09-24T11:43:47.978596Z"
    }
   }
  },
  {
   "cell_type": "code",
   "execution_count": 33,
   "outputs": [
    {
     "name": "stdout",
     "output_type": "stream",
     "text": [
      "None\n"
     ]
    }
   ],
   "source": [
    "cache.evict(\"my-tag\")\n",
    "print(cache.get(key))"
   ],
   "metadata": {
    "collapsed": false,
    "ExecuteTime": {
     "start_time": "2023-09-24T11:43:52.350109Z",
     "end_time": "2023-09-24T11:43:52.353027Z"
    }
   }
  },
  {
   "cell_type": "markdown",
   "source": [
    "## Memoize"
   ],
   "metadata": {
    "collapsed": false
   }
  },
  {
   "cell_type": "code",
   "execution_count": 36,
   "outputs": [
    {
     "name": "stdout",
     "output_type": "stream",
     "text": [
      "query 1\n",
      "reading data from cloud\n",
      "[{'name': 'alice'}]\n",
      "query 2\n",
      "[{'name': 'alice'}]\n",
      "query 3\n",
      "reading data from cloud\n",
      "[{'name': 'alice'}]\n"
     ]
    }
   ],
   "source": [
    "class CloudData:\n",
    "    def __init__(self, backend_id: str):\n",
    "        self.backend_id = backend_id\n",
    "\n",
    "    def read_data(self):\n",
    "        print(\"reading data from cloud\")\n",
    "        return [\n",
    "            {\"name\": \"alice\"},\n",
    "            {\"name\": \"bob\"},\n",
    "            {\"name\": \"cathy\"},\n",
    "        ]\n",
    "\n",
    "    @cache.memoize(expire=1)\n",
    "    def query_data(self, name):\n",
    "        data = self.read_data()\n",
    "        return [d for d in data if d[\"name\"] == name]\n",
    "\n",
    "cloud_data_1 = CloudData(\"backend-1\")\n",
    "\n",
    "print(\"query 1\")\n",
    "print(cloud_data_1.query_data(name=\"alice\"))\n",
    "\n",
    "print(\"query 2\")\n",
    "print(cloud_data_1.query_data(name=\"alice\"))\n",
    "\n",
    "time.sleep(1.5)\n",
    "print(\"query 3\")\n",
    "print(cloud_data_1.query_data(name=\"alice\"))"
   ],
   "metadata": {
    "collapsed": false,
    "ExecuteTime": {
     "start_time": "2023-09-24T11:59:42.128345Z",
     "end_time": "2023-09-24T11:59:43.634540Z"
    }
   }
  },
  {
   "cell_type": "code",
   "execution_count": null,
   "outputs": [],
   "source": [],
   "metadata": {
    "collapsed": false
   }
  }
 ],
 "metadata": {
  "kernelspec": {
   "display_name": "Python 3",
   "language": "python",
   "name": "python3"
  },
  "language_info": {
   "codemirror_mode": {
    "name": "ipython",
    "version": 2
   },
   "file_extension": ".py",
   "mimetype": "text/x-python",
   "name": "python",
   "nbconvert_exporter": "python",
   "pygments_lexer": "ipython2",
   "version": "2.7.6"
  }
 },
 "nbformat": 4,
 "nbformat_minor": 0
}

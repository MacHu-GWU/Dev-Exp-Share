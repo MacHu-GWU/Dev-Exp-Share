{
 "cells": [
  {
   "cell_type": "markdown",
   "metadata": {
    "collapsed": false,
    "jupyter": {
     "outputs_hidden": false
    }
   },
   "source": [
    "# Query Language"
   ]
  },
  {
   "cell_type": "code",
   "execution_count": 1,
   "metadata": {
    "ExecuteTime": {
     "end_time": "2023-09-24T21:24:30.401008Z",
     "start_time": "2023-09-24T21:24:30.276336Z"
    },
    "collapsed": false,
    "jupyter": {
     "outputs_hidden": false
    }
   },
   "outputs": [],
   "source": [
    "import typing as T\n",
    "import os\n",
    "import shutil\n",
    "from pathlib import Path\n",
    "\n",
    "from whoosh import fields as F\n",
    "from whoosh.index import exists_in, create_in, open_dir\n",
    "from whoosh import qparser, query, sorting\n",
    "\n",
    "from rich import print as rprint\n",
    "from rich.console import Console"
   ]
  },
  {
   "cell_type": "code",
   "execution_count": 2,
   "metadata": {
    "ExecuteTime": {
     "end_time": "2023-09-24T21:24:30.407540Z",
     "start_time": "2023-09-24T21:24:30.350034Z"
    },
    "collapsed": false,
    "jupyter": {
     "outputs_hidden": false
    }
   },
   "outputs": [],
   "source": [
    "console = Console()\n",
    "\n",
    "dir_index = Path(os.getcwd()).joinpath(\".whoosh_index\")\n",
    "\n",
    "dir_index.mkdir(parents=True, exist_ok=True)\n",
    "\n",
    "def clear_index():\n",
    "    shutil.rmtree(dir_index, ignore_errors=True)\n",
    "\n",
    "def get_index(schema: F.SchemaClass):\n",
    "    if exists_in(str(dir_index)):\n",
    "        idx = open_dir(str(dir_index))\n",
    "    else:\n",
    "        dir_index.mkdir(parents=True, exist_ok=True)\n",
    "        idx = create_in(\n",
    "            dirname=str(dir_index),\n",
    "            schema=schema,\n",
    "        )\n",
    "    return idx\n"
   ]
  },
  {
   "cell_type": "code",
   "execution_count": 3,
   "metadata": {
    "ExecuteTime": {
     "end_time": "2023-09-24T21:24:30.407719Z",
     "start_time": "2023-09-24T21:24:30.353053Z"
    },
    "collapsed": false,
    "jupyter": {
     "outputs_hidden": false
    }
   },
   "outputs": [],
   "source": [
    "def result_to_docs(res) -> T.List[T.Dict[str, T.Any]]:\n",
    "    return [hit.fields() for hit in res]"
   ]
  },
  {
   "cell_type": "markdown",
   "metadata": {
    "collapsed": false,
    "jupyter": {
     "outputs_hidden": false
    }
   },
   "source": [
    "## 1"
   ]
  },
  {
   "cell_type": "code",
   "execution_count": 4,
   "metadata": {
    "ExecuteTime": {
     "end_time": "2023-09-24T21:24:30.408017Z",
     "start_time": "2023-09-24T21:24:30.357423Z"
    },
    "collapsed": false,
    "jupyter": {
     "outputs_hidden": false
    }
   },
   "outputs": [],
   "source": [
    "class BookSchema(F.SchemaClass):\n",
    "    isbn = F.ID(stored=True, unique=True)\n",
    "    title = F.TEXT(stored=True)\n",
    "    author = F.NGRAM(stored=True, minsize=2, maxsize=6)\n",
    "    year = F.NUMERIC(stored=True)\n",
    "\n",
    "schema = BookSchema()\n",
    "\n",
    "data = [\n",
    "    dict(isbn=\"0954452933\", title=\"Sustainable Energy - without the hot air\", author=\"MacKay, David JC\", year=2009),\n",
    "]\n",
    "\n",
    "clear_index()\n",
    "idx = get_index(schema)\n",
    "writer = idx.writer()\n",
    "for doc in data:\n",
    "    writer.add_document(**doc)\n",
    "writer.commit()\n",
    "\n",
    "def search(q: query.Query):\n",
    "    console.rule(\"Query\", characters=\"=\")\n",
    "    console.rule(\"equivalent query string\", characters=\"-\")\n",
    "    print(q)\n",
    "\n",
    "    console.rule(\"equivalent query object\", characters=\"-\")\n",
    "    rprint(repr(q))\n",
    "\n",
    "    console.rule(\"Result\", characters=\"=\")\n",
    "    with idx.searcher() as sr:\n",
    "        docs = result_to_docs(sr.search(q))\n",
    "        rprint(docs)"
   ]
  },
  {
   "cell_type": "markdown",
   "metadata": {
    "collapsed": false,
    "jupyter": {
     "outputs_hidden": false
    }
   },
   "source": [
    "## Query\n",
    "\n",
    "和 [Elastic Search Query DSL](https://www.elastic.co/guide/en/elasticsearch/reference/current/query-dsl.html), [MongoDB](https://www.mongodb.com/docs/manual/tutorial/query-documents/) 这类文档搜索类似, Whoosh 的 Query 也是针对多个可以被搜索的 Field 以及所需要的搜索方式 (例如 精确等于, 模糊等于, 全文搜索, 区间搜索等) 构成多个 Term, 然后用 AND, OR, NOT 等对这些 Term 做排列组合, 然后对结果进行排序, 从而得到最终的搜索结果.\n",
    "\n",
    "Whoosh 提供两种方式来构建 Query. 一种是使用结构化的查询语言, 用 ``whoosh.query`` 模块中的类来构建 Query 对象. 还有一种使用类似你在 Google Search 搜索框中输入字符串, 然后用 ``whoosh.qparser`` 模块中的类来解析这个字符串, 自动生成最终的 Query 对象. 无论你用的哪种方法, 最终实际上都是通过结构化的 Query 对象来进行查询的.\n"
   ]
  },
  {
   "cell_type": "markdown",
   "metadata": {
    "collapsed": false,
    "jupyter": {
     "outputs_hidden": false
    }
   },
   "source": [
    "## 初探 QueryParser 和结构化 Query"
   ]
  },
  {
   "cell_type": "markdown",
   "metadata": {
    "collapsed": false,
    "jupyter": {
     "outputs_hidden": false
    }
   },
   "source": [
    "使用自动化的 QueryParser, 这个类只能针对某一个 Field 进行搜索."
   ]
  },
  {
   "cell_type": "code",
   "execution_count": 5,
   "metadata": {
    "ExecuteTime": {
     "end_time": "2023-09-24T21:24:30.417539Z",
     "start_time": "2023-09-24T21:24:30.372050Z"
    },
    "collapsed": false,
    "jupyter": {
     "outputs_hidden": false
    }
   },
   "outputs": [
    {
     "data": {
      "text/html": [
       "<pre style=\"white-space:pre;overflow-x:auto;line-height:normal;font-family:Menlo,'DejaVu Sans Mono',consolas,'Courier New',monospace\"><span style=\"color: #00ff00; text-decoration-color: #00ff00\">====================================================== </span>Query<span style=\"color: #00ff00; text-decoration-color: #00ff00\"> ======================================================</span>\n",
       "</pre>\n"
      ],
      "text/plain": [
       "\u001b[92m====================================================== \u001b[0mQuery\u001b[92m ======================================================\u001b[0m\n"
      ]
     },
     "metadata": {},
     "output_type": "display_data"
    },
    {
     "data": {
      "text/html": [
       "<pre style=\"white-space:pre;overflow-x:auto;line-height:normal;font-family:Menlo,'DejaVu Sans Mono',consolas,'Courier New',monospace\"><span style=\"color: #00ff00; text-decoration-color: #00ff00\">--------------------------------------------- </span>equivalent query string<span style=\"color: #00ff00; text-decoration-color: #00ff00\"> ---------------------------------------------</span>\n",
       "</pre>\n"
      ],
      "text/plain": [
       "\u001b[92m--------------------------------------------- \u001b[0mequivalent query string\u001b[92m ---------------------------------------------\u001b[0m\n"
      ]
     },
     "metadata": {},
     "output_type": "display_data"
    },
    {
     "name": "stdout",
     "output_type": "stream",
     "text": [
      "title:energy\n"
     ]
    },
    {
     "data": {
      "text/html": [
       "<pre style=\"white-space:pre;overflow-x:auto;line-height:normal;font-family:Menlo,'DejaVu Sans Mono',consolas,'Courier New',monospace\"><span style=\"color: #00ff00; text-decoration-color: #00ff00\">--------------------------------------------- </span>equivalent query object<span style=\"color: #00ff00; text-decoration-color: #00ff00\"> ---------------------------------------------</span>\n",
       "</pre>\n"
      ],
      "text/plain": [
       "\u001b[92m--------------------------------------------- \u001b[0mequivalent query object\u001b[92m ---------------------------------------------\u001b[0m\n"
      ]
     },
     "metadata": {},
     "output_type": "display_data"
    },
    {
     "data": {
      "text/html": [
       "<pre style=\"white-space:pre;overflow-x:auto;line-height:normal;font-family:Menlo,'DejaVu Sans Mono',consolas,'Courier New',monospace\"><span style=\"color: #800080; text-decoration-color: #800080; font-weight: bold\">Term</span><span style=\"font-weight: bold\">(</span><span style=\"color: #008000; text-decoration-color: #008000\">'title'</span>, <span style=\"color: #008000; text-decoration-color: #008000\">'energy'</span><span style=\"font-weight: bold\">)</span>\n",
       "</pre>\n"
      ],
      "text/plain": [
       "\u001b[1;35mTerm\u001b[0m\u001b[1m(\u001b[0m\u001b[32m'title'\u001b[0m, \u001b[32m'energy'\u001b[0m\u001b[1m)\u001b[0m\n"
      ]
     },
     "metadata": {},
     "output_type": "display_data"
    },
    {
     "data": {
      "text/html": [
       "<pre style=\"white-space:pre;overflow-x:auto;line-height:normal;font-family:Menlo,'DejaVu Sans Mono',consolas,'Courier New',monospace\"><span style=\"color: #00ff00; text-decoration-color: #00ff00\">===================================================== </span>Result<span style=\"color: #00ff00; text-decoration-color: #00ff00\"> ======================================================</span>\n",
       "</pre>\n"
      ],
      "text/plain": [
       "\u001b[92m===================================================== \u001b[0mResult\u001b[92m ======================================================\u001b[0m\n"
      ]
     },
     "metadata": {},
     "output_type": "display_data"
    },
    {
     "data": {
      "text/html": [
       "<pre style=\"white-space:pre;overflow-x:auto;line-height:normal;font-family:Menlo,'DejaVu Sans Mono',consolas,'Courier New',monospace\"><span style=\"font-weight: bold\">[</span>\n",
       "    <span style=\"font-weight: bold\">{</span>\n",
       "        <span style=\"color: #008000; text-decoration-color: #008000\">'author'</span>: <span style=\"color: #008000; text-decoration-color: #008000\">'MacKay, David JC'</span>,\n",
       "        <span style=\"color: #008000; text-decoration-color: #008000\">'isbn'</span>: <span style=\"color: #008000; text-decoration-color: #008000\">'0954452933'</span>,\n",
       "        <span style=\"color: #008000; text-decoration-color: #008000\">'title'</span>: <span style=\"color: #008000; text-decoration-color: #008000\">'Sustainable Energy - without the hot air'</span>,\n",
       "        <span style=\"color: #008000; text-decoration-color: #008000\">'year'</span>: <span style=\"color: #008080; text-decoration-color: #008080; font-weight: bold\">2009</span>\n",
       "    <span style=\"font-weight: bold\">}</span>\n",
       "<span style=\"font-weight: bold\">]</span>\n",
       "</pre>\n"
      ],
      "text/plain": [
       "\u001b[1m[\u001b[0m\n",
       "    \u001b[1m{\u001b[0m\n",
       "        \u001b[32m'author'\u001b[0m: \u001b[32m'MacKay, David JC'\u001b[0m,\n",
       "        \u001b[32m'isbn'\u001b[0m: \u001b[32m'0954452933'\u001b[0m,\n",
       "        \u001b[32m'title'\u001b[0m: \u001b[32m'Sustainable Energy - without the hot air'\u001b[0m,\n",
       "        \u001b[32m'year'\u001b[0m: \u001b[1;36m2009\u001b[0m\n",
       "    \u001b[1m}\u001b[0m\n",
       "\u001b[1m]\u001b[0m\n"
      ]
     },
     "metadata": {},
     "output_type": "display_data"
    }
   ],
   "source": [
    "q_str = \"energy\"\n",
    "q = qparser.QueryParser(\"title\", schema=schema).parse(q_str)\n",
    "search(q)"
   ]
  },
  {
   "cell_type": "markdown",
   "metadata": {
    "collapsed": false,
    "jupyter": {
     "outputs_hidden": false
    }
   },
   "source": [
    "手动创建 Query. 效果和前面用 Parser 自动生成是一样的."
   ]
  },
  {
   "cell_type": "code",
   "execution_count": 6,
   "metadata": {
    "ExecuteTime": {
     "end_time": "2023-09-24T21:24:30.494321Z",
     "start_time": "2023-09-24T21:24:30.411543Z"
    },
    "collapsed": false,
    "jupyter": {
     "outputs_hidden": false
    }
   },
   "outputs": [
    {
     "data": {
      "text/html": [
       "<pre style=\"white-space:pre;overflow-x:auto;line-height:normal;font-family:Menlo,'DejaVu Sans Mono',consolas,'Courier New',monospace\"><span style=\"color: #00ff00; text-decoration-color: #00ff00\">====================================================== </span>Query<span style=\"color: #00ff00; text-decoration-color: #00ff00\"> ======================================================</span>\n",
       "</pre>\n"
      ],
      "text/plain": [
       "\u001b[92m====================================================== \u001b[0mQuery\u001b[92m ======================================================\u001b[0m\n"
      ]
     },
     "metadata": {},
     "output_type": "display_data"
    },
    {
     "data": {
      "text/html": [
       "<pre style=\"white-space:pre;overflow-x:auto;line-height:normal;font-family:Menlo,'DejaVu Sans Mono',consolas,'Courier New',monospace\"><span style=\"color: #00ff00; text-decoration-color: #00ff00\">--------------------------------------------- </span>equivalent query string<span style=\"color: #00ff00; text-decoration-color: #00ff00\"> ---------------------------------------------</span>\n",
       "</pre>\n"
      ],
      "text/plain": [
       "\u001b[92m--------------------------------------------- \u001b[0mequivalent query string\u001b[92m ---------------------------------------------\u001b[0m\n"
      ]
     },
     "metadata": {},
     "output_type": "display_data"
    },
    {
     "name": "stdout",
     "output_type": "stream",
     "text": [
      "title:energy\n"
     ]
    },
    {
     "data": {
      "text/html": [
       "<pre style=\"white-space:pre;overflow-x:auto;line-height:normal;font-family:Menlo,'DejaVu Sans Mono',consolas,'Courier New',monospace\"><span style=\"color: #00ff00; text-decoration-color: #00ff00\">--------------------------------------------- </span>equivalent query object<span style=\"color: #00ff00; text-decoration-color: #00ff00\"> ---------------------------------------------</span>\n",
       "</pre>\n"
      ],
      "text/plain": [
       "\u001b[92m--------------------------------------------- \u001b[0mequivalent query object\u001b[92m ---------------------------------------------\u001b[0m\n"
      ]
     },
     "metadata": {},
     "output_type": "display_data"
    },
    {
     "data": {
      "text/html": [
       "<pre style=\"white-space:pre;overflow-x:auto;line-height:normal;font-family:Menlo,'DejaVu Sans Mono',consolas,'Courier New',monospace\"><span style=\"color: #800080; text-decoration-color: #800080; font-weight: bold\">Term</span><span style=\"font-weight: bold\">(</span><span style=\"color: #008000; text-decoration-color: #008000\">'title'</span>, <span style=\"color: #008000; text-decoration-color: #008000\">'energy'</span><span style=\"font-weight: bold\">)</span>\n",
       "</pre>\n"
      ],
      "text/plain": [
       "\u001b[1;35mTerm\u001b[0m\u001b[1m(\u001b[0m\u001b[32m'title'\u001b[0m, \u001b[32m'energy'\u001b[0m\u001b[1m)\u001b[0m\n"
      ]
     },
     "metadata": {},
     "output_type": "display_data"
    },
    {
     "data": {
      "text/html": [
       "<pre style=\"white-space:pre;overflow-x:auto;line-height:normal;font-family:Menlo,'DejaVu Sans Mono',consolas,'Courier New',monospace\"><span style=\"color: #00ff00; text-decoration-color: #00ff00\">===================================================== </span>Result<span style=\"color: #00ff00; text-decoration-color: #00ff00\"> ======================================================</span>\n",
       "</pre>\n"
      ],
      "text/plain": [
       "\u001b[92m===================================================== \u001b[0mResult\u001b[92m ======================================================\u001b[0m\n"
      ]
     },
     "metadata": {},
     "output_type": "display_data"
    },
    {
     "data": {
      "text/html": [
       "<pre style=\"white-space:pre;overflow-x:auto;line-height:normal;font-family:Menlo,'DejaVu Sans Mono',consolas,'Courier New',monospace\"><span style=\"font-weight: bold\">[</span>\n",
       "    <span style=\"font-weight: bold\">{</span>\n",
       "        <span style=\"color: #008000; text-decoration-color: #008000\">'author'</span>: <span style=\"color: #008000; text-decoration-color: #008000\">'MacKay, David JC'</span>,\n",
       "        <span style=\"color: #008000; text-decoration-color: #008000\">'isbn'</span>: <span style=\"color: #008000; text-decoration-color: #008000\">'0954452933'</span>,\n",
       "        <span style=\"color: #008000; text-decoration-color: #008000\">'title'</span>: <span style=\"color: #008000; text-decoration-color: #008000\">'Sustainable Energy - without the hot air'</span>,\n",
       "        <span style=\"color: #008000; text-decoration-color: #008000\">'year'</span>: <span style=\"color: #008080; text-decoration-color: #008080; font-weight: bold\">2009</span>\n",
       "    <span style=\"font-weight: bold\">}</span>\n",
       "<span style=\"font-weight: bold\">]</span>\n",
       "</pre>\n"
      ],
      "text/plain": [
       "\u001b[1m[\u001b[0m\n",
       "    \u001b[1m{\u001b[0m\n",
       "        \u001b[32m'author'\u001b[0m: \u001b[32m'MacKay, David JC'\u001b[0m,\n",
       "        \u001b[32m'isbn'\u001b[0m: \u001b[32m'0954452933'\u001b[0m,\n",
       "        \u001b[32m'title'\u001b[0m: \u001b[32m'Sustainable Energy - without the hot air'\u001b[0m,\n",
       "        \u001b[32m'year'\u001b[0m: \u001b[1;36m2009\u001b[0m\n",
       "    \u001b[1m}\u001b[0m\n",
       "\u001b[1m]\u001b[0m\n"
      ]
     },
     "metadata": {},
     "output_type": "display_data"
    }
   ],
   "source": [
    "q = query.Term(\"title\", \"energy\")\n",
    "search(q)"
   ]
  },
  {
   "cell_type": "markdown",
   "metadata": {
    "collapsed": false,
    "jupyter": {
     "outputs_hidden": false
    }
   },
   "source": [
    "注意, 由于 title 是 TEXT 索引类型, 需要单个的 Token, 也就是单词完全 match, 如果只是部分字母片段 match 是不行的."
   ]
  },
  {
   "cell_type": "code",
   "execution_count": 7,
   "metadata": {
    "ExecuteTime": {
     "end_time": "2023-09-24T21:24:30.495126Z",
     "start_time": "2023-09-24T21:24:30.441962Z"
    },
    "collapsed": false,
    "jupyter": {
     "outputs_hidden": false
    }
   },
   "outputs": [
    {
     "data": {
      "text/html": [
       "<pre style=\"white-space:pre;overflow-x:auto;line-height:normal;font-family:Menlo,'DejaVu Sans Mono',consolas,'Courier New',monospace\"><span style=\"color: #00ff00; text-decoration-color: #00ff00\">====================================================== </span>Query<span style=\"color: #00ff00; text-decoration-color: #00ff00\"> ======================================================</span>\n",
       "</pre>\n"
      ],
      "text/plain": [
       "\u001b[92m====================================================== \u001b[0mQuery\u001b[92m ======================================================\u001b[0m\n"
      ]
     },
     "metadata": {},
     "output_type": "display_data"
    },
    {
     "data": {
      "text/html": [
       "<pre style=\"white-space:pre;overflow-x:auto;line-height:normal;font-family:Menlo,'DejaVu Sans Mono',consolas,'Courier New',monospace\"><span style=\"color: #00ff00; text-decoration-color: #00ff00\">--------------------------------------------- </span>equivalent query string<span style=\"color: #00ff00; text-decoration-color: #00ff00\"> ---------------------------------------------</span>\n",
       "</pre>\n"
      ],
      "text/plain": [
       "\u001b[92m--------------------------------------------- \u001b[0mequivalent query string\u001b[92m ---------------------------------------------\u001b[0m\n"
      ]
     },
     "metadata": {},
     "output_type": "display_data"
    },
    {
     "name": "stdout",
     "output_type": "stream",
     "text": [
      "title:ener\n"
     ]
    },
    {
     "data": {
      "text/html": [
       "<pre style=\"white-space:pre;overflow-x:auto;line-height:normal;font-family:Menlo,'DejaVu Sans Mono',consolas,'Courier New',monospace\"><span style=\"color: #00ff00; text-decoration-color: #00ff00\">--------------------------------------------- </span>equivalent query object<span style=\"color: #00ff00; text-decoration-color: #00ff00\"> ---------------------------------------------</span>\n",
       "</pre>\n"
      ],
      "text/plain": [
       "\u001b[92m--------------------------------------------- \u001b[0mequivalent query object\u001b[92m ---------------------------------------------\u001b[0m\n"
      ]
     },
     "metadata": {},
     "output_type": "display_data"
    },
    {
     "data": {
      "text/html": [
       "<pre style=\"white-space:pre;overflow-x:auto;line-height:normal;font-family:Menlo,'DejaVu Sans Mono',consolas,'Courier New',monospace\"><span style=\"color: #800080; text-decoration-color: #800080; font-weight: bold\">Term</span><span style=\"font-weight: bold\">(</span><span style=\"color: #008000; text-decoration-color: #008000\">'title'</span>, <span style=\"color: #008000; text-decoration-color: #008000\">'ener'</span><span style=\"font-weight: bold\">)</span>\n",
       "</pre>\n"
      ],
      "text/plain": [
       "\u001b[1;35mTerm\u001b[0m\u001b[1m(\u001b[0m\u001b[32m'title'\u001b[0m, \u001b[32m'ener'\u001b[0m\u001b[1m)\u001b[0m\n"
      ]
     },
     "metadata": {},
     "output_type": "display_data"
    },
    {
     "data": {
      "text/html": [
       "<pre style=\"white-space:pre;overflow-x:auto;line-height:normal;font-family:Menlo,'DejaVu Sans Mono',consolas,'Courier New',monospace\"><span style=\"color: #00ff00; text-decoration-color: #00ff00\">===================================================== </span>Result<span style=\"color: #00ff00; text-decoration-color: #00ff00\"> ======================================================</span>\n",
       "</pre>\n"
      ],
      "text/plain": [
       "\u001b[92m===================================================== \u001b[0mResult\u001b[92m ======================================================\u001b[0m\n"
      ]
     },
     "metadata": {},
     "output_type": "display_data"
    },
    {
     "data": {
      "text/html": [
       "<pre style=\"white-space:pre;overflow-x:auto;line-height:normal;font-family:Menlo,'DejaVu Sans Mono',consolas,'Courier New',monospace\"><span style=\"font-weight: bold\">[]</span>\n",
       "</pre>\n"
      ],
      "text/plain": [
       "\u001b[1m[\u001b[0m\u001b[1m]\u001b[0m\n"
      ]
     },
     "metadata": {},
     "output_type": "display_data"
    }
   ],
   "source": [
    "q = query.Term(\"title\", \"ener\")\n",
    "search(q)"
   ]
  },
  {
   "cell_type": "markdown",
   "metadata": {
    "collapsed": false,
    "jupyter": {
     "outputs_hidden": false
    }
   },
   "source": [
    "还是使用使用自动化的 QueryParser, 但这次我们有不止一个条件, 要求同时包含 sustainable 和 energy, 可以看出 QueryParser 默认会将多个 Term 用逻辑 AND 连接起来. 这点在官方文档中也有提及. 而且可以看到打印出来的 Query 是一个 ``AND([Term('title', 'sustainable'), Term('title', 'energy')])`` 对象."
   ]
  },
  {
   "cell_type": "code",
   "execution_count": 8,
   "metadata": {
    "ExecuteTime": {
     "end_time": "2023-09-24T21:24:30.502467Z",
     "start_time": "2023-09-24T21:24:30.472106Z"
    },
    "collapsed": false,
    "jupyter": {
     "outputs_hidden": false
    }
   },
   "outputs": [
    {
     "data": {
      "text/html": [
       "<pre style=\"white-space:pre;overflow-x:auto;line-height:normal;font-family:Menlo,'DejaVu Sans Mono',consolas,'Courier New',monospace\"><span style=\"color: #00ff00; text-decoration-color: #00ff00\">====================================================== </span>Query<span style=\"color: #00ff00; text-decoration-color: #00ff00\"> ======================================================</span>\n",
       "</pre>\n"
      ],
      "text/plain": [
       "\u001b[92m====================================================== \u001b[0mQuery\u001b[92m ======================================================\u001b[0m\n"
      ]
     },
     "metadata": {},
     "output_type": "display_data"
    },
    {
     "data": {
      "text/html": [
       "<pre style=\"white-space:pre;overflow-x:auto;line-height:normal;font-family:Menlo,'DejaVu Sans Mono',consolas,'Courier New',monospace\"><span style=\"color: #00ff00; text-decoration-color: #00ff00\">--------------------------------------------- </span>equivalent query string<span style=\"color: #00ff00; text-decoration-color: #00ff00\"> ---------------------------------------------</span>\n",
       "</pre>\n"
      ],
      "text/plain": [
       "\u001b[92m--------------------------------------------- \u001b[0mequivalent query string\u001b[92m ---------------------------------------------\u001b[0m\n"
      ]
     },
     "metadata": {},
     "output_type": "display_data"
    },
    {
     "name": "stdout",
     "output_type": "stream",
     "text": [
      "(title:sustainable AND title:energy)\n"
     ]
    },
    {
     "data": {
      "text/html": [
       "<pre style=\"white-space:pre;overflow-x:auto;line-height:normal;font-family:Menlo,'DejaVu Sans Mono',consolas,'Courier New',monospace\"><span style=\"color: #00ff00; text-decoration-color: #00ff00\">--------------------------------------------- </span>equivalent query object<span style=\"color: #00ff00; text-decoration-color: #00ff00\"> ---------------------------------------------</span>\n",
       "</pre>\n"
      ],
      "text/plain": [
       "\u001b[92m--------------------------------------------- \u001b[0mequivalent query object\u001b[92m ---------------------------------------------\u001b[0m\n"
      ]
     },
     "metadata": {},
     "output_type": "display_data"
    },
    {
     "data": {
      "text/html": [
       "<pre style=\"white-space:pre;overflow-x:auto;line-height:normal;font-family:Menlo,'DejaVu Sans Mono',consolas,'Courier New',monospace\"><span style=\"color: #800080; text-decoration-color: #800080; font-weight: bold\">And</span><span style=\"font-weight: bold\">([</span><span style=\"color: #800080; text-decoration-color: #800080; font-weight: bold\">Term</span><span style=\"font-weight: bold\">(</span><span style=\"color: #008000; text-decoration-color: #008000\">'title'</span>, <span style=\"color: #008000; text-decoration-color: #008000\">'sustainable'</span><span style=\"font-weight: bold\">)</span>, <span style=\"color: #800080; text-decoration-color: #800080; font-weight: bold\">Term</span><span style=\"font-weight: bold\">(</span><span style=\"color: #008000; text-decoration-color: #008000\">'title'</span>, <span style=\"color: #008000; text-decoration-color: #008000\">'energy'</span><span style=\"font-weight: bold\">)])</span>\n",
       "</pre>\n"
      ],
      "text/plain": [
       "\u001b[1;35mAnd\u001b[0m\u001b[1m(\u001b[0m\u001b[1m[\u001b[0m\u001b[1;35mTerm\u001b[0m\u001b[1m(\u001b[0m\u001b[32m'title'\u001b[0m, \u001b[32m'sustainable'\u001b[0m\u001b[1m)\u001b[0m, \u001b[1;35mTerm\u001b[0m\u001b[1m(\u001b[0m\u001b[32m'title'\u001b[0m, \u001b[32m'energy'\u001b[0m\u001b[1m)\u001b[0m\u001b[1m]\u001b[0m\u001b[1m)\u001b[0m\n"
      ]
     },
     "metadata": {},
     "output_type": "display_data"
    },
    {
     "data": {
      "text/html": [
       "<pre style=\"white-space:pre;overflow-x:auto;line-height:normal;font-family:Menlo,'DejaVu Sans Mono',consolas,'Courier New',monospace\"><span style=\"color: #00ff00; text-decoration-color: #00ff00\">===================================================== </span>Result<span style=\"color: #00ff00; text-decoration-color: #00ff00\"> ======================================================</span>\n",
       "</pre>\n"
      ],
      "text/plain": [
       "\u001b[92m===================================================== \u001b[0mResult\u001b[92m ======================================================\u001b[0m\n"
      ]
     },
     "metadata": {},
     "output_type": "display_data"
    },
    {
     "data": {
      "text/html": [
       "<pre style=\"white-space:pre;overflow-x:auto;line-height:normal;font-family:Menlo,'DejaVu Sans Mono',consolas,'Courier New',monospace\"><span style=\"font-weight: bold\">[</span>\n",
       "    <span style=\"font-weight: bold\">{</span>\n",
       "        <span style=\"color: #008000; text-decoration-color: #008000\">'author'</span>: <span style=\"color: #008000; text-decoration-color: #008000\">'MacKay, David JC'</span>,\n",
       "        <span style=\"color: #008000; text-decoration-color: #008000\">'isbn'</span>: <span style=\"color: #008000; text-decoration-color: #008000\">'0954452933'</span>,\n",
       "        <span style=\"color: #008000; text-decoration-color: #008000\">'title'</span>: <span style=\"color: #008000; text-decoration-color: #008000\">'Sustainable Energy - without the hot air'</span>,\n",
       "        <span style=\"color: #008000; text-decoration-color: #008000\">'year'</span>: <span style=\"color: #008080; text-decoration-color: #008080; font-weight: bold\">2009</span>\n",
       "    <span style=\"font-weight: bold\">}</span>\n",
       "<span style=\"font-weight: bold\">]</span>\n",
       "</pre>\n"
      ],
      "text/plain": [
       "\u001b[1m[\u001b[0m\n",
       "    \u001b[1m{\u001b[0m\n",
       "        \u001b[32m'author'\u001b[0m: \u001b[32m'MacKay, David JC'\u001b[0m,\n",
       "        \u001b[32m'isbn'\u001b[0m: \u001b[32m'0954452933'\u001b[0m,\n",
       "        \u001b[32m'title'\u001b[0m: \u001b[32m'Sustainable Energy - without the hot air'\u001b[0m,\n",
       "        \u001b[32m'year'\u001b[0m: \u001b[1;36m2009\u001b[0m\n",
       "    \u001b[1m}\u001b[0m\n",
       "\u001b[1m]\u001b[0m\n"
      ]
     },
     "metadata": {},
     "output_type": "display_data"
    }
   ],
   "source": [
    "q_str = \"sustainable energy\"\n",
    "q = qparser.QueryParser(\"title\", schema=schema).parse(q_str)\n",
    "search(q)"
   ]
  },
  {
   "cell_type": "markdown",
   "metadata": {
    "collapsed": false,
    "jupyter": {
     "outputs_hidden": false
    }
   },
   "source": [
    "我们看看故意把一个词拿掉, 如果它默认是 OR, 那么应该依然会输出结果. 不过我们发现结果为空, 所以这和我们设想的一致."
   ]
  },
  {
   "cell_type": "code",
   "execution_count": 9,
   "metadata": {
    "ExecuteTime": {
     "end_time": "2023-09-24T21:24:30.555955Z",
     "start_time": "2023-09-24T21:24:30.501299Z"
    },
    "collapsed": false,
    "jupyter": {
     "outputs_hidden": false
    }
   },
   "outputs": [
    {
     "data": {
      "text/html": [
       "<pre style=\"white-space:pre;overflow-x:auto;line-height:normal;font-family:Menlo,'DejaVu Sans Mono',consolas,'Courier New',monospace\"><span style=\"color: #00ff00; text-decoration-color: #00ff00\">====================================================== </span>Query<span style=\"color: #00ff00; text-decoration-color: #00ff00\"> ======================================================</span>\n",
       "</pre>\n"
      ],
      "text/plain": [
       "\u001b[92m====================================================== \u001b[0mQuery\u001b[92m ======================================================\u001b[0m\n"
      ]
     },
     "metadata": {},
     "output_type": "display_data"
    },
    {
     "data": {
      "text/html": [
       "<pre style=\"white-space:pre;overflow-x:auto;line-height:normal;font-family:Menlo,'DejaVu Sans Mono',consolas,'Courier New',monospace\"><span style=\"color: #00ff00; text-decoration-color: #00ff00\">--------------------------------------------- </span>equivalent query string<span style=\"color: #00ff00; text-decoration-color: #00ff00\"> ---------------------------------------------</span>\n",
       "</pre>\n"
      ],
      "text/plain": [
       "\u001b[92m--------------------------------------------- \u001b[0mequivalent query string\u001b[92m ---------------------------------------------\u001b[0m\n"
      ]
     },
     "metadata": {},
     "output_type": "display_data"
    },
    {
     "name": "stdout",
     "output_type": "stream",
     "text": [
      "(title:sustainable AND title:ener)\n"
     ]
    },
    {
     "data": {
      "text/html": [
       "<pre style=\"white-space:pre;overflow-x:auto;line-height:normal;font-family:Menlo,'DejaVu Sans Mono',consolas,'Courier New',monospace\"><span style=\"color: #00ff00; text-decoration-color: #00ff00\">--------------------------------------------- </span>equivalent query object<span style=\"color: #00ff00; text-decoration-color: #00ff00\"> ---------------------------------------------</span>\n",
       "</pre>\n"
      ],
      "text/plain": [
       "\u001b[92m--------------------------------------------- \u001b[0mequivalent query object\u001b[92m ---------------------------------------------\u001b[0m\n"
      ]
     },
     "metadata": {},
     "output_type": "display_data"
    },
    {
     "data": {
      "text/html": [
       "<pre style=\"white-space:pre;overflow-x:auto;line-height:normal;font-family:Menlo,'DejaVu Sans Mono',consolas,'Courier New',monospace\"><span style=\"color: #800080; text-decoration-color: #800080; font-weight: bold\">And</span><span style=\"font-weight: bold\">([</span><span style=\"color: #800080; text-decoration-color: #800080; font-weight: bold\">Term</span><span style=\"font-weight: bold\">(</span><span style=\"color: #008000; text-decoration-color: #008000\">'title'</span>, <span style=\"color: #008000; text-decoration-color: #008000\">'sustainable'</span><span style=\"font-weight: bold\">)</span>, <span style=\"color: #800080; text-decoration-color: #800080; font-weight: bold\">Term</span><span style=\"font-weight: bold\">(</span><span style=\"color: #008000; text-decoration-color: #008000\">'title'</span>, <span style=\"color: #008000; text-decoration-color: #008000\">'ener'</span><span style=\"font-weight: bold\">)])</span>\n",
       "</pre>\n"
      ],
      "text/plain": [
       "\u001b[1;35mAnd\u001b[0m\u001b[1m(\u001b[0m\u001b[1m[\u001b[0m\u001b[1;35mTerm\u001b[0m\u001b[1m(\u001b[0m\u001b[32m'title'\u001b[0m, \u001b[32m'sustainable'\u001b[0m\u001b[1m)\u001b[0m, \u001b[1;35mTerm\u001b[0m\u001b[1m(\u001b[0m\u001b[32m'title'\u001b[0m, \u001b[32m'ener'\u001b[0m\u001b[1m)\u001b[0m\u001b[1m]\u001b[0m\u001b[1m)\u001b[0m\n"
      ]
     },
     "metadata": {},
     "output_type": "display_data"
    },
    {
     "data": {
      "text/html": [
       "<pre style=\"white-space:pre;overflow-x:auto;line-height:normal;font-family:Menlo,'DejaVu Sans Mono',consolas,'Courier New',monospace\"><span style=\"color: #00ff00; text-decoration-color: #00ff00\">===================================================== </span>Result<span style=\"color: #00ff00; text-decoration-color: #00ff00\"> ======================================================</span>\n",
       "</pre>\n"
      ],
      "text/plain": [
       "\u001b[92m===================================================== \u001b[0mResult\u001b[92m ======================================================\u001b[0m\n"
      ]
     },
     "metadata": {},
     "output_type": "display_data"
    },
    {
     "data": {
      "text/html": [
       "<pre style=\"white-space:pre;overflow-x:auto;line-height:normal;font-family:Menlo,'DejaVu Sans Mono',consolas,'Courier New',monospace\"><span style=\"font-weight: bold\">[]</span>\n",
       "</pre>\n"
      ],
      "text/plain": [
       "\u001b[1m[\u001b[0m\u001b[1m]\u001b[0m\n"
      ]
     },
     "metadata": {},
     "output_type": "display_data"
    }
   ],
   "source": [
    "q_str = \"sustainable ener\"\n",
    "q = qparser.QueryParser(\"title\", schema=schema).parse(q_str)\n",
    "search(q)"
   ]
  },
  {
   "cell_type": "markdown",
   "metadata": {
    "collapsed": false,
    "jupyter": {
     "outputs_hidden": false
    }
   },
   "source": [
    "同样, 以上的 query 也可以手动创建."
   ]
  },
  {
   "cell_type": "code",
   "execution_count": 10,
   "metadata": {
    "ExecuteTime": {
     "end_time": "2023-09-24T21:24:30.557956Z",
     "start_time": "2023-09-24T21:24:30.530115Z"
    },
    "collapsed": false,
    "jupyter": {
     "outputs_hidden": false
    }
   },
   "outputs": [
    {
     "data": {
      "text/html": [
       "<pre style=\"white-space:pre;overflow-x:auto;line-height:normal;font-family:Menlo,'DejaVu Sans Mono',consolas,'Courier New',monospace\"><span style=\"color: #00ff00; text-decoration-color: #00ff00\">====================================================== </span>Query<span style=\"color: #00ff00; text-decoration-color: #00ff00\"> ======================================================</span>\n",
       "</pre>\n"
      ],
      "text/plain": [
       "\u001b[92m====================================================== \u001b[0mQuery\u001b[92m ======================================================\u001b[0m\n"
      ]
     },
     "metadata": {},
     "output_type": "display_data"
    },
    {
     "data": {
      "text/html": [
       "<pre style=\"white-space:pre;overflow-x:auto;line-height:normal;font-family:Menlo,'DejaVu Sans Mono',consolas,'Courier New',monospace\"><span style=\"color: #00ff00; text-decoration-color: #00ff00\">--------------------------------------------- </span>equivalent query string<span style=\"color: #00ff00; text-decoration-color: #00ff00\"> ---------------------------------------------</span>\n",
       "</pre>\n"
      ],
      "text/plain": [
       "\u001b[92m--------------------------------------------- \u001b[0mequivalent query string\u001b[92m ---------------------------------------------\u001b[0m\n"
      ]
     },
     "metadata": {},
     "output_type": "display_data"
    },
    {
     "name": "stdout",
     "output_type": "stream",
     "text": [
      "(title:sustainable AND title:energy)\n"
     ]
    },
    {
     "data": {
      "text/html": [
       "<pre style=\"white-space:pre;overflow-x:auto;line-height:normal;font-family:Menlo,'DejaVu Sans Mono',consolas,'Courier New',monospace\"><span style=\"color: #00ff00; text-decoration-color: #00ff00\">--------------------------------------------- </span>equivalent query object<span style=\"color: #00ff00; text-decoration-color: #00ff00\"> ---------------------------------------------</span>\n",
       "</pre>\n"
      ],
      "text/plain": [
       "\u001b[92m--------------------------------------------- \u001b[0mequivalent query object\u001b[92m ---------------------------------------------\u001b[0m\n"
      ]
     },
     "metadata": {},
     "output_type": "display_data"
    },
    {
     "data": {
      "text/html": [
       "<pre style=\"white-space:pre;overflow-x:auto;line-height:normal;font-family:Menlo,'DejaVu Sans Mono',consolas,'Courier New',monospace\"><span style=\"color: #800080; text-decoration-color: #800080; font-weight: bold\">And</span><span style=\"font-weight: bold\">([</span><span style=\"color: #800080; text-decoration-color: #800080; font-weight: bold\">Term</span><span style=\"font-weight: bold\">(</span><span style=\"color: #008000; text-decoration-color: #008000\">'title'</span>, <span style=\"color: #008000; text-decoration-color: #008000\">'sustainable'</span><span style=\"font-weight: bold\">)</span>, <span style=\"color: #800080; text-decoration-color: #800080; font-weight: bold\">Term</span><span style=\"font-weight: bold\">(</span><span style=\"color: #008000; text-decoration-color: #008000\">'title'</span>, <span style=\"color: #008000; text-decoration-color: #008000\">'energy'</span><span style=\"font-weight: bold\">)])</span>\n",
       "</pre>\n"
      ],
      "text/plain": [
       "\u001b[1;35mAnd\u001b[0m\u001b[1m(\u001b[0m\u001b[1m[\u001b[0m\u001b[1;35mTerm\u001b[0m\u001b[1m(\u001b[0m\u001b[32m'title'\u001b[0m, \u001b[32m'sustainable'\u001b[0m\u001b[1m)\u001b[0m, \u001b[1;35mTerm\u001b[0m\u001b[1m(\u001b[0m\u001b[32m'title'\u001b[0m, \u001b[32m'energy'\u001b[0m\u001b[1m)\u001b[0m\u001b[1m]\u001b[0m\u001b[1m)\u001b[0m\n"
      ]
     },
     "metadata": {},
     "output_type": "display_data"
    },
    {
     "data": {
      "text/html": [
       "<pre style=\"white-space:pre;overflow-x:auto;line-height:normal;font-family:Menlo,'DejaVu Sans Mono',consolas,'Courier New',monospace\"><span style=\"color: #00ff00; text-decoration-color: #00ff00\">===================================================== </span>Result<span style=\"color: #00ff00; text-decoration-color: #00ff00\"> ======================================================</span>\n",
       "</pre>\n"
      ],
      "text/plain": [
       "\u001b[92m===================================================== \u001b[0mResult\u001b[92m ======================================================\u001b[0m\n"
      ]
     },
     "metadata": {},
     "output_type": "display_data"
    },
    {
     "data": {
      "text/html": [
       "<pre style=\"white-space:pre;overflow-x:auto;line-height:normal;font-family:Menlo,'DejaVu Sans Mono',consolas,'Courier New',monospace\"><span style=\"font-weight: bold\">[</span>\n",
       "    <span style=\"font-weight: bold\">{</span>\n",
       "        <span style=\"color: #008000; text-decoration-color: #008000\">'author'</span>: <span style=\"color: #008000; text-decoration-color: #008000\">'MacKay, David JC'</span>,\n",
       "        <span style=\"color: #008000; text-decoration-color: #008000\">'isbn'</span>: <span style=\"color: #008000; text-decoration-color: #008000\">'0954452933'</span>,\n",
       "        <span style=\"color: #008000; text-decoration-color: #008000\">'title'</span>: <span style=\"color: #008000; text-decoration-color: #008000\">'Sustainable Energy - without the hot air'</span>,\n",
       "        <span style=\"color: #008000; text-decoration-color: #008000\">'year'</span>: <span style=\"color: #008080; text-decoration-color: #008080; font-weight: bold\">2009</span>\n",
       "    <span style=\"font-weight: bold\">}</span>\n",
       "<span style=\"font-weight: bold\">]</span>\n",
       "</pre>\n"
      ],
      "text/plain": [
       "\u001b[1m[\u001b[0m\n",
       "    \u001b[1m{\u001b[0m\n",
       "        \u001b[32m'author'\u001b[0m: \u001b[32m'MacKay, David JC'\u001b[0m,\n",
       "        \u001b[32m'isbn'\u001b[0m: \u001b[32m'0954452933'\u001b[0m,\n",
       "        \u001b[32m'title'\u001b[0m: \u001b[32m'Sustainable Energy - without the hot air'\u001b[0m,\n",
       "        \u001b[32m'year'\u001b[0m: \u001b[1;36m2009\u001b[0m\n",
       "    \u001b[1m}\u001b[0m\n",
       "\u001b[1m]\u001b[0m\n"
      ]
     },
     "metadata": {},
     "output_type": "display_data"
    }
   ],
   "source": [
    "q = query.And([query.Term(\"title\", \"sustainable\"), query.Term(\"title\", \"energy\")])\n",
    "search(q)"
   ]
  },
  {
   "cell_type": "markdown",
   "metadata": {
    "collapsed": false,
    "jupyter": {
     "outputs_hidden": false
    }
   },
   "source": [
    "## 各种 Query Parser\n",
    "\n",
    "前面我们可以看出, 我们有各种 Query Parser 可用, 其中我们已经试过了 ``QueryParser``, 它只能对一个 field 进行搜索. 下面是两个比较常用的 Parser:\n",
    "\n",
    "- QueryParser: 只能对一个 field 进行搜索.\n",
    "- MultifieldParser: 可以同时对多个 field 进行搜索. 这个应该是最常用的 Parser 了.\n",
    "\n",
    "之后还有两个自带的 Parser, 我们列出了官方文档对它们的说明. 但我们需要先熟悉前面两个 Parser 里面的一些概念之后, 才能真正理解它们.\n",
    "\n",
    "- SimpleParser: Returns a QueryParser configured to support only +, -, and phrase syntax.\n",
    "- DisMaxParser: Returns a QueryParser configured to support only +, -, and phrase syntax, and which converts individual terms into DisjunctionMax queries across a set of fields.\n",
    "\n",
    "在这一章, 我们来深入了解 ``QueryParser`` 和 ``MultifieldParser``.\n",
    "\n",
    "Reference:\n",
    "\n",
    "- [Parsing user queries](https://whoosh.readthedocs.io/en/latest/parsing.html)\n",
    "- [The default query language](https://whoosh.readthedocs.io/en/latest/querylang.html)\n"
   ]
  },
  {
   "cell_type": "markdown",
   "metadata": {
    "collapsed": false,
    "jupyter": {
     "outputs_hidden": false
    }
   },
   "source": [
    "## 最常用的 MultifieldParser\n",
    "\n",
    "顾名思义, 默认你的 Term 会同时对多个 field 进行搜索. field 之间是 OR 的关系, 也就是只要有一个 match 即可. 而 Term 之间和之前一样, 默认仍然是 AND 的关系."
   ]
  },
  {
   "cell_type": "code",
   "execution_count": 11,
   "metadata": {
    "ExecuteTime": {
     "end_time": "2023-09-24T21:24:30.607430Z",
     "start_time": "2023-09-24T21:24:30.559224Z"
    },
    "collapsed": false,
    "jupyter": {
     "outputs_hidden": false
    }
   },
   "outputs": [
    {
     "data": {
      "text/html": [
       "<pre style=\"white-space:pre;overflow-x:auto;line-height:normal;font-family:Menlo,'DejaVu Sans Mono',consolas,'Courier New',monospace\"><span style=\"color: #00ff00; text-decoration-color: #00ff00\">====================================================== </span>Query<span style=\"color: #00ff00; text-decoration-color: #00ff00\"> ======================================================</span>\n",
       "</pre>\n"
      ],
      "text/plain": [
       "\u001b[92m====================================================== \u001b[0mQuery\u001b[92m ======================================================\u001b[0m\n"
      ]
     },
     "metadata": {},
     "output_type": "display_data"
    },
    {
     "data": {
      "text/html": [
       "<pre style=\"white-space:pre;overflow-x:auto;line-height:normal;font-family:Menlo,'DejaVu Sans Mono',consolas,'Courier New',monospace\"><span style=\"color: #00ff00; text-decoration-color: #00ff00\">--------------------------------------------- </span>equivalent query string<span style=\"color: #00ff00; text-decoration-color: #00ff00\"> ---------------------------------------------</span>\n",
       "</pre>\n"
      ],
      "text/plain": [
       "\u001b[92m--------------------------------------------- \u001b[0mequivalent query string\u001b[92m ---------------------------------------------\u001b[0m\n"
      ]
     },
     "metadata": {},
     "output_type": "display_data"
    },
    {
     "name": "stdout",
     "output_type": "stream",
     "text": [
      "((title:sustainable OR (author:sustai AND author:ustain AND author:staina AND author:tainab AND author:ainabl AND author:inable)) AND (title:energy OR author:energy))\n"
     ]
    },
    {
     "data": {
      "text/html": [
       "<pre style=\"white-space:pre;overflow-x:auto;line-height:normal;font-family:Menlo,'DejaVu Sans Mono',consolas,'Courier New',monospace\"><span style=\"color: #00ff00; text-decoration-color: #00ff00\">--------------------------------------------- </span>equivalent query object<span style=\"color: #00ff00; text-decoration-color: #00ff00\"> ---------------------------------------------</span>\n",
       "</pre>\n"
      ],
      "text/plain": [
       "\u001b[92m--------------------------------------------- \u001b[0mequivalent query object\u001b[92m ---------------------------------------------\u001b[0m\n"
      ]
     },
     "metadata": {},
     "output_type": "display_data"
    },
    {
     "data": {
      "text/html": [
       "<pre style=\"white-space:pre;overflow-x:auto;line-height:normal;font-family:Menlo,'DejaVu Sans Mono',consolas,'Courier New',monospace\"><span style=\"color: #800080; text-decoration-color: #800080; font-weight: bold\">And</span><span style=\"font-weight: bold\">([</span><span style=\"color: #800080; text-decoration-color: #800080; font-weight: bold\">Or</span><span style=\"font-weight: bold\">([</span><span style=\"color: #800080; text-decoration-color: #800080; font-weight: bold\">Term</span><span style=\"font-weight: bold\">(</span><span style=\"color: #008000; text-decoration-color: #008000\">'title'</span>, <span style=\"color: #008000; text-decoration-color: #008000\">'sustainable'</span><span style=\"font-weight: bold\">)</span>, <span style=\"color: #800080; text-decoration-color: #800080; font-weight: bold\">And</span><span style=\"font-weight: bold\">([</span><span style=\"color: #800080; text-decoration-color: #800080; font-weight: bold\">Term</span><span style=\"font-weight: bold\">(</span><span style=\"color: #008000; text-decoration-color: #008000\">'author'</span>, <span style=\"color: #008000; text-decoration-color: #008000\">'sustai'</span><span style=\"font-weight: bold\">)</span>, <span style=\"color: #800080; text-decoration-color: #800080; font-weight: bold\">Term</span><span style=\"font-weight: bold\">(</span><span style=\"color: #008000; text-decoration-color: #008000\">'author'</span>, <span style=\"color: #008000; text-decoration-color: #008000\">'ustain'</span><span style=\"font-weight: bold\">)</span>, <span style=\"color: #800080; text-decoration-color: #800080; font-weight: bold\">Term</span><span style=\"font-weight: bold\">(</span><span style=\"color: #008000; text-decoration-color: #008000\">'author'</span>, \n",
       "<span style=\"color: #008000; text-decoration-color: #008000\">'staina'</span><span style=\"font-weight: bold\">)</span>, <span style=\"color: #800080; text-decoration-color: #800080; font-weight: bold\">Term</span><span style=\"font-weight: bold\">(</span><span style=\"color: #008000; text-decoration-color: #008000\">'author'</span>, <span style=\"color: #008000; text-decoration-color: #008000\">'tainab'</span><span style=\"font-weight: bold\">)</span>, <span style=\"color: #800080; text-decoration-color: #800080; font-weight: bold\">Term</span><span style=\"font-weight: bold\">(</span><span style=\"color: #008000; text-decoration-color: #008000\">'author'</span>, <span style=\"color: #008000; text-decoration-color: #008000\">'ainabl'</span><span style=\"font-weight: bold\">)</span>, <span style=\"color: #800080; text-decoration-color: #800080; font-weight: bold\">Term</span><span style=\"font-weight: bold\">(</span><span style=\"color: #008000; text-decoration-color: #008000\">'author'</span>, <span style=\"color: #008000; text-decoration-color: #008000\">'inable'</span><span style=\"font-weight: bold\">)])])</span>, <span style=\"color: #800080; text-decoration-color: #800080; font-weight: bold\">Or</span><span style=\"font-weight: bold\">([</span><span style=\"color: #800080; text-decoration-color: #800080; font-weight: bold\">Term</span><span style=\"font-weight: bold\">(</span><span style=\"color: #008000; text-decoration-color: #008000\">'title'</span>, \n",
       "<span style=\"color: #008000; text-decoration-color: #008000\">'energy'</span><span style=\"font-weight: bold\">)</span>, <span style=\"color: #800080; text-decoration-color: #800080; font-weight: bold\">Term</span><span style=\"font-weight: bold\">(</span><span style=\"color: #008000; text-decoration-color: #008000\">'author'</span>, <span style=\"color: #008000; text-decoration-color: #008000\">'energy'</span><span style=\"font-weight: bold\">)])])</span>\n",
       "</pre>\n"
      ],
      "text/plain": [
       "\u001b[1;35mAnd\u001b[0m\u001b[1m(\u001b[0m\u001b[1m[\u001b[0m\u001b[1;35mOr\u001b[0m\u001b[1m(\u001b[0m\u001b[1m[\u001b[0m\u001b[1;35mTerm\u001b[0m\u001b[1m(\u001b[0m\u001b[32m'title'\u001b[0m, \u001b[32m'sustainable'\u001b[0m\u001b[1m)\u001b[0m, \u001b[1;35mAnd\u001b[0m\u001b[1m(\u001b[0m\u001b[1m[\u001b[0m\u001b[1;35mTerm\u001b[0m\u001b[1m(\u001b[0m\u001b[32m'author'\u001b[0m, \u001b[32m'sustai'\u001b[0m\u001b[1m)\u001b[0m, \u001b[1;35mTerm\u001b[0m\u001b[1m(\u001b[0m\u001b[32m'author'\u001b[0m, \u001b[32m'ustain'\u001b[0m\u001b[1m)\u001b[0m, \u001b[1;35mTerm\u001b[0m\u001b[1m(\u001b[0m\u001b[32m'author'\u001b[0m, \n",
       "\u001b[32m'staina'\u001b[0m\u001b[1m)\u001b[0m, \u001b[1;35mTerm\u001b[0m\u001b[1m(\u001b[0m\u001b[32m'author'\u001b[0m, \u001b[32m'tainab'\u001b[0m\u001b[1m)\u001b[0m, \u001b[1;35mTerm\u001b[0m\u001b[1m(\u001b[0m\u001b[32m'author'\u001b[0m, \u001b[32m'ainabl'\u001b[0m\u001b[1m)\u001b[0m, \u001b[1;35mTerm\u001b[0m\u001b[1m(\u001b[0m\u001b[32m'author'\u001b[0m, \u001b[32m'inable'\u001b[0m\u001b[1m)\u001b[0m\u001b[1m]\u001b[0m\u001b[1m)\u001b[0m\u001b[1m]\u001b[0m\u001b[1m)\u001b[0m, \u001b[1;35mOr\u001b[0m\u001b[1m(\u001b[0m\u001b[1m[\u001b[0m\u001b[1;35mTerm\u001b[0m\u001b[1m(\u001b[0m\u001b[32m'title'\u001b[0m, \n",
       "\u001b[32m'energy'\u001b[0m\u001b[1m)\u001b[0m, \u001b[1;35mTerm\u001b[0m\u001b[1m(\u001b[0m\u001b[32m'author'\u001b[0m, \u001b[32m'energy'\u001b[0m\u001b[1m)\u001b[0m\u001b[1m]\u001b[0m\u001b[1m)\u001b[0m\u001b[1m]\u001b[0m\u001b[1m)\u001b[0m\n"
      ]
     },
     "metadata": {},
     "output_type": "display_data"
    },
    {
     "data": {
      "text/html": [
       "<pre style=\"white-space:pre;overflow-x:auto;line-height:normal;font-family:Menlo,'DejaVu Sans Mono',consolas,'Courier New',monospace\"><span style=\"color: #00ff00; text-decoration-color: #00ff00\">===================================================== </span>Result<span style=\"color: #00ff00; text-decoration-color: #00ff00\"> ======================================================</span>\n",
       "</pre>\n"
      ],
      "text/plain": [
       "\u001b[92m===================================================== \u001b[0mResult\u001b[92m ======================================================\u001b[0m\n"
      ]
     },
     "metadata": {},
     "output_type": "display_data"
    },
    {
     "data": {
      "text/html": [
       "<pre style=\"white-space:pre;overflow-x:auto;line-height:normal;font-family:Menlo,'DejaVu Sans Mono',consolas,'Courier New',monospace\"><span style=\"font-weight: bold\">[</span>\n",
       "    <span style=\"font-weight: bold\">{</span>\n",
       "        <span style=\"color: #008000; text-decoration-color: #008000\">'author'</span>: <span style=\"color: #008000; text-decoration-color: #008000\">'MacKay, David JC'</span>,\n",
       "        <span style=\"color: #008000; text-decoration-color: #008000\">'isbn'</span>: <span style=\"color: #008000; text-decoration-color: #008000\">'0954452933'</span>,\n",
       "        <span style=\"color: #008000; text-decoration-color: #008000\">'title'</span>: <span style=\"color: #008000; text-decoration-color: #008000\">'Sustainable Energy - without the hot air'</span>,\n",
       "        <span style=\"color: #008000; text-decoration-color: #008000\">'year'</span>: <span style=\"color: #008080; text-decoration-color: #008080; font-weight: bold\">2009</span>\n",
       "    <span style=\"font-weight: bold\">}</span>\n",
       "<span style=\"font-weight: bold\">]</span>\n",
       "</pre>\n"
      ],
      "text/plain": [
       "\u001b[1m[\u001b[0m\n",
       "    \u001b[1m{\u001b[0m\n",
       "        \u001b[32m'author'\u001b[0m: \u001b[32m'MacKay, David JC'\u001b[0m,\n",
       "        \u001b[32m'isbn'\u001b[0m: \u001b[32m'0954452933'\u001b[0m,\n",
       "        \u001b[32m'title'\u001b[0m: \u001b[32m'Sustainable Energy - without the hot air'\u001b[0m,\n",
       "        \u001b[32m'year'\u001b[0m: \u001b[1;36m2009\u001b[0m\n",
       "    \u001b[1m}\u001b[0m\n",
       "\u001b[1m]\u001b[0m\n"
      ]
     },
     "metadata": {},
     "output_type": "display_data"
    }
   ],
   "source": [
    "q_str = \"sustainable energy\"\n",
    "q = qparser.MultifieldParser(fieldnames=[\"title\", \"author\"], schema=schema).parse(q_str)\n",
    "search(q)"
   ]
  },
  {
   "cell_type": "markdown",
   "metadata": {
    "collapsed": false,
    "jupyter": {
     "outputs_hidden": false
    }
   },
   "source": [
    "### 指定某个 Term 只对某个 field 生效.\n",
    "\n",
    "之前的例子说明, 所有的 Term 默认会对所有指定的 field 生效. 在 ``MultifieldParser`` 中, 我们仍然可以用语法来定义某个 Term 只对某个 field 生效. 这个语法是 ``${fieldname}:${query_string}``. 从下面的例子可以看出, 我们如果只输入 ``energy``, 最会对 ``title`` 和 ``author`` 两个 field 进行搜索. 而如果输入 ``title:energy``, 则只对 ``title`` 进行搜索."
   ]
  },
  {
   "cell_type": "code",
   "execution_count": 12,
   "metadata": {
    "ExecuteTime": {
     "end_time": "2023-09-24T21:24:30.622048Z",
     "start_time": "2023-09-24T21:24:30.590558Z"
    },
    "collapsed": false,
    "jupyter": {
     "outputs_hidden": false
    }
   },
   "outputs": [
    {
     "data": {
      "text/html": [
       "<pre style=\"white-space:pre;overflow-x:auto;line-height:normal;font-family:Menlo,'DejaVu Sans Mono',consolas,'Courier New',monospace\"><span style=\"color: #00ff00; text-decoration-color: #00ff00\">====================================================== </span>Query<span style=\"color: #00ff00; text-decoration-color: #00ff00\"> ======================================================</span>\n",
       "</pre>\n"
      ],
      "text/plain": [
       "\u001b[92m====================================================== \u001b[0mQuery\u001b[92m ======================================================\u001b[0m\n"
      ]
     },
     "metadata": {},
     "output_type": "display_data"
    },
    {
     "data": {
      "text/html": [
       "<pre style=\"white-space:pre;overflow-x:auto;line-height:normal;font-family:Menlo,'DejaVu Sans Mono',consolas,'Courier New',monospace\"><span style=\"color: #00ff00; text-decoration-color: #00ff00\">--------------------------------------------- </span>equivalent query string<span style=\"color: #00ff00; text-decoration-color: #00ff00\"> ---------------------------------------------</span>\n",
       "</pre>\n"
      ],
      "text/plain": [
       "\u001b[92m--------------------------------------------- \u001b[0mequivalent query string\u001b[92m ---------------------------------------------\u001b[0m\n"
      ]
     },
     "metadata": {},
     "output_type": "display_data"
    },
    {
     "name": "stdout",
     "output_type": "stream",
     "text": [
      "(title:energy OR author:energy)\n"
     ]
    },
    {
     "data": {
      "text/html": [
       "<pre style=\"white-space:pre;overflow-x:auto;line-height:normal;font-family:Menlo,'DejaVu Sans Mono',consolas,'Courier New',monospace\"><span style=\"color: #00ff00; text-decoration-color: #00ff00\">--------------------------------------------- </span>equivalent query object<span style=\"color: #00ff00; text-decoration-color: #00ff00\"> ---------------------------------------------</span>\n",
       "</pre>\n"
      ],
      "text/plain": [
       "\u001b[92m--------------------------------------------- \u001b[0mequivalent query object\u001b[92m ---------------------------------------------\u001b[0m\n"
      ]
     },
     "metadata": {},
     "output_type": "display_data"
    },
    {
     "data": {
      "text/html": [
       "<pre style=\"white-space:pre;overflow-x:auto;line-height:normal;font-family:Menlo,'DejaVu Sans Mono',consolas,'Courier New',monospace\"><span style=\"color: #800080; text-decoration-color: #800080; font-weight: bold\">Or</span><span style=\"font-weight: bold\">([</span><span style=\"color: #800080; text-decoration-color: #800080; font-weight: bold\">Term</span><span style=\"font-weight: bold\">(</span><span style=\"color: #008000; text-decoration-color: #008000\">'title'</span>, <span style=\"color: #008000; text-decoration-color: #008000\">'energy'</span><span style=\"font-weight: bold\">)</span>, <span style=\"color: #800080; text-decoration-color: #800080; font-weight: bold\">Term</span><span style=\"font-weight: bold\">(</span><span style=\"color: #008000; text-decoration-color: #008000\">'author'</span>, <span style=\"color: #008000; text-decoration-color: #008000\">'energy'</span><span style=\"font-weight: bold\">)])</span>\n",
       "</pre>\n"
      ],
      "text/plain": [
       "\u001b[1;35mOr\u001b[0m\u001b[1m(\u001b[0m\u001b[1m[\u001b[0m\u001b[1;35mTerm\u001b[0m\u001b[1m(\u001b[0m\u001b[32m'title'\u001b[0m, \u001b[32m'energy'\u001b[0m\u001b[1m)\u001b[0m, \u001b[1;35mTerm\u001b[0m\u001b[1m(\u001b[0m\u001b[32m'author'\u001b[0m, \u001b[32m'energy'\u001b[0m\u001b[1m)\u001b[0m\u001b[1m]\u001b[0m\u001b[1m)\u001b[0m\n"
      ]
     },
     "metadata": {},
     "output_type": "display_data"
    },
    {
     "data": {
      "text/html": [
       "<pre style=\"white-space:pre;overflow-x:auto;line-height:normal;font-family:Menlo,'DejaVu Sans Mono',consolas,'Courier New',monospace\"><span style=\"color: #00ff00; text-decoration-color: #00ff00\">===================================================== </span>Result<span style=\"color: #00ff00; text-decoration-color: #00ff00\"> ======================================================</span>\n",
       "</pre>\n"
      ],
      "text/plain": [
       "\u001b[92m===================================================== \u001b[0mResult\u001b[92m ======================================================\u001b[0m\n"
      ]
     },
     "metadata": {},
     "output_type": "display_data"
    },
    {
     "data": {
      "text/html": [
       "<pre style=\"white-space:pre;overflow-x:auto;line-height:normal;font-family:Menlo,'DejaVu Sans Mono',consolas,'Courier New',monospace\"><span style=\"font-weight: bold\">[</span>\n",
       "    <span style=\"font-weight: bold\">{</span>\n",
       "        <span style=\"color: #008000; text-decoration-color: #008000\">'author'</span>: <span style=\"color: #008000; text-decoration-color: #008000\">'MacKay, David JC'</span>,\n",
       "        <span style=\"color: #008000; text-decoration-color: #008000\">'isbn'</span>: <span style=\"color: #008000; text-decoration-color: #008000\">'0954452933'</span>,\n",
       "        <span style=\"color: #008000; text-decoration-color: #008000\">'title'</span>: <span style=\"color: #008000; text-decoration-color: #008000\">'Sustainable Energy - without the hot air'</span>,\n",
       "        <span style=\"color: #008000; text-decoration-color: #008000\">'year'</span>: <span style=\"color: #008080; text-decoration-color: #008080; font-weight: bold\">2009</span>\n",
       "    <span style=\"font-weight: bold\">}</span>\n",
       "<span style=\"font-weight: bold\">]</span>\n",
       "</pre>\n"
      ],
      "text/plain": [
       "\u001b[1m[\u001b[0m\n",
       "    \u001b[1m{\u001b[0m\n",
       "        \u001b[32m'author'\u001b[0m: \u001b[32m'MacKay, David JC'\u001b[0m,\n",
       "        \u001b[32m'isbn'\u001b[0m: \u001b[32m'0954452933'\u001b[0m,\n",
       "        \u001b[32m'title'\u001b[0m: \u001b[32m'Sustainable Energy - without the hot air'\u001b[0m,\n",
       "        \u001b[32m'year'\u001b[0m: \u001b[1;36m2009\u001b[0m\n",
       "    \u001b[1m}\u001b[0m\n",
       "\u001b[1m]\u001b[0m\n"
      ]
     },
     "metadata": {},
     "output_type": "display_data"
    }
   ],
   "source": [
    "q_str = \"energy\"\n",
    "q = qparser.MultifieldParser(fieldnames=[\"title\", \"author\"], schema=schema).parse(q_str)\n",
    "search(q)"
   ]
  },
  {
   "cell_type": "code",
   "execution_count": 13,
   "metadata": {
    "ExecuteTime": {
     "end_time": "2023-09-24T21:24:30.666999Z",
     "start_time": "2023-09-24T21:24:30.618963Z"
    },
    "collapsed": false,
    "jupyter": {
     "outputs_hidden": false
    }
   },
   "outputs": [
    {
     "data": {
      "text/html": [
       "<pre style=\"white-space:pre;overflow-x:auto;line-height:normal;font-family:Menlo,'DejaVu Sans Mono',consolas,'Courier New',monospace\"><span style=\"color: #00ff00; text-decoration-color: #00ff00\">====================================================== </span>Query<span style=\"color: #00ff00; text-decoration-color: #00ff00\"> ======================================================</span>\n",
       "</pre>\n"
      ],
      "text/plain": [
       "\u001b[92m====================================================== \u001b[0mQuery\u001b[92m ======================================================\u001b[0m\n"
      ]
     },
     "metadata": {},
     "output_type": "display_data"
    },
    {
     "data": {
      "text/html": [
       "<pre style=\"white-space:pre;overflow-x:auto;line-height:normal;font-family:Menlo,'DejaVu Sans Mono',consolas,'Courier New',monospace\"><span style=\"color: #00ff00; text-decoration-color: #00ff00\">--------------------------------------------- </span>equivalent query string<span style=\"color: #00ff00; text-decoration-color: #00ff00\"> ---------------------------------------------</span>\n",
       "</pre>\n"
      ],
      "text/plain": [
       "\u001b[92m--------------------------------------------- \u001b[0mequivalent query string\u001b[92m ---------------------------------------------\u001b[0m\n"
      ]
     },
     "metadata": {},
     "output_type": "display_data"
    },
    {
     "name": "stdout",
     "output_type": "stream",
     "text": [
      "title:energy\n"
     ]
    },
    {
     "data": {
      "text/html": [
       "<pre style=\"white-space:pre;overflow-x:auto;line-height:normal;font-family:Menlo,'DejaVu Sans Mono',consolas,'Courier New',monospace\"><span style=\"color: #00ff00; text-decoration-color: #00ff00\">--------------------------------------------- </span>equivalent query object<span style=\"color: #00ff00; text-decoration-color: #00ff00\"> ---------------------------------------------</span>\n",
       "</pre>\n"
      ],
      "text/plain": [
       "\u001b[92m--------------------------------------------- \u001b[0mequivalent query object\u001b[92m ---------------------------------------------\u001b[0m\n"
      ]
     },
     "metadata": {},
     "output_type": "display_data"
    },
    {
     "data": {
      "text/html": [
       "<pre style=\"white-space:pre;overflow-x:auto;line-height:normal;font-family:Menlo,'DejaVu Sans Mono',consolas,'Courier New',monospace\"><span style=\"color: #800080; text-decoration-color: #800080; font-weight: bold\">Term</span><span style=\"font-weight: bold\">(</span><span style=\"color: #008000; text-decoration-color: #008000\">'title'</span>, <span style=\"color: #008000; text-decoration-color: #008000\">'energy'</span><span style=\"font-weight: bold\">)</span>\n",
       "</pre>\n"
      ],
      "text/plain": [
       "\u001b[1;35mTerm\u001b[0m\u001b[1m(\u001b[0m\u001b[32m'title'\u001b[0m, \u001b[32m'energy'\u001b[0m\u001b[1m)\u001b[0m\n"
      ]
     },
     "metadata": {},
     "output_type": "display_data"
    },
    {
     "data": {
      "text/html": [
       "<pre style=\"white-space:pre;overflow-x:auto;line-height:normal;font-family:Menlo,'DejaVu Sans Mono',consolas,'Courier New',monospace\"><span style=\"color: #00ff00; text-decoration-color: #00ff00\">===================================================== </span>Result<span style=\"color: #00ff00; text-decoration-color: #00ff00\"> ======================================================</span>\n",
       "</pre>\n"
      ],
      "text/plain": [
       "\u001b[92m===================================================== \u001b[0mResult\u001b[92m ======================================================\u001b[0m\n"
      ]
     },
     "metadata": {},
     "output_type": "display_data"
    },
    {
     "data": {
      "text/html": [
       "<pre style=\"white-space:pre;overflow-x:auto;line-height:normal;font-family:Menlo,'DejaVu Sans Mono',consolas,'Courier New',monospace\"><span style=\"font-weight: bold\">[</span>\n",
       "    <span style=\"font-weight: bold\">{</span>\n",
       "        <span style=\"color: #008000; text-decoration-color: #008000\">'author'</span>: <span style=\"color: #008000; text-decoration-color: #008000\">'MacKay, David JC'</span>,\n",
       "        <span style=\"color: #008000; text-decoration-color: #008000\">'isbn'</span>: <span style=\"color: #008000; text-decoration-color: #008000\">'0954452933'</span>,\n",
       "        <span style=\"color: #008000; text-decoration-color: #008000\">'title'</span>: <span style=\"color: #008000; text-decoration-color: #008000\">'Sustainable Energy - without the hot air'</span>,\n",
       "        <span style=\"color: #008000; text-decoration-color: #008000\">'year'</span>: <span style=\"color: #008080; text-decoration-color: #008080; font-weight: bold\">2009</span>\n",
       "    <span style=\"font-weight: bold\">}</span>\n",
       "<span style=\"font-weight: bold\">]</span>\n",
       "</pre>\n"
      ],
      "text/plain": [
       "\u001b[1m[\u001b[0m\n",
       "    \u001b[1m{\u001b[0m\n",
       "        \u001b[32m'author'\u001b[0m: \u001b[32m'MacKay, David JC'\u001b[0m,\n",
       "        \u001b[32m'isbn'\u001b[0m: \u001b[32m'0954452933'\u001b[0m,\n",
       "        \u001b[32m'title'\u001b[0m: \u001b[32m'Sustainable Energy - without the hot air'\u001b[0m,\n",
       "        \u001b[32m'year'\u001b[0m: \u001b[1;36m2009\u001b[0m\n",
       "    \u001b[1m}\u001b[0m\n",
       "\u001b[1m]\u001b[0m\n"
      ]
     },
     "metadata": {},
     "output_type": "display_data"
    }
   ],
   "source": [
    "q_str = \"title:energy\"\n",
    "q = qparser.MultifieldParser(fieldnames=[\"title\", \"author\"], schema=schema).parse(q_str)\n",
    "search(q)"
   ]
  },
  {
   "cell_type": "markdown",
   "metadata": {
    "collapsed": false,
    "jupyter": {
     "outputs_hidden": false
    }
   },
   "source": [
    "### 使用 AND 连接多个 Term\n",
    "\n",
    "那如果我们要用 ``${fieldname}:${query_string}`` 语法同时对多个 field 进行搜索应该怎么做呢? 答案是使用 ``AND`` 关键字. 除了 ``AND``, whoosh 还支持 ``OR``, ``ANDNOT``, ``ANDMAYBE``, and ``NOT`` 关键字, 这些关键字的定义可以在 [query 模块的文档](https://whoosh.readthedocs.io/en/latest/api/query.html) 中找到."
   ]
  },
  {
   "cell_type": "code",
   "execution_count": 14,
   "metadata": {
    "ExecuteTime": {
     "end_time": "2023-09-24T21:24:30.677807Z",
     "start_time": "2023-09-24T21:24:30.650649Z"
    },
    "collapsed": false,
    "jupyter": {
     "outputs_hidden": false
    }
   },
   "outputs": [
    {
     "data": {
      "text/html": [
       "<pre style=\"white-space:pre;overflow-x:auto;line-height:normal;font-family:Menlo,'DejaVu Sans Mono',consolas,'Courier New',monospace\"><span style=\"color: #00ff00; text-decoration-color: #00ff00\">====================================================== </span>Query<span style=\"color: #00ff00; text-decoration-color: #00ff00\"> ======================================================</span>\n",
       "</pre>\n"
      ],
      "text/plain": [
       "\u001b[92m====================================================== \u001b[0mQuery\u001b[92m ======================================================\u001b[0m\n"
      ]
     },
     "metadata": {},
     "output_type": "display_data"
    },
    {
     "data": {
      "text/html": [
       "<pre style=\"white-space:pre;overflow-x:auto;line-height:normal;font-family:Menlo,'DejaVu Sans Mono',consolas,'Courier New',monospace\"><span style=\"color: #00ff00; text-decoration-color: #00ff00\">--------------------------------------------- </span>equivalent query string<span style=\"color: #00ff00; text-decoration-color: #00ff00\"> ---------------------------------------------</span>\n",
       "</pre>\n"
      ],
      "text/plain": [
       "\u001b[92m--------------------------------------------- \u001b[0mequivalent query string\u001b[92m ---------------------------------------------\u001b[0m\n"
      ]
     },
     "metadata": {},
     "output_type": "display_data"
    },
    {
     "name": "stdout",
     "output_type": "stream",
     "text": [
      "(title:energy AND author:david)\n"
     ]
    },
    {
     "data": {
      "text/html": [
       "<pre style=\"white-space:pre;overflow-x:auto;line-height:normal;font-family:Menlo,'DejaVu Sans Mono',consolas,'Courier New',monospace\"><span style=\"color: #00ff00; text-decoration-color: #00ff00\">--------------------------------------------- </span>equivalent query object<span style=\"color: #00ff00; text-decoration-color: #00ff00\"> ---------------------------------------------</span>\n",
       "</pre>\n"
      ],
      "text/plain": [
       "\u001b[92m--------------------------------------------- \u001b[0mequivalent query object\u001b[92m ---------------------------------------------\u001b[0m\n"
      ]
     },
     "metadata": {},
     "output_type": "display_data"
    },
    {
     "data": {
      "text/html": [
       "<pre style=\"white-space:pre;overflow-x:auto;line-height:normal;font-family:Menlo,'DejaVu Sans Mono',consolas,'Courier New',monospace\"><span style=\"color: #800080; text-decoration-color: #800080; font-weight: bold\">And</span><span style=\"font-weight: bold\">([</span><span style=\"color: #800080; text-decoration-color: #800080; font-weight: bold\">Term</span><span style=\"font-weight: bold\">(</span><span style=\"color: #008000; text-decoration-color: #008000\">'title'</span>, <span style=\"color: #008000; text-decoration-color: #008000\">'energy'</span><span style=\"font-weight: bold\">)</span>, <span style=\"color: #800080; text-decoration-color: #800080; font-weight: bold\">Term</span><span style=\"font-weight: bold\">(</span><span style=\"color: #008000; text-decoration-color: #008000\">'author'</span>, <span style=\"color: #008000; text-decoration-color: #008000\">'david'</span><span style=\"font-weight: bold\">)])</span>\n",
       "</pre>\n"
      ],
      "text/plain": [
       "\u001b[1;35mAnd\u001b[0m\u001b[1m(\u001b[0m\u001b[1m[\u001b[0m\u001b[1;35mTerm\u001b[0m\u001b[1m(\u001b[0m\u001b[32m'title'\u001b[0m, \u001b[32m'energy'\u001b[0m\u001b[1m)\u001b[0m, \u001b[1;35mTerm\u001b[0m\u001b[1m(\u001b[0m\u001b[32m'author'\u001b[0m, \u001b[32m'david'\u001b[0m\u001b[1m)\u001b[0m\u001b[1m]\u001b[0m\u001b[1m)\u001b[0m\n"
      ]
     },
     "metadata": {},
     "output_type": "display_data"
    },
    {
     "data": {
      "text/html": [
       "<pre style=\"white-space:pre;overflow-x:auto;line-height:normal;font-family:Menlo,'DejaVu Sans Mono',consolas,'Courier New',monospace\"><span style=\"color: #00ff00; text-decoration-color: #00ff00\">===================================================== </span>Result<span style=\"color: #00ff00; text-decoration-color: #00ff00\"> ======================================================</span>\n",
       "</pre>\n"
      ],
      "text/plain": [
       "\u001b[92m===================================================== \u001b[0mResult\u001b[92m ======================================================\u001b[0m\n"
      ]
     },
     "metadata": {},
     "output_type": "display_data"
    },
    {
     "data": {
      "text/html": [
       "<pre style=\"white-space:pre;overflow-x:auto;line-height:normal;font-family:Menlo,'DejaVu Sans Mono',consolas,'Courier New',monospace\"><span style=\"font-weight: bold\">[</span>\n",
       "    <span style=\"font-weight: bold\">{</span>\n",
       "        <span style=\"color: #008000; text-decoration-color: #008000\">'author'</span>: <span style=\"color: #008000; text-decoration-color: #008000\">'MacKay, David JC'</span>,\n",
       "        <span style=\"color: #008000; text-decoration-color: #008000\">'isbn'</span>: <span style=\"color: #008000; text-decoration-color: #008000\">'0954452933'</span>,\n",
       "        <span style=\"color: #008000; text-decoration-color: #008000\">'title'</span>: <span style=\"color: #008000; text-decoration-color: #008000\">'Sustainable Energy - without the hot air'</span>,\n",
       "        <span style=\"color: #008000; text-decoration-color: #008000\">'year'</span>: <span style=\"color: #008080; text-decoration-color: #008080; font-weight: bold\">2009</span>\n",
       "    <span style=\"font-weight: bold\">}</span>\n",
       "<span style=\"font-weight: bold\">]</span>\n",
       "</pre>\n"
      ],
      "text/plain": [
       "\u001b[1m[\u001b[0m\n",
       "    \u001b[1m{\u001b[0m\n",
       "        \u001b[32m'author'\u001b[0m: \u001b[32m'MacKay, David JC'\u001b[0m,\n",
       "        \u001b[32m'isbn'\u001b[0m: \u001b[32m'0954452933'\u001b[0m,\n",
       "        \u001b[32m'title'\u001b[0m: \u001b[32m'Sustainable Energy - without the hot air'\u001b[0m,\n",
       "        \u001b[32m'year'\u001b[0m: \u001b[1;36m2009\u001b[0m\n",
       "    \u001b[1m}\u001b[0m\n",
       "\u001b[1m]\u001b[0m\n"
      ]
     },
     "metadata": {},
     "output_type": "display_data"
    }
   ],
   "source": [
    "q_str = \"title:energy AND author:david\"\n",
    "q = qparser.MultifieldParser(fieldnames=[\"title\", \"author\"], schema=schema).parse(q_str)\n",
    "search(q)"
   ]
  },
  {
   "cell_type": "markdown",
   "metadata": {
    "collapsed": false,
    "jupyter": {
     "outputs_hidden": false
    }
   },
   "source": [
    "### 使用括号来对 AND, OR, NOT 进行排列组合.\n",
    "\n",
    "对逻辑与或非进行排列组合是很常见的操作, 在 whoosh 中我们可以用括号来实现. 例如下面这个例子中, ``(title:notavailable AND author:xyz)`` 第一个括号中的条件是无法 match 任何文档的, 但是由于 ``OR`` 后面的 ``(title:energy)`` 的存在, 所以最终还是能 match 出结果."
   ]
  },
  {
   "cell_type": "code",
   "execution_count": 15,
   "metadata": {
    "ExecuteTime": {
     "end_time": "2023-09-24T21:24:30.724016Z",
     "start_time": "2023-09-24T21:24:30.679964Z"
    },
    "collapsed": false,
    "jupyter": {
     "outputs_hidden": false
    }
   },
   "outputs": [
    {
     "data": {
      "text/html": [
       "<pre style=\"white-space:pre;overflow-x:auto;line-height:normal;font-family:Menlo,'DejaVu Sans Mono',consolas,'Courier New',monospace\"><span style=\"color: #00ff00; text-decoration-color: #00ff00\">====================================================== </span>Query<span style=\"color: #00ff00; text-decoration-color: #00ff00\"> ======================================================</span>\n",
       "</pre>\n"
      ],
      "text/plain": [
       "\u001b[92m====================================================== \u001b[0mQuery\u001b[92m ======================================================\u001b[0m\n"
      ]
     },
     "metadata": {},
     "output_type": "display_data"
    },
    {
     "data": {
      "text/html": [
       "<pre style=\"white-space:pre;overflow-x:auto;line-height:normal;font-family:Menlo,'DejaVu Sans Mono',consolas,'Courier New',monospace\"><span style=\"color: #00ff00; text-decoration-color: #00ff00\">--------------------------------------------- </span>equivalent query string<span style=\"color: #00ff00; text-decoration-color: #00ff00\"> ---------------------------------------------</span>\n",
       "</pre>\n"
      ],
      "text/plain": [
       "\u001b[92m--------------------------------------------- \u001b[0mequivalent query string\u001b[92m ---------------------------------------------\u001b[0m\n"
      ]
     },
     "metadata": {},
     "output_type": "display_data"
    },
    {
     "name": "stdout",
     "output_type": "stream",
     "text": [
      "((title:notavailable AND author:xyz) OR title:energy)\n"
     ]
    },
    {
     "data": {
      "text/html": [
       "<pre style=\"white-space:pre;overflow-x:auto;line-height:normal;font-family:Menlo,'DejaVu Sans Mono',consolas,'Courier New',monospace\"><span style=\"color: #00ff00; text-decoration-color: #00ff00\">--------------------------------------------- </span>equivalent query object<span style=\"color: #00ff00; text-decoration-color: #00ff00\"> ---------------------------------------------</span>\n",
       "</pre>\n"
      ],
      "text/plain": [
       "\u001b[92m--------------------------------------------- \u001b[0mequivalent query object\u001b[92m ---------------------------------------------\u001b[0m\n"
      ]
     },
     "metadata": {},
     "output_type": "display_data"
    },
    {
     "data": {
      "text/html": [
       "<pre style=\"white-space:pre;overflow-x:auto;line-height:normal;font-family:Menlo,'DejaVu Sans Mono',consolas,'Courier New',monospace\"><span style=\"color: #800080; text-decoration-color: #800080; font-weight: bold\">Or</span><span style=\"font-weight: bold\">([</span><span style=\"color: #800080; text-decoration-color: #800080; font-weight: bold\">And</span><span style=\"font-weight: bold\">([</span><span style=\"color: #800080; text-decoration-color: #800080; font-weight: bold\">Term</span><span style=\"font-weight: bold\">(</span><span style=\"color: #008000; text-decoration-color: #008000\">'title'</span>, <span style=\"color: #008000; text-decoration-color: #008000\">'notavailable'</span><span style=\"font-weight: bold\">)</span>, <span style=\"color: #800080; text-decoration-color: #800080; font-weight: bold\">Term</span><span style=\"font-weight: bold\">(</span><span style=\"color: #008000; text-decoration-color: #008000\">'author'</span>, <span style=\"color: #008000; text-decoration-color: #008000\">'xyz'</span><span style=\"font-weight: bold\">)])</span>, <span style=\"color: #800080; text-decoration-color: #800080; font-weight: bold\">Term</span><span style=\"font-weight: bold\">(</span><span style=\"color: #008000; text-decoration-color: #008000\">'title'</span>, <span style=\"color: #008000; text-decoration-color: #008000\">'energy'</span><span style=\"font-weight: bold\">)])</span>\n",
       "</pre>\n"
      ],
      "text/plain": [
       "\u001b[1;35mOr\u001b[0m\u001b[1m(\u001b[0m\u001b[1m[\u001b[0m\u001b[1;35mAnd\u001b[0m\u001b[1m(\u001b[0m\u001b[1m[\u001b[0m\u001b[1;35mTerm\u001b[0m\u001b[1m(\u001b[0m\u001b[32m'title'\u001b[0m, \u001b[32m'notavailable'\u001b[0m\u001b[1m)\u001b[0m, \u001b[1;35mTerm\u001b[0m\u001b[1m(\u001b[0m\u001b[32m'author'\u001b[0m, \u001b[32m'xyz'\u001b[0m\u001b[1m)\u001b[0m\u001b[1m]\u001b[0m\u001b[1m)\u001b[0m, \u001b[1;35mTerm\u001b[0m\u001b[1m(\u001b[0m\u001b[32m'title'\u001b[0m, \u001b[32m'energy'\u001b[0m\u001b[1m)\u001b[0m\u001b[1m]\u001b[0m\u001b[1m)\u001b[0m\n"
      ]
     },
     "metadata": {},
     "output_type": "display_data"
    },
    {
     "data": {
      "text/html": [
       "<pre style=\"white-space:pre;overflow-x:auto;line-height:normal;font-family:Menlo,'DejaVu Sans Mono',consolas,'Courier New',monospace\"><span style=\"color: #00ff00; text-decoration-color: #00ff00\">===================================================== </span>Result<span style=\"color: #00ff00; text-decoration-color: #00ff00\"> ======================================================</span>\n",
       "</pre>\n"
      ],
      "text/plain": [
       "\u001b[92m===================================================== \u001b[0mResult\u001b[92m ======================================================\u001b[0m\n"
      ]
     },
     "metadata": {},
     "output_type": "display_data"
    },
    {
     "data": {
      "text/html": [
       "<pre style=\"white-space:pre;overflow-x:auto;line-height:normal;font-family:Menlo,'DejaVu Sans Mono',consolas,'Courier New',monospace\"><span style=\"font-weight: bold\">[</span>\n",
       "    <span style=\"font-weight: bold\">{</span>\n",
       "        <span style=\"color: #008000; text-decoration-color: #008000\">'author'</span>: <span style=\"color: #008000; text-decoration-color: #008000\">'MacKay, David JC'</span>,\n",
       "        <span style=\"color: #008000; text-decoration-color: #008000\">'isbn'</span>: <span style=\"color: #008000; text-decoration-color: #008000\">'0954452933'</span>,\n",
       "        <span style=\"color: #008000; text-decoration-color: #008000\">'title'</span>: <span style=\"color: #008000; text-decoration-color: #008000\">'Sustainable Energy - without the hot air'</span>,\n",
       "        <span style=\"color: #008000; text-decoration-color: #008000\">'year'</span>: <span style=\"color: #008080; text-decoration-color: #008080; font-weight: bold\">2009</span>\n",
       "    <span style=\"font-weight: bold\">}</span>\n",
       "<span style=\"font-weight: bold\">]</span>\n",
       "</pre>\n"
      ],
      "text/plain": [
       "\u001b[1m[\u001b[0m\n",
       "    \u001b[1m{\u001b[0m\n",
       "        \u001b[32m'author'\u001b[0m: \u001b[32m'MacKay, David JC'\u001b[0m,\n",
       "        \u001b[32m'isbn'\u001b[0m: \u001b[32m'0954452933'\u001b[0m,\n",
       "        \u001b[32m'title'\u001b[0m: \u001b[32m'Sustainable Energy - without the hot air'\u001b[0m,\n",
       "        \u001b[32m'year'\u001b[0m: \u001b[1;36m2009\u001b[0m\n",
       "    \u001b[1m}\u001b[0m\n",
       "\u001b[1m]\u001b[0m\n"
      ]
     },
     "metadata": {},
     "output_type": "display_data"
    }
   ],
   "source": [
    "q_str = \"(title:notavailable AND author:xyz) OR (title:energy)\"\n",
    "q = qparser.MultifieldParser(fieldnames=[\"title\", \"author\"], schema=schema).parse(q_str)\n",
    "search(q)"
   ]
  },
  {
   "cell_type": "markdown",
   "metadata": {
    "collapsed": false,
    "jupyter": {
     "outputs_hidden": false
    }
   },
   "source": [
    "### 使用 Range Query\n",
    "\n",
    "根据大小区间进行搜索是很常见的需求. 在 whoosh 中的语法是 ``[lowerbound TO upperbound]``, 如果只有大于则是 ``[lowerbound TO]``, 如果只有小于则是 ``[TO upperbound]``. 例如下面这个例子, 我们搜索 ``year`` 大于 2000 的文档.\n"
   ]
  },
  {
   "cell_type": "code",
   "execution_count": 16,
   "metadata": {
    "ExecuteTime": {
     "end_time": "2023-09-24T21:24:30.759383Z",
     "start_time": "2023-09-24T21:24:30.725451Z"
    },
    "collapsed": false,
    "jupyter": {
     "outputs_hidden": false
    }
   },
   "outputs": [
    {
     "data": {
      "text/html": [
       "<pre style=\"white-space:pre;overflow-x:auto;line-height:normal;font-family:Menlo,'DejaVu Sans Mono',consolas,'Courier New',monospace\"><span style=\"color: #00ff00; text-decoration-color: #00ff00\">====================================================== </span>Query<span style=\"color: #00ff00; text-decoration-color: #00ff00\"> ======================================================</span>\n",
       "</pre>\n"
      ],
      "text/plain": [
       "\u001b[92m====================================================== \u001b[0mQuery\u001b[92m ======================================================\u001b[0m\n"
      ]
     },
     "metadata": {},
     "output_type": "display_data"
    },
    {
     "data": {
      "text/html": [
       "<pre style=\"white-space:pre;overflow-x:auto;line-height:normal;font-family:Menlo,'DejaVu Sans Mono',consolas,'Courier New',monospace\"><span style=\"color: #00ff00; text-decoration-color: #00ff00\">--------------------------------------------- </span>equivalent query string<span style=\"color: #00ff00; text-decoration-color: #00ff00\"> ---------------------------------------------</span>\n",
       "</pre>\n"
      ],
      "text/plain": [
       "\u001b[92m--------------------------------------------- \u001b[0mequivalent query string\u001b[92m ---------------------------------------------\u001b[0m\n"
      ]
     },
     "metadata": {},
     "output_type": "display_data"
    },
    {
     "name": "stdout",
     "output_type": "stream",
     "text": [
      "year:[2000 TO ]\n"
     ]
    },
    {
     "data": {
      "text/html": [
       "<pre style=\"white-space:pre;overflow-x:auto;line-height:normal;font-family:Menlo,'DejaVu Sans Mono',consolas,'Courier New',monospace\"><span style=\"color: #00ff00; text-decoration-color: #00ff00\">--------------------------------------------- </span>equivalent query object<span style=\"color: #00ff00; text-decoration-color: #00ff00\"> ---------------------------------------------</span>\n",
       "</pre>\n"
      ],
      "text/plain": [
       "\u001b[92m--------------------------------------------- \u001b[0mequivalent query object\u001b[92m ---------------------------------------------\u001b[0m\n"
      ]
     },
     "metadata": {},
     "output_type": "display_data"
    },
    {
     "data": {
      "text/html": [
       "<pre style=\"white-space:pre;overflow-x:auto;line-height:normal;font-family:Menlo,'DejaVu Sans Mono',consolas,'Courier New',monospace\"><span style=\"color: #800080; text-decoration-color: #800080; font-weight: bold\">NumericRange</span><span style=\"font-weight: bold\">(</span><span style=\"color: #008000; text-decoration-color: #008000\">'year'</span>, <span style=\"color: #008080; text-decoration-color: #008080; font-weight: bold\">2000</span>, <span style=\"color: #800080; text-decoration-color: #800080; font-style: italic\">None</span>, <span style=\"color: #ff0000; text-decoration-color: #ff0000; font-style: italic\">False</span>, <span style=\"color: #ff0000; text-decoration-color: #ff0000; font-style: italic\">False</span>, <span style=\"color: #808000; text-decoration-color: #808000\">boost</span>=<span style=\"color: #008080; text-decoration-color: #008080; font-weight: bold\">1.0</span>, <span style=\"color: #808000; text-decoration-color: #808000\">constantscore</span>=<span style=\"color: #00ff00; text-decoration-color: #00ff00; font-style: italic\">True</span><span style=\"font-weight: bold\">)</span>\n",
       "</pre>\n"
      ],
      "text/plain": [
       "\u001b[1;35mNumericRange\u001b[0m\u001b[1m(\u001b[0m\u001b[32m'year'\u001b[0m, \u001b[1;36m2000\u001b[0m, \u001b[3;35mNone\u001b[0m, \u001b[3;91mFalse\u001b[0m, \u001b[3;91mFalse\u001b[0m, \u001b[33mboost\u001b[0m=\u001b[1;36m1\u001b[0m\u001b[1;36m.0\u001b[0m, \u001b[33mconstantscore\u001b[0m=\u001b[3;92mTrue\u001b[0m\u001b[1m)\u001b[0m\n"
      ]
     },
     "metadata": {},
     "output_type": "display_data"
    },
    {
     "data": {
      "text/html": [
       "<pre style=\"white-space:pre;overflow-x:auto;line-height:normal;font-family:Menlo,'DejaVu Sans Mono',consolas,'Courier New',monospace\"><span style=\"color: #00ff00; text-decoration-color: #00ff00\">===================================================== </span>Result<span style=\"color: #00ff00; text-decoration-color: #00ff00\"> ======================================================</span>\n",
       "</pre>\n"
      ],
      "text/plain": [
       "\u001b[92m===================================================== \u001b[0mResult\u001b[92m ======================================================\u001b[0m\n"
      ]
     },
     "metadata": {},
     "output_type": "display_data"
    },
    {
     "data": {
      "text/html": [
       "<pre style=\"white-space:pre;overflow-x:auto;line-height:normal;font-family:Menlo,'DejaVu Sans Mono',consolas,'Courier New',monospace\"><span style=\"font-weight: bold\">[</span>\n",
       "    <span style=\"font-weight: bold\">{</span>\n",
       "        <span style=\"color: #008000; text-decoration-color: #008000\">'author'</span>: <span style=\"color: #008000; text-decoration-color: #008000\">'MacKay, David JC'</span>,\n",
       "        <span style=\"color: #008000; text-decoration-color: #008000\">'isbn'</span>: <span style=\"color: #008000; text-decoration-color: #008000\">'0954452933'</span>,\n",
       "        <span style=\"color: #008000; text-decoration-color: #008000\">'title'</span>: <span style=\"color: #008000; text-decoration-color: #008000\">'Sustainable Energy - without the hot air'</span>,\n",
       "        <span style=\"color: #008000; text-decoration-color: #008000\">'year'</span>: <span style=\"color: #008080; text-decoration-color: #008080; font-weight: bold\">2009</span>\n",
       "    <span style=\"font-weight: bold\">}</span>\n",
       "<span style=\"font-weight: bold\">]</span>\n",
       "</pre>\n"
      ],
      "text/plain": [
       "\u001b[1m[\u001b[0m\n",
       "    \u001b[1m{\u001b[0m\n",
       "        \u001b[32m'author'\u001b[0m: \u001b[32m'MacKay, David JC'\u001b[0m,\n",
       "        \u001b[32m'isbn'\u001b[0m: \u001b[32m'0954452933'\u001b[0m,\n",
       "        \u001b[32m'title'\u001b[0m: \u001b[32m'Sustainable Energy - without the hot air'\u001b[0m,\n",
       "        \u001b[32m'year'\u001b[0m: \u001b[1;36m2009\u001b[0m\n",
       "    \u001b[1m}\u001b[0m\n",
       "\u001b[1m]\u001b[0m\n"
      ]
     },
     "metadata": {},
     "output_type": "display_data"
    }
   ],
   "source": [
    "q_str = \"year:[2000 TO]\"\n",
    "q = qparser.MultifieldParser(fieldnames=[\"age\"], schema=schema).parse(q_str)\n",
    "search(q)"
   ]
  },
  {
   "cell_type": "markdown",
   "metadata": {
    "collapsed": false,
    "jupyter": {
     "outputs_hidden": false
    }
   },
   "source": [
    "### 使用 ``>`` 和 ``<`` 来进行 Range Query\n",
    "\n",
    "在其他的系统中, 用 ``>`` 和 ``<`` 来进行 Range Query 是非常常见的. 在 whoosh 中, 默认是不支持的. 不过我们可以通过启用 ``GtLtPlugin`` 插件来使它支持 (是的, whoosh 还自带一个插件系统). 所有的 Parser 对象, 无论是 ``QueryParser`` 还是 ``MultifieldParser`` 都有一个 ``plugins`` 属性, 可以看到目前启用了哪些 Plugin. 下面这个例子列出了默认情况下 ``MultifieldParser`` 启用的 Plugins.\n",
    "\n",
    "举例来说:\n",
    "\n",
    "- ``MultifieldPlugin``: 使得 MultifieldParser 能够同时解析多个 field.\n",
    "- ``FieldsPlugin``: 使得我们能使用 ``${fieldname}:${query_string}`` 语法针对某个 field 进行搜索.\n",
    "- ``RangePlugin``: 使得我们能使用 ``[lowerbound TO upperbound]`` 语法进行 Range Query.\n",
    "- ``OperatorsPlugin``: 使得我们能使用 ``AND, OR, NOT`` 等逻辑运算符.\n",
    "- ``GroupPlugin``: 使得我们能用括号对逻辑运算符进行排列组合.\n",
    "\n",
    "后面的我们就不一一列举了. 有兴趣的读者可以自己去看一下 [whoosh.queryparser](https://whoosh.readthedocs.io/en/latest/api/qparser.html) 模块的文档.\n",
    "\n",
    "**一些干货**\n",
    "\n",
    "所以本质上, 无论是什么 Parser, 它的底层其实是通过启用一个个的 Plugin 使得它能支持各种各样的功能. 而这些不同的 Parser 的实现原理其实是在初始化一个 Base Parser 之后, 自动启用各种各样的 Plugin 而已. 知道了这一点, 你完全可以写出适合自己的 Parser. 推荐你阅读 ``qparser.QueryParser`` 和 ``qparser.MultifieldParser`` 的源码了解以下实现原理."
   ]
  },
  {
   "cell_type": "code",
   "execution_count": 17,
   "metadata": {
    "ExecuteTime": {
     "end_time": "2023-09-24T21:24:30.765478Z",
     "start_time": "2023-09-24T21:24:30.754655Z"
    },
    "collapsed": false,
    "jupyter": {
     "outputs_hidden": false
    }
   },
   "outputs": [
    {
     "data": {
      "text/plain": [
       "[<whoosh.qparser.plugins.WhitespacePlugin at 0x109af3340>,\n",
       " <whoosh.qparser.plugins.WhitespacePlugin at 0x109af5d30>,\n",
       " <whoosh.qparser.plugins.SingleQuotePlugin at 0x109af5730>,\n",
       " <whoosh.qparser.plugins.FieldsPlugin at 0x109af5c40>,\n",
       " <whoosh.qparser.plugins.WildcardPlugin at 0x109af5550>,\n",
       " <whoosh.qparser.plugins.PhrasePlugin at 0x109af52e0>,\n",
       " <whoosh.qparser.plugins.RangePlugin at 0x109af5b20>,\n",
       " <whoosh.qparser.plugins.GroupPlugin at 0x109af34c0>,\n",
       " <whoosh.qparser.plugins.OperatorsPlugin at 0x109af35b0>,\n",
       " <whoosh.qparser.plugins.BoostPlugin at 0x109af3a60>,\n",
       " <whoosh.qparser.plugins.EveryPlugin at 0x109af3040>,\n",
       " <whoosh.qparser.plugins.MultifieldPlugin at 0x109af38b0>]"
      ]
     },
     "execution_count": 17,
     "metadata": {},
     "output_type": "execute_result"
    }
   ],
   "source": [
    "qparser.MultifieldParser([\"year\"], schema=schema).plugins"
   ]
  },
  {
   "cell_type": "markdown",
   "metadata": {
    "collapsed": false,
    "jupyter": {
     "outputs_hidden": false
    }
   },
   "source": [
    "现在, 我们可以通过 ``qparser.MultifieldParser.add_plugin()`` 方法来添加 ``GtLtPlugin``, 于是我们就可以使用 ``>`` 和 ``<`` 来进行 Range Query 了."
   ]
  },
  {
   "cell_type": "code",
   "execution_count": 18,
   "metadata": {
    "ExecuteTime": {
     "end_time": "2023-09-24T21:24:30.803035Z",
     "start_time": "2023-09-24T21:24:30.762272Z"
    },
    "collapsed": false,
    "jupyter": {
     "outputs_hidden": false
    }
   },
   "outputs": [
    {
     "data": {
      "text/html": [
       "<pre style=\"white-space:pre;overflow-x:auto;line-height:normal;font-family:Menlo,'DejaVu Sans Mono',consolas,'Courier New',monospace\"><span style=\"color: #00ff00; text-decoration-color: #00ff00\">====================================================== </span>Query<span style=\"color: #00ff00; text-decoration-color: #00ff00\"> ======================================================</span>\n",
       "</pre>\n"
      ],
      "text/plain": [
       "\u001b[92m====================================================== \u001b[0mQuery\u001b[92m ======================================================\u001b[0m\n"
      ]
     },
     "metadata": {},
     "output_type": "display_data"
    },
    {
     "data": {
      "text/html": [
       "<pre style=\"white-space:pre;overflow-x:auto;line-height:normal;font-family:Menlo,'DejaVu Sans Mono',consolas,'Courier New',monospace\"><span style=\"color: #00ff00; text-decoration-color: #00ff00\">--------------------------------------------- </span>equivalent query string<span style=\"color: #00ff00; text-decoration-color: #00ff00\"> ---------------------------------------------</span>\n",
       "</pre>\n"
      ],
      "text/plain": [
       "\u001b[92m--------------------------------------------- \u001b[0mequivalent query string\u001b[92m ---------------------------------------------\u001b[0m\n"
      ]
     },
     "metadata": {},
     "output_type": "display_data"
    },
    {
     "name": "stdout",
     "output_type": "stream",
     "text": [
      "year:{2000 TO ]\n"
     ]
    },
    {
     "data": {
      "text/html": [
       "<pre style=\"white-space:pre;overflow-x:auto;line-height:normal;font-family:Menlo,'DejaVu Sans Mono',consolas,'Courier New',monospace\"><span style=\"color: #00ff00; text-decoration-color: #00ff00\">--------------------------------------------- </span>equivalent query object<span style=\"color: #00ff00; text-decoration-color: #00ff00\"> ---------------------------------------------</span>\n",
       "</pre>\n"
      ],
      "text/plain": [
       "\u001b[92m--------------------------------------------- \u001b[0mequivalent query object\u001b[92m ---------------------------------------------\u001b[0m\n"
      ]
     },
     "metadata": {},
     "output_type": "display_data"
    },
    {
     "data": {
      "text/html": [
       "<pre style=\"white-space:pre;overflow-x:auto;line-height:normal;font-family:Menlo,'DejaVu Sans Mono',consolas,'Courier New',monospace\"><span style=\"color: #800080; text-decoration-color: #800080; font-weight: bold\">NumericRange</span><span style=\"font-weight: bold\">(</span><span style=\"color: #008000; text-decoration-color: #008000\">'year'</span>, <span style=\"color: #008080; text-decoration-color: #008080; font-weight: bold\">2000</span>, <span style=\"color: #800080; text-decoration-color: #800080; font-style: italic\">None</span>, <span style=\"color: #00ff00; text-decoration-color: #00ff00; font-style: italic\">True</span>, <span style=\"color: #ff0000; text-decoration-color: #ff0000; font-style: italic\">False</span>, <span style=\"color: #808000; text-decoration-color: #808000\">boost</span>=<span style=\"color: #008080; text-decoration-color: #008080; font-weight: bold\">1.0</span>, <span style=\"color: #808000; text-decoration-color: #808000\">constantscore</span>=<span style=\"color: #00ff00; text-decoration-color: #00ff00; font-style: italic\">True</span><span style=\"font-weight: bold\">)</span>\n",
       "</pre>\n"
      ],
      "text/plain": [
       "\u001b[1;35mNumericRange\u001b[0m\u001b[1m(\u001b[0m\u001b[32m'year'\u001b[0m, \u001b[1;36m2000\u001b[0m, \u001b[3;35mNone\u001b[0m, \u001b[3;92mTrue\u001b[0m, \u001b[3;91mFalse\u001b[0m, \u001b[33mboost\u001b[0m=\u001b[1;36m1\u001b[0m\u001b[1;36m.0\u001b[0m, \u001b[33mconstantscore\u001b[0m=\u001b[3;92mTrue\u001b[0m\u001b[1m)\u001b[0m\n"
      ]
     },
     "metadata": {},
     "output_type": "display_data"
    },
    {
     "data": {
      "text/html": [
       "<pre style=\"white-space:pre;overflow-x:auto;line-height:normal;font-family:Menlo,'DejaVu Sans Mono',consolas,'Courier New',monospace\"><span style=\"color: #00ff00; text-decoration-color: #00ff00\">===================================================== </span>Result<span style=\"color: #00ff00; text-decoration-color: #00ff00\"> ======================================================</span>\n",
       "</pre>\n"
      ],
      "text/plain": [
       "\u001b[92m===================================================== \u001b[0mResult\u001b[92m ======================================================\u001b[0m\n"
      ]
     },
     "metadata": {},
     "output_type": "display_data"
    },
    {
     "data": {
      "text/html": [
       "<pre style=\"white-space:pre;overflow-x:auto;line-height:normal;font-family:Menlo,'DejaVu Sans Mono',consolas,'Courier New',monospace\"><span style=\"font-weight: bold\">[</span>\n",
       "    <span style=\"font-weight: bold\">{</span>\n",
       "        <span style=\"color: #008000; text-decoration-color: #008000\">'author'</span>: <span style=\"color: #008000; text-decoration-color: #008000\">'MacKay, David JC'</span>,\n",
       "        <span style=\"color: #008000; text-decoration-color: #008000\">'isbn'</span>: <span style=\"color: #008000; text-decoration-color: #008000\">'0954452933'</span>,\n",
       "        <span style=\"color: #008000; text-decoration-color: #008000\">'title'</span>: <span style=\"color: #008000; text-decoration-color: #008000\">'Sustainable Energy - without the hot air'</span>,\n",
       "        <span style=\"color: #008000; text-decoration-color: #008000\">'year'</span>: <span style=\"color: #008080; text-decoration-color: #008080; font-weight: bold\">2009</span>\n",
       "    <span style=\"font-weight: bold\">}</span>\n",
       "<span style=\"font-weight: bold\">]</span>\n",
       "</pre>\n"
      ],
      "text/plain": [
       "\u001b[1m[\u001b[0m\n",
       "    \u001b[1m{\u001b[0m\n",
       "        \u001b[32m'author'\u001b[0m: \u001b[32m'MacKay, David JC'\u001b[0m,\n",
       "        \u001b[32m'isbn'\u001b[0m: \u001b[32m'0954452933'\u001b[0m,\n",
       "        \u001b[32m'title'\u001b[0m: \u001b[32m'Sustainable Energy - without the hot air'\u001b[0m,\n",
       "        \u001b[32m'year'\u001b[0m: \u001b[1;36m2009\u001b[0m\n",
       "    \u001b[1m}\u001b[0m\n",
       "\u001b[1m]\u001b[0m\n"
      ]
     },
     "metadata": {},
     "output_type": "display_data"
    }
   ],
   "source": [
    "q_str = \"year:>2000\"\n",
    "parser = qparser.MultifieldParser([\"year\"], schema=schema)\n",
    "parser.add_plugin(qparser.GtLtPlugin())\n",
    "q = parser.parse(q_str)\n",
    "search(q)"
   ]
  },
  {
   "cell_type": "markdown",
   "metadata": {
    "collapsed": false,
    "jupyter": {
     "outputs_hidden": false
    }
   },
   "source": [
    "### 使用 Fuzzy Search 模糊搜索\n",
    "\n",
    "有时候人类的输入会有错误, 而 Fuzzy search 可以自动找到拼写相近的词, 而这个相近的意思就是 Edit Distance. 例如 Fuzzy search 所允许的 edit distance 是 1, 那么真正匹配到的词和你输入的词的字符差异应该在 1 个以内. 例如 ``energi`` 可以和 ``energy`` 匹配上. ``energ`` 也能和 ``energy`` 匹配上. 这个语法在 whoosh 中是 ``${query}~${edit_distance}``. 而且, 你需要启用 ``FuzzyTermPlugin`` 才能使用这一功能.\n",
    "\n",
    "下面这段代码没有启用 ``FuzzyTermPlugin``, 所以搜不到东西."
   ]
  },
  {
   "cell_type": "code",
   "execution_count": 23,
   "metadata": {},
   "outputs": [
    {
     "data": {
      "text/html": [
       "<pre style=\"white-space:pre;overflow-x:auto;line-height:normal;font-family:Menlo,'DejaVu Sans Mono',consolas,'Courier New',monospace\"><span style=\"color: #00ff00; text-decoration-color: #00ff00\">====================================================== </span>Query<span style=\"color: #00ff00; text-decoration-color: #00ff00\"> ======================================================</span>\n",
       "</pre>\n"
      ],
      "text/plain": [
       "\u001b[92m====================================================== \u001b[0mQuery\u001b[92m ======================================================\u001b[0m\n"
      ]
     },
     "metadata": {},
     "output_type": "display_data"
    },
    {
     "data": {
      "text/html": [
       "<pre style=\"white-space:pre;overflow-x:auto;line-height:normal;font-family:Menlo,'DejaVu Sans Mono',consolas,'Courier New',monospace\"><span style=\"color: #00ff00; text-decoration-color: #00ff00\">--------------------------------------------- </span>equivalent query string<span style=\"color: #00ff00; text-decoration-color: #00ff00\"> ---------------------------------------------</span>\n",
       "</pre>\n"
      ],
      "text/plain": [
       "\u001b[92m--------------------------------------------- \u001b[0mequivalent query string\u001b[92m ---------------------------------------------\u001b[0m\n"
      ]
     },
     "metadata": {},
     "output_type": "display_data"
    },
    {
     "name": "stdout",
     "output_type": "stream",
     "text": [
      "title:energi\n"
     ]
    },
    {
     "data": {
      "text/html": [
       "<pre style=\"white-space:pre;overflow-x:auto;line-height:normal;font-family:Menlo,'DejaVu Sans Mono',consolas,'Courier New',monospace\"><span style=\"color: #00ff00; text-decoration-color: #00ff00\">--------------------------------------------- </span>equivalent query object<span style=\"color: #00ff00; text-decoration-color: #00ff00\"> ---------------------------------------------</span>\n",
       "</pre>\n"
      ],
      "text/plain": [
       "\u001b[92m--------------------------------------------- \u001b[0mequivalent query object\u001b[92m ---------------------------------------------\u001b[0m\n"
      ]
     },
     "metadata": {},
     "output_type": "display_data"
    },
    {
     "data": {
      "text/html": [
       "<pre style=\"white-space:pre;overflow-x:auto;line-height:normal;font-family:Menlo,'DejaVu Sans Mono',consolas,'Courier New',monospace\"><span style=\"color: #800080; text-decoration-color: #800080; font-weight: bold\">Term</span><span style=\"font-weight: bold\">(</span><span style=\"color: #008000; text-decoration-color: #008000\">'title'</span>, <span style=\"color: #008000; text-decoration-color: #008000\">'energi'</span><span style=\"font-weight: bold\">)</span>\n",
       "</pre>\n"
      ],
      "text/plain": [
       "\u001b[1;35mTerm\u001b[0m\u001b[1m(\u001b[0m\u001b[32m'title'\u001b[0m, \u001b[32m'energi'\u001b[0m\u001b[1m)\u001b[0m\n"
      ]
     },
     "metadata": {},
     "output_type": "display_data"
    },
    {
     "data": {
      "text/html": [
       "<pre style=\"white-space:pre;overflow-x:auto;line-height:normal;font-family:Menlo,'DejaVu Sans Mono',consolas,'Courier New',monospace\"><span style=\"color: #00ff00; text-decoration-color: #00ff00\">===================================================== </span>Result<span style=\"color: #00ff00; text-decoration-color: #00ff00\"> ======================================================</span>\n",
       "</pre>\n"
      ],
      "text/plain": [
       "\u001b[92m===================================================== \u001b[0mResult\u001b[92m ======================================================\u001b[0m\n"
      ]
     },
     "metadata": {},
     "output_type": "display_data"
    },
    {
     "data": {
      "text/html": [
       "<pre style=\"white-space:pre;overflow-x:auto;line-height:normal;font-family:Menlo,'DejaVu Sans Mono',consolas,'Courier New',monospace\"><span style=\"font-weight: bold\">[]</span>\n",
       "</pre>\n"
      ],
      "text/plain": [
       "\u001b[1m[\u001b[0m\u001b[1m]\u001b[0m\n"
      ]
     },
     "metadata": {},
     "output_type": "display_data"
    }
   ],
   "source": [
    "q_str = \"energi~1\"\n",
    "q = qparser.MultifieldParser([\"title\"], schema=schema).parse(q_str)\n",
    "search(q)"
   ]
  },
  {
   "cell_type": "markdown",
   "metadata": {},
   "source": [
    "下面这个例子启用了 Plugin, 并且使用了 Edit Distance = 1, 所以能搜索到."
   ]
  },
  {
   "cell_type": "code",
   "execution_count": 19,
   "metadata": {
    "ExecuteTime": {
     "end_time": "2023-09-24T21:24:38.117743Z",
     "start_time": "2023-09-24T21:24:38.088386Z"
    },
    "collapsed": false,
    "jupyter": {
     "outputs_hidden": false
    }
   },
   "outputs": [
    {
     "data": {
      "text/html": [
       "<pre style=\"white-space:pre;overflow-x:auto;line-height:normal;font-family:Menlo,'DejaVu Sans Mono',consolas,'Courier New',monospace\"><span style=\"color: #00ff00; text-decoration-color: #00ff00\">====================================================== </span>Query<span style=\"color: #00ff00; text-decoration-color: #00ff00\"> ======================================================</span>\n",
       "</pre>\n"
      ],
      "text/plain": [
       "\u001b[92m====================================================== \u001b[0mQuery\u001b[92m ======================================================\u001b[0m\n"
      ]
     },
     "metadata": {},
     "output_type": "display_data"
    },
    {
     "data": {
      "text/html": [
       "<pre style=\"white-space:pre;overflow-x:auto;line-height:normal;font-family:Menlo,'DejaVu Sans Mono',consolas,'Courier New',monospace\"><span style=\"color: #00ff00; text-decoration-color: #00ff00\">--------------------------------------------- </span>equivalent query string<span style=\"color: #00ff00; text-decoration-color: #00ff00\"> ---------------------------------------------</span>\n",
       "</pre>\n"
      ],
      "text/plain": [
       "\u001b[92m--------------------------------------------- \u001b[0mequivalent query string\u001b[92m ---------------------------------------------\u001b[0m\n"
      ]
     },
     "metadata": {},
     "output_type": "display_data"
    },
    {
     "name": "stdout",
     "output_type": "stream",
     "text": [
      "title:energi~\n"
     ]
    },
    {
     "data": {
      "text/html": [
       "<pre style=\"white-space:pre;overflow-x:auto;line-height:normal;font-family:Menlo,'DejaVu Sans Mono',consolas,'Courier New',monospace\"><span style=\"color: #00ff00; text-decoration-color: #00ff00\">--------------------------------------------- </span>equivalent query object<span style=\"color: #00ff00; text-decoration-color: #00ff00\"> ---------------------------------------------</span>\n",
       "</pre>\n"
      ],
      "text/plain": [
       "\u001b[92m--------------------------------------------- \u001b[0mequivalent query object\u001b[92m ---------------------------------------------\u001b[0m\n"
      ]
     },
     "metadata": {},
     "output_type": "display_data"
    },
    {
     "data": {
      "text/html": [
       "<pre style=\"white-space:pre;overflow-x:auto;line-height:normal;font-family:Menlo,'DejaVu Sans Mono',consolas,'Courier New',monospace\"><span style=\"color: #800080; text-decoration-color: #800080; font-weight: bold\">FuzzyTerm</span><span style=\"font-weight: bold\">(</span><span style=\"color: #008000; text-decoration-color: #008000\">'title'</span>, <span style=\"color: #008000; text-decoration-color: #008000\">'energi'</span>, <span style=\"color: #808000; text-decoration-color: #808000\">boost</span>=<span style=\"color: #008080; text-decoration-color: #008080; font-weight: bold\">1.000000</span>, <span style=\"color: #808000; text-decoration-color: #808000\">maxdist</span>=<span style=\"color: #008080; text-decoration-color: #008080; font-weight: bold\">1</span>, <span style=\"color: #808000; text-decoration-color: #808000\">prefixlength</span>=<span style=\"color: #008080; text-decoration-color: #008080; font-weight: bold\">0</span><span style=\"font-weight: bold\">)</span>\n",
       "</pre>\n"
      ],
      "text/plain": [
       "\u001b[1;35mFuzzyTerm\u001b[0m\u001b[1m(\u001b[0m\u001b[32m'title'\u001b[0m, \u001b[32m'energi'\u001b[0m, \u001b[33mboost\u001b[0m=\u001b[1;36m1\u001b[0m\u001b[1;36m.000000\u001b[0m, \u001b[33mmaxdist\u001b[0m=\u001b[1;36m1\u001b[0m, \u001b[33mprefixlength\u001b[0m=\u001b[1;36m0\u001b[0m\u001b[1m)\u001b[0m\n"
      ]
     },
     "metadata": {},
     "output_type": "display_data"
    },
    {
     "data": {
      "text/html": [
       "<pre style=\"white-space:pre;overflow-x:auto;line-height:normal;font-family:Menlo,'DejaVu Sans Mono',consolas,'Courier New',monospace\"><span style=\"color: #00ff00; text-decoration-color: #00ff00\">===================================================== </span>Result<span style=\"color: #00ff00; text-decoration-color: #00ff00\"> ======================================================</span>\n",
       "</pre>\n"
      ],
      "text/plain": [
       "\u001b[92m===================================================== \u001b[0mResult\u001b[92m ======================================================\u001b[0m\n"
      ]
     },
     "metadata": {},
     "output_type": "display_data"
    },
    {
     "data": {
      "text/html": [
       "<pre style=\"white-space:pre;overflow-x:auto;line-height:normal;font-family:Menlo,'DejaVu Sans Mono',consolas,'Courier New',monospace\"><span style=\"font-weight: bold\">[</span>\n",
       "    <span style=\"font-weight: bold\">{</span>\n",
       "        <span style=\"color: #008000; text-decoration-color: #008000\">'author'</span>: <span style=\"color: #008000; text-decoration-color: #008000\">'MacKay, David JC'</span>,\n",
       "        <span style=\"color: #008000; text-decoration-color: #008000\">'isbn'</span>: <span style=\"color: #008000; text-decoration-color: #008000\">'0954452933'</span>,\n",
       "        <span style=\"color: #008000; text-decoration-color: #008000\">'title'</span>: <span style=\"color: #008000; text-decoration-color: #008000\">'Sustainable Energy - without the hot air'</span>,\n",
       "        <span style=\"color: #008000; text-decoration-color: #008000\">'year'</span>: <span style=\"color: #008080; text-decoration-color: #008080; font-weight: bold\">2009</span>\n",
       "    <span style=\"font-weight: bold\">}</span>\n",
       "<span style=\"font-weight: bold\">]</span>\n",
       "</pre>\n"
      ],
      "text/plain": [
       "\u001b[1m[\u001b[0m\n",
       "    \u001b[1m{\u001b[0m\n",
       "        \u001b[32m'author'\u001b[0m: \u001b[32m'MacKay, David JC'\u001b[0m,\n",
       "        \u001b[32m'isbn'\u001b[0m: \u001b[32m'0954452933'\u001b[0m,\n",
       "        \u001b[32m'title'\u001b[0m: \u001b[32m'Sustainable Energy - without the hot air'\u001b[0m,\n",
       "        \u001b[32m'year'\u001b[0m: \u001b[1;36m2009\u001b[0m\n",
       "    \u001b[1m}\u001b[0m\n",
       "\u001b[1m]\u001b[0m\n"
      ]
     },
     "metadata": {},
     "output_type": "display_data"
    }
   ],
   "source": [
    "q_str = \"energi~1\"\n",
    "parser = qparser.MultifieldParser([\"title\"], schema=schema)\n",
    "parser.add_plugin(qparser.FuzzyTermPlugin())\n",
    "q = parser.parse(q_str)\n",
    "search(q)"
   ]
  },
  {
   "cell_type": "markdown",
   "metadata": {},
   "source": [
    "下面这个例子中的 edit distance 只有 1, 但是 ener 和 energy 的差异有 2, 所以搜不到."
   ]
  },
  {
   "cell_type": "code",
   "execution_count": 21,
   "metadata": {
    "ExecuteTime": {
     "end_time": "2023-09-24T21:24:41.630554Z",
     "start_time": "2023-09-24T21:24:41.587019Z"
    },
    "collapsed": false,
    "jupyter": {
     "outputs_hidden": false
    }
   },
   "outputs": [
    {
     "data": {
      "text/html": [
       "<pre style=\"white-space:pre;overflow-x:auto;line-height:normal;font-family:Menlo,'DejaVu Sans Mono',consolas,'Courier New',monospace\"><span style=\"color: #00ff00; text-decoration-color: #00ff00\">====================================================== </span>Query<span style=\"color: #00ff00; text-decoration-color: #00ff00\"> ======================================================</span>\n",
       "</pre>\n"
      ],
      "text/plain": [
       "\u001b[92m====================================================== \u001b[0mQuery\u001b[92m ======================================================\u001b[0m\n"
      ]
     },
     "metadata": {},
     "output_type": "display_data"
    },
    {
     "data": {
      "text/html": [
       "<pre style=\"white-space:pre;overflow-x:auto;line-height:normal;font-family:Menlo,'DejaVu Sans Mono',consolas,'Courier New',monospace\"><span style=\"color: #00ff00; text-decoration-color: #00ff00\">--------------------------------------------- </span>equivalent query string<span style=\"color: #00ff00; text-decoration-color: #00ff00\"> ---------------------------------------------</span>\n",
       "</pre>\n"
      ],
      "text/plain": [
       "\u001b[92m--------------------------------------------- \u001b[0mequivalent query string\u001b[92m ---------------------------------------------\u001b[0m\n"
      ]
     },
     "metadata": {},
     "output_type": "display_data"
    },
    {
     "name": "stdout",
     "output_type": "stream",
     "text": [
      "title:ener~\n"
     ]
    },
    {
     "data": {
      "text/html": [
       "<pre style=\"white-space:pre;overflow-x:auto;line-height:normal;font-family:Menlo,'DejaVu Sans Mono',consolas,'Courier New',monospace\"><span style=\"color: #00ff00; text-decoration-color: #00ff00\">--------------------------------------------- </span>equivalent query object<span style=\"color: #00ff00; text-decoration-color: #00ff00\"> ---------------------------------------------</span>\n",
       "</pre>\n"
      ],
      "text/plain": [
       "\u001b[92m--------------------------------------------- \u001b[0mequivalent query object\u001b[92m ---------------------------------------------\u001b[0m\n"
      ]
     },
     "metadata": {},
     "output_type": "display_data"
    },
    {
     "data": {
      "text/html": [
       "<pre style=\"white-space:pre;overflow-x:auto;line-height:normal;font-family:Menlo,'DejaVu Sans Mono',consolas,'Courier New',monospace\"><span style=\"color: #800080; text-decoration-color: #800080; font-weight: bold\">FuzzyTerm</span><span style=\"font-weight: bold\">(</span><span style=\"color: #008000; text-decoration-color: #008000\">'title'</span>, <span style=\"color: #008000; text-decoration-color: #008000\">'ener'</span>, <span style=\"color: #808000; text-decoration-color: #808000\">boost</span>=<span style=\"color: #008080; text-decoration-color: #008080; font-weight: bold\">1.000000</span>, <span style=\"color: #808000; text-decoration-color: #808000\">maxdist</span>=<span style=\"color: #008080; text-decoration-color: #008080; font-weight: bold\">1</span>, <span style=\"color: #808000; text-decoration-color: #808000\">prefixlength</span>=<span style=\"color: #008080; text-decoration-color: #008080; font-weight: bold\">0</span><span style=\"font-weight: bold\">)</span>\n",
       "</pre>\n"
      ],
      "text/plain": [
       "\u001b[1;35mFuzzyTerm\u001b[0m\u001b[1m(\u001b[0m\u001b[32m'title'\u001b[0m, \u001b[32m'ener'\u001b[0m, \u001b[33mboost\u001b[0m=\u001b[1;36m1\u001b[0m\u001b[1;36m.000000\u001b[0m, \u001b[33mmaxdist\u001b[0m=\u001b[1;36m1\u001b[0m, \u001b[33mprefixlength\u001b[0m=\u001b[1;36m0\u001b[0m\u001b[1m)\u001b[0m\n"
      ]
     },
     "metadata": {},
     "output_type": "display_data"
    },
    {
     "data": {
      "text/html": [
       "<pre style=\"white-space:pre;overflow-x:auto;line-height:normal;font-family:Menlo,'DejaVu Sans Mono',consolas,'Courier New',monospace\"><span style=\"color: #00ff00; text-decoration-color: #00ff00\">===================================================== </span>Result<span style=\"color: #00ff00; text-decoration-color: #00ff00\"> ======================================================</span>\n",
       "</pre>\n"
      ],
      "text/plain": [
       "\u001b[92m===================================================== \u001b[0mResult\u001b[92m ======================================================\u001b[0m\n"
      ]
     },
     "metadata": {},
     "output_type": "display_data"
    },
    {
     "data": {
      "text/html": [
       "<pre style=\"white-space:pre;overflow-x:auto;line-height:normal;font-family:Menlo,'DejaVu Sans Mono',consolas,'Courier New',monospace\"><span style=\"font-weight: bold\">[]</span>\n",
       "</pre>\n"
      ],
      "text/plain": [
       "\u001b[1m[\u001b[0m\u001b[1m]\u001b[0m\n"
      ]
     },
     "metadata": {},
     "output_type": "display_data"
    }
   ],
   "source": [
    "q_str = \"ener~1\"\n",
    "parser = qparser.MultifieldParser([\"title\"], schema=schema)\n",
    "parser.add_plugin(qparser.FuzzyTermPlugin())\n",
    "q = parser.parse(q_str)\n",
    "search(q)"
   ]
  },
  {
   "cell_type": "markdown",
   "metadata": {},
   "source": [
    "如果 edit distance 设为 2, 自然就能搜索到了. 注意, distance 越大, 搜索耗时就越多."
   ]
  },
  {
   "cell_type": "code",
   "execution_count": 22,
   "metadata": {
    "collapsed": false,
    "jupyter": {
     "outputs_hidden": false
    }
   },
   "outputs": [
    {
     "data": {
      "text/html": [
       "<pre style=\"white-space:pre;overflow-x:auto;line-height:normal;font-family:Menlo,'DejaVu Sans Mono',consolas,'Courier New',monospace\"><span style=\"color: #00ff00; text-decoration-color: #00ff00\">====================================================== </span>Query<span style=\"color: #00ff00; text-decoration-color: #00ff00\"> ======================================================</span>\n",
       "</pre>\n"
      ],
      "text/plain": [
       "\u001b[92m====================================================== \u001b[0mQuery\u001b[92m ======================================================\u001b[0m\n"
      ]
     },
     "metadata": {},
     "output_type": "display_data"
    },
    {
     "data": {
      "text/html": [
       "<pre style=\"white-space:pre;overflow-x:auto;line-height:normal;font-family:Menlo,'DejaVu Sans Mono',consolas,'Courier New',monospace\"><span style=\"color: #00ff00; text-decoration-color: #00ff00\">--------------------------------------------- </span>equivalent query string<span style=\"color: #00ff00; text-decoration-color: #00ff00\"> ---------------------------------------------</span>\n",
       "</pre>\n"
      ],
      "text/plain": [
       "\u001b[92m--------------------------------------------- \u001b[0mequivalent query string\u001b[92m ---------------------------------------------\u001b[0m\n"
      ]
     },
     "metadata": {},
     "output_type": "display_data"
    },
    {
     "name": "stdout",
     "output_type": "stream",
     "text": [
      "title:ener~2\n"
     ]
    },
    {
     "data": {
      "text/html": [
       "<pre style=\"white-space:pre;overflow-x:auto;line-height:normal;font-family:Menlo,'DejaVu Sans Mono',consolas,'Courier New',monospace\"><span style=\"color: #00ff00; text-decoration-color: #00ff00\">--------------------------------------------- </span>equivalent query object<span style=\"color: #00ff00; text-decoration-color: #00ff00\"> ---------------------------------------------</span>\n",
       "</pre>\n"
      ],
      "text/plain": [
       "\u001b[92m--------------------------------------------- \u001b[0mequivalent query object\u001b[92m ---------------------------------------------\u001b[0m\n"
      ]
     },
     "metadata": {},
     "output_type": "display_data"
    },
    {
     "data": {
      "text/html": [
       "<pre style=\"white-space:pre;overflow-x:auto;line-height:normal;font-family:Menlo,'DejaVu Sans Mono',consolas,'Courier New',monospace\"><span style=\"color: #800080; text-decoration-color: #800080; font-weight: bold\">FuzzyTerm</span><span style=\"font-weight: bold\">(</span><span style=\"color: #008000; text-decoration-color: #008000\">'title'</span>, <span style=\"color: #008000; text-decoration-color: #008000\">'ener'</span>, <span style=\"color: #808000; text-decoration-color: #808000\">boost</span>=<span style=\"color: #008080; text-decoration-color: #008080; font-weight: bold\">1.000000</span>, <span style=\"color: #808000; text-decoration-color: #808000\">maxdist</span>=<span style=\"color: #008080; text-decoration-color: #008080; font-weight: bold\">2</span>, <span style=\"color: #808000; text-decoration-color: #808000\">prefixlength</span>=<span style=\"color: #008080; text-decoration-color: #008080; font-weight: bold\">0</span><span style=\"font-weight: bold\">)</span>\n",
       "</pre>\n"
      ],
      "text/plain": [
       "\u001b[1;35mFuzzyTerm\u001b[0m\u001b[1m(\u001b[0m\u001b[32m'title'\u001b[0m, \u001b[32m'ener'\u001b[0m, \u001b[33mboost\u001b[0m=\u001b[1;36m1\u001b[0m\u001b[1;36m.000000\u001b[0m, \u001b[33mmaxdist\u001b[0m=\u001b[1;36m2\u001b[0m, \u001b[33mprefixlength\u001b[0m=\u001b[1;36m0\u001b[0m\u001b[1m)\u001b[0m\n"
      ]
     },
     "metadata": {},
     "output_type": "display_data"
    },
    {
     "data": {
      "text/html": [
       "<pre style=\"white-space:pre;overflow-x:auto;line-height:normal;font-family:Menlo,'DejaVu Sans Mono',consolas,'Courier New',monospace\"><span style=\"color: #00ff00; text-decoration-color: #00ff00\">===================================================== </span>Result<span style=\"color: #00ff00; text-decoration-color: #00ff00\"> ======================================================</span>\n",
       "</pre>\n"
      ],
      "text/plain": [
       "\u001b[92m===================================================== \u001b[0mResult\u001b[92m ======================================================\u001b[0m\n"
      ]
     },
     "metadata": {},
     "output_type": "display_data"
    },
    {
     "data": {
      "text/html": [
       "<pre style=\"white-space:pre;overflow-x:auto;line-height:normal;font-family:Menlo,'DejaVu Sans Mono',consolas,'Courier New',monospace\"><span style=\"font-weight: bold\">[</span>\n",
       "    <span style=\"font-weight: bold\">{</span>\n",
       "        <span style=\"color: #008000; text-decoration-color: #008000\">'author'</span>: <span style=\"color: #008000; text-decoration-color: #008000\">'MacKay, David JC'</span>,\n",
       "        <span style=\"color: #008000; text-decoration-color: #008000\">'isbn'</span>: <span style=\"color: #008000; text-decoration-color: #008000\">'0954452933'</span>,\n",
       "        <span style=\"color: #008000; text-decoration-color: #008000\">'title'</span>: <span style=\"color: #008000; text-decoration-color: #008000\">'Sustainable Energy - without the hot air'</span>,\n",
       "        <span style=\"color: #008000; text-decoration-color: #008000\">'year'</span>: <span style=\"color: #008080; text-decoration-color: #008080; font-weight: bold\">2009</span>\n",
       "    <span style=\"font-weight: bold\">}</span>\n",
       "<span style=\"font-weight: bold\">]</span>\n",
       "</pre>\n"
      ],
      "text/plain": [
       "\u001b[1m[\u001b[0m\n",
       "    \u001b[1m{\u001b[0m\n",
       "        \u001b[32m'author'\u001b[0m: \u001b[32m'MacKay, David JC'\u001b[0m,\n",
       "        \u001b[32m'isbn'\u001b[0m: \u001b[32m'0954452933'\u001b[0m,\n",
       "        \u001b[32m'title'\u001b[0m: \u001b[32m'Sustainable Energy - without the hot air'\u001b[0m,\n",
       "        \u001b[32m'year'\u001b[0m: \u001b[1;36m2009\u001b[0m\n",
       "    \u001b[1m}\u001b[0m\n",
       "\u001b[1m]\u001b[0m\n"
      ]
     },
     "metadata": {},
     "output_type": "display_data"
    }
   ],
   "source": [
    "q_str = \"ener~2\"\n",
    "parser = qparser.MultifieldParser([\"title\"], schema=schema)\n",
    "parser.add_plugin(qparser.FuzzyTermPlugin())\n",
    "q = parser.parse(q_str)\n",
    "search(q)"
   ]
  },
  {
   "cell_type": "markdown",
   "metadata": {},
   "source": [
    "Fuzzy Search 中还有 prefix 的概念. 其含义是有时候我们希望最开头的几个前缀字符必须要 match, 而所允许出错的部分必须在后面. 这时候你可以指定 prefix 的长度, 例如为 4, 那么前 4 个字符就必须 Match. 下面我们给出了两个例子, 一个成功例子, 一个失败例子."
   ]
  },
  {
   "cell_type": "code",
   "execution_count": 25,
   "metadata": {},
   "outputs": [
    {
     "data": {
      "text/html": [
       "<pre style=\"white-space:pre;overflow-x:auto;line-height:normal;font-family:Menlo,'DejaVu Sans Mono',consolas,'Courier New',monospace\"><span style=\"color: #00ff00; text-decoration-color: #00ff00\">====================================================== </span>Query<span style=\"color: #00ff00; text-decoration-color: #00ff00\"> ======================================================</span>\n",
       "</pre>\n"
      ],
      "text/plain": [
       "\u001b[92m====================================================== \u001b[0mQuery\u001b[92m ======================================================\u001b[0m\n"
      ]
     },
     "metadata": {},
     "output_type": "display_data"
    },
    {
     "data": {
      "text/html": [
       "<pre style=\"white-space:pre;overflow-x:auto;line-height:normal;font-family:Menlo,'DejaVu Sans Mono',consolas,'Courier New',monospace\"><span style=\"color: #00ff00; text-decoration-color: #00ff00\">--------------------------------------------- </span>equivalent query string<span style=\"color: #00ff00; text-decoration-color: #00ff00\"> ---------------------------------------------</span>\n",
       "</pre>\n"
      ],
      "text/plain": [
       "\u001b[92m--------------------------------------------- \u001b[0mequivalent query string\u001b[92m ---------------------------------------------\u001b[0m\n"
      ]
     },
     "metadata": {},
     "output_type": "display_data"
    },
    {
     "name": "stdout",
     "output_type": "stream",
     "text": [
      "title:energi~\n"
     ]
    },
    {
     "data": {
      "text/html": [
       "<pre style=\"white-space:pre;overflow-x:auto;line-height:normal;font-family:Menlo,'DejaVu Sans Mono',consolas,'Courier New',monospace\"><span style=\"color: #00ff00; text-decoration-color: #00ff00\">--------------------------------------------- </span>equivalent query object<span style=\"color: #00ff00; text-decoration-color: #00ff00\"> ---------------------------------------------</span>\n",
       "</pre>\n"
      ],
      "text/plain": [
       "\u001b[92m--------------------------------------------- \u001b[0mequivalent query object\u001b[92m ---------------------------------------------\u001b[0m\n"
      ]
     },
     "metadata": {},
     "output_type": "display_data"
    },
    {
     "data": {
      "text/html": [
       "<pre style=\"white-space:pre;overflow-x:auto;line-height:normal;font-family:Menlo,'DejaVu Sans Mono',consolas,'Courier New',monospace\"><span style=\"color: #800080; text-decoration-color: #800080; font-weight: bold\">FuzzyTerm</span><span style=\"font-weight: bold\">(</span><span style=\"color: #008000; text-decoration-color: #008000\">'title'</span>, <span style=\"color: #008000; text-decoration-color: #008000\">'energi'</span>, <span style=\"color: #808000; text-decoration-color: #808000\">boost</span>=<span style=\"color: #008080; text-decoration-color: #008080; font-weight: bold\">1.000000</span>, <span style=\"color: #808000; text-decoration-color: #808000\">maxdist</span>=<span style=\"color: #008080; text-decoration-color: #008080; font-weight: bold\">1</span>, <span style=\"color: #808000; text-decoration-color: #808000\">prefixlength</span>=<span style=\"color: #008080; text-decoration-color: #008080; font-weight: bold\">4</span><span style=\"font-weight: bold\">)</span>\n",
       "</pre>\n"
      ],
      "text/plain": [
       "\u001b[1;35mFuzzyTerm\u001b[0m\u001b[1m(\u001b[0m\u001b[32m'title'\u001b[0m, \u001b[32m'energi'\u001b[0m, \u001b[33mboost\u001b[0m=\u001b[1;36m1\u001b[0m\u001b[1;36m.000000\u001b[0m, \u001b[33mmaxdist\u001b[0m=\u001b[1;36m1\u001b[0m, \u001b[33mprefixlength\u001b[0m=\u001b[1;36m4\u001b[0m\u001b[1m)\u001b[0m\n"
      ]
     },
     "metadata": {},
     "output_type": "display_data"
    },
    {
     "data": {
      "text/html": [
       "<pre style=\"white-space:pre;overflow-x:auto;line-height:normal;font-family:Menlo,'DejaVu Sans Mono',consolas,'Courier New',monospace\"><span style=\"color: #00ff00; text-decoration-color: #00ff00\">===================================================== </span>Result<span style=\"color: #00ff00; text-decoration-color: #00ff00\"> ======================================================</span>\n",
       "</pre>\n"
      ],
      "text/plain": [
       "\u001b[92m===================================================== \u001b[0mResult\u001b[92m ======================================================\u001b[0m\n"
      ]
     },
     "metadata": {},
     "output_type": "display_data"
    },
    {
     "data": {
      "text/html": [
       "<pre style=\"white-space:pre;overflow-x:auto;line-height:normal;font-family:Menlo,'DejaVu Sans Mono',consolas,'Courier New',monospace\"><span style=\"font-weight: bold\">[</span>\n",
       "    <span style=\"font-weight: bold\">{</span>\n",
       "        <span style=\"color: #008000; text-decoration-color: #008000\">'author'</span>: <span style=\"color: #008000; text-decoration-color: #008000\">'MacKay, David JC'</span>,\n",
       "        <span style=\"color: #008000; text-decoration-color: #008000\">'isbn'</span>: <span style=\"color: #008000; text-decoration-color: #008000\">'0954452933'</span>,\n",
       "        <span style=\"color: #008000; text-decoration-color: #008000\">'title'</span>: <span style=\"color: #008000; text-decoration-color: #008000\">'Sustainable Energy - without the hot air'</span>,\n",
       "        <span style=\"color: #008000; text-decoration-color: #008000\">'year'</span>: <span style=\"color: #008080; text-decoration-color: #008080; font-weight: bold\">2009</span>\n",
       "    <span style=\"font-weight: bold\">}</span>\n",
       "<span style=\"font-weight: bold\">]</span>\n",
       "</pre>\n"
      ],
      "text/plain": [
       "\u001b[1m[\u001b[0m\n",
       "    \u001b[1m{\u001b[0m\n",
       "        \u001b[32m'author'\u001b[0m: \u001b[32m'MacKay, David JC'\u001b[0m,\n",
       "        \u001b[32m'isbn'\u001b[0m: \u001b[32m'0954452933'\u001b[0m,\n",
       "        \u001b[32m'title'\u001b[0m: \u001b[32m'Sustainable Energy - without the hot air'\u001b[0m,\n",
       "        \u001b[32m'year'\u001b[0m: \u001b[1;36m2009\u001b[0m\n",
       "    \u001b[1m}\u001b[0m\n",
       "\u001b[1m]\u001b[0m\n"
      ]
     },
     "metadata": {},
     "output_type": "display_data"
    }
   ],
   "source": [
    "# 成功\n",
    "q_str = \"energi~1/4\"\n",
    "parser = qparser.MultifieldParser([\"title\"], schema=schema)\n",
    "parser.add_plugin(qparser.FuzzyTermPlugin())\n",
    "q = parser.parse(q_str)\n",
    "search(q)"
   ]
  },
  {
   "cell_type": "code",
   "execution_count": 26,
   "metadata": {},
   "outputs": [
    {
     "data": {
      "text/html": [
       "<pre style=\"white-space:pre;overflow-x:auto;line-height:normal;font-family:Menlo,'DejaVu Sans Mono',consolas,'Courier New',monospace\"><span style=\"color: #00ff00; text-decoration-color: #00ff00\">====================================================== </span>Query<span style=\"color: #00ff00; text-decoration-color: #00ff00\"> ======================================================</span>\n",
       "</pre>\n"
      ],
      "text/plain": [
       "\u001b[92m====================================================== \u001b[0mQuery\u001b[92m ======================================================\u001b[0m\n"
      ]
     },
     "metadata": {},
     "output_type": "display_data"
    },
    {
     "data": {
      "text/html": [
       "<pre style=\"white-space:pre;overflow-x:auto;line-height:normal;font-family:Menlo,'DejaVu Sans Mono',consolas,'Courier New',monospace\"><span style=\"color: #00ff00; text-decoration-color: #00ff00\">--------------------------------------------- </span>equivalent query string<span style=\"color: #00ff00; text-decoration-color: #00ff00\"> ---------------------------------------------</span>\n",
       "</pre>\n"
      ],
      "text/plain": [
       "\u001b[92m--------------------------------------------- \u001b[0mequivalent query string\u001b[92m ---------------------------------------------\u001b[0m\n"
      ]
     },
     "metadata": {},
     "output_type": "display_data"
    },
    {
     "name": "stdout",
     "output_type": "stream",
     "text": [
      "title:nergy~\n"
     ]
    },
    {
     "data": {
      "text/html": [
       "<pre style=\"white-space:pre;overflow-x:auto;line-height:normal;font-family:Menlo,'DejaVu Sans Mono',consolas,'Courier New',monospace\"><span style=\"color: #00ff00; text-decoration-color: #00ff00\">--------------------------------------------- </span>equivalent query object<span style=\"color: #00ff00; text-decoration-color: #00ff00\"> ---------------------------------------------</span>\n",
       "</pre>\n"
      ],
      "text/plain": [
       "\u001b[92m--------------------------------------------- \u001b[0mequivalent query object\u001b[92m ---------------------------------------------\u001b[0m\n"
      ]
     },
     "metadata": {},
     "output_type": "display_data"
    },
    {
     "data": {
      "text/html": [
       "<pre style=\"white-space:pre;overflow-x:auto;line-height:normal;font-family:Menlo,'DejaVu Sans Mono',consolas,'Courier New',monospace\"><span style=\"color: #800080; text-decoration-color: #800080; font-weight: bold\">FuzzyTerm</span><span style=\"font-weight: bold\">(</span><span style=\"color: #008000; text-decoration-color: #008000\">'title'</span>, <span style=\"color: #008000; text-decoration-color: #008000\">'nergy'</span>, <span style=\"color: #808000; text-decoration-color: #808000\">boost</span>=<span style=\"color: #008080; text-decoration-color: #008080; font-weight: bold\">1.000000</span>, <span style=\"color: #808000; text-decoration-color: #808000\">maxdist</span>=<span style=\"color: #008080; text-decoration-color: #008080; font-weight: bold\">1</span>, <span style=\"color: #808000; text-decoration-color: #808000\">prefixlength</span>=<span style=\"color: #008080; text-decoration-color: #008080; font-weight: bold\">4</span><span style=\"font-weight: bold\">)</span>\n",
       "</pre>\n"
      ],
      "text/plain": [
       "\u001b[1;35mFuzzyTerm\u001b[0m\u001b[1m(\u001b[0m\u001b[32m'title'\u001b[0m, \u001b[32m'nergy'\u001b[0m, \u001b[33mboost\u001b[0m=\u001b[1;36m1\u001b[0m\u001b[1;36m.000000\u001b[0m, \u001b[33mmaxdist\u001b[0m=\u001b[1;36m1\u001b[0m, \u001b[33mprefixlength\u001b[0m=\u001b[1;36m4\u001b[0m\u001b[1m)\u001b[0m\n"
      ]
     },
     "metadata": {},
     "output_type": "display_data"
    },
    {
     "data": {
      "text/html": [
       "<pre style=\"white-space:pre;overflow-x:auto;line-height:normal;font-family:Menlo,'DejaVu Sans Mono',consolas,'Courier New',monospace\"><span style=\"color: #00ff00; text-decoration-color: #00ff00\">===================================================== </span>Result<span style=\"color: #00ff00; text-decoration-color: #00ff00\"> ======================================================</span>\n",
       "</pre>\n"
      ],
      "text/plain": [
       "\u001b[92m===================================================== \u001b[0mResult\u001b[92m ======================================================\u001b[0m\n"
      ]
     },
     "metadata": {},
     "output_type": "display_data"
    },
    {
     "data": {
      "text/html": [
       "<pre style=\"white-space:pre;overflow-x:auto;line-height:normal;font-family:Menlo,'DejaVu Sans Mono',consolas,'Courier New',monospace\"><span style=\"font-weight: bold\">[]</span>\n",
       "</pre>\n"
      ],
      "text/plain": [
       "\u001b[1m[\u001b[0m\u001b[1m]\u001b[0m\n"
      ]
     },
     "metadata": {},
     "output_type": "display_data"
    }
   ],
   "source": [
    "# 失败\n",
    "q_str = \"nergy~1/4\"\n",
    "parser = qparser.MultifieldParser([\"title\"], schema=schema)\n",
    "parser.add_plugin(qparser.FuzzyTermPlugin())\n",
    "q = parser.parse(q_str)\n",
    "search(q)"
   ]
  },
  {
   "cell_type": "markdown",
   "metadata": {},
   "source": [
    "### 使用 Wildcard 通配符\n",
    "\n",
    "很多人都很熟悉在 regex 正则表达式中对应的 ``*``, ``?`` 符号. whoosh 默认也支持这个功能. 其语法类似这个样子 ``te?t test* *b?g*``.\n",
    "\n",
    "Reference:\n",
    "\n",
    "- [Inexact terms](https://whoosh.readthedocs.io/en/latest/querylang.html#inexact-terms)"
   ]
  },
  {
   "cell_type": "markdown",
   "metadata": {},
   "source": [
    "### 给不同的 Term 不同的权重\n",
    "\n",
    "为了更精确的获得匹配, 你可能会想给不同的 Term 不同的权重 (注意, 这里不是给不同的 Field 不同的权重, field 的权重是在定义 Schema 的时候就定义好了的). 这个功能是默认启用的, 其语法是 ``^`` 符号, 例如 ``ninja^2 cowboy bear^0.5``.\n",
    "\n",
    "Reference:\n",
    "\n",
    "- [Boosting query elements](https://whoosh.readthedocs.io/en/latest/querylang.html#boosting-query-elements)"
   ]
  },
  {
   "cell_type": "code",
   "execution_count": null,
   "metadata": {},
   "outputs": [],
   "source": []
  }
 ],
 "metadata": {
  "kernelspec": {
   "display_name": "Python 3 (ipykernel)",
   "language": "python",
   "name": "python3"
  },
  "language_info": {
   "codemirror_mode": {
    "name": "ipython",
    "version": 3
   },
   "file_extension": ".py",
   "mimetype": "text/x-python",
   "name": "python",
   "nbconvert_exporter": "python",
   "pygments_lexer": "ipython3",
   "version": "3.8.11"
  }
 },
 "nbformat": 4,
 "nbformat_minor": 4
}

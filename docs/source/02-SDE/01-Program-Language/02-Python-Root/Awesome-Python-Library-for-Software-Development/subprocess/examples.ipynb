{
 "cells": [
  {
   "cell_type": "markdown",
   "source": [
    "# ``subprocess`` Examples"
   ],
   "metadata": {
    "collapsed": false,
    "pycharm": {
     "name": "#%% md\n"
    }
   }
  },
  {
   "cell_type": "code",
   "execution_count": 1,
   "outputs": [
    {
     "name": "stdout",
     "output_type": "stream",
     "text": [
      "python interpreter: /Users/sanhehu/venvs/python/3.8.11/dev_exp_share_venv/bin/python\n",
      "python version: sys.version_info(major=3, minor=8, micro=11, releaselevel='final', serial=0)\n",
      "current dir: /Users/sanhehu/Documents/GitHub/Dev-Exp-Share/docs/source/02-SDE/01-Program-Language/02-Python-Root/Awesome-Python-Library-for-Software-Development/subprocess\n"
     ]
    }
   ],
   "source": [
    "import os\n",
    "import sys\n",
    "import subprocess\n",
    "\n",
    "dir_here = os.getcwd()\n",
    "print(f\"python interpreter: {sys.executable}\")\n",
    "print(f\"python version: {sys.version_info}\")\n",
    "print(f\"current dir: {dir_here}\")"
   ],
   "metadata": {
    "collapsed": false,
    "pycharm": {
     "name": "#%%\n"
    }
   }
  },
  {
   "cell_type": "code",
   "execution_count": 2,
   "id": "0d9d9e9c",
   "metadata": {
    "pycharm": {
     "name": "#%%\n"
    }
   },
   "outputs": [],
   "source": [
    "def print_result(res: subprocess.CompletedProcess):\n",
    "    print(f\"type(res) = {type(res)!r}\")\n",
    "    print(f\"res = {res!r}\")\n",
    "    print(f\"res.args = {res.args!r}\")\n",
    "    print(f\"res.returncode = {res.returncode!r}\")\n",
    "    print(f\"res.stdout = {res.stdout!r}\")\n",
    "    print(f\"res.stderr = {res.stderr!r}\")"
   ]
  },
  {
   "cell_type": "markdown",
   "source": [
    "# Basic\n",
    "## Run Shell Command"
   ],
   "metadata": {
    "collapsed": false,
    "pycharm": {
     "name": "#%% md\n"
    }
   }
  },
  {
   "cell_type": "code",
   "execution_count": 8,
   "outputs": [
    {
     "name": "stdout",
     "output_type": "stream",
     "text": [
      "hello\n",
      "type(res) = <class 'subprocess.CompletedProcess'>\n",
      "res = CompletedProcess(args=['echo', 'hello'], returncode=0)\n",
      "res.args = ['echo', 'hello']\n",
      "res.returncode = 0\n",
      "res.stdout = None\n",
      "res.stderr = None\n"
     ]
    }
   ],
   "source": [
    "res = subprocess.run([\"echo\", \"hello\"])\n",
    "print_result(res)"
   ],
   "metadata": {
    "collapsed": false,
    "pycharm": {
     "name": "#%%\n"
    }
   }
  },
  {
   "cell_type": "code",
   "execution_count": 9,
   "outputs": [
    {
     "name": "stdout",
     "output_type": "stream",
     "text": [
      "hello alice\n",
      "hello bob\n",
      "type(res) = <class 'subprocess.CompletedProcess'>\n",
      "res = CompletedProcess(args=['python', 'print_something.py'], returncode=0)\n",
      "res.args = ['python', 'print_something.py']\n",
      "res.returncode = 0\n",
      "res.stdout = None\n",
      "res.stderr = None\n"
     ]
    }
   ],
   "source": [
    "res = subprocess.run([\"python\", \"print_something.py\"])\n",
    "print_result(res)"
   ],
   "metadata": {
    "collapsed": false,
    "pycharm": {
     "name": "#%%\n"
    }
   }
  },
  {
   "cell_type": "markdown",
   "source": [
    "## Handle Exit Code\n",
    "\n",
    "出现错误时, 我们一般有两种处理方式:\n",
    "\n",
    "1. 无论命令是成功还是失败, 都继续运行. 不过我们希望能获得每个命令的状态码, 自己决定如何处理这些错误.\n",
    "2. 命令失败后立刻中断 Python 脚本, 阻止继续运行."
   ],
   "metadata": {
    "collapsed": false,
    "pycharm": {
     "name": "#%% md\n"
    }
   }
  },
  {
   "cell_type": "code",
   "execution_count": 12,
   "outputs": [
    {
     "name": "stdout",
     "output_type": "stream",
     "text": [
      "type(res) = <class 'subprocess.CompletedProcess'>\n",
      "res = CompletedProcess(args=['cat', 'not-exists-file.txt'], returncode=1)\n",
      "res.args = ['cat', 'not-exists-file.txt']\n",
      "res.returncode = 1\n",
      "res.stdout = None\n",
      "res.stderr = None\n"
     ]
    },
    {
     "name": "stderr",
     "output_type": "stream",
     "text": [
      "cat: not-exists-file.txt: No such file or directory\n"
     ]
    }
   ],
   "source": [
    "# command exit non-zero code, but subprocess.run just did and return result with error message\n",
    "res = subprocess.run([\"cat\", \"not-exists-file.txt\"])\n",
    "print_result(res) # this line still run"
   ],
   "metadata": {
    "collapsed": false,
    "pycharm": {
     "name": "#%%\n"
    }
   }
  },
  {
   "cell_type": "code",
   "execution_count": 13,
   "outputs": [
    {
     "name": "stderr",
     "output_type": "stream",
     "text": [
      "cat: not-exists-file.txt: No such file or directory\n"
     ]
    },
    {
     "ename": "CalledProcessError",
     "evalue": "Command '['cat', 'not-exists-file.txt']' returned non-zero exit status 1.",
     "output_type": "error",
     "traceback": [
      "\u001B[0;31m---------------------------------------------------------------------------\u001B[0m",
      "\u001B[0;31mCalledProcessError\u001B[0m                        Traceback (most recent call last)",
      "Input \u001B[0;32mIn [13]\u001B[0m, in \u001B[0;36m<cell line: 2>\u001B[0;34m()\u001B[0m\n\u001B[1;32m      1\u001B[0m \u001B[38;5;66;03m# raise exception immediately when command exit non-zero code\u001B[39;00m\n\u001B[0;32m----> 2\u001B[0m res \u001B[38;5;241m=\u001B[39m \u001B[43msubprocess\u001B[49m\u001B[38;5;241;43m.\u001B[39;49m\u001B[43mrun\u001B[49m\u001B[43m(\u001B[49m\u001B[43m[\u001B[49m\u001B[38;5;124;43m\"\u001B[39;49m\u001B[38;5;124;43mcat\u001B[39;49m\u001B[38;5;124;43m\"\u001B[39;49m\u001B[43m,\u001B[49m\u001B[43m \u001B[49m\u001B[38;5;124;43m\"\u001B[39;49m\u001B[38;5;124;43mnot-exists-file.txt\u001B[39;49m\u001B[38;5;124;43m\"\u001B[39;49m\u001B[43m]\u001B[49m\u001B[43m,\u001B[49m\u001B[43m \u001B[49m\u001B[43mcheck\u001B[49m\u001B[38;5;241;43m=\u001B[39;49m\u001B[38;5;28;43;01mTrue\u001B[39;49;00m\u001B[43m)\u001B[49m\n\u001B[1;32m      3\u001B[0m \u001B[38;5;28mprint\u001B[39m(\u001B[38;5;124m\"\u001B[39m\u001B[38;5;124myou should never see this line\u001B[39m\u001B[38;5;124m\"\u001B[39m)\n",
      "File \u001B[0;32m~/.pyenv/versions/3.8.11/lib/python3.8/subprocess.py:516\u001B[0m, in \u001B[0;36mrun\u001B[0;34m(input, capture_output, timeout, check, *popenargs, **kwargs)\u001B[0m\n\u001B[1;32m    514\u001B[0m     retcode \u001B[38;5;241m=\u001B[39m process\u001B[38;5;241m.\u001B[39mpoll()\n\u001B[1;32m    515\u001B[0m     \u001B[38;5;28;01mif\u001B[39;00m check \u001B[38;5;129;01mand\u001B[39;00m retcode:\n\u001B[0;32m--> 516\u001B[0m         \u001B[38;5;28;01mraise\u001B[39;00m CalledProcessError(retcode, process\u001B[38;5;241m.\u001B[39margs,\n\u001B[1;32m    517\u001B[0m                                  output\u001B[38;5;241m=\u001B[39mstdout, stderr\u001B[38;5;241m=\u001B[39mstderr)\n\u001B[1;32m    518\u001B[0m \u001B[38;5;28;01mreturn\u001B[39;00m CompletedProcess(process\u001B[38;5;241m.\u001B[39margs, retcode, stdout, stderr)\n",
      "\u001B[0;31mCalledProcessError\u001B[0m: Command '['cat', 'not-exists-file.txt']' returned non-zero exit status 1."
     ]
    }
   ],
   "source": [
    "# raise exception immediately when command exit non-zero code\n",
    "res = subprocess.run([\"cat\", \"not-exists-file.txt\"], check=True)\n",
    "print(\"you should never see this line\") # this line will not run"
   ],
   "metadata": {
    "collapsed": false,
    "pycharm": {
     "name": "#%%\n"
    }
   }
  },
  {
   "cell_type": "markdown",
   "source": [
    "## Capture Console Output\n",
    "\n",
    "我们希望将 print 到 console output 的字符串捕获成一个变量, 然后对其进行处理."
   ],
   "metadata": {
    "collapsed": false,
    "pycharm": {
     "name": "#%% md\n"
    }
   }
  },
  {
   "cell_type": "code",
   "execution_count": 17,
   "outputs": [
    {
     "data": {
      "text/plain": "'hello\\n'"
     },
     "execution_count": 17,
     "metadata": {},
     "output_type": "execute_result"
    }
   ],
   "source": [
    "# capture console output (standard out)\n",
    "res = subprocess.run([\"echo\", \"hello\"], capture_output=True)\n",
    "res.stdout.decode(\"utf-8\")"
   ],
   "metadata": {
    "collapsed": false,
    "pycharm": {
     "name": "#%%\n"
    }
   }
  },
  {
   "cell_type": "code",
   "execution_count": 18,
   "outputs": [
    {
     "data": {
      "text/plain": "'hello alice\\nhello bob\\n'"
     },
     "execution_count": 18,
     "metadata": {},
     "output_type": "execute_result"
    }
   ],
   "source": [
    "res = subprocess.run([\"python\", \"print_something.py\"], capture_output=True)\n",
    "res.stdout.decode(\"utf-8\")"
   ],
   "metadata": {
    "collapsed": false,
    "pycharm": {
     "name": "#%%\n"
    }
   }
  },
  {
   "cell_type": "markdown",
   "source": [
    "## Pipe Pattern\n",
    "\n",
    "Shell Command 里经常会出现 ``|`` pipe 语法, 把前一个命令的输出作为后一个命令的输入. 在 Python 中我们同样可以实现"
   ],
   "metadata": {
    "collapsed": false,
    "pycharm": {
     "name": "#%% md\n"
    }
   }
  },
  {
   "cell_type": "code",
   "execution_count": 21,
   "outputs": [
    {
     "data": {
      "text/plain": "'2.0'"
     },
     "execution_count": 21,
     "metadata": {},
     "output_type": "execute_result"
    }
   ],
   "source": [
    "pipe = subprocess.Popen([\"cat\", \"data.json\"], stdout=subprocess.PIPE)\n",
    "res = subprocess.run([\"jq\", \".version\", \"-r\"], stdin=pipe.stdout, capture_output=True)\n",
    "res.stdout.decode(\"utf-8\").strip()"
   ],
   "metadata": {
    "collapsed": false,
    "pycharm": {
     "name": "#%%\n"
    }
   }
  },
  {
   "cell_type": "markdown",
   "source": [
    "# Advance\n",
    "\n",
    "## run vs call vs Popen\n",
    "\n",
    "- [subprocess.run](https://docs.python.org/3/library/subprocess.html#subprocess.run): 3.5 中被加入, 是最高级的 API, 也是最推荐使用的 API, 返回的是结构化的 [CompletedProcess](https://docs.python.org/3/library/subprocess.html#subprocess.CompletedProcess) 对象.\n",
    "- [subprocess.call](https://docs.python.org/3/library/subprocess.html#subprocess.call): 是 2.7 ~ 3.x+ 的 API, 是 Python2 时代的高级 API, 为了兼容性也一直存在着. 返回的是一个整数 return code.\n",
    "- [subprocess.Popen](https://docs.python.org/3/library/subprocess.html#subprocess.Popen): 是 2.7 ~ 3.x+ 的 API, 是 Python2 时代的高级 API, 为了兼容性也一直存在着. Popen 主要是创建一个管道, 然后 fork 一个子进程, 返回值在标准 IO 流中, 该管道用于父子进程通信. 父进程要么对子进程读, 要么写.\n",
    "\n",
    "## run() parameters\n",
    "\n",
    "- stdin:\n",
    "- stdout:\n",
    "- stderr:\n",
    "- input: 用于在父进程 pass 到 Popen.communicate() 方法, 然后变成子进程的 stdin\n",
    "- capture_output: bool, 是否捕获 console output\n",
    "- shell: bool / str, 如果为 True, 该命令会在一个 shell 中执行, 而 shell\n",
    "- cwd: 改变运行命令的目录\n",
    "- timeout: 只有在 Popen.communicate() 的时候才有用, 限制进程通信的时间上限\n",
    "- check: 如果 return code 不是 0, 则立刻抛出异常\n",
    "- encoding:\n",
    "- errors:\n",
    "- text:\n",
    "- env:\n",
    "- universal_newlines:\n"
   ],
   "metadata": {
    "collapsed": false,
    "pycharm": {
     "name": "#%% md\n"
    }
   }
  },
  {
   "cell_type": "markdown",
   "source": [
    "``shell`` 参数详解\n",
    "\n",
    "``shell=True`` 意味着命令是在子进程中执行的, 你无法捕获到子进程的状态, 除非你显式的用 Popen 让子进程和父进程通信. 通常用于一个你的命令是做一些工作, 而你只想运行了就走, 不想管它运行的怎样, 结果如何的情况."
   ],
   "metadata": {
    "collapsed": false,
    "pycharm": {
     "name": "#%% md\n"
    }
   }
  },
  {
   "cell_type": "code",
   "execution_count": 27,
   "outputs": [
    {
     "name": "stdout",
     "output_type": "stream",
     "text": [
      "type(res) = <class 'subprocess.CompletedProcess'>\n",
      "res = CompletedProcess(args=['python', 'print_something.py'], returncode=0, stdout=b'', stderr=b'')\n",
      "res.args = ['python', 'print_something.py']\n",
      "res.returncode = 0\n",
      "res.stdout = b''\n",
      "res.stderr = b''\n"
     ]
    }
   ],
   "source": [
    "\n",
    "res = subprocess.run(\n",
    "    [\n",
    "        \"python\", \"print_something.py\",\n",
    "    ],\n",
    "    shell=True,\n",
    "    capture_output=True,\n",
    ")\n",
    "print_result(res)"
   ],
   "metadata": {
    "collapsed": false,
    "pycharm": {
     "name": "#%%\n"
    }
   }
  },
  {
   "cell_type": "code",
   "execution_count": 29,
   "outputs": [
    {
     "name": "stdout",
     "output_type": "stream",
     "text": [
      "my_value\n"
     ]
    }
   ],
   "source": [
    "# 你可以在 Python 中设定环境变量, 这个环境变量在 Python 运行时中都会生效\n",
    "os.environ[\"my_var\"] = \"my_value\"\n",
    "res = subprocess.run(\n",
    "    [\n",
    "        \"python\", \"print_my_var.py\",\n",
    "    ],\n",
    ")"
   ],
   "metadata": {
    "collapsed": false,
    "pycharm": {
     "name": "#%%\n"
    }
   }
  }
 ],
 "metadata": {
  "kernelspec": {
   "display_name": "Python 3 (ipykernel)",
   "language": "python",
   "name": "python3"
  },
  "language_info": {
   "codemirror_mode": {
    "name": "ipython",
    "version": 3
   },
   "file_extension": ".py",
   "mimetype": "text/x-python",
   "name": "python",
   "nbconvert_exporter": "python",
   "pygments_lexer": "ipython3",
   "version": "3.8.11"
  }
 },
 "nbformat": 4,
 "nbformat_minor": 5
}
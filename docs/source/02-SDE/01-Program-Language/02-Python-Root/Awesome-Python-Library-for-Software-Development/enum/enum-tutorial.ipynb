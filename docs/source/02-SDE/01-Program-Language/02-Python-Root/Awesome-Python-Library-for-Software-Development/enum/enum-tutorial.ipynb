{
 "cells": [
  {
   "cell_type": "markdown",
   "source": [
    "# enum - Python 标准库之 枚举\n",
    "\n",
    "## 什么是 Enum, 什么时候用 Enum?\n",
    "\n",
    "1. 定义一堆可以被归为一类的常量的时候."
   ],
   "metadata": {
    "collapsed": false,
    "pycharm": {
     "name": "#%% md\n"
    }
   }
  },
  {
   "cell_type": "code",
   "execution_count": 99,
   "outputs": [],
   "source": [
    "import typing as T\n",
    "from rich import print\n",
    "import enum"
   ],
   "metadata": {
    "collapsed": false,
    "pycharm": {
     "name": "#%%\n"
    }
   }
  },
  {
   "cell_type": "markdown",
   "source": [
    "## Enum 的基本概念"
   ],
   "metadata": {
    "collapsed": false,
    "pycharm": {
     "name": "#%% md\n"
    }
   }
  },
  {
   "cell_type": "code",
   "execution_count": 101,
   "outputs": [],
   "source": [
    "# 这个 red 和 blue 是 name\n",
    "class ColorEnum(enum.Enum):\n",
    "    red = 1\n",
    "    blue = 2"
   ],
   "metadata": {
    "collapsed": false,
    "pycharm": {
     "name": "#%%\n"
    }
   }
  },
  {
   "cell_type": "code",
   "execution_count": 103,
   "outputs": [
    {
     "data": {
      "text/plain": "<ColorEnum.red: 1>"
     },
     "execution_count": 103,
     "metadata": {},
     "output_type": "execute_result"
    }
   ],
   "source": [
    "# 这个 ColorEnum.red 是 member\n",
    "ColorEnum.red"
   ],
   "metadata": {
    "collapsed": false,
    "pycharm": {
     "name": "#%%\n"
    }
   }
  },
  {
   "cell_type": "code",
   "execution_count": 104,
   "outputs": [
    {
     "data": {
      "text/plain": "<ColorEnum.red: 1>"
     },
     "execution_count": 104,
     "metadata": {},
     "output_type": "execute_result"
    }
   ],
   "source": [
    "# 你也可以用 [] 语法来访问 member\n",
    "ColorEnum[\"red\"]"
   ],
   "metadata": {
    "collapsed": false,
    "pycharm": {
     "name": "#%%\n"
    }
   }
  },
  {
   "cell_type": "code",
   "execution_count": 105,
   "outputs": [
    {
     "data": {
      "text/plain": "1"
     },
     "execution_count": 105,
     "metadata": {},
     "output_type": "execute_result"
    }
   ],
   "source": [
    "# 一个 member 的具体的值是 value, 可以用 ColorEnum.red.value 这样的语法来访问\n",
    "ColorEnum.red.value"
   ],
   "metadata": {
    "collapsed": false,
    "pycharm": {
     "name": "#%%\n"
    }
   }
  },
  {
   "cell_type": "markdown",
   "source": [
    "## Restricted Enum subclassing - 继承是有限制的\n",
    "\n",
    "Reference:\n",
    "\n",
    "- [restricted-enum-subclassing](https://docs.python.org/3/library/enum.html#restricted-enum-subclassing)\n",
    "\n",
    "一个 ``Enum`` 类可以包含:\n",
    "\n",
    "1. 任意多个 Mixin 类, 可以没有, 且通常没有, 除非你要自行扩展功能\n",
    "2. 至多一个具体的数据类型, 可以没有, 且通常没有\n",
    "3. 有且一个 Enum 基类, 可以是 ``enum.Enum``, ``enum.IntEnum``, ``enum.StrEnum`` 之一\n",
    "\n",
    "继承的顺序必须是按照上面来的.\n",
    "\n",
    "**并且如果你要继承其他的 Enum 类的话, 父类不能够定义任何成员**\n",
    "\n",
    "例如下面的例子是行不通的."
   ],
   "metadata": {
    "collapsed": false,
    "pycharm": {
     "name": "#%% md\n"
    }
   }
  },
  {
   "cell_type": "code",
   "execution_count": 5,
   "outputs": [
    {
     "ename": "TypeError",
     "evalue": "MoreColor: cannot extend enumeration 'SomeColor'",
     "output_type": "error",
     "traceback": [
      "\u001B[0;31m---------------------------------------------------------------------------\u001B[0m",
      "\u001B[0;31mTypeError\u001B[0m                                 Traceback (most recent call last)",
      "Input \u001B[0;32mIn [5]\u001B[0m, in \u001B[0;36m<cell line: 4>\u001B[0;34m()\u001B[0m\n\u001B[1;32m      1\u001B[0m \u001B[38;5;28;01mclass\u001B[39;00m \u001B[38;5;21;01mSomeColor\u001B[39;00m(enum\u001B[38;5;241m.\u001B[39mEnum):\n\u001B[1;32m      2\u001B[0m     red \u001B[38;5;241m=\u001B[39m \u001B[38;5;241m1\u001B[39m\n\u001B[0;32m----> 4\u001B[0m \u001B[38;5;28;01mclass\u001B[39;00m \u001B[38;5;21;01mMoreColor\u001B[39;00m(SomeColor):\n\u001B[1;32m      5\u001B[0m     blue \u001B[38;5;241m=\u001B[39m \u001B[38;5;241m2\u001B[39m\n",
      "File \u001B[0;32m~/.pyenv/versions/3.8.11/lib/python3.8/enum.py:146\u001B[0m, in \u001B[0;36mEnumMeta.__prepare__\u001B[0;34m(metacls, cls, bases)\u001B[0m\n\u001B[1;32m    143\u001B[0m \u001B[38;5;129m@classmethod\u001B[39m\n\u001B[1;32m    144\u001B[0m \u001B[38;5;28;01mdef\u001B[39;00m \u001B[38;5;21m__prepare__\u001B[39m(metacls, \u001B[38;5;28mcls\u001B[39m, bases):\n\u001B[1;32m    145\u001B[0m     \u001B[38;5;66;03m# check that previous enum members do not exist\u001B[39;00m\n\u001B[0;32m--> 146\u001B[0m     \u001B[43mmetacls\u001B[49m\u001B[38;5;241;43m.\u001B[39;49m\u001B[43m_check_for_existing_members\u001B[49m\u001B[43m(\u001B[49m\u001B[38;5;28;43mcls\u001B[39;49m\u001B[43m,\u001B[49m\u001B[43m \u001B[49m\u001B[43mbases\u001B[49m\u001B[43m)\u001B[49m\n\u001B[1;32m    147\u001B[0m     \u001B[38;5;66;03m# create the namespace dict\u001B[39;00m\n\u001B[1;32m    148\u001B[0m     enum_dict \u001B[38;5;241m=\u001B[39m _EnumDict()\n",
      "File \u001B[0;32m~/.pyenv/versions/3.8.11/lib/python3.8/enum.py:527\u001B[0m, in \u001B[0;36mEnumMeta._check_for_existing_members\u001B[0;34m(class_name, bases)\u001B[0m\n\u001B[1;32m    525\u001B[0m \u001B[38;5;28;01mfor\u001B[39;00m base \u001B[38;5;129;01min\u001B[39;00m chain\u001B[38;5;241m.\u001B[39m\u001B[38;5;18m__mro__\u001B[39m:\n\u001B[1;32m    526\u001B[0m     \u001B[38;5;28;01mif\u001B[39;00m \u001B[38;5;28missubclass\u001B[39m(base, Enum) \u001B[38;5;129;01mand\u001B[39;00m base\u001B[38;5;241m.\u001B[39m_member_names_:\n\u001B[0;32m--> 527\u001B[0m         \u001B[38;5;28;01mraise\u001B[39;00m \u001B[38;5;167;01mTypeError\u001B[39;00m(\n\u001B[1;32m    528\u001B[0m                 \u001B[38;5;124m\"\u001B[39m\u001B[38;5;132;01m%s\u001B[39;00m\u001B[38;5;124m: cannot extend enumeration \u001B[39m\u001B[38;5;132;01m%r\u001B[39;00m\u001B[38;5;124m\"\u001B[39m\n\u001B[1;32m    529\u001B[0m                 \u001B[38;5;241m%\u001B[39m (class_name, base\u001B[38;5;241m.\u001B[39m\u001B[38;5;18m__name__\u001B[39m)\n\u001B[1;32m    530\u001B[0m                 )\n",
      "\u001B[0;31mTypeError\u001B[0m: MoreColor: cannot extend enumeration 'SomeColor'"
     ]
    }
   ],
   "source": [
    "class SomeColor(enum.Enum):\n",
    "    red = 1\n",
    "\n",
    "\n",
    "class MoreColor(SomeColor):\n",
    "    blue = 2"
   ],
   "metadata": {
    "collapsed": false,
    "pycharm": {
     "name": "#%%\n"
    }
   }
  },
  {
   "cell_type": "code",
   "execution_count": 7,
   "outputs": [
    {
     "data": {
      "text/plain": "<Bar.HAPPY: 1>"
     },
     "execution_count": 7,
     "metadata": {},
     "output_type": "execute_result"
    }
   ],
   "source": [
    "# 但是这样可以\n",
    "class Foo(enum.Enum):\n",
    "    def some_behavior(self):\n",
    "        pass\n",
    "\n",
    "\n",
    "class Bar(Foo):\n",
    "    HAPPY = 1\n",
    "    SAD = 2\n",
    "\n",
    "\n",
    "Bar.HAPPY"
   ],
   "metadata": {
    "collapsed": false,
    "pycharm": {
     "name": "#%%\n"
    }
   }
  },
  {
   "cell_type": "markdown",
   "source": [
    "## Data Type in subclassing\n",
    "\n",
    "这里详细说一下继承时有 data type 的情况. 这里指的是 ``class MyEnum(a_class, enum.Enum):`` 的情况. 官方文档是这么说的:\n",
    "\n",
    "    When subclassing other data types, such as int or str, with an Enum, all values after the = are passed to that data type’s constructor.\n",
    "\n",
    "这个意思就是所有在等号后面的数据, 都会被传递给 ``a_class`` 这个 constructor 函数中去. 注意, 这里的 constructor 指的是 ``__new__`` 方法, 而不是 initializer ``__init__`` 方法. 我们来看下面的官方例子."
   ],
   "metadata": {
    "collapsed": false,
    "pycharm": {
     "name": "#%% md\n"
    }
   }
  },
  {
   "cell_type": "code",
   "execution_count": 52,
   "outputs": [
    {
     "data": {
      "text/plain": "\u001B[1;36m17\u001B[0m\n",
      "text/html": "<pre style=\"white-space:pre;overflow-x:auto;line-height:normal;font-family:Menlo,'DejaVu Sans Mono',consolas,'Courier New',monospace\"><span style=\"color: #008080; text-decoration-color: #008080; font-weight: bold\">17</span>\n</pre>\n"
     },
     "metadata": {},
     "output_type": "display_data"
    },
    {
     "data": {
      "text/plain": "\u001B[1m<\u001B[0m\u001B[1;95mclass\u001B[0m\u001B[39m \u001B[0m\u001B[32m'int'\u001B[0m\u001B[1m>\u001B[0m\n",
      "text/html": "<pre style=\"white-space:pre;overflow-x:auto;line-height:normal;font-family:Menlo,'DejaVu Sans Mono',consolas,'Courier New',monospace\"><span style=\"font-weight: bold\">&lt;</span><span style=\"color: #ff00ff; text-decoration-color: #ff00ff; font-weight: bold\">class</span><span style=\"color: #000000; text-decoration-color: #000000\"> </span><span style=\"color: #008000; text-decoration-color: #008000\">'int'</span><span style=\"font-weight: bold\">&gt;</span>\n</pre>\n"
     },
     "metadata": {},
     "output_type": "display_data"
    },
    {
     "data": {
      "text/plain": "\u001B[1;36m17\u001B[0m\n",
      "text/html": "<pre style=\"white-space:pre;overflow-x:auto;line-height:normal;font-family:Menlo,'DejaVu Sans Mono',consolas,'Courier New',monospace\"><span style=\"color: #008080; text-decoration-color: #008080; font-weight: bold\">17</span>\n</pre>\n"
     },
     "metadata": {},
     "output_type": "display_data"
    }
   ],
   "source": [
    "# class MyEnum(int, enum.Enum) 和 class MyEnum(enum.IntEnum) 等效\n",
    "class MyEnum(int, enum.Enum):\n",
    "    example = \"11\", 16\n",
    "\n",
    "\n",
    "print(int(\"11\", 16))  # 实际上是 int(\"11\", base=16)\n",
    "print(type(MyEnum.example.value))\n",
    "print(MyEnum.example.value)  # 可以看出 example = 的内容实际上是 int(\"11\", 16)"
   ],
   "metadata": {
    "collapsed": false,
    "pycharm": {
     "name": "#%%\n"
    }
   }
  },
  {
   "cell_type": "markdown",
   "source": [
    "下面这个例子中我们只定义了 ``__init__``, 没有定义 ``__new__``, 所以最后的 value 还是原来的字符串. 这是一个 **错误示范**."
   ],
   "metadata": {
    "collapsed": false,
    "pycharm": {
     "name": "#%% md\n"
    }
   }
  },
  {
   "cell_type": "code",
   "execution_count": 76,
   "outputs": [],
   "source": [
    "class Apple:\n",
    "    def __init__(self, apple_name: str):\n",
    "        self.apple_name = apple_name\n",
    "\n",
    "    def apple_special_method(self):\n",
    "        return \"this is apple special method\"\n",
    "\n",
    "\n",
    "class AppleEnum(Apple, enum.Enum):\n",
    "    red = \"red_apple\"\n",
    "    green = \"green_apple\""
   ],
   "metadata": {
    "collapsed": false,
    "pycharm": {
     "name": "#%%\n"
    }
   }
  },
  {
   "cell_type": "code",
   "execution_count": 77,
   "outputs": [
    {
     "data": {
      "text/plain": "\u001B[1m<\u001B[0m\u001B[1;95mclass\u001B[0m\u001B[39m \u001B[0m\u001B[32m'str'\u001B[0m\u001B[1m>\u001B[0m\n",
      "text/html": "<pre style=\"white-space:pre;overflow-x:auto;line-height:normal;font-family:Menlo,'DejaVu Sans Mono',consolas,'Courier New',monospace\"><span style=\"font-weight: bold\">&lt;</span><span style=\"color: #ff00ff; text-decoration-color: #ff00ff; font-weight: bold\">class</span><span style=\"color: #000000; text-decoration-color: #000000\"> </span><span style=\"color: #008000; text-decoration-color: #008000\">'str'</span><span style=\"font-weight: bold\">&gt;</span>\n</pre>\n"
     },
     "metadata": {},
     "output_type": "display_data"
    }
   ],
   "source": [
    "print(type(AppleEnum.red.value))"
   ],
   "metadata": {
    "collapsed": false,
    "pycharm": {
     "name": "#%%\n"
    }
   }
  },
  {
   "cell_type": "code",
   "execution_count": 78,
   "outputs": [
    {
     "data": {
      "text/plain": "red_apple\n",
      "text/html": "<pre style=\"white-space:pre;overflow-x:auto;line-height:normal;font-family:Menlo,'DejaVu Sans Mono',consolas,'Courier New',monospace\">red_apple\n</pre>\n"
     },
     "metadata": {},
     "output_type": "display_data"
    }
   ],
   "source": [
    "print(AppleEnum.red.value)  # type hint 不能发现 .value 其实是 Apple, 因为它真的不是"
   ],
   "metadata": {
    "collapsed": false,
    "pycharm": {
     "name": "#%%\n"
    }
   }
  },
  {
   "cell_type": "code",
   "execution_count": 79,
   "outputs": [
    {
     "ename": "AttributeError",
     "evalue": "'str' object has no attribute 'apple_special_method'",
     "output_type": "error",
     "traceback": [
      "\u001B[0;31m---------------------------------------------------------------------------\u001B[0m",
      "\u001B[0;31mAttributeError\u001B[0m                            Traceback (most recent call last)",
      "Input \u001B[0;32mIn [79]\u001B[0m, in \u001B[0;36m<cell line: 1>\u001B[0;34m()\u001B[0m\n\u001B[0;32m----> 1\u001B[0m \u001B[43mAppleEnum\u001B[49m\u001B[38;5;241;43m.\u001B[39;49m\u001B[43mred\u001B[49m\u001B[38;5;241;43m.\u001B[39;49m\u001B[43mvalue\u001B[49m\u001B[38;5;241;43m.\u001B[39;49m\u001B[43mapple_special_method\u001B[49m()\n",
      "\u001B[0;31mAttributeError\u001B[0m: 'str' object has no attribute 'apple_special_method'"
     ]
    }
   ],
   "source": [
    "AppleEnum.red.value.apple_special_method()"
   ],
   "metadata": {
    "collapsed": false,
    "pycharm": {
     "name": "#%%\n"
    }
   }
  },
  {
   "cell_type": "markdown",
   "source": [
    "下面这个是 **正确示范**"
   ],
   "metadata": {
    "collapsed": false,
    "pycharm": {
     "name": "#%% md\n"
    }
   }
  },
  {
   "cell_type": "code",
   "execution_count": 80,
   "outputs": [],
   "source": [
    "class Orange:\n",
    "    def __init__(self, orange_name: str):\n",
    "        self.orange_name = orange_name\n",
    "\n",
    "    def __new__(cls, orange_name: str, **kwargs):\n",
    "        orange = object.__new__(cls)\n",
    "        orange.__init__(orange_name)\n",
    "        return orange\n",
    "\n",
    "    def __repr__(self):\n",
    "        return f\"Orange(orange_name={self.orange_name!r})\"\n",
    "\n",
    "    def orange_special_method(self):\n",
    "        return \"this is orange special method\"\n",
    "\n",
    "\n",
    "class OrangeEnum(Orange, enum.Enum):\n",
    "    big = \"big_orange\""
   ],
   "metadata": {
    "collapsed": false,
    "pycharm": {
     "name": "#%%\n"
    }
   }
  },
  {
   "cell_type": "code",
   "execution_count": 81,
   "outputs": [
    {
     "data": {
      "text/plain": "\u001B[1m<\u001B[0m\u001B[1;95menum\u001B[0m\u001B[39m \u001B[0m\u001B[32m'OrangeEnum'\u001B[0m\u001B[1m>\u001B[0m\n",
      "text/html": "<pre style=\"white-space:pre;overflow-x:auto;line-height:normal;font-family:Menlo,'DejaVu Sans Mono',consolas,'Courier New',monospace\"><span style=\"font-weight: bold\">&lt;</span><span style=\"color: #ff00ff; text-decoration-color: #ff00ff; font-weight: bold\">enum</span><span style=\"color: #000000; text-decoration-color: #000000\"> </span><span style=\"color: #008000; text-decoration-color: #008000\">'OrangeEnum'</span><span style=\"font-weight: bold\">&gt;</span>\n</pre>\n"
     },
     "metadata": {},
     "output_type": "display_data"
    }
   ],
   "source": [
    "print(type(OrangeEnum.big))"
   ],
   "metadata": {
    "collapsed": false,
    "pycharm": {
     "name": "#%%\n"
    }
   }
  },
  {
   "cell_type": "code",
   "execution_count": 82,
   "outputs": [
    {
     "data": {
      "text/plain": "OrangeEnum.big\n",
      "text/html": "<pre style=\"white-space:pre;overflow-x:auto;line-height:normal;font-family:Menlo,'DejaVu Sans Mono',consolas,'Courier New',monospace\">OrangeEnum.big\n</pre>\n"
     },
     "metadata": {},
     "output_type": "display_data"
    }
   ],
   "source": [
    "print(OrangeEnum.big)  # **type hint 能发现 .big 其实是 Orange**"
   ],
   "metadata": {
    "collapsed": false,
    "pycharm": {
     "name": "#%%\n"
    }
   }
  },
  {
   "cell_type": "code",
   "execution_count": 83,
   "outputs": [
    {
     "data": {
      "text/plain": "this is orange special method\n",
      "text/html": "<pre style=\"white-space:pre;overflow-x:auto;line-height:normal;font-family:Menlo,'DejaVu Sans Mono',consolas,'Courier New',monospace\">this is orange special method\n</pre>\n"
     },
     "metadata": {},
     "output_type": "display_data"
    }
   ],
   "source": [
    "print(OrangeEnum.big.orange_special_method())  # 虽然上面打印出来是一个枚举, 但实际上可以用作 Orange 对象"
   ],
   "metadata": {
    "collapsed": false,
    "pycharm": {
     "name": "#%%\n"
    }
   }
  },
  {
   "cell_type": "code",
   "execution_count": 84,
   "outputs": [
    {
     "data": {
      "text/plain": "\u001B[1m<\u001B[0m\u001B[1;95mclass\u001B[0m\u001B[39m \u001B[0m\u001B[32m'__main__.Orange'\u001B[0m\u001B[1m>\u001B[0m\n",
      "text/html": "<pre style=\"white-space:pre;overflow-x:auto;line-height:normal;font-family:Menlo,'DejaVu Sans Mono',consolas,'Courier New',monospace\"><span style=\"font-weight: bold\">&lt;</span><span style=\"color: #ff00ff; text-decoration-color: #ff00ff; font-weight: bold\">class</span><span style=\"color: #000000; text-decoration-color: #000000\"> </span><span style=\"color: #008000; text-decoration-color: #008000\">'__main__.Orange'</span><span style=\"font-weight: bold\">&gt;</span>\n</pre>\n"
     },
     "metadata": {},
     "output_type": "display_data"
    }
   ],
   "source": [
    "print(type(OrangeEnum.big.value))  # .value 还是 Orange 对象"
   ],
   "metadata": {
    "collapsed": false,
    "pycharm": {
     "name": "#%%\n"
    }
   }
  },
  {
   "cell_type": "code",
   "execution_count": 85,
   "outputs": [
    {
     "data": {
      "text/plain": "\u001B[1;35mOrange\u001B[0m\u001B[1m(\u001B[0m\u001B[33morange_name\u001B[0m=\u001B[32m'big_orange'\u001B[0m\u001B[1m)\u001B[0m\n",
      "text/html": "<pre style=\"white-space:pre;overflow-x:auto;line-height:normal;font-family:Menlo,'DejaVu Sans Mono',consolas,'Courier New',monospace\"><span style=\"color: #800080; text-decoration-color: #800080; font-weight: bold\">Orange</span><span style=\"font-weight: bold\">(</span><span style=\"color: #808000; text-decoration-color: #808000\">orange_name</span>=<span style=\"color: #008000; text-decoration-color: #008000\">'big_orange'</span><span style=\"font-weight: bold\">)</span>\n</pre>\n"
     },
     "metadata": {},
     "output_type": "display_data"
    }
   ],
   "source": [
    "print(OrangeEnum.big.value)  # type hint 不能发现 .value 其实是 Orange"
   ],
   "metadata": {
    "collapsed": false,
    "pycharm": {
     "name": "#%%\n"
    }
   }
  },
  {
   "cell_type": "code",
   "execution_count": 86,
   "outputs": [
    {
     "data": {
      "text/plain": "True"
     },
     "execution_count": 86,
     "metadata": {},
     "output_type": "execute_result"
    }
   ],
   "source": [
    "isinstance(OrangeEnum.big, OrangeEnum)"
   ],
   "metadata": {
    "collapsed": false,
    "pycharm": {
     "name": "#%%\n"
    }
   }
  },
  {
   "cell_type": "code",
   "execution_count": 89,
   "outputs": [
    {
     "data": {
      "text/plain": "big \u001B[1;35mOrange\u001B[0m\u001B[1m(\u001B[0m\u001B[33morange_name\u001B[0m=\u001B[32m'big_orange'\u001B[0m\u001B[1m)\u001B[0m\n",
      "text/html": "<pre style=\"white-space:pre;overflow-x:auto;line-height:normal;font-family:Menlo,'DejaVu Sans Mono',consolas,'Courier New',monospace\">big <span style=\"color: #800080; text-decoration-color: #800080; font-weight: bold\">Orange</span><span style=\"font-weight: bold\">(</span><span style=\"color: #808000; text-decoration-color: #808000\">orange_name</span>=<span style=\"color: #008000; text-decoration-color: #008000\">'big_orange'</span><span style=\"font-weight: bold\">)</span>\n</pre>\n"
     },
     "metadata": {},
     "output_type": "display_data"
    }
   ],
   "source": [
    "# 你既可以让迭代器返回: 成员, 也可以返回 name, 也可以返回 value\n",
    "for orange in OrangeEnum:\n",
    "    print(orange.name, orange.value)"
   ],
   "metadata": {
    "collapsed": false,
    "pycharm": {
     "name": "#%%\n"
    }
   }
  },
  {
   "cell_type": "code",
   "execution_count": 91,
   "outputs": [
    {
     "data": {
      "text/plain": "'this is orange special method'"
     },
     "execution_count": 91,
     "metadata": {},
     "output_type": "execute_result"
    }
   ],
   "source": [
    "OrangeEnum[\"big\"].orange_special_method()"
   ],
   "metadata": {
    "collapsed": false,
    "pycharm": {
     "name": "#%%\n"
    }
   }
  },
  {
   "cell_type": "code",
   "execution_count": 95,
   "outputs": [
    {
     "ename": "KeyError",
     "evalue": "'invalid'",
     "output_type": "error",
     "traceback": [
      "\u001B[0;31m---------------------------------------------------------------------------\u001B[0m",
      "\u001B[0;31mKeyError\u001B[0m                                  Traceback (most recent call last)",
      "Input \u001B[0;32mIn [95]\u001B[0m, in \u001B[0;36m<cell line: 1>\u001B[0;34m()\u001B[0m\n\u001B[0;32m----> 1\u001B[0m \u001B[43mOrangeEnum\u001B[49m\u001B[43m[\u001B[49m\u001B[38;5;124;43m\"\u001B[39;49m\u001B[38;5;124;43minvalid\u001B[39;49m\u001B[38;5;124;43m\"\u001B[39;49m\u001B[43m]\u001B[49m\n",
      "File \u001B[0;32m~/.pyenv/versions/3.8.11/lib/python3.8/enum.py:387\u001B[0m, in \u001B[0;36mEnumMeta.__getitem__\u001B[0;34m(cls, name)\u001B[0m\n\u001B[1;32m    386\u001B[0m \u001B[38;5;28;01mdef\u001B[39;00m \u001B[38;5;21m__getitem__\u001B[39m(\u001B[38;5;28mcls\u001B[39m, name):\n\u001B[0;32m--> 387\u001B[0m     \u001B[38;5;28;01mreturn\u001B[39;00m \u001B[38;5;28;43mcls\u001B[39;49m\u001B[38;5;241;43m.\u001B[39;49m\u001B[43m_member_map_\u001B[49m\u001B[43m[\u001B[49m\u001B[43mname\u001B[49m\u001B[43m]\u001B[49m\n",
      "\u001B[0;31mKeyError\u001B[0m: 'invalid'"
     ]
    }
   ],
   "source": [
    "# 测试一个 name 在不在 Enum 里面\n",
    "OrangeEnum[\"invalid\"]"
   ],
   "metadata": {
    "collapsed": false,
    "pycharm": {
     "name": "#%%\n"
    }
   }
  },
  {
   "cell_type": "code",
   "execution_count": 98,
   "outputs": [
    {
     "data": {
      "text/plain": "True"
     },
     "execution_count": 98,
     "metadata": {},
     "output_type": "execute_result"
    }
   ],
   "source": [
    "# 测试一个 member 在不在 Enum 里面\n",
    "OrangeEnum.big in OrangeEnum"
   ],
   "metadata": {
    "collapsed": false,
    "pycharm": {
     "name": "#%%\n"
    }
   }
  },
  {
   "cell_type": "markdown",
   "source": [
    "**这个模式的功能**\n",
    "\n",
    "1. ensure that all members are of that type. 确保成员对象都是这个类. 如果构造器能构造那么就当做是这个类, 反之不行.\n",
    "2. make the members directly usable as that type. 成员 (也就是 ``Orange.big`` 语法) 可以直接当做对象类来用, 免去了用 ``.value`` 的麻烦. 这在 成员不重要, 而值重要的情况下非常有用!"
   ],
   "metadata": {
    "collapsed": false,
    "pycharm": {
     "name": "#%% md\n"
    }
   }
  },
  {
   "cell_type": "code",
   "execution_count": 75,
   "outputs": [
    {
     "ename": "TypeError",
     "evalue": "__new__() takes 2 positional arguments but 4 were given",
     "output_type": "error",
     "traceback": [
      "\u001B[0;31m---------------------------------------------------------------------------\u001B[0m",
      "\u001B[0;31mTypeError\u001B[0m                                 Traceback (most recent call last)",
      "Input \u001B[0;32mIn [75]\u001B[0m, in \u001B[0;36m<cell line: 1>\u001B[0;34m()\u001B[0m\n\u001B[0;32m----> 1\u001B[0m \u001B[38;5;28;01mclass\u001B[39;00m \u001B[38;5;21;01mOrangeEnum\u001B[39;00m(Orange, enum\u001B[38;5;241m.\u001B[39mEnum):\n\u001B[1;32m      2\u001B[0m     big \u001B[38;5;241m=\u001B[39m \u001B[38;5;124m\"\u001B[39m\u001B[38;5;124mbig_orange\u001B[39m\u001B[38;5;124m\"\u001B[39m\n\u001B[1;32m      3\u001B[0m     small \u001B[38;5;241m=\u001B[39m \u001B[38;5;241m1\u001B[39m, \u001B[38;5;241m2\u001B[39m, \u001B[38;5;241m3\u001B[39m\n",
      "File \u001B[0;32m~/.pyenv/versions/3.8.11/lib/python3.8/enum.py:243\u001B[0m, in \u001B[0;36mEnumMeta.__new__\u001B[0;34m(metacls, cls, bases, classdict)\u001B[0m\n\u001B[1;32m    241\u001B[0m         enum_member\u001B[38;5;241m.\u001B[39m_value_ \u001B[38;5;241m=\u001B[39m value\n\u001B[1;32m    242\u001B[0m \u001B[38;5;28;01melse\u001B[39;00m:\n\u001B[0;32m--> 243\u001B[0m     enum_member \u001B[38;5;241m=\u001B[39m \u001B[38;5;21;43m__new__\u001B[39;49m\u001B[43m(\u001B[49m\u001B[43menum_class\u001B[49m\u001B[43m,\u001B[49m\u001B[43m \u001B[49m\u001B[38;5;241;43m*\u001B[39;49m\u001B[43margs\u001B[49m\u001B[43m)\u001B[49m\n\u001B[1;32m    244\u001B[0m     \u001B[38;5;28;01mif\u001B[39;00m \u001B[38;5;129;01mnot\u001B[39;00m \u001B[38;5;28mhasattr\u001B[39m(enum_member, \u001B[38;5;124m'\u001B[39m\u001B[38;5;124m_value_\u001B[39m\u001B[38;5;124m'\u001B[39m):\n\u001B[1;32m    245\u001B[0m         \u001B[38;5;28;01mif\u001B[39;00m member_type \u001B[38;5;129;01mis\u001B[39;00m \u001B[38;5;28mobject\u001B[39m:\n",
      "\u001B[0;31mTypeError\u001B[0m: __new__() takes 2 positional arguments but 4 were given"
     ]
    }
   ],
   "source": [
    "# ensure that all members are of that type\n",
    "class OrangeEnum(Orange, enum.Enum):\n",
    "    big = \"big_orange\"\n",
    "    small = 1, 2, 3"
   ],
   "metadata": {
    "collapsed": false,
    "pycharm": {
     "name": "#%%\n"
    }
   }
  },
  {
   "cell_type": "markdown",
   "source": [
    "## Cookbook - 技巧大全\n",
    "\n",
    "### Typed Enum"
   ],
   "metadata": {
    "collapsed": false,
    "pycharm": {
     "name": "#%% md\n"
    }
   }
  },
  {
   "cell_type": "code",
   "execution_count": 201,
   "outputs": [
    {
     "data": {
      "text/plain": "\u001B[1m<\u001B[0m\u001B[1;95menum\u001B[0m\u001B[39m \u001B[0m\u001B[32m'WholeSaleEnum'\u001B[0m\u001B[1m>\u001B[0m\n",
      "text/html": "<pre style=\"white-space:pre;overflow-x:auto;line-height:normal;font-family:Menlo,'DejaVu Sans Mono',consolas,'Courier New',monospace\"><span style=\"font-weight: bold\">&lt;</span><span style=\"color: #ff00ff; text-decoration-color: #ff00ff; font-weight: bold\">enum</span><span style=\"color: #000000; text-decoration-color: #000000\"> </span><span style=\"color: #008000; text-decoration-color: #008000\">'WholeSaleEnum'</span><span style=\"font-weight: bold\">&gt;</span>\n</pre>\n"
     },
     "metadata": {},
     "output_type": "display_data"
    },
    {
     "data": {
      "text/plain": "\u001B[1m<\u001B[0m\u001B[1;95menum\u001B[0m\u001B[39m \u001B[0m\u001B[32m'WholeSaleEnum'\u001B[0m\u001B[1m>\u001B[0m\n",
      "text/html": "<pre style=\"white-space:pre;overflow-x:auto;line-height:normal;font-family:Menlo,'DejaVu Sans Mono',consolas,'Courier New',monospace\"><span style=\"font-weight: bold\">&lt;</span><span style=\"color: #ff00ff; text-decoration-color: #ff00ff; font-weight: bold\">enum</span><span style=\"color: #000000; text-decoration-color: #000000\"> </span><span style=\"color: #008000; text-decoration-color: #008000\">'WholeSaleEnum'</span><span style=\"font-weight: bold\">&gt;</span>\n</pre>\n"
     },
     "metadata": {},
     "output_type": "display_data"
    }
   ],
   "source": [
    "import attr\n",
    "\n",
    "\n",
    "@attr.s\n",
    "class WholeSale:\n",
    "    business_name: str = attr.ib()\n",
    "\n",
    "    def wholesale_special_method(self):\n",
    "        return \"this is wholesale special method\"\n",
    "\n",
    "\n",
    "class TypedEnumMixin:\n",
    "    @classmethod\n",
    "    def has_name(cls, name: str) -> bool:\n",
    "        try:\n",
    "            _ = cls[name]\n",
    "            return True\n",
    "        except KeyError:\n",
    "            return False\n",
    "\n",
    "    @classmethod\n",
    "    def has_member(cls, member) -> bool:\n",
    "        return member in cls\n",
    "\n",
    "    _all_values = None\n",
    "\n",
    "    @classmethod\n",
    "    def has_value(cls, value) -> bool:\n",
    "        if cls._all_values is None:\n",
    "            cls._all_values = [member._value_ for member in cls]\n",
    "        print(cls._all_values, cls._all_values[0], type(cls._all_values[0]))\n",
    "        return value in cls._all_values\n",
    "\n",
    "\n",
    "class WholeSaleEnum(TypedEnumMixin, WholeSale, enum.Enum):\n",
    "    walmart = \"walmart\"\n",
    "\n",
    "\n",
    "class OtherWholeSaleEnum(enum.Enum):\n",
    "    costco = \"costco\"\n",
    "\n",
    "# print(WholeSale(business_name=\"walmart\") in list(WholeSaleEnum._value2member_map_))\n",
    "print(type(WholeSaleEnum.walmart))\n",
    "print(WholeSaleEnum)\n",
    "# WholeSaleEnum.has_value(WholeSale(business_name=\"walmart\"))\n",
    "# for wholesale in WholeSaleEnum:\n",
    "#     print(attr.asdict(wholesale))"
   ],
   "metadata": {
    "collapsed": false,
    "pycharm": {
     "name": "#%%\n"
    }
   }
  },
  {
   "cell_type": "code",
   "execution_count": 176,
   "outputs": [
    {
     "data": {
      "text/plain": "\u001B[1m[\u001B[0m\u001B[32m'walmart'\u001B[0m\u001B[1m]\u001B[0m\nwalmart \u001B[1m<\u001B[0m\u001B[1;95mclass\u001B[0m\u001B[39m \u001B[0m\u001B[32m'str'\u001B[0m\u001B[1m>\u001B[0m\n",
      "text/html": "<pre style=\"white-space:pre;overflow-x:auto;line-height:normal;font-family:Menlo,'DejaVu Sans Mono',consolas,'Courier New',monospace\"><span style=\"font-weight: bold\">[</span><span style=\"color: #008000; text-decoration-color: #008000\">'walmart'</span><span style=\"font-weight: bold\">]</span>\nwalmart <span style=\"font-weight: bold\">&lt;</span><span style=\"color: #ff00ff; text-decoration-color: #ff00ff; font-weight: bold\">class</span><span style=\"color: #000000; text-decoration-color: #000000\"> </span><span style=\"color: #008000; text-decoration-color: #008000\">'str'</span><span style=\"font-weight: bold\">&gt;</span>\n</pre>\n"
     },
     "metadata": {},
     "output_type": "display_data"
    },
    {
     "data": {
      "text/plain": "False"
     },
     "execution_count": 176,
     "metadata": {},
     "output_type": "execute_result"
    }
   ],
   "source": [],
   "metadata": {
    "collapsed": false,
    "pycharm": {
     "name": "#%%\n"
    }
   }
  },
  {
   "cell_type": "code",
   "execution_count": 169,
   "outputs": [
    {
     "data": {
      "text/plain": "'this is wholesale special method'"
     },
     "execution_count": 169,
     "metadata": {},
     "output_type": "execute_result"
    }
   ],
   "source": [
    "WholeSaleEnum.walmart.wholesale_special_method()"
   ],
   "metadata": {
    "collapsed": false,
    "pycharm": {
     "name": "#%%\n"
    }
   }
  },
  {
   "cell_type": "code",
   "execution_count": 170,
   "outputs": [
    {
     "data": {
      "text/plain": "'walmart'"
     },
     "execution_count": 170,
     "metadata": {},
     "output_type": "execute_result"
    }
   ],
   "source": [
    "WholeSaleEnum.walmart.business_name"
   ],
   "metadata": {
    "collapsed": false,
    "pycharm": {
     "name": "#%%\n"
    }
   }
  },
  {
   "cell_type": "code",
   "execution_count": 171,
   "outputs": [
    {
     "data": {
      "text/plain": "True"
     },
     "execution_count": 171,
     "metadata": {},
     "output_type": "execute_result"
    }
   ],
   "source": [
    "WholeSaleEnum.has_name(\"walmart\")"
   ],
   "metadata": {
    "collapsed": false,
    "pycharm": {
     "name": "#%%\n"
    }
   }
  },
  {
   "cell_type": "code",
   "execution_count": 172,
   "outputs": [
    {
     "data": {
      "text/plain": "False"
     },
     "execution_count": 172,
     "metadata": {},
     "output_type": "execute_result"
    }
   ],
   "source": [
    "WholeSaleEnum.has_name(\"costco\")"
   ],
   "metadata": {
    "collapsed": false,
    "pycharm": {
     "name": "#%%\n"
    }
   }
  },
  {
   "cell_type": "code",
   "execution_count": 173,
   "outputs": [
    {
     "data": {
      "text/plain": "True"
     },
     "execution_count": 173,
     "metadata": {},
     "output_type": "execute_result"
    }
   ],
   "source": [
    "WholeSaleEnum.has_member(WholeSaleEnum.walmart)"
   ],
   "metadata": {
    "collapsed": false,
    "pycharm": {
     "name": "#%%\n"
    }
   }
  },
  {
   "cell_type": "code",
   "execution_count": 174,
   "outputs": [
    {
     "data": {
      "text/plain": "False"
     },
     "execution_count": 174,
     "metadata": {},
     "output_type": "execute_result"
    }
   ],
   "source": [
    "WholeSaleEnum.has_member(OtherWholeSaleEnum.costco)"
   ],
   "metadata": {
    "collapsed": false,
    "pycharm": {
     "name": "#%%\n"
    }
   }
  },
  {
   "cell_type": "code",
   "execution_count": 175,
   "outputs": [
    {
     "data": {
      "text/plain": "\u001B[1m[\u001B[0m\u001B[32m'walmart'\u001B[0m\u001B[1m]\u001B[0m\nwalmart \u001B[1m<\u001B[0m\u001B[1;95mclass\u001B[0m\u001B[39m \u001B[0m\u001B[32m'str'\u001B[0m\u001B[1m>\u001B[0m\n",
      "text/html": "<pre style=\"white-space:pre;overflow-x:auto;line-height:normal;font-family:Menlo,'DejaVu Sans Mono',consolas,'Courier New',monospace\"><span style=\"font-weight: bold\">[</span><span style=\"color: #008000; text-decoration-color: #008000\">'walmart'</span><span style=\"font-weight: bold\">]</span>\nwalmart <span style=\"font-weight: bold\">&lt;</span><span style=\"color: #ff00ff; text-decoration-color: #ff00ff; font-weight: bold\">class</span><span style=\"color: #000000; text-decoration-color: #000000\"> </span><span style=\"color: #008000; text-decoration-color: #008000\">'str'</span><span style=\"font-weight: bold\">&gt;</span>\n</pre>\n"
     },
     "metadata": {},
     "output_type": "display_data"
    },
    {
     "data": {
      "text/plain": "False"
     },
     "execution_count": 175,
     "metadata": {},
     "output_type": "execute_result"
    }
   ],
   "source": [
    "WholeSaleEnum.has_value(WholeSale(business_name=\"walmart\"))"
   ],
   "metadata": {
    "collapsed": false,
    "pycharm": {
     "name": "#%%\n"
    }
   }
  },
  {
   "cell_type": "code",
   "execution_count": 159,
   "outputs": [],
   "source": [],
   "metadata": {
    "collapsed": false,
    "pycharm": {
     "name": "#%%\n"
    }
   }
  },
  {
   "cell_type": "code",
   "execution_count": null,
   "outputs": [],
   "source": [],
   "metadata": {
    "collapsed": false,
    "pycharm": {
     "name": "#%%\n"
    }
   }
  }
 ],
 "metadata": {
  "kernelspec": {
   "display_name": "Python 3",
   "language": "python",
   "name": "python3"
  },
  "language_info": {
   "codemirror_mode": {
    "name": "ipython",
    "version": 2
   },
   "file_extension": ".py",
   "mimetype": "text/x-python",
   "name": "python",
   "nbconvert_exporter": "python",
   "pygments_lexer": "ipython2",
   "version": "2.7.6"
  }
 },
 "nbformat": 4,
 "nbformat_minor": 0
}
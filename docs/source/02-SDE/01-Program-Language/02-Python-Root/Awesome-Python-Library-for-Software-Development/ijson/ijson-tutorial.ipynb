{
 "cells": [
  {
   "cell_type": "code",
   "execution_count": 3,
   "outputs": [],
   "source": [
    "import ijson"
   ],
   "metadata": {
    "collapsed": false,
    "pycharm": {
     "name": "#%%\n"
    }
   }
  },
  {
   "cell_type": "code",
   "execution_count": 14,
   "outputs": [
    {
     "name": "stdout",
     "output_type": "stream",
     "text": [
      "{\n",
      "    \"records\": [\n",
      "        {\"a\":  1, \"x\": 4},\n",
      "        {\"b\":  2, \"y\": 5},\n",
      "        {\"c\":  3, \"z\": 6}\n",
      "    ]\n",
      "}\n"
     ]
    }
   ],
   "source": [
    "with open(\"example.json\", \"r\") as f:\n",
    "    print(f.read())"
   ],
   "metadata": {
    "collapsed": false,
    "pycharm": {
     "name": "#%%\n"
    }
   }
  },
  {
   "cell_type": "code",
   "execution_count": 12,
   "outputs": [
    {
     "name": "stdout",
     "output_type": "stream",
     "text": [
      "{'a': 1, 'x': 4}\n",
      "{'b': 2, 'y': 5}\n",
      "{'c': 3, 'z': 6}\n"
     ]
    }
   ],
   "source": [
    "with open(\"example.json\", \"r\") as f:\n",
    "    for item in ijson.items(f, \"records.item\"):\n",
    "        print(item)"
   ],
   "metadata": {
    "collapsed": false,
    "pycharm": {
     "name": "#%%\n"
    }
   }
  },
  {
   "cell_type": "code",
   "execution_count": 16,
   "outputs": [
    {
     "name": "stdout",
     "output_type": "stream",
     "text": [
      "a 1\n",
      "x 4\n",
      "b 2\n",
      "y 5\n",
      "c 3\n",
      "z 6\n"
     ]
    }
   ],
   "source": [
    "with open(\"example.json\", \"r\") as f:\n",
    "    for key, value in ijson.kvitems(f, \"records.item\"):\n",
    "        print(key, value)"
   ],
   "metadata": {
    "collapsed": false,
    "pycharm": {
     "name": "#%%\n"
    }
   }
  },
  {
   "cell_type": "code",
   "execution_count": null,
   "outputs": [],
   "source": [],
   "metadata": {
    "collapsed": false,
    "pycharm": {
     "name": "#%%\n"
    }
   }
  }
 ],
 "metadata": {
  "kernelspec": {
   "display_name": "Python 3",
   "language": "python",
   "name": "python3"
  },
  "language_info": {
   "codemirror_mode": {
    "name": "ipython",
    "version": 2
   },
   "file_extension": ".py",
   "mimetype": "text/x-python",
   "name": "python",
   "nbconvert_exporter": "python",
   "pygments_lexer": "ipython2",
   "version": "2.7.6"
  }
 },
 "nbformat": 4,
 "nbformat_minor": 0
}
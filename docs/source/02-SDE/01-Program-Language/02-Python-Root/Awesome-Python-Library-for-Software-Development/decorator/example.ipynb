{
 "cells": [
  {
   "cell_type": "markdown",
   "id": "58623c94",
   "metadata": {
    "pycharm": {
     "name": "#%% md\n"
    }
   },
   "source": []
  },
  {
   "cell_type": "code",
   "execution_count": 1,
   "id": "a98fb53c",
   "metadata": {
    "pycharm": {
     "name": "#%%\n"
    }
   },
   "outputs": [
    {
     "name": "stdout",
     "output_type": "stream",
     "text": [
      "/Users/sanhehu/venvs/python/3.8.11/dev_exp_share_venv/bin/python\n",
      "sys.version_info(major=3, minor=8, micro=11, releaselevel='final', serial=0)\n"
     ]
    }
   ],
   "source": [
    "import sys\n",
    "\n",
    "print(sys.executable)\n",
    "print(sys.version_info)"
   ]
  },
  {
   "cell_type": "code",
   "execution_count": 2,
   "id": "b867ae41",
   "metadata": {
    "pycharm": {
     "name": "#%%\n"
    }
   },
   "outputs": [
    {
     "name": "stdout",
     "output_type": "stream",
     "text": [
      "Requirement already satisfied: decorator in /Users/sanhehu/venvs/python/3.8.11/dev_exp_share_venv/lib/python3.8/site-packages (5.1.0)\r\n",
      "\u001B[33mWARNING: You are using pip version 21.2.4; however, version 22.0.4 is available.\r\n",
      "You should consider upgrading via the '/Users/sanhehu/venvs/python/3.8.11/dev_exp_share_venv/bin/python -m pip install --upgrade pip' command.\u001B[0m\r\n"
     ]
    }
   ],
   "source": [
    "!pip install decorator"
   ]
  },
  {
   "cell_type": "code",
   "execution_count": 3,
   "id": "0d9d9e9c",
   "metadata": {
    "pycharm": {
     "name": "#%%\n"
    }
   },
   "outputs": [],
   "source": [
    "from decorator import decorator\n",
    "\n",
    "\n",
    "@decorator\n",
    "def before_and_after(func, *args, **kwargs):\n",
    "    print(\"before\")\n",
    "    result = func(*args, **kwargs)\n",
    "    print(\"after\")\n",
    "    return result"
   ]
  },
  {
   "cell_type": "code",
   "execution_count": 6,
   "id": "4a858b90",
   "metadata": {
    "pycharm": {
     "name": "#%%\n"
    }
   },
   "outputs": [
    {
     "name": "stdout",
     "output_type": "stream",
     "text": [
      "before\n",
      "hello world\n",
      "after\n"
     ]
    }
   ],
   "source": [
    "@before_and_after\n",
    "def my_func():\n",
    "    message = \"hello world\"\n",
    "    print(message)\n",
    "    return\n",
    "\n",
    "\n",
    "my_func()"
   ]
  },
  {
   "cell_type": "code",
   "execution_count": 16,
   "outputs": [
    {
     "name": "stdout",
     "output_type": "stream",
     "text": [
      "before\n",
      "Hello from alice\n",
      "after\n",
      "before\n",
      "full name is alice boon\n",
      "after\n"
     ]
    },
    {
     "data": {
      "text/plain": "'alice boon'"
     },
     "execution_count": 16,
     "metadata": {},
     "output_type": "execute_result"
    }
   ],
   "source": [
    "class User:\n",
    "    def __init__(self, first_name, last_name):\n",
    "        self.first_name = first_name\n",
    "        self.last_name = last_name\n",
    "\n",
    "    @before_and_after\n",
    "    def say_hello(self):\n",
    "        print(f\"Hello from {self.first_name}\")\n",
    "\n",
    "    # when stacking with other decorator,\n",
    "    # use decorator made by ``decorator`` library first\n",
    "    @property\n",
    "    @before_and_after\n",
    "    def full_name(self):\n",
    "        full_name = f\"{self.first_name} {self.last_name}\"\n",
    "        print(f\"full name is {full_name}\")\n",
    "        return full_name\n",
    "\n",
    "\n",
    "alice = User(first_name=\"alice\", last_name=\"boon\")\n",
    "\n",
    "alice.say_hello()\n",
    "\n",
    "alice.full_name"
   ],
   "metadata": {
    "collapsed": false,
    "pycharm": {
     "name": "#%%\n"
    }
   }
  },
  {
   "cell_type": "code",
   "execution_count": 29,
   "outputs": [
    {
     "name": "stdout",
     "output_type": "stream",
     "text": [
      "True\n",
      "execute: 1\n",
      "False\n"
     ]
    }
   ],
   "source": [
    "from typing import ContextManager\n",
    "from contextlib import contextmanager\n",
    "\n",
    "\n",
    "class Session():\n",
    "    def __init__(self):\n",
    "        self.is_live = False\n",
    "\n",
    "    def start(self):\n",
    "        self.is_live = True\n",
    "\n",
    "    def close(self):\n",
    "        self.is_live = False\n",
    "\n",
    "    def execute(self, msg):\n",
    "        print(f\"execute: {msg}\")\n",
    "\n",
    "    def error(self):\n",
    "        raise ValueError(\"something wrong!\")\n",
    "\n",
    "\n",
    "class Connection:\n",
    "    @contextmanager\n",
    "    def session(self) -> ContextManager[Session]:\n",
    "        session = Session()\n",
    "        try:\n",
    "            session.start()\n",
    "            yield session\n",
    "        finally:\n",
    "            session.close()\n",
    "\n",
    "\n",
    "conn = Connection()\n",
    "with conn.session() as ses:\n",
    "    print(ses.is_live)\n",
    "    ses.execute(\"1\")\n",
    "\n",
    "print(ses.is_live)"
   ],
   "metadata": {
    "collapsed": false,
    "pycharm": {
     "name": "#%%\n"
    }
   }
  },
  {
   "cell_type": "code",
   "execution_count": null,
   "outputs": [],
   "source": [],
   "metadata": {
    "collapsed": false,
    "pycharm": {
     "name": "#%%\n"
    }
   }
  }
 ],
 "metadata": {
  "kernelspec": {
   "display_name": "Python 3 (ipykernel)",
   "language": "python",
   "name": "python3"
  },
  "language_info": {
   "codemirror_mode": {
    "name": "ipython",
    "version": 3
   },
   "file_extension": ".py",
   "mimetype": "text/x-python",
   "name": "python",
   "nbconvert_exporter": "python",
   "pygments_lexer": "ipython3",
   "version": "3.8.11"
  }
 },
 "nbformat": 4,
 "nbformat_minor": 5
}
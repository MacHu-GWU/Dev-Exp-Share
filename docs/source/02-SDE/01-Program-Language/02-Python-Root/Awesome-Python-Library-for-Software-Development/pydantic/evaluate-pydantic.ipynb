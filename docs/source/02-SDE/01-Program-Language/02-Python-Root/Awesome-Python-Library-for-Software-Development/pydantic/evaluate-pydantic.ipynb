{
 "cells": [
  {
   "cell_type": "markdown",
   "source": [
    "# Evaluate pydantic, the new validation library for DataClass\n",
    "\n",
    "[pydantic](https://pydantic-docs.helpmanual.io/)"
   ],
   "metadata": {
    "collapsed": false,
    "pycharm": {
     "name": "#%% md\n"
    }
   }
  },
  {
   "cell_type": "code",
   "execution_count": 23,
   "outputs": [],
   "source": [
    "import typing as T\n",
    "from pydantic import BaseModel, Field, validator"
   ],
   "metadata": {
    "collapsed": false,
    "pycharm": {
     "name": "#%%\n"
    }
   }
  },
  {
   "cell_type": "markdown",
   "source": [
    "## PyCharm Support\n",
    "\n",
    "If using pydantic, can PyCharm give:\n",
    "\n",
    "- show argument name and type hint? (CMD + P)\n",
    "- auto complete argument name? (just type in)\n",
    "- show problems about typing mismatch, missing argument? (CMD + 6)\n",
    "\n",
    "**Conclusion**\n",
    "\n",
    "- YES it supports all, if you need to install [pydantic](https://plugins.jetbrains.com/plugin/12861-pydantic/versions) plugin."
   ],
   "metadata": {
    "collapsed": false,
    "pycharm": {
     "name": "#%% md\n"
    }
   }
  },
  {
   "cell_type": "code",
   "execution_count": null,
   "outputs": [],
   "source": [
    "class Base(BaseModel):\n",
    "    id: int\n",
    "\n",
    "\n",
    "class User(Base):\n",
    "    name: str\n",
    "\n",
    "\n",
    "class PaidUser(User):\n",
    "    account: str\n",
    "\n",
    "\n",
    "# move cursor in brackt and hit CMD + P to see hint\n",
    "Base()\n",
    "User()\n",
    "PaidUser(id=\"invalid\", name=\"alice\", account=\"1234\")"
   ],
   "metadata": {
    "collapsed": false,
    "pycharm": {
     "name": "#%%\n"
    }
   }
  },
  {
   "cell_type": "markdown",
   "source": [
    "## Nested Schema\n",
    "\n",
    "You may need to nest an object as an attribute. In class initialization, you may use::\n",
    "\n",
    "```\n",
    "order = Order(\n",
    "    ...\n",
    "    user=User(name=\"alice@example.com\"),\n",
    "    ...\n",
    ")\n",
    "```\n",
    "\n",
    "But when it serializes to dict, can you convert it back from dict? like this::\n",
    "\n",
    "```\n",
    "order_data = {..., \"user\": {\"name\": \"alice@example.com\"}, ...}\n",
    "order = Order(**order_data)\n",
    "```\n",
    "\n",
    "**Conclusion**\n",
    "\n",
    "- YES, it can. pydantic automatically add \"converter\" function based on type hint. In attrs, you have to manually specify converter."
   ],
   "metadata": {
    "collapsed": false,
    "pycharm": {
     "name": "#%% md\n"
    }
   }
  },
  {
   "cell_type": "code",
   "execution_count": 3,
   "outputs": [],
   "source": [
    "class User(BaseModel):\n",
    "    email: str\n",
    "\n",
    "\n",
    "class Item(BaseModel):\n",
    "    name: str\n",
    "    quantity: int\n",
    "\n",
    "\n",
    "class Order(BaseModel):\n",
    "    id: int\n",
    "    user: User\n",
    "    items: T.List[Item]"
   ],
   "metadata": {
    "collapsed": false,
    "pycharm": {
     "name": "#%%\n"
    }
   }
  },
  {
   "cell_type": "code",
   "execution_count": 6,
   "outputs": [
    {
     "data": {
      "text/plain": "Order(id=1, user=User(email='alice@example.com'), items=[Item(name='apple', quantity=3), Item(name='Banana', quantity=6)])"
     },
     "execution_count": 6,
     "metadata": {},
     "output_type": "execute_result"
    }
   ],
   "source": [
    "order = Order(\n",
    "    id=1,\n",
    "    user=User(email=\"alice@example.com\"),\n",
    "    items=[Item(name=\"apple\", quantity=3), Item(name=\"Banana\", quantity=6)],\n",
    ")\n",
    "order"
   ],
   "metadata": {
    "collapsed": false,
    "pycharm": {
     "name": "#%%\n"
    }
   }
  },
  {
   "cell_type": "code",
   "execution_count": 8,
   "outputs": [
    {
     "data": {
      "text/plain": "{'id': 1,\n 'user': {'email': 'alice@example.com'},\n 'items': [{'name': 'apple', 'quantity': 3},\n  {'name': 'Banana', 'quantity': 6}]}"
     },
     "execution_count": 8,
     "metadata": {},
     "output_type": "execute_result"
    }
   ],
   "source": [
    "order_data = order.dict()\n",
    "order_data"
   ],
   "metadata": {
    "collapsed": false,
    "pycharm": {
     "name": "#%%\n"
    }
   }
  },
  {
   "cell_type": "code",
   "execution_count": 9,
   "outputs": [
    {
     "data": {
      "text/plain": "Order(id=1, user=User(email='alice@example.com'), items=[Item(name='apple', quantity=3), Item(name='Banana', quantity=6)])"
     },
     "execution_count": 9,
     "metadata": {},
     "output_type": "execute_result"
    }
   ],
   "source": [
    "order1 = Order(**order_data)\n",
    "order1"
   ],
   "metadata": {
    "collapsed": false,
    "pycharm": {
     "name": "#%%\n"
    }
   }
  },
  {
   "cell_type": "markdown",
   "source": [
    "## Validator is also Converter\n",
    "\n",
    "在 attrs 中, [对象的初始化的步骤](https://www.attrs.org/en/stable/init.html#order-of-execution) 是:\n",
    "\n",
    "- ``__attrs_pre_init__`` hook (if present on current class)\n",
    "- For each attribute, in the order it was declared:\n",
    "    - default factory\n",
    "    - converter\n",
    "    - all validators\n",
    "- ``__attrs_post_init__`` hook (if present on current class)\n",
    "\n",
    "也就是说 converter 是单独的一个步骤, 并且发生在 validators 之前.\n",
    "\n",
    "而在 pydantic 中 validator 本身就具备了 converter 的功能, 而且你可以自行定义 converter 是在 validator 之前还是之后."
   ],
   "metadata": {
    "collapsed": false,
    "pycharm": {
     "name": "#%% md\n"
    }
   }
  },
  {
   "cell_type": "code",
   "execution_count": 22,
   "outputs": [
    {
     "name": "stdout",
     "output_type": "stream",
     "text": [
      "id=1 user=User(email='alice@example.com') items=[Item(name='apple', quantity=3), Item(name='Banana', quantity=6)]\n",
      "{'id': 1, 'user': {'email': 'alice@example.com'}, 'items': [{'name': 'apple', 'quantity': 3}, {'name': 'Banana', 'quantity': 6}]}\n",
      "id=1 user=User(email='alice@example.com') items=[Item(name='apple', quantity=3), Item(name='Banana', quantity=6)]\n"
     ]
    }
   ],
   "source": [
    "class User(BaseModel):\n",
    "    email: str\n",
    "\n",
    "    @validator(\"email\")\n",
    "    def check_email(cls, v):\n",
    "        if \"@\" not in v:\n",
    "            raise ValueError(f\"there's no @ in email {v!r}!\")\n",
    "        if not v.endswith(\".com\"):\n",
    "            v = v + \".com\"\n",
    "        return v\n",
    "\n",
    "\n",
    "class Item(BaseModel):\n",
    "    name: str\n",
    "    quantity: int\n",
    "\n",
    "\n",
    "class Order(BaseModel):\n",
    "    id: int\n",
    "    user: User\n",
    "    items: T.List[Item]\n",
    "\n",
    "\n",
    "order = Order(\n",
    "    id=1,\n",
    "    user=User(email=\"alice@example\"),\n",
    "    items=[Item(name=\"apple\", quantity=3), Item(name=\"Banana\", quantity=6)],\n",
    ")\n",
    "print(order)\n",
    "\n",
    "order_data = order.dict()\n",
    "print(order_data)\n",
    "\n",
    "order1 = Order(**order_data)\n",
    "print(order1)"
   ],
   "metadata": {
    "collapsed": false,
    "pycharm": {
     "name": "#%%\n"
    }
   }
  },
  {
   "cell_type": "code",
   "execution_count": 29,
   "outputs": [
    {
     "data": {
      "text/plain": "{'_id': 'doc_1'}"
     },
     "execution_count": 29,
     "metadata": {},
     "output_type": "execute_result"
    }
   ],
   "source": [
    "class Document(BaseModel):\n",
    "    id: str = Field(alias=\"_id\")\n",
    "\n",
    "\n",
    "doc = Document(_id=\"doc_1\")\n",
    "doc.dict(by_alias=True)"
   ],
   "metadata": {
    "collapsed": false,
    "pycharm": {
     "name": "#%%\n"
    }
   }
  },
  {
   "cell_type": "code",
   "execution_count": 30,
   "outputs": [
    {
     "data": {
      "text/plain": "{'ID': 'doc_1'}"
     },
     "execution_count": 30,
     "metadata": {},
     "output_type": "execute_result"
    }
   ],
   "source": [
    "class Document(BaseModel):\n",
    "    ID: str = Field()\n",
    "\n",
    "\n",
    "doc = Document(ID=\"doc_1\")\n",
    "doc.dict()"
   ],
   "metadata": {
    "collapsed": false,
    "pycharm": {
     "name": "#%%\n"
    }
   }
  },
  {
   "cell_type": "markdown",
   "source": [
    "## Optional\n"
   ],
   "metadata": {
    "collapsed": false,
    "pycharm": {
     "name": "#%% md\n"
    }
   }
  },
  {
   "cell_type": "code",
   "execution_count": 33,
   "outputs": [],
   "source": [
    "class Data(BaseModel):\n",
    "    c1: T.Optional[int] = Field(default=None)\n",
    "    c2: int = Field()\n",
    "    c3: T.Optional[int] = Field(default=None)\n",
    "    c4: int = Field()"
   ],
   "metadata": {
    "collapsed": false,
    "pycharm": {
     "name": "#%%\n"
    }
   }
  },
  {
   "cell_type": "code",
   "execution_count": 34,
   "outputs": [
    {
     "data": {
      "text/plain": "Data(c1=None, c2=2, c3=None, c4=4)"
     },
     "execution_count": 34,
     "metadata": {},
     "output_type": "execute_result"
    }
   ],
   "source": [
    "data = Data(c2=2, c4=4)\n",
    "data"
   ],
   "metadata": {
    "collapsed": false,
    "pycharm": {
     "name": "#%%\n"
    }
   }
  },
  {
   "cell_type": "code",
   "execution_count": 36,
   "outputs": [
    {
     "data": {
      "text/plain": "{'c2': 2, 'c4': 4}"
     },
     "execution_count": 36,
     "metadata": {},
     "output_type": "execute_result"
    }
   ],
   "source": [
    "data.dict(exclude_none=True)"
   ],
   "metadata": {
    "collapsed": false,
    "pycharm": {
     "name": "#%%\n"
    }
   }
  },
  {
   "cell_type": "code",
   "execution_count": null,
   "outputs": [],
   "source": [],
   "metadata": {
    "collapsed": false,
    "pycharm": {
     "name": "#%%\n"
    }
   }
  }
 ],
 "metadata": {
  "kernelspec": {
   "display_name": "Python 3",
   "language": "python",
   "name": "python3"
  },
  "language_info": {
   "codemirror_mode": {
    "name": "ipython",
    "version": 2
   },
   "file_extension": ".py",
   "mimetype": "text/x-python",
   "name": "python",
   "nbconvert_exporter": "python",
   "pygments_lexer": "ipython2",
   "version": "2.7.6"
  }
 },
 "nbformat": 4,
 "nbformat_minor": 0
}
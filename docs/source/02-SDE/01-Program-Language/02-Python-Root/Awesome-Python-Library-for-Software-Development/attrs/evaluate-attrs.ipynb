{
 "cells": [
  {
   "cell_type": "code",
   "execution_count": 10,
   "outputs": [
    {
     "data": {
      "text/plain": "'22.1.0'"
     },
     "execution_count": 10,
     "metadata": {},
     "output_type": "execute_result"
    }
   ],
   "source": [
    "import typing as T\n",
    "import attrs\n",
    "\n",
    "attrs.__version__"
   ],
   "metadata": {
    "collapsed": false,
    "pycharm": {
     "name": "#%%\n"
    }
   }
  },
  {
   "cell_type": "markdown",
   "source": [
    "## PyCharm Support\n",
    "\n",
    "PyCharm 很早就支持基于 ``attr.s`` API 的自动补全, 但 ``attrs`` 是 2021 年之后的新 API, Pycharm 2022.3 中 ``attrs.define`` 还不被 PyCharm 所接受."
   ],
   "metadata": {
    "collapsed": false,
    "pycharm": {
     "name": "#%% md\n"
    }
   }
  },
  {
   "cell_type": "code",
   "execution_count": 3,
   "outputs": [
    {
     "ename": "TypeError",
     "evalue": "__init__() missing 1 required positional argument: 'id'",
     "output_type": "error",
     "traceback": [
      "\u001B[0;31m---------------------------------------------------------------------------\u001B[0m",
      "\u001B[0;31mTypeError\u001B[0m                                 Traceback (most recent call last)",
      "Input \u001B[0;32mIn [3]\u001B[0m, in \u001B[0;36m<cell line: 19>\u001B[0;34m()\u001B[0m\n\u001B[1;32m     15\u001B[0m     account: \u001B[38;5;28mstr\u001B[39m \u001B[38;5;241m=\u001B[39m attr\u001B[38;5;241m.\u001B[39mfield()\n\u001B[1;32m     18\u001B[0m \u001B[38;5;66;03m# move cursor in bracket and hit CMD + P to see hint\u001B[39;00m\n\u001B[0;32m---> 19\u001B[0m \u001B[43mBase\u001B[49m\u001B[43m(\u001B[49m\u001B[43m)\u001B[49m\n\u001B[1;32m     20\u001B[0m User()\n\u001B[1;32m     21\u001B[0m PaidUser(\u001B[38;5;28mid\u001B[39m\u001B[38;5;241m=\u001B[39m\u001B[38;5;124m\"\u001B[39m\u001B[38;5;124minvalid\u001B[39m\u001B[38;5;124m\"\u001B[39m, name\u001B[38;5;241m=\u001B[39m\u001B[38;5;124m\"\u001B[39m\u001B[38;5;124malice\u001B[39m\u001B[38;5;124m\"\u001B[39m, account\u001B[38;5;241m=\u001B[39m\u001B[38;5;124m\"\u001B[39m\u001B[38;5;124m1234\u001B[39m\u001B[38;5;124m\"\u001B[39m)\n",
      "\u001B[0;31mTypeError\u001B[0m: __init__() missing 1 required positional argument: 'id'"
     ]
    }
   ],
   "source": [
    "import attr\n",
    "\n",
    "\n",
    "@attr.s\n",
    "class Base:\n",
    "    id: int = attr.field()\n",
    "\n",
    "\n",
    "@attr.s\n",
    "class User(Base):\n",
    "    name: str = attr.field()\n",
    "\n",
    "\n",
    "@attr.s\n",
    "class PaidUser(User):\n",
    "    account: str = attr.field()\n",
    "\n",
    "\n",
    "# move cursor in bracket and hit CMD + P to see hint\n",
    "Base()\n",
    "User()\n",
    "PaidUser(id=\"invalid\", name=\"alice\", account=\"1234\")"
   ],
   "metadata": {
    "collapsed": false,
    "pycharm": {
     "name": "#%%\n"
    }
   }
  },
  {
   "cell_type": "code",
   "execution_count": 8,
   "outputs": [
    {
     "name": "stdout",
     "output_type": "stream",
     "text": [
      "User(_id=1, name='Alice')\n",
      "1\n"
     ]
    }
   ],
   "source": [
    "@attr.s\n",
    "class User:\n",
    "    _id: 1 = attr.ib()\n",
    "    name: str = attr.ib()\n",
    "\n",
    "\n",
    "user = User(id=1, name=\"Alice\")\n",
    "print(user)\n",
    "print(user._id)"
   ],
   "metadata": {
    "collapsed": false,
    "pycharm": {
     "name": "#%%\n"
    }
   }
  },
  {
   "cell_type": "code",
   "execution_count": 13,
   "outputs": [
    {
     "data": {
      "text/plain": "{'name': 'alice'}"
     },
     "execution_count": 13,
     "metadata": {},
     "output_type": "execute_result"
    }
   ],
   "source": [
    "@attr.s\n",
    "class Base:\n",
    "    _important_attr: T.List[str] = None\n",
    "\n",
    "    def to_dict(self) -> dict:\n",
    "        return {\n",
    "            k: v\n",
    "            for k, v in attr.asdict(self).items()\n",
    "            if k in self._important_attr\n",
    "        }\n",
    "\n",
    "\n",
    "@attr.s\n",
    "class Person(Base):\n",
    "    id: int = attr.ib()\n",
    "    name: str = attr.ib()\n",
    "\n",
    "    _important_attr = [\"name\"]\n",
    "\n",
    "\n",
    "person = Person(id=1, name=\"alice\")\n",
    "person.to_dict()"
   ],
   "metadata": {
    "collapsed": false,
    "pycharm": {
     "name": "#%%\n"
    }
   }
  },
  {
   "cell_type": "code",
   "execution_count": null,
   "outputs": [],
   "source": [],
   "metadata": {
    "collapsed": false,
    "pycharm": {
     "name": "#%%\n"
    }
   }
  }
 ],
 "metadata": {
  "kernelspec": {
   "display_name": "Python 3",
   "language": "python",
   "name": "python3"
  },
  "language_info": {
   "codemirror_mode": {
    "name": "ipython",
    "version": 2
   },
   "file_extension": ".py",
   "mimetype": "text/x-python",
   "name": "python",
   "nbconvert_exporter": "python",
   "pygments_lexer": "ipython2",
   "version": "2.7.6"
  }
 },
 "nbformat": 4,
 "nbformat_minor": 0
}
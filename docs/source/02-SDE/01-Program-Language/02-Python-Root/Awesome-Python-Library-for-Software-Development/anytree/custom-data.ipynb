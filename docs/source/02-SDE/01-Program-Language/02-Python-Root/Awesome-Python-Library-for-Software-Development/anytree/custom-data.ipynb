{
 "cells": [
  {
   "cell_type": "markdown",
   "source": [
    "# Custom Data\n",
    "\n",
    "[anytree](https://anytree.readthedocs.io/en/2.8.0/index.html)"
   ],
   "metadata": {
    "collapsed": false,
    "pycharm": {
     "name": "#%% md\n"
    }
   }
  },
  {
   "cell_type": "code",
   "execution_count": 4,
   "outputs": [],
   "source": [
    "import dataclasses\n",
    "from anytree import (\n",
    "    Node,\n",
    "    RenderTree,\n",
    ")"
   ],
   "metadata": {
    "collapsed": false,
    "pycharm": {
     "name": "#%%\n"
    }
   }
  },
  {
   "cell_type": "code",
   "execution_count": 5,
   "outputs": [],
   "source": [
    "@dataclasses.dataclass\n",
    "class NodeMixin:\n",
    "    def __str__(self):\n",
    "        return self.name\n",
    "\n",
    "@dataclasses.dataclass\n",
    "class Department(NodeMixin):\n",
    "    name: str = dataclasses.field()\n",
    "\n",
    "@dataclasses.dataclass\n",
    "class Group(NodeMixin):\n",
    "    name: str = dataclasses.field()"
   ],
   "metadata": {
    "collapsed": false,
    "pycharm": {
     "name": "#%%\n"
    }
   }
  },
  {
   "cell_type": "code",
   "execution_count": 6,
   "outputs": [],
   "source": [
    "root = Node(Department(name=\"root\"))\n",
    "\n",
    "hr = Node(Department(name=\"hr\"), parent=root)\n",
    "hr_planning = Node(Group(name=\"planning\"), parent=hr)\n",
    "hr_recruitment = Node(Group(name=\"recruitment\"), parent=hr)\n",
    "\n",
    "IT = Node(Department(name=\"IT\"), parent=root)\n",
    "IT_dev = Node(Group(name=\"dev\"), parent=IT)\n",
    "IT_ops = Node(Group(name=\"ops\"), parent=IT)"
   ],
   "metadata": {
    "collapsed": false,
    "pycharm": {
     "name": "#%%\n"
    }
   }
  },
  {
   "cell_type": "code",
   "execution_count": 8,
   "outputs": [
    {
     "name": "stdout",
     "output_type": "stream",
     "text": [
      "Node('/root')\n",
      "├── Node('/root/hr')\n",
      "│   ├── Node('/root/hr/planning')\n",
      "│   └── Node('/root/hr/recruitment')\n",
      "└── Node('/root/IT')\n",
      "    ├── Node('/root/IT/dev')\n",
      "    └── Node('/root/IT/ops')\n"
     ]
    }
   ],
   "source": [
    "print(RenderTree(root))"
   ],
   "metadata": {
    "collapsed": false,
    "pycharm": {
     "name": "#%%\n"
    }
   }
  },
  {
   "cell_type": "code",
   "execution_count": 14,
   "outputs": [
    {
     "name": "stdout",
     "output_type": "stream",
     "text": [
      "Node('/root')\n",
      "Node('/root/hr')\n",
      "Node('/root/hr/planning')\n",
      "Node('/root/hr/recruitment')\n",
      "Node('/root/IT')\n",
      "Node('/root/IT/dev')\n",
      "Node('/root/IT/ops')\n"
     ]
    }
   ],
   "source": [
    "# Depth first search walk through\n",
    "for row in RenderTree(root):\n",
    "    print(row.node)"
   ],
   "metadata": {
    "collapsed": false,
    "pycharm": {
     "name": "#%%\n"
    }
   }
  },
  {
   "cell_type": "code",
   "execution_count": 20,
   "outputs": [
    {
     "data": {
      "text/plain": "Department(name='root')"
     },
     "execution_count": 20,
     "metadata": {},
     "output_type": "execute_result"
    }
   ],
   "source": [
    "root.name"
   ],
   "metadata": {
    "collapsed": false,
    "pycharm": {
     "name": "#%%\n"
    }
   }
  },
  {
   "cell_type": "code",
   "execution_count": 21,
   "outputs": [
    {
     "data": {
      "text/plain": "__main__.Department"
     },
     "execution_count": 21,
     "metadata": {},
     "output_type": "execute_result"
    }
   ],
   "source": [
    "type(root.name)"
   ],
   "metadata": {
    "collapsed": false,
    "pycharm": {
     "name": "#%%\n"
    }
   }
  },
  {
   "cell_type": "code",
   "execution_count": 15,
   "outputs": [
    {
     "data": {
      "text/plain": "(Node('/root/hr'), Node('/root/IT'))"
     },
     "execution_count": 15,
     "metadata": {},
     "output_type": "execute_result"
    }
   ],
   "source": [
    "root.children"
   ],
   "metadata": {
    "collapsed": false,
    "pycharm": {
     "name": "#%%\n"
    }
   }
  },
  {
   "cell_type": "code",
   "execution_count": 16,
   "outputs": [
    {
     "data": {
      "text/plain": "Node('/root')"
     },
     "execution_count": 16,
     "metadata": {},
     "output_type": "execute_result"
    }
   ],
   "source": [
    "hr.parent"
   ],
   "metadata": {
    "collapsed": false,
    "pycharm": {
     "name": "#%%\n"
    }
   }
  },
  {
   "cell_type": "code",
   "execution_count": 17,
   "outputs": [
    {
     "data": {
      "text/plain": "(Node('/root/hr/planning'), Node('/root/hr/recruitment'))"
     },
     "execution_count": 17,
     "metadata": {},
     "output_type": "execute_result"
    }
   ],
   "source": [
    "hr.children"
   ],
   "metadata": {
    "collapsed": false,
    "pycharm": {
     "name": "#%%\n"
    }
   }
  },
  {
   "cell_type": "code",
   "execution_count": 18,
   "outputs": [
    {
     "data": {
      "text/plain": "Node('/root/hr')"
     },
     "execution_count": 18,
     "metadata": {},
     "output_type": "execute_result"
    }
   ],
   "source": [
    "hr_recruitment.parent"
   ],
   "metadata": {
    "collapsed": false,
    "pycharm": {
     "name": "#%%\n"
    }
   }
  },
  {
   "cell_type": "code",
   "execution_count": null,
   "outputs": [],
   "source": [],
   "metadata": {
    "collapsed": false,
    "pycharm": {
     "name": "#%%\n"
    }
   }
  }
 ],
 "metadata": {
  "kernelspec": {
   "display_name": "Python 3",
   "language": "python",
   "name": "python3"
  },
  "language_info": {
   "codemirror_mode": {
    "name": "ipython",
    "version": 2
   },
   "file_extension": ".py",
   "mimetype": "text/x-python",
   "name": "python",
   "nbconvert_exporter": "python",
   "pygments_lexer": "ipython2",
   "version": "2.7.6"
  }
 },
 "nbformat": 4,
 "nbformat_minor": 0
}